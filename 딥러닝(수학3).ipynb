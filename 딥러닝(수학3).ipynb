{
 "cells": [
  {
   "cell_type": "markdown",
   "id": "585ad4d0-7b87-4d15-87ac-7e01fec68fcd",
   "metadata": {},
   "source": [
    "# 가우스 소거법 (Gaussian Elimination)"
   ]
  },
  {
   "cell_type": "markdown",
   "id": "f839356c-ff93-4c67-a526-456d13f0cdde",
   "metadata": {},
   "source": [
    "가우스 소거법은 행렬을 행 간의 기본 연산(row operations)을 통해 행 사다리꼴(row echelon form) 또는 축약 행 사다리꼴(reduced row echelon form)로 변환하는 방법이다. \n"
   ]
  },
  {
   "cell_type": "code",
   "execution_count": 2,
   "id": "fe4ca79e-d94f-47f1-bb6c-ac0335596664",
   "metadata": {},
   "outputs": [
    {
     "name": "stdout",
     "output_type": "stream",
     "text": [
      "Step 1:\n",
      "[[ 1.  2.  3.]\n",
      " [ 4.  5.  6.]\n",
      " [ 7.  8. 10.]]\n",
      "\n",
      "\n",
      "Step 2:\n",
      "[[  1.   2.   3.]\n",
      " [  0.  -3.  -6.]\n",
      " [  0.  -6. -11.]]\n",
      "\n",
      "\n",
      "Step 3:\n",
      "[[ 1.  2.  3.]\n",
      " [-0.  1.  2.]\n",
      " [ 0.  0.  1.]]\n",
      "\n",
      "\n",
      "Final Row Echelon Form:\n",
      "[[ 1.  2.  3.]\n",
      " [-0.  1.  2.]\n",
      " [ 0.  0.  1.]]\n"
     ]
    }
   ],
   "source": [
    "import numpy as np\n",
    "\n",
    "def gaussian_elimination_debug(matrix):\n",
    "    rows, cols = matrix.shape\n",
    "    for i in range(rows):\n",
    "        # Print matrix state at each step\n",
    "        print(f\"Step {i + 1}:\")\n",
    "        print(matrix)\n",
    "        print(\"\\n\")\n",
    "        \n",
    "        # Make the pivot 1\n",
    "        pivot = matrix[i, i]\n",
    "        if pivot != 0:\n",
    "            matrix[i] = matrix[i] / pivot\n",
    "        \n",
    "        # Eliminate elements below the pivot\n",
    "        for j in range(i + 1, rows):\n",
    "            multiplier = matrix[j, i]\n",
    "            matrix[j] = matrix[j] - multiplier * matrix[i]\n",
    "    \n",
    "    print(\"Final Row Echelon Form:\")\n",
    "    print(matrix)\n",
    "    return matrix\n",
    "\n",
    "# Example matrix\n",
    "A = np.array([\n",
    "    [1, 2, 3],\n",
    "    [4, 5, 6],\n",
    "    [7, 8, 10]\n",
    "], dtype=float)\n",
    "\n",
    "row_echelon_form_debug = gaussian_elimination_debug(A.copy())\n"
   ]
  },
  {
   "cell_type": "code",
   "execution_count": null,
   "id": "a9ff09d5-6069-4b20-ae27-d5f9062bde73",
   "metadata": {},
   "outputs": [],
   "source": []
  }
 ],
 "metadata": {
  "kernelspec": {
   "display_name": "Python 3 (ipykernel)",
   "language": "python",
   "name": "python3"
  },
  "language_info": {
   "codemirror_mode": {
    "name": "ipython",
    "version": 3
   },
   "file_extension": ".py",
   "mimetype": "text/x-python",
   "name": "python",
   "nbconvert_exporter": "python",
   "pygments_lexer": "ipython3",
   "version": "3.9.11"
  }
 },
 "nbformat": 4,
 "nbformat_minor": 5
}
