{
 "cells": [
  {
   "cell_type": "markdown",
   "id": "3a194a49",
   "metadata": {},
   "source": [
    "# 경사하강법 소개"
   ]
  },
  {
   "cell_type": "markdown",
   "id": "e99ef958",
   "metadata": {},
   "source": [
    "## 경사하강법?"
   ]
  },
  {
   "cell_type": "code",
   "execution_count": null,
   "id": "4e34c4cb",
   "metadata": {},
   "outputs": [],
   "source": [
    "# 경사하강법은 최적화 알고리즘의 한 종류로, 주로 기계 학습과 딥 러닝에서 모델 학습을 위해 사용됩니다. 주된 목표는 비용 함수를 최소화하는 방향으로 가중치를 업데이트하는 것입니다. \n",
    "# 여러 가지 변형된 경사하강법 알고리즘이 있으며, 각각의 특징과 장단점이 있습니다. "
   ]
  },
  {
   "cell_type": "markdown",
   "id": "58f6a9fd",
   "metadata": {},
   "source": [
    "## 종류"
   ]
  },
  {
   "cell_type": "code",
   "execution_count": null,
   "id": "5fd0d2a0",
   "metadata": {},
   "outputs": [],
   "source": [
    "# 1. 배치 경사하강법 (Batch Gradient Descent)\n",
    "# 사례: 10,000개의 데이터가 있는 경우, 배치 경사하강법은 한 번의 업데이트를 위해 모든 데이터를 한 번에 사용합니다. \n",
    "# 즉, 매번 10,000개의 데이터를 평균해서 하나의 경사 값으로 가중치를 업데이트합니다.\n",
    "# 예시 결과: 안정적으로 수렴하지만, 데이터가 많을 경우 메모리 사용량이 큽니다. 전체 데이터를 사용해 업데이트하므로 매우 정확한 경사로 가중치가 천천히 조정되며, 비용 함수의 감소가 부드럽게 이루어집니다.\n"
   ]
  },
  {
   "cell_type": "code",
   "execution_count": null,
   "id": "21a56e30",
   "metadata": {},
   "outputs": [],
   "source": [
    "# 2. 확률적 경사하강법 (Stochastic Gradient Descent, SGD)\n",
    "# 사례: 같은 10,000개의 데이터에서 확률적 경사하강법은 매 업데이트마다 하나의 데이터를 선택하여 경사를 계산합니다.\n",
    "# 예시 결과: 수렴이 매우 빠르지만, 각 데이터에 따라 비용 함수가 불안정하게 진동합니다. \n",
    "# 예를 들어 첫 번째 데이터가 x = 1이라면, y = 3*1 + 4 = 7을 목표로 경사 계산을 진행하며 작은 범위 내에서 계속 진동합니다. \n",
    "# 하지만 큰 데이터에서 빠르게 수렴하는 이점이 있습니다."
   ]
  },
  {
   "cell_type": "code",
   "execution_count": null,
   "id": "70ea84a8",
   "metadata": {},
   "outputs": [],
   "source": [
    "# 3. 미니 배치 경사하강법 (Mini-Batch Gradient Descent)\n",
    "# 사례: 10,000개의 데이터에서 100개의 미니 배치를 사용한다고 가정합니다. \n",
    "# 미니 배치 당 100개의 데이터를 사용하여 경사를 계산합니다.\n",
    "# 예시 결과: 배치 경사하강법보다 빠르게 수렴하며, SGD보다 안정적입니다. \n",
    "# 예를 들어, x값이 1 ~ 100인 배치를 사용해 해당 배치의 평균 경사를 계산하고 가중치를 업데이트합니다. \n",
    "# 그러므로 비용 함수가 진동하지 않고 일정하게 감소하는 것을 확인할 수 있습니다. "
   ]
  },
  {
   "cell_type": "code",
   "execution_count": null,
   "id": "788c34ea",
   "metadata": {},
   "outputs": [],
   "source": [
    "# 4. 모멘텀을 사용한 경사하강법 (Gradient Descent with Momentum)\n",
    "# 사례: SGD와 유사하지만, 이전 경사 업데이트 방향에 ‘모멘텀’을 적용하여 더욱 빠르고 매끄럽게 수렴합니다.\n",
    "# 예시 결과: 예를 들어 데이터가 어느 한 방향으로 계속 경사진 경우, SGD는 진동할 가능성이 크지만 모멘텀을 사용하면 진동을 줄이며 동일한 방향으로 빨리 수렴합니다. 즉, x값이 클수록 경사 값이 커지는 경향이 있는 데이터를 학습할 때 매우 유리합니다.\n"
   ]
  },
  {
   "cell_type": "code",
   "execution_count": null,
   "id": "35a0f346",
   "metadata": {},
   "outputs": [],
   "source": [
    "# 5. AdaGrad (Adaptive Gradient Descent)\n",
    "# 사례: 희소한 특징(자주 발생하지 않는 데이터 특징)을 포함한 데이터 학습에 사용됩니다.\n",
    "# 예시 결과: AdaGrad는 드물게 발생하는 데이터 포인트에 대해 학습률을 높여 빠르게 학습합니다. 예를 들어, 데이터 중 일부가 x = 1000에서 집중되는 특징이 있다면, AdaGrad는 그 특징을 빠르게 반영하여 더 자주 업데이트합니다. 그러나 학습이 진행될수록 학습률이 감소해 추가 학습이 어려워질 수 있습니다.\n"
   ]
  },
  {
   "cell_type": "code",
   "execution_count": null,
   "id": "c4943be7",
   "metadata": {},
   "outputs": [],
   "source": [
    "# 6. RMSProp (Root Mean Square Propagation)\n",
    "# 사례: 학습률 감소 문제를 개선한 AdaGrad의 변형입니다.\n",
    "# 예시 결과: 예를 들어, 비용 함수가 곡선형일 때 RMSProp은 빠르고 안정적으로 경사를 타고 내려갑니다. 지수 가중 이동 평균으로 학습률을 조정하여 x와 같은 변수의 값이 점차 커질 때도 학습이 잘 진행됩니다.\n"
   ]
  },
  {
   "cell_type": "code",
   "execution_count": null,
   "id": "ed9e442c",
   "metadata": {},
   "outputs": [],
   "source": [
    "# 7. Adam (Adaptive Moment Estimation)\n",
    "# 사례: 모멘텀과 RMSProp을 결합하여 학습률과 가속도를 모두 고려한 최적화 방법입니다.\n",
    "# 예시 결과: 일반적인 딥러닝 모델에서 자주 사용되며, 대규모 데이터에서 성능이 우수합니다. \n",
    "# 예를 들어 x값이 10,000까지의 범위를 가지는 데이터에서 Adam을 사용하면, 빠르게 경사를 따라가며 안정적으로 비용 함수를 줄입니다."
   ]
  },
  {
   "cell_type": "markdown",
   "id": "bdaf7926",
   "metadata": {},
   "source": [
    "# 실습"
   ]
  },
  {
   "cell_type": "markdown",
   "id": "c6998a6d",
   "metadata": {},
   "source": [
    "선형 회귀 문제 𝑦=3𝑥+4 학습시키는 예제"
   ]
  },
  {
   "cell_type": "code",
   "execution_count": null,
   "id": "41962dd2",
   "metadata": {},
   "outputs": [],
   "source": [
    "# 코드 설명\n",
    "# 데이터 생성: y = 3x + 4에 약간의 노이즈를 더해 X와 y 데이터를 생성합니다.\n",
    "# 배치 경사하강법: 전체 데이터를 한 번에 사용하여 경사를 계산합니다.\n",
    "# 확률적 경사하강법: 각 샘플을 사용하여 경사를 계산하고 매번 가중치를 업데이트합니다.\n",
    "# 미니 배치 경사하강법: 데이터를 미니 배치 크기 = 20으로 나눠 경사를 계산하고 업데이트합니다.\n",
    "# 결과 시각화: 각 방법의 비용 함수 감소 추이를 그래프로 비교합니다."
   ]
  },
  {
   "cell_type": "markdown",
   "id": "a6a9ac0b",
   "metadata": {},
   "source": [
    "## 라이브러리"
   ]
  },
  {
   "cell_type": "code",
   "execution_count": null,
   "id": "14644e85",
   "metadata": {},
   "outputs": [],
   "source": [
    "import numpy as np\n",
    "import matplotlib.pyplot as plt"
   ]
  },
  {
   "cell_type": "markdown",
   "id": "9316638a",
   "metadata": {},
   "source": [
    "## 데이터 생성"
   ]
  },
  {
   "cell_type": "code",
   "execution_count": null,
   "id": "8d7900c1",
   "metadata": {},
   "outputs": [],
   "source": [
    "# 코드 설명\n",
    "\n",
    "# np.random.seed(0)\n",
    "# 설명: 난수 생성의 시드를 설정하여 코드가 실행될 때마다 동일한 난수를 생성하도록 합니다. \n",
    "# np.random.seed(0)으로 설정하면, 이후 생성되는 난수가 항상 동일하게 고정됩니다. 이렇게 하면 결과 재현성이 높아집니다.\n",
    "\n",
    "# X = 2 * np.random.rand(100, 1)\n",
    "# 설명: X는 입력 변수로, np.random.rand(100, 1)을 통해 0에서 1 사이의 난수를 100 x 1 크기로 생성합니다. \n",
    "# 2 * np.random.rand(100, 1)로 난수 값의 범위를 0에서 2로 확장합니다.\n",
    "# 결과: X는 100개의 데이터 포인트로 구성된 열 벡터이며, 각 값은 0에서 2 사이의 실수입니다.\n",
    "\n",
    "# y = 3 * X + 4 + np.random.randn(100, 1) * 0.5\n",
    "# 설명: y는 출력 변수로, y = 3x + 4의 선형 관계를 따릅니다. \n",
    "# 이 식에 np.random.randn(100, 1) * 0.5로 작은 노이즈를 추가합니다.\n",
    "# np.random.randn(100, 1)은 평균이 0이고 표준편차가 1인 정규분포에서 100 x 1 크기의 난수를 생성합니다.\n",
    "# * 0.5는 노이즈의 크기를 줄이기 위해 0.5를 곱해 노이즈를 줄입니다.\n",
    "# 결과: y는 y = 3x + 4에서 약간 벗어난 값을 가지며, y의 값이 완벽한 선형 형태가 아니라 약간의 변동이 있는 데이터를 만듭니다."
   ]
  },
  {
   "cell_type": "code",
   "execution_count": null,
   "id": "d14836f0",
   "metadata": {},
   "outputs": [],
   "source": [
    "# 데이터 생성 (y = 3x + 4에 약간의 노이즈 추가)\n",
    "np.random.seed(0)\n",
    "X = 2 * np.random.rand(100, 1)\n",
    "y = 3 * X + 4 + np.random.randn(100, 1) * 0.5\n"
   ]
  },
  {
   "cell_type": "markdown",
   "id": "a5e3e6b7",
   "metadata": {},
   "source": [
    "## 최적화 : 학습률, 반복횟수"
   ]
  },
  {
   "cell_type": "code",
   "execution_count": null,
   "id": "f04570c0",
   "metadata": {},
   "outputs": [],
   "source": [
    "# 코드 설명\n",
    "\n",
    "# learning_rate = 0.1\n",
    "# 설명: 학습률(learning_rate)은 경사하강법에서 가중치를 업데이트하는 속도를 조정하는 중요한 하이퍼파라미터입니다.\n",
    "# 학습률이 높으면 가중치가 큰 폭으로 조정되어 빠르게 수렴할 수 있지만, 최적값을 지나치거나 발산할 가능성이 있습니다.\n",
    "# 학습률이 낮으면 가중치가 작은 폭으로 조정되어 안정적으로 수렴할 가능성이 크지만, 시간이 오래 걸릴 수 있습니다.\n",
    "\n",
    "# n_iterations = 50\n",
    "# 설명: 반복 횟수(n_iterations)는 경사하강법 알고리즘이 전체 학습 과정에서 가중치를 업데이트하는 횟수를 나타냅니다.\n",
    "# 경사하강법은 한 번의 반복에서 가중치를 약간씩 조정하며, 반복 횟수가 많아질수록 비용 함수가 줄어들어 최적의 가중치를 찾을 가능성이 커집니다."
   ]
  },
  {
   "cell_type": "code",
   "execution_count": null,
   "id": "14afcc2b",
   "metadata": {},
   "outputs": [],
   "source": [
    "# 학습률과 반복 횟수\n",
    "learning_rate = 0.1\n",
    "n_iterations = 50\n"
   ]
  },
  {
   "cell_type": "markdown",
   "id": "5bf8fe3b",
   "metadata": {},
   "source": [
    "## 비용함수 초기화"
   ]
  },
  {
   "cell_type": "code",
   "execution_count": null,
   "id": "48f15b02",
   "metadata": {},
   "outputs": [],
   "source": [
    "# 비용 함수 값을 기록하기 위한 리스트를 초기화하는 부분입니다. 각 경사하강법(배치, 확률적, 미니 배치)에 대해 비용 함수 값이 별도로 기록됩니다. \n",
    "# 비용 함수 값은 학습이 진행될수록 감소해야 하며, 이를 통해 각 경사하강법의 수렴 속도를 비교할 수 있습니다."
   ]
  },
  {
   "cell_type": "code",
   "execution_count": null,
   "id": "918a3be3",
   "metadata": {},
   "outputs": [],
   "source": [
    "# cost_history_batch: 배치 경사하강법의 비용 함수 값(또는 손실 함수 값)을 기록하는 리스트입니다. \n",
    "#     배치 경사하강법은 전체 데이터셋을 사용해 매 반복마다 비용 함수를 계산하기 때문에, 리스트에는 각 반복에서의 비용 함수 값이 저장됩니다.\n",
    "\n",
    "# cost_history_sgd: **확률적 경사하강법(SGD)**의 비용 함수 값을 기록하는 리스트입니다. \n",
    "#     확률적 경사하강법은 매번 샘플 하나에 대해 가중치를 업데이트하므로, 전체 반복이 끝난 후 비용 함수 값이 저장됩니다.\n",
    "\n",
    "# cost_history_mini_batch: 미니 배치 경사하강법의 비용 함수 값을 기록하는 리스트입니다. \n",
    "#     미니 배치 경사하강법은 데이터를 작은 배치로 나눠 경사를 계산하고 업데이트하므로, 각 반복에서 계산된 비용 함수 값이 이 리스트에 저장됩니다."
   ]
  },
  {
   "cell_type": "code",
   "execution_count": null,
   "id": "395b4b78",
   "metadata": {},
   "outputs": [],
   "source": [
    "# 비용 함수 기록을 위한 리스트\n",
    "cost_history_batch = []\n",
    "cost_history_sgd = []\n",
    "cost_history_mini_batch = []\n"
   ]
  },
  {
   "cell_type": "markdown",
   "id": "49f5c976",
   "metadata": {},
   "source": [
    "## 모델 파라미터 초기화"
   ]
  },
  {
   "cell_type": "code",
   "execution_count": null,
   "id": "a2737956",
   "metadata": {},
   "outputs": [],
   "source": [
    "# 설명: theta_batch, theta_sgd, theta_mini_batch는 각각 배치 경사하강법, 확률적 경사하강법(SGD), 미니 배치 경사하강법에서 사용할 가중치 벡터(theta)를 초기화한 것입니다.\n",
    "# np.random.randn(2, 1)은 표준 정규분포를 따르는 난수를 2x1 형태의 배열로 생성합니다.\n",
    "# 각 theta는 [절편, 기울기]로 구성된 두 개의 요소를 가지며, 초기에는 임의의 작은 값으로 설정되어 점진적으로 최적의 값으로 업데이트됩니다.\n",
    "# 목적: 경사하강법에서는 모델 학습 시작 시 가중치를 랜덤한 값으로 설정하고, 학습 과정에서 이를 최적화해 나갑니다."
   ]
  },
  {
   "cell_type": "code",
   "execution_count": null,
   "id": "78c91e38",
   "metadata": {},
   "outputs": [],
   "source": [
    "# 초기화\n",
    "theta_batch = np.random.randn(2, 1)  # 배치 경사하강법용\n",
    "theta_sgd = np.random.randn(2, 1)    # SGD용\n",
    "theta_mini_batch = np.random.randn(2, 1)  # 미니 배치용\n"
   ]
  },
  {
   "cell_type": "markdown",
   "id": "84c142cc",
   "metadata": {},
   "source": [
    "## 절편을 포함하기 위한 데이터 준비"
   ]
  },
  {
   "cell_type": "code",
   "execution_count": null,
   "id": "33fb8728",
   "metadata": {},
   "outputs": [],
   "source": [
    "# X_b = np.c_[np.ones((100, 1)), X]\n",
    "\n",
    "# 설명: X에 절편 항을 추가하여 새로운 데이터 행렬 X_b를 생성합니다.\n",
    "# np.ones((100, 1))은 100개의 샘플에 대해 각 값이 1인 열 벡터를 생성합니다.\n",
    "# np.c_는 배열을 좌우로 연결하는 명령어로, X의 각 샘플 앞에 1을 추가하여 [1, x] 형식으로 데이터 포인트를 구성합니다.\n",
    "# 목적: 선형 회귀 모델에서는 절편을 포함하는 형태의 식을 사용하므로, 절편을 포함한 데이터를 만듭니다. 이제 theta의 첫 번째 요소는 절편을 담당하게 됩니다."
   ]
  },
  {
   "cell_type": "code",
   "execution_count": null,
   "id": "f93c269e",
   "metadata": {},
   "outputs": [],
   "source": [
    "# 데이터에 x0 = 1 추가 (절편을 포함하기 위함)\n",
    "X_b = np.c_[np.ones((100, 1)), X]"
   ]
  },
  {
   "cell_type": "markdown",
   "id": "23ee968a",
   "metadata": {},
   "source": [
    "## 비용 함수 정의"
   ]
  },
  {
   "cell_type": "code",
   "execution_count": null,
   "id": "39edd1c0",
   "metadata": {},
   "outputs": [],
   "source": [
    "# def compute_cost(X, y, theta):\n",
    "#     m = len(y)\n",
    "#     return (1 / (2 * m)) * np.sum((X.dot(theta) - y) ** 2)\n",
    "# 설명: compute_cost는 선형 회귀 모델의 **비용 함수(손실 함수)**를 계산하는 함수입니다.\n",
    "# X.dot(theta) - y는 예측값과 실제값 간의 차이를 계산합니다.\n",
    "# (X.dot(theta) - y) ** 2는 각 차이를 제곱하여 오차를 양수로 만듭니다.\n",
    "# np.sum(...)으로 모든 오차를 더하고, 이를 데이터 개수 m으로 나눈 뒤 1/2을 곱하여 평균 제곱 오차(MSE)를 구합니다.\n",
    "# 목적: 비용 함수는 모델이 얼마나 잘 예측하고 있는지를 나타내며, 경사하강법은 이 비용 함수를 최소화하도록 가중치를 조정합니다."
   ]
  },
  {
   "cell_type": "code",
   "execution_count": null,
   "id": "6214e649",
   "metadata": {},
   "outputs": [],
   "source": [
    "# 비용 함수 정의\n",
    "def compute_cost(X, y, theta):\n",
    "    m = len(y)\n",
    "    return (1 / (2 * m)) * np.sum((X.dot(theta) - y) ** 2)"
   ]
  },
  {
   "cell_type": "markdown",
   "id": "5d5818b2",
   "metadata": {},
   "source": [
    "# 배치 경사하강법 (Batch Gradient Descent)"
   ]
  },
  {
   "cell_type": "code",
   "execution_count": null,
   "id": "1e8274e4",
   "metadata": {},
   "outputs": [],
   "source": [
    "# for iteration in range(n_iterations):\n",
    "# 설명: n_iterations만큼 반복하여 배치 경사하강법을 수행합니다. 각 반복에서 가중치가 조정되며, 최적의 값에 가까워지도록 점진적으로 업데이트됩니다.\n",
    "\n",
    "# gradients = 1 / len(X_b) * X_b.T.dot(X_b.dot(theta_batch) - y)\n",
    "# 설명: 비용 함수의 **경사(gradient)**를 계산하는 부분입니다.\n",
    "# X_b.dot(theta_batch) - y는 예측값과 실제값의 차이로, 이를 통해 오차를 계산합니다.\n",
    "# X_b.T.dot(...)는 오차와 입력 X_b의 전치행렬(X_b.T)을 내적하여 각 가중치(theta_batch)에 대한 편미분 값을 구합니다.\n",
    "# 1 / len(X_b)로 평균을 내어 경사를 계산합니다.\n",
    "# 목적: 비용 함수를 최소화하는 방향으로 가중치를 조정하기 위해 경사를 계산합니다. 이는 경사하강법에서 가장 중요한 부분으로, 현재 가중치에서 비용 함수가 감소하는 방향을 제시합니다.\n",
    "\n",
    "# theta_batch -= learning_rate * gradients\n",
    "# 설명: 계산된 경사(gradients)에 학습률(learning_rate)을 곱하여 가중치 theta_batch를 업데이트합니다.\n",
    "# theta_batch -= learning_rate * gradients는 가중치 벡터에서 학습률에 비례하여 경사만큼을 빼줌으로써 비용 함수가 최소화되는 방향으로 이동합니다.\n",
    "# 목적: 경사하강법은 비용 함수를 줄이는 방향으로 가중치를 조금씩 조정하며, 학습률이 이 조정의 속도를 결정합니다.\n",
    "\n",
    "# cost_history_batch.append(compute_cost(X_b, y, theta_batch))\n",
    "# 설명: 매 반복마다 compute_cost(X_b, y, theta_batch)를 호출하여 비용 함수 값을 계산하고, 이를 cost_history_batch 리스트에 추가합니다.\n",
    "# compute_cost 함수는 현재 가중치에서의 비용 함수 값을 반환하므로, 비용 함수 값이 감소하는지를 추적할 수 있습니다.\n",
    "# 목적: 비용 함수의 변화를 기록하여 학습이 진행될수록 비용 함수 값이 줄어드는지 확인하고, 수렴 속도를 모니터링하기 위함입니다."
   ]
  },
  {
   "cell_type": "code",
   "execution_count": null,
   "id": "2cedfdcc",
   "metadata": {},
   "outputs": [],
   "source": [
    "# 배치 경사하강법 (Batch Gradient Descent)\n",
    "for iteration in range(n_iterations):\n",
    "    gradients = 1 / len(X_b) * X_b.T.dot(X_b.dot(theta_batch) - y)\n",
    "    theta_batch -= learning_rate * gradients\n",
    "    cost_history_batch.append(compute_cost(X_b, y, theta_batch))\n"
   ]
  },
  {
   "cell_type": "code",
   "execution_count": null,
   "id": "31e50e7b",
   "metadata": {},
   "outputs": [],
   "source": []
  },
  {
   "cell_type": "markdown",
   "id": "53b67e04",
   "metadata": {},
   "source": [
    "# 확률적 경사하강법 (SGD:Stochastic Gradient Descent)"
   ]
  },
  {
   "cell_type": "code",
   "execution_count": null,
   "id": "173e2578",
   "metadata": {},
   "outputs": [],
   "source": [
    "# for iteration in range(n_iterations):\n",
    "# 설명: n_iterations만큼 학습을 반복합니다. \n",
    "# 확률적 경사하강법(SGD)은 일반적인 경사하강법과 달리 매 반복에서 개별 데이터 포인트를 사용해 가중치를 업데이트합니다.\n",
    "\n",
    "# for i in range(len(X_b)):\n",
    "# 설명: 각 반복(iteration) 내에서 전체 데이터 포인트 개수(len(X_b))만큼 반복합니다. \n",
    "# 매번 새로운 샘플을 랜덤하게 선택하여 경사를 계산합니다.\n",
    "\n",
    "# random_index = np.random.randint(len(X_b))\n",
    "# xi = X_b[random_index:random_index+1]\n",
    "# yi = y[random_index:random_index+1]\n",
    "# 설명: np.random.randint(len(X_b))을 통해 랜덤한 인덱스를 선택하여 샘플(xi)과 대응하는 타겟 값(yi)을 가져옵니다.\n",
    "# xi = X_b[random_index:random_index+1]와 yi = y[random_index:random_index+1]는 랜덤하게 선택된 하나의 샘플과 해당 타겟 값을 각각 선택합니다.\n",
    "# xi와 yi의 차원을 (1, 2) 및 (1, 1)로 유지하여 계산이 오류 없이 진행되도록 합니다.\n",
    "# 목적: 확률적 경사하강법은 매번 랜덤한 하나의 데이터 포인트를 사용해 가중치를 업데이트하여 계산 비용을 줄이고, 최적화 과정에서 지역 최적값을 벗어나게 할 수 있습니다.\n",
    "\n",
    "# gradients = 2 * xi.T.dot(xi.dot(theta_sgd) - yi)\n",
    "# 설명: 선택된 데이터 포인트에 대해 **경사(gradient)**를 계산합니다.\n",
    "# xi.dot(theta_sgd) - yi는 예측값과 실제값의 차이를 나타내며, 오차를 계산합니다.\n",
    "# xi.T.dot(...)는 오차와 xi의 전치 행렬을 내적하여 가중치(theta_sgd)에 대한 편미분 값을 계산합니다.\n",
    "# 2 *을 곱해 평균 제곱 오차의 편미분을 완성합니다.\n",
    "# 목적: 비용 함수를 최소화하는 방향으로 가중치를 업데이트하기 위해 경사를 계산합니다.\n",
    "\n",
    "# theta_sgd -= learning_rate * gradients\n",
    "# 설명: gradients에 학습률을 곱하여 현재 가중치(theta_sgd)에서 이를 뺍니다. \n",
    "# 이렇게 하여 비용 함수가 최소화되는 방향으로 가중치를 업데이트합니다.\n",
    "# 목적: 학습률이 높을수록 가중치 조정이 크고 수렴 속도가 빠르지만 불안정해질 수 있습니다. \n",
    "# 학습률을 곱한 gradients를 빼줌으로써 가중치를 점진적으로 조정합니다.\n",
    "\n",
    "# cost_history_sgd.append(compute_cost(X_b, y, theta_sgd))\n",
    "# 설명: 각 반복(iteration)의 마지막에 compute_cost 함수를 호출하여 전체 데이터에 대한 비용 함수 값을 계산하고, \n",
    "# 이를 cost_history_sgd에 추가합니다.\n",
    "# compute_cost(X_b, y, theta_sgd)는 현재 가중치에 따른 비용 함수 값을 반환합니다.\n",
    "# 목적: 학습 과정에서 비용 함수 값이 감소하는지 추적하고, 최적화 과정의 수렴을 확인합니다.\n"
   ]
  },
  {
   "cell_type": "code",
   "execution_count": null,
   "id": "0e759c2e",
   "metadata": {},
   "outputs": [],
   "source": [
    "# 확률적 경사하강법 (Stochastic Gradient Descent)\n",
    "for iteration in range(n_iterations):\n",
    "    for i in range(len(X_b)):\n",
    "        random_index = np.random.randint(len(X_b))\n",
    "        xi = X_b[random_index:random_index+1]\n",
    "        yi = y[random_index:random_index+1]\n",
    "        gradients = 2 * xi.T.dot(xi.dot(theta_sgd) - yi)\n",
    "        theta_sgd -= learning_rate * gradients\n",
    "    cost_history_sgd.append(compute_cost(X_b, y, theta_sgd))\n"
   ]
  },
  {
   "cell_type": "markdown",
   "id": "1ebec89d",
   "metadata": {},
   "source": [
    "# 미니 배치 경사하강법 (Mini-Batch Gradient Descent)"
   ]
  },
  {
   "cell_type": "code",
   "execution_count": null,
   "id": "60955f49",
   "metadata": {},
   "outputs": [],
   "source": [
    "# mini_batch_size = 20\n",
    "# 설명: 미니 배치 크기를 20으로 설정합니다. 이 값은 각 배치에 포함되는 데이터 포인트의 개수를 의미합니다. \n",
    "# 데이터셋을 20개씩 나누어 경사를 계산하고 가중치를 업데이트합니다.\n",
    "# 목적: 작은 미니 배치를 통해 전체 데이터셋을 반복적으로 사용하는 것보다 계산 비용을 줄이고, 동시에 더 안정적인 수렴을 유도합니다.\n",
    "\n",
    "# for iteration in range(n_iterations):\n",
    "# 설명: n_iterations만큼 반복하여 가중치를 업데이트합니다. 각 반복(iteration)마다 데이터셋을 무작위로 섞고, 이를 미니 배치 단위로 나누어 학습합니다.\n",
    "\n",
    "# shuffled_indices = np.random.permutation(len(X_b))\n",
    "# X_b_shuffled = X_b[shuffled_indices]\n",
    "# y_shuffled = y[shuffled_indices]\n",
    "# 설명: np.random.permutation(len(X_b))을 통해 데이터셋의 인덱스를 무작위로 섞어 shuffled_indices에 저장합니다.\n",
    "# X_b_shuffled와 y_shuffled는 이 무작위 인덱스를 사용해 섞인 데이터셋입니다. \n",
    "# 각 반복마다 데이터를 무작위로 섞음으로써 모델이 특정 순서에 종속되지 않도록 합니다.\n",
    "# 목적: 데이터 순서에 따른 편향을 방지하고, 더 다양한 패턴을 학습하도록 합니다.\n",
    "\n",
    "# for i in range(0, len(X_b), mini_batch_size):\n",
    "#     xi = X_b_shuffled[i:i+mini_batch_size]\n",
    "#     yi = y_shuffled[i:i+mini_batch_size]\n",
    "# 설명: 섞인 데이터셋을 mini_batch_size 크기만큼 슬라이싱하여 미니 배치 xi와 해당 타겟 값 yi를 만듭니다. \n",
    "# 예를 들어, mini_batch_size가 20이면, 각 반복에서 20개의 데이터 포인트가 선택됩니다.\n",
    "# 목적: 전체 데이터셋을 작은 미니 배치로 나누어 각 배치에 대해 경사를 계산합니다.\n",
    "\n",
    "# gradients = 1 / mini_batch_size * xi.T.dot(xi.dot(theta_mini_batch) - yi)\n",
    "# 설명: 현재 미니 배치에 대한 **경사(gradient)**를 계산합니다.\n",
    "# xi.dot(theta_mini_batch) - yi는 예측값과 실제값의 차이를 계산하여 오차를 구합니다.\n",
    "# xi.T.dot(...)를 통해 오차와 xi의 전치행렬을 내적하여 각 가중치에 대한 편미분을 구합니다.\n",
    "# 1 / mini_batch_size로 평균을 내어 현재 미니 배치에 대한 평균 경사를 구합니다.\n",
    "# 목적: 미니 배치 내 오차의 평균을 사용해 가중치를 조정합니다.\n",
    "\n",
    "# theta_mini_batch -= learning_rate * gradients\n",
    "# 설명: 계산된 경사에 학습률(learning_rate)을 곱하여 가중치(theta_mini_batch)에서 빼줍니다. \n",
    "# 이는 경사하강법에서 비용 함수가 최소화되는 방향으로 가중치를 조정하는 단계입니다.\n",
    "# 목적: 학습률에 비례해 가중치를 업데이트하여 비용 함수의 최소값에 수렴하도록 합니다.\n",
    "\n",
    "# cost_history_mini_batch.append(compute_cost(X_b, y, theta_mini_batch))\n",
    "# 설명: 각 반복의 마지막에 compute_cost 함수를 호출하여 전체 데이터에 대한 비용 함수 값을 계산하고, 이를 cost_history_mini_batch 리스트에 추가합니다. compute_cost는 현재 가중치에 따른 비용 함수 값을 반환합니다.\n",
    "# 목적: 비용 함수 값이 감소하는지 확인하기 위해 비용 함수 변화를 기록합니다."
   ]
  },
  {
   "cell_type": "code",
   "execution_count": null,
   "id": "8930eda4",
   "metadata": {},
   "outputs": [],
   "source": [
    "# 미니 배치 경사하강법 (Mini-Batch Gradient Descent)\n",
    "mini_batch_size = 20\n",
    "for iteration in range(n_iterations):\n",
    "    shuffled_indices = np.random.permutation(len(X_b))\n",
    "    X_b_shuffled = X_b[shuffled_indices]\n",
    "    y_shuffled = y[shuffled_indices]\n",
    "    for i in range(0, len(X_b), mini_batch_size):\n",
    "        xi = X_b_shuffled[i:i+mini_batch_size]\n",
    "        yi = y_shuffled[i:i+mini_batch_size]\n",
    "        gradients = 1 / mini_batch_size * xi.T.dot(xi.dot(theta_mini_batch) - yi)\n",
    "        theta_mini_batch -= learning_rate * gradients\n",
    "    cost_history_mini_batch.append(compute_cost(X_b, y, theta_mini_batch))\n"
   ]
  },
  {
   "cell_type": "markdown",
   "id": "aee5bfc1",
   "metadata": {},
   "source": [
    "# 시각화"
   ]
  },
  {
   "cell_type": "code",
   "execution_count": null,
   "id": "5c77bf60",
   "metadata": {},
   "outputs": [],
   "source": [
    "# plt.figure(figsize=(12, 8))\n",
    "# 설명: 새로운 그래프를 그리기 위한 Figure 객체를 생성하고, 그래프의 크기를 (12, 8)로 지정합니다.\n",
    "# 목적: 충분히 큰 크기의 그래프를 사용해 각 경사하강법의 비용 함수 감소를 명확히 시각화할 수 있도록 합니다.\n",
    "\n",
    "# plt.plot(cost_history_batch, \"b-\", label=\"Batch Gradient Descent\")\n",
    "# plt.plot(cost_history_sgd, \"r--\", label=\"Stochastic Gradient Descent\")\n",
    "# plt.plot(cost_history_mini_batch, \"g-.\", label=\"Mini-Batch Gradient Descent\")\n",
    "# 설명: 세 가지 경사하강법에서 기록된 비용 함수 값 변화를 각각 다른 스타일과 색상으로 그립니다.\n",
    "# cost_history_batch, cost_history_sgd, cost_history_mini_batch는 각각 배치, 확률적, 미니 배치 경사하강법의 비용 함수 값을 기록한 리스트입니다.\n",
    "# \"b-\", \"r--\", \"g-.\"는 각각의 선 스타일을 나타내며, \"b-\"는 파란색 실선, \"r--\"는 빨간색 점선, \"g-.\"는 초록색 점선과 점을 결합한 선입니다.\n",
    "# label은 범례에 표시될 각 선의 설명을 설정합니다.\n",
    "# 목적: 각 경사하강법의 비용 함수 감소를 서로 비교하고, 비용 함수 값이 반복(iteration)을 거치면서 줄어드는 양상을 시각적으로 확인합니다.\n",
    "\n",
    "# plt.xlabel(\"Iterations\")\n",
    "# plt.ylabel(\"Cost\")\n",
    "# 설명: x축과 y축에 각각 반복 횟수와 비용 함수 값을 나타내는 레이블을 추가합니다.\n",
    "# 목적: 그래프의 축이 나타내는 의미를 명확히 하여, 각 반복에서 비용 함수 값이 얼마나 감소했는지 이해하기 쉽게 만듭니다.\n",
    "\n",
    "# plt.legend()\n",
    "# 설명: label로 지정한 각 경사하강법의 이름을 범례로 추가합니다.\n",
    "# 목적: 그래프에서 어떤 선이 어떤 경사하강법을 나타내는지 명확히 구분할 수 있도록 합니다.\n",
    "\n",
    "# plt.title(\"Cost Reduction Comparison among Gradient Descent Methods\")\n",
    "# 설명: 그래프 상단에 제목을 추가하여 그래프의 전체적인 내용을 설명합니다.\n",
    "# 목적: 그래프가 각 경사하강법의 비용 함수 감소를 비교하는 목적임을 시각적으로 강조합니다.\n",
    "\n",
    "# plt.show()\n",
    "# 설명: 그래프를 화면에 출력하여 시각화 결과를 확인합니다.\n",
    "# 목적: 경사하강법의 비용 함수 감소 과정이 반복(iteration)에 따라 어떤 식으로 진행되는지 시각적으로 분석할 수 있도록 합니다."
   ]
  },
  {
   "cell_type": "code",
   "execution_count": null,
   "id": "1f90f406",
   "metadata": {},
   "outputs": [],
   "source": [
    "# 결과 시각화\n",
    "plt.figure(figsize=(12, 8))\n",
    "\n",
    "plt.plot(cost_history_batch, \"b-\", label=\"Batch Gradient Descent\")\n",
    "plt.plot(cost_history_sgd, \"r--\", label=\"Stochastic Gradient Descent\")\n",
    "plt.plot(cost_history_mini_batch, \"g-.\", label=\"Mini-Batch Gradient Descent\")\n",
    "\n",
    "plt.xlabel(\"Iterations\")\n",
    "plt.ylabel(\"Cost\")\n",
    "plt.legend()\n",
    "plt.title(\"Cost Reduction Comparison among Gradient Descent Methods\")\n",
    "plt.show()\n"
   ]
  },
  {
   "cell_type": "markdown",
   "id": "f0a4649a",
   "metadata": {},
   "source": [
    "# 결과 출력"
   ]
  },
  {
   "cell_type": "code",
   "execution_count": null,
   "id": "2c1cf077",
   "metadata": {},
   "outputs": [],
   "source": [
    "# 설명: 각 경사하강법(배치, 확률적, 미니 배치)에서 최종적으로 학습된 **가중치 벡터(Theta)**를 출력합니다.\n",
    "# theta_batch, theta_sgd, theta_mini_batch는 각각 배치, 확률적, 미니 배치 경사하강법을 통해 학습된 최종 가중치입니다.\n",
    "# .ravel() 메서드는 다차원 배열을 1차원 배열로 펼쳐주는 함수로, 가중치를 일렬로 나열하여 보기 쉽게 출력합니다.\n",
    "# 출력 형식은 \"Batch Gradient Descent Theta: ...\"와 같은 형태로, 각 경사하강법의 이름과 가중치 값이 함께 출력됩니다.\n",
    "# 목적: 각 경사하강법을 통해 학습된 **최적 가중치 값(Theta)**을 비교하기 위함입니다. \n",
    "#     선형 회귀 모델의 경우, 최적 가중치가 실제 데이터 생성 식에 근접할수록 모델이 잘 학습되었음을 의미합니다."
   ]
  },
  {
   "cell_type": "code",
   "execution_count": null,
   "id": "9d9e9b1e",
   "metadata": {},
   "outputs": [],
   "source": [
    "\n",
    "# 최종 가중치 결과 출력\n",
    "print(\"Batch Gradient Descent Theta:\", theta_batch.ravel())\n",
    "print(\"Stochastic Gradient Descent Theta:\", theta_sgd.ravel())\n",
    "print(\"Mini-Batch Gradient Descent Theta:\", theta_mini_batch.ravel())\n"
   ]
  },
  {
   "cell_type": "code",
   "execution_count": null,
   "id": "b9673bcd",
   "metadata": {},
   "outputs": [],
   "source": []
  },
  {
   "cell_type": "code",
   "execution_count": null,
   "id": "c1c24b4a",
   "metadata": {},
   "outputs": [],
   "source": [
    "# 그래프에서 각 방법의 수렴 속도를 비교할 수 있습니다:\n",
    "\n",
    "# 배치 경사하강법은 안정적으로 수렴하나, 속도가 상대적으로 느립니다.\n",
    "# 확률적 경사하강법은 비용 함수가 진동하며 수렴하지만, 데이터의 노이즈가 많으면 안정성이 떨어질 수 있습니다.\n",
    "# 미니 배치 경사하강법은 배치와 확률적 방법의 장점을 결합하여 적절한 수렴 속도를 보입니다."
   ]
  },
  {
   "cell_type": "markdown",
   "id": "b43eb54e",
   "metadata": {},
   "source": [
    "# 코드 종합"
   ]
  },
  {
   "cell_type": "code",
   "execution_count": 1,
   "id": "ae936034",
   "metadata": {},
   "outputs": [
    {
     "data": {
      "image/png": "[encoded data removed]",
      "text/plain": [
       "<Figure size 1200x800 with 1 Axes>"
      ]
     },
     "metadata": {},
     "output_type": "display_data"
    },
    {
     "name": "stdout",
     "output_type": "stream",
     "text": [
      "Batch Gradient Descent Theta: [3.96263328 3.11587232]\n",
      "Stochastic Gradient Descent Theta: [4.05991942 2.66817494]\n",
      "Mini-Batch Gradient Descent Theta: [4.11489022 2.97556776]\n"
     ]
    }
   ],
   "source": [
    "import numpy as np\n",
    "import matplotlib.pyplot as plt\n",
    "\n",
    "# 데이터 생성 (y = 3x + 4에 약간의 노이즈 추가)\n",
    "np.random.seed(0)\n",
    "X = 2 * np.random.rand(100, 1)\n",
    "y = 3 * X + 4 + np.random.randn(100, 1) * 0.5\n",
    "\n",
    "# 학습률과 반복 횟수\n",
    "learning_rate = 0.1\n",
    "n_iterations = 50\n",
    "\n",
    "# 비용 함수 기록을 위한 리스트\n",
    "cost_history_batch = []\n",
    "cost_history_sgd = []\n",
    "cost_history_mini_batch = []\n",
    "\n",
    "# 초기화\n",
    "theta_batch = np.random.randn(2, 1)  # 배치 경사하강법용\n",
    "theta_sgd = np.random.randn(2, 1)    # SGD용\n",
    "theta_mini_batch = np.random.randn(2, 1)  # 미니 배치용\n",
    "\n",
    "# 데이터에 x0 = 1 추가 (절편을 포함하기 위함)\n",
    "X_b = np.c_[np.ones((100, 1)), X]\n",
    "\n",
    "# 비용 함수 정의\n",
    "def compute_cost(X, y, theta):\n",
    "    m = len(y)\n",
    "    return (1 / (2 * m)) * np.sum((X.dot(theta) - y) ** 2)\n",
    "\n",
    "# 1. 배치 경사하강법 (Batch Gradient Descent)\n",
    "for iteration in range(n_iterations):\n",
    "    gradients = 1 / len(X_b) * X_b.T.dot(X_b.dot(theta_batch) - y)\n",
    "    theta_batch -= learning_rate * gradients\n",
    "    cost_history_batch.append(compute_cost(X_b, y, theta_batch))\n",
    "\n",
    "# 2. 확률적 경사하강법 (Stochastic Gradient Descent)\n",
    "for iteration in range(n_iterations):\n",
    "    for i in range(len(X_b)):\n",
    "        random_index = np.random.randint(len(X_b))\n",
    "        xi = X_b[random_index:random_index+1]\n",
    "        yi = y[random_index:random_index+1]\n",
    "        gradients = 2 * xi.T.dot(xi.dot(theta_sgd) - yi)\n",
    "        theta_sgd -= learning_rate * gradients\n",
    "    cost_history_sgd.append(compute_cost(X_b, y, theta_sgd))\n",
    "\n",
    "# 3. 미니 배치 경사하강법 (Mini-Batch Gradient Descent)\n",
    "mini_batch_size = 20\n",
    "for iteration in range(n_iterations):\n",
    "    shuffled_indices = np.random.permutation(len(X_b))\n",
    "    X_b_shuffled = X_b[shuffled_indices]\n",
    "    y_shuffled = y[shuffled_indices]\n",
    "    for i in range(0, len(X_b), mini_batch_size):\n",
    "        xi = X_b_shuffled[i:i+mini_batch_size]\n",
    "        yi = y_shuffled[i:i+mini_batch_size]\n",
    "        gradients = 1 / mini_batch_size * xi.T.dot(xi.dot(theta_mini_batch) - yi)\n",
    "        theta_mini_batch -= learning_rate * gradients\n",
    "    cost_history_mini_batch.append(compute_cost(X_b, y, theta_mini_batch))\n",
    "\n",
    "# 결과 시각화\n",
    "plt.figure(figsize=(12, 8))\n",
    "\n",
    "plt.plot(cost_history_batch, \"b-\", label=\"Batch Gradient Descent\")\n",
    "plt.plot(cost_history_sgd, \"r--\", label=\"Stochastic Gradient Descent\")\n",
    "plt.plot(cost_history_mini_batch, \"g-.\", label=\"Mini-Batch Gradient Descent\")\n",
    "\n",
    "plt.xlabel(\"Iterations\")\n",
    "plt.ylabel(\"Cost\")\n",
    "plt.legend()\n",
    "plt.title(\"Cost Reduction Comparison among Gradient Descent Methods\")\n",
    "plt.show()\n",
    "\n",
    "# 최종 가중치 결과 출력\n",
    "print(\"Batch Gradient Descent Theta:\", theta_batch.ravel())\n",
    "print(\"Stochastic Gradient Descent Theta:\", theta_sgd.ravel())\n",
    "print(\"Mini-Batch Gradient Descent Theta:\", theta_mini_batch.ravel())\n"
   ]
  },
  {
   "cell_type": "code",
   "execution_count": null,
   "id": "5d90a5ad",
   "metadata": {},
   "outputs": [],
   "source": [
    "# 세 가지 경사하강법의 최종 가중치 결과는 다음과 같습니다:\n",
    "\n",
    "# Batch Gradient Descent Theta: [3.9626, 3.1159]\n",
    "# Stochastic Gradient Descent Theta: [4.0599, 2.6682]\n",
    "# Mini-Batch Gradient Descent Theta: [4.1149, 2.9756]\n",
    "# 해석\n",
    "# 실제 데이터 생성 식: 원래 데이터는 식 𝑦=3𝑥+4로 생성되었으며,\n",
    "#     절편(intercept)**은 4, **기울기(slope)**는 3에 근접한 값이어야 합니다.\n",
    "\n",
    "# 배치 경사하강법 결과: Batch Gradient Descent Theta: [3.9626, 3.1159]\n",
    "# 절편은 3.9626로 4에 가깝고, 기울기는 3.1159로 3에 근접합니다.\n",
    "# 배치 경사하강법은 모든 데이터를 사용해 안정적으로 수렴했으며, 오차가 상대적으로 작습니다.\n",
    "# 결론: 모델이 실제 데이터 생성 식에 근접하게 학습되었습니다.\n",
    "\n",
    "#     확률적 경사하강법 결과: Stochastic Gradient Descent Theta: [4.0599, 2.6682]\n",
    "# 절편은 4.0599로 4에 근접하지만, 기울기는 2.6682로 3에 다소 떨어져 있습니다.\n",
    "# 확률적 경사하강법은 진동성이 크기 때문에 결과가 불안정할 수 있으며, 수렴 속도는 빠르지만 정확성은 배치 경사하강법보다 떨어질 수 있습니다.\n",
    "# 결론: 학습 과정의 진동으로 인해 기울기 값이 원래 값과 차이가 나는 결과를 보였습니다.\n",
    "# 미니 배치 경사하강법 결과: Mini-Batch Gradient Descent Theta: [4.1149, 2.9756]\n",
    "# 절편은 4.1149로 4에 가깝고, 기울기는 2.9756로 3에 매우 근접합니다.\n",
    "\n",
    "# 미니 배치 경사하강법은 배치 경사하강법의 안정성과 확률적 경사하강법의 빠른 수렴 속도를 결합하여 상대적으로 안정적이고 정확하게 수렴한 결과를 보여줍니다.\n",
    "# 결론: 데이터 생성 식에 근접한 값을 나타내며, 안정적인 학습 성능을 확인할 수 있습니다.\n",
    "\n",
    "#     종합 해석\n",
    "# 배치 경사하강법은 안정적으로 수렴하여 오차가 가장 적게 나타났습니다.\n",
    "# 확률적 경사하강법은 빠르게 수렴했지만 기울기 값이 다소 불안정하며 정확성에서 다소 떨어졌습니다.\n",
    "# 미니 배치 경사하강법은 상대적으로 안정적이면서도 빠르게 수렴하여 실제 데이터 생성 식과 가장 근접한 결과를 보여주었습니다."
   ]
  },
  {
   "cell_type": "markdown",
   "id": "b2dfece2",
   "metadata": {},
   "source": [
    "# 모멘텀과 RMSProp"
   ]
  },
  {
   "cell_type": "code",
   "execution_count": null,
   "id": "c87f16bf",
   "metadata": {},
   "outputs": [],
   "source": [
    "# 모멘텀(Momentum)은 이전 경사 업데이트 방향에 관성을 부여하여, 지역 최적값을 피하고 수렴 속도를 높이는 방법입니다.\n",
    "# RMSProp은 각 매개변수의 학습률을 조정하여, 학습률이 줄어들지 않게 하면서 안정적인 수렴을 도와주는 방법입니다."
   ]
  },
  {
   "cell_type": "code",
   "execution_count": null,
   "id": "e7d3e77e",
   "metadata": {},
   "outputs": [],
   "source": [
    "import numpy as np\n",
    "import matplotlib.pyplot as plt\n",
    "\n",
    "# 데이터 생성 (y = 3x + 4에 약간의 노이즈 추가)\n",
    "np.random.seed(0)\n",
    "X = 2 * np.random.rand(100, 1)\n",
    "y = 3 * X + 4 + np.random.randn(100, 1) * 0.5\n",
    "\n",
    "# 학습률과 반복 횟수\n",
    "learning_rate = 0.1\n",
    "n_iterations = 50\n",
    "\n",
    "# 데이터에 x0 = 1 추가 (절편을 포함하기 위함)\n",
    "X_b = np.c_[np.ones((100, 1)), X]\n",
    "\n",
    "# 비용 함수 정의\n",
    "def compute_cost(X, y, theta):\n",
    "    m = len(y)\n",
    "    return (1 / (2 * m)) * np.sum((X.dot(theta) - y) ** 2)\n"
   ]
  },
  {
   "cell_type": "markdown",
   "id": "d6ffebd0",
   "metadata": {},
   "source": [
    "## 모멘텀 경사하강법 (Momentum Gradient Descent)"
   ]
  },
  {
   "cell_type": "code",
   "execution_count": null,
   "id": "716e47c0",
   "metadata": {},
   "outputs": [],
   "source": [
    "# 모멘텀의 경우, 초기 속도를 설정하고 매 반복마다 가중치 업데이트에 이전 속도의 일부를 더해줍니다."
   ]
  },
  {
   "cell_type": "code",
   "execution_count": null,
   "id": "03d73aec",
   "metadata": {},
   "outputs": [],
   "source": [
    "# 코드 설명\n",
    "# velocity: 이전 속도 값을 저장하며, 반복마다 경사와 함께 업데이트됩니다.\n",
    "# momentum 계수: 일반적으로 0.9로 설정하여, 이전 속도의 90%를 현재 업데이트에 반영합니다."
   ]
  },
  {
   "cell_type": "code",
   "execution_count": 3,
   "id": "401004ad",
   "metadata": {},
   "outputs": [
    {
     "data": {
      "image/png": "[encoded data removed]",
      "text/plain": [
       "<Figure size 1000x600 with 1 Axes>"
      ]
     },
     "metadata": {},
     "output_type": "display_data"
    },
    {
     "name": "stdout",
     "output_type": "stream",
     "text": [
      "Momentum Gradient Descent Theta: [4.12122212 3.00465226]\n"
     ]
    }
   ],
   "source": [
    "# 초기화\n",
    "theta_momentum = np.random.randn(2, 1)\n",
    "velocity = np.zeros((2, 1))  # 초기 속도\n",
    "momentum = 0.9  # 모멘텀 계수\n",
    "cost_history_momentum = []\n",
    "\n",
    "# 모멘텀 경사하강법\n",
    "for iteration in range(n_iterations):\n",
    "    gradients = 1 / len(X_b) * X_b.T.dot(X_b.dot(theta_momentum) - y)\n",
    "    \n",
    "    # 속도 업데이트 (모멘텀 사용)\n",
    "    velocity = momentum * velocity - learning_rate * gradients\n",
    "    \n",
    "    # 가중치 업데이트\n",
    "    theta_momentum += velocity\n",
    "    \n",
    "    # 비용 기록\n",
    "    cost_history_momentum.append(compute_cost(X_b, y, theta_momentum))\n",
    "\n",
    "# 결과 시각화\n",
    "plt.figure(figsize=(10, 6))\n",
    "plt.plot(cost_history_momentum, \"b-\", label=\"Momentum Gradient Descent\")\n",
    "plt.xlabel(\"Iterations\")\n",
    "plt.ylabel(\"Cost\")\n",
    "plt.legend()\n",
    "plt.title(\"Cost Reduction Using Momentum Gradient Descent\")\n",
    "plt.show()\n",
    "\n",
    "# 최종 가중치 결과 출력\n",
    "print(\"Momentum Gradient Descent Theta:\", theta_momentum.ravel())\n"
   ]
  },
  {
   "cell_type": "code",
   "execution_count": null,
   "id": "58f7f274",
   "metadata": {},
   "outputs": [],
   "source": [
    "# 해석\n",
    "# 실제 데이터 생성 식: 원래 데이터는 식 \n",
    "# 𝑦=3𝑥+4로 생성되었으므로, **절편(intercept)**은 4, **기울기(slope)**는 3에 가까워야 합니다.\n",
    "\n",
    "# 모멘텀 경사하강법 결과:\n",
    "# 절편: 4.1212로 원래 값 4에 매우 가깝습니다.\n",
    "# 기울기: 3.0047로 원래 기울기 값 3에 거의 일치합니다.\n",
    "# 결론:\n",
    "# 수렴 정도: 모멘텀 경사하강법이 매우 잘 작동하여, 가중치가 실제 데이터 생성 식과 거의 일치하는 수준으로 수렴되었습니다.\n",
    "# 안정성 및 속도: 모멘텀을 사용하여 수렴 속도를 높이고 지역 최적값을 피하면서도, 최적의 값에 안정적으로 수렴했습니다. 반복마다 가속도를 얻어 가중치가 빠르게 수렴한 것으로 보입니다."
   ]
  },
  {
   "cell_type": "markdown",
   "id": "1da82587",
   "metadata": {},
   "source": [
    "## RMSProp 경사하강법 (RMSProp Gradient Descent)"
   ]
  },
  {
   "cell_type": "code",
   "execution_count": null,
   "id": "f5a8ff27",
   "metadata": {},
   "outputs": [],
   "source": [
    "# RMSProp에서는 이전 경사 제곱의 이동평균을 누적하여 학습률이 점차 작아지지 않도록 유지합니다."
   ]
  },
  {
   "cell_type": "code",
   "execution_count": null,
   "id": "7a728328",
   "metadata": {},
   "outputs": [],
   "source": [
    "# 코드 설명\n",
    "# s: 경사 제곱 이동평균을 저장하여 학습률을 조절합니다.\n",
    "# beta: 이동평균 계수로, 일반적으로 0.9로 설정하여 이전 경사 제곱의 90%를 반영합니다.\n",
    "# epsilon: 0으로 나누는 것을 방지하기 위한 작은 상수입니다."
   ]
  },
  {
   "cell_type": "code",
   "execution_count": 4,
   "id": "66c8e68e",
   "metadata": {},
   "outputs": [
    {
     "data": {
      "image/png": "[encoded data removed]",
      "text/plain": [
       "<Figure size 1000x600 with 1 Axes>"
      ]
     },
     "metadata": {},
     "output_type": "display_data"
    },
    {
     "name": "stdout",
     "output_type": "stream",
     "text": [
      "RMSProp Gradient Descent Theta: [4.49938266 2.40735931]\n"
     ]
    }
   ],
   "source": [
    "# 초기화\n",
    "theta_rmsprop = np.random.randn(2, 1)\n",
    "s = np.zeros((2, 1))  # 경사 제곱 이동평균\n",
    "beta = 0.9  # 지수 가중 이동평균 계수\n",
    "epsilon = 1e-8  # 0으로 나누는 것을 방지하기 위한 상수\n",
    "cost_history_rmsprop = []\n",
    "\n",
    "# RMSProp 경사하강법\n",
    "for iteration in range(n_iterations):\n",
    "    gradients = 1 / len(X_b) * X_b.T.dot(X_b.dot(theta_rmsprop) - y)\n",
    "    \n",
    "    # 경사 제곱의 이동평균 업데이트\n",
    "    s = beta * s + (1 - beta) * (gradients ** 2)\n",
    "    \n",
    "    # 가중치 업데이트\n",
    "    theta_rmsprop -= learning_rate * gradients / (np.sqrt(s) + epsilon)\n",
    "    \n",
    "    # 비용 기록\n",
    "    cost_history_rmsprop.append(compute_cost(X_b, y, theta_rmsprop))\n",
    "\n",
    "# 결과 시각화\n",
    "plt.figure(figsize=(10, 6))\n",
    "plt.plot(cost_history_rmsprop, \"g-\", label=\"RMSProp Gradient Descent\")\n",
    "plt.xlabel(\"Iterations\")\n",
    "plt.ylabel(\"Cost\")\n",
    "plt.legend()\n",
    "plt.title(\"Cost Reduction Using RMSProp Gradient Descent\")\n",
    "plt.show()\n",
    "\n",
    "# 최종 가중치 결과 출력\n",
    "print(\"RMSProp Gradient Descent Theta:\", theta_rmsprop.ravel())\n"
   ]
  },
  {
   "cell_type": "code",
   "execution_count": null,
   "id": "4151086b",
   "metadata": {},
   "outputs": [],
   "source": [
    "# #해석\n",
    "# 실제 데이터 생성 식: 원래 데이터는 식 y=3x+4를 기반으로 생성되었기 때문에, \n",
    "#     **절편(intercept)**은 4, **기울기(slope)**는 3에 가까워야 합니다.\n",
    "\n",
    "# RMSProp 경사하강법 결과:\n",
    "# 절편: 4.4994로 4에 근접한 값입니다. 하지만 다소 차이가 있습니다.\n",
    "# 기울기: 2.4074로, 원래 값인 3에서 많이 벗어나 있습니다.\n",
    "# 결론:\n",
    "# 수렴 정도: RMSProp이 기울기 값에 대해 원래 데이터와 일치하는 결과를 충분히 얻지 못한 것으로 보입니다.\n",
    "# 원인 추정: RMSProp 경사하강법은 학습률을 조정하여 안정적인 수렴을 제공하지만, 이번 사례에서는 기울기 값이 원래 값과 차이가 있습니다. \n",
    "# 이는 학습률이 너무 낮아 초기 반복에서 충분한 업데이트가 이루어지지 않았거나, 반복 횟수가 부족했을 가능성이 있습니다."
   ]
  },
  {
   "cell_type": "code",
   "execution_count": null,
   "id": "d05ce6d6",
   "metadata": {},
   "outputs": [],
   "source": []
  },
  {
   "cell_type": "markdown",
   "id": "09241c04",
   "metadata": {},
   "source": [
    "# Adam"
   ]
  },
  {
   "cell_type": "code",
   "execution_count": null,
   "id": "fbb02de4",
   "metadata": {},
   "outputs": [],
   "source": [
    "# Adam(Adaptive Moment Estimation) 알고리즘은 모멘텀과 RMSProp을 결합한 경사하강법의 변형으로, 학습률을 조정하면서 가속도 정보를 활용하여 수렴을 가속화하는 방법입니다. \n",
    "# Adam은 각 반복에서 매개변수의 학습률을 조정하여 다양한 문제에서 효율적이고 안정적인 성능을 제공합니다."
   ]
  },
  {
   "cell_type": "code",
   "execution_count": null,
   "id": "74b6c21d",
   "metadata": {},
   "outputs": [],
   "source": [
    "# Adam 알고리즘의 매개변수로는 learning_rate 외에도 모멘텀 계수(beta1), 지수 감소율(beta2), 그리고 작은 상수 값(epsilon)이 필요합니다. "
   ]
  },
  {
   "cell_type": "code",
   "execution_count": null,
   "id": "5ae46220",
   "metadata": {},
   "outputs": [],
   "source": [
    "# 코드 설명\n",
    "# Adam 하이퍼파라미터 초기화: beta1과 beta2는 각각 1차와 2차 모멘텀을 조절하는 계수로, \n",
    "# 일반적으로 beta1=0.9, beta2=0.999로 설정합니다. epsilon은 작은 상수로 나눗셈이 0이 되는 것을 방지합니다.\n",
    "\n",
    "# 모멘텀 계산 및 업데이트:\n",
    "# m과 v는 각각 1차 및 2차 모멘텀으로, 경사의 평균과 분산을 누적하여 이동평균으로 계산합니다.\n",
    "# 바이어스 보정을 통해 초기 반복에서 모멘텀이 0으로 치우치는 것을 방지하고 조정된 m_hat, v_hat을 사용하여 가중치를 업데이트합니다.\n",
    "\n",
    "# 가중치 업데이트: 각 반복마다 Adam 업데이트 규칙을 따라 가중치를 조정합니다.\n",
    "\n",
    "# 비용 함수 시각화: 각 반복마다 비용 함수를 기록해 Adam 알고리즘이 비용 함수 값을 얼마나 빠르게 줄이는지 시각화합니다."
   ]
  },
  {
   "cell_type": "code",
   "execution_count": 2,
   "id": "8bac6f10",
   "metadata": {},
   "outputs": [
    {
     "data": {
      "image/png": "[encoded data removed]",
      "text/plain": [
       "<Figure size 1000x600 with 1 Axes>"
      ]
     },
     "metadata": {},
     "output_type": "display_data"
    },
    {
     "name": "stdout",
     "output_type": "stream",
     "text": [
      "Adam Gradient Descent Theta: [3.57486136 2.55050115]\n"
     ]
    }
   ],
   "source": [
    "import numpy as np\n",
    "import matplotlib.pyplot as plt\n",
    "\n",
    "# 데이터 생성 (y = 3x + 4에 약간의 노이즈 추가)\n",
    "np.random.seed(0)\n",
    "X = 2 * np.random.rand(100, 1)\n",
    "y = 3 * X + 4 + np.random.randn(100, 1) * 0.5\n",
    "\n",
    "# 학습률과 반복 횟수, Adam 하이퍼파라미터 설정\n",
    "learning_rate = 0.1\n",
    "n_iterations = 50\n",
    "beta1 = 0.9\n",
    "beta2 = 0.999\n",
    "epsilon = 1e-8\n",
    "\n",
    "# 데이터에 x0 = 1 추가 (절편을 포함하기 위함)\n",
    "X_b = np.c_[np.ones((100, 1)), X]\n",
    "\n",
    "# 초기화\n",
    "theta_adam = np.random.randn(2, 1)  # Adam용 가중치 초기화\n",
    "m = np.zeros((2, 1))  # 1차 모멘텀 (평균)\n",
    "v = np.zeros((2, 1))  # 2차 모멘텀 (분산)\n",
    "cost_history_adam = []\n",
    "\n",
    "# 비용 함수 정의\n",
    "def compute_cost(X, y, theta):\n",
    "    m = len(y)\n",
    "    return (1 / (2 * m)) * np.sum((X.dot(theta) - y) ** 2)\n",
    "\n",
    "# Adam 경사하강법\n",
    "for iteration in range(1, n_iterations + 1):\n",
    "    gradients = 1 / len(X_b) * X_b.T.dot(X_b.dot(theta_adam) - y)\n",
    "    \n",
    "    # 1차 및 2차 모멘텀 업데이트\n",
    "    m = beta1 * m + (1 - beta1) * gradients\n",
    "    v = beta2 * v + (1 - beta2) * (gradients ** 2)\n",
    "    \n",
    "    # 바이어스 보정\n",
    "    m_hat = m / (1 - beta1 ** iteration)\n",
    "    v_hat = v / (1 - beta2 ** iteration)\n",
    "    \n",
    "    # 가중치 업데이트\n",
    "    theta_adam -= learning_rate * m_hat / (np.sqrt(v_hat) + epsilon)\n",
    "    \n",
    "    # 비용 기록\n",
    "    cost_history_adam.append(compute_cost(X_b, y, theta_adam))\n",
    "\n",
    "# 결과 시각화\n",
    "plt.figure(figsize=(10, 6))\n",
    "plt.plot(cost_history_adam, \"c-\", label=\"Adam Gradient Descent\")\n",
    "plt.xlabel(\"Iterations\")\n",
    "plt.ylabel(\"Cost\")\n",
    "plt.legend()\n",
    "plt.title(\"Cost Reduction Using Adam Gradient Descent\")\n",
    "plt.show()\n",
    "\n",
    "# 최종 가중치 결과 출력\n",
    "print(\"Adam Gradient Descent Theta:\", theta_adam.ravel())\n"
   ]
  },
  {
   "cell_type": "code",
   "execution_count": null,
   "id": "5fa9a8da",
   "metadata": {},
   "outputs": [],
   "source": [
    "# Adam 경사하강법 결과:\n",
    "# 절편: 3.5749로 4에 다소 가깝지만 약간 차이가 납니다.\n",
    "# 기울기: 2.5505로 3에서 다소 떨어져 있습니다.\n",
    "# 결론:\n",
    "\n",
    "# 수렴 정도: Adam 경사하강법은 모멘텀과 적응형 학습률을 활용해 일반적으로 빠르고 안정적인 수렴을 제공합니다. \n",
    "# 다만, 이번 결과에서는 기울기가 2.5505로 원래 기울기인 3에서 다소 차이가 나는 것을 볼 수 있습니다.\n",
    "# 추가적인 반복 필요성: Adam은 SGD보다 빠르게 수렴하지만, 비용 함수가 완전히 최적화되지 않을 때도 있습니다. \n",
    "# 이 결과는 반복 횟수(n_iterations = 50)가 다소 적거나 학습률이 최적화되지 않아 수렴이 완벽하게 이루어지지 않았을 가능성이 있습니다."
   ]
  }
 ],
 "metadata": {
  "kernelspec": {
   "display_name": "Python 3 (ipykernel)",
   "language": "python",
   "name": "python3"
  },
  "language_info": {
   "codemirror_mode": {
    "name": "ipython",
    "version": 3
   },
   "file_extension": ".py",
   "mimetype": "text/x-python",
   "name": "python",
   "nbconvert_exporter": "python",
   "pygments_lexer": "ipython3",
   "version": "3.9.11"
  },
  "toc": {
   "base_numbering": 1,
   "nav_menu": {},
   "number_sections": true,
   "sideBar": true,
   "skip_h1_title": false,
   "title_cell": "Table of Contents",
   "title_sidebar": "Contents",
   "toc_cell": false,
   "toc_position": {},
   "toc_section_display": true,
   "toc_window_display": false
  }
 },
 "nbformat": 4,
 "nbformat_minor": 5
}
