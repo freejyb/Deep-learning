{
 "cells": [
  {
   "cell_type": "code",
   "execution_count": 24,
   "id": "bb463e65",
   "metadata": {},
   "outputs": [],
   "source": [
    "# 합성곱 신경망(CNN)**을 구현한 예제 코드입니다. \n",
    "# 이 예제에서는 MNIST 데이터셋(손글씨 숫자 이미지)을 사용하여 CNN 모델을 학습하는 과정을 보여줍니다."
   ]
  },
  {
   "cell_type": "markdown",
   "id": "8bad79c7",
   "metadata": {},
   "source": [
    "# 준비단계"
   ]
  },
  {
   "cell_type": "markdown",
   "id": "7499e621",
   "metadata": {},
   "source": [
    "## 라이브러리"
   ]
  },
  {
   "cell_type": "code",
   "execution_count": 10,
   "id": "dec0ee53",
   "metadata": {},
   "outputs": [],
   "source": [
    "import numpy as np\n",
    "from tensorflow.keras.models import Sequential\n",
    "from tensorflow.keras.layers import Dense, Conv2D, MaxPooling2D, Flatten\n",
    "from tensorflow.keras.datasets import mnist\n",
    "from tensorflow.keras.utils import to_categorical"
   ]
  },
  {
   "cell_type": "markdown",
   "id": "322d31c9",
   "metadata": {},
   "source": [
    "## 데이터 준비 및 전처리"
   ]
  },
  {
   "cell_type": "code",
   "execution_count": 11,
   "id": "a51ff9fa",
   "metadata": {},
   "outputs": [],
   "source": [
    "# 데이터 로드 및 전처리:\n",
    "\n",
    "# mnist.load_data() 함수를 사용해 MNIST 데이터셋(손글씨 숫자 이미지)을 로드합니다.\n",
    "# 입력 데이터를 CNN에서 처리할 수 있도록 28x28x1 크기의 흑백 이미지로 변환합니다.\n",
    "# 이미지를 0~1 사이의 범위로 정규화하여 학습이 원활하게 이루어지도록 합니다.\n",
    "# 레이블(정답)을 원-핫 인코딩하여 10개의 클래스로 변환합니다.\n"
   ]
  },
  {
   "cell_type": "code",
   "execution_count": 12,
   "id": "d84bcdeb",
   "metadata": {},
   "outputs": [],
   "source": [
    "# MNIST 데이터셋 로드 (훈련 데이터와 테스트 데이터 분리)\n",
    "(X_train, y_train), (X_test, y_test) = mnist.load_data()\n",
    "\n",
    "# 데이터 전처리 (28x28 크기의 이미지를 28x28x1 크기로 변환)\n",
    "X_train = X_train.reshape(X_train.shape[0], 28, 28, 1).astype('float32')\n",
    "X_test = X_test.reshape(X_test.shape[0], 28, 28, 1).astype('float32')\n",
    "\n",
    "# 이미지 픽셀 값을 0~1 범위로 정규화\n",
    "X_train /= 255\n",
    "X_test /= 255\n",
    "\n",
    "# 레이블(정답)을 원-핫 인코딩 (0~9 숫자를 10개의 클래스 값으로 변환)\n",
    "y_train = to_categorical(y_train, 10)\n",
    "y_test = to_categorical(y_test, 10)"
   ]
  },
  {
   "cell_type": "markdown",
   "id": "3f4e70e9",
   "metadata": {},
   "source": [
    "# 모델링"
   ]
  },
  {
   "cell_type": "markdown",
   "id": "8c2d3afb",
   "metadata": {},
   "source": [
    "## CNN 모델 정의"
   ]
  },
  {
   "cell_type": "code",
   "execution_count": 13,
   "id": "a4ddc093",
   "metadata": {},
   "outputs": [],
   "source": [
    "# CNN 모델 정의:\n",
    "# 첫 번째 합성곱 층(Conv2D): 32개의 3x3 필터를 적용하여 이미지에서 특징을 추출합니다. 활성화 함수로 ReLU를 사용합니다.\n",
    "# 최대 풀링 층(MaxPooling2D): 2x2 크기의 풀링 필터를 사용하여 차원을 줄이고, 중요한 특징만 남깁니다.\n",
    "# 두 번째 합성곱 층과 최대 풀링 층도 같은 방식으로 적용되지만, 필터 개수를 64개로 설정합니다.\n",
    "# Flatten 층: 합성곱과 풀링을 거친 출력을 1차원 벡터로 변환하여 완전 연결층에 전달합니다.\n",
    "# 완전 연결층(Dense): 128개의 뉴런을 가지며, 활성화 함수로 ReLU를 사용합니다.\n",
    "# 출력층(Dense): 10개의 클래스를 분류하기 위해 Softmax 활성화 함수를 사용합니다."
   ]
  },
  {
   "cell_type": "code",
   "execution_count": 14,
   "id": "8b92da83",
   "metadata": {},
   "outputs": [],
   "source": [
    "# CNN 모델 정의\n",
    "model = Sequential()\n",
    "\n",
    "# 첫 번째 합성곱 층 (Conv2D): 32개의 3x3 필터, 활성화 함수: ReLU, 입력 크기: 28x28x1\n",
    "model.add(Conv2D(32, kernel_size=(3, 3), activation='relu', input_shape=(28, 28, 1)))\n",
    "\n",
    "# 풀링 층 (MaxPooling2D): 2x2 크기의 풀링 필터\n",
    "model.add(MaxPooling2D(pool_size=(2, 2)))\n",
    "\n",
    "# 두 번째 합성곱 층 (Conv2D): 64개의 3x3 필터, 활성화 함수: ReLU\n",
    "model.add(Conv2D(64, kernel_size=(3, 3), activation='relu'))\n",
    "\n",
    "# 두 번째 풀링 층 (MaxPooling2D): 2x2 크기의 풀링 필터\n",
    "model.add(MaxPooling2D(pool_size=(2, 2)))\n",
    "\n",
    "# 완전 연결층에 전달하기 위해 Flatten으로 데이터를 1차원으로 변환\n",
    "model.add(Flatten())\n",
    "\n",
    "# 완전 연결층 (Dense): 128개의 노드, 활성화 함수: ReLU\n",
    "model.add(Dense(128, activation='relu'))\n",
    "\n",
    "# 출력층 (Dense): 10개의 노드, 활성화 함수: Softmax (10개의 클래스)\n",
    "model.add(Dense(10, activation='softmax'))"
   ]
  },
  {
   "cell_type": "markdown",
   "id": "b142c3b5",
   "metadata": {},
   "source": [
    "## 모델 컴파일"
   ]
  },
  {
   "cell_type": "code",
   "execution_count": 16,
   "id": "2ced8133",
   "metadata": {},
   "outputs": [],
   "source": [
    "# 손실 함수로 categorical_crossentropy를 사용하며, 이는 다중 클래스 분류 문제에서 사용하는 손실 함수입니다.\n",
    "# 최적화 방법으로 Adam을 사용하여 경사 하강법을 최적화합니다.\n",
    "# 성능 평가 지표로 **accuracy(정확도)**를 사용합니다."
   ]
  },
  {
   "cell_type": "code",
   "execution_count": 17,
   "id": "4ac2a2cc",
   "metadata": {},
   "outputs": [],
   "source": [
    "# 모델 컴파일 (손실 함수: Categorical Crossentropy, 최적화 방법: Adam, 평가지표: Accuracy)\n",
    "model.compile(loss='categorical_crossentropy', optimizer='adam', metrics=['accuracy'])"
   ]
  },
  {
   "cell_type": "markdown",
   "id": "80ae46f4",
   "metadata": {},
   "source": [
    "## 모델 학습"
   ]
  },
  {
   "cell_type": "code",
   "execution_count": 18,
   "id": "3c6e1bf9",
   "metadata": {},
   "outputs": [],
   "source": [
    "# 10 에포크 동안 학습하며, 배치 크기 128로 설정하여 학습을 진행합니다.\n",
    "# 학습 중간에 테스트 데이터를 사용해 검증도 수행합니다."
   ]
  },
  {
   "cell_type": "code",
   "execution_count": 19,
   "id": "da63fea1",
   "metadata": {},
   "outputs": [
    {
     "name": "stdout",
     "output_type": "stream",
     "text": [
      "Epoch 1/10\n",
      "\u001b[1m469/469\u001b[0m \u001b[32m━━━━━━━━━━━━━━━━━━━━\u001b[0m\u001b[37m\u001b[0m \u001b[1m20s\u001b[0m 39ms/step - accuracy: 0.8518 - loss: 0.4837 - val_accuracy: 0.9818 - val_loss: 0.0586\n",
      "Epoch 2/10\n",
      "\u001b[1m469/469\u001b[0m \u001b[32m━━━━━━━━━━━━━━━━━━━━\u001b[0m\u001b[37m\u001b[0m \u001b[1m19s\u001b[0m 41ms/step - accuracy: 0.9805 - loss: 0.0651 - val_accuracy: 0.9863 - val_loss: 0.0428\n",
      "Epoch 3/10\n",
      "\u001b[1m469/469\u001b[0m \u001b[32m━━━━━━━━━━━━━━━━━━━━\u001b[0m\u001b[37m\u001b[0m \u001b[1m19s\u001b[0m 41ms/step - accuracy: 0.9869 - loss: 0.0412 - val_accuracy: 0.9872 - val_loss: 0.0369\n",
      "Epoch 4/10\n",
      "\u001b[1m469/469\u001b[0m \u001b[32m━━━━━━━━━━━━━━━━━━━━\u001b[0m\u001b[37m\u001b[0m \u001b[1m20s\u001b[0m 42ms/step - accuracy: 0.9911 - loss: 0.0284 - val_accuracy: 0.9869 - val_loss: 0.0387\n",
      "Epoch 5/10\n",
      "\u001b[1m469/469\u001b[0m \u001b[32m━━━━━━━━━━━━━━━━━━━━\u001b[0m\u001b[37m\u001b[0m \u001b[1m20s\u001b[0m 43ms/step - accuracy: 0.9925 - loss: 0.0242 - val_accuracy: 0.9880 - val_loss: 0.0353\n",
      "Epoch 6/10\n",
      "\u001b[1m469/469\u001b[0m \u001b[32m━━━━━━━━━━━━━━━━━━━━\u001b[0m\u001b[37m\u001b[0m \u001b[1m20s\u001b[0m 43ms/step - accuracy: 0.9942 - loss: 0.0190 - val_accuracy: 0.9893 - val_loss: 0.0346\n",
      "Epoch 7/10\n",
      "\u001b[1m469/469\u001b[0m \u001b[32m━━━━━━━━━━━━━━━━━━━━\u001b[0m\u001b[37m\u001b[0m \u001b[1m21s\u001b[0m 44ms/step - accuracy: 0.9951 - loss: 0.0157 - val_accuracy: 0.9914 - val_loss: 0.0279\n",
      "Epoch 8/10\n",
      "\u001b[1m469/469\u001b[0m \u001b[32m━━━━━━━━━━━━━━━━━━━━\u001b[0m\u001b[37m\u001b[0m \u001b[1m21s\u001b[0m 44ms/step - accuracy: 0.9965 - loss: 0.0114 - val_accuracy: 0.9875 - val_loss: 0.0412\n",
      "Epoch 9/10\n",
      "\u001b[1m469/469\u001b[0m \u001b[32m━━━━━━━━━━━━━━━━━━━━\u001b[0m\u001b[37m\u001b[0m \u001b[1m20s\u001b[0m 42ms/step - accuracy: 0.9968 - loss: 0.0109 - val_accuracy: 0.9908 - val_loss: 0.0311\n",
      "Epoch 10/10\n",
      "\u001b[1m469/469\u001b[0m \u001b[32m━━━━━━━━━━━━━━━━━━━━\u001b[0m\u001b[37m\u001b[0m \u001b[1m20s\u001b[0m 42ms/step - accuracy: 0.9977 - loss: 0.0079 - val_accuracy: 0.9905 - val_loss: 0.0305\n"
     ]
    }
   ],
   "source": [
    "# 모델 학습\n",
    "history = model.fit(X_train, y_train, epochs=10, batch_size=128, validation_data=(X_test, y_test))"
   ]
  },
  {
   "cell_type": "markdown",
   "id": "93e6ee32",
   "metadata": {},
   "source": [
    "## 모델 평가"
   ]
  },
  {
   "cell_type": "code",
   "execution_count": null,
   "id": "bd85fe21",
   "metadata": {},
   "outputs": [],
   "source": [
    "# 학습이 완료되면 테스트 데이터셋에서 모델 성능을 평가하고 정확도(accuracy)를 출력합니다."
   ]
  },
  {
   "cell_type": "code",
   "execution_count": 20,
   "id": "ffc67908",
   "metadata": {},
   "outputs": [
    {
     "name": "stdout",
     "output_type": "stream",
     "text": [
      "\u001b[1m313/313\u001b[0m \u001b[32m━━━━━━━━━━━━━━━━━━━━\u001b[0m\u001b[37m\u001b[0m \u001b[1m2s\u001b[0m 7ms/step - accuracy: 0.9876 - loss: 0.0378\n",
      "Test Accuracy: 99.05%\n"
     ]
    }
   ],
   "source": [
    "# 모델 평가\n",
    "loss, accuracy = model.evaluate(X_test, y_test)\n",
    "print(f'Test Accuracy: {accuracy * 100:.2f}%')\n"
   ]
  },
  {
   "cell_type": "markdown",
   "id": "97164123",
   "metadata": {},
   "source": [
    "## 예측"
   ]
  },
  {
   "cell_type": "code",
   "execution_count": 21,
   "id": "b54f1e17",
   "metadata": {},
   "outputs": [],
   "source": [
    "# 학습된 모델을 사용해 테스트 데이터에 대한 예측값을 생성합니다.\n",
    "\n",
    "# 결과 출력\n",
    "# 모델 학습이 완료되면 다음과 같은 정보가 출력됩니다:\n",
    "\n",
    "# Test Accuracy: 테스트 데이터셋에서의 정확도를 퍼센트로 표시합니다"
   ]
  },
  {
   "cell_type": "code",
   "execution_count": 23,
   "id": "fe804163",
   "metadata": {},
   "outputs": [
    {
     "name": "stdout",
     "output_type": "stream",
     "text": [
      "\u001b[1m313/313\u001b[0m \u001b[32m━━━━━━━━━━━━━━━━━━━━\u001b[0m\u001b[37m\u001b[0m \u001b[1m2s\u001b[0m 5ms/step\n"
     ]
    }
   ],
   "source": [
    "# 예측 (테스트 데이터에 대한 예측)\n",
    "predictions = model.predict(X_test)"
   ]
  },
  {
   "cell_type": "code",
   "execution_count": null,
   "id": "f79a5dcc",
   "metadata": {},
   "outputs": [],
   "source": []
  },
  {
   "cell_type": "markdown",
   "id": "14756322",
   "metadata": {},
   "source": [
    "# 종합"
   ]
  },
  {
   "cell_type": "code",
   "execution_count": null,
   "id": "bebae368",
   "metadata": {},
   "outputs": [],
   "source": [
    "# 필요한 라이브러리 임포트\n",
    "import numpy as np\n",
    "from tensorflow.keras.models import Sequential\n",
    "from tensorflow.keras.layers import Dense, Conv2D, MaxPooling2D, Flatten\n",
    "from tensorflow.keras.datasets import mnist\n",
    "from tensorflow.keras.utils import to_categorical\n",
    "\n",
    "# MNIST 데이터셋 로드 (훈련 데이터와 테스트 데이터 분리)\n",
    "(X_train, y_train), (X_test, y_test) = mnist.load_data()\n",
    "\n",
    "# 데이터 전처리 (28x28 크기의 이미지를 28x28x1 크기로 변환)\n",
    "X_train = X_train.reshape(X_train.shape[0], 28, 28, 1).astype('float32')\n",
    "X_test = X_test.reshape(X_test.shape[0], 28, 28, 1).astype('float32')\n",
    "\n",
    "# 이미지 픽셀 값을 0~1 범위로 정규화\n",
    "X_train /= 255\n",
    "X_test /= 255\n",
    "\n",
    "# 레이블(정답)을 원-핫 인코딩 (0~9 숫자를 10개의 클래스 값으로 변환)\n",
    "y_train = to_categorical(y_train, 10)\n",
    "y_test = to_categorical(y_test, 10)\n",
    "\n",
    "# CNN 모델 정의\n",
    "model = Sequential()\n",
    "\n",
    "# 첫 번째 합성곱 층 (Conv2D): 32개의 3x3 필터, 활성화 함수: ReLU, 입력 크기: 28x28x1\n",
    "model.add(Conv2D(32, kernel_size=(3, 3), activation='relu', input_shape=(28, 28, 1)))\n",
    "\n",
    "# 풀링 층 (MaxPooling2D): 2x2 크기의 풀링 필터\n",
    "model.add(MaxPooling2D(pool_size=(2, 2)))\n",
    "\n",
    "# 두 번째 합성곱 층 (Conv2D): 64개의 3x3 필터, 활성화 함수: ReLU\n",
    "model.add(Conv2D(64, kernel_size=(3, 3), activation='relu'))\n",
    "\n",
    "# 두 번째 풀링 층 (MaxPooling2D): 2x2 크기의 풀링 필터\n",
    "model.add(MaxPooling2D(pool_size=(2, 2)))\n",
    "\n",
    "# 완전 연결층에 전달하기 위해 Flatten으로 데이터를 1차원으로 변환\n",
    "model.add(Flatten())\n",
    "\n",
    "# 완전 연결층 (Dense): 128개의 노드, 활성화 함수: ReLU\n",
    "model.add(Dense(128, activation='relu'))\n",
    "\n",
    "# 출력층 (Dense): 10개의 노드, 활성화 함수: Softmax (10개의 클래스)\n",
    "model.add(Dense(10, activation='softmax'))\n",
    "\n",
    "# 모델 컴파일 (손실 함수: Categorical Crossentropy, 최적화 방법: Adam, 평가지표: Accuracy)\n",
    "model.compile(loss='categorical_crossentropy', optimizer='adam', metrics=['accuracy'])\n",
    "\n",
    "# 모델 학습\n",
    "history = model.fit(X_train, y_train, epochs=10, batch_size=128, validation_data=(X_test, y_test))\n",
    "\n",
    "# 모델 평가\n",
    "loss, accuracy = model.evaluate(X_test, y_test)\n",
    "print(f'Test Accuracy: {accuracy * 100:.2f}%')\n",
    "\n",
    "# 예측 (테스트 데이터에 대한 예측)\n",
    "predictions = model.predict(X_test)\n"
   ]
  }
 ],
 "metadata": {
  "kernelspec": {
   "display_name": "Python 3 (ipykernel)",
   "language": "python",
   "name": "python3"
  },
  "language_info": {
   "codemirror_mode": {
    "name": "ipython",
    "version": 3
   },
   "file_extension": ".py",
   "mimetype": "text/x-python",
   "name": "python",
   "nbconvert_exporter": "python",
   "pygments_lexer": "ipython3",
   "version": "3.9.11"
  },
  "toc": {
   "base_numbering": 1,
   "nav_menu": {},
   "number_sections": true,
   "sideBar": true,
   "skip_h1_title": false,
   "title_cell": "Table of Contents",
   "title_sidebar": "Contents",
   "toc_cell": false,
   "toc_position": {},
   "toc_section_display": true,
   "toc_window_display": false
  }
 },
 "nbformat": 4,
 "nbformat_minor": 5
}
