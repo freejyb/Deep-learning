{
 "cells": [
  {
   "cell_type": "markdown",
   "id": "0d7bec1a-14e7-4d6e-94ed-3defcdcdffee",
   "metadata": {},
   "source": [
    "# 1. 퍼셉트론(Perceptron)"
   ]
  },
  {
   "cell_type": "markdown",
   "id": "69bbeeb6-2e30-4350-b6bc-2574d343be0c",
   "metadata": {},
   "source": [
    "인공 신경망의 기본 단위로, 가장 단순한 형태의 인공 뉴런 모델입니다. \n",
    "\n",
    "퍼셉트론은 입력 신호를 받아 이를 가중치(weight)와 곱한 값을 합산한 후, 활성화 함수(activation function)를 통해 출력 결과를 결정하는 구조를 가지고 있습니다. \n",
    "\n",
    "퍼셉트론은 분류 문제에서 특정 클래스에 속하는지를 판단하는 역할을 합니다."
   ]
  },
  {
   "cell_type": "markdown",
   "id": "a9546546-c291-4698-9d3f-25585b4ff426",
   "metadata": {},
   "source": [
    "퍼셉트론의 동작 과정"
   ]
  },
  {
   "cell_type": "markdown",
   "id": "458585e1-71c4-4ea2-9be8-0bc29065b5be",
   "metadata": {},
   "source": [
    "1. 입력 값과 가중치의 계산: 각 입력 값 : 가중합으로 계산됩니다."
   ]
  },
  {
   "cell_type": "markdown",
   "id": "fa210a90-0c98-46ec-a1f0-c0e7944a1f88",
   "metadata": {},
   "source": [
    "2. 활성화 함수 적용: 합산된 값을 활성화 함수에 통과시켜 최종 출력을 계산합니다. \n",
    "\n",
    "    퍼셉트론에서는 주로 단순한 계단 함수(step function)를 사용하여, 결과가 일정 임계값 이상이면 1, 그렇지 않으면 0으로 출력됩니다."
   ]
  },
  {
   "cell_type": "markdown",
   "id": "0e91ea40-4875-4a6f-95ab-bbb92bc25c47",
   "metadata": {},
   "source": [
    "퍼셉트론은 이진 분류 문제를 해결하기 위해 설계되었으며, 단일 층으로 구성된 경우 선형 분리 가능한 문제만 해결할 수 있습니다. \n",
    "\n",
    "그러나 선형 분리가 불가능한 문제(예: XOR 문제)를 해결하지 못한다는 한계가 있습니다. \n",
    "\n",
    "이러한 한계를 극복하기 위해 다층 퍼셉트론(Multi-Layer Perceptron, MLP)이 개발되었으며, 이는 여러 층을 통해 비선형 문제를 해결할 수 있습니다."
   ]
  },
  {
   "cell_type": "code",
   "execution_count": 1,
   "id": "3f625693-95e5-4b09-8f1e-ab9e22339214",
   "metadata": {},
   "outputs": [
    {
     "name": "stdout",
     "output_type": "stream",
     "text": [
      "Input: [0 0], Prediction: [1 0]\n",
      "Input: [0 1], Prediction: [1 1]\n",
      "Input: [1 0], Prediction: [0 1]\n",
      "Input: [1 1], Prediction: [1 1]\n"
     ]
    }
   ],
   "source": [
    "import numpy as np\n",
    "\n",
    "class Perceptron:\n",
    "    def __init__(self, input_size, output_size, learning_rate=0.01, epochs=1000):\n",
    "        self.weights = np.random.randn(input_size, output_size)  # Initialize weights randomly\n",
    "        self.bias = np.zeros(output_size)  # Bias for each output neuron\n",
    "        self.learning_rate = learning_rate\n",
    "        self.epochs = epochs\n",
    "\n",
    "    def activation_function(self, x):\n",
    "        return np.where(x >= 0, 1, 0)  # Step function as activation function\n",
    "\n",
    "    def predict(self, x):\n",
    "        # Calculate the linear combination of inputs and weights, including bias\n",
    "        linear_output = np.dot(x, self.weights) + self.bias\n",
    "        # Apply activation function\n",
    "        return self.activation_function(linear_output)\n",
    "\n",
    "    def fit(self, X, y):\n",
    "        for _ in range(self.epochs):\n",
    "            for inputs, label in zip(X, y):\n",
    "                # Forward pass\n",
    "                linear_output = np.dot(inputs, self.weights) + self.bias\n",
    "                prediction = self.activation_function(linear_output)\n",
    "                # Calculate error\n",
    "                error = label - prediction\n",
    "                # Backpropagation and weight update\n",
    "                self.weights += self.learning_rate * np.outer(inputs, error)\n",
    "                self.bias += self.learning_rate * error\n",
    "\n",
    "# Example usage\n",
    "if __name__ == \"__main__\":\n",
    "    # Define training data (logical XOR operation)\n",
    "    X = np.array([[0, 0], [0, 1], [1, 0], [1, 1]])\n",
    "    y = np.array([[0, 1], [1, 0], [1, 0], [0, 1]])  # Output for two neurons\n",
    "\n",
    "    # Initialize Perceptron\n",
    "    perceptron = Perceptron(input_size=2, output_size=2, learning_rate=0.1, epochs=10000)\n",
    "\n",
    "    # Train the perceptron\n",
    "    perceptron.fit(X, y)\n",
    "\n",
    "    # Test the perceptron\n",
    "    for x in X:\n",
    "        print(f\"Input: {x}, Prediction: {perceptron.predict(x)}\")\n"
   ]
  },
  {
   "cell_type": "code",
   "execution_count": null,
   "id": "accafdd8-c60c-4de8-83fe-e3113866fb02",
   "metadata": {},
   "outputs": [],
   "source": []
  },
  {
   "cell_type": "markdown",
   "id": "7337732b",
   "metadata": {
    "id": "7337732b"
   },
   "source": [
    "분류 : MLPClassifier: 다층 퍼셉트론 분류기"
   ]
  },
  {
   "cell_type": "markdown",
   "id": "0ea3c27f",
   "metadata": {
    "id": "0ea3c27f"
   },
   "source": [
    "#  Iris 데이터셋을 사용한 ANN 분류"
   ]
  },
  {
   "cell_type": "markdown",
   "id": "0319b110",
   "metadata": {
    "id": "0319b110"
   },
   "source": [
    "## 개요"
   ]
  },
  {
   "cell_type": "markdown",
   "id": "1d836b32",
   "metadata": {
    "id": "1d836b32"
   },
   "source": [
    "Iris 데이터셋 정보\n",
    "Iris 데이터셋은 머신러닝에서 가장 널리 사용되는 분류 문제용 데이터셋입니다.\n",
    "1936년에 **로널드 피셔(Ronald Fisher)**가 처음 소개했으며, 세 가지 붓꽃(Iris) 품종을 구분하는 데 사용됩니다.\n",
    "\n",
    "1. 데이터셋 구성\n",
    "\n",
    "샘플 수: 150개\n",
    "\n",
    "클래스 수: 3개\n",
    "Setosa (0)\n",
    "Versicolor (1)\n",
    "Virginica (2)\n",
    "\n",
    "특징 수: 4개\n",
    "Sepal Length (꽃받침 길이)\n",
    "Sepal Width (꽃받침 너비)\n",
    "Petal Length (꽃잎 길이)\n",
    "Petal Width (꽃잎 너비)\n",
    "\n",
    "2. 데이터 특징\n",
    "각 특징은 연속적인 실수 값으로 측정됩니다 (단위는 센티미터).\n",
    "각 클래스는 50개의 샘플을 가지고 있으며, 클래스 간의 데이터 분포는 비교적 균형 잡혀 있습니다."
   ]
  },
  {
   "cell_type": "markdown",
   "id": "4396669f",
   "metadata": {
    "id": "4396669f"
   },
   "source": [
    "데이터 탐색 정보"
   ]
  },
  {
   "cell_type": "code",
   "execution_count": 1,
   "id": "c5ab09c1",
   "metadata": {
    "colab": {
     "base_uri": "https://localhost:8080/"
    },
    "executionInfo": {
     "elapsed": 7459,
     "status": "ok",
     "timestamp": 1731410912023,
     "user": {
      "displayName": "전윤범",
      "userId": "16579588953913211126"
     },
     "user_tz": -540
    },
    "id": "c5ab09c1",
    "outputId": "d4eabe66-355b-4d66-a047-553642f0c32a"
   },
   "outputs": [
    {
     "name": "stdout",
     "output_type": "stream",
     "text": [
      "데이터 크기: (150, 5)\n",
      "특징 이름: ['sepal length (cm)', 'sepal width (cm)', 'petal length (cm)', 'petal width (cm)']\n",
      "레이블 이름: ['setosa' 'versicolor' 'virginica']\n",
      "\n",
      "첫 5개 샘플 데이터:\n",
      "   sepal length (cm)  sepal width (cm)  petal length (cm)  petal width (cm)  \\\n",
      "0                5.1               3.5                1.4               0.2   \n",
      "1                4.9               3.0                1.4               0.2   \n",
      "2                4.7               3.2                1.3               0.2   \n",
      "3                4.6               3.1                1.5               0.2   \n",
      "4                5.0               3.6                1.4               0.2   \n",
      "\n",
      "   species  \n",
      "0        0  \n",
      "1        0  \n",
      "2        0  \n",
      "3        0  \n",
      "4        0  \n",
      "\n",
      "데이터셋 요약 정보:\n",
      "<class 'pandas.core.frame.DataFrame'>\n",
      "RangeIndex: 150 entries, 0 to 149\n",
      "Data columns (total 5 columns):\n",
      " #   Column             Non-Null Count  Dtype  \n",
      "---  ------             --------------  -----  \n",
      " 0   sepal length (cm)  150 non-null    float64\n",
      " 1   sepal width (cm)   150 non-null    float64\n",
      " 2   petal length (cm)  150 non-null    float64\n",
      " 3   petal width (cm)   150 non-null    float64\n",
      " 4   species            150 non-null    int64  \n",
      "dtypes: float64(4), int64(1)\n",
      "memory usage: 6.0 KB\n",
      "None\n",
      "\n",
      "기본 통계량:\n",
      "       sepal length (cm)  sepal width (cm)  petal length (cm)  \\\n",
      "count         150.000000        150.000000         150.000000   \n",
      "mean            5.843333          3.057333           3.758000   \n",
      "std             0.828066          0.435866           1.765298   \n",
      "min             4.300000          2.000000           1.000000   \n",
      "25%             5.100000          2.800000           1.600000   \n",
      "50%             5.800000          3.000000           4.350000   \n",
      "75%             6.400000          3.300000           5.100000   \n",
      "max             7.900000          4.400000           6.900000   \n",
      "\n",
      "       petal width (cm)     species  \n",
      "count        150.000000  150.000000  \n",
      "mean           1.199333    1.000000  \n",
      "std            0.762238    0.819232  \n",
      "min            0.100000    0.000000  \n",
      "25%            0.300000    0.000000  \n",
      "50%            1.300000    1.000000  \n",
      "75%            1.800000    2.000000  \n",
      "max            2.500000    2.000000  \n",
      "\n",
      "클래스별 샘플 수:\n",
      "species\n",
      "0    50\n",
      "1    50\n",
      "2    50\n",
      "Name: count, dtype: int64\n"
     ]
    }
   ],
   "source": [
    "import pandas as pd\n",
    "from sklearn.datasets import load_iris\n",
    "\n",
    "# 1. Iris 데이터셋 로드\n",
    "iris = load_iris()\n",
    "X = iris.data\n",
    "y = iris.target\n",
    "feature_names = iris.feature_names\n",
    "class_names = iris.target_names\n",
    "\n",
    "# 2. 데이터프레임 생성\n",
    "df = pd.DataFrame(X, columns=feature_names)\n",
    "df['species'] = y\n",
    "\n",
    "# 3. 데이터 기본 정보 출력\n",
    "print(\"데이터 크기:\", df.shape)\n",
    "print(\"특징 이름:\", feature_names)\n",
    "print(\"레이블 이름:\", class_names)\n",
    "print(\"\\n첫 5개 샘플 데이터:\")\n",
    "print(df.head())\n",
    "print(\"\\n데이터셋 요약 정보:\")\n",
    "print(df.info())\n",
    "print(\"\\n기본 통계량:\")\n",
    "print(df.describe())\n",
    "print(\"\\n클래스별 샘플 수:\")\n",
    "print(df['species'].value_counts())\n"
   ]
  },
  {
   "cell_type": "markdown",
   "id": "f76a452b",
   "metadata": {
    "id": "f76a452b"
   },
   "source": [
    "## 라이브러리"
   ]
  },
  {
   "cell_type": "code",
   "execution_count": 2,
   "id": "5a4500c6",
   "metadata": {
    "executionInfo": {
     "elapsed": 961,
     "status": "ok",
     "timestamp": 1731410918932,
     "user": {
      "displayName": "전윤범",
      "userId": "16579588953913211126"
     },
     "user_tz": -540
    },
    "id": "5a4500c6"
   },
   "outputs": [],
   "source": [
    "import numpy as np\n",
    "import matplotlib.pyplot as plt\n",
    "from sklearn.datasets import load_iris\n",
    "from sklearn.model_selection import train_test_split\n",
    "from sklearn.preprocessing import StandardScaler\n",
    "from sklearn.neural_network import MLPClassifier\n",
    "from sklearn.metrics import classification_report, confusion_matrix"
   ]
  },
  {
   "cell_type": "markdown",
   "id": "1a4dee53",
   "metadata": {
    "id": "1a4dee53"
   },
   "source": [
    "## 데이터 셋/ 전처리"
   ]
  },
  {
   "cell_type": "code",
   "execution_count": 3,
   "id": "caca0343",
   "metadata": {
    "executionInfo": {
     "elapsed": 583,
     "status": "ok",
     "timestamp": 1731410924502,
     "user": {
      "displayName": "전윤범",
      "userId": "16579588953913211126"
     },
     "user_tz": -540
    },
    "id": "caca0343"
   },
   "outputs": [],
   "source": [
    "# 1. 데이터 로드 및 전처리\n",
    "iris = load_iris()\n",
    "X, y = iris.data, iris.target\n",
    "\n",
    "# 학습 데이터와 테스트 데이터 분리\n",
    "X_train, X_test, y_train, y_test = train_test_split(X, y, test_size=0.2, random_state=42)\n",
    "\n",
    "# 데이터 표준화\n",
    "scaler = StandardScaler()\n",
    "X_train = scaler.fit_transform(X_train)\n",
    "X_test = scaler.transform(X_test)"
   ]
  },
  {
   "cell_type": "markdown",
   "id": "be97b315",
   "metadata": {
    "id": "be97b315"
   },
   "source": [
    "## 모델 생성/학습"
   ]
  },
  {
   "cell_type": "code",
   "execution_count": 4,
   "id": "70eac561",
   "metadata": {
    "colab": {
     "base_uri": "https://localhost:8080/",
     "height": 136
    },
    "executionInfo": {
     "elapsed": 543,
     "status": "ok",
     "timestamp": 1731410928375,
     "user": {
      "displayName": "전윤범",
      "userId": "16579588953913211126"
     },
     "user_tz": -540
    },
    "id": "70eac561",
    "outputId": "fde6e372-d514-4707-a6ce-12e40b5748ea"
   },
   "outputs": [
    {
     "name": "stderr",
     "output_type": "stream",
     "text": [
      "/usr/local/lib/python3.10/dist-packages/sklearn/neural_network/_multilayer_perceptron.py:690: ConvergenceWarning: Stochastic Optimizer: Maximum iterations (500) reached and the optimization hasn't converged yet.\n",
      "  warnings.warn(\n"
     ]
    },
    {
     "data": {
      "text/html": [
       "<style>#sk-container-id-1 {\n",
       "  /* Definition of color scheme common for light and dark mode */\n",
       "  --sklearn-color-text: black;\n",
       "  --sklearn-color-line: gray;\n",
       "  /* Definition of color scheme for unfitted estimators */\n",
       "  --sklearn-color-unfitted-level-0: #fff5e6;\n",
       "  --sklearn-color-unfitted-level-1: #f6e4d2;\n",
       "  --sklearn-color-unfitted-level-2: #ffe0b3;\n",
       "  --sklearn-color-unfitted-level-3: chocolate;\n",
       "  /* Definition of color scheme for fitted estimators */\n",
       "  --sklearn-color-fitted-level-0: #f0f8ff;\n",
       "  --sklearn-color-fitted-level-1: #d4ebff;\n",
       "  --sklearn-color-fitted-level-2: #b3dbfd;\n",
       "  --sklearn-color-fitted-level-3: cornflowerblue;\n",
       "\n",
       "  /* Specific color for light theme */\n",
       "  --sklearn-color-text-on-default-background: var(--sg-text-color, var(--theme-code-foreground, var(--jp-content-font-color1, black)));\n",
       "  --sklearn-color-background: var(--sg-background-color, var(--theme-background, var(--jp-layout-color0, white)));\n",
       "  --sklearn-color-border-box: var(--sg-text-color, var(--theme-code-foreground, var(--jp-content-font-color1, black)));\n",
       "  --sklearn-color-icon: #696969;\n",
       "\n",
       "  @media (prefers-color-scheme: dark) {\n",
       "    /* Redefinition of color scheme for dark theme */\n",
       "    --sklearn-color-text-on-default-background: var(--sg-text-color, var(--theme-code-foreground, var(--jp-content-font-color1, white)));\n",
       "    --sklearn-color-background: var(--sg-background-color, var(--theme-background, var(--jp-layout-color0, #111)));\n",
       "    --sklearn-color-border-box: var(--sg-text-color, var(--theme-code-foreground, var(--jp-content-font-color1, white)));\n",
       "    --sklearn-color-icon: #878787;\n",
       "  }\n",
       "}\n",
       "\n",
       "#sk-container-id-1 {\n",
       "  color: var(--sklearn-color-text);\n",
       "}\n",
       "\n",
       "#sk-container-id-1 pre {\n",
       "  padding: 0;\n",
       "}\n",
       "\n",
       "#sk-container-id-1 input.sk-hidden--visually {\n",
       "  border: 0;\n",
       "  clip: rect(1px 1px 1px 1px);\n",
       "  clip: rect(1px, 1px, 1px, 1px);\n",
       "  height: 1px;\n",
       "  margin: -1px;\n",
       "  overflow: hidden;\n",
       "  padding: 0;\n",
       "  position: absolute;\n",
       "  width: 1px;\n",
       "}\n",
       "\n",
       "#sk-container-id-1 div.sk-dashed-wrapped {\n",
       "  border: 1px dashed var(--sklearn-color-line);\n",
       "  margin: 0 0.4em 0.5em 0.4em;\n",
       "  box-sizing: border-box;\n",
       "  padding-bottom: 0.4em;\n",
       "  background-color: var(--sklearn-color-background);\n",
       "}\n",
       "\n",
       "#sk-container-id-1 div.sk-container {\n",
       "  /* jupyter's `normalize.less` sets `[hidden] { display: none; }`\n",
       "     but bootstrap.min.css set `[hidden] { display: none !important; }`\n",
       "     so we also need the `!important` here to be able to override the\n",
       "     default hidden behavior on the sphinx rendered scikit-learn.org.\n",
       "     See: https://github.com/scikit-learn/scikit-learn/issues/21755 */\n",
       "  display: inline-block !important;\n",
       "  position: relative;\n",
       "}\n",
       "\n",
       "#sk-container-id-1 div.sk-text-repr-fallback {\n",
       "  display: none;\n",
       "}\n",
       "\n",
       "div.sk-parallel-item,\n",
       "div.sk-serial,\n",
       "div.sk-item {\n",
       "  /* draw centered vertical line to link estimators */\n",
       "  background-image: linear-gradient(var(--sklearn-color-text-on-default-background), var(--sklearn-color-text-on-default-background));\n",
       "  background-size: 2px 100%;\n",
       "  background-repeat: no-repeat;\n",
       "  background-position: center center;\n",
       "}\n",
       "\n",
       "/* Parallel-specific style estimator block */\n",
       "\n",
       "#sk-container-id-1 div.sk-parallel-item::after {\n",
       "  content: \"\";\n",
       "  width: 100%;\n",
       "  border-bottom: 2px solid var(--sklearn-color-text-on-default-background);\n",
       "  flex-grow: 1;\n",
       "}\n",
       "\n",
       "#sk-container-id-1 div.sk-parallel {\n",
       "  display: flex;\n",
       "  align-items: stretch;\n",
       "  justify-content: center;\n",
       "  background-color: var(--sklearn-color-background);\n",
       "  position: relative;\n",
       "}\n",
       "\n",
       "#sk-container-id-1 div.sk-parallel-item {\n",
       "  display: flex;\n",
       "  flex-direction: column;\n",
       "}\n",
       "\n",
       "#sk-container-id-1 div.sk-parallel-item:first-child::after {\n",
       "  align-self: flex-end;\n",
       "  width: 50%;\n",
       "}\n",
       "\n",
       "#sk-container-id-1 div.sk-parallel-item:last-child::after {\n",
       "  align-self: flex-start;\n",
       "  width: 50%;\n",
       "}\n",
       "\n",
       "#sk-container-id-1 div.sk-parallel-item:only-child::after {\n",
       "  width: 0;\n",
       "}\n",
       "\n",
       "/* Serial-specific style estimator block */\n",
       "\n",
       "#sk-container-id-1 div.sk-serial {\n",
       "  display: flex;\n",
       "  flex-direction: column;\n",
       "  align-items: center;\n",
       "  background-color: var(--sklearn-color-background);\n",
       "  padding-right: 1em;\n",
       "  padding-left: 1em;\n",
       "}\n",
       "\n",
       "\n",
       "/* Toggleable style: style used for estimator/Pipeline/ColumnTransformer box that is\n",
       "clickable and can be expanded/collapsed.\n",
       "- Pipeline and ColumnTransformer use this feature and define the default style\n",
       "- Estimators will overwrite some part of the style using the `sk-estimator` class\n",
       "*/\n",
       "\n",
       "/* Pipeline and ColumnTransformer style (default) */\n",
       "\n",
       "#sk-container-id-1 div.sk-toggleable {\n",
       "  /* Default theme specific background. It is overwritten whether we have a\n",
       "  specific estimator or a Pipeline/ColumnTransformer */\n",
       "  background-color: var(--sklearn-color-background);\n",
       "}\n",
       "\n",
       "/* Toggleable label */\n",
       "#sk-container-id-1 label.sk-toggleable__label {\n",
       "  cursor: pointer;\n",
       "  display: block;\n",
       "  width: 100%;\n",
       "  margin-bottom: 0;\n",
       "  padding: 0.5em;\n",
       "  box-sizing: border-box;\n",
       "  text-align: center;\n",
       "}\n",
       "\n",
       "#sk-container-id-1 label.sk-toggleable__label-arrow:before {\n",
       "  /* Arrow on the left of the label */\n",
       "  content: \"▸\";\n",
       "  float: left;\n",
       "  margin-right: 0.25em;\n",
       "  color: var(--sklearn-color-icon);\n",
       "}\n",
       "\n",
       "#sk-container-id-1 label.sk-toggleable__label-arrow:hover:before {\n",
       "  color: var(--sklearn-color-text);\n",
       "}\n",
       "\n",
       "/* Toggleable content - dropdown */\n",
       "\n",
       "#sk-container-id-1 div.sk-toggleable__content {\n",
       "  max-height: 0;\n",
       "  max-width: 0;\n",
       "  overflow: hidden;\n",
       "  text-align: left;\n",
       "  /* unfitted */\n",
       "  background-color: var(--sklearn-color-unfitted-level-0);\n",
       "}\n",
       "\n",
       "#sk-container-id-1 div.sk-toggleable__content.fitted {\n",
       "  /* fitted */\n",
       "  background-color: var(--sklearn-color-fitted-level-0);\n",
       "}\n",
       "\n",
       "#sk-container-id-1 div.sk-toggleable__content pre {\n",
       "  margin: 0.2em;\n",
       "  border-radius: 0.25em;\n",
       "  color: var(--sklearn-color-text);\n",
       "  /* unfitted */\n",
       "  background-color: var(--sklearn-color-unfitted-level-0);\n",
       "}\n",
       "\n",
       "#sk-container-id-1 div.sk-toggleable__content.fitted pre {\n",
       "  /* unfitted */\n",
       "  background-color: var(--sklearn-color-fitted-level-0);\n",
       "}\n",
       "\n",
       "#sk-container-id-1 input.sk-toggleable__control:checked~div.sk-toggleable__content {\n",
       "  /* Expand drop-down */\n",
       "  max-height: 200px;\n",
       "  max-width: 100%;\n",
       "  overflow: auto;\n",
       "}\n",
       "\n",
       "#sk-container-id-1 input.sk-toggleable__control:checked~label.sk-toggleable__label-arrow:before {\n",
       "  content: \"▾\";\n",
       "}\n",
       "\n",
       "/* Pipeline/ColumnTransformer-specific style */\n",
       "\n",
       "#sk-container-id-1 div.sk-label input.sk-toggleable__control:checked~label.sk-toggleable__label {\n",
       "  color: var(--sklearn-color-text);\n",
       "  background-color: var(--sklearn-color-unfitted-level-2);\n",
       "}\n",
       "\n",
       "#sk-container-id-1 div.sk-label.fitted input.sk-toggleable__control:checked~label.sk-toggleable__label {\n",
       "  background-color: var(--sklearn-color-fitted-level-2);\n",
       "}\n",
       "\n",
       "/* Estimator-specific style */\n",
       "\n",
       "/* Colorize estimator box */\n",
       "#sk-container-id-1 div.sk-estimator input.sk-toggleable__control:checked~label.sk-toggleable__label {\n",
       "  /* unfitted */\n",
       "  background-color: var(--sklearn-color-unfitted-level-2);\n",
       "}\n",
       "\n",
       "#sk-container-id-1 div.sk-estimator.fitted input.sk-toggleable__control:checked~label.sk-toggleable__label {\n",
       "  /* fitted */\n",
       "  background-color: var(--sklearn-color-fitted-level-2);\n",
       "}\n",
       "\n",
       "#sk-container-id-1 div.sk-label label.sk-toggleable__label,\n",
       "#sk-container-id-1 div.sk-label label {\n",
       "  /* The background is the default theme color */\n",
       "  color: var(--sklearn-color-text-on-default-background);\n",
       "}\n",
       "\n",
       "/* On hover, darken the color of the background */\n",
       "#sk-container-id-1 div.sk-label:hover label.sk-toggleable__label {\n",
       "  color: var(--sklearn-color-text);\n",
       "  background-color: var(--sklearn-color-unfitted-level-2);\n",
       "}\n",
       "\n",
       "/* Label box, darken color on hover, fitted */\n",
       "#sk-container-id-1 div.sk-label.fitted:hover label.sk-toggleable__label.fitted {\n",
       "  color: var(--sklearn-color-text);\n",
       "  background-color: var(--sklearn-color-fitted-level-2);\n",
       "}\n",
       "\n",
       "/* Estimator label */\n",
       "\n",
       "#sk-container-id-1 div.sk-label label {\n",
       "  font-family: monospace;\n",
       "  font-weight: bold;\n",
       "  display: inline-block;\n",
       "  line-height: 1.2em;\n",
       "}\n",
       "\n",
       "#sk-container-id-1 div.sk-label-container {\n",
       "  text-align: center;\n",
       "}\n",
       "\n",
       "/* Estimator-specific */\n",
       "#sk-container-id-1 div.sk-estimator {\n",
       "  font-family: monospace;\n",
       "  border: 1px dotted var(--sklearn-color-border-box);\n",
       "  border-radius: 0.25em;\n",
       "  box-sizing: border-box;\n",
       "  margin-bottom: 0.5em;\n",
       "  /* unfitted */\n",
       "  background-color: var(--sklearn-color-unfitted-level-0);\n",
       "}\n",
       "\n",
       "#sk-container-id-1 div.sk-estimator.fitted {\n",
       "  /* fitted */\n",
       "  background-color: var(--sklearn-color-fitted-level-0);\n",
       "}\n",
       "\n",
       "/* on hover */\n",
       "#sk-container-id-1 div.sk-estimator:hover {\n",
       "  /* unfitted */\n",
       "  background-color: var(--sklearn-color-unfitted-level-2);\n",
       "}\n",
       "\n",
       "#sk-container-id-1 div.sk-estimator.fitted:hover {\n",
       "  /* fitted */\n",
       "  background-color: var(--sklearn-color-fitted-level-2);\n",
       "}\n",
       "\n",
       "/* Specification for estimator info (e.g. \"i\" and \"?\") */\n",
       "\n",
       "/* Common style for \"i\" and \"?\" */\n",
       "\n",
       ".sk-estimator-doc-link,\n",
       "a:link.sk-estimator-doc-link,\n",
       "a:visited.sk-estimator-doc-link {\n",
       "  float: right;\n",
       "  font-size: smaller;\n",
       "  line-height: 1em;\n",
       "  font-family: monospace;\n",
       "  background-color: var(--sklearn-color-background);\n",
       "  border-radius: 1em;\n",
       "  height: 1em;\n",
       "  width: 1em;\n",
       "  text-decoration: none !important;\n",
       "  margin-left: 1ex;\n",
       "  /* unfitted */\n",
       "  border: var(--sklearn-color-unfitted-level-1) 1pt solid;\n",
       "  color: var(--sklearn-color-unfitted-level-1);\n",
       "}\n",
       "\n",
       ".sk-estimator-doc-link.fitted,\n",
       "a:link.sk-estimator-doc-link.fitted,\n",
       "a:visited.sk-estimator-doc-link.fitted {\n",
       "  /* fitted */\n",
       "  border: var(--sklearn-color-fitted-level-1) 1pt solid;\n",
       "  color: var(--sklearn-color-fitted-level-1);\n",
       "}\n",
       "\n",
       "/* On hover */\n",
       "div.sk-estimator:hover .sk-estimator-doc-link:hover,\n",
       ".sk-estimator-doc-link:hover,\n",
       "div.sk-label-container:hover .sk-estimator-doc-link:hover,\n",
       ".sk-estimator-doc-link:hover {\n",
       "  /* unfitted */\n",
       "  background-color: var(--sklearn-color-unfitted-level-3);\n",
       "  color: var(--sklearn-color-background);\n",
       "  text-decoration: none;\n",
       "}\n",
       "\n",
       "div.sk-estimator.fitted:hover .sk-estimator-doc-link.fitted:hover,\n",
       ".sk-estimator-doc-link.fitted:hover,\n",
       "div.sk-label-container:hover .sk-estimator-doc-link.fitted:hover,\n",
       ".sk-estimator-doc-link.fitted:hover {\n",
       "  /* fitted */\n",
       "  background-color: var(--sklearn-color-fitted-level-3);\n",
       "  color: var(--sklearn-color-background);\n",
       "  text-decoration: none;\n",
       "}\n",
       "\n",
       "/* Span, style for the box shown on hovering the info icon */\n",
       ".sk-estimator-doc-link span {\n",
       "  display: none;\n",
       "  z-index: 9999;\n",
       "  position: relative;\n",
       "  font-weight: normal;\n",
       "  right: .2ex;\n",
       "  padding: .5ex;\n",
       "  margin: .5ex;\n",
       "  width: min-content;\n",
       "  min-width: 20ex;\n",
       "  max-width: 50ex;\n",
       "  color: var(--sklearn-color-text);\n",
       "  box-shadow: 2pt 2pt 4pt #999;\n",
       "  /* unfitted */\n",
       "  background: var(--sklearn-color-unfitted-level-0);\n",
       "  border: .5pt solid var(--sklearn-color-unfitted-level-3);\n",
       "}\n",
       "\n",
       ".sk-estimator-doc-link.fitted span {\n",
       "  /* fitted */\n",
       "  background: var(--sklearn-color-fitted-level-0);\n",
       "  border: var(--sklearn-color-fitted-level-3);\n",
       "}\n",
       "\n",
       ".sk-estimator-doc-link:hover span {\n",
       "  display: block;\n",
       "}\n",
       "\n",
       "/* \"?\"-specific style due to the `<a>` HTML tag */\n",
       "\n",
       "#sk-container-id-1 a.estimator_doc_link {\n",
       "  float: right;\n",
       "  font-size: 1rem;\n",
       "  line-height: 1em;\n",
       "  font-family: monospace;\n",
       "  background-color: var(--sklearn-color-background);\n",
       "  border-radius: 1rem;\n",
       "  height: 1rem;\n",
       "  width: 1rem;\n",
       "  text-decoration: none;\n",
       "  /* unfitted */\n",
       "  color: var(--sklearn-color-unfitted-level-1);\n",
       "  border: var(--sklearn-color-unfitted-level-1) 1pt solid;\n",
       "}\n",
       "\n",
       "#sk-container-id-1 a.estimator_doc_link.fitted {\n",
       "  /* fitted */\n",
       "  border: var(--sklearn-color-fitted-level-1) 1pt solid;\n",
       "  color: var(--sklearn-color-fitted-level-1);\n",
       "}\n",
       "\n",
       "/* On hover */\n",
       "#sk-container-id-1 a.estimator_doc_link:hover {\n",
       "  /* unfitted */\n",
       "  background-color: var(--sklearn-color-unfitted-level-3);\n",
       "  color: var(--sklearn-color-background);\n",
       "  text-decoration: none;\n",
       "}\n",
       "\n",
       "#sk-container-id-1 a.estimator_doc_link.fitted:hover {\n",
       "  /* fitted */\n",
       "  background-color: var(--sklearn-color-fitted-level-3);\n",
       "}\n",
       "</style><div id=\"sk-container-id-1\" class=\"sk-top-container\"><div class=\"sk-text-repr-fallback\"><pre>MLPClassifier(hidden_layer_sizes=(10, 10), max_iter=500, random_state=42)</pre><b>In a Jupyter environment, please rerun this cell to show the HTML representation or trust the notebook. <br />On GitHub, the HTML representation is unable to render, please try loading this page with nbviewer.org.</b></div><div class=\"sk-container\" hidden><div class=\"sk-item\"><div class=\"sk-estimator fitted sk-toggleable\"><input class=\"sk-toggleable__control sk-hidden--visually\" id=\"sk-estimator-id-1\" type=\"checkbox\" checked><label for=\"sk-estimator-id-1\" class=\"sk-toggleable__label fitted sk-toggleable__label-arrow fitted\">&nbsp;&nbsp;MLPClassifier<a class=\"sk-estimator-doc-link fitted\" rel=\"noreferrer\" target=\"_blank\" href=\"https://scikit-learn.org/1.5/modules/generated/sklearn.neural_network.MLPClassifier.html\">?<span>Documentation for MLPClassifier</span></a><span class=\"sk-estimator-doc-link fitted\">i<span>Fitted</span></span></label><div class=\"sk-toggleable__content fitted\"><pre>MLPClassifier(hidden_layer_sizes=(10, 10), max_iter=500, random_state=42)</pre></div> </div></div></div></div>"
      ],
      "text/plain": [
       "MLPClassifier(hidden_layer_sizes=(10, 10), max_iter=500, random_state=42)"
      ]
     },
     "execution_count": 4,
     "metadata": {},
     "output_type": "execute_result"
    }
   ],
   "source": [
    "# 2. ANN 모델 생성 (은닉층 2개, 각각 10개의 뉴런)\n",
    "model = MLPClassifier(hidden_layer_sizes=(10, 10), activation='relu', max_iter=500, random_state=42)\n",
    "model.fit(X_train, y_train)"
   ]
  },
  {
   "cell_type": "markdown",
   "id": "92bcc85c",
   "metadata": {
    "id": "92bcc85c"
   },
   "source": [
    "## 모델 평가"
   ]
  },
  {
   "cell_type": "code",
   "execution_count": 5,
   "id": "810fd349",
   "metadata": {
    "colab": {
     "base_uri": "https://localhost:8080/"
    },
    "executionInfo": {
     "elapsed": 512,
     "status": "ok",
     "timestamp": 1731410932192,
     "user": {
      "displayName": "전윤범",
      "userId": "16579588953913211126"
     },
     "user_tz": -540
    },
    "id": "810fd349",
    "outputId": "2c1698f4-abd2-43f6-bcec-3a4cb560e38a"
   },
   "outputs": [
    {
     "name": "stdout",
     "output_type": "stream",
     "text": [
      "Confusion Matrix:\n",
      "[[10  0  0]\n",
      " [ 0  8  1]\n",
      " [ 0  0 11]]\n",
      "\n",
      "Classification Report:\n",
      "              precision    recall  f1-score   support\n",
      "\n",
      "           0       1.00      1.00      1.00        10\n",
      "           1       1.00      0.89      0.94         9\n",
      "           2       0.92      1.00      0.96        11\n",
      "\n",
      "    accuracy                           0.97        30\n",
      "   macro avg       0.97      0.96      0.97        30\n",
      "weighted avg       0.97      0.97      0.97        30\n",
      "\n"
     ]
    }
   ],
   "source": [
    "# 3. 모델 평가\n",
    "y_pred = model.predict(X_test)\n",
    "print(\"Confusion Matrix:\")\n",
    "print(confusion_matrix(y_test, y_pred))\n",
    "print(\"\\nClassification Report:\")\n",
    "print(classification_report(y_test, y_pred))"
   ]
  },
  {
   "cell_type": "markdown",
   "id": "4c7e7e48",
   "metadata": {
    "id": "4c7e7e48"
   },
   "source": [
    "## 결과 시각화(추가)"
   ]
  },
  {
   "cell_type": "code",
   "execution_count": 8,
   "id": "oYFvltM2IyGq",
   "metadata": {
    "colab": {
     "base_uri": "https://localhost:8080/"
    },
    "executionInfo": {
     "elapsed": 1684,
     "status": "ok",
     "timestamp": 1731411002851,
     "user": {
      "displayName": "전윤범",
      "userId": "16579588953913211126"
     },
     "user_tz": -540
    },
    "id": "oYFvltM2IyGq",
    "outputId": "d402527e-8d60-4ec5-e7b0-b149e753890e"
   },
   "outputs": [
    {
     "name": "stdout",
     "output_type": "stream",
     "text": [
      "Classification Report:\n",
      "              precision    recall  f1-score   support\n",
      "\n",
      "           0       1.00      1.00      1.00        10\n",
      "           1       1.00      0.89      0.94         9\n",
      "           2       0.92      1.00      0.96        11\n",
      "\n",
      "    accuracy                           0.97        30\n",
      "   macro avg       0.97      0.96      0.97        30\n",
      "weighted avg       0.97      0.97      0.97        30\n",
      "\n"
     ]
    }
   ],
   "source": [
    "import numpy as np\n",
    "import pandas as pd\n",
    "from sklearn.datasets import load_iris\n",
    "from sklearn.model_selection import train_test_split\n",
    "from sklearn.preprocessing import StandardScaler\n",
    "from sklearn.neural_network import MLPClassifier\n",
    "from sklearn.metrics import classification_report\n",
    "\n",
    "# 1. 데이터 로드\n",
    "iris = load_iris()\n",
    "X = iris.data  # 4개의 특징 사용\n",
    "y = iris.target\n",
    "\n",
    "# 2. 학습 데이터와 테스트 데이터 분리\n",
    "X_train, X_test, y_train, y_test = train_test_split(X, y, test_size=0.2, random_state=42)\n",
    "\n",
    "# 3. 데이터 표준화\n",
    "scaler = StandardScaler()\n",
    "X_train = scaler.fit_transform(X_train)\n",
    "X_test = scaler.transform(X_test)\n",
    "\n",
    "# 4. MLPClassifier 모델 생성 및 학습\n",
    "model = MLPClassifier(hidden_layer_sizes=(10, 10), activation='relu', max_iter=1000, random_state=42)\n",
    "model.fit(X_train, y_train)\n",
    "\n",
    "# 5. 예측 및 평가\n",
    "y_pred = model.predict(X_test)\n",
    "print(\"Classification Report:\")\n",
    "print(classification_report(y_test, y_pred))\n"
   ]
  },
  {
   "cell_type": "code",
   "execution_count": 10,
   "id": "chHdXQUCJJmt",
   "metadata": {
    "colab": {
     "base_uri": "https://localhost:8080/",
     "height": 671
    },
    "executionInfo": {
     "elapsed": 1203,
     "status": "ok",
     "timestamp": 1731411097600,
     "user": {
      "displayName": "전윤범",
      "userId": "16579588953913211126"
     },
     "user_tz": -540
    },
    "id": "chHdXQUCJJmt",
    "outputId": "3eec4059-3fca-4bcd-94ee-d4095aa4c4d2"
   },
   "outputs": [
    {
     "data": {
      "image/png": "[encoded data removed]",
      "text/plain": [
       "<Figure size 640x480 with 1 Axes>"
      ]
     },
     "metadata": {},
     "output_type": "display_data"
    },
    {
     "name": "stdout",
     "output_type": "stream",
     "text": [
      "Classification Report:\n",
      "              precision    recall  f1-score   support\n",
      "\n",
      "           0       1.00      1.00      1.00        10\n",
      "           1       1.00      1.00      1.00         9\n",
      "           2       1.00      1.00      1.00        11\n",
      "\n",
      "    accuracy                           1.00        30\n",
      "   macro avg       1.00      1.00      1.00        30\n",
      "weighted avg       1.00      1.00      1.00        30\n",
      "\n"
     ]
    }
   ],
   "source": [
    "import numpy as np\n",
    "import matplotlib.pyplot as plt\n",
    "from sklearn.datasets import load_iris\n",
    "from sklearn.model_selection import train_test_split\n",
    "from sklearn.preprocessing import StandardScaler\n",
    "from sklearn.neural_network import MLPClassifier\n",
    "from sklearn.metrics import classification_report\n",
    "\n",
    "# 1. 데이터 로드 (2개의 특징만 사용)\n",
    "iris = load_iris()\n",
    "X = iris.data[:, 2:4]  # 'petal length'와 'petal width'만 사용\n",
    "y = iris.target\n",
    "\n",
    "# 2. 학습 데이터와 테스트 데이터 분리\n",
    "X_train, X_test, y_train, y_test = train_test_split(X, y, test_size=0.2, random_state=42)\n",
    "\n",
    "# 3. 데이터 표준화\n",
    "scaler = StandardScaler()\n",
    "X_train = scaler.fit_transform(X_train)\n",
    "X_test = scaler.transform(X_test)\n",
    "\n",
    "# 4. MLPClassifier 모델 생성 및 학습\n",
    "model = MLPClassifier(hidden_layer_sizes=(10, 10), activation='relu', max_iter=1000, random_state=42)\n",
    "model.fit(X_train, y_train)\n",
    "\n",
    "# 5. 결정 경계 시각화 함수\n",
    "def plot_decision_boundary(X, y, model):\n",
    "    x_min, x_max = X[:, 0].min() - 1, X[:, 0].max() + 1\n",
    "    y_min, y_max = X[:, 1].min() - 1, X[:, 1].max() + 1\n",
    "    xx, yy = np.meshgrid(np.arange(x_min, x_max, 0.01),\n",
    "                         np.arange(y_min, y_max, 0.01))\n",
    "    Z = model.predict(np.c_[xx.ravel(), yy.ravel()])\n",
    "    Z = Z.reshape(xx.shape)\n",
    "\n",
    "    plt.contourf(xx, yy, Z, alpha=0.3)\n",
    "    plt.scatter(X[:, 0], X[:, 1], c=y, edgecolor='k', marker='o')\n",
    "    plt.xlabel(\"Petal Length (cm)\")\n",
    "    plt.ylabel(\"Petal Width (cm)\")\n",
    "    plt.title(\"Decision Boundary of MLP Classifier\")\n",
    "    plt.show()\n",
    "\n",
    "# 6. 결정 경계 시각화\n",
    "plot_decision_boundary(X_test, y_test, model)\n",
    "\n",
    "# 7. 모델 평가\n",
    "y_pred = model.predict(X_test)\n",
    "print(\"Classification Report:\")\n",
    "print(classification_report(y_test, y_pred))\n"
   ]
  },
  {
   "cell_type": "markdown",
   "id": "d2d4116c",
   "metadata": {
    "id": "d2d4116c"
   },
   "source": [
    "코드 종합"
   ]
  },
  {
   "cell_type": "code",
   "execution_count": null,
   "id": "29286f07",
   "metadata": {
    "id": "29286f07",
    "outputId": "2787ec24-6e85-42b9-981e-ae0d142c1184"
   },
   "outputs": [
    {
     "name": "stderr",
     "output_type": "stream",
     "text": [
      "c:\\users\\jyb\\appdata\\local\\programs\\python\\python39\\lib\\site-packages\\sklearn\\neural_network\\_multilayer_perceptron.py:690: ConvergenceWarning: Stochastic Optimizer: Maximum iterations (500) reached and the optimization hasn't converged yet.\n",
      "  warnings.warn(\n"
     ]
    },
    {
     "name": "stdout",
     "output_type": "stream",
     "text": [
      "Confusion Matrix:\n",
      "[[10  0  0]\n",
      " [ 0  9  0]\n",
      " [ 0  0 11]]\n",
      "\n",
      "Classification Report:\n",
      "              precision    recall  f1-score   support\n",
      "\n",
      "           0       1.00      1.00      1.00        10\n",
      "           1       1.00      1.00      1.00         9\n",
      "           2       1.00      1.00      1.00        11\n",
      "\n",
      "    accuracy                           1.00        30\n",
      "   macro avg       1.00      1.00      1.00        30\n",
      "weighted avg       1.00      1.00      1.00        30\n",
      "\n"
     ]
    },
    {
     "data": {
      "image/png": "[encoded data removed]",
      "text/plain": [
       "<Figure size 640x480 with 1 Axes>"
      ]
     },
     "metadata": {},
     "output_type": "display_data"
    },
    {
     "data": {
      "image/png": "[encoded data removed]",
      "text/plain": [
       "<Figure size 1500x600 with 10 Axes>"
      ]
     },
     "metadata": {},
     "output_type": "display_data"
    }
   ],
   "source": [
    "import numpy as np\n",
    "import matplotlib.pyplot as plt\n",
    "from sklearn.datasets import load_iris\n",
    "from sklearn.model_selection import train_test_split\n",
    "from sklearn.preprocessing import StandardScaler\n",
    "from sklearn.neural_network import MLPClassifier\n",
    "from sklearn.metrics import classification_report, confusion_matrix\n",
    "\n",
    "# 1. 데이터 로드 및 전처리\n",
    "iris = load_iris()\n",
    "X, y = iris.data, iris.target\n",
    "\n",
    "# 두 개의 주요 특징(Petal Length, Petal Width)만 사용\n",
    "X = X[:, [2, 3]]\n",
    "\n",
    "# 학습 데이터와 테스트 데이터 분리\n",
    "X_train, X_test, y_train, y_test = train_test_split(X, y, test_size=0.2, random_state=42)\n",
    "\n",
    "# 데이터 표준화\n",
    "scaler = StandardScaler()\n",
    "X_train = scaler.fit_transform(X_train)\n",
    "X_test = scaler.transform(X_test)\n",
    "\n",
    "# 2. ANN 모델 생성 (은닉층 2개, 각각 10개의 뉴런)\n",
    "model = MLPClassifier(hidden_layer_sizes=(10, 10), activation='relu', max_iter=500, random_state=42)\n",
    "model.fit(X_train, y_train)\n",
    "\n",
    "# 3. 모델 평가\n",
    "y_pred = model.predict(X_test)\n",
    "print(\"Confusion Matrix:\")\n",
    "print(confusion_matrix(y_test, y_pred))\n",
    "print(\"\\nClassification Report:\")\n",
    "print(classification_report(y_test, y_pred))\n",
    "\n",
    "# 4. 결정 경계 시각화 함수\n",
    "def plot_decision_boundary(X, y, model):\n",
    "    x_min, x_max = X[:, 0].min() - 1, X[:, 0].max() + 1\n",
    "    y_min, y_max = X[:, 1].min() - 1, X[:, 1].max() + 1\n",
    "    xx, yy = np.meshgrid(np.arange(x_min, x_max, 0.01),\n",
    "                         np.arange(y_min, y_max, 0.01))\n",
    "    Z = model.predict(np.c_[xx.ravel(), yy.ravel()])\n",
    "    Z = Z.reshape(xx.shape)\n",
    "\n",
    "    plt.contourf(xx, yy, Z, alpha=0.3, cmap='coolwarm')\n",
    "    scatter = plt.scatter(X[:, 0], X[:, 1], c=y, edgecolor='k', marker='o', cmap='coolwarm')\n",
    "    plt.xlabel(\"Petal Length\")\n",
    "    plt.ylabel(\"Petal Width\")\n",
    "    plt.title(\"Decision Boundary of ANN Model\")\n",
    "    plt.legend(*scatter.legend_elements(), title=\"Classes\")\n",
    "    plt.show()\n",
    "\n",
    "# 결정 경계 시각화\n",
    "plot_decision_boundary(X_test, y_test, model)\n",
    "\n",
    "# 5. 테스트 샘플의 예측 결과 시각화\n",
    "fig, axes = plt.subplots(2, 5, figsize=(15, 6))\n",
    "for i, ax in enumerate(axes.flat):\n",
    "    ax.scatter(X_test[i, 0], X_test[i, 1], color='red' if y_pred[i] != y_test[i] else 'green')\n",
    "    ax.set_title(f\"True: {y_test[i]}, Pred: {y_pred[i]}\")\n",
    "    ax.set_xlabel(\"Petal Length\")\n",
    "    ax.set_ylabel(\"Petal Width\")\n",
    "    ax.grid(True)\n",
    "\n",
    "plt.suptitle(\"Predicted vs. True Labels (Red: Incorrect, Green: Correct)\")\n",
    "plt.tight_layout()\n",
    "plt.show()\n"
   ]
  },
  {
   "cell_type": "code",
   "execution_count": null,
   "id": "5aa2194a",
   "metadata": {
    "id": "5aa2194a"
   },
   "outputs": [],
   "source": []
  },
  {
   "cell_type": "markdown",
   "id": "fdae0ce4",
   "metadata": {
    "id": "fdae0ce4"
   },
   "source": [
    "# make_moons 데이터 개요 이해(비선형분류)"
   ]
  },
  {
   "cell_type": "code",
   "execution_count": null,
   "id": "5fead348",
   "metadata": {
    "id": "5fead348"
   },
   "outputs": [],
   "source": [
    "# 데이터셋: 사이킷런의 make_moons 데이터를 사용\n",
    "\n",
    "#     사이킷런의 make_moons 함수는 비선형 패턴을 가진 이진 분류 문제를 위해 인공적으로 생성된 데이터셋입니다.\n",
    "# 두 개의 반달 모양(즉, 두 개의 \"초승달\" 모양)으로 데이터를 생성하므로 \"moons\"라는 이름이 붙었습니다.\n",
    "# 이 데이터셋은 머신러닝 모델, 특히 비선형 분류 성능을 평가하기 위해 많이 사용됩니다.\n",
    "\n",
    "# 특징\n",
    "# 비선형성: 데이터 포인트들이 반달 모양으로 배열되어 있어 선형 분류 알고리즘(예: 로지스틱 회귀)이 잘 작동하지 않습니다.\n",
    "# 클래스 불균형 없음: 각 클래스는 거의 같은 수의 데이터를 가지므로 클래스 불균형 문제가 없습니다.\n",
    "# 잡음 추가 가능: noise 파라미터를 통해 데이터에 임의의 잡음을 추가할 수 있습니다."
   ]
  },
  {
   "cell_type": "markdown",
   "id": "41da9c51",
   "metadata": {
    "id": "41da9c51"
   },
   "source": [
    "사이킷런(sklearn.neural_network)의 MLPClassifier는 Multi-Layer Perceptron (MLP) 기반의 신경망 모델로, 분류 문제에 사용됩니다.\n",
    "\n",
    "이 모델은 입력층, 은닉층(hidden layers), 출력층으로 구성된 인공 신경망 구조를 가집니다."
   ]
  },
  {
   "cell_type": "markdown",
   "id": "1d88a1ee",
   "metadata": {
    "id": "1d88a1ee"
   },
   "source": [
    "주요 단계\n",
    "1. 라이브러리/ 데이터 준비\n",
    "2. ANN 모델 생성\n",
    "3. 모델 학습\n",
    "4. 학습 결과 시각화"
   ]
  },
  {
   "cell_type": "markdown",
   "id": "b2ae5e44",
   "metadata": {
    "id": "b2ae5e44"
   },
   "source": [
    "## 라이브로리/데이터 준비"
   ]
  },
  {
   "cell_type": "code",
   "execution_count": null,
   "id": "d1389215",
   "metadata": {
    "id": "d1389215"
   },
   "outputs": [],
   "source": [
    "import numpy as np\n",
    "import matplotlib.pyplot as plt\n",
    "from sklearn.datasets import make_moons  # 데이터 셋 생성\n",
    "from sklearn.model_selection import train_test_split  #  데이터 분할\n",
    "from sklearn.preprocessing import StandardScaler  # 데이터 정규화\n",
    "from sklearn.neural_network import MLPClassifier  # 분류기\n",
    "from sklearn.metrics import classification_report, confusion_matrix # 모델 평가\n",
    "\n",
    "# 1. 데이터 생성 및 전처리\n",
    "X, y = make_moons(n_samples=1000, noise=0.2, random_state=42) #  총 1,000개의 데이터 포인트를 생성\n",
    "X_train, X_test, y_train, y_test = train_test_split(X, y, test_size=0.3, random_state=42)\n",
    "\n",
    "scaler = StandardScaler()\n",
    "X_train = scaler.fit_transform(X_train)\n",
    "X_test = scaler.transform(X_test)"
   ]
  },
  {
   "cell_type": "code",
   "execution_count": null,
   "id": "914b9998",
   "metadata": {
    "id": "914b9998"
   },
   "outputs": [],
   "source": [
    "# n_samples=1000:\n",
    "# 생성할 데이터 포인트의 개수입니다. 총 1,000개의 데이터 포인트를 생성합니다.\n",
    "# noise=0.2:\n",
    "# 데이터에 추가할 **잡음(noise)**의 정도를 나타냅니다.\n",
    "# 값이 클수록 데이터가 더 불규칙해지고, 분류가 어려워집니다.\n",
    "# random_state=42:\n",
    "# 랜덤 시드 값을 설정하여 동일한 결과를 재현할 수 있도록 합니다."
   ]
  },
  {
   "cell_type": "code",
   "execution_count": null,
   "id": "cec44945",
   "metadata": {
    "id": "cec44945"
   },
   "outputs": [],
   "source": [
    "# test_size=0.3:\n",
    "# 전체 데이터의 **30%**를 테스트 데이터로 사용하고, 나머지 **70%**를 학습 데이터로 사용합니다.\n",
    "# random_state=42:\n",
    "# 랜덤 시드 값을 설정하여 데이터를 분리할 때 재현 가능성을 보장합니다."
   ]
  },
  {
   "cell_type": "code",
   "execution_count": null,
   "id": "bbb55276",
   "metadata": {
    "id": "bbb55276"
   },
   "outputs": [],
   "source": [
    "# StandardScaler:\n",
    "# 데이터의 평균을 0, 표준편차를 1로 변환하여 **표준화(정규화)**를 수행합니다.\n",
    "# 신경망 모델(예: MLPClassifier)에서는 입력 데이터의 스케일(크기 차이)이 클 경우 학습이 잘 되지 않으므로, 표준화를 통해 학습 효율을 높일 수 있습니다.\n",
    "\n",
    "# fit_transform(X_train):\n",
    "# 학습 데이터(X_train)에 대해 평균과 표준편차를 계산한 뒤, 이를 사용해 데이터를 표준화합니다.\n",
    "# transform(X_test):\n",
    "# 테스트 데이터(X_test)는 학습 데이터에서 계산된 평균과 표준편차를 사용해 표준화합니다."
   ]
  },
  {
   "cell_type": "markdown",
   "id": "46d45662",
   "metadata": {
    "id": "46d45662"
   },
   "source": [
    "## 모델 생성/학습"
   ]
  },
  {
   "cell_type": "code",
   "execution_count": null,
   "id": "cc9ae349",
   "metadata": {
    "id": "cc9ae349",
    "outputId": "66292713-2458-4f65-d673-72b85411d137"
   },
   "outputs": [
    {
     "data": {
      "text/html": [
       "<style>#sk-container-id-2 {\n",
       "  /* Definition of color scheme common for light and dark mode */\n",
       "  --sklearn-color-text: black;\n",
       "  --sklearn-color-line: gray;\n",
       "  /* Definition of color scheme for unfitted estimators */\n",
       "  --sklearn-color-unfitted-level-0: #fff5e6;\n",
       "  --sklearn-color-unfitted-level-1: #f6e4d2;\n",
       "  --sklearn-color-unfitted-level-2: #ffe0b3;\n",
       "  --sklearn-color-unfitted-level-3: chocolate;\n",
       "  /* Definition of color scheme for fitted estimators */\n",
       "  --sklearn-color-fitted-level-0: #f0f8ff;\n",
       "  --sklearn-color-fitted-level-1: #d4ebff;\n",
       "  --sklearn-color-fitted-level-2: #b3dbfd;\n",
       "  --sklearn-color-fitted-level-3: cornflowerblue;\n",
       "\n",
       "  /* Specific color for light theme */\n",
       "  --sklearn-color-text-on-default-background: var(--sg-text-color, var(--theme-code-foreground, var(--jp-content-font-color1, black)));\n",
       "  --sklearn-color-background: var(--sg-background-color, var(--theme-background, var(--jp-layout-color0, white)));\n",
       "  --sklearn-color-border-box: var(--sg-text-color, var(--theme-code-foreground, var(--jp-content-font-color1, black)));\n",
       "  --sklearn-color-icon: #696969;\n",
       "\n",
       "  @media (prefers-color-scheme: dark) {\n",
       "    /* Redefinition of color scheme for dark theme */\n",
       "    --sklearn-color-text-on-default-background: var(--sg-text-color, var(--theme-code-foreground, var(--jp-content-font-color1, white)));\n",
       "    --sklearn-color-background: var(--sg-background-color, var(--theme-background, var(--jp-layout-color0, #111)));\n",
       "    --sklearn-color-border-box: var(--sg-text-color, var(--theme-code-foreground, var(--jp-content-font-color1, white)));\n",
       "    --sklearn-color-icon: #878787;\n",
       "  }\n",
       "}\n",
       "\n",
       "#sk-container-id-2 {\n",
       "  color: var(--sklearn-color-text);\n",
       "}\n",
       "\n",
       "#sk-container-id-2 pre {\n",
       "  padding: 0;\n",
       "}\n",
       "\n",
       "#sk-container-id-2 input.sk-hidden--visually {\n",
       "  border: 0;\n",
       "  clip: rect(1px 1px 1px 1px);\n",
       "  clip: rect(1px, 1px, 1px, 1px);\n",
       "  height: 1px;\n",
       "  margin: -1px;\n",
       "  overflow: hidden;\n",
       "  padding: 0;\n",
       "  position: absolute;\n",
       "  width: 1px;\n",
       "}\n",
       "\n",
       "#sk-container-id-2 div.sk-dashed-wrapped {\n",
       "  border: 1px dashed var(--sklearn-color-line);\n",
       "  margin: 0 0.4em 0.5em 0.4em;\n",
       "  box-sizing: border-box;\n",
       "  padding-bottom: 0.4em;\n",
       "  background-color: var(--sklearn-color-background);\n",
       "}\n",
       "\n",
       "#sk-container-id-2 div.sk-container {\n",
       "  /* jupyter's `normalize.less` sets `[hidden] { display: none; }`\n",
       "     but bootstrap.min.css set `[hidden] { display: none !important; }`\n",
       "     so we also need the `!important` here to be able to override the\n",
       "     default hidden behavior on the sphinx rendered scikit-learn.org.\n",
       "     See: https://github.com/scikit-learn/scikit-learn/issues/21755 */\n",
       "  display: inline-block !important;\n",
       "  position: relative;\n",
       "}\n",
       "\n",
       "#sk-container-id-2 div.sk-text-repr-fallback {\n",
       "  display: none;\n",
       "}\n",
       "\n",
       "div.sk-parallel-item,\n",
       "div.sk-serial,\n",
       "div.sk-item {\n",
       "  /* draw centered vertical line to link estimators */\n",
       "  background-image: linear-gradient(var(--sklearn-color-text-on-default-background), var(--sklearn-color-text-on-default-background));\n",
       "  background-size: 2px 100%;\n",
       "  background-repeat: no-repeat;\n",
       "  background-position: center center;\n",
       "}\n",
       "\n",
       "/* Parallel-specific style estimator block */\n",
       "\n",
       "#sk-container-id-2 div.sk-parallel-item::after {\n",
       "  content: \"\";\n",
       "  width: 100%;\n",
       "  border-bottom: 2px solid var(--sklearn-color-text-on-default-background);\n",
       "  flex-grow: 1;\n",
       "}\n",
       "\n",
       "#sk-container-id-2 div.sk-parallel {\n",
       "  display: flex;\n",
       "  align-items: stretch;\n",
       "  justify-content: center;\n",
       "  background-color: var(--sklearn-color-background);\n",
       "  position: relative;\n",
       "}\n",
       "\n",
       "#sk-container-id-2 div.sk-parallel-item {\n",
       "  display: flex;\n",
       "  flex-direction: column;\n",
       "}\n",
       "\n",
       "#sk-container-id-2 div.sk-parallel-item:first-child::after {\n",
       "  align-self: flex-end;\n",
       "  width: 50%;\n",
       "}\n",
       "\n",
       "#sk-container-id-2 div.sk-parallel-item:last-child::after {\n",
       "  align-self: flex-start;\n",
       "  width: 50%;\n",
       "}\n",
       "\n",
       "#sk-container-id-2 div.sk-parallel-item:only-child::after {\n",
       "  width: 0;\n",
       "}\n",
       "\n",
       "/* Serial-specific style estimator block */\n",
       "\n",
       "#sk-container-id-2 div.sk-serial {\n",
       "  display: flex;\n",
       "  flex-direction: column;\n",
       "  align-items: center;\n",
       "  background-color: var(--sklearn-color-background);\n",
       "  padding-right: 1em;\n",
       "  padding-left: 1em;\n",
       "}\n",
       "\n",
       "\n",
       "/* Toggleable style: style used for estimator/Pipeline/ColumnTransformer box that is\n",
       "clickable and can be expanded/collapsed.\n",
       "- Pipeline and ColumnTransformer use this feature and define the default style\n",
       "- Estimators will overwrite some part of the style using the `sk-estimator` class\n",
       "*/\n",
       "\n",
       "/* Pipeline and ColumnTransformer style (default) */\n",
       "\n",
       "#sk-container-id-2 div.sk-toggleable {\n",
       "  /* Default theme specific background. It is overwritten whether we have a\n",
       "  specific estimator or a Pipeline/ColumnTransformer */\n",
       "  background-color: var(--sklearn-color-background);\n",
       "}\n",
       "\n",
       "/* Toggleable label */\n",
       "#sk-container-id-2 label.sk-toggleable__label {\n",
       "  cursor: pointer;\n",
       "  display: block;\n",
       "  width: 100%;\n",
       "  margin-bottom: 0;\n",
       "  padding: 0.5em;\n",
       "  box-sizing: border-box;\n",
       "  text-align: center;\n",
       "}\n",
       "\n",
       "#sk-container-id-2 label.sk-toggleable__label-arrow:before {\n",
       "  /* Arrow on the left of the label */\n",
       "  content: \"▸\";\n",
       "  float: left;\n",
       "  margin-right: 0.25em;\n",
       "  color: var(--sklearn-color-icon);\n",
       "}\n",
       "\n",
       "#sk-container-id-2 label.sk-toggleable__label-arrow:hover:before {\n",
       "  color: var(--sklearn-color-text);\n",
       "}\n",
       "\n",
       "/* Toggleable content - dropdown */\n",
       "\n",
       "#sk-container-id-2 div.sk-toggleable__content {\n",
       "  max-height: 0;\n",
       "  max-width: 0;\n",
       "  overflow: hidden;\n",
       "  text-align: left;\n",
       "  /* unfitted */\n",
       "  background-color: var(--sklearn-color-unfitted-level-0);\n",
       "}\n",
       "\n",
       "#sk-container-id-2 div.sk-toggleable__content.fitted {\n",
       "  /* fitted */\n",
       "  background-color: var(--sklearn-color-fitted-level-0);\n",
       "}\n",
       "\n",
       "#sk-container-id-2 div.sk-toggleable__content pre {\n",
       "  margin: 0.2em;\n",
       "  border-radius: 0.25em;\n",
       "  color: var(--sklearn-color-text);\n",
       "  /* unfitted */\n",
       "  background-color: var(--sklearn-color-unfitted-level-0);\n",
       "}\n",
       "\n",
       "#sk-container-id-2 div.sk-toggleable__content.fitted pre {\n",
       "  /* unfitted */\n",
       "  background-color: var(--sklearn-color-fitted-level-0);\n",
       "}\n",
       "\n",
       "#sk-container-id-2 input.sk-toggleable__control:checked~div.sk-toggleable__content {\n",
       "  /* Expand drop-down */\n",
       "  max-height: 200px;\n",
       "  max-width: 100%;\n",
       "  overflow: auto;\n",
       "}\n",
       "\n",
       "#sk-container-id-2 input.sk-toggleable__control:checked~label.sk-toggleable__label-arrow:before {\n",
       "  content: \"▾\";\n",
       "}\n",
       "\n",
       "/* Pipeline/ColumnTransformer-specific style */\n",
       "\n",
       "#sk-container-id-2 div.sk-label input.sk-toggleable__control:checked~label.sk-toggleable__label {\n",
       "  color: var(--sklearn-color-text);\n",
       "  background-color: var(--sklearn-color-unfitted-level-2);\n",
       "}\n",
       "\n",
       "#sk-container-id-2 div.sk-label.fitted input.sk-toggleable__control:checked~label.sk-toggleable__label {\n",
       "  background-color: var(--sklearn-color-fitted-level-2);\n",
       "}\n",
       "\n",
       "/* Estimator-specific style */\n",
       "\n",
       "/* Colorize estimator box */\n",
       "#sk-container-id-2 div.sk-estimator input.sk-toggleable__control:checked~label.sk-toggleable__label {\n",
       "  /* unfitted */\n",
       "  background-color: var(--sklearn-color-unfitted-level-2);\n",
       "}\n",
       "\n",
       "#sk-container-id-2 div.sk-estimator.fitted input.sk-toggleable__control:checked~label.sk-toggleable__label {\n",
       "  /* fitted */\n",
       "  background-color: var(--sklearn-color-fitted-level-2);\n",
       "}\n",
       "\n",
       "#sk-container-id-2 div.sk-label label.sk-toggleable__label,\n",
       "#sk-container-id-2 div.sk-label label {\n",
       "  /* The background is the default theme color */\n",
       "  color: var(--sklearn-color-text-on-default-background);\n",
       "}\n",
       "\n",
       "/* On hover, darken the color of the background */\n",
       "#sk-container-id-2 div.sk-label:hover label.sk-toggleable__label {\n",
       "  color: var(--sklearn-color-text);\n",
       "  background-color: var(--sklearn-color-unfitted-level-2);\n",
       "}\n",
       "\n",
       "/* Label box, darken color on hover, fitted */\n",
       "#sk-container-id-2 div.sk-label.fitted:hover label.sk-toggleable__label.fitted {\n",
       "  color: var(--sklearn-color-text);\n",
       "  background-color: var(--sklearn-color-fitted-level-2);\n",
       "}\n",
       "\n",
       "/* Estimator label */\n",
       "\n",
       "#sk-container-id-2 div.sk-label label {\n",
       "  font-family: monospace;\n",
       "  font-weight: bold;\n",
       "  display: inline-block;\n",
       "  line-height: 1.2em;\n",
       "}\n",
       "\n",
       "#sk-container-id-2 div.sk-label-container {\n",
       "  text-align: center;\n",
       "}\n",
       "\n",
       "/* Estimator-specific */\n",
       "#sk-container-id-2 div.sk-estimator {\n",
       "  font-family: monospace;\n",
       "  border: 1px dotted var(--sklearn-color-border-box);\n",
       "  border-radius: 0.25em;\n",
       "  box-sizing: border-box;\n",
       "  margin-bottom: 0.5em;\n",
       "  /* unfitted */\n",
       "  background-color: var(--sklearn-color-unfitted-level-0);\n",
       "}\n",
       "\n",
       "#sk-container-id-2 div.sk-estimator.fitted {\n",
       "  /* fitted */\n",
       "  background-color: var(--sklearn-color-fitted-level-0);\n",
       "}\n",
       "\n",
       "/* on hover */\n",
       "#sk-container-id-2 div.sk-estimator:hover {\n",
       "  /* unfitted */\n",
       "  background-color: var(--sklearn-color-unfitted-level-2);\n",
       "}\n",
       "\n",
       "#sk-container-id-2 div.sk-estimator.fitted:hover {\n",
       "  /* fitted */\n",
       "  background-color: var(--sklearn-color-fitted-level-2);\n",
       "}\n",
       "\n",
       "/* Specification for estimator info (e.g. \"i\" and \"?\") */\n",
       "\n",
       "/* Common style for \"i\" and \"?\" */\n",
       "\n",
       ".sk-estimator-doc-link,\n",
       "a:link.sk-estimator-doc-link,\n",
       "a:visited.sk-estimator-doc-link {\n",
       "  float: right;\n",
       "  font-size: smaller;\n",
       "  line-height: 1em;\n",
       "  font-family: monospace;\n",
       "  background-color: var(--sklearn-color-background);\n",
       "  border-radius: 1em;\n",
       "  height: 1em;\n",
       "  width: 1em;\n",
       "  text-decoration: none !important;\n",
       "  margin-left: 1ex;\n",
       "  /* unfitted */\n",
       "  border: var(--sklearn-color-unfitted-level-1) 1pt solid;\n",
       "  color: var(--sklearn-color-unfitted-level-1);\n",
       "}\n",
       "\n",
       ".sk-estimator-doc-link.fitted,\n",
       "a:link.sk-estimator-doc-link.fitted,\n",
       "a:visited.sk-estimator-doc-link.fitted {\n",
       "  /* fitted */\n",
       "  border: var(--sklearn-color-fitted-level-1) 1pt solid;\n",
       "  color: var(--sklearn-color-fitted-level-1);\n",
       "}\n",
       "\n",
       "/* On hover */\n",
       "div.sk-estimator:hover .sk-estimator-doc-link:hover,\n",
       ".sk-estimator-doc-link:hover,\n",
       "div.sk-label-container:hover .sk-estimator-doc-link:hover,\n",
       ".sk-estimator-doc-link:hover {\n",
       "  /* unfitted */\n",
       "  background-color: var(--sklearn-color-unfitted-level-3);\n",
       "  color: var(--sklearn-color-background);\n",
       "  text-decoration: none;\n",
       "}\n",
       "\n",
       "div.sk-estimator.fitted:hover .sk-estimator-doc-link.fitted:hover,\n",
       ".sk-estimator-doc-link.fitted:hover,\n",
       "div.sk-label-container:hover .sk-estimator-doc-link.fitted:hover,\n",
       ".sk-estimator-doc-link.fitted:hover {\n",
       "  /* fitted */\n",
       "  background-color: var(--sklearn-color-fitted-level-3);\n",
       "  color: var(--sklearn-color-background);\n",
       "  text-decoration: none;\n",
       "}\n",
       "\n",
       "/* Span, style for the box shown on hovering the info icon */\n",
       ".sk-estimator-doc-link span {\n",
       "  display: none;\n",
       "  z-index: 9999;\n",
       "  position: relative;\n",
       "  font-weight: normal;\n",
       "  right: .2ex;\n",
       "  padding: .5ex;\n",
       "  margin: .5ex;\n",
       "  width: min-content;\n",
       "  min-width: 20ex;\n",
       "  max-width: 50ex;\n",
       "  color: var(--sklearn-color-text);\n",
       "  box-shadow: 2pt 2pt 4pt #999;\n",
       "  /* unfitted */\n",
       "  background: var(--sklearn-color-unfitted-level-0);\n",
       "  border: .5pt solid var(--sklearn-color-unfitted-level-3);\n",
       "}\n",
       "\n",
       ".sk-estimator-doc-link.fitted span {\n",
       "  /* fitted */\n",
       "  background: var(--sklearn-color-fitted-level-0);\n",
       "  border: var(--sklearn-color-fitted-level-3);\n",
       "}\n",
       "\n",
       ".sk-estimator-doc-link:hover span {\n",
       "  display: block;\n",
       "}\n",
       "\n",
       "/* \"?\"-specific style due to the `<a>` HTML tag */\n",
       "\n",
       "#sk-container-id-2 a.estimator_doc_link {\n",
       "  float: right;\n",
       "  font-size: 1rem;\n",
       "  line-height: 1em;\n",
       "  font-family: monospace;\n",
       "  background-color: var(--sklearn-color-background);\n",
       "  border-radius: 1rem;\n",
       "  height: 1rem;\n",
       "  width: 1rem;\n",
       "  text-decoration: none;\n",
       "  /* unfitted */\n",
       "  color: var(--sklearn-color-unfitted-level-1);\n",
       "  border: var(--sklearn-color-unfitted-level-1) 1pt solid;\n",
       "}\n",
       "\n",
       "#sk-container-id-2 a.estimator_doc_link.fitted {\n",
       "  /* fitted */\n",
       "  border: var(--sklearn-color-fitted-level-1) 1pt solid;\n",
       "  color: var(--sklearn-color-fitted-level-1);\n",
       "}\n",
       "\n",
       "/* On hover */\n",
       "#sk-container-id-2 a.estimator_doc_link:hover {\n",
       "  /* unfitted */\n",
       "  background-color: var(--sklearn-color-unfitted-level-3);\n",
       "  color: var(--sklearn-color-background);\n",
       "  text-decoration: none;\n",
       "}\n",
       "\n",
       "#sk-container-id-2 a.estimator_doc_link.fitted:hover {\n",
       "  /* fitted */\n",
       "  background-color: var(--sklearn-color-fitted-level-3);\n",
       "}\n",
       "</style><div id=\"sk-container-id-2\" class=\"sk-top-container\"><div class=\"sk-text-repr-fallback\"><pre>MLPClassifier(hidden_layer_sizes=(10, 10), max_iter=1000, random_state=42)</pre><b>In a Jupyter environment, please rerun this cell to show the HTML representation or trust the notebook. <br />On GitHub, the HTML representation is unable to render, please try loading this page with nbviewer.org.</b></div><div class=\"sk-container\" hidden><div class=\"sk-item\"><div class=\"sk-estimator fitted sk-toggleable\"><input class=\"sk-toggleable__control sk-hidden--visually\" id=\"sk-estimator-id-2\" type=\"checkbox\" checked><label for=\"sk-estimator-id-2\" class=\"sk-toggleable__label fitted sk-toggleable__label-arrow fitted\">&nbsp;&nbsp;MLPClassifier<a class=\"sk-estimator-doc-link fitted\" rel=\"noreferrer\" target=\"_blank\" href=\"https://scikit-learn.org/1.5/modules/generated/sklearn.neural_network.MLPClassifier.html\">?<span>Documentation for MLPClassifier</span></a><span class=\"sk-estimator-doc-link fitted\">i<span>Fitted</span></span></label><div class=\"sk-toggleable__content fitted\"><pre>MLPClassifier(hidden_layer_sizes=(10, 10), max_iter=1000, random_state=42)</pre></div> </div></div></div></div>"
      ],
      "text/plain": [
       "MLPClassifier(hidden_layer_sizes=(10, 10), max_iter=1000, random_state=42)"
      ]
     },
     "execution_count": 15,
     "metadata": {},
     "output_type": "execute_result"
    }
   ],
   "source": [
    "# 2. ANN 모델 생성 (은닉층 2개, 각각 10개의 뉴런)\n",
    "model = MLPClassifier(hidden_layer_sizes=(10, 10), activation='relu', max_iter=1000, random_state=42)\n",
    "model.fit(X_train, y_train)"
   ]
  },
  {
   "cell_type": "code",
   "execution_count": null,
   "id": "c892a286",
   "metadata": {
    "id": "c892a286"
   },
   "outputs": [],
   "source": [
    "# MLPClassifier**는 다층 퍼셉트론(MLP) 기반의 분류 모델로, 기본적인 신경망 구조를 제공합니다. 여기서 사용된 주요 파라미터를 설명하겠습니다.\n",
    "\n",
    "# 파라미터 설명\n",
    "# hidden_layer_sizes=(10, 10):\n",
    "# **은닉층(hidden layer)**의 구조를 정의합니다.\n",
    "# (10, 10)은 2개의 은닉층이 있으며, 각각 10개의 뉴런을 가진다는 의미입니다.\n",
    "# 첫 번째 은닉층: 10개의 뉴런\n",
    "# 두 번째 은닉층: 10개의 뉴런\n",
    "# 만약 (20,)이라면, 은닉층이 1개이고 20개의 뉴런을 가진 구조입니다.\n",
    "\n",
    "# activation='relu':\n",
    "# 활성화 함수(activation function)를 설정합니다.\n",
    "# ReLU 함수는 입력 값이 0보다 작으면 0, 0보다 크면 그대로 출력합니다: f(x) = max(0, x)\n",
    "# 다른 옵션:\n",
    "# 'logistic': 시그모이드(sigmoid) 함수, 출력이 (0, 1) 범위에 있음\n",
    "# 'tanh': 하이퍼볼릭 탄젠트 함수, 출력이 (-1, 1) 범위에 있음\n",
    "# 'identity': 선형 함수, f(x) = x\n",
    "\n",
    "#     max_iter=1000:\n",
    "# 모델이 학습하는 동안의 최대 에포크(epoch) 수를 의미합니다.\n",
    "# max_iter 값이 작으면 충분히 학습하지 못할 수 있으며, 너무 크면 학습 시간이 오래 걸릴 수 있습니다.\n",
    "\n",
    "# random_state=42:\n",
    "# 랜덤 시드(random seed) 값을 설정합니다.\n",
    "# 데이터를 섞거나 초기 가중치를 설정할 때 랜덤성을 제어하여, 재현 가능한 결과를 얻을 수 있도록 합니다."
   ]
  },
  {
   "cell_type": "code",
   "execution_count": null,
   "id": "ff475ada",
   "metadata": {
    "id": "ff475ada"
   },
   "outputs": [],
   "source": [
    "# fit(X_train, y_train):\n",
    "# 입력 데이터(X_train)와 레이블(y_train)을 사용해 모델을 학습시킵니다.\n",
    "# **역전파 알고리즘(backpropagation)**을 사용해 가중치를 업데이트합니다.\n",
    "# 이 과정에서 모델은 **손실 함수(loss function)**를 최소화하는 방향으로 학습합니다.\n",
    "# 학습이 완료되면 모델은 데이터의 패턴과 관계를 학습하게 됩니다.\n"
   ]
  },
  {
   "cell_type": "code",
   "execution_count": null,
   "id": "045cba93",
   "metadata": {
    "id": "045cba93",
    "outputId": "11ccb957-0fec-473f-a242-2a7b8d15fd4f"
   },
   "outputs": [
    {
     "name": "stdout",
     "output_type": "stream",
     "text": [
      "Training Accuracy: 0.97\n"
     ]
    }
   ],
   "source": [
    "# 학습 후 정확도 확인\n",
    "accuracy = model.score(X_train, y_train)\n",
    "print(f\"Training Accuracy: {accuracy:.2f}\")\n"
   ]
  },
  {
   "cell_type": "code",
   "execution_count": null,
   "id": "a79c25e8",
   "metadata": {
    "id": "a79c25e8"
   },
   "outputs": [],
   "source": [
    "# 학습 결과 확인\n",
    "# 모델이 학습된 후에는 **예측(predict)**이나 평가(score) 메서드를 사용해 성능을 확인할 수 있습니다."
   ]
  },
  {
   "cell_type": "markdown",
   "id": "89718f2e",
   "metadata": {
    "id": "89718f2e"
   },
   "source": [
    "## 모델 평가"
   ]
  },
  {
   "cell_type": "markdown",
   "id": "053bcfc4",
   "metadata": {
    "id": "053bcfc4"
   },
   "source": [
    "학습된 ANN 모델을 평가하기 위해 예측 결과를 만들고, 혼동 행렬(confusion matrix)과 분류 보고서(classification report)를 출력합니다."
   ]
  },
  {
   "cell_type": "code",
   "execution_count": null,
   "id": "f0cca5ee",
   "metadata": {
    "id": "f0cca5ee",
    "outputId": "834a8308-590a-4203-c465-6a3feffa9c4c"
   },
   "outputs": [
    {
     "name": "stdout",
     "output_type": "stream",
     "text": [
      "Confusion Matrix:\n",
      "[[152   4]\n",
      " [  5 139]]\n",
      "\n",
      "Classification Report:\n",
      "              precision    recall  f1-score   support\n",
      "\n",
      "           0       0.97      0.97      0.97       156\n",
      "           1       0.97      0.97      0.97       144\n",
      "\n",
      "    accuracy                           0.97       300\n",
      "   macro avg       0.97      0.97      0.97       300\n",
      "weighted avg       0.97      0.97      0.97       300\n",
      "\n"
     ]
    }
   ],
   "source": [
    "# 3. 모델 평가\n",
    "y_pred = model.predict(X_test)\n",
    "print(\"Confusion Matrix:\")\n",
    "print(confusion_matrix(y_test, y_pred))\n",
    "print(\"\\nClassification Report:\")\n",
    "print(classification_report(y_test, y_pred))"
   ]
  },
  {
   "cell_type": "code",
   "execution_count": null,
   "id": "6b31eadd",
   "metadata": {
    "id": "6b31eadd"
   },
   "outputs": [],
   "source": [
    "# 예측 (predict 메서드)\n",
    "# y_pred = model.predict(X_test)\n",
    "# model.predict(X_test):\n",
    "# 학습된 모델을 사용해 테스트 데이터(X_test)의 레이블을 예측합니다.\n",
    "# y_pred는 모델이 예측한 클래스(0 또는 1)로 이루어진 배열입니다.\n",
    "# 테스트 데이터를 사용하여 모델이 학습되지 않은 새로운 데이터를 얼마나 잘 분류하는지 평가합니다.\n",
    "\n",
    "# 2. 혼동 행렬 (Confusion Matrix)\n",
    "# print(confusion_matrix(y_test, y_pred))\n",
    "# confusion_matrix(y_test, y_pred):\n",
    "# 실제 레이블(y_test)과 예측된 레이블(y_pred)을 비교하여 혼동 행렬을 생성합니다.\n",
    "\n",
    "# 혼동 행렬의 구성 요소: 한글파일 1 참조할것\n",
    "# True Positive (TP): 실제 클래스가 1이고, 예측도 1인 경우\n",
    "# True Negative (TN): 실제 클래스가 0이고, 예측도 0인 경우\n",
    "# False Positive (FP): 실제 클래스가 0인데, 예측은 1인 경우 (Type I Error)\n",
    "# False Negative (FN): 실제 클래스가 1인데, 예측은 0인 경우 (Type II Error)\n",
    "\n",
    "# 3. 분류 보고서 (Classification Report)\n",
    "# print(classification_report(y_test, y_pred))\n",
    "# classification_report(y_test, y_pred):\n",
    "# 모델의 평가 지표인 정밀도(precision), 재현율(recall), F1-score, **정확도(accuracy)**를 출력합니다."
   ]
  },
  {
   "cell_type": "markdown",
   "id": "811d068c",
   "metadata": {
    "id": "811d068c"
   },
   "source": [
    "## 시각화"
   ]
  },
  {
   "cell_type": "code",
   "execution_count": null,
   "id": "1444f12f",
   "metadata": {
    "id": "1444f12f",
    "outputId": "d15bdef2-2cee-403d-8a8c-c7387c82e46f"
   },
   "outputs": [
    {
     "data": {
      "image/png": "[encoded data removed]",
      "text/plain": [
       "<Figure size 640x480 with 1 Axes>"
      ]
     },
     "metadata": {},
     "output_type": "display_data"
    }
   ],
   "source": [
    "# 4. 결정 경계 시각화\n",
    "def plot_decision_boundary(X, y, model):\n",
    "    x_min, x_max = X[:, 0].min() - 1, X[:, 0].max() + 1\n",
    "    y_min, y_max = X[:, 1].min() - 1, X[:, 1].max() + 1\n",
    "    xx, yy = np.meshgrid(np.arange(x_min, x_max, 0.01),\n",
    "                         np.arange(y_min, y_max, 0.01))\n",
    "    Z = model.predict(np.c_[xx.ravel(), yy.ravel()])\n",
    "    Z = Z.reshape(xx.shape)\n",
    "\n",
    "    plt.contourf(xx, yy, Z, alpha=0.3)\n",
    "    plt.scatter(X[:, 0], X[:, 1], c=y, edgecolor='k', marker='o')\n",
    "    plt.title(\"Decision Boundary of ANN Model\")\n",
    "    plt.xlabel(\"Feature 1\")\n",
    "    plt.ylabel(\"Feature 2\")\n",
    "    plt.show()\n",
    "\n",
    "# 결정 경계 시각화\n",
    "plot_decision_boundary(X_test, y_test, model)\n"
   ]
  },
  {
   "cell_type": "code",
   "execution_count": null,
   "id": "693381f3",
   "metadata": {
    "id": "693381f3"
   },
   "outputs": [],
   "source": [
    "# 그래프 영역 설정\n",
    "# x_min, x_max = X[:, 0].min() - 1, X[:, 0].max() + 1\n",
    "# y_min, y_max = X[:, 1].min() - 1, X[:, 1].max() + 1\n",
    "# x_min과 x_max는 첫 번째 특징(feature)의 최소값과 최대값을 기준으로 그래프의 가로축 범위를 설정합니다.\n",
    "# y_min과 y_max는 두 번째 특징(feature)의 최소값과 최대값을 기준으로 세로축 범위를 설정합니다.\n",
    "# 각 값에 -1 또는 +1을 더해 그래프를 약간 여유 있게 표시합니다.\n",
    "\n",
    "# 격자 생성 (meshgrid)\n",
    "# xx, yy = np.meshgrid(np.arange(x_min, x_max, 0.01),\n",
    "#                      np.arange(y_min, y_max, 0.01))\n",
    "# np.meshgrid()는 그래프 영역을 촘촘한 격자(grid)로 만듭니다.\n",
    "# 0.01은 격자의 간격으로, 작을수록 더 세밀한 결정 경계가 생성됩니다.\n",
    "\n",
    "# 예측 값 계산\n",
    "# Z = model.predict(np.c_[xx.ravel(), yy.ravel()])\n",
    "# Z = Z.reshape(xx.shape)\n",
    "# xx.ravel()과 yy.ravel()은 격자 포인트를 1차원 배열로 펼칩니다.\n",
    "# np.c_[]는 두 배열을 열 방향으로 결합해 (x, y) 포인트들을 생성합니다.\n",
    "# model.predict()를 사용해 격자 포인트들의 클래스를 예측합니다.\n",
    "# Z.reshape(xx.shape)는 예측 결과(Z)를 원래 격자 형태로 다시 변환합니다.\n",
    "\n",
    "# 결정 경계 그리기 (contourf)\n",
    "# plt.contourf(xx, yy, Z, alpha=0.3)\n",
    "# plt.contourf()는 결정 경계를 그립니다.\n",
    "# Z 값에 따라 다른 색상으로 채워져 모델이 분류한 영역을 시각적으로 표시합니다.\n",
    "# alpha=0.3은 투명도 설정으로, 배경과 데이터 포인트가 겹쳐도 잘 보이도록 합니다.\n",
    "\n",
    "# 데이터 포인트 시각화\n",
    "# plt.scatter(X[:, 0], X[:, 1], c=y, edgecolor='k', marker='o')\n",
    "# plt.scatter()는 테스트 데이터 포인트들을 플로팅합니다.\n",
    "# c=y는 데이터 포인트의 색상을 실제 레이블(y)에 따라 다르게 표시합니다.\n",
    "# edgecolor='k'는 데이터 포인트의 테두리를 검은색으로 설정합니다.\n",
    "\n",
    "# 그래프 설정 및 표시\n",
    "# plt.title(\"Decision Boundary of ANN Model\")\n",
    "# plt.xlabel(\"Feature 1\")\n",
    "# plt.ylabel(\"Feature 2\")\n",
    "# plt.show()\n",
    "# 그래프의 제목과 축 레이블을 설정하고, plt.show()로 그래프를 표시합니다.\n"
   ]
  },
  {
   "cell_type": "code",
   "execution_count": null,
   "id": "4fd982d7",
   "metadata": {
    "id": "4fd982d7"
   },
   "outputs": [],
   "source": []
  },
  {
   "cell_type": "markdown",
   "id": "c8c8983a",
   "metadata": {
    "id": "c8c8983a"
   },
   "source": [
    "코드 종합"
   ]
  },
  {
   "cell_type": "code",
   "execution_count": null,
   "id": "ac5659bb",
   "metadata": {
    "id": "ac5659bb",
    "outputId": "5e9f54b9-d3d1-46a6-a262-53d4b7efef28"
   },
   "outputs": [
    {
     "name": "stdout",
     "output_type": "stream",
     "text": [
      "Confusion Matrix:\n",
      "[[152   4]\n",
      " [  5 139]]\n",
      "\n",
      "Classification Report:\n",
      "              precision    recall  f1-score   support\n",
      "\n",
      "           0       0.97      0.97      0.97       156\n",
      "           1       0.97      0.97      0.97       144\n",
      "\n",
      "    accuracy                           0.97       300\n",
      "   macro avg       0.97      0.97      0.97       300\n",
      "weighted avg       0.97      0.97      0.97       300\n",
      "\n"
     ]
    },
    {
     "data": {
      "image/png": "[encoded data removed]",
      "text/plain": [
       "<Figure size 640x480 with 1 Axes>"
      ]
     },
     "metadata": {},
     "output_type": "display_data"
    }
   ],
   "source": [
    "import numpy as np\n",
    "import matplotlib.pyplot as plt\n",
    "from sklearn.datasets import make_moons\n",
    "from sklearn.model_selection import train_test_split\n",
    "from sklearn.preprocessing import StandardScaler\n",
    "from sklearn.neural_network import MLPClassifier\n",
    "from sklearn.metrics import classification_report, confusion_matrix\n",
    "\n",
    "# 1. 데이터 생성 및 전처리\n",
    "X, y = make_moons(n_samples=1000, noise=0.2, random_state=42)\n",
    "X_train, X_test, y_train, y_test = train_test_split(X, y, test_size=0.3, random_state=42)\n",
    "\n",
    "scaler = StandardScaler()\n",
    "X_train = scaler.fit_transform(X_train)\n",
    "X_test = scaler.transform(X_test)\n",
    "\n",
    "# 2. ANN 모델 생성 (은닉층 2개, 각각 10개의 뉴런)\n",
    "model = MLPClassifier(hidden_layer_sizes=(10, 10), activation='relu', max_iter=1000, random_state=42)\n",
    "model.fit(X_train, y_train)\n",
    "\n",
    "# 3. 모델 평가\n",
    "y_pred = model.predict(X_test)\n",
    "print(\"Confusion Matrix:\")\n",
    "print(confusion_matrix(y_test, y_pred))\n",
    "print(\"\\nClassification Report:\")\n",
    "print(classification_report(y_test, y_pred))\n",
    "\n",
    "# 4. 결정 경계 시각화\n",
    "def plot_decision_boundary(X, y, model):\n",
    "    x_min, x_max = X[:, 0].min() - 1, X[:, 0].max() + 1\n",
    "    y_min, y_max = X[:, 1].min() - 1, X[:, 1].max() + 1\n",
    "    xx, yy = np.meshgrid(np.arange(x_min, x_max, 0.01),\n",
    "                         np.arange(y_min, y_max, 0.01))\n",
    "    Z = model.predict(np.c_[xx.ravel(), yy.ravel()])\n",
    "    Z = Z.reshape(xx.shape)\n",
    "\n",
    "    plt.contourf(xx, yy, Z, alpha=0.3)\n",
    "    plt.scatter(X[:, 0], X[:, 1], c=y, edgecolor='k', marker='o')\n",
    "    plt.title(\"Decision Boundary of ANN Model\")\n",
    "    plt.xlabel(\"Feature 1\")\n",
    "    plt.ylabel(\"Feature 2\")\n",
    "    plt.show()\n",
    "\n",
    "# 결정 경계 시각화\n",
    "plot_decision_boundary(X_test, y_test, model)\n"
   ]
  },
  {
   "cell_type": "markdown",
   "id": "8dd273a5",
   "metadata": {
    "id": "8dd273a5"
   },
   "source": [
    "# MNIST 손글씨 데이터"
   ]
  },
  {
   "cell_type": "markdown",
   "id": "8f1d72f5",
   "metadata": {
    "id": "8f1d72f5"
   },
   "source": [
    "## 개요"
   ]
  },
  {
   "cell_type": "markdown",
   "id": "9b67290d",
   "metadata": {
    "id": "9b67290d"
   },
   "source": [
    "MNIST 데이터셋은 손으로 쓴 숫자 이미지로 구성되어 있으며, 0부터 9까지의 숫자를 포함하고 있습니다.\n",
    "\n",
    "MNIST 데이터셋의 주요 특징\n",
    "샘플 수:\n",
    "훈련 데이터: 60,000개의 손글씨 숫자 이미지\n",
    "테스트 데이터: 10,000개의 손글씨 숫자 이미지\n",
    "총 70,000개의 이미지로 구성되어 있습니다.\n",
    "\n",
    "이미지 크기:\n",
    "각 이미지의 크기는 28x28 픽셀입니다.\n",
    "이미지의 해상도는 낮고 흑백입니다. 픽셀 값은 0에서 255까지의 값으로, 0은 검정색(배경), 255는 흰색(숫자)에 해당합니다.\n",
    "\n",
    "레이블:\n",
    "각 이미지에 대응되는 레이블이 존재하며, 이 레이블은 0부터 9까지의 숫자를 나타냅니다.\n",
    "레이블은 이미지에 나타난 손글씨 숫자를 의미하며, 분류 문제의 목표는 이미지를 보고 숫자를 예측하는 것입니다.\n",
    "\n",
    "이미지 데이터 형식:\n",
    "각 이미지는 28x28 픽셀 크기의 2D 배열로 표현되며, 각 픽셀은 0~255 사이의 그레이스케일 값을 가집니다.\n",
    "예를 들어, 0은 완전한 검정색, 255는 완전한 흰색을 나타냅니다.\n",
    "\n",
    "데이터셋 구조\n",
    "x_train, y_train: 훈련 데이터와 훈련 레이블\n",
    "x_train: (60,000, 28, 28) 크기의 배열로, 60,000개의 이미지와 각 이미지의 28x28 픽셀을 포함합니다.\n",
    "y_train: 각 이미지에 대응되는 레이블(0~9)\n",
    "x_test, y_test: 테스트 데이터와 테스트 레이블\n",
    "x_test: (10,000, 28, 28) 크기의 배열로, 10,000개의 테스트 이미지\n",
    "y_test: 각 테스트 이미지에 대응되는 레이블\n",
    "\n",
    "데이터셋 활용\n",
    "MNIST 데이터셋은 머신러닝 및 딥러닝 알고리즘을 테스트하고 비교하는 데 많이 사용됩니다. 특히, 다음과 같은 모델에 자주 활용됩니다."
   ]
  },
  {
   "cell_type": "markdown",
   "id": "66661954",
   "metadata": {
    "id": "66661954"
   },
   "source": [
    "주요 단계\n",
    "1. 데이터 로드 및 전처리\n",
    "2. MLPClassifier 생성 (은닉층 10개)\n",
    "3. 모델 학습 및 평가\n",
    "4. 예측 결과 시각화"
   ]
  },
  {
   "cell_type": "code",
   "execution_count": null,
   "id": "358ab8d5",
   "metadata": {
    "id": "358ab8d5"
   },
   "outputs": [],
   "source": [
    "# 데이터 정보 탐색 확인"
   ]
  },
  {
   "cell_type": "code",
   "execution_count": null,
   "id": "f5e9fcf9",
   "metadata": {
    "id": "f5e9fcf9",
    "outputId": "50b1e995-9409-41d7-d8df-d6ee4c95ef4e"
   },
   "outputs": [
    {
     "name": "stdout",
     "output_type": "stream",
     "text": [
      "훈련 데이터 크기: (60000, 28, 28)\n",
      "테스트 데이터 크기: (10000, 28, 28)\n",
      "레이블 값: {0, 1, 2, 3, 4, 5, 6, 7, 8, 9}\n"
     ]
    },
    {
     "data": {
      "image/png": "[encoded data removed]",
      "text/plain": [
       "<Figure size 1500x300 with 5 Axes>"
      ]
     },
     "metadata": {},
     "output_type": "display_data"
    }
   ],
   "source": [
    "import matplotlib.pyplot as plt\n",
    "from tensorflow.keras.datasets import mnist\n",
    "\n",
    "# 1. MNIST 데이터 로드\n",
    "(X_train, y_train), (X_test, y_test) = mnist.load_data()\n",
    "\n",
    "# 2. 데이터 정보 출력\n",
    "print(f\"훈련 데이터 크기: {X_train.shape}\")\n",
    "print(f\"테스트 데이터 크기: {X_test.shape}\")\n",
    "print(f\"레이블 값: {set(y_train)}\")\n",
    "\n",
    "# 3. 샘플 이미지 시각화\n",
    "fig, axes = plt.subplots(1, 5, figsize=(15, 3))\n",
    "for i in range(5):\n",
    "    axes[i].imshow(X_train[i], cmap='gray')\n",
    "    axes[i].set_title(f\"Label: {y_train[i]}\")\n",
    "    axes[i].axis('off')\n",
    "\n",
    "plt.show()\n"
   ]
  },
  {
   "cell_type": "code",
   "execution_count": null,
   "id": "3840e70b",
   "metadata": {
    "id": "3840e70b"
   },
   "outputs": [],
   "source": [
    "##"
   ]
  },
  {
   "cell_type": "code",
   "execution_count": null,
   "id": "835c15b9",
   "metadata": {
    "id": "835c15b9"
   },
   "outputs": [],
   "source": []
  },
  {
   "cell_type": "code",
   "execution_count": null,
   "id": "0b916ae0",
   "metadata": {
    "id": "0b916ae0"
   },
   "outputs": [],
   "source": []
  },
  {
   "cell_type": "code",
   "execution_count": null,
   "id": "75f3c08d",
   "metadata": {
    "id": "75f3c08d"
   },
   "outputs": [],
   "source": []
  },
  {
   "cell_type": "code",
   "execution_count": null,
   "id": "99b9e046",
   "metadata": {
    "id": "99b9e046"
   },
   "outputs": [],
   "source": []
  },
  {
   "cell_type": "code",
   "execution_count": null,
   "id": "cf55a063",
   "metadata": {
    "id": "cf55a063"
   },
   "outputs": [],
   "source": []
  },
  {
   "cell_type": "code",
   "execution_count": null,
   "id": "006a581e",
   "metadata": {
    "id": "006a581e"
   },
   "outputs": [],
   "source": []
  },
  {
   "cell_type": "code",
   "execution_count": null,
   "id": "95ab33be",
   "metadata": {
    "id": "95ab33be"
   },
   "outputs": [],
   "source": []
  },
  {
   "cell_type": "markdown",
   "id": "ec307c1b",
   "metadata": {
    "id": "ec307c1b"
   },
   "source": [
    "코드 종합"
   ]
  },
  {
   "cell_type": "code",
   "execution_count": null,
   "id": "ced4572d",
   "metadata": {
    "id": "ced4572d",
    "outputId": "0755f4a0-a10f-4854-adc2-771fc10d6648"
   },
   "outputs": [
    {
     "name": "stderr",
     "output_type": "stream",
     "text": [
      "c:\\users\\jyb\\appdata\\local\\programs\\python\\python39\\lib\\site-packages\\sklearn\\neural_network\\_multilayer_perceptron.py:690: ConvergenceWarning: Stochastic Optimizer: Maximum iterations (20) reached and the optimization hasn't converged yet.\n",
      "  warnings.warn(\n"
     ]
    },
    {
     "name": "stdout",
     "output_type": "stream",
     "text": [
      "Confusion Matrix:\n",
      "[[1317    1    3    0    2    1    6    2    8    3]\n",
      " [   0 1584    5    2    0    1    0    4    2    2]\n",
      " [   3    4 1336    5    3    2    4   12   10    1]\n",
      " [   0    0   13 1386    1    8    1    9    4   11]\n",
      " [   1    1    4    1 1243    2    6    5    2   30]\n",
      " [   0    3    1   23    4 1202    8    2   24    6]\n",
      " [   4    4    4    0    6    5 1369    0    4    0]\n",
      " [   1    2   12    0    0    1    0 1461    4   22]\n",
      " [   4    6    9   18    3    4    7    5 1289   12]\n",
      " [   5    3    3    5   10    1    0   14    7 1372]]\n",
      "\n",
      "Classification Report:\n",
      "              precision    recall  f1-score   support\n",
      "\n",
      "           0       0.99      0.98      0.98      1343\n",
      "           1       0.99      0.99      0.99      1600\n",
      "           2       0.96      0.97      0.96      1380\n",
      "           3       0.96      0.97      0.96      1433\n",
      "           4       0.98      0.96      0.97      1295\n",
      "           5       0.98      0.94      0.96      1273\n",
      "           6       0.98      0.98      0.98      1396\n",
      "           7       0.96      0.97      0.97      1503\n",
      "           8       0.95      0.95      0.95      1357\n",
      "           9       0.94      0.97      0.95      1420\n",
      "\n",
      "    accuracy                           0.97     14000\n",
      "   macro avg       0.97      0.97      0.97     14000\n",
      "weighted avg       0.97      0.97      0.97     14000\n",
      "\n"
     ]
    },
    {
     "ename": "KeyError",
     "evalue": "0",
     "output_type": "error",
     "traceback": [
      "\u001b[1;31m---------------------------------------------------------------------------\u001b[0m",
      "\u001b[1;31mKeyError\u001b[0m                                  Traceback (most recent call last)",
      "\u001b[1;32mc:\\users\\jyb\\appdata\\local\\programs\\python\\python39\\lib\\site-packages\\pandas\\core\\indexes\\base.py\u001b[0m in \u001b[0;36mget_loc\u001b[1;34m(self, key)\u001b[0m\n\u001b[0;32m   3804\u001b[0m         \u001b[1;32mtry\u001b[0m\u001b[1;33m:\u001b[0m\u001b[1;33m\u001b[0m\u001b[1;33m\u001b[0m\u001b[0m\n\u001b[1;32m-> 3805\u001b[1;33m             \u001b[1;32mreturn\u001b[0m \u001b[0mself\u001b[0m\u001b[1;33m.\u001b[0m\u001b[0m_engine\u001b[0m\u001b[1;33m.\u001b[0m\u001b[0mget_loc\u001b[0m\u001b[1;33m(\u001b[0m\u001b[0mcasted_key\u001b[0m\u001b[1;33m)\u001b[0m\u001b[1;33m\u001b[0m\u001b[1;33m\u001b[0m\u001b[0m\n\u001b[0m\u001b[0;32m   3806\u001b[0m         \u001b[1;32mexcept\u001b[0m \u001b[0mKeyError\u001b[0m \u001b[1;32mas\u001b[0m \u001b[0merr\u001b[0m\u001b[1;33m:\u001b[0m\u001b[1;33m\u001b[0m\u001b[1;33m\u001b[0m\u001b[0m\n",
      "\u001b[1;32mindex.pyx\u001b[0m in \u001b[0;36mpandas._libs.index.IndexEngine.get_loc\u001b[1;34m()\u001b[0m\n",
      "\u001b[1;32mindex.pyx\u001b[0m in \u001b[0;36mpandas._libs.index.IndexEngine.get_loc\u001b[1;34m()\u001b[0m\n",
      "\u001b[1;32mpandas\\\\_libs\\\\hashtable_class_helper.pxi\u001b[0m in \u001b[0;36mpandas._libs.hashtable.Int64HashTable.get_item\u001b[1;34m()\u001b[0m\n",
      "\u001b[1;32mpandas\\\\_libs\\\\hashtable_class_helper.pxi\u001b[0m in \u001b[0;36mpandas._libs.hashtable.Int64HashTable.get_item\u001b[1;34m()\u001b[0m\n",
      "\u001b[1;31mKeyError\u001b[0m: 0",
      "\nThe above exception was the direct cause of the following exception:\n",
      "\u001b[1;31mKeyError\u001b[0m                                  Traceback (most recent call last)",
      "\u001b[1;32m~\\AppData\\Local\\Temp/ipykernel_2472/641939653.py\u001b[0m in \u001b[0;36m<module>\u001b[1;34m\u001b[0m\n\u001b[0;32m     37\u001b[0m \u001b[1;32mfor\u001b[0m \u001b[0mi\u001b[0m\u001b[1;33m,\u001b[0m \u001b[0max\u001b[0m \u001b[1;32min\u001b[0m \u001b[0menumerate\u001b[0m\u001b[1;33m(\u001b[0m\u001b[0maxes\u001b[0m\u001b[1;33m.\u001b[0m\u001b[0mflat\u001b[0m\u001b[1;33m)\u001b[0m\u001b[1;33m:\u001b[0m\u001b[1;33m\u001b[0m\u001b[1;33m\u001b[0m\u001b[0m\n\u001b[0;32m     38\u001b[0m     \u001b[0max\u001b[0m\u001b[1;33m.\u001b[0m\u001b[0mimshow\u001b[0m\u001b[1;33m(\u001b[0m\u001b[0mX_test\u001b[0m\u001b[1;33m[\u001b[0m\u001b[0mi\u001b[0m\u001b[1;33m]\u001b[0m\u001b[1;33m.\u001b[0m\u001b[0mreshape\u001b[0m\u001b[1;33m(\u001b[0m\u001b[1;36m28\u001b[0m\u001b[1;33m,\u001b[0m \u001b[1;36m28\u001b[0m\u001b[1;33m)\u001b[0m\u001b[1;33m,\u001b[0m \u001b[0mcmap\u001b[0m\u001b[1;33m=\u001b[0m\u001b[1;34m'gray'\u001b[0m\u001b[1;33m)\u001b[0m\u001b[1;33m\u001b[0m\u001b[1;33m\u001b[0m\u001b[0m\n\u001b[1;32m---> 39\u001b[1;33m     \u001b[0max\u001b[0m\u001b[1;33m.\u001b[0m\u001b[0mset_title\u001b[0m\u001b[1;33m(\u001b[0m\u001b[1;34mf\"True: {y_test[i]}, Pred: {y_pred[i]}\"\u001b[0m\u001b[1;33m)\u001b[0m\u001b[1;33m\u001b[0m\u001b[1;33m\u001b[0m\u001b[0m\n\u001b[0m\u001b[0;32m     40\u001b[0m     \u001b[0max\u001b[0m\u001b[1;33m.\u001b[0m\u001b[0maxis\u001b[0m\u001b[1;33m(\u001b[0m\u001b[1;34m'off'\u001b[0m\u001b[1;33m)\u001b[0m\u001b[1;33m\u001b[0m\u001b[1;33m\u001b[0m\u001b[0m\n\u001b[0;32m     41\u001b[0m \u001b[1;33m\u001b[0m\u001b[0m\n",
      "\u001b[1;32mc:\\users\\jyb\\appdata\\local\\programs\\python\\python39\\lib\\site-packages\\pandas\\core\\series.py\u001b[0m in \u001b[0;36m__getitem__\u001b[1;34m(self, key)\u001b[0m\n\u001b[0;32m   1119\u001b[0m \u001b[1;33m\u001b[0m\u001b[0m\n\u001b[0;32m   1120\u001b[0m         \u001b[1;32melif\u001b[0m \u001b[0mkey_is_scalar\u001b[0m\u001b[1;33m:\u001b[0m\u001b[1;33m\u001b[0m\u001b[1;33m\u001b[0m\u001b[0m\n\u001b[1;32m-> 1121\u001b[1;33m             \u001b[1;32mreturn\u001b[0m \u001b[0mself\u001b[0m\u001b[1;33m.\u001b[0m\u001b[0m_get_value\u001b[0m\u001b[1;33m(\u001b[0m\u001b[0mkey\u001b[0m\u001b[1;33m)\u001b[0m\u001b[1;33m\u001b[0m\u001b[1;33m\u001b[0m\u001b[0m\n\u001b[0m\u001b[0;32m   1122\u001b[0m \u001b[1;33m\u001b[0m\u001b[0m\n\u001b[0;32m   1123\u001b[0m         \u001b[1;31m# Convert generator to list before going through hashable part\u001b[0m\u001b[1;33m\u001b[0m\u001b[1;33m\u001b[0m\u001b[0m\n",
      "\u001b[1;32mc:\\users\\jyb\\appdata\\local\\programs\\python\\python39\\lib\\site-packages\\pandas\\core\\series.py\u001b[0m in \u001b[0;36m_get_value\u001b[1;34m(self, label, takeable)\u001b[0m\n\u001b[0;32m   1235\u001b[0m \u001b[1;33m\u001b[0m\u001b[0m\n\u001b[0;32m   1236\u001b[0m         \u001b[1;31m# Similar to Index.get_value, but we do not fall back to positional\u001b[0m\u001b[1;33m\u001b[0m\u001b[1;33m\u001b[0m\u001b[0m\n\u001b[1;32m-> 1237\u001b[1;33m         \u001b[0mloc\u001b[0m \u001b[1;33m=\u001b[0m \u001b[0mself\u001b[0m\u001b[1;33m.\u001b[0m\u001b[0mindex\u001b[0m\u001b[1;33m.\u001b[0m\u001b[0mget_loc\u001b[0m\u001b[1;33m(\u001b[0m\u001b[0mlabel\u001b[0m\u001b[1;33m)\u001b[0m\u001b[1;33m\u001b[0m\u001b[1;33m\u001b[0m\u001b[0m\n\u001b[0m\u001b[0;32m   1238\u001b[0m \u001b[1;33m\u001b[0m\u001b[0m\n\u001b[0;32m   1239\u001b[0m         \u001b[1;32mif\u001b[0m \u001b[0mis_integer\u001b[0m\u001b[1;33m(\u001b[0m\u001b[0mloc\u001b[0m\u001b[1;33m)\u001b[0m\u001b[1;33m:\u001b[0m\u001b[1;33m\u001b[0m\u001b[1;33m\u001b[0m\u001b[0m\n",
      "\u001b[1;32mc:\\users\\jyb\\appdata\\local\\programs\\python\\python39\\lib\\site-packages\\pandas\\core\\indexes\\base.py\u001b[0m in \u001b[0;36mget_loc\u001b[1;34m(self, key)\u001b[0m\n\u001b[0;32m   3810\u001b[0m             ):\n\u001b[0;32m   3811\u001b[0m                 \u001b[1;32mraise\u001b[0m \u001b[0mInvalidIndexError\u001b[0m\u001b[1;33m(\u001b[0m\u001b[0mkey\u001b[0m\u001b[1;33m)\u001b[0m\u001b[1;33m\u001b[0m\u001b[1;33m\u001b[0m\u001b[0m\n\u001b[1;32m-> 3812\u001b[1;33m             \u001b[1;32mraise\u001b[0m \u001b[0mKeyError\u001b[0m\u001b[1;33m(\u001b[0m\u001b[0mkey\u001b[0m\u001b[1;33m)\u001b[0m \u001b[1;32mfrom\u001b[0m \u001b[0merr\u001b[0m\u001b[1;33m\u001b[0m\u001b[1;33m\u001b[0m\u001b[0m\n\u001b[0m\u001b[0;32m   3813\u001b[0m         \u001b[1;32mexcept\u001b[0m \u001b[0mTypeError\u001b[0m\u001b[1;33m:\u001b[0m\u001b[1;33m\u001b[0m\u001b[1;33m\u001b[0m\u001b[0m\n\u001b[0;32m   3814\u001b[0m             \u001b[1;31m# If we have a listlike key, _check_indexing_error will raise\u001b[0m\u001b[1;33m\u001b[0m\u001b[1;33m\u001b[0m\u001b[0m\n",
      "\u001b[1;31mKeyError\u001b[0m: 0"
     ]
    },
    {
     "data": {
      "image/png": "[encoded data removed]",
      "text/plain": [
       "<Figure size 1200x600 with 10 Axes>"
      ]
     },
     "metadata": {},
     "output_type": "display_data"
    }
   ],
   "source": [
    "import numpy as np\n",
    "import matplotlib.pyplot as plt\n",
    "from sklearn.datasets import fetch_openml\n",
    "from sklearn.neural_network import MLPClassifier\n",
    "from sklearn.model_selection import train_test_split\n",
    "from sklearn.preprocessing import StandardScaler\n",
    "from sklearn.metrics import classification_report, confusion_matrix\n",
    "\n",
    "# 1. MNIST 데이터 로드\n",
    "mnist = fetch_openml('mnist_784', version=1)\n",
    "X, y = mnist.data, mnist.target.astype(int)\n",
    "\n",
    "# 데이터를 0~1 사이로 정규화\n",
    "X /= 255.0\n",
    "\n",
    "# 2. 학습 데이터와 테스트 데이터 분리\n",
    "X_train, X_test, y_train, y_test = train_test_split(X, y, test_size=0.2, random_state=42)\n",
    "\n",
    "# 3. 데이터 표준화\n",
    "scaler = StandardScaler()\n",
    "X_train = scaler.fit_transform(X_train)\n",
    "X_test = scaler.transform(X_test)\n",
    "\n",
    "# 4. MLPClassifier 모델 생성 및 학습\n",
    "model = MLPClassifier(hidden_layer_sizes=(64, 64), activation='relu', max_iter=20, random_state=42)\n",
    "model.fit(X_train, y_train)\n",
    "\n",
    "# 5. 모델 평가\n",
    "y_pred = model.predict(X_test)\n",
    "print(\"Confusion Matrix:\")\n",
    "print(confusion_matrix(y_test, y_pred))\n",
    "print(\"\\nClassification Report:\")\n",
    "print(classification_report(y_test, y_pred))\n",
    "\n",
    "# 6. 예측 결과 시각화\n",
    "fig, axes = plt.subplots(2, 5, figsize=(12, 6))\n",
    "for i, ax in enumerate(axes.flat):\n",
    "    ax.imshow(X_test[i].reshape(28, 28), cmap='gray')\n",
    "    ax.set_title(f\"True: {y_test[i]}, Pred: {y_pred[i]}\")\n",
    "    ax.axis('off')\n",
    "\n",
    "plt.suptitle(\"MNIST Predictions (True Label vs. Predicted Label)\")\n",
    "plt.show()\n"
   ]
  },
  {
   "cell_type": "code",
   "execution_count": null,
   "id": "299487d7",
   "metadata": {
    "id": "299487d7"
   },
   "outputs": [],
   "source": []
  },
  {
   "cell_type": "code",
   "execution_count": null,
   "id": "dc5ef1ee",
   "metadata": {
    "id": "dc5ef1ee"
   },
   "outputs": [],
   "source": []
  },
  {
   "cell_type": "code",
   "execution_count": null,
   "id": "cf24bb05",
   "metadata": {
    "id": "cf24bb05"
   },
   "outputs": [],
   "source": []
  },
  {
   "cell_type": "code",
   "execution_count": null,
   "id": "8dd04c87",
   "metadata": {
    "id": "8dd04c87"
   },
   "outputs": [],
   "source": []
  },
  {
   "cell_type": "code",
   "execution_count": null,
   "id": "34884e45",
   "metadata": {
    "id": "34884e45"
   },
   "outputs": [],
   "source": []
  },
  {
   "cell_type": "code",
   "execution_count": null,
   "id": "e23b95ec",
   "metadata": {
    "id": "e23b95ec"
   },
   "outputs": [],
   "source": []
  },
  {
   "cell_type": "code",
   "execution_count": null,
   "id": "208c2d5e",
   "metadata": {
    "id": "208c2d5e"
   },
   "outputs": [],
   "source": []
  },
  {
   "cell_type": "code",
   "execution_count": null,
   "id": "586590dd",
   "metadata": {
    "id": "586590dd"
   },
   "outputs": [],
   "source": []
  },
  {
   "cell_type": "code",
   "execution_count": null,
   "id": "a1ced3b8",
   "metadata": {
    "id": "a1ced3b8"
   },
   "outputs": [],
   "source": []
  },
  {
   "cell_type": "markdown",
   "id": "e55bf528",
   "metadata": {
    "id": "e55bf528"
   },
   "source": [
    "# MNIST 손글씨데이터2"
   ]
  },
  {
   "cell_type": "markdown",
   "id": "349ef8ab",
   "metadata": {
    "id": "349ef8ab"
   },
   "source": [
    "TensorFlow와 Keras를 사용하여 MNIST 손글씨 숫자 데이터셋에 대해 간단한 인공 신경망(ANN) 모델을 구축하고 학습하는 예시입니다"
   ]
  },
  {
   "cell_type": "code",
   "execution_count": null,
   "id": "7a3be362",
   "metadata": {
    "id": "7a3be362"
   },
   "outputs": [],
   "source": [
    "# 인공신경망(ANN): 간단한 신경망을 이용해 손글씨 숫자를 분류하는 문제로 많이 사용됩니다.\n",
    "# 컨볼루션 신경망(CNN): 이미지 데이터 특성에 맞춰 CNN을 적용하여 더 높은 정확도를 얻을 수 있습니다.\n",
    "# 기본적인 머신러닝 알고리즘: SVM, KNN, 랜덤 포레스트 등 전통적인 머신러닝 알고리즘으로도 MNIST 분류 문제를 해결할 수 있습니다. -->"
   ]
  },
  {
   "cell_type": "code",
   "execution_count": null,
   "id": "8a73c821",
   "metadata": {
    "colab": {
     "base_uri": "https://localhost:8080/",
     "height": 488
    },
    "executionInfo": {
     "elapsed": 19167,
     "status": "ok",
     "timestamp": 1729733686232,
     "user": {
      "displayName": "전윤범",
      "userId": "16579588953913211126"
     },
     "user_tz": -540
    },
    "id": "8a73c821",
    "outputId": "ad472489-1911-42af-8a50-0b8e70dd034e"
   },
   "outputs": [
    {
     "name": "stdout",
     "output_type": "stream",
     "text": [
      "Downloading data from https://storage.googleapis.com/tensorflow/tf-keras-datasets/mnist.npz\n",
      "\u001b[1m11490434/11490434\u001b[0m \u001b[32m━━━━━━━━━━━━━━━━━━━━\u001b[0m\u001b[37m\u001b[0m \u001b[1m0s\u001b[0m 0us/step\n"
     ]
    },
    {
     "data": {
      "image/png": "[encoded data removed]",
      "text/plain": [
       "<Figure size 640x480 with 1 Axes>"
      ]
     },
     "metadata": {},
     "output_type": "display_data"
    }
   ],
   "source": [
    "import tensorflow as tf\n",
    "import matplotlib.pyplot as plt\n",
    "\n",
    "# MNIST 데이터셋 로드\n",
    "mnist = tf.keras.datasets.mnist\n",
    "(x_train, y_train), (x_test, y_test) = mnist.load_data()\n",
    "\n",
    "# 첫 번째 이미지 출력\n",
    "plt.imshow(x_train[0], cmap='gray')\n",
    "plt.title(f\"Label: {y_train[0]}\")\n",
    "plt.show()\n"
   ]
  },
  {
   "cell_type": "code",
   "execution_count": null,
   "id": "5d26f130",
   "metadata": {
    "id": "5d26f130"
   },
   "outputs": [],
   "source": [
    "# MNIST 데이터셋에서 첫 번째 이미지를 출력하고 그에 해당하는 레이블을 확인할 수 있습니다."
   ]
  },
  {
   "cell_type": "code",
   "execution_count": null,
   "id": "090aa286",
   "metadata": {
    "id": "090aa286"
   },
   "outputs": [],
   "source": [
    "# MNIST 데이터셋은 이미지 분류 문제에서 널리 사용되는 데이터셋으로, 초보자가 딥러닝과 머신러닝을 학습하기에 이상적입니다.\n",
    "# 픽셀 데이터를 이용한 손글씨 숫자 분류는 다양한 모델의 성능을 비교하고 학습하는 데 매우 유용합니다."
   ]
  },
  {
   "cell_type": "markdown",
   "id": "dab26348",
   "metadata": {
    "id": "dab26348"
   },
   "source": [
    "# 실습"
   ]
  },
  {
   "cell_type": "markdown",
   "id": "b9f0e76f",
   "metadata": {
    "id": "b9f0e76f"
   },
   "source": [
    "## 데이터 준비"
   ]
  },
  {
   "cell_type": "code",
   "execution_count": null,
   "id": "7d847083",
   "metadata": {
    "id": "7d847083"
   },
   "outputs": [],
   "source": [
    "# MNIST 데이터셋 로드: tf.keras.datasets.mnist를 통해 MNIST 데이터를 로드합니다.\n",
    "# 이 데이터셋은 28x28 크기의 손글씨 숫자 이미지와 각 이미지에 대한 레이블(0~9)이 포함되어 있습니다.\n",
    "# 정규화(Normalization): 픽셀 값이 0~255 사이의 값이기 때문에, 이를 0~1 사이로 스케일링하여 학습이 잘 이루어지도록 정규화합니다."
   ]
  },
  {
   "cell_type": "code",
   "execution_count": null,
   "id": "bc4380aa",
   "metadata": {
    "id": "bc4380aa"
   },
   "outputs": [],
   "source": []
  },
  {
   "cell_type": "code",
   "execution_count": null,
   "id": "2fd6a86d",
   "metadata": {
    "id": "2fd6a86d"
   },
   "outputs": [],
   "source": [
    "mnist = tf.keras.datasets.mnist\n",
    "(x_train, y_train), (x_test, y_test) = mnist.load_data()\n",
    "x_train, x_test = x_train / 255.0, x_test / 255.0  # 정규화\n"
   ]
  },
  {
   "cell_type": "markdown",
   "id": "5233918d",
   "metadata": {
    "id": "5233918d"
   },
   "source": [
    " ## 모델 정의"
   ]
  },
  {
   "cell_type": "code",
   "execution_count": null,
   "id": "a891cfc5",
   "metadata": {
    "id": "a891cfc5"
   },
   "outputs": [],
   "source": [
    "# Sequential 모델: Sequential()을 통해 각 레이어가 순차적으로 연결되는 신경망 모델을 정의합니다.\n",
    "# Flatten 층: 입력 데이터가 28x28 이미지이므로 이를 일차원 벡터로 펼쳐줍니다.\n",
    "# Dense 층: 첫 번째 은닉층으로 128개의 뉴런을 가지며, 활성화 함수로 ReLU를 사용합니다.\n",
    "# Dense 층을 이용한 다중 클래스 분류 문제를 해결합니다.\n",
    "# Dropout 층: 과적합을 방지하기 위해 20%의 뉴런을 무작위로 끕니다.\n",
    "# Dense 출력층: 10개의 뉴런을 가지는 출력층입니다. 소프트맥스(Softmax) 활성화 함수를 사용하여 다중 클래스 분류를 수행합니다."
   ]
  },
  {
   "cell_type": "code",
   "execution_count": null,
   "id": "7dbf31b2",
   "metadata": {
    "id": "7dbf31b2"
   },
   "outputs": [],
   "source": [
    "# 모델 구조:\n",
    "# 입력: 28x28 픽셀 크기의 이미지를 펼친 후,\n",
    "# 128개의 은닉 뉴런을 거쳐,\n",
    "# 출력층에서 10개의 클래스(숫자 0~9)에 대한 확률을 출력합니다."
   ]
  },
  {
   "cell_type": "code",
   "execution_count": null,
   "id": "abdf1b82",
   "metadata": {
    "colab": {
     "base_uri": "https://localhost:8080/"
    },
    "executionInfo": {
     "elapsed": 334,
     "status": "ok",
     "timestamp": 1729733721085,
     "user": {
      "displayName": "전윤범",
      "userId": "16579588953913211126"
     },
     "user_tz": -540
    },
    "id": "abdf1b82",
    "outputId": "144c7d57-13ee-4822-8d5b-37b9802c1305"
   },
   "outputs": [
    {
     "name": "stderr",
     "output_type": "stream",
     "text": [
      "/usr/local/lib/python3.10/dist-packages/keras/src/layers/reshaping/flatten.py:37: UserWarning: Do not pass an `input_shape`/`input_dim` argument to a layer. When using Sequential models, prefer using an `Input(shape)` object as the first layer in the model instead.\n",
      "  super().__init__(**kwargs)\n"
     ]
    }
   ],
   "source": [
    "from tensorflow.keras import layers, models\n",
    "model = models.Sequential([\n",
    "    layers.Flatten(input_shape=(28, 28)),  # 입력층\n",
    "    layers.Dense(128, activation='relu'),  # 은닉층\n",
    "    layers.Dropout(0.2),                   # 드롭아웃\n",
    "    layers.Dense(10, activation='softmax') # 출력층\n",
    "])\n"
   ]
  },
  {
   "cell_type": "markdown",
   "id": "6de2aa49",
   "metadata": {
    "id": "6de2aa49"
   },
   "source": [
    "## 모델 컴파일"
   ]
  },
  {
   "cell_type": "code",
   "execution_count": null,
   "id": "96952183",
   "metadata": {
    "id": "96952183"
   },
   "outputs": [],
   "source": [
    "# Optimizer: Adam 옵티마이저를 사용하여 가중치 업데이트를 수행합니다.\n",
    "# Loss 함수: 다중 클래스 분류 문제이므로 sparse_categorical_crossentropy 손실 함수를 사용합니다. 이는 레이블이 정수로 제공될 때 사용됩니다.\n",
    "# 평가지표: 모델 성능을 평가하기 위한 지표로 accuracy를 사용합니다."
   ]
  },
  {
   "cell_type": "code",
   "execution_count": null,
   "id": "d21523a3",
   "metadata": {
    "id": "d21523a3"
   },
   "outputs": [],
   "source": [
    "model.compile(optimizer='adam',\n",
    "              loss='sparse_categorical_crossentropy',\n",
    "              metrics=['accuracy'])\n"
   ]
  },
  {
   "cell_type": "markdown",
   "id": "a5e15c4f",
   "metadata": {
    "id": "a5e15c4f"
   },
   "source": [
    "## 모델 학습"
   ]
  },
  {
   "cell_type": "code",
   "execution_count": null,
   "id": "5ed83ef3",
   "metadata": {
    "id": "5ed83ef3"
   },
   "outputs": [],
   "source": [
    "# 학습: 훈련 데이터를 사용해 5번 반복(에포크)하여 모델을 학습시킵니다."
   ]
  },
  {
   "cell_type": "code",
   "execution_count": null,
   "id": "4ad67cb9",
   "metadata": {
    "colab": {
     "base_uri": "https://localhost:8080/"
    },
    "executionInfo": {
     "elapsed": 41198,
     "status": "ok",
     "timestamp": 1729733767161,
     "user": {
      "displayName": "전윤범",
      "userId": "16579588953913211126"
     },
     "user_tz": -540
    },
    "id": "4ad67cb9",
    "outputId": "d5d32e48-6c7f-49f1-909b-e73a8629a32e"
   },
   "outputs": [
    {
     "name": "stdout",
     "output_type": "stream",
     "text": [
      "Epoch 1/5\n",
      "\u001b[1m1875/1875\u001b[0m \u001b[32m━━━━━━━━━━━━━━━━━━━━\u001b[0m\u001b[37m\u001b[0m \u001b[1m9s\u001b[0m 4ms/step - accuracy: 0.8604 - loss: 0.4786\n",
      "Epoch 2/5\n",
      "\u001b[1m1875/1875\u001b[0m \u001b[32m━━━━━━━━━━━━━━━━━━━━\u001b[0m\u001b[37m\u001b[0m \u001b[1m10s\u001b[0m 4ms/step - accuracy: 0.9533 - loss: 0.1526\n",
      "Epoch 3/5\n",
      "\u001b[1m1875/1875\u001b[0m \u001b[32m━━━━━━━━━━━━━━━━━━━━\u001b[0m\u001b[37m\u001b[0m \u001b[1m7s\u001b[0m 3ms/step - accuracy: 0.9665 - loss: 0.1085\n",
      "Epoch 4/5\n",
      "\u001b[1m1875/1875\u001b[0m \u001b[32m━━━━━━━━━━━━━━━━━━━━\u001b[0m\u001b[37m\u001b[0m \u001b[1m8s\u001b[0m 4ms/step - accuracy: 0.9729 - loss: 0.0875\n",
      "Epoch 5/5\n",
      "\u001b[1m1875/1875\u001b[0m \u001b[32m━━━━━━━━━━━━━━━━━━━━\u001b[0m\u001b[37m\u001b[0m \u001b[1m7s\u001b[0m 4ms/step - accuracy: 0.9760 - loss: 0.0751\n"
     ]
    },
    {
     "data": {
      "text/plain": [
       "<keras.src.callbacks.history.History at 0x7ef687e78d30>"
      ]
     },
     "execution_count": 10,
     "metadata": {},
     "output_type": "execute_result"
    }
   ],
   "source": [
    "model.fit(x_train, y_train, epochs=5)\n"
   ]
  },
  {
   "cell_type": "markdown",
   "id": "500c19ff",
   "metadata": {
    "id": "500c19ff"
   },
   "source": [
    "## 모델 평가"
   ]
  },
  {
   "cell_type": "code",
   "execution_count": null,
   "id": "cefa9c21",
   "metadata": {
    "id": "cefa9c21"
   },
   "outputs": [],
   "source": [
    "# 평가: 테스트 데이터를 사용해 학습된 모델을 평가하고 정확도와 손실 값을 출력합니다."
   ]
  },
  {
   "cell_type": "code",
   "execution_count": null,
   "id": "871266b2",
   "metadata": {
    "colab": {
     "base_uri": "https://localhost:8080/"
    },
    "executionInfo": {
     "elapsed": 931,
     "status": "ok",
     "timestamp": 1729733768089,
     "user": {
      "displayName": "전윤범",
      "userId": "16579588953913211126"
     },
     "user_tz": -540
    },
    "id": "871266b2",
    "outputId": "dd376cb1-319a-44f7-8f17-723b306fdc35"
   },
   "outputs": [
    {
     "name": "stdout",
     "output_type": "stream",
     "text": [
      "\u001b[1m313/313\u001b[0m \u001b[32m━━━━━━━━━━━━━━━━━━━━\u001b[0m\u001b[37m\u001b[0m \u001b[1m1s\u001b[0m 2ms/step - accuracy: 0.9740 - loss: 0.0880\n"
     ]
    },
    {
     "data": {
      "text/plain": [
       "[0.07412156462669373, 0.9779999852180481]"
      ]
     },
     "execution_count": 12,
     "metadata": {},
     "output_type": "execute_result"
    }
   ],
   "source": [
    "model.evaluate(x_test, y_test)\n"
   ]
  },
  {
   "cell_type": "markdown",
   "id": "c4b2f245",
   "metadata": {
    "id": "c4b2f245"
   },
   "source": [
    "## 결과 해석"
   ]
  },
  {
   "cell_type": "code",
   "execution_count": null,
   "id": "17317c54",
   "metadata": {
    "id": "17317c54"
   },
   "outputs": [],
   "source": [
    "# 모델 평가 값으로 제공된 두 개의 값 **0.07774345576763153**와 **0.9758999943733215**는 각각 **손실 값(loss)**과 **정확도(accuracy)**를 의미합니다. 이를 설명하겠습니다:\n",
    "\n",
    "# 1. 손실 값 (Loss): 0.07774345576763153\n",
    "# 손실(Loss)은 모델이 예측한 값과 실제 정답 사이의 차이를 수치화한 값입니다.\n",
    "# 이 값은 모델이 얼마나 잘못 예측했는지를 나타냅니다.\n",
    "# 손실 함수로는 주로 크로스 엔트로피(Categorical Crossentropy)를 사용합니다. 이 값은 낮을수록 모델의 성능이 더 좋다는 의미입니다. 즉, 손실 값이 작으면 모델의 예측이 실제 값에 더 가깝다는 것을 의미합니다.\n",
    "# 0.0777의 손실 값은 상당히 작은 값으로, 이는 모델이 예측하는 값이 실제 정답과 매우 가까운 결과를 내고 있음을 의미합니다.\n",
    "\n",
    "# 2. 정확도 (Accuracy): 0.9758999943733215\n",
    "# 정확도(Accuracy)는 모델이 얼마나 정확하게 예측했는지를 나타내는 값으로, 예측한 값 중에서 실제 정답과 일치하는 비율입니다.\n",
    "# 0.9759는 정확도가 97.59%임을 의미합니다. 즉, 테스트 데이터에 대해 모델이 97.59%의 정확도로 올바른 예측을 했다는 의미입니다.\n",
    "# 높은 정확도는 모델이 테스트 데이터에서 상당히 좋은 성능을 발휘하고 있음을 나타냅니다.\n"
   ]
  },
  {
   "cell_type": "code",
   "execution_count": null,
   "id": "e357b96d",
   "metadata": {
    "id": "e357b96d"
   },
   "outputs": [],
   "source": [
    "# 종합 설명:\n",
    "# 손실 값이 0.0777로 낮고, 정확도가 97.59%로 매우 높은 것으로 보아, 이 모델은 주어진 데이터셋에 대해 매우 좋은 성능을 보이고 있다고 해석할 수 있습니다.\n",
    "# 모델의 목표는 손실 값을 최소화하고 정확도를 최대화하는 것이므로, 이 평가 결과는 훈련된 모델이 테스트 데이터에서도 매우 좋은 성능을 발휘하고 있음을 의미합니다.\n",
    "\n",
    "# 참고:\n",
    "# 손실 값은 주로 학습 과정에서 모델의 성능을 평가하는 지표이며, 낮을수록 모델이 더 잘 학습한 것입니다.\n",
    "# 정확도는 모델이 예측한 정답의 비율을 나타내는 지표로, 분류 문제에서는 중요한 성능 지표입니다."
   ]
  },
  {
   "cell_type": "code",
   "execution_count": null,
   "id": "d5520ed1",
   "metadata": {
    "id": "d5520ed1"
   },
   "outputs": [],
   "source": []
  },
  {
   "cell_type": "markdown",
   "id": "cdce7f61",
   "metadata": {
    "id": "cdce7f61"
   },
   "source": [
    "## 종합 코드"
   ]
  },
  {
   "cell_type": "code",
   "execution_count": null,
   "id": "244186ea",
   "metadata": {
    "colab": {
     "base_uri": "https://localhost:8080/"
    },
    "executionInfo": {
     "elapsed": 46995,
     "status": "ok",
     "timestamp": 1729733825152,
     "user": {
      "displayName": "전윤범",
      "userId": "16579588953913211126"
     },
     "user_tz": -540
    },
    "id": "244186ea",
    "outputId": "f1d72c6c-8a37-4af8-cf26-09e985b4a373"
   },
   "outputs": [
    {
     "name": "stderr",
     "output_type": "stream",
     "text": [
      "c:\\users\\jyb\\appdata\\local\\programs\\python\\python39\\lib\\site-packages\\keras\\src\\layers\\reshaping\\flatten.py:37: UserWarning: Do not pass an `input_shape`/`input_dim` argument to a layer. When using Sequential models, prefer using an `Input(shape)` object as the first layer in the model instead.\n",
      "  super().__init__(**kwargs)\n"
     ]
    },
    {
     "name": "stdout",
     "output_type": "stream",
     "text": [
      "Epoch 1/5\n",
      "\u001b[1m1875/1875\u001b[0m \u001b[32m━━━━━━━━━━━━━━━━━━━━\u001b[0m\u001b[37m\u001b[0m \u001b[1m9s\u001b[0m 4ms/step - accuracy: 0.8592 - loss: 0.4797\n",
      "Epoch 2/5\n",
      "\u001b[1m1875/1875\u001b[0m \u001b[32m━━━━━━━━━━━━━━━━━━━━\u001b[0m\u001b[37m\u001b[0m \u001b[1m7s\u001b[0m 4ms/step - accuracy: 0.9549 - loss: 0.1558\n",
      "Epoch 3/5\n",
      "\u001b[1m1875/1875\u001b[0m \u001b[32m━━━━━━━━━━━━━━━━━━━━\u001b[0m\u001b[37m\u001b[0m \u001b[1m4s\u001b[0m 2ms/step - accuracy: 0.9669 - loss: 0.1120\n",
      "Epoch 4/5\n",
      "\u001b[1m1875/1875\u001b[0m \u001b[32m━━━━━━━━━━━━━━━━━━━━\u001b[0m\u001b[37m\u001b[0m \u001b[1m5s\u001b[0m 3ms/step - accuracy: 0.9718 - loss: 0.0895\n",
      "Epoch 5/5\n",
      "\u001b[1m1875/1875\u001b[0m \u001b[32m━━━━━━━━━━━━━━━━━━━━\u001b[0m\u001b[37m\u001b[0m \u001b[1m5s\u001b[0m 2ms/step - accuracy: 0.9769 - loss: 0.0734\n",
      "\u001b[1m313/313\u001b[0m \u001b[32m━━━━━━━━━━━━━━━━━━━━\u001b[0m\u001b[37m\u001b[0m \u001b[1m1s\u001b[0m 2ms/step - accuracy: 0.9714 - loss: 0.0898\n"
     ]
    },
    {
     "data": {
      "text/plain": [
       "[0.07636785507202148, 0.9760000109672546]"
      ]
     },
     "execution_count": 1,
     "metadata": {},
     "output_type": "execute_result"
    }
   ],
   "source": [
    "import tensorflow as tf\n",
    "from tensorflow.keras import layers, models\n",
    "\n",
    "# 1. 데이터 준비\n",
    "mnist = tf.keras.datasets.mnist\n",
    "(x_train, y_train), (x_test, y_test) = mnist.load_data()\n",
    "x_train, x_test = x_train / 255.0, x_test / 255.0  # 정규화\n",
    "\n",
    "# 2. 모델 정의\n",
    "model = models.Sequential([\n",
    "    layers.Flatten(input_shape=(28, 28)),  # 입력층\n",
    "    layers.Dense(128, activation='relu'),  # 은닉층\n",
    "    layers.Dropout(0.2),                   # 드롭아웃\n",
    "    layers.Dense(10, activation='softmax') # 출력층\n",
    "])\n",
    "\n",
    "# 3. 모델 컴파일\n",
    "model.compile(optimizer='adam',\n",
    "              loss='sparse_categorical_crossentropy',\n",
    "              metrics=['accuracy'])\n",
    "\n",
    "# 4. 모델 학습\n",
    "model.fit(x_train, y_train, epochs=5)\n",
    "\n",
    "# 5. 모델 평가\n",
    "model.evaluate(x_test, y_test)\n"
   ]
  },
  {
   "cell_type": "code",
   "execution_count": null,
   "id": "01c6dc99",
   "metadata": {
    "id": "01c6dc99"
   },
   "outputs": [],
   "source": []
  },
  {
   "cell_type": "code",
   "execution_count": null,
   "id": "9c0698cf",
   "metadata": {
    "id": "9c0698cf"
   },
   "outputs": [],
   "source": []
  },
  {
   "cell_type": "code",
   "execution_count": null,
   "id": "88d65d4e",
   "metadata": {
    "id": "88d65d4e"
   },
   "outputs": [],
   "source": []
  },
  {
   "cell_type": "markdown",
   "id": "240fffba",
   "metadata": {
    "id": "240fffba"
   },
   "source": [
    "# 드롭아웃(Dropout)"
   ]
  },
  {
   "cell_type": "code",
   "execution_count": null,
   "id": "7b65ca92",
   "metadata": {
    "id": "7b65ca92"
   },
   "outputs": [],
   "source": [
    "# TensorFlow와 Keras에서 드롭아웃(Dropout)을 사용하는 간단한 신경망 모델의 예시 코드입니다.\n",
    "# 드롭아웃은 과적합을 방지하기 위해 뉴런의 일부를 랜덤하게 비활성화하는 기술\n",
    "# 모델이 학습하는 동안 무작위로 뉴런을 드롭(drop)하여 특정 뉴런에 너무 의존하지 않도록 만듭니다"
   ]
  },
  {
   "cell_type": "code",
   "execution_count": null,
   "id": "d62db8c7",
   "metadata": {
    "id": "d62db8c7"
   },
   "outputs": [],
   "source": [
    "# 드롭아웃이 중요한 이유:\n",
    "\n",
    "# 과적합 방지: 드롭아웃은 모델이 학습할 때 특정 뉴런에 의존하지 않도록 하여,\n",
    "# 모델이 훈련 데이터에 과도하게 적합(과적합)되는 것을 방지합니다.\n",
    "# 일반화 성능 향상: 드롭아웃은 모델의 일반화 성능을 향상시켜 새로운 데이터에서도 더 좋은 성능을 발휘할 수 있습니다."
   ]
  },
  {
   "cell_type": "code",
   "execution_count": null,
   "id": "5bdcb645",
   "metadata": {
    "id": "5bdcb645"
   },
   "outputs": [],
   "source": [
    "# 코드 설명:\n",
    "# 데이터 준비: MNIST 손글씨 숫자 데이터셋을 로드하고, 각 픽셀 값을 0~1 사이로 정규화합니다.\n",
    "# 모델 정의:\n",
    "# Flatten: 입력 이미지를 1차원 벡터로 변환합니다.\n",
    "# Dense(128, activation='relu'): 128개의 뉴런을 가진 은닉층을 정의하며, 활성화 함수로 ReLU를 사용합니다.\n",
    "# Dropout(0.5): 드롭아웃을 적용해 은닉층의 50% 뉴런을 학습 중 무작위로 비활성화합니다.\n",
    "# Dense(10, activation='softmax'): 10개의 뉴런을 가진 출력층을 정의하며, softmax 활성화 함수로 다중 클래스 분류를 수행합니다.\n",
    "# 컴파일: Adam 옵티마이저와 sparse_categorical_crossentropy 손실 함수를 사용하여 모델을 컴파일합니다.\n",
    "# 모델 학습: 훈련 데이터로 5번의 에포크 동안 모델을 학습시킵니다.\n",
    "# 모델 평가: 테스트 데이터로 모델을 평가하고 정확도를 출력합니다."
   ]
  },
  {
   "cell_type": "code",
   "execution_count": null,
   "id": "1b6f9cad",
   "metadata": {
    "colab": {
     "base_uri": "https://localhost:8080/"
    },
    "executionInfo": {
     "elapsed": 49220,
     "status": "ok",
     "timestamp": 1729733874369,
     "user": {
      "displayName": "전윤범",
      "userId": "16579588953913211126"
     },
     "user_tz": -540
    },
    "id": "1b6f9cad",
    "outputId": "04cc8fc1-a309-4baa-f7c8-752368835cfe"
   },
   "outputs": [
    {
     "name": "stdout",
     "output_type": "stream",
     "text": [
      "Epoch 1/5\n",
      "\u001b[1m1875/1875\u001b[0m \u001b[32m━━━━━━━━━━━━━━━━━━━━\u001b[0m\u001b[37m\u001b[0m \u001b[1m8s\u001b[0m 4ms/step - accuracy: 0.8158 - loss: 0.5990\n",
      "Epoch 2/5\n",
      "\u001b[1m1875/1875\u001b[0m \u001b[32m━━━━━━━━━━━━━━━━━━━━\u001b[0m\u001b[37m\u001b[0m \u001b[1m12s\u001b[0m 4ms/step - accuracy: 0.9320 - loss: 0.2290\n",
      "Epoch 3/5\n",
      "\u001b[1m1875/1875\u001b[0m \u001b[32m━━━━━━━━━━━━━━━━━━━━\u001b[0m\u001b[37m\u001b[0m \u001b[1m11s\u001b[0m 5ms/step - accuracy: 0.9441 - loss: 0.1870\n",
      "Epoch 4/5\n",
      "\u001b[1m1875/1875\u001b[0m \u001b[32m━━━━━━━━━━━━━━━━━━━━\u001b[0m\u001b[37m\u001b[0m \u001b[1m9s\u001b[0m 4ms/step - accuracy: 0.9513 - loss: 0.1632\n",
      "Epoch 5/5\n",
      "\u001b[1m1875/1875\u001b[0m \u001b[32m━━━━━━━━━━━━━━━━━━━━\u001b[0m\u001b[37m\u001b[0m \u001b[1m7s\u001b[0m 4ms/step - accuracy: 0.9561 - loss: 0.1416\n",
      "\u001b[1m313/313\u001b[0m \u001b[32m━━━━━━━━━━━━━━━━━━━━\u001b[0m\u001b[37m\u001b[0m \u001b[1m1s\u001b[0m 2ms/step - accuracy: 0.9709 - loss: 0.0983\n",
      "테스트 정확도: 0.9749000072479248\n"
     ]
    }
   ],
   "source": [
    "import tensorflow as tf\n",
    "from tensorflow.keras import layers, models\n",
    "\n",
    "# 1. 데이터 준비 (MNIST 손글씨 숫자 데이터셋)\n",
    "mnist = tf.keras.datasets.mnist\n",
    "(x_train, y_train), (x_test, y_test) = mnist.load_data()\n",
    "\n",
    "# 2. 데이터 전처리 (0~255 사이의 값을 0~1 사이로 정규화)\n",
    "x_train, x_test = x_train / 255.0, x_test / 255.0\n",
    "\n",
    "# 3. 모델 정의 (드롭아웃 적용)\n",
    "model = models.Sequential([\n",
    "    layers.Flatten(input_shape=(28, 28)),       # 입력층 (28x28 이미지를 펼침)\n",
    "    layers.Dense(128, activation='relu'),       # 은닉층 (128개의 뉴런)\n",
    "    layers.Dropout(0.5),                        # 드롭아웃 (50%의 뉴런을 드롭)\n",
    "    layers.Dense(10, activation='softmax')      # 출력층 (10개의 뉴런, 0~9까지의 숫자 분류)\n",
    "])\n",
    "\n",
    "# 4. 모델 컴파일 (손실 함수와 옵티마이저 정의)\n",
    "model.compile(optimizer='adam',\n",
    "              loss='sparse_categorical_crossentropy',\n",
    "              metrics=['accuracy'])\n",
    "\n",
    "# 5. 모델 학습 (5번의 에포크 동안 학습)\n",
    "model.fit(x_train, y_train, epochs=5)\n",
    "\n",
    "# 6. 모델 평가 (테스트 데이터로 모델 성능 평가)\n",
    "test_loss, test_acc = model.evaluate(x_test, y_test)\n",
    "print(f'테스트 정확도: {test_acc}')\n"
   ]
  },
  {
   "cell_type": "markdown",
   "id": "8f3f7b20",
   "metadata": {
    "id": "8f3f7b20"
   },
   "source": [
    "# 배치 정규화(Batch Normalization)"
   ]
  },
  {
   "cell_type": "code",
   "execution_count": null,
   "id": "48383450",
   "metadata": {
    "id": "48383450"
   },
   "outputs": [],
   "source": [
    "# 배치 정규화(Batch Normalization)**는 신경망 학습 시 각 배치마다 입력값의 분포를 정규화해 학습을 안정시키고,\n",
    "# 더 높은 학습률을 사용할 수 있도록 도와주는 기법입니다."
   ]
  },
  {
   "cell_type": "code",
   "execution_count": null,
   "id": "a32de6a4",
   "metadata": {
    "id": "a32de6a4"
   },
   "outputs": [],
   "source": [
    "# 배치 정규화의 이점:\n",
    "# 학습 안정화: 배치 정규화는 각 미니 배치의 입력 데이터를 정규화하여, 학습을 더 안정적으로 만듭니다.\n",
    "# 과적합 방지: 배치 정규화는 일종의 규제 역할을 하여 모델이 과적합되는 것을 방지할 수 있습니다.\n",
    "# 더 큰 학습률 사용 가능: 배치 정규화를 통해 더 높은 학습률을 사용할 수 있어, 학습 속도가 빨라질 수 있습니다."
   ]
  },
  {
   "cell_type": "code",
   "execution_count": null,
   "id": "07f94f53",
   "metadata": {
    "id": "07f94f53"
   },
   "outputs": [],
   "source": [
    "# 코드설명:\n",
    "# 데이터 준비:\n",
    "# MNIST 데이터셋을 로드하고, 각 픽셀 값을 0~1 사이로 정규화합니다.\n",
    "\n",
    "# 모델 정의:\n",
    "# Flatten: 28x28 크기의 이미지를 1차원 벡터로 변환합니다.\n",
    "# Dense(128, activation='relu'): 첫 번째 은닉층으로 128개의 뉴런을 사용하고, 활성화 함수로 ReLU를 사용합니다.\n",
    "# BatchNormalization(): 첫 번째 은닉층에 대해 배치 정규화를 적용합니다. 이는 각 배치마다 데이터를 평균 0, 분산 1로 정규화하여 학습을 안정화시킵니다.\n",
    "# Dense(64, activation='relu'): 두 번째 은닉층으로 64개의 뉴런을 사용합니다.\n",
    "# BatchNormalization(): 두 번째 은닉층에도 배치 정규화를 적용합니다.\n",
    "# Dense(10, activation='softmax'): 10개의 뉴런을 가진 출력층을 정의하고, softmax 활성화 함수를 사용하여 다중 클래스 분류를 수행합니다.\n",
    "\n",
    "# 모델 컴파일:\n",
    "# Adam 옵티마이저와 sparse_categorical_crossentropy 손실 함수를 사용해 모델을 컴파일합니다.\n",
    "\n",
    "# 모델 학습:\n",
    "# 훈련 데이터로 5번의 에포크 동안 모델을 학습시킵니다.\n",
    "\n",
    "# 모델 평가:\n",
    "# 테스트 데이터로 모델 성능을 평가하고 정확도를 출력합니다."
   ]
  },
  {
   "cell_type": "code",
   "execution_count": null,
   "id": "c1ce16de",
   "metadata": {
    "id": "c1ce16de"
   },
   "outputs": [],
   "source": [
    "import tensorflow as tf\n",
    "from tensorflow.keras import layers, models\n",
    "\n",
    "# 1. 데이터 준비 (MNIST 손글씨 숫자 데이터셋)\n",
    "mnist = tf.keras.datasets.mnist\n",
    "(x_train, y_train), (x_test, y_test) = mnist.load_data()\n",
    "\n",
    "# 2. 데이터 전처리 (0~255 사이의 값을 0~1 사이로 정규화)\n",
    "x_train, x_test = x_train / 255.0, x_test / 255.0\n",
    "\n",
    "# 3. 모델 정의 (배치 정규화 적용)\n",
    "model = models.Sequential([\n",
    "    layers.Flatten(input_shape=(28, 28)),       # 입력층 (28x28 이미지를 펼침)\n",
    "    layers.Dense(128, activation='relu'),       # 은닉층 (128개의 뉴런)\n",
    "    layers.BatchNormalization(),               # 배치 정규화 적용\n",
    "    layers.Dense(64, activation='relu'),        # 두 번째 은닉층\n",
    "    layers.BatchNormalization(),               # 두 번째 배치 정규화 적용\n",
    "    layers.Dense(10, activation='softmax')      # 출력층 (10개의 뉴런, 0~9까지의 숫자 분류)\n",
    "])\n",
    "\n",
    "# 4. 모델 컴파일 (손실 함수와 옵티마이저 정의)\n",
    "model.compile(optimizer='adam',\n",
    "              loss='sparse_categorical_crossentropy',\n",
    "              metrics=['accuracy'])\n",
    "\n",
    "# 5. 모델 학습 (5번의 에포크 동안 학습)\n",
    "model.fit(x_train, y_train, epochs=5)\n",
    "\n",
    "# 6. 모델 평가 (테스트 데이터로 모델 성능 평가)\n",
    "test_loss, test_acc = model.evaluate(x_test, y_test)\n",
    "print(f'테스트 정확도: {test_acc}')\n"
   ]
  },
  {
   "cell_type": "code",
   "execution_count": null,
   "id": "95aa20dd",
   "metadata": {
    "id": "95aa20dd"
   },
   "outputs": [],
   "source": []
  },
  {
   "cell_type": "markdown",
   "id": "596b6eda",
   "metadata": {
    "id": "596b6eda"
   },
   "source": [
    "# PyTorch 사례"
   ]
  },
  {
   "cell_type": "code",
   "execution_count": null,
   "id": "ccc4df4e",
   "metadata": {
    "id": "ccc4df4e"
   },
   "outputs": [],
   "source": [
    "# PyTorch는 **Facebook AI Research(FAIR)**에서 개발한 오픈 소스 딥러닝 라이브러리로, 주로 딥러닝 연구와 개발에 사용됩니다. PyTorch는 특히 자연어 처리(NLP), 컴퓨터 비전, 강화 학습 등의 다양한 딥러닝 분야에서 널리 사용되고 있습니다. TensorFlow와 함께 가장 인기 있는 딥러닝 프레임워크 중 하나입니다.\n",
    "\n",
    "# PyTorch의 주요 특징\n",
    "# 동적 계산 그래프(Autograd):\n",
    "\n",
    "# PyTorch는 동적 계산 그래프를 지원하는데, 이는 그래프를 실시간으로 정의하고 변경할 수 있는 기능을 의미합니다. 즉, 모델이 실행되는 동안 계산 그래프가 생성되며, 복잡한 계산이 실시간으로 수행됩니다.\n",
    "# 이 동적 특성 덕분에 디버깅이 쉽고, 유연한 모델 설계가 가능합니다. 모델의 구조를 쉽게 변경하거나 실시간으로 결과를 확인하면서 작업할 수 있습니다.\n",
    "# NumPy와 유사한 텐서(Tensor) 연산:\n",
    "\n",
    "# PyTorch는 Tensor라는 객체를 통해 다차원 배열을 처리합니다. Tensor는 NumPy 배열과 유사하지만, GPU를 통해 병렬 연산을 수행할 수 있다는 차이가 있습니다.\n",
    "# Tensor는 딥러닝 모델의 가중치, 입력, 출력 등으로 사용되며, 이로 인해 PyTorch는 GPU를 활용한 고속 연산을 지원합니다.\n",
    "# GPU 가속 지원:\n",
    "\n",
    "# PyTorch는 GPU를 사용하여 연산 속도를 크게 높일 수 있습니다. 간단하게 tensor.to('cuda') 명령을 통해 GPU에서 텐서 연산을 수행할 수 있습니다.\n",
    "# GPU 지원 덕분에 대용량 데이터셋이나 복잡한 신경망 모델을 학습할 때 훨씬 더 빠르게 처리할 수 있습니다.\n",
    "# 모듈형 설계:\n",
    "\n",
    "# PyTorch는 매우 직관적이고 모듈형으로 설계되어 있어, 복잡한 신경망 구조도 쉽게 정의할 수 있습니다. 모델을 구성하는 레이어, 손실 함수, 옵티마이저 등을 모두 모듈 단위로 구성할 수 있습니다.\n",
    "# 또한, PyTorch의 torch.nn.Module 클래스를 상속받아 커스텀 신경망을 직접 설계할 수 있습니다.\n",
    "# 풍부한 라이브러리와 생태계:\n",
    "\n",
    "# PyTorch는 연구와 상용 개발 모두에 적합한 다양한 도구들을 제공합니다. torchvision, torchaudio, torchtext 등은 컴퓨터 비전, 오디오 처리, 자연어 처리에 사용되는 데이터셋과 모델을 손쉽게 다룰 수 있는 라이브러리입니다.\n",
    "# 또한, PyTorch Lightning, fast.ai와 같은 고수준 API도 있어 빠르게 프로토타입을 만들고 학습을 진행할 수 있습니다."
   ]
  },
  {
   "cell_type": "code",
   "execution_count": null,
   "id": "f82a9aa8",
   "metadata": {
    "id": "f82a9aa8"
   },
   "outputs": [],
   "source": [
    "# torchvision 설치"
   ]
  },
  {
   "cell_type": "code",
   "execution_count": null,
   "id": "728a0e9c",
   "metadata": {
    "id": "728a0e9c"
   },
   "outputs": [],
   "source": [
    "pip install torchvision"
   ]
  },
  {
   "cell_type": "code",
   "execution_count": null,
   "id": "c0c43a28",
   "metadata": {
    "id": "c0c43a28"
   },
   "outputs": [],
   "source": [
    "# 해결 방법\n",
    "# 1. PyTorch 및 torchvision 최신 버전 재설치\n",
    "# 해당 오류는 PyTorch 및 torchvision의 버전 불일치나 손상된 설치로 인해 발생할 수 있습니다.\n",
    "# 먼저 PyTorch 및 torchvision을 최신 버전으로 재설치하세요."
   ]
  },
  {
   "cell_type": "code",
   "execution_count": null,
   "id": "cb34af6e",
   "metadata": {
    "id": "cb34af6e"
   },
   "outputs": [],
   "source": [
    "# PyTorch 및 관련 라이브러리 제거"
   ]
  },
  {
   "cell_type": "code",
   "execution_count": null,
   "id": "a243b49f",
   "metadata": {
    "id": "a243b49f"
   },
   "outputs": [],
   "source": [
    "pip uninstall torch torchvision torchaudio"
   ]
  },
  {
   "cell_type": "code",
   "execution_count": null,
   "id": "75e62b46",
   "metadata": {
    "id": "75e62b46"
   },
   "outputs": [],
   "source": [
    "# PyTorch 및 torchvision 재설치"
   ]
  },
  {
   "cell_type": "code",
   "execution_count": null,
   "id": "1c555a2e",
   "metadata": {
    "id": "1c555a2e"
   },
   "outputs": [],
   "source": [
    "pip install torch torchvision torchaudio --index-url https://download.pytorch.org/whl/cpu\n"
   ]
  },
  {
   "cell_type": "code",
   "execution_count": null,
   "id": "3328e5ed",
   "metadata": {
    "id": "3328e5ed"
   },
   "outputs": [],
   "source": [
    "import torch\n",
    "import torch.nn as nn\n",
    "import torch.optim as optim\n",
    "from torchvision import datasets, transforms\n",
    "from torch.utils.data import DataLoader"
   ]
  },
  {
   "cell_type": "code",
   "execution_count": null,
   "id": "23b86a26",
   "metadata": {
    "id": "23b86a26"
   },
   "outputs": [],
   "source": [
    "# 데이터 준비"
   ]
  },
  {
   "cell_type": "code",
   "execution_count": null,
   "id": "969de40c",
   "metadata": {
    "id": "969de40c"
   },
   "outputs": [],
   "source": [
    "import torch\n",
    "import torch.nn as nn\n",
    "import torch.optim as optim\n",
    "from torch.utils.data import DataLoader\n",
    "from torchvision import datasets, transforms\n",
    "\n",
    "# 데이터 준비\n",
    "transform = transforms.Compose([transforms.ToTensor(), transforms.Normalize((0.5,), (0.5,))])\n",
    "train_dataset = datasets.MNIST(root='./data', train=True, download=True, transform=transform)\n",
    "train_loader = DataLoader(dataset=train_dataset, batch_size=64, shuffle=True)\n",
    "\n",
    "# MLP 모델 정의\n",
    "class MLP(nn.Module):\n",
    "    def __init__(self):\n",
    "        super(MLP, self).__init__()\n",
    "        self.fc1 = nn.Linear(28 * 28, 128)\n",
    "        self.fc2 = nn.Linear(128, 10)\n",
    "\n",
    "    def forward(self, x):\n",
    "        x = x.view(-1, 28 * 28)  # Flatten\n",
    "        x = torch.relu(self.fc1(x))\n",
    "        x = self.fc2(x)\n",
    "        return torch.log_softmax(x, dim=1)\n",
    "\n",
    "# 모델 학습 및 평가\n",
    "model = MLP()\n",
    "criterion = nn.NLLLoss()\n",
    "optimizer = optim.Adam(model.parameters(), lr=0.001)\n",
    "\n",
    "for epoch in range(5):\n",
    "    for data, target in train_loader:\n",
    "        optimizer.zero_grad()\n",
    "        output = model(data)\n",
    "        loss = criterion(output, target)\n",
    "        loss.backward()\n",
    "        optimizer.step()\n",
    "\n",
    "print(\"Training complete\")\n"
   ]
  },
  {
   "cell_type": "code",
   "execution_count": null,
   "id": "6db41864",
   "metadata": {
    "id": "6db41864"
   },
   "outputs": [],
   "source": [
    "# 데이터 전처리:\n",
    "# transforms.ToTensor()는 이미지를 PyTorch 텐서로 변환합니다.\n",
    "# transforms.Normalize((0.5,), (0.5,))는 각 픽셀 값을 -1에서 1 사이로 정규화합니다.\n",
    "# 데이터셋 로드:\n",
    "# datasets.MNIST()를 통해 MNIST 데이터셋을 다운로드하고 로드합니다. train=True는 훈련 데이터를, train=False는 테스트 데이터를 가져옵니다.\n",
    "# DataLoader:\n",
    "# DataLoader는 데이터를 미니 배치로 나누고, 모델 학습 시 사용할 수 있도록 제공합니다. batch_size=64는 훈련 시 64개의 샘플을 한 번에 처리하고, 테스트 시에는 1000개의 샘플을 처리합니다."
   ]
  },
  {
   "cell_type": "code",
   "execution_count": null,
   "id": "4f6db1d9",
   "metadata": {
    "id": "4f6db1d9"
   },
   "outputs": [],
   "source": [
    "transform = transforms.Compose([transforms.ToTensor(), transforms.Normalize((0.5,), (0.5,))])\n",
    "train_dataset = datasets.MNIST(root='./data', train=True, download=True, transform=transform)\n",
    "test_dataset = datasets.MNIST(root='./data', train=False, download=True, transform=transform)\n",
    "train_loader = DataLoader(dataset=train_dataset, batch_size=64, shuffle=True)\n",
    "test_loader = DataLoader(dataset=test_dataset, batch_size=1000, shuffle=False)\n"
   ]
  },
  {
   "cell_type": "code",
   "execution_count": null,
   "id": "dd72e76b",
   "metadata": {
    "id": "dd72e76b"
   },
   "outputs": [],
   "source": [
    "# 2.MLP(다층 퍼셉트론) 모델:"
   ]
  },
  {
   "cell_type": "code",
   "execution_count": null,
   "id": "eb3500a2",
   "metadata": {
    "id": "eb3500a2"
   },
   "outputs": [],
   "source": [
    "\n",
    "# 입력층: MNIST 데이터셋의 각 이미지는 28x28 픽셀 크기이므로, 이를 28 * 28로 펼쳐서 784개의 입력 노드를 가진 벡터로 변환합니다.\n",
    "# 은닉층: 은닉층은 128개의 노드로 구성되며, 활성화 함수로 ReLU(Rectified Linear Unit)를 사용합니다.\n",
    "# 출력층: 10개의 출력 노드로 구성되어 있으며, 이는 0부터 9까지의 숫자에 해당하는 클래스를 나타냅니다. log_softmax 함수를 사용하여 출력값을 확률 분포로 변환합니다."
   ]
  },
  {
   "cell_type": "code",
   "execution_count": null,
   "id": "b00d7d98",
   "metadata": {
    "id": "b00d7d98"
   },
   "outputs": [],
   "source": [
    "class MLP(nn.Module):\n",
    "    def __init__(self):\n",
    "        super(MLP, self).__init__()\n",
    "        self.fc1 = nn.Linear(28 * 28, 128)\n",
    "        self.fc2 = nn.Linear(128, 10)\n",
    "\n",
    "    def forward(self, x):\n",
    "        x = x.view(-1, 28 * 28)  # Flatten\n",
    "        x = torch.relu(self.fc1(x))\n",
    "        x = self.fc2(x)\n",
    "        return torch.log_softmax(x, dim=1)\n"
   ]
  },
  {
   "cell_type": "code",
   "execution_count": null,
   "id": "4e04760e",
   "metadata": {
    "id": "4e04760e"
   },
   "outputs": [],
   "source": []
  },
  {
   "cell_type": "code",
   "execution_count": null,
   "id": "84146fdb",
   "metadata": {
    "id": "84146fdb"
   },
   "outputs": [],
   "source": [
    "# 3.손실 함수와 최적화 설정"
   ]
  },
  {
   "cell_type": "code",
   "execution_count": null,
   "id": "3bf1b8ed",
   "metadata": {
    "id": "3bf1b8ed"
   },
   "outputs": [],
   "source": [
    "# 손실 함수:\n",
    "# nn.NLLLoss()는 음의 로그 가능도 손실 함수로, log_softmax와 함께 사용됩니다. 이 함수는 분류 문제에서 자주 사용됩니다.\n",
    "# 최적화 기법:\n",
    "# Adam 옵티마이저를 사용하여 모델의 파라미터를 업데이트합니다. 학습률은 lr=0.001로 설정됩니다."
   ]
  },
  {
   "cell_type": "code",
   "execution_count": null,
   "id": "f02914a4",
   "metadata": {
    "id": "f02914a4"
   },
   "outputs": [],
   "source": [
    "criterion = nn.NLLLoss()\n",
    "optimizer = optim.Adam(model.parameters(), lr=0.001)\n"
   ]
  },
  {
   "cell_type": "code",
   "execution_count": null,
   "id": "1938c540",
   "metadata": {
    "id": "1938c540"
   },
   "outputs": [],
   "source": [
    "# 4. 학습 과정"
   ]
  },
  {
   "cell_type": "code",
   "execution_count": null,
   "id": "429c6c48",
   "metadata": {
    "id": "429c6c48"
   },
   "outputs": [],
   "source": [
    "# 학습 함수:\n",
    "# model.train()은 모델을 학습 모드로 설정합니다.\n",
    "# 각 배치에 대해, optimizer.zero_grad()로 이전 배치의 그라디언트를 초기화하고, 모델의 예측값(output)과 실제값(target) 간의 손실을 계산합니다.\n",
    "# 그라디언트(loss.backward())를 통해 모델의 파라미터를 업데이트합니다."
   ]
  },
  {
   "cell_type": "code",
   "execution_count": null,
   "id": "35c4f9c7",
   "metadata": {
    "id": "35c4f9c7"
   },
   "outputs": [],
   "source": [
    "def train(model, train_loader, optimizer, criterion):\n",
    "    model.train()\n",
    "    for batch_idx, (data, target) in enumerate(train_loader):\n",
    "        optimizer.zero_grad()\n",
    "        output = model(data)\n",
    "        loss = criterion(output, target)\n",
    "        loss.backward()\n",
    "        optimizer.step()\n"
   ]
  },
  {
   "cell_type": "code",
   "execution_count": null,
   "id": "2076caa7",
   "metadata": {
    "id": "2076caa7"
   },
   "outputs": [],
   "source": [
    "# 5. 모델 평가 과정"
   ]
  },
  {
   "cell_type": "code",
   "execution_count": null,
   "id": "f4dd7076",
   "metadata": {
    "id": "f4dd7076"
   },
   "outputs": [],
   "source": [
    "# 평가 함수:\n",
    "# model.eval()은 평가 모드로 설정하며, torch.no_grad()는 평가 중에 그라디언트를 계산하지 않도록 설정하여 메모리와 계산 시간을 절약합니다.\n",
    "# 예측된 값(pred)과 실제 값(target)을 비교하여 정확도를 계산합니다."
   ]
  },
  {
   "cell_type": "code",
   "execution_count": null,
   "id": "dd13ff6c",
   "metadata": {
    "id": "dd13ff6c"
   },
   "outputs": [],
   "source": [
    "def test(model, test_loader):\n",
    "    model.eval()\n",
    "    correct = 0\n",
    "    with torch.no_grad():\n",
    "        for data, target in test_loader:\n",
    "            output = model(data)\n",
    "            pred = output.argmax(dim=1, keepdim=True)\n",
    "            correct += pred.eq(target.view_as(pred)).sum().item()\n",
    "    print(f'Test Accuracy: {correct / len(test_loader.dataset)}')\n"
   ]
  },
  {
   "cell_type": "code",
   "execution_count": null,
   "id": "9a108e8c",
   "metadata": {
    "id": "9a108e8c"
   },
   "outputs": [],
   "source": [
    "# 학습 및 평가"
   ]
  },
  {
   "cell_type": "code",
   "execution_count": null,
   "id": "77307fd2",
   "metadata": {
    "id": "77307fd2"
   },
   "outputs": [],
   "source": [
    "for epoch in range(1, 6):\n",
    "    train(model, train_loader, optimizer, criterion)\n",
    "    test(model, test_loader)\n"
   ]
  },
  {
   "cell_type": "code",
   "execution_count": null,
   "id": "870f559d",
   "metadata": {
    "id": "870f559d"
   },
   "outputs": [],
   "source": []
  }
 ],
 "metadata": {
  "accelerator": "GPU",
  "colab": {
   "gpuType": "T4",
   "provenance": []
  },
  "kernelspec": {
   "display_name": "Python 3 (ipykernel)",
   "language": "python",
   "name": "python3"
  },
  "language_info": {
   "codemirror_mode": {
    "name": "ipython",
    "version": 3
   },
   "file_extension": ".py",
   "mimetype": "text/x-python",
   "name": "python",
   "nbconvert_exporter": "python",
   "pygments_lexer": "ipython3",
   "version": "3.9.11"
  },
  "toc": {
   "base_numbering": 1,
   "nav_menu": {},
   "number_sections": true,
   "sideBar": true,
   "skip_h1_title": false,
   "title_cell": "Table of Contents",
   "title_sidebar": "Contents",
   "toc_cell": false,
   "toc_position": {},
   "toc_section_display": true,
   "toc_window_display": false
  }
 },
 "nbformat": 4,
 "nbformat_minor": 5
}
