{
 "cells": [
  {
   "cell_type": "markdown",
   "id": "ae5f30f2",
   "metadata": {
    "id": "ae5f30f2"
   },
   "source": [
    "# log"
   ]
  },
  {
   "cell_type": "code",
   "execution_count": null,
   "id": "6e484a60",
   "metadata": {
    "id": "6e484a60"
   },
   "outputs": [],
   "source": [
    "# 파이썬을 사용하여 로그의 기본 수학적 성질을 구현한 코드입니다.\n",
    "# 이 코드는 로그의 정의, 주요 성질(곱셈, 나눗셈, 거듭제곱 법칙)을 보여줍니다."
   ]
  },
  {
   "cell_type": "markdown",
   "id": "be152299",
   "metadata": {
    "id": "be152299"
   },
   "source": [
    "## 로그의 기본 수학적 성질"
   ]
  },
  {
   "cell_type": "code",
   "execution_count": null,
   "id": "54685967",
   "metadata": {
    "id": "54685967"
   },
   "outputs": [],
   "source": [
    "# 코드 설명\n",
    "# 로그 계산 함수:\n",
    "\n",
    "# log_base(b, x) 함수는 주어진 밑 b에 대한 로그값을 계산합니다.\n",
    "# math.log(x, b)를 사용하여 밑 b에 대한 로그값을 구할 수 있습니다.\n",
    "\n",
    "# 곱셈 법칙:\n",
    "# log_b(m * n)은 log_b(m) + log_b(n)과 같다는 성질을 확인할 수 있습니다.\n",
    "\n",
    "# 나눗셈 법칙:\n",
    "# log_b(m / n)은 log_b(m) - log_b(n)과 같다는 성질을 보여줍니다.\n",
    "\n",
    "# 거듭제곱 법칙:\n",
    "# log_b(m^k)은 k * log_b(m)과 같다는 것을 계산으로 확인할 수 있습니다."
   ]
  },
  {
   "cell_type": "code",
   "execution_count": 1,
   "id": "34d76852",
   "metadata": {
    "colab": {
     "base_uri": "https://localhost:8080/"
    },
    "executionInfo": {
     "elapsed": 632,
     "status": "ok",
     "timestamp": 1729834723260,
     "user": {
      "displayName": "전윤범",
      "userId": "16579588953913211126"
     },
     "user_tz": -540
    },
    "id": "34d76852",
    "outputId": "d41f0e36-d908-496f-e83a-d6cdcf6c5223"
   },
   "outputs": [
    {
     "name": "stdout",
     "output_type": "stream",
     "text": [
      "log_2(8) = 3.0\n",
      "log_2(4) = 2.0\n",
      "log_2(8 * 4) = 5.0\n",
      "log_2(8) + log_2(4) = 5.0\n",
      "log_2(8 / 4) = 1.0\n",
      "log_2(8) - log_2(4) = 1.0\n",
      "log_2(8^3) = 9.0\n",
      "3 * log_2(8) = 9.0\n"
     ]
    }
   ],
   "source": [
    "import math\n",
    "\n",
    "# 로그 계산 함수 정의\n",
    "def log_base(b, x):\n",
    "    return math.log(x, b)\n",
    "\n",
    "# 기본 로그 예시 (밑이 2인 로그)\n",
    "b = 2\n",
    "m = 8\n",
    "n = 4\n",
    "k = 3\n",
    "\n",
    "# 로그 기본 정의\n",
    "log_m = log_base(b, m)\n",
    "log_n = log_base(b, n)\n",
    "\n",
    "print(f\"log_{b}({m}) = {log_m}\")\n",
    "print(f\"log_{b}({n}) = {log_n}\")\n",
    "\n",
    "# 곱셈 법칙: log_b(m * n) = log_b(m) + log_b(n)\n",
    "log_mn = log_base(b, m * n)\n",
    "log_m_plus_log_n = log_m + log_n\n",
    "print(f\"log_{b}({m} * {n}) = {log_mn}\")\n",
    "print(f\"log_{b}({m}) + log_{b}({n}) = {log_m_plus_log_n}\")\n",
    "\n",
    "# 나눗셈 법칙: log_b(m / n) = log_b(m) - log_b(n)\n",
    "log_m_div_n = log_base(b, m / n)\n",
    "log_m_minus_log_n = log_m - log_n\n",
    "print(f\"log_{b}({m} / {n}) = {log_m_div_n}\")\n",
    "print(f\"log_{b}({m}) - log_{b}({n}) = {log_m_minus_log_n}\")\n",
    "\n",
    "# 거듭제곱 법칙: log_b(m^k) = k * log_b(m)\n",
    "log_m_pow_k = log_base(b, m ** k)\n",
    "k_times_log_m = k * log_m\n",
    "print(f\"log_{b}({m}^{k}) = {log_m_pow_k}\")\n",
    "print(f\"{k} * log_{b}({m}) = {k_times_log_m}\")\n"
   ]
  },
  {
   "cell_type": "markdown",
   "id": "382daca6",
   "metadata": {
    "id": "382daca6"
   },
   "source": [
    "## 상용로그와 자연로그"
   ]
  },
  {
   "cell_type": "code",
   "execution_count": null,
   "id": "65fc656a",
   "metadata": {
    "id": "65fc656a"
   },
   "outputs": [],
   "source": [
    "# 상용로그 (Common Logarithm): 밑이 10인 로그를 의미하며, log10 함수로 계산할 수 있습니다.\n",
    "# 자연로그 (Natural Logarithm): 밑이 e(자연 상수, 약 2.718)를 사용하는 로그로, log 함수로 계산합니다."
   ]
  },
  {
   "cell_type": "code",
   "execution_count": null,
   "id": "a3e5ade2",
   "metadata": {
    "id": "a3e5ade2"
   },
   "outputs": [],
   "source": [
    "# 상용로그 계산:\n",
    "# math.log10(x)는 밑 10을 사용하는 상용로그를 계산합니다.\n",
    "# 예를 들어, log10(100)은 2입니다, 왜냐하면\n",
    "\n",
    "# 자연로그 계산:\n",
    "# math.log(x)는 밑 e(자연 상수)를 사용하는 자연로그를 계산합니다.\n",
    "\n",
    "# 다양한 값에 대한 로그 계산:\n",
    "# 값이 1, 10, 20, 50, 100인 경우에 대해 상용로그와 자연로그를 각각 계산하고 출력합니다."
   ]
  },
  {
   "cell_type": "code",
   "execution_count": 2,
   "id": "d32c65bb",
   "metadata": {
    "colab": {
     "base_uri": "https://localhost:8080/"
    },
    "executionInfo": {
     "elapsed": 525,
     "status": "ok",
     "timestamp": 1729834741041,
     "user": {
      "displayName": "전윤범",
      "userId": "16579588953913211126"
     },
     "user_tz": -540
    },
    "id": "d32c65bb",
    "outputId": "37b2c03c-fea7-40d0-c0c3-0bec804e3021"
   },
   "outputs": [
    {
     "name": "stdout",
     "output_type": "stream",
     "text": [
      "log10(100) = 2.0\n",
      "ln(100) = 4.605170185988092\n",
      "\n",
      "값들에 대한 상용로그와 자연로그 계산:\n",
      "값: 1 -> log10(1) = 0.0, ln(1) = 0.0\n",
      "값: 10 -> log10(10) = 1.0, ln(10) = 2.302585092994046\n",
      "값: 20 -> log10(20) = 1.3010299956639813, ln(20) = 2.995732273553991\n",
      "값: 50 -> log10(50) = 1.6989700043360187, ln(50) = 3.912023005428146\n",
      "값: 100 -> log10(100) = 2.0, ln(100) = 4.605170185988092\n"
     ]
    }
   ],
   "source": [
    "import math\n",
    "\n",
    "# 상용로그 (밑이 10)\n",
    "x = 100\n",
    "common_log = math.log10(x)\n",
    "print(f\"log10({x}) = {common_log}\")\n",
    "\n",
    "# 자연로그 (밑이 e)\n",
    "natural_log = math.log(x)  # math.log()는 기본적으로 자연로그를 계산\n",
    "print(f\"ln({x}) = {natural_log}\")\n",
    "\n",
    "# 다양한 입력값에 대한 상용로그와 자연로그 계산\n",
    "values = [1, 10, 20, 50, 100]\n",
    "\n",
    "print(\"\\n값들에 대한 상용로그와 자연로그 계산:\")\n",
    "for val in values:\n",
    "    common_log = math.log10(val)\n",
    "    natural_log = math.log(val)\n",
    "    print(f\"값: {val} -> log10({val}) = {common_log}, ln({val}) = {natural_log}\")\n"
   ]
  },
  {
   "cell_type": "code",
   "execution_count": null,
   "id": "7c68cde9",
   "metadata": {
    "id": "7c68cde9"
   },
   "outputs": [],
   "source": [
    "# f는 파이썬의 f-string(formatted string) 기능을 나타냅니다.\n",
    "# f-string은 문자열 내에 변수를 쉽게 삽입할 수 있는 파이썬의 문자열 포매팅 방법 중 하나로, 파이썬 3.6부터 도입되었습니다.\n",
    "\n",
    "# f-string의 사용법\n",
    "# 문자열 앞에 f를 붙이고, 중괄호 {} 안에 변수를 넣으면, 해당 변수의 값이 문자열에 삽입됩니다.\n",
    "# 중괄호 {} 안에는 변수뿐만 아니라, 표현식(예: 수식 계산)도 삽입할 수 있습니다."
   ]
  },
  {
   "cell_type": "code",
   "execution_count": 3,
   "id": "04ab36af",
   "metadata": {
    "colab": {
     "base_uri": "https://localhost:8080/"
    },
    "executionInfo": {
     "elapsed": 534,
     "status": "ok",
     "timestamp": 1729834746261,
     "user": {
      "displayName": "전윤범",
      "userId": "16579588953913211126"
     },
     "user_tz": -540
    },
    "id": "04ab36af",
    "outputId": "92ff0cc4-aa8f-4638-85ec-630357111a55"
   },
   "outputs": [
    {
     "name": "stdout",
     "output_type": "stream",
     "text": [
      "log10(100) = 2.0\n"
     ]
    }
   ],
   "source": [
    "x = 100\n",
    "common_log = 2.0\n",
    "\n",
    "# f-string 사용 예시\n",
    "print(f\"log10({x}) = {common_log}\")\n"
   ]
  },
  {
   "cell_type": "code",
   "execution_count": null,
   "id": "0e70a18e",
   "metadata": {
    "id": "0e70a18e"
   },
   "outputs": [],
   "source": [
    "# f-string의 장점\n",
    "# 가독성:\n",
    "\n",
    "# f-string을 사용하면 문자열 안에 변수를 바로 삽입할 수 있기 때문에 코드가 더 간결하고 읽기 쉬워집니다.\n",
    "# 표현식 사용 가능:\n",
    "\n",
    "# 중괄호 {} 안에 간단한 표현식을 넣어 계산 결과를 출력할 수 있습니다."
   ]
  },
  {
   "cell_type": "markdown",
   "id": "b54928dc",
   "metadata": {
    "id": "b54928dc"
   },
   "source": [
    "# 삼각함수"
   ]
  },
  {
   "cell_type": "code",
   "execution_count": null,
   "id": "fe7eb45f",
   "metadata": {
    "id": "fe7eb45f"
   },
   "outputs": [],
   "source": [
    "# numpy 라이브러리를 사용\n",
    "# 사인(sin), 코사인(cos), 탄젠트(tan) 함수를 계산\n",
    "# 이를 그래프로 시각화."
   ]
  },
  {
   "cell_type": "markdown",
   "id": "a1d36fc3",
   "metadata": {
    "id": "a1d36fc3"
   },
   "source": [
    "## 라이브러리"
   ]
  },
  {
   "cell_type": "code",
   "execution_count": 4,
   "id": "0856bc00",
   "metadata": {
    "executionInfo": {
     "elapsed": 513,
     "status": "ok",
     "timestamp": 1729834751658,
     "user": {
      "displayName": "전윤범",
      "userId": "16579588953913211126"
     },
     "user_tz": -540
    },
    "id": "0856bc00"
   },
   "outputs": [],
   "source": [
    "import numpy as np\n",
    "import matplotlib.pyplot as plt"
   ]
  },
  {
   "cell_type": "markdown",
   "id": "c62b1dcc",
   "metadata": {
    "id": "c62b1dcc"
   },
   "source": [
    "## X축 범위 설정"
   ]
  },
  {
   "cell_type": "code",
   "execution_count": null,
   "id": "8e656f82",
   "metadata": {
    "id": "8e656f82"
   },
   "outputs": [],
   "source": [
    "# 코드 설명:\n",
    "# np.linspace(-2 * np.pi, 2 * np.pi, 1000):−2𝜋에서 2π까지 1000개의 점을 생성하여 X축 범위를 설정합니다.\n",
    "#     삼각함수는 주기적이므로 여러 주기를 그릴 수 있도록 −2𝜋에서 2π까지 범위를 설정했습니다."
   ]
  },
  {
   "cell_type": "code",
   "execution_count": 5,
   "id": "c40b8223",
   "metadata": {
    "executionInfo": {
     "elapsed": 574,
     "status": "ok",
     "timestamp": 1729834757829,
     "user": {
      "displayName": "전윤범",
      "userId": "16579588953913211126"
     },
     "user_tz": -540
    },
    "id": "c40b8223"
   },
   "outputs": [],
   "source": [
    "# X축 범위 설정: -2π에서 2π까지\n",
    "x = np.linspace(-2 * np.pi, 2 * np.pi, 1000)"
   ]
  },
  {
   "cell_type": "markdown",
   "id": "4d244d40",
   "metadata": {
    "id": "4d244d40"
   },
   "source": [
    "## 삼각함수 계산"
   ]
  },
  {
   "cell_type": "code",
   "execution_count": 6,
   "id": "7545dc01",
   "metadata": {
    "executionInfo": {
     "elapsed": 561,
     "status": "ok",
     "timestamp": 1729834760266,
     "user": {
      "displayName": "전윤범",
      "userId": "16579588953913211126"
     },
     "user_tz": -540
    },
    "id": "7545dc01"
   },
   "outputs": [],
   "source": [
    "# np.sin(x), np.cos(x), np.tan(x):\n",
    "# 각각 사인, 코사인, 탄젠트 함수를 계산하는 numpy 함수입니다."
   ]
  },
  {
   "cell_type": "code",
   "execution_count": 7,
   "id": "4e6ddc66",
   "metadata": {
    "executionInfo": {
     "elapsed": 490,
     "status": "ok",
     "timestamp": 1729834762698,
     "user": {
      "displayName": "전윤범",
      "userId": "16579588953913211126"
     },
     "user_tz": -540
    },
    "id": "4e6ddc66"
   },
   "outputs": [],
   "source": [
    "# 삼각함수 계산\n",
    "y_sin = np.sin(x)  # 사인 함수\n",
    "y_cos = np.cos(x)  # 코사인 함수\n",
    "y_tan = np.tan(x)  # 탄젠트 함수\n"
   ]
  },
  {
   "cell_type": "markdown",
   "id": "2280ba67",
   "metadata": {
    "id": "2280ba67"
   },
   "source": [
    "## 시각화"
   ]
  },
  {
   "cell_type": "code",
   "execution_count": 8,
   "id": "00675859",
   "metadata": {
    "executionInfo": {
     "elapsed": 592,
     "status": "ok",
     "timestamp": 1729834767566,
     "user": {
      "displayName": "전윤범",
      "userId": "16579588953913211126"
     },
     "user_tz": -540
    },
    "id": "00675859"
   },
   "outputs": [],
   "source": [
    "# plt.plot():\n",
    "# 각 함수의 그래프를 그리며, 사인 함수는 파란색, 코사인 함수는 녹색, 탄젠트 함수는 빨간색으로 설정했습니다.\n",
    "# plt.subplot():\n",
    "\n",
    "# 여러 그래프를 하나의 창에 그리기 위해 subplot을 사용했습니다.\n",
    "# plt.ylim(-10, 10):\n",
    "# 탄젠트 함수는 특정 지점에서 값이 급격히 발산하기 때문에 Y축 범위를 −10에서 10으로 제한했습니다."
   ]
  },
  {
   "cell_type": "code",
   "execution_count": 9,
   "id": "cd94ae3b",
   "metadata": {
    "colab": {
     "base_uri": "https://localhost:8080/",
     "height": 607
    },
    "executionInfo": {
     "elapsed": 1620,
     "status": "ok",
     "timestamp": 1729834779542,
     "user": {
      "displayName": "전윤범",
      "userId": "16579588953913211126"
     },
     "user_tz": -540
    },
    "id": "cd94ae3b",
    "outputId": "822e2266-a034-44c3-e7ca-b6fd89aa2ae4"
   },
   "outputs": [
    {
     "data": {
      "image/png": "[encoded data removed]",
      "text/plain": [
       "<Figure size 1000x600 with 3 Axes>"
      ]
     },
     "metadata": {},
     "output_type": "display_data"
    }
   ],
   "source": [
    "# 시각화: 사인, 코사인, 탄젠트 함수 그래프 그리기\n",
    "plt.figure(figsize=(10, 6))\n",
    "\n",
    "# 사인 함수 그래프\n",
    "plt.subplot(3, 1, 1)\n",
    "plt.plot(x, y_sin, label='sin(x)', color='blue')\n",
    "plt.title('Sine Function (sin(x))')\n",
    "plt.axhline(0, color='black',linewidth=0.5)\n",
    "plt.axvline(0, color='black',linewidth=0.5)\n",
    "plt.grid(True)\n",
    "\n",
    "# 코사인 함수 그래프\n",
    "plt.subplot(3, 1, 2)\n",
    "plt.plot(x, y_cos, label='cos(x)', color='green')\n",
    "plt.title('Cosine Function (cos(x))')\n",
    "plt.axhline(0, color='black',linewidth=0.5)\n",
    "plt.axvline(0, color='black',linewidth=0.5)\n",
    "plt.grid(True)\n",
    "\n",
    "# 탄젠트 함수 그래프\n",
    "plt.subplot(3, 1, 3)\n",
    "plt.plot(x, y_tan, label='tan(x)', color='red')\n",
    "plt.ylim(-10, 10)  # 탄젠트 함수는 발산하므로 제한\n",
    "plt.title('Tangent Function (tan(x))')\n",
    "plt.axhline(0, color='black',linewidth=0.5)\n",
    "plt.axvline(0, color='black',linewidth=0.5)\n",
    "plt.grid(True)\n",
    "\n",
    "plt.tight_layout()\n",
    "plt.show()\n"
   ]
  },
  {
   "cell_type": "code",
   "execution_count": null,
   "id": "64d6fa0f",
   "metadata": {
    "id": "64d6fa0f"
   },
   "outputs": [],
   "source": []
  },
  {
   "cell_type": "markdown",
   "id": "a40fb04a",
   "metadata": {
    "id": "a40fb04a"
   },
   "source": [
    "## 코드 종합"
   ]
  },
  {
   "cell_type": "code",
   "execution_count": 10,
   "id": "07f8b652",
   "metadata": {
    "colab": {
     "base_uri": "https://localhost:8080/",
     "height": 607
    },
    "executionInfo": {
     "elapsed": 2514,
     "status": "ok",
     "timestamp": 1729834786658,
     "user": {
      "displayName": "전윤범",
      "userId": "16579588953913211126"
     },
     "user_tz": -540
    },
    "id": "07f8b652",
    "outputId": "c026a03e-f360-441b-b092-8ffe1162bf62"
   },
   "outputs": [
    {
     "data": {
      "image/png": "[encoded data removed]",
      "text/plain": [
       "<Figure size 1000x600 with 3 Axes>"
      ]
     },
     "metadata": {},
     "output_type": "display_data"
    }
   ],
   "source": [
    "import numpy as np\n",
    "import matplotlib.pyplot as plt\n",
    "\n",
    "# X축 범위 설정: -2π에서 2π까지\n",
    "x = np.linspace(-2 * np.pi, 2 * np.pi, 1000)\n",
    "\n",
    "# 삼각함수 계산\n",
    "y_sin = np.sin(x)  # 사인 함수\n",
    "y_cos = np.cos(x)  # 코사인 함수\n",
    "y_tan = np.tan(x)  # 탄젠트 함수\n",
    "\n",
    "# 시각화: 사인, 코사인, 탄젠트 함수 그래프 그리기\n",
    "plt.figure(figsize=(10, 6))\n",
    "\n",
    "# 사인 함수 그래프\n",
    "plt.subplot(3, 1, 1)\n",
    "plt.plot(x, y_sin, label='sin(x)', color='blue')\n",
    "plt.title('Sine Function (sin(x))')\n",
    "plt.axhline(0, color='black',linewidth=0.5)\n",
    "plt.axvline(0, color='black',linewidth=0.5)\n",
    "plt.grid(True)\n",
    "\n",
    "# 코사인 함수 그래프\n",
    "plt.subplot(3, 1, 2)\n",
    "plt.plot(x, y_cos, label='cos(x)', color='green')\n",
    "plt.title('Cosine Function (cos(x))')\n",
    "plt.axhline(0, color='black',linewidth=0.5)\n",
    "plt.axvline(0, color='black',linewidth=0.5)\n",
    "plt.grid(True)\n",
    "\n",
    "# 탄젠트 함수 그래프\n",
    "plt.subplot(3, 1, 3)\n",
    "plt.plot(x, y_tan, label='tan(x)', color='red')\n",
    "plt.ylim(-10, 10)  # 탄젠트 함수는 발산하므로 제한\n",
    "plt.title('Tangent Function (tan(x))')\n",
    "plt.axhline(0, color='black',linewidth=0.5)\n",
    "plt.axvline(0, color='black',linewidth=0.5)\n",
    "plt.grid(True)\n",
    "\n",
    "plt.tight_layout()\n",
    "plt.show()\n"
   ]
  },
  {
   "cell_type": "markdown",
   "id": "5e03e432",
   "metadata": {
    "id": "5e03e432"
   },
   "source": [
    "# 벡터"
   ]
  },
  {
   "cell_type": "code",
   "execution_count": null,
   "id": "19cb8d53",
   "metadata": {
    "id": "19cb8d53"
   },
   "outputs": [],
   "source": [
    "# 벡터의 사칙연산(덧셈, 뺄셈, 곱셈, 나눗셈)과 **Norm(벡터의 크기)**을 계산하는 코드입니다.\n",
    "# 이를 위해 NumPy 라이브러리를 사용"
   ]
  },
  {
   "cell_type": "markdown",
   "id": "704d5c9b",
   "metadata": {
    "id": "704d5c9b"
   },
   "source": [
    "## 벡터 사칙연산(벡터 덧셈, 뺄셈, 원소별 곱셈, 나눗셈)"
   ]
  },
  {
   "cell_type": "code",
   "execution_count": null,
   "id": "1ad9ff90",
   "metadata": {
    "id": "1ad9ff90"
   },
   "outputs": [],
   "source": [
    "# 덧셈: 각 벡터의 원소끼리 더해집니다.\n",
    "# 뺄셈: 각 벡터의 원소끼리 빼집니다.\n",
    "# 원소별 곱셈: 각 벡터의 대응하는 원소끼리 곱합니다.\n",
    "# 원소별 나눗셈: 각 벡터의 대응하는 원소끼리 나눕니다"
   ]
  },
  {
   "cell_type": "code",
   "execution_count": 11,
   "id": "f2c2b6a8",
   "metadata": {
    "executionInfo": {
     "elapsed": 662,
     "status": "ok",
     "timestamp": 1729834795637,
     "user": {
      "displayName": "전윤범",
      "userId": "16579588953913211126"
     },
     "user_tz": -540
    },
    "id": "f2c2b6a8"
   },
   "outputs": [],
   "source": [
    "import numpy as np\n",
    "\n",
    "# 두 개의 벡터 정의\n",
    "vector_a = np.array([1, 2, 3])\n",
    "vector_b = np.array([4, 5, 6])"
   ]
  },
  {
   "cell_type": "code",
   "execution_count": 12,
   "id": "745ba86f",
   "metadata": {
    "colab": {
     "base_uri": "https://localhost:8080/"
    },
    "executionInfo": {
     "elapsed": 489,
     "status": "ok",
     "timestamp": 1729834798150,
     "user": {
      "displayName": "전윤범",
      "userId": "16579588953913211126"
     },
     "user_tz": -540
    },
    "id": "745ba86f",
    "outputId": "ceb4e1ae-b321-48fc-e394-c61a4ec5aae2"
   },
   "outputs": [
    {
     "name": "stdout",
     "output_type": "stream",
     "text": [
      "벡터 덧셈: [5 7 9]\n",
      "벡터 뺄셈: [-3 -3 -3]\n",
      "벡터 원소별 곱셈: [ 4 10 18]\n",
      "벡터 원소별 나눗셈: [0.25 0.4  0.5 ]\n"
     ]
    }
   ],
   "source": [
    "# 벡터 덧셈\n",
    "vector_add = vector_a + vector_b\n",
    "print(f\"벡터 덧셈: {vector_add}\")\n",
    "\n",
    "# 벡터 뺄셈\n",
    "vector_sub = vector_a - vector_b\n",
    "print(f\"벡터 뺄셈: {vector_sub}\")\n",
    "\n",
    "# 벡터 원소별 곱셈\n",
    "vector_mul = vector_a * vector_b\n",
    "print(f\"벡터 원소별 곱셈: {vector_mul}\")\n",
    "\n",
    "# 벡터 원소별 나눗셈\n",
    "vector_div = vector_a / vector_b\n",
    "print(f\"벡터 원소별 나눗셈: {vector_div}\")\n"
   ]
  },
  {
   "cell_type": "markdown",
   "id": "46d06a10",
   "metadata": {
    "id": "46d06a10"
   },
   "source": [
    "## 벡터의 내적(Dot Product)"
   ]
  },
  {
   "cell_type": "code",
   "execution_count": null,
   "id": "b4cce472",
   "metadata": {
    "id": "b4cce472"
   },
   "outputs": [],
   "source": [
    "# 벡터 내적(Dot Product) 공식\n",
    "# 두 벡터 𝑎와 𝑏가 있을 때, 벡터 내적은 다음과 같이 계산됩니다:\n",
    "# 𝑎⋅𝑏=𝑎1⋅𝑏1+𝑎2⋅𝑏2+⋯+𝑎𝑛⋅𝑏𝑛\n",
    "# 즉, 각 대응하는 원소들을 곱하고, 그 값을 모두 더한 결과가 내적입니다.\n"
   ]
  },
  {
   "cell_type": "code",
   "execution_count": null,
   "id": "7a7a74e2",
   "metadata": {
    "id": "7a7a74e2"
   },
   "outputs": [],
   "source": [
    "# np.dot(a, b): NumPy에서 제공하는 dot 함수는 두 벡터 또는 행렬의 내적을 계산하는 함수입니다.\n",
    "# 벡터 내적 결과는 두 벡터의 크기와 방향에 따라 하나의 숫자(스칼라)로 나타납니다."
   ]
  },
  {
   "cell_type": "code",
   "execution_count": 13,
   "id": "f83bd34d",
   "metadata": {
    "colab": {
     "base_uri": "https://localhost:8080/"
    },
    "executionInfo": {
     "elapsed": 499,
     "status": "ok",
     "timestamp": 1729834803550,
     "user": {
      "displayName": "전윤범",
      "userId": "16579588953913211126"
     },
     "user_tz": -540
    },
    "id": "f83bd34d",
    "outputId": "49b9b456-721d-4bec-f00e-3e987d8f8cb8"
   },
   "outputs": [
    {
     "name": "stdout",
     "output_type": "stream",
     "text": [
      "벡터 a: [1 2 3]\n",
      "벡터 b: [4 5 6]\n",
      "벡터 a와 b의 내적: 32\n"
     ]
    }
   ],
   "source": [
    "import numpy as np\n",
    "\n",
    "# 두 개의 벡터 정의\n",
    "vector_a = np.array([1, 2, 3])\n",
    "vector_b = np.array([4, 5, 6])\n",
    "\n",
    "# 벡터 내적 계산\n",
    "dot_product = np.dot(vector_a, vector_b)\n",
    "\n",
    "# 결과 출력\n",
    "print(f\"벡터 a: {vector_a}\")\n",
    "print(f\"벡터 b: {vector_b}\")\n",
    "print(f\"벡터 a와 b의 내적: {dot_product}\")\n"
   ]
  },
  {
   "cell_type": "markdown",
   "id": "d06a9594",
   "metadata": {
    "id": "d06a9594"
   },
   "source": [
    "다차원 벡터 예시"
   ]
  },
  {
   "cell_type": "code",
   "execution_count": null,
   "id": "edae2700",
   "metadata": {
    "id": "edae2700"
   },
   "outputs": [],
   "source": [
    "# 만약 벡터가 더 큰 차원을 가진다면, 동일한 방식으로 내적을 계산할 수 있습니다.\n",
    "# 예를 들어, 4차원 벡터에 대해서도 동일하게 작동합니다."
   ]
  },
  {
   "cell_type": "code",
   "execution_count": 14,
   "id": "e7c4306b",
   "metadata": {
    "colab": {
     "base_uri": "https://localhost:8080/"
    },
    "executionInfo": {
     "elapsed": 487,
     "status": "ok",
     "timestamp": 1729834807778,
     "user": {
      "displayName": "전윤범",
      "userId": "16579588953913211126"
     },
     "user_tz": -540
    },
    "id": "e7c4306b",
    "outputId": "1d217d22-7c28-4ea1-b05a-da90ea22acb7"
   },
   "outputs": [
    {
     "name": "stdout",
     "output_type": "stream",
     "text": [
      "벡터 c와 d의 내적: 70\n"
     ]
    }
   ],
   "source": [
    "vector_c = np.array([1, 2, 3, 4])\n",
    "vector_d = np.array([5, 6, 7, 8])\n",
    "\n",
    "dot_product_cd = np.dot(vector_c, vector_d)\n",
    "print(f\"벡터 c와 d의 내적: {dot_product_cd}\")\n"
   ]
  },
  {
   "cell_type": "markdown",
   "id": "c680d120",
   "metadata": {
    "id": "c680d120"
   },
   "source": [
    "## 벡터 Norm (벡터의 크기)"
   ]
  },
  {
   "cell_type": "code",
   "execution_count": null,
   "id": "75766da9",
   "metadata": {
    "id": "75766da9"
   },
   "outputs": [],
   "source": [
    "# 벡터의 Norm(벡터의 크기)는 벡터의 길이를 나타냅니다.\n",
    "# Norm은 여러 종류가 있으며, 가장 일반적인 것은 L2 Norm(유클리드 거리)입니다."
   ]
  },
  {
   "cell_type": "code",
   "execution_count": 15,
   "id": "d01080cb",
   "metadata": {
    "colab": {
     "base_uri": "https://localhost:8080/"
    },
    "executionInfo": {
     "elapsed": 514,
     "status": "ok",
     "timestamp": 1729834811424,
     "user": {
      "displayName": "전윤범",
      "userId": "16579588953913211126"
     },
     "user_tz": -540
    },
    "id": "d01080cb",
    "outputId": "5c9101cd-404b-450d-8936-0e675ea80fad"
   },
   "outputs": [
    {
     "name": "stdout",
     "output_type": "stream",
     "text": [
      "벡터 a의 L2 Norm (유클리드 노름): 3.7416573867739413\n",
      "벡터 a의 L1 Norm (맨하탄 노름): 6.0\n",
      "벡터 a의 무한 Norm (최대 절댓값): 3.0\n"
     ]
    }
   ],
   "source": [
    "# L2 Norm (유클리드 노름)\n",
    "l2_norm = np.linalg.norm(vector_a)\n",
    "print(f\"벡터 a의 L2 Norm (유클리드 노름): {l2_norm}\")\n",
    "\n",
    "# L1 Norm (맨하탄 노름)\n",
    "l1_norm = np.linalg.norm(vector_a, ord=1)\n",
    "print(f\"벡터 a의 L1 Norm (맨하탄 노름): {l1_norm}\")\n",
    "\n",
    "# 무한 Norm (최대 절댓값)\n",
    "inf_norm = np.linalg.norm(vector_a, ord=np.inf)\n",
    "print(f\"벡터 a의 무한 Norm (최대 절댓값): {inf_norm}\")\n"
   ]
  },
  {
   "cell_type": "code",
   "execution_count": null,
   "id": "c569b743",
   "metadata": {
    "id": "c569b743"
   },
   "outputs": [],
   "source": []
  },
  {
   "cell_type": "markdown",
   "id": "2d2d666c",
   "metadata": {
    "id": "2d2d666c"
   },
   "source": [
    "# 행렬"
   ]
  },
  {
   "cell_type": "markdown",
   "id": "ef7fc52a",
   "metadata": {
    "id": "ef7fc52a"
   },
   "source": [
    "## 행렬 덧셈, 뺄셈, 원소별 곱셈, 원소별 나눗셈"
   ]
  },
  {
   "cell_type": "code",
   "execution_count": null,
   "id": "2c822f7b",
   "metadata": {
    "id": "2c822f7b"
   },
   "outputs": [],
   "source": [
    "# 행렬의 사칙연산(덧셈, 뺄셈, 곱셈, 나눗셈)을 구현하기 위해 NumPy 라이브러리를 사용할 수 있습니다"
   ]
  },
  {
   "cell_type": "code",
   "execution_count": null,
   "id": "bdf572bc",
   "metadata": {
    "id": "bdf572bc"
   },
   "outputs": [],
   "source": [
    "# 행렬 덧셈, 뺄셈, 원소별 곱셈, 나눗셈은 각 대응하는 원소끼리 연산이 이루어집니다.\n",
    "# **행렬 곱셈(점곱)**은 수학적으로 정의된 방식으로, 첫 번째 행렬의 행과 두 번째 행렬의 열을 곱하고 더하는 방식으로 계산됩니다."
   ]
  },
  {
   "cell_type": "code",
   "execution_count": null,
   "id": "03a5dd1c",
   "metadata": {
    "id": "03a5dd1c"
   },
   "outputs": [],
   "source": [
    "import numpy as np\n",
    "\n",
    "# 두 개의 행렬 정의\n",
    "matrix_a = np.array([[1, 2, 3], [4, 5, 6]])\n",
    "matrix_b = np.array([[7, 8, 9], [10, 11, 12]])\n",
    "\n",
    "# 행렬 덧셈\n",
    "matrix_add = matrix_a + matrix_b\n",
    "print(f\"행렬 덧셈:\\n{matrix_add}\")\n",
    "\n",
    "# 행렬 뺄셈\n",
    "matrix_sub = matrix_a - matrix_b\n",
    "print(f\"행렬 뺄셈:\\n{matrix_sub}\")\n",
    "\n",
    "# 행렬 원소별 곱셈\n",
    "matrix_mul = matrix_a * matrix_b\n",
    "print(f\"행렬 원소별 곱셈:\\n{matrix_mul}\")\n",
    "\n",
    "# 행렬 원소별 나눗셈\n",
    "matrix_div = matrix_a / matrix_b\n",
    "print(f\"행렬 원소별 나눗셈:\\n{matrix_div}\")\n"
   ]
  },
  {
   "cell_type": "code",
   "execution_count": null,
   "id": "e522bbfa",
   "metadata": {
    "id": "e522bbfa"
   },
   "outputs": [],
   "source": [
    "# 행렬 곱셈 (점곱)\n",
    "matrix_dot = np.dot(matrix_a, matrix_b.T)  # 두 번째 행렬은 전치하여 곱셈 가능\n",
    "print(f\"행렬 점곱 (수학적 곱셈):\\n{matrix_dot}\")\n"
   ]
  },
  {
   "cell_type": "code",
   "execution_count": null,
   "id": "5653e88b",
   "metadata": {
    "id": "5653e88b"
   },
   "outputs": [],
   "source": [
    "# 행렬 곱셈은 첫 번째 행렬의 행과 두 번째 행렬의 열을 곱하고 더해서 계산됩니다.\n",
    "# 여기서는 matrix_b.T로 전치 행렬을 사용하여 곱셈이 가능하도록 했습니다."
   ]
  },
  {
   "cell_type": "markdown",
   "id": "d56417c2",
   "metadata": {
    "id": "d56417c2"
   },
   "source": [
    "## 행렬의 역행렬(inverse matrix)"
   ]
  },
  {
   "cell_type": "code",
   "execution_count": null,
   "id": "8f38363a",
   "metadata": {
    "id": "8f38363a"
   },
   "outputs": [],
   "source": [
    "# 역행렬은 정사각 행렬에 대해서만 존재하며, 행렬 𝐴의 역행렬 𝐴−1 는 다음과 같은 관계를 만족합니다:\n",
    "# 𝐴⋅𝐴−1=𝐼\n"
   ]
  },
  {
   "cell_type": "code",
   "execution_count": null,
   "id": "0f819c89",
   "metadata": {
    "id": "0f819c89"
   },
   "outputs": [],
   "source": [
    "# NumPy에서는 np.linalg.inv() 함수를 사용하여 행렬의 역행렬을 구할 수 있습니다."
   ]
  },
  {
   "cell_type": "code",
   "execution_count": null,
   "id": "3bde8ccb",
   "metadata": {
    "id": "3bde8ccb"
   },
   "outputs": [],
   "source": [
    "import numpy as np\n",
    "\n",
    "# 2x2 정사각 행렬 정의\n",
    "matrix = np.array([[4, 7], [2, 6]])\n",
    "\n",
    "# 행렬의 역행렬 계산\n",
    "inverse_matrix = np.linalg.inv(matrix)\n",
    "\n",
    "# 결과 출력\n",
    "print(\"원본 행렬:\")\n",
    "print(matrix)\n",
    "\n",
    "print(\"\\n역행렬:\")\n",
    "print(inverse_matrix)\n",
    "\n",
    "# 행렬과 역행렬을 곱하여 단위 행렬이 되는지 확인\n",
    "identity_matrix = np.dot(matrix, inverse_matrix)\n",
    "print(\"\\n원본 행렬과 역행렬의 곱:\")\n",
    "print(identity_matrix)\n"
   ]
  },
  {
   "cell_type": "markdown",
   "id": "d5f39bea",
   "metadata": {
    "id": "d5f39bea"
   },
   "source": [
    "## 행렬의 전치(Transpose of a matrix)"
   ]
  },
  {
   "cell_type": "code",
   "execution_count": null,
   "id": "8f8e9c95",
   "metadata": {
    "id": "8f8e9c95"
   },
   "outputs": [],
   "source": [
    "# 행렬의 전치(Transpose of a matrix)를 계산하려면 NumPy 라이브러리를 사용할 수 있습니다.\n",
    "# 전치행렬은 원래 행렬의 행과 열을 서로 바꾸는 연산입니다.\n",
    "\n",
    "# NumPy에서는 np.transpose() 함수나 .T 속성을 사용하여 행렬의 전치를 쉽게 계산할 수 있습니다."
   ]
  },
  {
   "cell_type": "code",
   "execution_count": null,
   "id": "bf6ee12f",
   "metadata": {
    "id": "bf6ee12f"
   },
   "outputs": [],
   "source": [
    "import numpy as np\n",
    "\n",
    "# 원본 행렬 정의\n",
    "matrix = np.array([[1, 2, 3], [4, 5, 6]])\n",
    "\n",
    "# 전치행렬 계산\n",
    "transpose_matrix = np.transpose(matrix)\n",
    "\n",
    "# 결과 출력\n",
    "print(\"원본 행렬:\")\n",
    "print(matrix)\n",
    "\n",
    "print(\"\\n전치 행렬:\")\n",
    "print(transpose_matrix)\n"
   ]
  },
  {
   "cell_type": "code",
   "execution_count": null,
   "id": "96912c4f",
   "metadata": {
    "id": "96912c4f"
   },
   "outputs": [],
   "source": [
    "# 다른 방법으로 전치 계산\n",
    "# NumPy에서는 전치행렬을 계산하는 여러 방법이 있습니다:\n",
    "\n",
    "# np.transpose(matrix):\n",
    "\n",
    "# np.transpose() 함수를 사용하여 전치행렬을 계산합니다.\n",
    "# matrix.T:\n",
    "\n",
    "# NumPy 배열 객체 자체에 포함된 .T 속성을 사용하여 전치행렬을 간단히 얻을 수 있습니다."
   ]
  },
  {
   "cell_type": "code",
   "execution_count": null,
   "id": "297a1e1a",
   "metadata": {
    "id": "297a1e1a"
   },
   "outputs": [],
   "source": [
    "# 전치 행렬 다른 방식\n",
    "transpose_matrix_alt = matrix.T\n",
    "print(\"전치 행렬 (matrix.T):\")\n",
    "print(transpose_matrix_alt)\n"
   ]
  },
  {
   "cell_type": "code",
   "execution_count": null,
   "id": "6a6ad272",
   "metadata": {
    "id": "6a6ad272"
   },
   "outputs": [],
   "source": []
  },
  {
   "cell_type": "markdown",
   "id": "b9aec6b1",
   "metadata": {
    "id": "b9aec6b1"
   },
   "source": [
    "# 미분"
   ]
  },
  {
   "cell_type": "markdown",
   "id": "8e48ed30",
   "metadata": {
    "id": "8e48ed30"
   },
   "source": [
    "## 미분, 편미분, 전미분"
   ]
  },
  {
   "cell_type": "code",
   "execution_count": null,
   "id": "5e1c950a",
   "metadata": {
    "id": "5e1c950a"
   },
   "outputs": [],
   "source": [
    "# SymPy 라이브러리를 사용하면 미분, 편미분, 그리고 전미분을 쉽게 계산할 수 있습니다.\n",
    "\n",
    "# 미분은 주어진 함수의 변화율을 구하고,\n",
    "# 편미분은 다변수 함수에서 특정 변수에 대한 변화율을 구합니다.\n",
    "# 전미분은 여러 변수의 미분을 합친 결과를 나타냅니다."
   ]
  },
  {
   "cell_type": "code",
   "execution_count": null,
   "id": "199a0261",
   "metadata": {
    "id": "199a0261"
   },
   "outputs": [],
   "source": []
  },
  {
   "cell_type": "code",
   "execution_count": null,
   "id": "6897d409",
   "metadata": {
    "id": "6897d409"
   },
   "outputs": [],
   "source": [
    "import sympy as sp\n",
    "\n",
    "# 변수 정의\n",
    "x, y = sp.symbols('x y')\n",
    "\n",
    "# 함수 정의\n",
    "f = x**2 + 3*x + 5\n",
    "\n",
    "# 1. 미분 (f'(x))\n",
    "f_prime = sp.diff(f, x)\n",
    "print(f\"함수 f(x)의 미분: {f_prime}\")\n",
    "\n",
    "# 2. 편미분 (g(x, y) = x^2 * y + 3xy^2 + 5에 대한 x와 y 편미분)\n",
    "g = x**2 * y + 3*x*y**2 + 5\n",
    "\n",
    "# g(x, y)에 대한 x에 대한 편미분\n",
    "g_partial_x = sp.diff(g, x)\n",
    "print(f\"함수 g(x, y)의 x에 대한 편미분: {g_partial_x}\")\n",
    "\n",
    "# g(x, y)에 대한 y에 대한 편미분\n",
    "g_partial_y = sp.diff(g, y)\n",
    "print(f\"함수 g(x, y)의 y에 대한 편미분: {g_partial_y}\")\n",
    "\n",
    "# 3. 전미분 (Total Derivative of f(x, y))\n",
    "# f(x, y) = x^2 + y^2 + 2xy 라는 함수가 있을 때\n",
    "f_total = x**2 + y**2 + 2*x*y\n",
    "\n",
    "# x와 y 모두에 대해 전미분을 계산\n",
    "df_dx = sp.diff(f_total, x)\n",
    "df_dy = sp.diff(f_total, y)\n",
    "\n",
    "# 전미분 (dx, dy 포함)\n",
    "df = df_dx + df_dy\n",
    "print(f\"함수 f(x, y)의 전미분: {df}\")\n"
   ]
  },
  {
   "cell_type": "code",
   "execution_count": null,
   "id": "36a98c81",
   "metadata": {
    "id": "36a98c81"
   },
   "outputs": [],
   "source": [
    "# 미분: 함수 f(x) = x^2 + 3x + 5에 대해 x에 대한 미분을 계산한 결과는 2*x + 3입니다.\n",
    "\n",
    "# 편미분: 함수 g(x, y) = x^2 * y + 3xy^2 + 5에 대해 각각의 변수 x와 y에 대한 편미분을 계산한 결과입니다.\n",
    "\n",
    "# g를 x에 대해 편미분한 결과는 2*x*y + 3*y^2입니다.\n",
    "# g를 y에 대해 편미분한 결과는 x^2 + 6*x*y입니다.\n",
    "# 전미분: 함수 f(x, y) = x^2 + y^2 + 2xy에 대해 x와 y에 대한 각각의 미분을 더한 결과는 4*x + 4*y입니다. 이는 전미분의 결과입니다."
   ]
  },
  {
   "cell_type": "code",
   "execution_count": null,
   "id": "13b93144",
   "metadata": {
    "id": "13b93144"
   },
   "outputs": [],
   "source": []
  },
  {
   "cell_type": "markdown",
   "id": "136a8efe",
   "metadata": {
    "id": "136a8efe"
   },
   "source": [
    "## 행렬 미분(Matrix Differentiation)"
   ]
  },
  {
   "cell_type": "code",
   "execution_count": null,
   "id": "d8a52e9b",
   "metadata": {
    "id": "d8a52e9b"
   },
   "outputs": [],
   "source": [
    "# 행렬 미분(Matrix Differentiation)**을 계산하는 예시를 SymPy 라이브러리를 사용하여 보여드릴 수 있습니다.\n",
    "# 행렬 미분은 주로 벡터와 행렬을 다루는 최적화 문제에서 사용되며, 행렬의 각 요소에 대해 미분을 계산합니다."
   ]
  },
  {
   "cell_type": "code",
   "execution_count": null,
   "id": "b50d59f4",
   "metadata": {
    "id": "b50d59f4"
   },
   "outputs": [],
   "source": [
    "# 주어진 함수:𝑓(𝑥)=𝑥𝑇𝐴𝑥이 함수에 대해 𝑥에 대해 미분을 구할 것입니다."
   ]
  },
  {
   "cell_type": "code",
   "execution_count": null,
   "id": "9d64d021",
   "metadata": {
    "id": "9d64d021"
   },
   "outputs": [],
   "source": []
  },
  {
   "cell_type": "code",
   "execution_count": null,
   "id": "9e2155b0",
   "metadata": {
    "id": "9e2155b0"
   },
   "outputs": [],
   "source": [
    "import sympy as sp\n",
    "\n",
    "# 벡터와 행렬 정의\n",
    "x1, x2 = sp.symbols('x1 x2')  # 벡터 x의 원소\n",
    "A = sp.Matrix([[2, 1], [1, 3]])  # 2x2 행렬 A\n",
    "x = sp.Matrix([x1, x2])  # 벡터 x\n",
    "\n",
    "# 함수 정의: f(x) = x^T A x\n",
    "f = x.T * A * x\n",
    "\n",
    "# f에 대한 벡터 x의 미분 계산 (그라디언트)\n",
    "df_dx = sp.Matrix([sp.diff(f, xi) for xi in x])\n",
    "\n",
    "# 결과 출력\n",
    "print(\"함수 f(x) = x^T A x:\")\n",
    "sp.pprint(f)\n",
    "\n",
    "print(\"\\n벡터 x에 대한 미분 (그라디언트):\")\n",
    "sp.pprint(df_dx)\n"
   ]
  },
  {
   "cell_type": "code",
   "execution_count": null,
   "id": "2500b512",
   "metadata": {
    "id": "2500b512"
   },
   "outputs": [],
   "source": [
    "# 행렬과 벡터 정의:벡터 𝑥는 x1, x2로 정의되었고, 행렬 𝐴는 2x2 행렬로 정의됩니다.\n",
    "# 함수 𝑓(𝑥)는 벡터의 전치행렬과 행렬 𝐴, 그리고 벡터의 곱으로 구성됩니다.\n",
    "# 미분 (그라디언트):함수 𝑓(𝑥)를 벡터 𝑥에 대해 미분하면 그라디언트(Gradient)를 구할 수 있습니다.\n",
    "#     이 그라디언트는 𝑥가 변화할 때 함수 𝑓(𝑥)의 변화율을 나타냅니다.\n",
    "# 결과는 각 변수에 대한 미분으로 구성된 벡터입니다:\n",
    "# ∇𝑓\n",
    "\n",
    "# 응용 예시\n",
    "# 행렬 미분은 기계 학습에서 자주 사용되며,\n",
    "# 특히 **행렬 방정식에서 경사 하강법(Gradient Descent)**을 사용할 때 유용합니다.\n",
    "# 이러한 그라디언트를 이용해 손실 함수의 최소값을 찾는 데 사용됩니다."
   ]
  },
  {
   "cell_type": "markdown",
   "id": "e96b719e",
   "metadata": {
    "id": "e96b719e"
   },
   "source": [
    "## 복합함수 미분(Chain Rule)"
   ]
  },
  {
   "cell_type": "code",
   "execution_count": null,
   "id": "0fc3ef0d",
   "metadata": {
    "id": "0fc3ef0d"
   },
   "outputs": [],
   "source": [
    "# 체인 룰(Chain Rule)은 미적분학에서 복합 함수의 미분을 계산하는 방법입니다.\n",
    "# 즉, 하나의 함수가 다른 함수의 입력으로 주어질 때, 이 복합 함수의 미분을 구할 수 있는 중요한 기법입니다."
   ]
  },
  {
   "cell_type": "code",
   "execution_count": null,
   "id": "35d21b0f",
   "metadata": {
    "id": "35d21b0f"
   },
   "outputs": [],
   "source": [
    "# 체인 룰을 파이썬 코드로 구현하면, 복합 함수의 미분을 수동으로 계산할 수도 있습니다. 예를 들어,\n",
    "# ℎ(𝑥)=𝑓(𝑔(𝑥)) 형태의 복합 함수에서\n",
    "# ℎ(𝑥)=𝑓′(𝑔(𝑥))⋅𝑔′(𝑥)와 같이 내부 함수와 외부 함수의 미분을 계산하는 방식입니다."
   ]
  },
  {
   "cell_type": "code",
   "execution_count": null,
   "id": "af810ce8",
   "metadata": {
    "id": "af810ce8"
   },
   "outputs": [],
   "source": [
    "# 내부 함수 𝑔(𝑥)=𝑥^2,  과 외부 함수𝑓(𝑔)=sin(𝑔(x)) 정의"
   ]
  },
  {
   "cell_type": "code",
   "execution_count": 16,
   "id": "3ef79ee5",
   "metadata": {
    "colab": {
     "base_uri": "https://localhost:8080/"
    },
    "executionInfo": {
     "elapsed": 2778,
     "status": "ok",
     "timestamp": 1729834825068,
     "user": {
      "displayName": "전윤범",
      "userId": "16579588953913211126"
     },
     "user_tz": -540
    },
    "id": "3ef79ee5",
    "outputId": "02fb3d78-b0ea-49bb-ff51-66f8a25c5cf1"
   },
   "outputs": [
    {
     "name": "stdout",
     "output_type": "stream",
     "text": [
      "g(x) = x**2\n",
      "f(g(x)) = sin(x**2)\n",
      "h'(x) = 2*x*cos(x**2)\n"
     ]
    }
   ],
   "source": [
    "import sympy as sp\n",
    "\n",
    "# 변수 정의\n",
    "x = sp.symbols('x')\n",
    "\n",
    "# 내부 함수 g(x)와 외부 함수 f(g(x)) 정의\n",
    "g = x**2                # 내부 함수 g(x)\n",
    "f = sp.sin(g)           # 외부 함수 f(g(x)) = sin(g(x)) = sin(x^2)\n",
    "\n",
    "# f(g(x))를 x에 대해 직접 미분 (체인 룰 자동 적용)\n",
    "h_prime = sp.diff(f, x)\n",
    "\n",
    "# 결과 출력\n",
    "print(\"g(x) =\", g)\n",
    "print(\"f(g(x)) =\", f)\n",
    "print(\"h'(x) =\", h_prime)\n"
   ]
  },
  {
   "cell_type": "code",
   "execution_count": null,
   "id": "7d84e9ca",
   "metadata": {
    "id": "7d84e9ca"
   },
   "outputs": [],
   "source": [
    "# 복합 함수의 미분: sp.diff(f, x)는 f(g(x))을 𝑥에 대해 직접 미분하여 체인 룰을 자동으로 적용합니다.\n",
    "#     이 과정에서 sympy는 다음과 같은 과정을 수행합니다:\n",
    "# 먼저 𝑓(𝑔(𝑥))의 외부 함수 sin(𝑔(𝑥)를\n",
    "# 𝑔에 대해 미분하여 cos⁡(𝑔(𝑥))를 얻습니다.\n",
    "# 이어서 내부 함수 𝑔(𝑥)=𝑥^2 를 𝑥에 대해 미분하여 2𝑥를 얻습니다.\n",
    "# 최종적으로 두 미분 결과를 곱해\n",
    "# ℎ′(𝑥)=cos⁡(𝑥^2)⋅2𝑥  를 계산합니다."
   ]
  },
  {
   "cell_type": "markdown",
   "id": "affb67fc",
   "metadata": {
    "id": "affb67fc"
   },
   "source": [
    "# Distribution"
   ]
  },
  {
   "cell_type": "code",
   "execution_count": null,
   "id": "e95650ae",
   "metadata": {
    "id": "e95650ae"
   },
   "outputs": [],
   "source": [
    "# 정규분포(Normal Distribution), 표준정규분포(Standard Normal Distribution), 그리고 Zero-Mean Gaussian 분포"
   ]
  },
  {
   "cell_type": "code",
   "execution_count": 21,
   "id": "1261cdda",
   "metadata": {
    "colab": {
     "base_uri": "https://localhost:8080/"
    },
    "executionInfo": {
     "elapsed": 11871,
     "status": "ok",
     "timestamp": 1729834946001,
     "user": {
      "displayName": "전윤범",
      "userId": "16579588953913211126"
     },
     "user_tz": -540
    },
    "id": "1261cdda",
    "outputId": "74f2b439-f26d-4370-ad41-45857f510b4b"
   },
   "outputs": [
    {
     "name": "stdout",
     "output_type": "stream",
     "text": [
      "Requirement already satisfied: pip in /usr/local/lib/python3.10/dist-packages (24.1.2)\n",
      "Collecting pip\n",
      "  Downloading pip-24.2-py3-none-any.whl.metadata (3.6 kB)\n",
      "Downloading pip-24.2-py3-none-any.whl (1.8 MB)\n",
      "\u001b[2K   \u001b[90m━━━━━━━━━━━━━━━━━━━━━━━━━━━━━━━━━━━━━━━━\u001b[0m \u001b[32m1.8/1.8 MB\u001b[0m \u001b[31m57.5 MB/s\u001b[0m eta \u001b[36m0:00:00\u001b[0m\n",
      "\u001b[?25hInstalling collected packages: pip\n",
      "  Attempting uninstall: pip\n",
      "    Found existing installation: pip 24.1.2\n",
      "    Uninstalling pip-24.1.2:\n",
      "      Successfully uninstalled pip-24.1.2\n",
      "Successfully installed pip-24.2\n",
      "Requirement already satisfied: numpy in /usr/local/lib/python3.10/dist-packages (1.26.4)\n",
      "Collecting numpy\n",
      "  Downloading numpy-2.1.2-cp310-cp310-manylinux_2_17_x86_64.manylinux2014_x86_64.whl.metadata (60 kB)\n",
      "Downloading numpy-2.1.2-cp310-cp310-manylinux_2_17_x86_64.manylinux2014_x86_64.whl (16.3 MB)\n",
      "\u001b[2K   \u001b[90m━━━━━━━━━━━━━━━━━━━━━━━━━━━━━━━━━━━━━━━━\u001b[0m \u001b[32m16.3/16.3 MB\u001b[0m \u001b[31m106.9 MB/s\u001b[0m eta \u001b[36m0:00:00\u001b[0m\n",
      "\u001b[?25hInstalling collected packages: numpy\n",
      "  Attempting uninstall: numpy\n",
      "    Found existing installation: numpy 1.26.4\n",
      "    Uninstalling numpy-1.26.4:\n",
      "      Successfully uninstalled numpy-1.26.4\n",
      "\u001b[31mERROR: pip's dependency resolver does not currently take into account all the packages that are installed. This behaviour is the source of the following dependency conflicts.\n",
      "cupy-cuda12x 12.2.0 requires numpy<1.27,>=1.20, but you have numpy 2.1.2 which is incompatible.\n",
      "gensim 4.3.3 requires numpy<2.0,>=1.18.5, but you have numpy 2.1.2 which is incompatible.\n",
      "numba 0.60.0 requires numpy<2.1,>=1.22, but you have numpy 2.1.2 which is incompatible.\n",
      "pytensor 2.25.5 requires numpy<2,>=1.17.0, but you have numpy 2.1.2 which is incompatible.\n",
      "tensorflow 2.17.0 requires numpy<2.0.0,>=1.23.5; python_version <= \"3.11\", but you have numpy 2.1.2 which is incompatible.\n",
      "thinc 8.2.5 requires numpy<2.0.0,>=1.19.0; python_version >= \"3.9\", but you have numpy 2.1.2 which is incompatible.\u001b[0m\u001b[31m\n",
      "\u001b[0mSuccessfully installed numpy-2.1.2\n"
     ]
    }
   ],
   "source": [
    "!pip install --upgrade pip\n",
    "!pip install --upgrade numpy"
   ]
  },
  {
   "cell_type": "code",
   "execution_count": 24,
   "id": "TAKplbXvM1ee",
   "metadata": {
    "colab": {
     "base_uri": "https://localhost:8080/",
     "height": 335
    },
    "executionInfo": {
     "elapsed": 6913,
     "status": "ok",
     "timestamp": 1729835015598,
     "user": {
      "displayName": "전윤범",
      "userId": "16579588953913211126"
     },
     "user_tz": -540
    },
    "id": "TAKplbXvM1ee",
    "outputId": "2776c5cb-6146-4bf0-c443-200b2d38999f"
   },
   "outputs": [
    {
     "name": "stdout",
     "output_type": "stream",
     "text": [
      "Collecting numpy==1.24.3\n",
      "  Downloading numpy-1.24.3-cp310-cp310-manylinux_2_17_x86_64.manylinux2014_x86_64.whl.metadata (5.6 kB)\n",
      "Downloading numpy-1.24.3-cp310-cp310-manylinux_2_17_x86_64.manylinux2014_x86_64.whl (17.3 MB)\n",
      "\u001b[2K   \u001b[90m━━━━━━━━━━━━━━━━━━━━━━━━━━━━━━━━━━━━━━━━\u001b[0m \u001b[32m17.3/17.3 MB\u001b[0m \u001b[31m97.2 MB/s\u001b[0m eta \u001b[36m0:00:00\u001b[0m\n",
      "\u001b[?25hInstalling collected packages: numpy\n",
      "  Attempting uninstall: numpy\n",
      "    Found existing installation: numpy 2.1.2\n",
      "    Uninstalling numpy-2.1.2:\n",
      "      Successfully uninstalled numpy-2.1.2\n",
      "\u001b[31mERROR: pip's dependency resolver does not currently take into account all the packages that are installed. This behaviour is the source of the following dependency conflicts.\n",
      "albumentations 1.4.15 requires numpy>=1.24.4, but you have numpy 1.24.3 which is incompatible.\u001b[0m\u001b[31m\n",
      "\u001b[0mSuccessfully installed numpy-1.24.3\n"
     ]
    },
    {
     "data": {
      "application/vnd.colab-display-data+json": {
       "id": "9ae0a7d5fe594a1783960940cd0f4a49",
       "pip_warning": {
        "packages": [
         "numpy"
        ]
       }
      }
     },
     "metadata": {},
     "output_type": "display_data"
    }
   ],
   "source": [
    "!pip install numpy==1.24.3\n"
   ]
  },
  {
   "cell_type": "code",
   "execution_count": 1,
   "id": "0250cd57",
   "metadata": {
    "executionInfo": {
     "elapsed": 1140,
     "status": "ok",
     "timestamp": 1729835027796,
     "user": {
      "displayName": "전윤범",
      "userId": "16579588953913211126"
     },
     "user_tz": -540
    },
    "id": "0250cd57"
   },
   "outputs": [],
   "source": [
    "import numpy as np\n",
    "import matplotlib.pyplot as plt\n",
    "import scipy.stats as stats"
   ]
  },
  {
   "cell_type": "markdown",
   "id": "a87434b4",
   "metadata": {
    "id": "a87434b4"
   },
   "source": [
    "## 정규분포(Normal Distribution)"
   ]
  },
  {
   "cell_type": "code",
   "execution_count": null,
   "id": "e7f8ccb8",
   "metadata": {
    "id": "e7f8ccb8"
   },
   "outputs": [],
   "source": [
    "# 정규분포는 평균(𝜇)과 표준편차(𝜎)를 가지는 분포입니다."
   ]
  },
  {
   "cell_type": "code",
   "execution_count": 2,
   "id": "aca16de2",
   "metadata": {
    "colab": {
     "base_uri": "https://localhost:8080/",
     "height": 472
    },
    "executionInfo": {
     "elapsed": 1244,
     "status": "ok",
     "timestamp": 1729835033337,
     "user": {
      "displayName": "전윤범",
      "userId": "16579588953913211126"
     },
     "user_tz": -540
    },
    "id": "aca16de2",
    "outputId": "66935cca-7476-44cd-ae11-cb5921660939"
   },
   "outputs": [
    {
     "data": {
      "image/png": "[encoded data removed]",
      "text/plain": [
       "<Figure size 640x480 with 1 Axes>"
      ]
     },
     "metadata": {},
     "output_type": "display_data"
    }
   ],
   "source": [
    "# 정규분포 파라미터\n",
    "mu, sigma = 5, 1.5\n",
    "\n",
    "# x 범위 설정\n",
    "x = np.linspace(mu - 4*sigma, mu + 4*sigma, 1000)\n",
    "y = stats.norm.pdf(x, mu, sigma)\n",
    "\n",
    "# 시각화\n",
    "plt.plot(x, y, label=f'Normal Distribution (μ={mu}, σ={sigma})')\n",
    "plt.title(\"Normal Distribution\")\n",
    "plt.xlabel(\"x\")\n",
    "plt.ylabel(\"Probability Density\")\n",
    "plt.legend()\n",
    "plt.show()\n"
   ]
  },
  {
   "cell_type": "code",
   "execution_count": null,
   "id": "abcb6746",
   "metadata": {
    "id": "abcb6746"
   },
   "outputs": [],
   "source": []
  },
  {
   "cell_type": "markdown",
   "id": "33622770",
   "metadata": {
    "id": "33622770"
   },
   "source": [
    "## 표준정규분포(Standard Normal Distribution)"
   ]
  },
  {
   "cell_type": "code",
   "execution_count": 3,
   "id": "851957ab",
   "metadata": {
    "executionInfo": {
     "elapsed": 507,
     "status": "ok",
     "timestamp": 1729835038219,
     "user": {
      "displayName": "전윤범",
      "userId": "16579588953913211126"
     },
     "user_tz": -540
    },
    "id": "851957ab"
   },
   "outputs": [],
   "source": [
    "#표준정규분포는 평균이 0이고 표준편차가 1인 정규분포입니다."
   ]
  },
  {
   "cell_type": "code",
   "execution_count": 4,
   "id": "42749c55",
   "metadata": {
    "colab": {
     "base_uri": "https://localhost:8080/",
     "height": 472
    },
    "executionInfo": {
     "elapsed": 1347,
     "status": "ok",
     "timestamp": 1729835044479,
     "user": {
      "displayName": "전윤범",
      "userId": "16579588953913211126"
     },
     "user_tz": -540
    },
    "id": "42749c55",
    "outputId": "469a1dd8-eae6-43db-926a-f6d1a82f00f2"
   },
   "outputs": [
    {
     "data": {
      "image/png": "[encoded data removed]",
      "text/plain": [
       "<Figure size 640x480 with 1 Axes>"
      ]
     },
     "metadata": {},
     "output_type": "display_data"
    }
   ],
   "source": [
    "# 표준정규분포\n",
    "mu_standard, sigma_standard = 0, 1\n",
    "\n",
    "# x 범위 설정\n",
    "x_standard = np.linspace(-4, 4, 1000)\n",
    "y_standard = stats.norm.pdf(x_standard, mu_standard, sigma_standard)\n",
    "\n",
    "# 시각화\n",
    "plt.plot(x_standard, y_standard, label='Standard Normal Distribution (μ=0, σ=1)', color='orange')\n",
    "plt.title(\"Standard Normal Distribution\")\n",
    "plt.xlabel(\"x\")\n",
    "plt.ylabel(\"Probability Density\")\n",
    "plt.legend()\n",
    "plt.show()\n"
   ]
  },
  {
   "cell_type": "code",
   "execution_count": null,
   "id": "04b275d8",
   "metadata": {
    "id": "04b275d8"
   },
   "outputs": [],
   "source": []
  },
  {
   "cell_type": "markdown",
   "id": "167919d3",
   "metadata": {
    "id": "167919d3"
   },
   "source": [
    "## Zero-Mean Gaussian 분포"
   ]
  },
  {
   "cell_type": "code",
   "execution_count": null,
   "id": "33701f8e",
   "metadata": {
    "id": "33701f8e"
   },
   "outputs": [],
   "source": [
    "# Zero-Mean Gaussian 분포는 평균이 0인 가우시안 분포로, 표준편차는 임의의 값을 가질 수 있습니다.\n",
    "# 표준정규분포는 Zero-Mean Gaussian 분포의 특별한 경우입니다."
   ]
  },
  {
   "cell_type": "code",
   "execution_count": null,
   "id": "2e2e2a3b",
   "metadata": {
    "id": "2e2e2a3b"
   },
   "outputs": [],
   "source": [
    "# Zero-Mean Gaussian Distribution 파라미터\n",
    "sigma_zero_mean = 2  # 예시로 표준편차 2를 사용\n",
    "\n",
    "# x 범위 설정\n",
    "x_zero_mean = np.linspace(-4*sigma_zero_mean, 4*sigma_zero_mean, 1000)\n",
    "y_zero_mean = stats.norm.pdf(x_zero_mean, 0, sigma_zero_mean)\n",
    "\n",
    "# 시각화\n",
    "plt.plot(x_zero_mean, y_zero_mean, label=f'Zero-Mean Gaussian (μ=0, σ={sigma_zero_mean})', color='green')\n",
    "plt.title(\"Zero-Mean Gaussian Distribution\")\n",
    "plt.xlabel(\"x\")\n",
    "plt.ylabel(\"Probability Density\")\n",
    "plt.legend()\n",
    "plt.show()\n"
   ]
  },
  {
   "cell_type": "code",
   "execution_count": null,
   "id": "d03170a9",
   "metadata": {
    "id": "d03170a9"
   },
   "outputs": [],
   "source": []
  },
  {
   "cell_type": "markdown",
   "id": "cddc2481",
   "metadata": {
    "id": "cddc2481"
   },
   "source": [
    "# 경사 하강법(Gradient Descent)"
   ]
  },
  {
   "cell_type": "code",
   "execution_count": null,
   "id": "16a571c9",
   "metadata": {
    "id": "16a571c9"
   },
   "outputs": [],
   "source": [
    "# 경사 하강법 알고리즘 개요\n",
    "# 경사 하강법은 함수의 최소값을 찾기 위해 반복적으로 기울기(경사)를 따라 이동하는 최적화 알고리즘입니다.\n",
    "# 각 반복 단계에서 다음과 같은 업데이트가 이루어집니다:"
   ]
  },
  {
   "cell_type": "code",
   "execution_count": null,
   "id": "2e2779d6",
   "metadata": {
    "id": "2e2779d6"
   },
   "outputs": [],
   "source": [
    "# x new =x old​ −η⋅∇f(x)\n",
    "\n",
    "# x new :  업데이트된 값\n",
    "# 𝜂 : 학습률(learning rate), 즉 경사에 따라 얼마나 빠르게 이동할지를 결정하는 매개변수\n",
    "# ∇𝑓(𝑥) :𝑓(𝑥)의 미분값(기울기)"
   ]
  },
  {
   "cell_type": "code",
   "execution_count": null,
   "id": "90825149",
   "metadata": {
    "id": "90825149"
   },
   "outputs": [],
   "source": [
    "# 이차 함수 𝑓(𝑥)=𝑥^2 의 최소값을 찾기 위해 경사 하강법을 사용하는 코드"
   ]
  },
  {
   "cell_type": "code",
   "execution_count": null,
   "id": "3a0767bd",
   "metadata": {
    "id": "3a0767bd"
   },
   "outputs": [],
   "source": [
    "import numpy as np\n",
    "import matplotlib.pyplot as plt\n",
    "\n",
    "# 목적 함수 정의 (f(x) = x^2)# 목적 함수와 기울기 함수 정의:\n",
    "# **f(x) = x^2**는 최소값을 찾고자 하는 함수입니다.\n",
    "# **grad_f(x) = 2x**는 함수\n",
    "\n",
    "\n",
    "def f(x):\n",
    "    return x**2\n",
    "\n",
    "# 함수의 기울기(미분값) (f'(x) = 2x)\n",
    "def grad_f(x):\n",
    "    return 2 * x\n",
    "\n",
    "# 경사 하강법 함수\n",
    "# gradient_descent 함수는 경사 하강법 알고리즘을 구현합니다. 주어진 기울기 함수, 초기값, 학습률, 그리고 반복 횟수에 따라 최적의 값을 찾습니다.\n",
    "# 각 반복 단계에서 기울기를 계산하고, 그에 따라 𝑥 값을 업데이트합니다.\n",
    "\n",
    "\n",
    "def gradient_descent(grad_f, initial_x, learning_rate, num_iterations):\n",
    "    x = initial_x\n",
    "    history = []  # 각 반복 단계에서의 x 값을 기록하기 위한 리스트\n",
    "\n",
    "    for i in range(num_iterations):\n",
    "        gradient = grad_f(x)  # 기울기 계산\n",
    "        x = x - learning_rate * gradient  # x 값 업데이트\n",
    "        history.append(x)  # 각 단계에서의 x 값을 기록\n",
    "\n",
    "        # 출력 (중간 과정 확인)\n",
    "        print(f\"Iteration {i+1}: x = {x}, f(x) = {f(x)}\")\n",
    "\n",
    "    return x, history\n",
    "\n",
    "# 초기값, 학습률, 반복 횟수 설정\n",
    "initial_x = 10  # 초기값\n",
    "learning_rate = 0.1  # 학습률\n",
    "num_iterations = 20  # 반복 횟수\n",
    "\n",
    "# 경사 하강법 실행\n",
    "final_x, history = gradient_descent(grad_f, initial_x, learning_rate, num_iterations)\n",
    "\n",
    "# 결과 출력\n",
    "print(f\"\\n최종 값: x = {final_x}, f(x) = {f(final_x)}\")\n",
    "\n",
    "# 그래프 시각화\n",
    "x_vals = np.linspace(-10, 10, 100)\n",
    "y_vals = f(x_vals)\n",
    "\n",
    "plt.plot(x_vals, y_vals, label=\"f(x) = x^2\")\n",
    "plt.scatter(history, [f(x) for x in history], color='red', label=\"Gradient Descent steps\")\n",
    "plt.title(\"Gradient Descent Optimization\")\n",
    "plt.xlabel(\"x\")\n",
    "plt.ylabel(\"f(x)\")\n",
    "plt.legend()\n",
    "plt.grid(True)\n",
    "plt.show()\n"
   ]
  },
  {
   "cell_type": "code",
   "execution_count": null,
   "id": "e6493f15",
   "metadata": {
    "id": "e6493f15"
   },
   "outputs": [],
   "source": [
    "# 그래프에는 함수 𝑓(𝑥)=𝑥^2 와 함께 경사 하강법이 이동한 경로가 빨간 점으로 표시됩니다.\n",
    "# 점들이 함수의 최솟값인 𝑥=0으로 수렴하는 모습을 볼 수 있습니다."
   ]
  },
  {
   "cell_type": "code",
   "execution_count": null,
   "id": "9a2a996e",
   "metadata": {
    "id": "9a2a996e"
   },
   "outputs": [],
   "source": [
    "# 설명\n",
    "# 경사 하강법은 함수의 최소값을 찾기 위해 기울기(경사)를 따라 이동하는 알고리즘입니다.\n",
    "# 초기값을 𝑥=10으로 설정한 후, 각 단계에서 기울기 값을 계산하고 𝑥를 업데이트합니다.\n",
    "# 학습률이 0.1로 설정되어, 기울기에 비례한 크기로 이동하며, 20번의 반복 후\n",
    "# 𝑥≈0으로 수렴합니다."
   ]
  },
  {
   "cell_type": "markdown",
   "id": "d26863ba",
   "metadata": {
    "id": "d26863ba"
   },
   "source": [
    "# 교차 엔트로피(Cross-Entropy)"
   ]
  },
  {
   "cell_type": "code",
   "execution_count": null,
   "id": "a03201a8",
   "metadata": {
    "id": "a03201a8"
   },
   "outputs": [],
   "source": [
    "# 교차 엔트로피(Cross-Entropy)**는 분류 문제에서 모델의 예측과 실제 정답 간의 차이를 측정하는 손실 함수로 많이 사용됩니다.\n",
    "# 특히 이진 분류와 다중 클래스 분류에서 교차 엔트로피가 사용됩니다.\n",
    "# 파이썬에서는 NumPy를 사용하여 쉽게 구현할 수 있습니다."
   ]
  },
  {
   "cell_type": "markdown",
   "id": "d9777158",
   "metadata": {
    "id": "d9777158"
   },
   "source": [
    "## 이진 교차 엔트로피(Binary Cross-Entropy)"
   ]
  },
  {
   "cell_type": "code",
   "execution_count": null,
   "id": "ef6bbcd9",
   "metadata": {
    "id": "ef6bbcd9"
   },
   "outputs": [],
   "source": [
    "import numpy as np\n",
    "\n",
    "# 이진 교차 엔트로피 함수 정의\n",
    "def binary_cross_entropy(y_true, y_pred):\n",
    "    # y_pred 값이 0이나 1에 너무 가까운 경우 log 계산이 되지 않으므로 이를 방지\n",
    "    epsilon = 1e-15\n",
    "    y_pred = np.clip(y_pred, epsilon, 1 - epsilon)\n",
    "\n",
    "    # 교차 엔트로피 계산\n",
    "    bce = -np.mean(y_true * np.log(y_pred) + (1 - y_true) * np.log(1 - y_pred))\n",
    "    return bce\n",
    "\n",
    "# 실제 레이블 (0 또는 1)\n",
    "y_true = np.array([1, 0, 1, 1])\n",
    "\n",
    "# 예측 확률 (모델이 예측한 값, 0과 1 사이의 값)\n",
    "y_pred = np.array([0.9, 0.2, 0.8, 0.7])\n",
    "\n",
    "# 이진 교차 엔트로피 계산\n",
    "bce_value = binary_cross_entropy(y_true, y_pred)\n",
    "print(f\"이진 교차 엔트로피: {bce_value}\")\n"
   ]
  },
  {
   "cell_type": "code",
   "execution_count": null,
   "id": "98e1c81d",
   "metadata": {
    "id": "98e1c81d"
   },
   "outputs": [],
   "source": [
    "# 이진 교차 엔트로피:\n",
    "\n",
    "# 실제 레이블 y_true와 모델이 예측한 확률 y_pred가 주어졌을 때, 교차 엔트로피를 계산합니다.\n",
    "# 𝑦=1인 경우 모델이 예측한 확률이 높을수록 (즉, 𝑝가 1에 가까울수록) 교차 엔트로피는 낮아집니다.\n",
    "# 𝑦=0인 경우 1−𝑝가 1에 가까울수록 교차 엔트로피는 낮아집니다."
   ]
  },
  {
   "cell_type": "code",
   "execution_count": null,
   "id": "b887f811",
   "metadata": {
    "id": "b887f811"
   },
   "outputs": [],
   "source": []
  },
  {
   "cell_type": "markdown",
   "id": "154c4d0b",
   "metadata": {
    "id": "154c4d0b"
   },
   "source": [
    "## 다중 클래스 교차 엔트로피(Multiclass Cross-Entropy)"
   ]
  },
  {
   "cell_type": "code",
   "execution_count": null,
   "id": "cce72bbf",
   "metadata": {
    "id": "cce72bbf"
   },
   "outputs": [],
   "source": [
    "import numpy as np\n",
    "\n",
    "# 다중 클래스 교차 엔트로피 함수 정의\n",
    "def multiclass_cross_entropy(y_true, y_pred):\n",
    "    # y_pred 값이 0이나 1에 너무 가까운 경우 log 계산이 되지 않으므로 이를 방지\n",
    "    epsilon = 1e-15\n",
    "    y_pred = np.clip(y_pred, epsilon, 1 - epsilon)\n",
    "\n",
    "    # 교차 엔트로피 계산\n",
    "    mce = -np.sum(y_true * np.log(y_pred)) / y_true.shape[0]\n",
    "    return mce\n",
    "\n",
    "# 실제 레이블 (원-핫 인코딩)\n",
    "y_true = np.array([[1, 0, 0],\n",
    "                   [0, 1, 0],\n",
    "                   [0, 0, 1]])\n",
    "\n",
    "# 예측 확률 (모델이 예측한 각 클래스에 대한 확률)\n",
    "y_pred = np.array([[0.8, 0.1, 0.1],\n",
    "                   [0.2, 0.7, 0.1],\n",
    "                   [0.1, 0.2, 0.7]])\n",
    "\n",
    "# 다중 클래스 교차 엔트로피 계산\n",
    "mce_value = multiclass_cross_entropy(y_true, y_pred)\n",
    "print(f\"다중 클래스 교차 엔트로피: {mce_value}\")\n"
   ]
  },
  {
   "cell_type": "code",
   "execution_count": null,
   "id": "75c3137a",
   "metadata": {
    "id": "75c3137a"
   },
   "outputs": [],
   "source": [
    "# 다중 클래스 교차 엔트로피:\n",
    "\n",
    "# 각 레이블은 원-핫 인코딩으로 표현되며, 모델의 예측 확률과 실제 레이블의 차이를 측정합니다.\n",
    "# 각 클래스별로 교차 엔트로피를 계산한 후, 이를 합산하여 평균을 구합니다."
   ]
  },
  {
   "cell_type": "markdown",
   "id": "9f1eb388",
   "metadata": {
    "id": "9f1eb388"
   },
   "source": [
    "# Fourier Transform"
   ]
  },
  {
   "cell_type": "code",
   "execution_count": null,
   "id": "ff245113",
   "metadata": {
    "id": "ff245113"
   },
   "outputs": [],
   "source": [
    "# numpy 라이브러리를 사용하여 빠르고 간단하게 Fourier Transform을 계산할 수 있습니다.\n",
    "# Fourier Transform은 신호를 주파수 성분으로 변환하는 강력한 도구로, 주로 시간 도메인에서 주파수 도메인으로 변환할 때 사용됩니다."
   ]
  },
  {
   "cell_type": "code",
   "execution_count": null,
   "id": "9f0fb370",
   "metadata": {
    "id": "9f0fb370"
   },
   "outputs": [],
   "source": [
    "# 사인파 신호에 대한 Fourier Transform을 계산하고, 신호와 변환 결과를 시각화"
   ]
  },
  {
   "cell_type": "code",
   "execution_count": null,
   "id": "6a5fc39e",
   "metadata": {
    "id": "6a5fc39e"
   },
   "outputs": [],
   "source": [
    "\n",
    "# Fourier Transform: numpy.fft.fft 함수를 사용하여 Fourier Transform을 계산합니다."
   ]
  },
  {
   "cell_type": "code",
   "execution_count": null,
   "id": "3f281b7d",
   "metadata": {
    "id": "3f281b7d"
   },
   "outputs": [],
   "source": [
    "import numpy as np\n",
    "import matplotlib.pyplot as plt"
   ]
  },
  {
   "cell_type": "code",
   "execution_count": null,
   "id": "2f74ccc6",
   "metadata": {
    "id": "2f74ccc6"
   },
   "outputs": [],
   "source": [
    "# 신호 생성: 5Hz의 사인파 신호를 1000Hz 샘플링 레이트로 생성합니다.\n",
    "\n",
    "# sampling_rate = 1000\n",
    "# 샘플링 주파수 (sampling rate): 이 값은 1000Hz, 즉 초당 1000개의 샘플을 나타냅니다.\n",
    "# 이는 1초 동안 신호를 1000번 측정하는 것을 의미합니다.\n",
    "# 시간 벡터 (t): 신호를 생성하기 위해 1초 동안의 시간을 1000개로 나누어 샘플링합니다.\n",
    "\n",
    "# t = np.linspace(0, 1, sampling_rate, endpoint=False)\n",
    "# **np.linspace(0, 1, sampling_rate, endpoint=False)**는 0초부터 1초까지 1000개의 등간격 값(샘플링 포인트)을 생성합니다. 여기서 endpoint=False는 마지막 값 1을 포함하지 않는다는 의미입니다. 따라서 시간 벡터 t는 0초부터 0.999초까지 1000개의 값을 가집니다.\n",
    "# 예를 들어, t는 다음과 같은 배열이 됩니다:\n",
    "# 𝑡=[0.000,0.001,0.002,…,0.999]\n",
    "# 이 배열은 1000개의 시간 점을 나타내며, 각각의 점에서 신호 값을 샘플링하게 됩니다.\n",
    "\n",
    "# freq = 5  # 사인파 주파수 5 Hz\n",
    "# 사인파의 주파수 (frequency): 사인파의 진동 주파수는 5Hz입니다. 즉, 1초 동안 5번 진동하는 신호를 생성하게 됩니다.\n",
    "\n",
    "# signal = np.sin(2 * np.pi * freq * t)\n",
    "# 사인파 신호 생성:\n",
    "# 사인파의 일반적인 수학적 표현은 다음과 같습니다:\n",
    "# sin⁡(2𝜋𝑓𝑡)\n",
    "# 여기서:𝑓f: 주파수 (5Hz),𝑡: 시간 (초 단위)\n",
    "# 위 코드는 t 배열에 있는 각 시간 값에 대해 sin⁡(2𝜋×5×𝑡)값을 계산합니다.\n",
    "# 결과적으로, 5Hz의 사인파가 0초에서 1초 동안 생성되며, 신호가 5번 진동합니다."
   ]
  },
  {
   "cell_type": "code",
   "execution_count": null,
   "id": "a0863f83",
   "metadata": {
    "id": "a0863f83"
   },
   "outputs": [],
   "source": [
    "# 신호 생성 (샘플링 주파수: 1000 Hz, 신호 길이: 1초)\n",
    "sampling_rate = 1000\n",
    "t = np.linspace(0, 1, sampling_rate, endpoint=False)\n",
    "freq = 5  # 사인파 주파수 5 Hz\n",
    "signal = np.sin(2 * np.pi * freq * t)"
   ]
  },
  {
   "cell_type": "code",
   "execution_count": null,
   "id": "3bbc5c7d",
   "metadata": {
    "id": "3bbc5c7d"
   },
   "outputs": [],
   "source": [
    "# Fourier Transform: numpy.fft.fft 함수를 사용하여 Fourier Transform을 계산합니다.\n",
    "\n",
    "# magnitude = np.absnp.abs(fft_result)\n",
    "# Fourier Transform 결과에서 절대값을 취해 크기(magnitude) 정보만을 추출합니다\n",
    "# Fourier Transform 결과로 얻은 주파수 성분의 진폭(혹은 크기)을 계산하여,\n",
    "# 신호의 주파수 도메인에서 주파수 성분의 세기를 시각화하는 데 사용됩니다."
   ]
  },
  {
   "cell_type": "code",
   "execution_count": null,
   "id": "882fe2a1",
   "metadata": {
    "id": "882fe2a1"
   },
   "outputs": [],
   "source": [
    "# Fourier Transform 수행\n",
    "fft_result = np.fft.fft(signal)\n",
    "frequencies = np.fft.fftfreq(len(t), 1/sampling_rate)\n",
    "\n",
    "# 절대값을 취해 크기 정보만 얻음\n",
    "magnitude = np.abs(fft_result)"
   ]
  },
  {
   "cell_type": "code",
   "execution_count": null,
   "id": "8821fa36",
   "metadata": {
    "id": "8821fa36"
   },
   "outputs": [],
   "source": [
    "# 사각화"
   ]
  },
  {
   "cell_type": "code",
   "execution_count": null,
   "id": "444c5283",
   "metadata": {
    "id": "444c5283"
   },
   "outputs": [],
   "source": [
    "# 신호 시각화\n",
    "plt.figure(figsize=(12, 6))\n",
    "\n",
    "# 원래 신호 (시간 도메인)\n",
    "plt.subplot(1, 2, 1)\n",
    "plt.plot(t, signal)\n",
    "plt.title('Original Signal (Time Domain)')\n",
    "plt.xlabel('Time (s)')\n",
    "plt.ylabel('Amplitude')\n",
    "\n",
    "# Fourier 변환 결과 (주파수 도메인)\n",
    "plt.subplot(1, 2, 2)\n",
    "plt.plot(frequencies[:len(frequencies)//2], magnitude[:len(magnitude)//2])\n",
    "plt.title('Fourier Transform (Frequency Domain)')\n",
    "plt.xlabel('Frequency (Hz)')\n",
    "plt.ylabel('Magnitude')\n",
    "\n",
    "plt.tight_layout()\n",
    "plt.show()\n"
   ]
  },
  {
   "cell_type": "code",
   "execution_count": null,
   "id": "7d4ceb17",
   "metadata": {
    "id": "7d4ceb17"
   },
   "outputs": [],
   "source": [
    "# 결과 시각화:\n",
    "# 왼쪽 그래프는 원래의 시간 도메인 신호를 보여줍니다.\n",
    "# 오른쪽 그래프는 Fourier Transform 결과로, 주파수 도메인에서의 크기(magnitude)를 보여줍니다."
   ]
  },
  {
   "cell_type": "code",
   "execution_count": null,
   "id": "44583d38",
   "metadata": {
    "id": "44583d38"
   },
   "outputs": [],
   "source": [
    "# 코드 종합"
   ]
  },
  {
   "cell_type": "code",
   "execution_count": null,
   "id": "2482bdf5",
   "metadata": {
    "id": "2482bdf5"
   },
   "outputs": [],
   "source": [
    "import numpy as np\n",
    "import matplotlib.pyplot as plt\n",
    "\n",
    "# 신호 생성 (샘플링 주파수: 1000 Hz, 신호 길이: 1초)\n",
    "sampling_rate = 1000\n",
    "t = np.linspace(0, 1, sampling_rate, endpoint=False)\n",
    "freq = 5  # 사인파 주파수 5 Hz\n",
    "signal = np.sin(2 * np.pi * freq * t)\n",
    "\n",
    "# Fourier Transform 수행\n",
    "fft_result = np.fft.fft(signal)\n",
    "frequencies = np.fft.fftfreq(len(t), 1/sampling_rate)\n",
    "\n",
    "# 절대값을 취해 크기 정보만 얻음\n",
    "magnitude = np.abs(fft_result)\n",
    "\n",
    "# 신호 시각화\n",
    "plt.figure(figsize=(12, 6))\n",
    "\n",
    "# 원래 신호 (시간 도메인)\n",
    "plt.subplot(1, 2, 1)\n",
    "plt.plot(t, signal)\n",
    "plt.title('Original Signal (Time Domain)')\n",
    "plt.xlabel('Time (s)')\n",
    "plt.ylabel('Amplitude')\n",
    "\n",
    "# Fourier 변환 결과 (주파수 도메인)\n",
    "plt.subplot(1, 2, 2)\n",
    "plt.plot(frequencies[:len(frequencies)//2], magnitude[:len(magnitude)//2])\n",
    "plt.title('Fourier Transform (Frequency Domain)')\n",
    "plt.xlabel('Frequency (Hz)')\n",
    "plt.ylabel('Magnitude')\n",
    "\n",
    "plt.tight_layout()\n",
    "plt.show()\n"
   ]
  }
 ],
 "metadata": {
  "accelerator": "GPU",
  "colab": {
   "gpuType": "T4",
   "provenance": []
  },
  "kernelspec": {
   "display_name": "Python 3 (ipykernel)",
   "language": "python",
   "name": "python3"
  },
  "language_info": {
   "codemirror_mode": {
    "name": "ipython",
    "version": 3
   },
   "file_extension": ".py",
   "mimetype": "text/x-python",
   "name": "python",
   "nbconvert_exporter": "python",
   "pygments_lexer": "ipython3",
   "version": "3.9.11"
  },
  "toc": {
   "base_numbering": 1,
   "nav_menu": {},
   "number_sections": true,
   "sideBar": true,
   "skip_h1_title": false,
   "title_cell": "Table of Contents",
   "title_sidebar": "Contents",
   "toc_cell": false,
   "toc_position": {},
   "toc_section_display": true,
   "toc_window_display": false
  }
 },
 "nbformat": 4,
 "nbformat_minor": 5
}
