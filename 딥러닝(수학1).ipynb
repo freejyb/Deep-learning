{
 "cells": [
  {
   "cell_type": "markdown",
   "id": "ae5f30f2",
   "metadata": {},
   "source": [
    "# log"
   ]
  },
  {
   "cell_type": "code",
   "execution_count": null,
   "id": "6e484a60",
   "metadata": {},
   "outputs": [],
   "source": [
    "# 파이썬을 사용하여 로그의 기본 수학적 성질을 구현한 코드입니다. \n",
    "# 이 코드는 로그의 정의, 주요 성질(곱셈, 나눗셈, 거듭제곱 법칙)을 보여주며, 이를 간단하게 계산하는 예시"
   ]
  },
  {
   "cell_type": "markdown",
   "id": "be152299",
   "metadata": {},
   "source": [
    "## 로그의 기본 수학적 성질"
   ]
  },
  {
   "cell_type": "code",
   "execution_count": null,
   "id": "54685967",
   "metadata": {},
   "outputs": [],
   "source": [
    "# 코드 설명\n",
    "# 로그 계산 함수:\n",
    "\n",
    "# log_base(b, x) 함수는 주어진 밑 b에 대한 로그값을 계산합니다.\n",
    "# math.log(x, b)를 사용하여 밑 b에 대한 로그값을 구할 수 있습니다.\n",
    "# 곱셈 법칙:\n",
    "\n",
    "# log_b(m * n)은 log_b(m) + log_b(n)과 같다는 성질을 확인할 수 있습니다.\n",
    "# 나눗셈 법칙:\n",
    "\n",
    "# log_b(m / n)은 log_b(m) - log_b(n)과 같다는 성질을 보여줍니다.\n",
    "# 거듭제곱 법칙:\n",
    "\n",
    "# log_b(m^k)은 k * log_b(m)과 같다는 것을 계산으로 확인할 수 있습니다."
   ]
  },
  {
   "cell_type": "code",
   "execution_count": 1,
   "id": "34d76852",
   "metadata": {},
   "outputs": [
    {
     "name": "stdout",
     "output_type": "stream",
     "text": [
      "log_2(8) = 3.0\n",
      "log_2(4) = 2.0\n",
      "log_2(8 * 4) = 5.0\n",
      "log_2(8) + log_2(4) = 5.0\n",
      "log_2(8 / 4) = 1.0\n",
      "log_2(8) - log_2(4) = 1.0\n",
      "log_2(8^3) = 9.0\n",
      "3 * log_2(8) = 9.0\n"
     ]
    }
   ],
   "source": [
    "import math\n",
    "\n",
    "# 로그 계산 함수 정의\n",
    "def log_base(b, x):\n",
    "    return math.log(x, b)\n",
    "\n",
    "# 기본 로그 예시 (밑이 2인 로그)\n",
    "b = 2\n",
    "m = 8\n",
    "n = 4\n",
    "k = 3\n",
    "\n",
    "# 로그 기본 정의\n",
    "log_m = log_base(b, m)\n",
    "log_n = log_base(b, n)\n",
    "\n",
    "print(f\"log_{b}({m}) = {log_m}\")\n",
    "print(f\"log_{b}({n}) = {log_n}\")\n",
    "\n",
    "# 곱셈 법칙: log_b(m * n) = log_b(m) + log_b(n)\n",
    "log_mn = log_base(b, m * n)\n",
    "log_m_plus_log_n = log_m + log_n\n",
    "print(f\"log_{b}({m} * {n}) = {log_mn}\")\n",
    "print(f\"log_{b}({m}) + log_{b}({n}) = {log_m_plus_log_n}\")\n",
    "\n",
    "# 나눗셈 법칙: log_b(m / n) = log_b(m) - log_b(n)\n",
    "log_m_div_n = log_base(b, m / n)\n",
    "log_m_minus_log_n = log_m - log_n\n",
    "print(f\"log_{b}({m} / {n}) = {log_m_div_n}\")\n",
    "print(f\"log_{b}({m}) - log_{b}({n}) = {log_m_minus_log_n}\")\n",
    "\n",
    "# 거듭제곱 법칙: log_b(m^k) = k * log_b(m)\n",
    "log_m_pow_k = log_base(b, m ** k)\n",
    "k_times_log_m = k * log_m\n",
    "print(f\"log_{b}({m}^{k}) = {log_m_pow_k}\")\n",
    "print(f\"{k} * log_{b}({m}) = {k_times_log_m}\")\n"
   ]
  },
  {
   "cell_type": "markdown",
   "id": "382daca6",
   "metadata": {},
   "source": [
    "## 상용로그와 자연로그"
   ]
  },
  {
   "cell_type": "code",
   "execution_count": null,
   "id": "65fc656a",
   "metadata": {},
   "outputs": [],
   "source": [
    "# 상용로그 (Common Logarithm): 밑이 10인 로그를 의미하며, log10 함수로 계산할 수 있습니다.\n",
    "# 자연로그 (Natural Logarithm): 밑이 e(자연 상수, 약 2.718)를 사용하는 로그로, log 함수로 계산합니다."
   ]
  },
  {
   "cell_type": "code",
   "execution_count": null,
   "id": "a3e5ade2",
   "metadata": {},
   "outputs": [],
   "source": [
    "# 상용로그 계산:\n",
    "# math.log10(x)는 밑 10을 사용하는 상용로그를 계산합니다.\n",
    "# 예를 들어, log10(100)은 2입니다, 왜냐하면 \n",
    "\n",
    "# 자연로그 계산:\n",
    "# math.log(x)는 밑 e(자연 상수)를 사용하는 자연로그를 계산합니다.\n",
    "\n",
    "# 다양한 값에 대한 로그 계산:\n",
    "# 값이 1, 10, 20, 50, 100인 경우에 대해 상용로그와 자연로그를 각각 계산하고 출력합니다."
   ]
  },
  {
   "cell_type": "code",
   "execution_count": 2,
   "id": "d32c65bb",
   "metadata": {},
   "outputs": [
    {
     "name": "stdout",
     "output_type": "stream",
     "text": [
      "log10(100) = 2.0\n",
      "ln(100) = 4.605170185988092\n",
      "\n",
      "값들에 대한 상용로그와 자연로그 계산:\n",
      "값: 1 -> log10(1) = 0.0, ln(1) = 0.0\n",
      "값: 10 -> log10(10) = 1.0, ln(10) = 2.302585092994046\n",
      "값: 20 -> log10(20) = 1.3010299956639813, ln(20) = 2.995732273553991\n",
      "값: 50 -> log10(50) = 1.6989700043360187, ln(50) = 3.912023005428146\n",
      "값: 100 -> log10(100) = 2.0, ln(100) = 4.605170185988092\n"
     ]
    }
   ],
   "source": [
    "import math\n",
    "\n",
    "# 상용로그 (밑이 10)\n",
    "x = 100\n",
    "common_log = math.log10(x)\n",
    "print(f\"log10({x}) = {common_log}\")\n",
    "\n",
    "# 자연로그 (밑이 e)\n",
    "natural_log = math.log(x)  # math.log()는 기본적으로 자연로그를 계산\n",
    "print(f\"ln({x}) = {natural_log}\")\n",
    "\n",
    "# 다양한 입력값에 대한 상용로그와 자연로그 계산\n",
    "values = [1, 10, 20, 50, 100]\n",
    "\n",
    "print(\"\\n값들에 대한 상용로그와 자연로그 계산:\")\n",
    "for val in values:\n",
    "    common_log = math.log10(val)\n",
    "    natural_log = math.log(val)\n",
    "    print(f\"값: {val} -> log10({val}) = {common_log}, ln({val}) = {natural_log}\")\n"
   ]
  },
  {
   "cell_type": "code",
   "execution_count": null,
   "id": "7c68cde9",
   "metadata": {},
   "outputs": [],
   "source": [
    "# f는 파이썬의 f-string(formatted string) 기능을 나타냅니다. \n",
    "# f-string은 문자열 내에 변수를 쉽게 삽입할 수 있는 파이썬의 문자열 포매팅 방법 중 하나로, 파이썬 3.6부터 도입되었습니다.\n",
    "\n",
    "# f-string의 사용법\n",
    "# 문자열 앞에 f를 붙이고, 중괄호 {} 안에 변수를 넣으면, 해당 변수의 값이 문자열에 삽입됩니다.\n",
    "# 중괄호 {} 안에는 변수뿐만 아니라, 표현식(예: 수식 계산)도 삽입할 수 있습니다."
   ]
  },
  {
   "cell_type": "code",
   "execution_count": 3,
   "id": "04ab36af",
   "metadata": {},
   "outputs": [
    {
     "name": "stdout",
     "output_type": "stream",
     "text": [
      "log10(100) = 2.0\n"
     ]
    }
   ],
   "source": [
    "x = 100\n",
    "common_log = 2.0\n",
    "\n",
    "# f-string 사용 예시\n",
    "print(f\"log10({x}) = {common_log}\")\n"
   ]
  },
  {
   "cell_type": "code",
   "execution_count": null,
   "id": "0e70a18e",
   "metadata": {},
   "outputs": [],
   "source": [
    "# f-string의 장점\n",
    "# 가독성:\n",
    "\n",
    "# f-string을 사용하면 문자열 안에 변수를 바로 삽입할 수 있기 때문에 코드가 더 간결하고 읽기 쉬워집니다.\n",
    "# 표현식 사용 가능:\n",
    "\n",
    "# 중괄호 {} 안에 간단한 표현식을 넣어 계산 결과를 출력할 수 있습니다."
   ]
  },
  {
   "cell_type": "markdown",
   "id": "b54928dc",
   "metadata": {},
   "source": [
    "# 삼각함수"
   ]
  },
  {
   "cell_type": "code",
   "execution_count": null,
   "id": "fe7eb45f",
   "metadata": {},
   "outputs": [],
   "source": [
    "# numpy 라이브러리를 사용 \n",
    "# 사인(sin), 코사인(cos), 탄젠트(tan) 함수를 계산\n",
    "# 이를 그래프로 시각화."
   ]
  },
  {
   "cell_type": "markdown",
   "id": "a1d36fc3",
   "metadata": {},
   "source": [
    "## 라이브러리"
   ]
  },
  {
   "cell_type": "code",
   "execution_count": 2,
   "id": "0856bc00",
   "metadata": {},
   "outputs": [],
   "source": [
    "import numpy as np\n",
    "import matplotlib.pyplot as plt"
   ]
  },
  {
   "cell_type": "markdown",
   "id": "c62b1dcc",
   "metadata": {},
   "source": [
    "## X축 범위 설정"
   ]
  },
  {
   "cell_type": "code",
   "execution_count": 3,
   "id": "8e656f82",
   "metadata": {},
   "outputs": [],
   "source": [
    "# 코드 설명:\n",
    "# np.linspace(-2 * np.pi, 2 * np.pi, 1000):−2𝜋에서 2π까지 1000개의 점을 생성하여 X축 범위를 설정합니다. \n",
    "#     삼각함수는 주기적이므로 여러 주기를 그릴 수 있도록 −2𝜋에서 2π까지 범위를 설정했습니다."
   ]
  },
  {
   "cell_type": "code",
   "execution_count": 4,
   "id": "c40b8223",
   "metadata": {},
   "outputs": [],
   "source": [
    "# X축 범위 설정: -2π에서 2π까지\n",
    "x = np.linspace(-2 * np.pi, 2 * np.pi, 1000)"
   ]
  },
  {
   "cell_type": "markdown",
   "id": "4d244d40",
   "metadata": {},
   "source": [
    "## 삼각함수 계산"
   ]
  },
  {
   "cell_type": "code",
   "execution_count": 5,
   "id": "7545dc01",
   "metadata": {},
   "outputs": [],
   "source": [
    "# np.sin(x), np.cos(x), np.tan(x):\n",
    "# 각각 사인, 코사인, 탄젠트 함수를 계산하는 numpy 함수입니다."
   ]
  },
  {
   "cell_type": "code",
   "execution_count": 6,
   "id": "4e6ddc66",
   "metadata": {},
   "outputs": [],
   "source": [
    "# 삼각함수 계산\n",
    "y_sin = np.sin(x)  # 사인 함수\n",
    "y_cos = np.cos(x)  # 코사인 함수\n",
    "y_tan = np.tan(x)  # 탄젠트 함수\n"
   ]
  },
  {
   "cell_type": "markdown",
   "id": "2280ba67",
   "metadata": {},
   "source": [
    "## 시각화"
   ]
  },
  {
   "cell_type": "code",
   "execution_count": 7,
   "id": "00675859",
   "metadata": {},
   "outputs": [],
   "source": [
    "# plt.plot():\n",
    "# 각 함수의 그래프를 그리며, 사인 함수는 파란색, 코사인 함수는 녹색, 탄젠트 함수는 빨간색으로 설정했습니다.\n",
    "# plt.subplot():\n",
    "\n",
    "# 여러 그래프를 하나의 창에 그리기 위해 subplot을 사용했습니다.\n",
    "# plt.ylim(-10, 10):\n",
    "# 탄젠트 함수는 특정 지점에서 값이 급격히 발산하기 때문에 Y축 범위를 −10에서 10으로 제한했습니다."
   ]
  },
  {
   "cell_type": "code",
   "execution_count": 8,
   "id": "cd94ae3b",
   "metadata": {},
   "outputs": [
    {
     "data": {
      "image/png": "[encoded data removed]",
      "text/plain": [
       "<Figure size 1000x600 with 3 Axes>"
      ]
     },
     "metadata": {},
     "output_type": "display_data"
    }
   ],
   "source": [
    "# 시각화: 사인, 코사인, 탄젠트 함수 그래프 그리기\n",
    "plt.figure(figsize=(10, 6))\n",
    "\n",
    "# 사인 함수 그래프\n",
    "plt.subplot(3, 1, 1)\n",
    "plt.plot(x, y_sin, label='sin(x)', color='blue')\n",
    "plt.title('Sine Function (sin(x))')\n",
    "plt.axhline(0, color='black',linewidth=0.5)\n",
    "plt.axvline(0, color='black',linewidth=0.5)\n",
    "plt.grid(True)\n",
    "\n",
    "# 코사인 함수 그래프\n",
    "plt.subplot(3, 1, 2)\n",
    "plt.plot(x, y_cos, label='cos(x)', color='green')\n",
    "plt.title('Cosine Function (cos(x))')\n",
    "plt.axhline(0, color='black',linewidth=0.5)\n",
    "plt.axvline(0, color='black',linewidth=0.5)\n",
    "plt.grid(True)\n",
    "\n",
    "# 탄젠트 함수 그래프\n",
    "plt.subplot(3, 1, 3)\n",
    "plt.plot(x, y_tan, label='tan(x)', color='red')\n",
    "plt.ylim(-10, 10)  # 탄젠트 함수는 발산하므로 제한\n",
    "plt.title('Tangent Function (tan(x))')\n",
    "plt.axhline(0, color='black',linewidth=0.5)\n",
    "plt.axvline(0, color='black',linewidth=0.5)\n",
    "plt.grid(True)\n",
    "\n",
    "plt.tight_layout()\n",
    "plt.show()\n"
   ]
  },
  {
   "cell_type": "code",
   "execution_count": null,
   "id": "64d6fa0f",
   "metadata": {},
   "outputs": [],
   "source": []
  },
  {
   "cell_type": "markdown",
   "id": "a40fb04a",
   "metadata": {},
   "source": [
    "## 코드 종합"
   ]
  },
  {
   "cell_type": "code",
   "execution_count": null,
   "id": "07f8b652",
   "metadata": {},
   "outputs": [],
   "source": [
    "import numpy as np\n",
    "import matplotlib.pyplot as plt\n",
    "\n",
    "# X축 범위 설정: -2π에서 2π까지\n",
    "x = np.linspace(-2 * np.pi, 2 * np.pi, 1000)\n",
    "\n",
    "# 삼각함수 계산\n",
    "y_sin = np.sin(x)  # 사인 함수\n",
    "y_cos = np.cos(x)  # 코사인 함수\n",
    "y_tan = np.tan(x)  # 탄젠트 함수\n",
    "\n",
    "# 시각화: 사인, 코사인, 탄젠트 함수 그래프 그리기\n",
    "plt.figure(figsize=(10, 6))\n",
    "\n",
    "# 사인 함수 그래프\n",
    "plt.subplot(3, 1, 1)\n",
    "plt.plot(x, y_sin, label='sin(x)', color='blue')\n",
    "plt.title('Sine Function (sin(x))')\n",
    "plt.axhline(0, color='black',linewidth=0.5)\n",
    "plt.axvline(0, color='black',linewidth=0.5)\n",
    "plt.grid(True)\n",
    "\n",
    "# 코사인 함수 그래프\n",
    "plt.subplot(3, 1, 2)\n",
    "plt.plot(x, y_cos, label='cos(x)', color='green')\n",
    "plt.title('Cosine Function (cos(x))')\n",
    "plt.axhline(0, color='black',linewidth=0.5)\n",
    "plt.axvline(0, color='black',linewidth=0.5)\n",
    "plt.grid(True)\n",
    "\n",
    "# 탄젠트 함수 그래프\n",
    "plt.subplot(3, 1, 3)\n",
    "plt.plot(x, y_tan, label='tan(x)', color='red')\n",
    "plt.ylim(-10, 10)  # 탄젠트 함수는 발산하므로 제한\n",
    "plt.title('Tangent Function (tan(x))')\n",
    "plt.axhline(0, color='black',linewidth=0.5)\n",
    "plt.axvline(0, color='black',linewidth=0.5)\n",
    "plt.grid(True)\n",
    "\n",
    "plt.tight_layout()\n",
    "plt.show()\n"
   ]
  },
  {
   "cell_type": "markdown",
   "id": "5e03e432",
   "metadata": {},
   "source": [
    "# 벡터"
   ]
  },
  {
   "cell_type": "code",
   "execution_count": null,
   "id": "19cb8d53",
   "metadata": {},
   "outputs": [],
   "source": [
    "# 벡터의 사칙연산(덧셈, 뺄셈, 곱셈, 나눗셈)과 **Norm(벡터의 크기)**을 계산하는 코드입니다. \n",
    "# 이를 위해 NumPy 라이브러리를 사용"
   ]
  },
  {
   "cell_type": "markdown",
   "id": "704d5c9b",
   "metadata": {},
   "source": [
    "## 벡터 사칙연산(벡터 덧셈, 뺄셈, 원소별 곱셈, 나눗셈)"
   ]
  },
  {
   "cell_type": "code",
   "execution_count": null,
   "id": "1ad9ff90",
   "metadata": {},
   "outputs": [],
   "source": [
    "# 덧셈: 각 벡터의 원소끼리 더해집니다.\n",
    "# 뺄셈: 각 벡터의 원소끼리 빼집니다.\n",
    "# 원소별 곱셈: 각 벡터의 대응하는 원소끼리 곱합니다.\n",
    "# 원소별 나눗셈: 각 벡터의 대응하는 원소끼리 나눕니다"
   ]
  },
  {
   "cell_type": "code",
   "execution_count": 4,
   "id": "f2c2b6a8",
   "metadata": {},
   "outputs": [],
   "source": [
    "import numpy as np\n",
    "\n",
    "# 두 개의 벡터 정의\n",
    "vector_a = np.array([1, 2, 3])\n",
    "vector_b = np.array([4, 5, 6])"
   ]
  },
  {
   "cell_type": "code",
   "execution_count": 5,
   "id": "745ba86f",
   "metadata": {},
   "outputs": [
    {
     "name": "stdout",
     "output_type": "stream",
     "text": [
      "벡터 덧셈: [5 7 9]\n",
      "벡터 뺄셈: [-3 -3 -3]\n",
      "벡터 원소별 곱셈: [ 4 10 18]\n",
      "벡터 원소별 나눗셈: [0.25 0.4  0.5 ]\n"
     ]
    }
   ],
   "source": [
    "# 벡터 덧셈\n",
    "vector_add = vector_a + vector_b\n",
    "print(f\"벡터 덧셈: {vector_add}\")\n",
    "\n",
    "# 벡터 뺄셈\n",
    "vector_sub = vector_a - vector_b\n",
    "print(f\"벡터 뺄셈: {vector_sub}\")\n",
    "\n",
    "# 벡터 원소별 곱셈\n",
    "vector_mul = vector_a * vector_b\n",
    "print(f\"벡터 원소별 곱셈: {vector_mul}\")\n",
    "\n",
    "# 벡터 원소별 나눗셈\n",
    "vector_div = vector_a / vector_b\n",
    "print(f\"벡터 원소별 나눗셈: {vector_div}\")\n"
   ]
  },
  {
   "cell_type": "markdown",
   "id": "46d06a10",
   "metadata": {},
   "source": [
    "## 벡터의 내적(Dot Product)"
   ]
  },
  {
   "cell_type": "code",
   "execution_count": null,
   "id": "b4cce472",
   "metadata": {},
   "outputs": [],
   "source": [
    "# 벡터 내적(Dot Product) 공식\n",
    "# 두 벡터 𝑎와 𝑏가 있을 때, 벡터 내적은 다음과 같이 계산됩니다:\n",
    "# 𝑎⋅𝑏=𝑎1⋅𝑏1+𝑎2⋅𝑏2+⋯+𝑎𝑛⋅𝑏𝑛\n",
    "# 즉, 각 대응하는 원소들을 곱하고, 그 값을 모두 더한 결과가 내적입니다.\n"
   ]
  },
  {
   "cell_type": "code",
   "execution_count": null,
   "id": "7a7a74e2",
   "metadata": {},
   "outputs": [],
   "source": [
    "# np.dot(a, b): NumPy에서 제공하는 dot 함수는 두 벡터 또는 행렬의 내적을 계산하는 함수입니다.\n",
    "# 벡터 내적 결과는 두 벡터의 크기와 방향에 따라 하나의 숫자(스칼라)로 나타납니다."
   ]
  },
  {
   "cell_type": "code",
   "execution_count": 7,
   "id": "f83bd34d",
   "metadata": {},
   "outputs": [
    {
     "name": "stdout",
     "output_type": "stream",
     "text": [
      "벡터 a: [1 2 3]\n",
      "벡터 b: [4 5 6]\n",
      "벡터 a와 b의 내적: 32\n"
     ]
    }
   ],
   "source": [
    "import numpy as np\n",
    "\n",
    "# 두 개의 벡터 정의\n",
    "vector_a = np.array([1, 2, 3])\n",
    "vector_b = np.array([4, 5, 6])\n",
    "\n",
    "# 벡터 내적 계산\n",
    "dot_product = np.dot(vector_a, vector_b)\n",
    "\n",
    "# 결과 출력\n",
    "print(f\"벡터 a: {vector_a}\")\n",
    "print(f\"벡터 b: {vector_b}\")\n",
    "print(f\"벡터 a와 b의 내적: {dot_product}\")\n"
   ]
  },
  {
   "cell_type": "markdown",
   "id": "d06a9594",
   "metadata": {},
   "source": [
    "다차원 벡터 예시"
   ]
  },
  {
   "cell_type": "code",
   "execution_count": null,
   "id": "edae2700",
   "metadata": {},
   "outputs": [],
   "source": [
    "# 만약 벡터가 더 큰 차원을 가진다면, 동일한 방식으로 내적을 계산할 수 있습니다. \n",
    "# 예를 들어, 4차원 벡터에 대해서도 동일하게 작동합니다."
   ]
  },
  {
   "cell_type": "code",
   "execution_count": 8,
   "id": "e7c4306b",
   "metadata": {},
   "outputs": [
    {
     "name": "stdout",
     "output_type": "stream",
     "text": [
      "벡터 c와 d의 내적: 70\n"
     ]
    }
   ],
   "source": [
    "vector_c = np.array([1, 2, 3, 4])\n",
    "vector_d = np.array([5, 6, 7, 8])\n",
    "\n",
    "dot_product_cd = np.dot(vector_c, vector_d)\n",
    "print(f\"벡터 c와 d의 내적: {dot_product_cd}\")\n"
   ]
  },
  {
   "cell_type": "markdown",
   "id": "c680d120",
   "metadata": {},
   "source": [
    "## 벡터 Norm (벡터의 크기)"
   ]
  },
  {
   "cell_type": "code",
   "execution_count": null,
   "id": "75766da9",
   "metadata": {},
   "outputs": [],
   "source": [
    "# 벡터의 Norm(벡터의 크기)는 벡터의 길이를 나타냅니다. \n",
    "# Norm은 여러 종류가 있으며, 가장 일반적인 것은 L2 Norm(유클리드 거리)입니다."
   ]
  },
  {
   "cell_type": "code",
   "execution_count": 6,
   "id": "d01080cb",
   "metadata": {},
   "outputs": [
    {
     "name": "stdout",
     "output_type": "stream",
     "text": [
      "벡터 a의 L2 Norm (유클리드 노름): 3.7416573867739413\n",
      "벡터 a의 L1 Norm (맨하탄 노름): 6.0\n",
      "벡터 a의 무한 Norm (최대 절댓값): 3.0\n"
     ]
    }
   ],
   "source": [
    "# L2 Norm (유클리드 노름)\n",
    "l2_norm = np.linalg.norm(vector_a)\n",
    "print(f\"벡터 a의 L2 Norm (유클리드 노름): {l2_norm}\")\n",
    "\n",
    "# L1 Norm (맨하탄 노름)\n",
    "l1_norm = np.linalg.norm(vector_a, ord=1)\n",
    "print(f\"벡터 a의 L1 Norm (맨하탄 노름): {l1_norm}\")\n",
    "\n",
    "# 무한 Norm (최대 절댓값)\n",
    "inf_norm = np.linalg.norm(vector_a, ord=np.inf)\n",
    "print(f\"벡터 a의 무한 Norm (최대 절댓값): {inf_norm}\")\n"
   ]
  },
  {
   "cell_type": "code",
   "execution_count": null,
   "id": "c569b743",
   "metadata": {},
   "outputs": [],
   "source": []
  },
  {
   "cell_type": "markdown",
   "id": "2d2d666c",
   "metadata": {},
   "source": [
    "# 행렬"
   ]
  },
  {
   "cell_type": "markdown",
   "id": "ef7fc52a",
   "metadata": {},
   "source": [
    "## 행렬 덧셈, 뺄셈, 원소별 곱셈, 원소별 나눗셈"
   ]
  },
  {
   "cell_type": "code",
   "execution_count": null,
   "id": "2c822f7b",
   "metadata": {},
   "outputs": [],
   "source": [
    "# 행렬의 사칙연산(덧셈, 뺄셈, 곱셈, 나눗셈)을 구현하기 위해 NumPy 라이브러리를 사용할 수 있습니다"
   ]
  },
  {
   "cell_type": "code",
   "execution_count": null,
   "id": "bdf572bc",
   "metadata": {},
   "outputs": [],
   "source": [
    "# 행렬 덧셈, 뺄셈, 원소별 곱셈, 나눗셈은 각 대응하는 원소끼리 연산이 이루어집니다.\n",
    "# **행렬 곱셈(점곱)**은 수학적으로 정의된 방식으로, 첫 번째 행렬의 행과 두 번째 행렬의 열을 곱하고 더하는 방식으로 계산됩니다."
   ]
  },
  {
   "cell_type": "code",
   "execution_count": 9,
   "id": "03a5dd1c",
   "metadata": {},
   "outputs": [
    {
     "name": "stdout",
     "output_type": "stream",
     "text": [
      "행렬 덧셈:\n",
      "[[ 8 10 12]\n",
      " [14 16 18]]\n",
      "행렬 뺄셈:\n",
      "[[-6 -6 -6]\n",
      " [-6 -6 -6]]\n",
      "행렬 원소별 곱셈:\n",
      "[[ 7 16 27]\n",
      " [40 55 72]]\n",
      "행렬 원소별 나눗셈:\n",
      "[[0.14285714 0.25       0.33333333]\n",
      " [0.4        0.45454545 0.5       ]]\n"
     ]
    }
   ],
   "source": [
    "import numpy as np\n",
    "\n",
    "# 두 개의 행렬 정의\n",
    "matrix_a = np.array([[1, 2, 3], [4, 5, 6]])\n",
    "matrix_b = np.array([[7, 8, 9], [10, 11, 12]])\n",
    "\n",
    "# 행렬 덧셈\n",
    "matrix_add = matrix_a + matrix_b\n",
    "print(f\"행렬 덧셈:\\n{matrix_add}\")\n",
    "\n",
    "# 행렬 뺄셈\n",
    "matrix_sub = matrix_a - matrix_b\n",
    "print(f\"행렬 뺄셈:\\n{matrix_sub}\")\n",
    "\n",
    "# 행렬 원소별 곱셈\n",
    "matrix_mul = matrix_a * matrix_b\n",
    "print(f\"행렬 원소별 곱셈:\\n{matrix_mul}\")\n",
    "\n",
    "# 행렬 원소별 나눗셈\n",
    "matrix_div = matrix_a / matrix_b\n",
    "print(f\"행렬 원소별 나눗셈:\\n{matrix_div}\")\n"
   ]
  },
  {
   "cell_type": "code",
   "execution_count": 10,
   "id": "e522bbfa",
   "metadata": {},
   "outputs": [
    {
     "name": "stdout",
     "output_type": "stream",
     "text": [
      "행렬 점곱 (수학적 곱셈):\n",
      "[[ 50  68]\n",
      " [122 167]]\n"
     ]
    }
   ],
   "source": [
    "# 행렬 곱셈 (점곱)\n",
    "matrix_dot = np.dot(matrix_a, matrix_b.T)  # 두 번째 행렬은 전치하여 곱셈 가능\n",
    "print(f\"행렬 점곱 (수학적 곱셈):\\n{matrix_dot}\")\n"
   ]
  },
  {
   "cell_type": "code",
   "execution_count": null,
   "id": "5653e88b",
   "metadata": {},
   "outputs": [],
   "source": [
    "# 행렬 곱셈은 첫 번째 행렬의 행과 두 번째 행렬의 열을 곱하고 더해서 계산됩니다. \n",
    "# 여기서는 matrix_b.T로 전치 행렬을 사용하여 곱셈이 가능하도록 했습니다."
   ]
  },
  {
   "cell_type": "markdown",
   "id": "d56417c2",
   "metadata": {},
   "source": [
    "## 행렬의 역행렬(inverse matrix)"
   ]
  },
  {
   "cell_type": "code",
   "execution_count": null,
   "id": "8f38363a",
   "metadata": {},
   "outputs": [],
   "source": [
    "# 역행렬은 정사각 행렬에 대해서만 존재하며, 행렬 𝐴의 역행렬 𝐴−1 는 다음과 같은 관계를 만족합니다:\n",
    "# 𝐴⋅𝐴−1=𝐼\n"
   ]
  },
  {
   "cell_type": "code",
   "execution_count": null,
   "id": "0f819c89",
   "metadata": {},
   "outputs": [],
   "source": [
    "# NumPy에서는 np.linalg.inv() 함수를 사용하여 행렬의 역행렬을 구할 수 있습니다."
   ]
  },
  {
   "cell_type": "code",
   "execution_count": 11,
   "id": "3bde8ccb",
   "metadata": {},
   "outputs": [
    {
     "name": "stdout",
     "output_type": "stream",
     "text": [
      "원본 행렬:\n",
      "[[4 7]\n",
      " [2 6]]\n",
      "\n",
      "역행렬:\n",
      "[[ 0.6 -0.7]\n",
      " [-0.2  0.4]]\n",
      "\n",
      "원본 행렬과 역행렬의 곱:\n",
      "[[ 1.00000000e+00 -1.11022302e-16]\n",
      " [-1.11022302e-16  1.00000000e+00]]\n"
     ]
    }
   ],
   "source": [
    "import numpy as np\n",
    "\n",
    "# 2x2 정사각 행렬 정의\n",
    "matrix = np.array([[4, 7], [2, 6]])\n",
    "\n",
    "# 행렬의 역행렬 계산\n",
    "inverse_matrix = np.linalg.inv(matrix)\n",
    "\n",
    "# 결과 출력\n",
    "print(\"원본 행렬:\")\n",
    "print(matrix)\n",
    "\n",
    "print(\"\\n역행렬:\")\n",
    "print(inverse_matrix)\n",
    "\n",
    "# 행렬과 역행렬을 곱하여 단위 행렬이 되는지 확인\n",
    "identity_matrix = np.dot(matrix, inverse_matrix)\n",
    "print(\"\\n원본 행렬과 역행렬의 곱:\")\n",
    "print(identity_matrix)\n"
   ]
  },
  {
   "cell_type": "markdown",
   "id": "d5f39bea",
   "metadata": {},
   "source": [
    "## 행렬의 전치(Transpose of a matrix)"
   ]
  },
  {
   "cell_type": "code",
   "execution_count": null,
   "id": "8f8e9c95",
   "metadata": {},
   "outputs": [],
   "source": [
    "# 행렬의 전치(Transpose of a matrix)를 계산하려면 NumPy 라이브러리를 사용할 수 있습니다.\n",
    "# 전치행렬은 원래 행렬의 행과 열을 서로 바꾸는 연산입니다.\n",
    "\n",
    "# NumPy에서는 np.transpose() 함수나 .T 속성을 사용하여 행렬의 전치를 쉽게 계산할 수 있습니다."
   ]
  },
  {
   "cell_type": "code",
   "execution_count": 12,
   "id": "bf6ee12f",
   "metadata": {},
   "outputs": [
    {
     "name": "stdout",
     "output_type": "stream",
     "text": [
      "원본 행렬:\n",
      "[[1 2 3]\n",
      " [4 5 6]]\n",
      "\n",
      "전치 행렬:\n",
      "[[1 4]\n",
      " [2 5]\n",
      " [3 6]]\n"
     ]
    }
   ],
   "source": [
    "import numpy as np\n",
    "\n",
    "# 원본 행렬 정의\n",
    "matrix = np.array([[1, 2, 3], [4, 5, 6]])\n",
    "\n",
    "# 전치행렬 계산\n",
    "transpose_matrix = np.transpose(matrix)\n",
    "\n",
    "# 결과 출력\n",
    "print(\"원본 행렬:\")\n",
    "print(matrix)\n",
    "\n",
    "print(\"\\n전치 행렬:\")\n",
    "print(transpose_matrix)\n"
   ]
  },
  {
   "cell_type": "code",
   "execution_count": null,
   "id": "96912c4f",
   "metadata": {},
   "outputs": [],
   "source": [
    "# 다른 방법으로 전치 계산\n",
    "# NumPy에서는 전치행렬을 계산하는 여러 방법이 있습니다:\n",
    "\n",
    "# np.transpose(matrix):\n",
    "\n",
    "# np.transpose() 함수를 사용하여 전치행렬을 계산합니다.\n",
    "# matrix.T:\n",
    "\n",
    "# NumPy 배열 객체 자체에 포함된 .T 속성을 사용하여 전치행렬을 간단히 얻을 수 있습니다."
   ]
  },
  {
   "cell_type": "code",
   "execution_count": 13,
   "id": "297a1e1a",
   "metadata": {},
   "outputs": [
    {
     "name": "stdout",
     "output_type": "stream",
     "text": [
      "전치 행렬 (matrix.T):\n",
      "[[1 4]\n",
      " [2 5]\n",
      " [3 6]]\n"
     ]
    }
   ],
   "source": [
    "# 전치 행렬 다른 방식\n",
    "transpose_matrix_alt = matrix.T\n",
    "print(\"전치 행렬 (matrix.T):\")\n",
    "print(transpose_matrix_alt)\n"
   ]
  },
  {
   "cell_type": "code",
   "execution_count": null,
   "id": "6a6ad272",
   "metadata": {},
   "outputs": [],
   "source": []
  },
  {
   "cell_type": "markdown",
   "id": "b9aec6b1",
   "metadata": {},
   "source": [
    "# 미분"
   ]
  },
  {
   "cell_type": "markdown",
   "id": "8e48ed30",
   "metadata": {},
   "source": [
    "## 미분, 편미분, 전미분"
   ]
  },
  {
   "cell_type": "code",
   "execution_count": null,
   "id": "5e1c950a",
   "metadata": {},
   "outputs": [],
   "source": [
    "# SymPy 라이브러리를 사용하면 미분, 편미분, 그리고 전미분을 쉽게 계산할 수 있습니다.\n",
    "\n",
    "# 미분은 주어진 함수의 변화율을 구하고, \n",
    "# 편미분은 다변수 함수에서 특정 변수에 대한 변화율을 구합니다. \n",
    "# 전미분은 여러 변수의 미분을 합친 결과를 나타냅니다."
   ]
  },
  {
   "cell_type": "code",
   "execution_count": null,
   "id": "199a0261",
   "metadata": {},
   "outputs": [],
   "source": []
  },
  {
   "cell_type": "code",
   "execution_count": 16,
   "id": "6897d409",
   "metadata": {},
   "outputs": [
    {
     "name": "stdout",
     "output_type": "stream",
     "text": [
      "함수 f(x)의 미분: 2*x + 3\n",
      "함수 g(x, y)의 x에 대한 편미분: 2*x*y + 3*y**2\n",
      "함수 g(x, y)의 y에 대한 편미분: x**2 + 6*x*y\n",
      "함수 f(x, y)의 전미분: 4*x + 4*y\n"
     ]
    }
   ],
   "source": [
    "import sympy as sp\n",
    "\n",
    "# 변수 정의\n",
    "x, y = sp.symbols('x y')\n",
    "\n",
    "# 함수 정의\n",
    "f = x**2 + 3*x + 5\n",
    "\n",
    "# 1. 미분 (f'(x))\n",
    "f_prime = sp.diff(f, x)\n",
    "print(f\"함수 f(x)의 미분: {f_prime}\")\n",
    "\n",
    "# 2. 편미분 (g(x, y) = x^2 * y + 3xy^2 + 5에 대한 x와 y 편미분)\n",
    "g = x**2 * y + 3*x*y**2 + 5\n",
    "\n",
    "# g(x, y)에 대한 x에 대한 편미분\n",
    "g_partial_x = sp.diff(g, x)\n",
    "print(f\"함수 g(x, y)의 x에 대한 편미분: {g_partial_x}\")\n",
    "\n",
    "# g(x, y)에 대한 y에 대한 편미분\n",
    "g_partial_y = sp.diff(g, y)\n",
    "print(f\"함수 g(x, y)의 y에 대한 편미분: {g_partial_y}\")\n",
    "\n",
    "# 3. 전미분 (Total Derivative of f(x, y))\n",
    "# f(x, y) = x^2 + y^2 + 2xy 라는 함수가 있을 때\n",
    "f_total = x**2 + y**2 + 2*x*y\n",
    "\n",
    "# x와 y 모두에 대해 전미분을 계산\n",
    "df_dx = sp.diff(f_total, x)\n",
    "df_dy = sp.diff(f_total, y)\n",
    "\n",
    "# 전미분 (dx, dy 포함)\n",
    "df = df_dx + df_dy\n",
    "print(f\"함수 f(x, y)의 전미분: {df}\")\n"
   ]
  },
  {
   "cell_type": "code",
   "execution_count": null,
   "id": "36a98c81",
   "metadata": {},
   "outputs": [],
   "source": [
    "# 미분: 함수 f(x) = x^2 + 3x + 5에 대해 x에 대한 미분을 계산한 결과는 2*x + 3입니다.\n",
    "\n",
    "# 편미분: 함수 g(x, y) = x^2 * y + 3xy^2 + 5에 대해 각각의 변수 x와 y에 대한 편미분을 계산한 결과입니다.\n",
    "\n",
    "# g를 x에 대해 편미분한 결과는 2*x*y + 3*y^2입니다.\n",
    "# g를 y에 대해 편미분한 결과는 x^2 + 6*x*y입니다.\n",
    "# 전미분: 함수 f(x, y) = x^2 + y^2 + 2xy에 대해 x와 y에 대한 각각의 미분을 더한 결과는 4*x + 4*y입니다. 이는 전미분의 결과입니다."
   ]
  },
  {
   "cell_type": "markdown",
   "id": "136a8efe",
   "metadata": {},
   "source": [
    "## 행렬 미분(Matrix Differentiation)"
   ]
  },
  {
   "cell_type": "code",
   "execution_count": null,
   "id": "d8a52e9b",
   "metadata": {},
   "outputs": [],
   "source": [
    "# 행렬 미분(Matrix Differentiation)**을 계산하는 예시를 SymPy 라이브러리를 사용하여 보여드릴 수 있습니다. \n",
    "# 행렬 미분은 주로 벡터와 행렬을 다루는 최적화 문제에서 사용되며, 행렬의 각 요소에 대해 미분을 계산합니다."
   ]
  },
  {
   "cell_type": "code",
   "execution_count": null,
   "id": "b50d59f4",
   "metadata": {},
   "outputs": [],
   "source": [
    "# 주어진 함수:𝑓(𝑥)=𝑥𝑇𝐴𝑥이 함수에 대해 𝑥에 대해 미분을 구할 것입니다."
   ]
  },
  {
   "cell_type": "code",
   "execution_count": null,
   "id": "9d64d021",
   "metadata": {},
   "outputs": [],
   "source": []
  },
  {
   "cell_type": "code",
   "execution_count": 17,
   "id": "9e2155b0",
   "metadata": {},
   "outputs": [
    {
     "name": "stdout",
     "output_type": "stream",
     "text": [
      "함수 f(x) = x^T A x:\n",
      "[x₁⋅(2⋅x₁ + x₂) + x₂⋅(x₁ + 3⋅x₂)]\n",
      "\n",
      "벡터 x에 대한 미분 (그라디언트):\n",
      "⎡4⋅x₁ + 2⋅x₂⎤\n",
      "⎢           ⎥\n",
      "⎣2⋅x₁ + 6⋅x₂⎦\n"
     ]
    }
   ],
   "source": [
    "import sympy as sp\n",
    "\n",
    "# 벡터와 행렬 정의\n",
    "x1, x2 = sp.symbols('x1 x2')  # 벡터 x의 원소\n",
    "A = sp.Matrix([[2, 1], [1, 3]])  # 2x2 행렬 A\n",
    "x = sp.Matrix([x1, x2])  # 벡터 x\n",
    "\n",
    "# 함수 정의: f(x) = x^T A x\n",
    "f = x.T * A * x\n",
    "\n",
    "# f에 대한 벡터 x의 미분 계산 (그라디언트)\n",
    "df_dx = sp.Matrix([sp.diff(f, xi) for xi in x])\n",
    "\n",
    "# 결과 출력\n",
    "print(\"함수 f(x) = x^T A x:\")\n",
    "sp.pprint(f)\n",
    "\n",
    "print(\"\\n벡터 x에 대한 미분 (그라디언트):\")\n",
    "sp.pprint(df_dx)\n"
   ]
  },
  {
   "cell_type": "code",
   "execution_count": null,
   "id": "2500b512",
   "metadata": {},
   "outputs": [],
   "source": [
    "# 행렬과 벡터 정의:벡터 𝑥는 x1, x2로 정의되었고, 행렬 𝐴는 2x2 행렬로 정의됩니다.\n",
    "# 함수 𝑓(𝑥)는 벡터의 전치행렬과 행렬 𝐴, 그리고 벡터의 곱으로 구성됩니다.\n",
    "# 미분 (그라디언트):함수 𝑓(𝑥)를 벡터 𝑥에 대해 미분하면 그라디언트(Gradient)를 구할 수 있습니다. \n",
    "#     이 그라디언트는 𝑥가 변화할 때 함수 𝑓(𝑥)의 변화율을 나타냅니다.\n",
    "# 결과는 각 변수에 대한 미분으로 구성된 벡터입니다:\n",
    "# ∇𝑓\n",
    "\n",
    "# 응용 예시\n",
    "# 행렬 미분은 기계 학습에서 자주 사용되며, \n",
    "# 특히 **행렬 방정식에서 경사 하강법(Gradient Descent)**을 사용할 때 유용합니다.\n",
    "# 이러한 그라디언트를 이용해 손실 함수의 최소값을 찾는 데 사용됩니다."
   ]
  },
  {
   "cell_type": "markdown",
   "id": "cddc2481",
   "metadata": {},
   "source": [
    "# 경사 하강법(Gradient Descent)"
   ]
  },
  {
   "cell_type": "code",
   "execution_count": null,
   "id": "16a571c9",
   "metadata": {},
   "outputs": [],
   "source": [
    "# 경사 하강법 알고리즘 개요\n",
    "# 경사 하강법은 함수의 최소값을 찾기 위해 반복적으로 기울기(경사)를 따라 이동하는 최적화 알고리즘입니다. \n",
    "# 각 반복 단계에서 다음과 같은 업데이트가 이루어집니다:"
   ]
  },
  {
   "cell_type": "code",
   "execution_count": null,
   "id": "2e2779d6",
   "metadata": {},
   "outputs": [],
   "source": [
    "# x new =x old​ −η⋅∇f(x)\n",
    "\n",
    "# x new :  업데이트된 값\n",
    "# 𝜂 : 학습률(learning rate), 즉 경사에 따라 얼마나 빠르게 이동할지를 결정하는 매개변수\n",
    "# ∇𝑓(𝑥) :𝑓(𝑥)의 미분값(기울기)"
   ]
  },
  {
   "cell_type": "code",
   "execution_count": null,
   "id": "90825149",
   "metadata": {},
   "outputs": [],
   "source": [
    "# 이차 함수 𝑓(𝑥)=𝑥^2 의 최소값을 찾기 위해 경사 하강법을 사용하는 코드"
   ]
  },
  {
   "cell_type": "code",
   "execution_count": 18,
   "id": "3a0767bd",
   "metadata": {},
   "outputs": [
    {
     "name": "stdout",
     "output_type": "stream",
     "text": [
      "Iteration 1: x = 8.0, f(x) = 64.0\n",
      "Iteration 2: x = 6.4, f(x) = 40.96000000000001\n",
      "Iteration 3: x = 5.12, f(x) = 26.2144\n",
      "Iteration 4: x = 4.096, f(x) = 16.777216\n",
      "Iteration 5: x = 3.2768, f(x) = 10.73741824\n",
      "Iteration 6: x = 2.62144, f(x) = 6.871947673600001\n",
      "Iteration 7: x = 2.0971520000000003, f(x) = 4.398046511104002\n",
      "Iteration 8: x = 1.6777216000000004, f(x) = 2.8147497671065613\n",
      "Iteration 9: x = 1.3421772800000003, f(x) = 1.801439850948199\n",
      "Iteration 10: x = 1.0737418240000003, f(x) = 1.1529215046068475\n",
      "Iteration 11: x = 0.8589934592000003, f(x) = 0.7378697629483825\n",
      "Iteration 12: x = 0.6871947673600002, f(x) = 0.47223664828696477\n",
      "Iteration 13: x = 0.5497558138880001, f(x) = 0.3022314549036574\n",
      "Iteration 14: x = 0.43980465111040007, f(x) = 0.19342813113834073\n",
      "Iteration 15: x = 0.35184372088832006, f(x) = 0.12379400392853807\n",
      "Iteration 16: x = 0.281474976710656, f(x) = 0.07922816251426434\n",
      "Iteration 17: x = 0.22517998136852482, f(x) = 0.050706024009129186\n",
      "Iteration 18: x = 0.18014398509481985, f(x) = 0.03245185536584268\n",
      "Iteration 19: x = 0.14411518807585588, f(x) = 0.020769187434139313\n",
      "Iteration 20: x = 0.11529215046068471, f(x) = 0.013292279957849162\n",
      "\n",
      "최종 값: x = 0.11529215046068471, f(x) = 0.013292279957849162\n"
     ]
    },
    {
     "data": {
      "image/png": "[encoded data removed]",
      "text/plain": [
       "<Figure size 640x480 with 1 Axes>"
      ]
     },
     "metadata": {},
     "output_type": "display_data"
    }
   ],
   "source": [
    "import numpy as np\n",
    "import matplotlib.pyplot as plt\n",
    "\n",
    "# 목적 함수 정의 (f(x) = x^2)# 목적 함수와 기울기 함수 정의:\n",
    "# **f(x) = x^2**는 최소값을 찾고자 하는 함수입니다.\n",
    "# **grad_f(x) = 2x**는 함수 \n",
    "\n",
    "\n",
    "def f(x):\n",
    "    return x**2\n",
    "\n",
    "# 함수의 기울기(미분값) (f'(x) = 2x)\n",
    "def grad_f(x):\n",
    "    return 2 * x\n",
    "\n",
    "# 경사 하강법 함수\n",
    "# gradient_descent 함수는 경사 하강법 알고리즘을 구현합니다. 주어진 기울기 함수, 초기값, 학습률, 그리고 반복 횟수에 따라 최적의 값을 찾습니다.\n",
    "# 각 반복 단계에서 기울기를 계산하고, 그에 따라 𝑥 값을 업데이트합니다.\n",
    "\n",
    "\n",
    "def gradient_descent(grad_f, initial_x, learning_rate, num_iterations):\n",
    "    x = initial_x\n",
    "    history = []  # 각 반복 단계에서의 x 값을 기록하기 위한 리스트\n",
    "    \n",
    "    for i in range(num_iterations):\n",
    "        gradient = grad_f(x)  # 기울기 계산\n",
    "        x = x - learning_rate * gradient  # x 값 업데이트\n",
    "        history.append(x)  # 각 단계에서의 x 값을 기록\n",
    "        \n",
    "        # 출력 (중간 과정 확인)\n",
    "        print(f\"Iteration {i+1}: x = {x}, f(x) = {f(x)}\")\n",
    "    \n",
    "    return x, history\n",
    "\n",
    "# 초기값, 학습률, 반복 횟수 설정\n",
    "initial_x = 10  # 초기값\n",
    "learning_rate = 0.1  # 학습률\n",
    "num_iterations = 20  # 반복 횟수\n",
    "\n",
    "# 경사 하강법 실행\n",
    "final_x, history = gradient_descent(grad_f, initial_x, learning_rate, num_iterations)\n",
    "\n",
    "# 결과 출력\n",
    "print(f\"\\n최종 값: x = {final_x}, f(x) = {f(final_x)}\")\n",
    "\n",
    "# 그래프 시각화\n",
    "x_vals = np.linspace(-10, 10, 100)\n",
    "y_vals = f(x_vals)\n",
    "\n",
    "plt.plot(x_vals, y_vals, label=\"f(x) = x^2\")\n",
    "plt.scatter(history, [f(x) for x in history], color='red', label=\"Gradient Descent steps\")\n",
    "plt.title(\"Gradient Descent Optimization\")\n",
    "plt.xlabel(\"x\")\n",
    "plt.ylabel(\"f(x)\")\n",
    "plt.legend()\n",
    "plt.grid(True)\n",
    "plt.show()\n"
   ]
  },
  {
   "cell_type": "code",
   "execution_count": null,
   "id": "e6493f15",
   "metadata": {},
   "outputs": [],
   "source": [
    "# 그래프에는 함수 𝑓(𝑥)=𝑥^2 와 함께 경사 하강법이 이동한 경로가 빨간 점으로 표시됩니다. \n",
    "# 점들이 함수의 최솟값인 𝑥=0으로 수렴하는 모습을 볼 수 있습니다."
   ]
  },
  {
   "cell_type": "code",
   "execution_count": null,
   "id": "9a2a996e",
   "metadata": {},
   "outputs": [],
   "source": [
    "# 설명\n",
    "# 경사 하강법은 함수의 최소값을 찾기 위해 기울기(경사)를 따라 이동하는 알고리즘입니다.\n",
    "# 초기값을 𝑥=10으로 설정한 후, 각 단계에서 기울기 값을 계산하고 𝑥를 업데이트합니다.\n",
    "# 학습률이 0.1로 설정되어, 기울기에 비례한 크기로 이동하며, 20번의 반복 후 \n",
    "# 𝑥≈0으로 수렴합니다."
   ]
  },
  {
   "cell_type": "markdown",
   "id": "d26863ba",
   "metadata": {},
   "source": [
    "# 교차 엔트로피(Cross-Entropy)"
   ]
  },
  {
   "cell_type": "code",
   "execution_count": null,
   "id": "a03201a8",
   "metadata": {},
   "outputs": [],
   "source": [
    "# 교차 엔트로피(Cross-Entropy)**는 분류 문제에서 모델의 예측과 실제 정답 간의 차이를 측정하는 손실 함수로 많이 사용됩니다. \n",
    "# 특히 이진 분류와 다중 클래스 분류에서 교차 엔트로피가 사용됩니다. \n",
    "# 파이썬에서는 NumPy를 사용하여 쉽게 구현할 수 있습니다."
   ]
  },
  {
   "cell_type": "markdown",
   "id": "d9777158",
   "metadata": {},
   "source": [
    "## 이진 교차 엔트로피(Binary Cross-Entropy)"
   ]
  },
  {
   "cell_type": "code",
   "execution_count": 19,
   "id": "ef6bbcd9",
   "metadata": {},
   "outputs": [
    {
     "name": "stdout",
     "output_type": "stream",
     "text": [
      "이진 교차 엔트로피: 0.22708064055624455\n"
     ]
    }
   ],
   "source": [
    "import numpy as np\n",
    "\n",
    "# 이진 교차 엔트로피 함수 정의\n",
    "def binary_cross_entropy(y_true, y_pred):\n",
    "    # y_pred 값이 0이나 1에 너무 가까운 경우 log 계산이 되지 않으므로 이를 방지\n",
    "    epsilon = 1e-15\n",
    "    y_pred = np.clip(y_pred, epsilon, 1 - epsilon)\n",
    "    \n",
    "    # 교차 엔트로피 계산\n",
    "    bce = -np.mean(y_true * np.log(y_pred) + (1 - y_true) * np.log(1 - y_pred))\n",
    "    return bce\n",
    "\n",
    "# 실제 레이블 (0 또는 1)\n",
    "y_true = np.array([1, 0, 1, 1])\n",
    "\n",
    "# 예측 확률 (모델이 예측한 값, 0과 1 사이의 값)\n",
    "y_pred = np.array([0.9, 0.2, 0.8, 0.7])\n",
    "\n",
    "# 이진 교차 엔트로피 계산\n",
    "bce_value = binary_cross_entropy(y_true, y_pred)\n",
    "print(f\"이진 교차 엔트로피: {bce_value}\")\n"
   ]
  },
  {
   "cell_type": "code",
   "execution_count": null,
   "id": "98e1c81d",
   "metadata": {},
   "outputs": [],
   "source": [
    "# 이진 교차 엔트로피:\n",
    "\n",
    "# 실제 레이블 y_true와 모델이 예측한 확률 y_pred가 주어졌을 때, 교차 엔트로피를 계산합니다.\n",
    "# 𝑦=1인 경우 모델이 예측한 확률이 높을수록 (즉, 𝑝가 1에 가까울수록) 교차 엔트로피는 낮아집니다.\n",
    "# 𝑦=0인 경우 1−𝑝가 1에 가까울수록 교차 엔트로피는 낮아집니다."
   ]
  },
  {
   "cell_type": "code",
   "execution_count": null,
   "id": "b887f811",
   "metadata": {},
   "outputs": [],
   "source": []
  },
  {
   "cell_type": "markdown",
   "id": "154c4d0b",
   "metadata": {},
   "source": [
    "## 다중 클래스 교차 엔트로피(Multiclass Cross-Entropy)"
   ]
  },
  {
   "cell_type": "code",
   "execution_count": 20,
   "id": "cce72bbf",
   "metadata": {},
   "outputs": [
    {
     "name": "stdout",
     "output_type": "stream",
     "text": [
      "다중 클래스 교차 엔트로피: 0.3121644797305582\n"
     ]
    }
   ],
   "source": [
    "import numpy as np\n",
    "\n",
    "# 다중 클래스 교차 엔트로피 함수 정의\n",
    "def multiclass_cross_entropy(y_true, y_pred):\n",
    "    # y_pred 값이 0이나 1에 너무 가까운 경우 log 계산이 되지 않으므로 이를 방지\n",
    "    epsilon = 1e-15\n",
    "    y_pred = np.clip(y_pred, epsilon, 1 - epsilon)\n",
    "    \n",
    "    # 교차 엔트로피 계산\n",
    "    mce = -np.sum(y_true * np.log(y_pred)) / y_true.shape[0]\n",
    "    return mce\n",
    "\n",
    "# 실제 레이블 (원-핫 인코딩)\n",
    "y_true = np.array([[1, 0, 0], \n",
    "                   [0, 1, 0], \n",
    "                   [0, 0, 1]])\n",
    "\n",
    "# 예측 확률 (모델이 예측한 각 클래스에 대한 확률)\n",
    "y_pred = np.array([[0.8, 0.1, 0.1],\n",
    "                   [0.2, 0.7, 0.1],\n",
    "                   [0.1, 0.2, 0.7]])\n",
    "\n",
    "# 다중 클래스 교차 엔트로피 계산\n",
    "mce_value = multiclass_cross_entropy(y_true, y_pred)\n",
    "print(f\"다중 클래스 교차 엔트로피: {mce_value}\")\n"
   ]
  },
  {
   "cell_type": "code",
   "execution_count": 21,
   "id": "75c3137a",
   "metadata": {},
   "outputs": [],
   "source": [
    "# 다중 클래스 교차 엔트로피:\n",
    "\n",
    "# 각 레이블은 원-핫 인코딩으로 표현되며, 모델의 예측 확률과 실제 레이블의 차이를 측정합니다.\n",
    "# 각 클래스별로 교차 엔트로피를 계산한 후, 이를 합산하여 평균을 구합니다."
   ]
  },
  {
   "cell_type": "code",
   "execution_count": null,
   "id": "40f0e71e",
   "metadata": {},
   "outputs": [],
   "source": []
  }
 ],
 "metadata": {
  "kernelspec": {
   "display_name": "Python 3 (ipykernel)",
   "language": "python",
   "name": "python3"
  },
  "language_info": {
   "codemirror_mode": {
    "name": "ipython",
    "version": 3
   },
   "file_extension": ".py",
   "mimetype": "text/x-python",
   "name": "python",
   "nbconvert_exporter": "python",
   "pygments_lexer": "ipython3",
   "version": "3.9.11"
  },
  "toc": {
   "base_numbering": 1,
   "nav_menu": {},
   "number_sections": true,
   "sideBar": true,
   "skip_h1_title": false,
   "title_cell": "Table of Contents",
   "title_sidebar": "Contents",
   "toc_cell": false,
   "toc_position": {},
   "toc_section_display": true,
   "toc_window_display": false
  }
 },
 "nbformat": 4,
 "nbformat_minor": 5
}
