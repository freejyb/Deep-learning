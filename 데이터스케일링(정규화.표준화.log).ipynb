{
 "cells": [
  {
   "cell_type": "markdown",
   "id": "84be1248",
   "metadata": {},
   "source": [
    "데이터 전처리"
   ]
  },
  {
   "cell_type": "markdown",
   "id": "6e7309cf",
   "metadata": {},
   "source": [
    "#  정규화 (Normalization):Min-Max 정규화"
   ]
  },
  {
   "cell_type": "code",
   "execution_count": null,
   "id": "fb6e70e0",
   "metadata": {},
   "outputs": [],
   "source": [
    "# 정규화는 데이터를 특정 범위(보통 [0, 1])로 스케일링하는 과정입니다. \n",
    "# 이는 각 특징(feature) 값들이 동일한 범위를 가지도록 합니다.\n",
    "\n",
    "# 정규화(𝑋)= (𝑋 − 𝑋min) / (𝑋max − 𝑋min) "
   ]
  },
  {
   "cell_type": "markdown",
   "id": "49467bc8",
   "metadata": {},
   "source": [
    "## 준비"
   ]
  },
  {
   "cell_type": "code",
   "execution_count": 2,
   "id": "cb24f260",
   "metadata": {},
   "outputs": [],
   "source": [
    "from sklearn.preprocessing import MinMaxScaler\n",
    "import numpy as np\n",
    "\n",
    "# 예시 데이터 (각 열은 하나의 특징을 나타냄)\n",
    "# 데이터 준비\n",
    "\n",
    "data = np.array([[100, 0.001],\n",
    "                 [8, 0.05],\n",
    "                 [50, 0.005]])"
   ]
  },
  {
   "cell_type": "markdown",
   "id": "174842d8",
   "metadata": {},
   "source": [
    "## 정규화"
   ]
  },
  {
   "cell_type": "code",
   "execution_count": 3,
   "id": "f83ff92b",
   "metadata": {},
   "outputs": [
    {
     "name": "stdout",
     "output_type": "stream",
     "text": [
      "[[1.         0.        ]\n",
      " [0.         1.        ]\n",
      " [0.45652174 0.08163265]]\n"
     ]
    }
   ],
   "source": [
    "# MinMaxScaler를 사용한 정규화 (0 ~ 1 범위로)\n",
    "\n",
    "scaler = MinMaxScaler()\n",
    "normalized_data = scaler.fit_transform(data)\n",
    "\n",
    "print(normalized_data)"
   ]
  },
  {
   "cell_type": "markdown",
   "id": "7b91d091",
   "metadata": {},
   "source": [
    "## 계산과정 수학적 이해"
   ]
  },
  {
   "cell_type": "markdown",
   "id": "2d4e252e",
   "metadata": {},
   "source": [
    "### 원본 데이터"
   ]
  },
  {
   "cell_type": "code",
   "execution_count": 4,
   "id": "db4a53b0",
   "metadata": {},
   "outputs": [],
   "source": [
    "\n",
    "# 특징 1 (A)\t특징 2 (B)\n",
    "# 1\t    100\t0.001\n",
    "# 2\t    8\t0.050\n",
    "# 3\t    50\t0.005"
   ]
  },
  {
   "cell_type": "markdown",
   "id": "24a3304b",
   "metadata": {},
   "source": [
    "### 정규화된 데이터"
   ]
  },
  {
   "cell_type": "code",
   "execution_count": 5,
   "id": "34cc2af3",
   "metadata": {},
   "outputs": [],
   "source": [
    "# MinMaxScaler 변환 과정 설명\n",
    "# 특징 1 (A):\n",
    "# 최소값: 𝑋min=8 ,최대값: 𝑋max=100\n",
    "# 첫 번째 데이터(100)는 최대값이므로, \n",
    "# 𝑋= (100−8)/(100-8) =1.0로 변환됩니다.\n",
    "# 두 번째 데이터(8)는 최소값이므로, \n",
    "# 𝑋′=(8−8)/(100−8)=0.0로 변환됩니다.\n",
    "# 세 번째 데이터(50)는 중간값이므로, \n",
    "# 𝑋′=(50−8)/(100−8)= 0.490196로 변환됩니다.\n",
    "# 특징 2 (B):\n",
    "# 최소값: 𝑋min=0.001\n",
    "# 최대값: 𝑋max=0.050\n",
    "\n",
    "# 첫 번째 데이터(0.001)는 최소값이므로, \n",
    "# 𝑋′=(0.001−0.001)/(0.050−0.001)=0.0로 변환됩니다.\n",
    "# 두 번째 데이터(0.050)는 최대값이므로, \n",
    "# 𝑋′=(0.050−0.001)/(0.050−0.001)=1.0 로 변환됩니다.\n",
    "# 세 번째 데이터(0.005)는 중간값이므로, \n",
    "# 𝑋′=(0.005−0.001)/(0.050−0.001)=0.08 로 변환됩니다."
   ]
  },
  {
   "cell_type": "markdown",
   "id": "b41b2c55",
   "metadata": {},
   "source": [
    "# 표준화(Standardization)"
   ]
  },
  {
   "cell_type": "code",
   "execution_count": 6,
   "id": "be5b832c",
   "metadata": {},
   "outputs": [],
   "source": [
    "# 표준화는 데이터를 평균이 0, 표준편차가 1이 되도록 변환하는 과정입니다. \n",
    "# 이는 데이터가 평균 중심으로 모이고, 각 특징의 변동성을 동일하게 맞추는 데 사용됩니다.\n",
    "\n",
    "# 이를 통해 각 특성이 동일한 스케일을 가지며, 데이터의 분포가 정규 분포를 따르도록 만듭니다. \n",
    "# 표준화는 머신러닝에서 특징 값의 범위를 균일하게 만들어주는 데 중요한 역할을 합니다.\n",
    "\n",
    "# 표준화(X ′) =  (X−μ) / σ\n"
   ]
  },
  {
   "cell_type": "markdown",
   "id": "7b37886a",
   "metadata": {},
   "source": [
    "## 준비"
   ]
  },
  {
   "cell_type": "code",
   "execution_count": 7,
   "id": "05d6c5f3",
   "metadata": {},
   "outputs": [],
   "source": [
    "# 라이브러리\n",
    "from sklearn.preprocessing import StandardScaler\n",
    "import numpy as np\n",
    "\n",
    "data = np.array([[100, 0.001],\n",
    "                 [8, 0.05],\n",
    "                 [50, 0.005]])"
   ]
  },
  {
   "cell_type": "markdown",
   "id": "f6f9c6d8",
   "metadata": {},
   "source": [
    "## 표준화 "
   ]
  },
  {
   "cell_type": "code",
   "execution_count": 8,
   "id": "2337fc44",
   "metadata": {},
   "outputs": [
    {
     "name": "stdout",
     "output_type": "stream",
     "text": [
      "[[ 1.25865951 -0.79521872]\n",
      " [-1.18774911  1.41038791]\n",
      " [-0.07091039 -0.61516919]]\n"
     ]
    }
   ],
   "source": [
    "scaler = StandardScaler()\n",
    "standardized_data = scaler.fit_transform(data)\n",
    "\n",
    "print(standardized_data)"
   ]
  },
  {
   "cell_type": "markdown",
   "id": "8cdbf34c",
   "metadata": {},
   "source": [
    "## 계산과정 수학적 이해"
   ]
  },
  {
   "cell_type": "code",
   "execution_count": 9,
   "id": "fce893a9",
   "metadata": {},
   "outputs": [],
   "source": [
    "# 표준화(X ′) =  (X−μ) / σ\n",
    "\n",
    "\n",
    "\n",
    "# 특징 1 (A)\t특징 2 (B)\n",
    "# 1\t100\t0.001\n",
    "# 2\t8\t0.050\n",
    "# 3\t50\t0.005\n",
    "\n",
    "\n",
    "# 표준화 과정을 수학적으로 설명\n",
    "# 특징 1 (A):\n",
    "# 평균과 표준편차를 계산한 후, 표준화 공식을 사용하여 각 데이터를 변환합니다.\n",
    "\n",
    "# 평균 (𝜇) 계산:\n",
    "#     𝜇𝐴= (100+8+50)/3=158/3= 52.67\n",
    "\n",
    "# 표준편차 (𝜎) 계산 \n",
    "\n",
    "# σ A​  ≈37.99\n",
    "\n",
    "\n",
    "# 데이터 1 (100):\n",
    "# 𝑋1′= (100−52.67)/37.99=47.33/37.99≈1.25\n",
    "\n",
    "# 데이터 2 (8):\n",
    "# 𝑋2′= (8−52.67)/37.99=−44.67/37.99≈−1.18\n",
    "\n",
    "# 데이터 3 (50):\n",
    "# 𝑋3′=(50−52.67)/37.99=−2.67/37.99 ≈−0.07\n"
   ]
  },
  {
   "cell_type": "markdown",
   "id": "afba4678",
   "metadata": {},
   "source": [
    "# 로그 변환 (Log Transformation)"
   ]
  },
  {
   "cell_type": "code",
   "execution_count": 10,
   "id": "2e87bd39",
   "metadata": {},
   "outputs": [],
   "source": [
    "# 로그 변환은 데이터의 분포가 매우 비대칭적일 때, 데이터의 분포를 정규 분포에 가깝게 하기 위해 사용됩니다. \n",
    "# 로그 변환은 큰 값들을 축소하는 효과를 줍니다."
   ]
  },
  {
   "cell_type": "code",
   "execution_count": 11,
   "id": "8f2c9e94",
   "metadata": {},
   "outputs": [
    {
     "name": "stdout",
     "output_type": "stream",
     "text": [
      "[[0.69314718 1.09861229]\n",
      " [1.09861229 1.38629436]\n",
      " [1.38629436 1.60943791]\n",
      " [1.60943791 1.79175947]]\n"
     ]
    }
   ],
   "source": [
    "import numpy as np\n",
    "\n",
    "# 예시 데이터 (양수 데이터)\n",
    "data = np.array([[1, 2], [2, 3], [3, 4], [4, 5]])\n",
    "\n",
    "# 로그 변환 (log(x))\n",
    "log_transformed_data = np.log1p(data)  # log1p는 log(1 + x)로 0에 가까운 값에서 안전하게 사용\n",
    "\n",
    "print(log_transformed_data)"
   ]
  },
  {
   "cell_type": "code",
   "execution_count": null,
   "id": "dc8dbdd8",
   "metadata": {},
   "outputs": [],
   "source": []
  }
 ],
 "metadata": {
  "kernelspec": {
   "display_name": "Python 3 (ipykernel)",
   "language": "python",
   "name": "python3"
  },
  "language_info": {
   "codemirror_mode": {
    "name": "ipython",
    "version": 3
   },
   "file_extension": ".py",
   "mimetype": "text/x-python",
   "name": "python",
   "nbconvert_exporter": "python",
   "pygments_lexer": "ipython3",
   "version": "3.9.11"
  },
  "toc": {
   "base_numbering": 1,
   "nav_menu": {},
   "number_sections": true,
   "sideBar": true,
   "skip_h1_title": false,
   "title_cell": "Table of Contents",
   "title_sidebar": "Contents",
   "toc_cell": false,
   "toc_position": {},
   "toc_section_display": true,
   "toc_window_display": false
  }
 },
 "nbformat": 4,
 "nbformat_minor": 5
}
