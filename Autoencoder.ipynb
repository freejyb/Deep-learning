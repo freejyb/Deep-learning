{
 "cells": [
  {
   "cell_type": "markdown",
   "id": "99f1a4e5",
   "metadata": {
    "id": "99f1a4e5"
   },
   "source": [
    "오토인코더(Autoencoder)는 입력 데이터를 저차원 잠재 공간(latent space)으로 압축하고, 이를 다시 복원하는 신경망입니다.\n",
    "\n",
    "입력 데이터를 잠재 공간(latent space)으로 압축한 후, 이를 다시 원래 데이터로 복원하는 비지도 학습 모델입니다.\n",
    "\n",
    "오토인코더는 입력 데이터와 출력 데이터가 동일한 형태를 갖는 자기 지도 학습(self-supervised learning) 방식으로 학습됩니다. 즉, 입력 데이터를 압축하고 복원하는 과정에서 입력 데이터 자체를 정답(label)으로 사용합니다.\n",
    "\n",
    "주로 데이터의 특징을 추출하거나, 차원 축소, 이상치 탐지 등에 활용됩니다.\n"
   ]
  },
  {
   "cell_type": "markdown",
   "id": "d53927c7",
   "metadata": {
    "id": "d53927c7"
   },
   "source": [
    "# MNIST 데이터셋(숫자 0~9) 사례"
   ]
  },
  {
   "cell_type": "markdown",
   "id": "dee6dc81",
   "metadata": {
    "id": "dee6dc81"
   },
   "source": [
    "## 라이브러리"
   ]
  },
  {
   "cell_type": "code",
   "execution_count": null,
   "id": "9ccb80b0",
   "metadata": {
    "id": "9ccb80b0"
   },
   "outputs": [],
   "source": [
    "import numpy as np\n",
    "import tensorflow as tf\n",
    "from tensorflow.keras.models import Model\n",
    "from tensorflow.keras.layers import Input, Dense\n",
    "from tensorflow.keras.datasets import mnist"
   ]
  },
  {
   "cell_type": "markdown",
   "id": "1ab6e266",
   "metadata": {
    "id": "1ab6e266"
   },
   "source": [
    "## 데이터셋 불러오기"
   ]
  },
  {
   "cell_type": "code",
   "execution_count": null,
   "id": "5c509001",
   "metadata": {
    "id": "5c509001"
   },
   "outputs": [],
   "source": [
    "# MNIST 데이터셋을 로드"
   ]
  },
  {
   "cell_type": "code",
   "execution_count": null,
   "id": "fbbf8ec4",
   "metadata": {
    "id": "fbbf8ec4"
   },
   "outputs": [],
   "source": [
    "# Keras의 mnist 모듈에서 MNIST 데이터셋을 불러오는 부분입니다.\n",
    "# MNIST 데이터셋은 0부터 9까지의 손으로 쓴 숫자 이미지 70,000개로 구성된 데이터셋으로,\n",
    "# 이미지 크기는 28x28 픽셀입니다.\n",
    "# 이 데이터셋은 주로 이미지 분류 및 신경망 학습 예제에 많이 사용"
   ]
  },
  {
   "cell_type": "code",
   "execution_count": null,
   "id": "854cc2d2",
   "metadata": {
    "id": "854cc2d2"
   },
   "outputs": [],
   "source": [
    "# (x_train, _), (x_test, _): mnist.load_data() 함수는 두 개의 튜플을 반환합니다.\n",
    "#     각 튜플에는 이미지 데이터와 레이블 데이터가 포함되어 있습니다.\n",
    "# x_train: 학습용 이미지 데이터 (60,000개의 28x28 픽셀 이미지를 포함)\n",
    "# x_test: 테스트용 이미지 데이터 (10,000개의 28x28 픽셀 이미지를 포함)\n",
    "# _: 레이블 데이터는 여기서 필요하지 않기 때문에 언더스코어(_)로 받지 않고 무시합니다.\n",
    "# 오토인코더에서는 레이블을 사용하지 않고 이미지만을 사용해 입력 데이터를 압축하고 복원하기 때문입니다."
   ]
  },
  {
   "cell_type": "code",
   "execution_count": null,
   "id": "74ebf53a",
   "metadata": {
    "id": "74ebf53a"
   },
   "outputs": [],
   "source": [
    "# 데이터셋 불러오기 (MNIST 데이터셋 사용)\n",
    "(x_train, _), (x_test, _) = mnist.load_data()\n"
   ]
  },
  {
   "cell_type": "markdown",
   "id": "98240a68",
   "metadata": {
    "id": "98240a68"
   },
   "source": [
    "## 데이터 전처리"
   ]
  },
  {
   "cell_type": "code",
   "execution_count": null,
   "id": "715a15b5",
   "metadata": {
    "id": "715a15b5"
   },
   "outputs": [],
   "source": [
    "# 1. 정규화 (Normalization) : 픽셀 값을 0에서 1 사이로 스케일링하여 모델이 학습하기 쉽게 합니다."
   ]
  },
  {
   "cell_type": "code",
   "execution_count": null,
   "id": "b85d02ed",
   "metadata": {
    "id": "b85d02ed"
   },
   "outputs": [],
   "source": [
    "# x_train.astype(\"float32\"): 이미지는 원래 정수형(int)으로 저장되어 있지만, 신경망 모델은 부동 소수점(floating-point) 값을 사용하여 학습하는 것이 일반적이므로, 데이터 타입을 float32로 변환합니다.\n",
    "# / 255.: 픽셀 값이 0에서 255 사이로 되어 있으므로, 이를 0에서 1 사이로 정규화합니다. 이렇게 하면 모든 픽셀 값이 0~1 범위 내에 들어가게 되어 신경망의 학습이 더 안정적으로 이루어집니다."
   ]
  },
  {
   "cell_type": "code",
   "execution_count": null,
   "id": "8ba3781a",
   "metadata": {
    "id": "8ba3781a"
   },
   "outputs": [],
   "source": [
    "# 2. 형태 변환: 28x28 이미지를 784차원 벡터로 변환하여 오토인코더 모델이 다룰 수 있는 형태로 만듭니다."
   ]
  },
  {
   "cell_type": "code",
   "execution_count": null,
   "id": "d8cf9498",
   "metadata": {
    "id": "d8cf9498"
   },
   "outputs": [],
   "source": [
    "# x_train.shape[1:]는 (28, 28) 크기의 2차원 이미지를 가리킵니다. np.prod(x_train.shape[1:])는 28과 28을 곱하여 784를 얻습니다.\n",
    "# np.prod(x_train.shape[1:]): shape[1:]의 모든 차원을 곱하여 784라는 값을 얻습니다. 이는 각 이미지를 1차원 벡터로 변환하기 위해 필요한 값입니다.\n",
    "# .reshape((len(x_train), 784)): reshape를 사용하여 각 이미지를 (28, 28) 형식의 2차원 배열에서 784 차원의 1차원 배열로 변경합니다. 이 과정을 통해 각 이미지는 784개의 연속된 값(픽셀 값)으로 표현됩니다.\n",
    "# 이 과정을 거치면:\n",
    "\n",
    "# x_train은 (60000, 784)의 크기를 가지게 됩니다. 즉, 60,000개의 784차원 벡터로 구성된 학습 데이터가 됩니다.\n",
    "# x_test는 (10000, 784)의 크기를 가지게 됩니다. 즉, 10,000개의 784차원 벡터로 구성된 테스트 데이터가 됩니다."
   ]
  },
  {
   "cell_type": "code",
   "execution_count": null,
   "id": "bdbbb10b",
   "metadata": {
    "id": "bdbbb10b"
   },
   "outputs": [],
   "source": [
    "# 데이터 전처리\n",
    "x_train = x_train.astype(\"float32\") / 255.\n",
    "x_test = x_test.astype(\"float32\") / 255.\n",
    "x_train = x_train.reshape((len(x_train), np.prod(x_train.shape[1:])))\n",
    "x_test = x_test.reshape((len(x_test), np.prod(x_test.shape[1:])))\n"
   ]
  },
  {
   "cell_type": "markdown",
   "id": "4cdddce1",
   "metadata": {
    "id": "4cdddce1"
   },
   "source": [
    "## 오토인코더 구조"
   ]
  },
  {
   "cell_type": "code",
   "execution_count": null,
   "id": "0a6a83b5",
   "metadata": {
    "id": "0a6a83b5"
   },
   "outputs": [],
   "source": [
    "# 인코더: 입력 데이터를 32차원의 잠재 공간으로 압축합니다.\n",
    "# 디코더: 잠재 공간의 데이터를 원래 차원으로 복원합니다."
   ]
  },
  {
   "cell_type": "code",
   "execution_count": null,
   "id": "fa053d95",
   "metadata": {
    "id": "fa053d95"
   },
   "outputs": [],
   "source": [
    "# 1. 입력 및 잠재 공간 차원 정의\n",
    "\n",
    "# input_dim: MNIST 이미지는 (28, 28)의 2차원 배열로 되어 있지만, 이를 784차원의 1차원 벡터로 변환했습니다. 그래서 입력 차원은 784로 설정됩니다.\n",
    "# encoding_dim: 잠재 공간의 차원을 32로 설정합니다. 이는 입력 데이터가 인코더를 통해 784차원에서 32차원으로 압축된다는 의미입니다. 32는 압축된 표현의 크기를 결정하며, 모델이 32개의 중요한 특징만 남기고 나머지 정보를 버리는 방식으로 데이터를 요약하도록 학습됩니다."
   ]
  },
  {
   "cell_type": "code",
   "execution_count": null,
   "id": "8618f1fc",
   "metadata": {
    "id": "8618f1fc"
   },
   "outputs": [],
   "source": [
    "# 2. 인코더 정의\n",
    "\n",
    "# input_img = Input(shape=(input_dim,)): 입력 레이어를 정의합니다. 입력의 형태는 input_dim, 즉 784차원으로 설정됩니다.\n",
    "# encoded = Dense(encoding_dim, activation='relu')(input_img): 인코더 부분에서 Dense 층을 사용하여 784차원의 입력을 32차원으로 줄입니다.\n",
    "# Dense(encoding_dim): Dense 레이어는 완전 연결 층(fully connected layer)으로, 여기서는 encoding_dim=32의 출력을 가지므로 784차원의 입력이 32차원의 잠재 공간 표현으로 압축됩니다.\n",
    "# activation='relu': ReLU 활성화 함수는 인코더의 비선형 변환을 제공합니다."
   ]
  },
  {
   "cell_type": "code",
   "execution_count": null,
   "id": "31a40985",
   "metadata": {
    "id": "31a40985"
   },
   "outputs": [],
   "source": [
    "# 3. 디코더 정의\n",
    "\n",
    "# decoded = Dense(input_dim, activation='sigmoid')(encoded)\n",
    "# Dense(input_dim): 디코더 부분에서 Dense 층을 사용하여 32차원의 잠재 공간 표현을 다시 784차원의 원래 차원으로 복원합니다.\n",
    "# activation='sigmoid': sigmoid 활성화 함수는 출력을 0과 1 사이로 제한합니다.\n",
    "#     이는 입력 이미지가 0에서 1 사이의 값을 가지므로, 복원된 이미지의 출력도 동일한 범위로 맞추기 위함입니다."
   ]
  },
  {
   "cell_type": "code",
   "execution_count": null,
   "id": "dbdc897c",
   "metadata": {
    "id": "dbdc897c"
   },
   "outputs": [],
   "source": [
    "# 오토인코더 모델 구조 정의\n",
    "input_dim = x_train.shape[1]  # 입력 차원 (28*28=784)\n",
    "encoding_dim = 32  # 잠재 공간 차원\n",
    "\n",
    "# 인코더\n",
    "input_img = Input(shape=(input_dim,))\n",
    "encoded = Dense(encoding_dim, activation='relu')(input_img)\n",
    "\n",
    "# 디코더\n",
    "decoded = Dense(input_dim, activation='sigmoid')(encoded)"
   ]
  },
  {
   "cell_type": "markdown",
   "id": "f431ce60",
   "metadata": {
    "id": "f431ce60"
   },
   "source": [
    "## 오토인코더 모델 정의"
   ]
  },
  {
   "cell_type": "code",
   "execution_count": null,
   "id": "206a1dea",
   "metadata": {
    "id": "206a1dea"
   },
   "outputs": [],
   "source": [
    "#  오토인코더는 입력 데이터를 압축했다가 복원하는 모델로, 이를 구성하기 위해 세 가지 모델이 사용됩니다:\n",
    "#         오토인코더 모델, 인코더 모델, 디코더 모델.\n",
    "# 이렇게 세 가지 모델을 정의함으로써:\n",
    "# autoencoder를 통해 입력 데이터를 학습하며 전체 오토인코더 모델을 훈련할 수 있고,\n",
    "# 훈련된 encoder를 사용하여 입력 데이터를 압축된 특징으로 변환할 수 있으며,\n",
    "# decoder를 사용하여 압축된 특징을 원래 데이터로 복원할 수 있게 됩니다."
   ]
  },
  {
   "cell_type": "code",
   "execution_count": null,
   "id": "19dc9cd6",
   "metadata": {
    "id": "19dc9cd6"
   },
   "outputs": [],
   "source": [
    "#1. 오토인코더 모델 정의\n",
    "\n",
    "# Model(input_img, decoded): 전체 오토인코더 모델을 정의합니다. 이 모델은 input_img를 입력으로 받아, decoded를 출력으로 생성하는 구조입니다.\n",
    "# input_img는 784차원의 원본 입력 데이터이고,\n",
    "# decoded는 디코더의 최종 출력으로, 입력 이미지를 압축했다가 복원한 결과입니다.\n",
    "# 따라서, autoencoder 모델은 입력 이미지를 인코더로 압축한 후, 디코더로 복원하여 원본에 가까운 출력을 만들어내는 모델입니다.\n",
    "# 오토인코더를 학습할 때는 이 autoencoder 모델을 사용하게 됩니다."
   ]
  },
  {
   "cell_type": "code",
   "execution_count": null,
   "id": "50f18449",
   "metadata": {
    "id": "50f18449"
   },
   "outputs": [],
   "source": [
    "# 2. 인코더 모델 정의 (압축된 표현을 얻기 위해)\n",
    "\n",
    "# Model(input_img, encoded): 인코더 모델만 따로 정의하여 입력 데이터를 압축된 표현으로 변환할 수 있게 합니다.\n",
    "# input_img는 784차원의 원본 입력 데이터입니다.\n",
    "# encoded는 인코더의 출력으로, 784차원의 입력 데이터가 32차원의 잠재 공간 표현으로 압축된 결과입니다.\n",
    "# 이 encoder 모델은 오토인코더의 첫 번째 절반만을 포함하며, 이를 통해 원본 데이터를 압축한 잠재 공간 표현을 얻을 수 있습니다."
   ]
  },
  {
   "cell_type": "code",
   "execution_count": null,
   "id": "1a61cb45",
   "metadata": {
    "id": "1a61cb45"
   },
   "outputs": [],
   "source": [
    "# 3. 디코더 모델 정의 (잠재 공간에서 원래 데이터를 복원)\n",
    "\n",
    "# encoded_input = Input(shape=(encoding_dim,)): 디코더의 입력 레이어를 정의합니다. 인코더가 압축하여 출력한 32차원 잠재 공간 표현을 입력으로 받습니다.\n",
    "# decoder_layer = autoencoder.layers[-1]: autoencoder 모델의 마지막 레이어, 즉 디코더의 복원 레이어를 가져옵니다. 디코더의 핵심인 복원 작업을 수행하는 레이어를 가져와서 디코더 모델을 구성합니다.\n",
    "# decoder = Model(encoded_input, decoder_layer(encoded_input)): 디코더 모델을 정의하여, 압축된 잠재 공간 표현을 다시 원래의 784차원으로 복원할 수 있게 합니다."
   ]
  },
  {
   "cell_type": "code",
   "execution_count": null,
   "id": "2431f74e",
   "metadata": {
    "id": "2431f74e"
   },
   "outputs": [],
   "source": [
    "# 오토인코더 모델 정의\n",
    "autoencoder = Model(input_img, decoded)\n",
    "\n",
    "# 인코더 모델 정의 (압축된 표현을 얻기 위해)\n",
    "encoder = Model(input_img, encoded)\n",
    "\n",
    "# 디코더 모델 정의 (잠재 공간에서 원래 데이터를 복원)\n",
    "encoded_input = Input(shape=(encoding_dim,))\n",
    "decoder_layer = autoencoder.layers[-1]\n",
    "decoder = Model(encoded_input, decoder_layer(encoded_input))\n"
   ]
  },
  {
   "cell_type": "markdown",
   "id": "a19a037c",
   "metadata": {
    "id": "a19a037c"
   },
   "source": [
    "## 모델 컴파일"
   ]
  },
  {
   "cell_type": "code",
   "execution_count": null,
   "id": "80e77dd0",
   "metadata": {
    "id": "80e77dd0"
   },
   "outputs": [],
   "source": [
    "# 오토인코더 모델을 컴파일하는 부분입니다.\n",
    "# 컴파일 과정에서는 최적화 알고리즘과 손실 함수를 지정하여 모델의 학습 방식을 설정합니다."
   ]
  },
  {
   "cell_type": "code",
   "execution_count": null,
   "id": "c265bddc",
   "metadata": {
    "id": "c265bddc"
   },
   "outputs": [],
   "source": [
    "# optimizer='adam': 최적화 알고리즘으로 **Adam(Adaptive Moment Estimation)**을 사용합니다.\n",
    "#     # Adam은 경사 하강법을 개선한 알고리즘으로, 학습 속도가 빠르고 효율적이기 때문에 널리 사용됩니다.\n",
    "#     # 특히 학습 속도를 자동으로 조정해주는 특성이 있어, 오토인코더 같은 신경망 모델의 최적화에 효과적입니다.\n",
    "\n",
    "# loss='binary_crossentropy': 손실 함수로 binary cross-entropy(이진 교차 엔트로피)를 사용합니다.\n",
    "#     오토인코더의 경우, 출력이 입력과 동일하도록 재구성(reconstruction)해야 하는데,\n",
    "#     이때 픽셀 값이 0과 1 사이의 범위로 정규화된 이미지 데이터를 다루므로 binary cross-entropy가 적합합니다."
   ]
  },
  {
   "cell_type": "code",
   "execution_count": null,
   "id": "ce2b38a4",
   "metadata": {
    "id": "ce2b38a4"
   },
   "outputs": [],
   "source": [
    "# 모델 컴파일\n",
    "autoencoder.compile(optimizer='adam', loss='binary_crossentropy')"
   ]
  },
  {
   "cell_type": "markdown",
   "id": "a7843544",
   "metadata": {
    "id": "a7843544"
   },
   "source": [
    "## 훈련"
   ]
  },
  {
   "cell_type": "code",
   "execution_count": null,
   "id": "eb8f38df",
   "metadata": {
    "id": "eb8f38df"
   },
   "outputs": [],
   "source": [
    "# 오토인코더는 입력 데이터와 출력 데이터가 동일한 형태를 갖는 자기 지도 학습(self-supervised learning) 방식으로 학습됩니다.\n",
    "# 즉, 입력 데이터를 압축하고 복원하는 과정에서 입력 데이터 자체를 정답(label)으로 사용합니다."
   ]
  },
  {
   "cell_type": "code",
   "execution_count": null,
   "id": "33743965",
   "metadata": {
    "id": "33743965"
   },
   "outputs": [],
   "source": [
    "# x_train, x_train: 입력과 출력으로 동일한 x_train을 사용합니다.\n",
    "# 오토인코더는 입력 데이터를 압축한 후 복원해 원본과 최대한 비슷하게 만드는 것을 목표로 하기 때문에, x_train이 입력이자 정답이 됩니다.\n",
    "\n",
    "# epochs=50: 학습 횟수를 50번으로 설정합니다.\n",
    "# 한 에포크(epoch)는 전체 데이터셋을 한 번 학습하는 주기를 의미합니다.\n",
    "# 50번 동안 데이터셋을 반복 학습하여 모델이 점점 더 정교하게 입력을 복원하도록 만듭니다.\n",
    "\n",
    "# batch_size=256: 배치 크기를 256으로 설정합니다.\n",
    "# 즉, 한 번에 256개의 샘플을 처리하여 가중치를 업데이트합니다.\n",
    "# 배치 크기는 메모리 사용량과 학습 속도에 영향을 미치며, GPU 사용 시 일반적으로 32, 64, 128, 256 등의 배치 크기를 사용합니다.\n",
    "\n",
    "# shuffle=True: 에포크마다 데이터셋을 섞어서 학습합니다.\n",
    "# 이는 모델이 데이터의 순서에 의존하지 않도록 하여 더 일반화된 학습이 이루어지도록 돕습니다.\n",
    "\n",
    "# validation_data=(x_test, x_test): 검증 데이터로 x_test를 사용합니다.\n",
    "# 훈련 데이터와 마찬가지로, 입력과 출력이 동일한 x_test를 사용해 모델의 성능을 평가합니다.\n",
    "# 각 에포크 후에 검증 데이터셋에서의 성능을 확인하여, 모델이 과적합(overfitting) 없이 잘 학습하고 있는지 모니터링할 수 있습니다."
   ]
  },
  {
   "cell_type": "code",
   "execution_count": null,
   "id": "666953cf",
   "metadata": {
    "id": "666953cf"
   },
   "outputs": [],
   "source": [
    "# 모델 학습\n",
    "autoencoder.fit(x_train, x_train,\n",
    "                epochs=50,\n",
    "                batch_size=256,\n",
    "                shuffle=True,\n",
    "                validation_data=(x_test, x_test))\n"
   ]
  },
  {
   "cell_type": "code",
   "execution_count": null,
   "id": "e39c973a",
   "metadata": {
    "id": "e39c973a"
   },
   "outputs": [],
   "source": [
    "#  오토인코더는 인코더와 디코더로 나뉘어 있으므로, 입력 데이터를 인코더를 통해 압축된 표현(latent representation)으로 변환하고,\n",
    "#     이를 다시 디코더를 통해 원본에 가까운 이미지로 복원할 수 있습니다."
   ]
  },
  {
   "cell_type": "markdown",
   "id": "2065d351",
   "metadata": {
    "id": "2065d351"
   },
   "source": [
    "## 인코딩과 디코딩"
   ]
  },
  {
   "cell_type": "code",
   "execution_count": null,
   "id": "3e8ade11",
   "metadata": {
    "id": "3e8ade11"
   },
   "outputs": [],
   "source": [
    "# 1. 압축된 표현 얻기 (인코딩)\n",
    "\n",
    "# encoder.predict(x_test): 테스트 데이터셋 x_test를 인코더 모델에 입력하여 압축된 표현을 얻습니다.\n",
    "# encoded_imgs: 인코더를 통과한 결과로, 각 이미지가 원래의 784차원에서 32차원으로 압축된 표현이 됩니다.\n",
    "# 이 encoded_imgs는 잠재 공간(latent space) 표현이며, 입력 데이터의 주요 특징만을 간추린 정보입니다."
   ]
  },
  {
   "cell_type": "code",
   "execution_count": null,
   "id": "2b47fd10",
   "metadata": {
    "id": "2b47fd10"
   },
   "outputs": [],
   "source": [
    "# 2. 복원된 이미지 얻기 (디코딩)\n",
    "\n",
    "# decoder.predict(encoded_imgs): 압축된 표현인 encoded_imgs를 디코더 모델에 입력하여 복원된 이미지를 얻습니다.\n",
    "# decoded_imgs: 디코더를 통과한 결과로, 32차원 잠재 공간 표현이 다시 784차원의 원래 이미지 형태로 복원됩니다.\n",
    "#     이는 입력 이미지와 유사하지만 완전히 동일하지는 않습니다. 오토인코더는 압축하면서 일부 정보를 잃기 때문입니다."
   ]
  },
  {
   "cell_type": "code",
   "execution_count": null,
   "id": "b54030c8",
   "metadata": {
    "id": "b54030c8"
   },
   "outputs": [],
   "source": [
    "\n",
    "# 압축된 표현 얻기 (인코딩)\n",
    "encoded_imgs = encoder.predict(x_test)\n",
    "\n",
    "# 복원된 이미지 얻기 (디코딩)\n",
    "decoded_imgs = decoder.predict(encoded_imgs)\n"
   ]
  },
  {
   "cell_type": "markdown",
   "id": "44f3d41f",
   "metadata": {
    "id": "44f3d41f"
   },
   "source": [
    "## 결과 시각화"
   ]
  },
  {
   "cell_type": "code",
   "execution_count": null,
   "id": "b0e59984",
   "metadata": {
    "id": "b0e59984"
   },
   "outputs": [],
   "source": [
    "#원본 이미지와 복원된 이미지를 시각화하여 오토인코더의 성능을 확인합니다."
   ]
  },
  {
   "cell_type": "code",
   "execution_count": null,
   "id": "1c0db518",
   "metadata": {
    "id": "1c0db518"
   },
   "outputs": [],
   "source": [
    "# 1. 전체 시각화 설정\n",
    "\n",
    "# n = 10: 원본 이미지와 복원된 이미지 각각 10개씩을 표시합니다.\n",
    "# plt.figure(figsize=(20, 4)): 그래프 크기를 설정합니다. 전체적인 가로와 세로 크기를 (20, 4)로 지정하여 이미지를 크게 볼 수 있도록 합니다."
   ]
  },
  {
   "cell_type": "code",
   "execution_count": null,
   "id": "5dab8d75",
   "metadata": {
    "id": "5dab8d75"
   },
   "outputs": [],
   "source": [
    "# 2. 원본 이미지 표시\n",
    "\n",
    "# plt.subplot(2, n, i + 1): 총 2 x n 배열의 서브플롯을 만들고, 원본 이미지를 첫 번째 행에 표시합니다. i + 1은 순서를 지정합니다.\n",
    "# plt.imshow(x_test[i].reshape(28, 28)): 원본 이미지를 28x28 크기로 다시 변형하여 표시합니다.\n",
    "# plt.gray(): 이미지를 회색조로 설정합니다.\n",
    "# ax.get_xaxis().set_visible(False), ax.get_yaxis().set_visible(False): 축 눈금을 보이지 않게 설정하여 깔끔한 이미지만 표시합니다."
   ]
  },
  {
   "cell_type": "code",
   "execution_count": null,
   "id": "2a1587d4",
   "metadata": {
    "id": "2a1587d4"
   },
   "outputs": [],
   "source": [
    "# 3. 복원된 이미지 표시\n",
    "\n",
    "# plt.subplot(2, n, i + 1 + n): 복원된 이미지를 두 번째 행에 표시합니다. i + 1 + n은 복원 이미지를 두 번째 행에 배치하기 위해 인덱스를 조정합니다.\n",
    "# plt.imshow(decoded_imgs[i].reshape(28, 28)): 복원된 이미지를 28x28 크기로 다시 변형하여 표시합니다."
   ]
  },
  {
   "cell_type": "code",
   "execution_count": null,
   "id": "ed019a47",
   "metadata": {
    "id": "ed019a47"
   },
   "outputs": [],
   "source": [
    "# 4. 결과 표시\n",
    "\n",
    "# plt.show(): 설정된 이미지들을 화면에 출력합니다."
   ]
  },
  {
   "cell_type": "code",
   "execution_count": null,
   "id": "a7252fb7",
   "metadata": {
    "id": "a7252fb7"
   },
   "outputs": [],
   "source": [
    "# 결과 시각화\n",
    "import matplotlib.pyplot as plt\n",
    "\n",
    "n = 10  # 이미지 개수\n",
    "plt.figure(figsize=(20, 4))\n",
    "for i in range(n):\n",
    "    # 원본 이미지\n",
    "    ax = plt.subplot(2, n, i + 1)\n",
    "    plt.imshow(x_test[i].reshape(28, 28))\n",
    "    plt.gray()\n",
    "    ax.get_xaxis().set_visible(False)\n",
    "    ax.get_yaxis().set_visible(False)\n",
    "\n",
    "    # 복원된 이미지\n",
    "    ax = plt.subplot(2, n, i + 1 + n)\n",
    "    plt.imshow(decoded_imgs[i].reshape(28, 28))\n",
    "    plt.gray()\n",
    "    ax.get_xaxis().set_visible(False)\n",
    "    ax.get_yaxis().set_visible(False)\n",
    "plt.show()\n"
   ]
  },
  {
   "cell_type": "markdown",
   "id": "3c8735cd",
   "metadata": {
    "id": "3c8735cd"
   },
   "source": [
    "코드 종합"
   ]
  },
  {
   "cell_type": "code",
   "execution_count": null,
   "id": "52e34243",
   "metadata": {
    "id": "52e34243",
    "outputId": "a8fce4f7-a8bd-45fb-f247-681c5edbd20b"
   },
   "outputs": [
    {
     "name": "stdout",
     "output_type": "stream",
     "text": [
      "Epoch 1/50\n",
      "\u001b[1m235/235\u001b[0m \u001b[32m━━━━━━━━━━━━━━━━━━━━\u001b[0m\u001b[37m\u001b[0m \u001b[1m3s\u001b[0m 9ms/step - loss: 0.3818 - val_loss: 0.1909\n",
      "Epoch 2/50\n",
      "\u001b[1m235/235\u001b[0m \u001b[32m━━━━━━━━━━━━━━━━━━━━\u001b[0m\u001b[37m\u001b[0m \u001b[1m2s\u001b[0m 9ms/step - loss: 0.1806 - val_loss: 0.1529\n",
      "Epoch 3/50\n",
      "\u001b[1m235/235\u001b[0m \u001b[32m━━━━━━━━━━━━━━━━━━━━\u001b[0m\u001b[37m\u001b[0m \u001b[1m2s\u001b[0m 8ms/step - loss: 0.1484 - val_loss: 0.1330\n",
      "Epoch 4/50\n",
      "\u001b[1m235/235\u001b[0m \u001b[32m━━━━━━━━━━━━━━━━━━━━\u001b[0m\u001b[37m\u001b[0m \u001b[1m2s\u001b[0m 7ms/step - loss: 0.1308 - val_loss: 0.1212\n",
      "Epoch 5/50\n",
      "\u001b[1m235/235\u001b[0m \u001b[32m━━━━━━━━━━━━━━━━━━━━\u001b[0m\u001b[37m\u001b[0m \u001b[1m2s\u001b[0m 8ms/step - loss: 0.1201 - val_loss: 0.1135\n",
      "Epoch 6/50\n",
      "\u001b[1m235/235\u001b[0m \u001b[32m━━━━━━━━━━━━━━━━━━━━\u001b[0m\u001b[37m\u001b[0m \u001b[1m2s\u001b[0m 7ms/step - loss: 0.1133 - val_loss: 0.1078\n",
      "Epoch 7/50\n",
      "\u001b[1m235/235\u001b[0m \u001b[32m━━━━━━━━━━━━━━━━━━━━\u001b[0m\u001b[37m\u001b[0m \u001b[1m2s\u001b[0m 7ms/step - loss: 0.1081 - val_loss: 0.1037\n",
      "Epoch 8/50\n",
      "\u001b[1m235/235\u001b[0m \u001b[32m━━━━━━━━━━━━━━━━━━━━\u001b[0m\u001b[37m\u001b[0m \u001b[1m2s\u001b[0m 7ms/step - loss: 0.1041 - val_loss: 0.1004\n",
      "Epoch 9/50\n",
      "\u001b[1m235/235\u001b[0m \u001b[32m━━━━━━━━━━━━━━━━━━━━\u001b[0m\u001b[37m\u001b[0m \u001b[1m2s\u001b[0m 7ms/step - loss: 0.1010 - val_loss: 0.0978\n",
      "Epoch 10/50\n",
      "\u001b[1m235/235\u001b[0m \u001b[32m━━━━━━━━━━━━━━━━━━━━\u001b[0m\u001b[37m\u001b[0m \u001b[1m2s\u001b[0m 7ms/step - loss: 0.0987 - val_loss: 0.0959\n",
      "Epoch 11/50\n",
      "\u001b[1m235/235\u001b[0m \u001b[32m━━━━━━━━━━━━━━━━━━━━\u001b[0m\u001b[37m\u001b[0m \u001b[1m2s\u001b[0m 7ms/step - loss: 0.0969 - val_loss: 0.0947\n",
      "Epoch 12/50\n",
      "\u001b[1m235/235\u001b[0m \u001b[32m━━━━━━━━━━━━━━━━━━━━\u001b[0m\u001b[37m\u001b[0m \u001b[1m2s\u001b[0m 7ms/step - loss: 0.0957 - val_loss: 0.0939\n",
      "Epoch 13/50\n",
      "\u001b[1m235/235\u001b[0m \u001b[32m━━━━━━━━━━━━━━━━━━━━\u001b[0m\u001b[37m\u001b[0m \u001b[1m2s\u001b[0m 7ms/step - loss: 0.0952 - val_loss: 0.0934\n",
      "Epoch 14/50\n",
      "\u001b[1m235/235\u001b[0m \u001b[32m━━━━━━━━━━━━━━━━━━━━\u001b[0m\u001b[37m\u001b[0m \u001b[1m2s\u001b[0m 9ms/step - loss: 0.0946 - val_loss: 0.0931\n",
      "Epoch 15/50\n",
      "\u001b[1m235/235\u001b[0m \u001b[32m━━━━━━━━━━━━━━━━━━━━\u001b[0m\u001b[37m\u001b[0m \u001b[1m2s\u001b[0m 7ms/step - loss: 0.0944 - val_loss: 0.0929\n",
      "Epoch 16/50\n",
      "\u001b[1m235/235\u001b[0m \u001b[32m━━━━━━━━━━━━━━━━━━━━\u001b[0m\u001b[37m\u001b[0m \u001b[1m2s\u001b[0m 8ms/step - loss: 0.0940 - val_loss: 0.0927\n",
      "Epoch 17/50\n",
      "\u001b[1m235/235\u001b[0m \u001b[32m━━━━━━━━━━━━━━━━━━━━\u001b[0m\u001b[37m\u001b[0m \u001b[1m2s\u001b[0m 7ms/step - loss: 0.0937 - val_loss: 0.0925\n",
      "Epoch 18/50\n",
      "\u001b[1m235/235\u001b[0m \u001b[32m━━━━━━━━━━━━━━━━━━━━\u001b[0m\u001b[37m\u001b[0m \u001b[1m2s\u001b[0m 7ms/step - loss: 0.0936 - val_loss: 0.0923\n",
      "Epoch 19/50\n",
      "\u001b[1m235/235\u001b[0m \u001b[32m━━━━━━━━━━━━━━━━━━━━\u001b[0m\u001b[37m\u001b[0m \u001b[1m2s\u001b[0m 8ms/step - loss: 0.0936 - val_loss: 0.0922\n",
      "Epoch 20/50\n",
      "\u001b[1m235/235\u001b[0m \u001b[32m━━━━━━━━━━━━━━━━━━━━\u001b[0m\u001b[37m\u001b[0m \u001b[1m2s\u001b[0m 8ms/step - loss: 0.0933 - val_loss: 0.0922\n",
      "Epoch 21/50\n",
      "\u001b[1m235/235\u001b[0m \u001b[32m━━━━━━━━━━━━━━━━━━━━\u001b[0m\u001b[37m\u001b[0m \u001b[1m2s\u001b[0m 7ms/step - loss: 0.0935 - val_loss: 0.0921\n",
      "Epoch 22/50\n",
      "\u001b[1m235/235\u001b[0m \u001b[32m━━━━━━━━━━━━━━━━━━━━\u001b[0m\u001b[37m\u001b[0m \u001b[1m2s\u001b[0m 8ms/step - loss: 0.0932 - val_loss: 0.0921\n",
      "Epoch 23/50\n",
      "\u001b[1m235/235\u001b[0m \u001b[32m━━━━━━━━━━━━━━━━━━━━\u001b[0m\u001b[37m\u001b[0m \u001b[1m2s\u001b[0m 7ms/step - loss: 0.0932 - val_loss: 0.0920\n",
      "Epoch 24/50\n",
      "\u001b[1m235/235\u001b[0m \u001b[32m━━━━━━━━━━━━━━━━━━━━\u001b[0m\u001b[37m\u001b[0m \u001b[1m2s\u001b[0m 7ms/step - loss: 0.0932 - val_loss: 0.0920\n",
      "Epoch 25/50\n",
      "\u001b[1m235/235\u001b[0m \u001b[32m━━━━━━━━━━━━━━━━━━━━\u001b[0m\u001b[37m\u001b[0m \u001b[1m2s\u001b[0m 8ms/step - loss: 0.0931 - val_loss: 0.0919\n",
      "Epoch 26/50\n",
      "\u001b[1m235/235\u001b[0m \u001b[32m━━━━━━━━━━━━━━━━━━━━\u001b[0m\u001b[37m\u001b[0m \u001b[1m2s\u001b[0m 8ms/step - loss: 0.0931 - val_loss: 0.0919\n",
      "Epoch 27/50\n",
      "\u001b[1m235/235\u001b[0m \u001b[32m━━━━━━━━━━━━━━━━━━━━\u001b[0m\u001b[37m\u001b[0m \u001b[1m2s\u001b[0m 8ms/step - loss: 0.0932 - val_loss: 0.0919\n",
      "Epoch 28/50\n",
      "\u001b[1m235/235\u001b[0m \u001b[32m━━━━━━━━━━━━━━━━━━━━\u001b[0m\u001b[37m\u001b[0m \u001b[1m2s\u001b[0m 9ms/step - loss: 0.0930 - val_loss: 0.0918\n",
      "Epoch 29/50\n",
      "\u001b[1m235/235\u001b[0m \u001b[32m━━━━━━━━━━━━━━━━━━━━\u001b[0m\u001b[37m\u001b[0m \u001b[1m2s\u001b[0m 8ms/step - loss: 0.0929 - val_loss: 0.0918\n",
      "Epoch 30/50\n",
      "\u001b[1m235/235\u001b[0m \u001b[32m━━━━━━━━━━━━━━━━━━━━\u001b[0m\u001b[37m\u001b[0m \u001b[1m3s\u001b[0m 11ms/step - loss: 0.0928 - val_loss: 0.0917\n",
      "Epoch 31/50\n",
      "\u001b[1m235/235\u001b[0m \u001b[32m━━━━━━━━━━━━━━━━━━━━\u001b[0m\u001b[37m\u001b[0m \u001b[1m2s\u001b[0m 10ms/step - loss: 0.0931 - val_loss: 0.0918\n",
      "Epoch 32/50\n",
      "\u001b[1m235/235\u001b[0m \u001b[32m━━━━━━━━━━━━━━━━━━━━\u001b[0m\u001b[37m\u001b[0m \u001b[1m2s\u001b[0m 9ms/step - loss: 0.0931 - val_loss: 0.0917\n",
      "Epoch 33/50\n",
      "\u001b[1m235/235\u001b[0m \u001b[32m━━━━━━━━━━━━━━━━━━━━\u001b[0m\u001b[37m\u001b[0m \u001b[1m2s\u001b[0m 9ms/step - loss: 0.0929 - val_loss: 0.0917\n",
      "Epoch 34/50\n",
      "\u001b[1m235/235\u001b[0m \u001b[32m━━━━━━━━━━━━━━━━━━━━\u001b[0m\u001b[37m\u001b[0m \u001b[1m2s\u001b[0m 7ms/step - loss: 0.0929 - val_loss: 0.0916\n",
      "Epoch 35/50\n",
      "\u001b[1m235/235\u001b[0m \u001b[32m━━━━━━━━━━━━━━━━━━━━\u001b[0m\u001b[37m\u001b[0m \u001b[1m2s\u001b[0m 8ms/step - loss: 0.0928 - val_loss: 0.0917\n",
      "Epoch 36/50\n",
      "\u001b[1m235/235\u001b[0m \u001b[32m━━━━━━━━━━━━━━━━━━━━\u001b[0m\u001b[37m\u001b[0m \u001b[1m2s\u001b[0m 8ms/step - loss: 0.0927 - val_loss: 0.0917\n",
      "Epoch 37/50\n",
      "\u001b[1m235/235\u001b[0m \u001b[32m━━━━━━━━━━━━━━━━━━━━\u001b[0m\u001b[37m\u001b[0m \u001b[1m2s\u001b[0m 8ms/step - loss: 0.0928 - val_loss: 0.0916\n",
      "Epoch 38/50\n",
      "\u001b[1m235/235\u001b[0m \u001b[32m━━━━━━━━━━━━━━━━━━━━\u001b[0m\u001b[37m\u001b[0m \u001b[1m2s\u001b[0m 8ms/step - loss: 0.0928 - val_loss: 0.0916\n",
      "Epoch 39/50\n",
      "\u001b[1m235/235\u001b[0m \u001b[32m━━━━━━━━━━━━━━━━━━━━\u001b[0m\u001b[37m\u001b[0m \u001b[1m2s\u001b[0m 8ms/step - loss: 0.0926 - val_loss: 0.0916\n",
      "Epoch 40/50\n",
      "\u001b[1m235/235\u001b[0m \u001b[32m━━━━━━━━━━━━━━━━━━━━\u001b[0m\u001b[37m\u001b[0m \u001b[1m2s\u001b[0m 8ms/step - loss: 0.0928 - val_loss: 0.0917\n",
      "Epoch 41/50\n",
      "\u001b[1m235/235\u001b[0m \u001b[32m━━━━━━━━━━━━━━━━━━━━\u001b[0m\u001b[37m\u001b[0m \u001b[1m2s\u001b[0m 9ms/step - loss: 0.0929 - val_loss: 0.0916\n",
      "Epoch 42/50\n",
      "\u001b[1m235/235\u001b[0m \u001b[32m━━━━━━━━━━━━━━━━━━━━\u001b[0m\u001b[37m\u001b[0m \u001b[1m2s\u001b[0m 10ms/step - loss: 0.0927 - val_loss: 0.0916\n",
      "Epoch 43/50\n",
      "\u001b[1m235/235\u001b[0m \u001b[32m━━━━━━━━━━━━━━━━━━━━\u001b[0m\u001b[37m\u001b[0m \u001b[1m2s\u001b[0m 8ms/step - loss: 0.0928 - val_loss: 0.0916\n",
      "Epoch 44/50\n",
      "\u001b[1m235/235\u001b[0m \u001b[32m━━━━━━━━━━━━━━━━━━━━\u001b[0m\u001b[37m\u001b[0m \u001b[1m2s\u001b[0m 8ms/step - loss: 0.0925 - val_loss: 0.0916\n",
      "Epoch 45/50\n",
      "\u001b[1m235/235\u001b[0m \u001b[32m━━━━━━━━━━━━━━━━━━━━\u001b[0m\u001b[37m\u001b[0m \u001b[1m2s\u001b[0m 8ms/step - loss: 0.0925 - val_loss: 0.0916\n",
      "Epoch 46/50\n",
      "\u001b[1m235/235\u001b[0m \u001b[32m━━━━━━━━━━━━━━━━━━━━\u001b[0m\u001b[37m\u001b[0m \u001b[1m2s\u001b[0m 9ms/step - loss: 0.0926 - val_loss: 0.0916\n",
      "Epoch 47/50\n",
      "\u001b[1m235/235\u001b[0m \u001b[32m━━━━━━━━━━━━━━━━━━━━\u001b[0m\u001b[37m\u001b[0m \u001b[1m2s\u001b[0m 8ms/step - loss: 0.0929 - val_loss: 0.0916\n",
      "Epoch 48/50\n",
      "\u001b[1m235/235\u001b[0m \u001b[32m━━━━━━━━━━━━━━━━━━━━\u001b[0m\u001b[37m\u001b[0m \u001b[1m2s\u001b[0m 9ms/step - loss: 0.0925 - val_loss: 0.0915\n",
      "Epoch 49/50\n",
      "\u001b[1m235/235\u001b[0m \u001b[32m━━━━━━━━━━━━━━━━━━━━\u001b[0m\u001b[37m\u001b[0m \u001b[1m2s\u001b[0m 8ms/step - loss: 0.0927 - val_loss: 0.0915\n",
      "Epoch 50/50\n",
      "\u001b[1m235/235\u001b[0m \u001b[32m━━━━━━━━━━━━━━━━━━━━\u001b[0m\u001b[37m\u001b[0m \u001b[1m2s\u001b[0m 9ms/step - loss: 0.0926 - val_loss: 0.0915\n",
      "\u001b[1m313/313\u001b[0m \u001b[32m━━━━━━━━━━━━━━━━━━━━\u001b[0m\u001b[37m\u001b[0m \u001b[1m1s\u001b[0m 2ms/step\n",
      "\u001b[1m313/313\u001b[0m \u001b[32m━━━━━━━━━━━━━━━━━━━━\u001b[0m\u001b[37m\u001b[0m \u001b[1m1s\u001b[0m 2ms/step\n"
     ]
    },
    {
     "data": {
      "image/png": "[encoded data removed]",
      "text/plain": [
       "<Figure size 2000x400 with 20 Axes>"
      ]
     },
     "metadata": {},
     "output_type": "display_data"
    }
   ],
   "source": [
    "import numpy as np\n",
    "import tensorflow as tf\n",
    "from tensorflow.keras.models import Model\n",
    "from tensorflow.keras.layers import Input, Dense\n",
    "from tensorflow.keras.datasets import mnist\n",
    "\n",
    "# 데이터셋 불러오기 (MNIST 데이터셋 사용)\n",
    "(x_train, _), (x_test, _) = mnist.load_data()\n",
    "\n",
    "# 데이터 전처리\n",
    "x_train = x_train.astype(\"float32\") / 255.\n",
    "x_test = x_test.astype(\"float32\") / 255.\n",
    "x_train = x_train.reshape((len(x_train), np.prod(x_train.shape[1:])))\n",
    "x_test = x_test.reshape((len(x_test), np.prod(x_test.shape[1:])))\n",
    "\n",
    "# 오토인코더 모델 구조 정의\n",
    "input_dim = x_train.shape[1]  # 입력 차원 (28*28=784)\n",
    "encoding_dim = 32  # 잠재 공간 차원\n",
    "\n",
    "# 인코더\n",
    "input_img = Input(shape=(input_dim,))\n",
    "encoded = Dense(encoding_dim, activation='relu')(input_img)\n",
    "\n",
    "# 디코더\n",
    "decoded = Dense(input_dim, activation='sigmoid')(encoded)\n",
    "\n",
    "# 오토인코더 모델 정의\n",
    "autoencoder = Model(input_img, decoded)\n",
    "\n",
    "# 인코더 모델 정의 (압축된 표현을 얻기 위해)\n",
    "encoder = Model(input_img, encoded)\n",
    "\n",
    "# 디코더 모델 정의 (잠재 공간에서 원래 데이터를 복원)\n",
    "encoded_input = Input(shape=(encoding_dim,))\n",
    "decoder_layer = autoencoder.layers[-1]\n",
    "decoder = Model(encoded_input, decoder_layer(encoded_input))\n",
    "\n",
    "# 모델 컴파일\n",
    "autoencoder.compile(optimizer='adam', loss='binary_crossentropy')\n",
    "\n",
    "# 모델 학습\n",
    "autoencoder.fit(x_train, x_train,\n",
    "                epochs=50,\n",
    "                batch_size=256,\n",
    "                shuffle=True,\n",
    "                validation_data=(x_test, x_test))\n",
    "\n",
    "# 압축된 표현 얻기 (인코딩)\n",
    "encoded_imgs = encoder.predict(x_test)\n",
    "\n",
    "# 복원된 이미지 얻기 (디코딩)\n",
    "decoded_imgs = decoder.predict(encoded_imgs)\n",
    "\n",
    "# 결과 시각화\n",
    "import matplotlib.pyplot as plt\n",
    "\n",
    "n = 10  # 이미지 개수\n",
    "plt.figure(figsize=(20, 4))\n",
    "for i in range(n):\n",
    "    # 원본 이미지\n",
    "    ax = plt.subplot(2, n, i + 1)\n",
    "    plt.imshow(x_test[i].reshape(28, 28))\n",
    "    plt.gray()\n",
    "    ax.get_xaxis().set_visible(False)\n",
    "    ax.get_yaxis().set_visible(False)\n",
    "\n",
    "    # 복원된 이미지\n",
    "    ax = plt.subplot(2, n, i + 1 + n)\n",
    "    plt.imshow(decoded_imgs[i].reshape(28, 28))\n",
    "    plt.gray()\n",
    "    ax.get_xaxis().set_visible(False)\n",
    "    ax.get_yaxis().set_visible(False)\n",
    "plt.show()\n"
   ]
  },
  {
   "cell_type": "code",
   "execution_count": null,
   "id": "f854b22e",
   "metadata": {
    "id": "f854b22e"
   },
   "outputs": [],
   "source": []
  },
  {
   "cell_type": "markdown",
   "id": "c32b4931",
   "metadata": {
    "id": "c32b4931"
   },
   "source": [
    "# 이상치 탐지 사례"
   ]
  },
  {
   "cell_type": "code",
   "execution_count": null,
   "id": "5e0f56ab",
   "metadata": {
    "id": "5e0f56ab"
   },
   "outputs": [],
   "source": [
    "# 오토인코더를 활용한 이상치 탐지 예제입니다. 오토인코더는 정상 데이터를 학습한 후,\n",
    "# 모든 데이터에 대해 재구성 오류를 계산하고,\n",
    "# 오류가 큰 데이터(즉, 잘 복원되지 않는 데이터)를 이상치로 분류합니다"
   ]
  },
  {
   "cell_type": "markdown",
   "id": "bd247ae0",
   "metadata": {
    "id": "bd247ae0"
   },
   "source": [
    "## 라이브로리"
   ]
  },
  {
   "cell_type": "code",
   "execution_count": null,
   "id": "36ec7f45",
   "metadata": {
    "id": "36ec7f45"
   },
   "outputs": [],
   "source": [
    "import numpy as np\n",
    "import tensorflow as tf\n",
    "from tensorflow.keras.models import Model\n",
    "from tensorflow.keras.layers import Input, Dense\n",
    "import matplotlib.pyplot as plt"
   ]
  },
  {
   "cell_type": "markdown",
   "id": "0a73fe54",
   "metadata": {
    "id": "0a73fe54"
   },
   "source": [
    " ## 데이터 생성"
   ]
  },
  {
   "cell_type": "code",
   "execution_count": null,
   "id": "67d3d73c",
   "metadata": {
    "id": "67d3d73c"
   },
   "outputs": [],
   "source": [
    "# normal_data: 평균이 0, 표준편차가 1인 정규분포에서 1000개의 정상 데이터를 생성합니다.\n",
    "# anomalous_data: 평균이 5, 표준편차가 1인 정규분포에서 100개의 이상치 데이터를 생성합니다. 정상 데이터와 평균값이 다르므로 이상치로 간주됩니다.\n",
    "# data: 정상 데이터와 이상치를 합쳐서 전체 데이터셋을 만들고, 섞어(shuffle)줍니다."
   ]
  },
  {
   "cell_type": "code",
   "execution_count": null,
   "id": "573ede50",
   "metadata": {
    "id": "573ede50"
   },
   "outputs": [],
   "source": [
    "# 임의의 데이터 생성 (정상 데이터와 이상치 데이터)\n",
    "normal_data = np.random.normal(loc=0.0, scale=1.0, size=(1000, 20))  # 평균 0, 표준편차 1\n",
    "anomalous_data = np.random.normal(loc=5.0, scale=1.0, size=(100, 20))  # 평균 5, 표준편차 1 (이상치)\n",
    "\n",
    "# 데이터 병합\n",
    "data = np.concatenate([normal_data, anomalous_data], axis=0)\n",
    "np.random.shuffle(data)"
   ]
  },
  {
   "cell_type": "markdown",
   "id": "54f7a182",
   "metadata": {
    "id": "54f7a182"
   },
   "source": [
    "## 오토인코더 모델 정의"
   ]
  },
  {
   "cell_type": "code",
   "execution_count": null,
   "id": "674c66ff",
   "metadata": {
    "id": "674c66ff"
   },
   "outputs": [],
   "source": [
    "# input_dim: 입력 차원은 20입니다.\n",
    "# encoding_dim: 잠재 공간 차원은 10으로 설정합니다.\n",
    "# input_layer부터 encoded와 decoded까지의 레이어를 쌓아 오토인코더 모델을 정의합니다."
   ]
  },
  {
   "cell_type": "code",
   "execution_count": null,
   "id": "cf262662",
   "metadata": {
    "id": "cf262662"
   },
   "outputs": [],
   "source": [
    "# 오토인코더 모델 정의\n",
    "input_dim = data.shape[1]\n",
    "encoding_dim = 10  # 잠재 공간 차원\n",
    "\n",
    "# 인코더\n",
    "input_layer = Input(shape=(input_dim,))\n",
    "encoded = Dense(encoding_dim, activation='relu')(input_layer)\n",
    "\n",
    "# 디코더\n",
    "decoded = Dense(input_dim, activation='sigmoid')(encoded)\n",
    "# 오토인코더 모델\n",
    "autoencoder = Model(input_layer, decoded)"
   ]
  },
  {
   "cell_type": "markdown",
   "id": "61276e61",
   "metadata": {
    "id": "61276e61"
   },
   "source": [
    "## 모델 컴파일 및 학습"
   ]
  },
  {
   "cell_type": "code",
   "execution_count": null,
   "id": "2a054b1d",
   "metadata": {
    "id": "2a054b1d"
   },
   "outputs": [],
   "source": [
    "# 손실 함수로 mse(Mean Squared Error, 평균 제곱 오차)를 사용하여 입력과 재구성된 데이터 간의 차이를 최소화하도록 학습합니다.\n",
    "# 정상 데이터(normal_data)만을 사용해 오토인코더를 훈련합니다.\n",
    "# 이렇게 하면 정상 데이터의 특성만 학습하게 되어, 이상치는 재구성 오류가 크게 나타납니다."
   ]
  },
  {
   "cell_type": "code",
   "execution_count": null,
   "id": "2aa97714",
   "metadata": {
    "id": "2aa97714"
   },
   "outputs": [],
   "source": [
    "# 모델 컴파일\n",
    "autoencoder.compile(optimizer='adam', loss='mse')\n",
    "\n",
    "# 정상 데이터만으로 모델 훈련\n",
    "autoencoder.fit(normal_data, normal_data,\n",
    "                epochs=50,\n",
    "                batch_size=32,\n",
    "                shuffle=True,\n",
    "                validation_split=0.1)"
   ]
  },
  {
   "cell_type": "markdown",
   "id": "befbe5ae",
   "metadata": {
    "id": "befbe5ae"
   },
   "source": [
    "## 재구성 오류 계산"
   ]
  },
  {
   "cell_type": "code",
   "execution_count": null,
   "id": "8cd7e99a",
   "metadata": {
    "id": "8cd7e99a"
   },
   "outputs": [],
   "source": [
    "# 재구성 오류는 각 샘플에 대해 (입력 데이터 - 복원된 데이터)^2의 평균으로 계산됩니다.\n",
    "# 재구성 오류가 작으면 정상 데이터로 볼 수 있으며, 크면 이상치로 간주할 수 있습니다."
   ]
  },
  {
   "cell_type": "code",
   "execution_count": null,
   "id": "a421b67b",
   "metadata": {
    "id": "a421b67b"
   },
   "outputs": [],
   "source": [
    "# 모든 데이터에 대해 재구성 오류 계산\n",
    "reconstructed_data = autoencoder.predict(data)\n",
    "reconstruction_error = np.mean(np.power(data - reconstructed_data, 2), axis=1)\n"
   ]
  },
  {
   "cell_type": "markdown",
   "id": "1fe430cd",
   "metadata": {
    "id": "1fe430cd"
   },
   "source": [
    "## 이상치 탐지를 위한 임계값 설정"
   ]
  },
  {
   "cell_type": "code",
   "execution_count": null,
   "id": "876e1c9c",
   "metadata": {
    "id": "876e1c9c"
   },
   "outputs": [],
   "source": [
    "# 재구성 오류의 상위 5%에 해당하는 값을 **임계값(threshold)**로 설정합니다.\n",
    "# 이 값을 초과하는 데이터는 이상치로 간주합니다."
   ]
  },
  {
   "cell_type": "code",
   "execution_count": null,
   "id": "0b817632",
   "metadata": {
    "id": "0b817632"
   },
   "outputs": [],
   "source": [
    "# 이상치 탐지를 위한 임계값 설정 (재구성 오류가 큰 데이터는 이상치로 판단)\n",
    "threshold = np.percentile(reconstruction_error, 95)  # 상위 5%를 이상치로 설정"
   ]
  },
  {
   "cell_type": "markdown",
   "id": "593f61aa",
   "metadata": {
    "id": "593f61aa"
   },
   "source": [
    "## 이상치 판별"
   ]
  },
  {
   "cell_type": "code",
   "execution_count": null,
   "id": "84339527",
   "metadata": {
    "id": "84339527"
   },
   "outputs": [],
   "source": [
    "# 재구성 오류가 임계값을 초과하는 데이터를 이상치로 분류합니다."
   ]
  },
  {
   "cell_type": "code",
   "execution_count": null,
   "id": "2cdcdf1a",
   "metadata": {
    "id": "2cdcdf1a"
   },
   "outputs": [],
   "source": [
    "# 이상치와 정상 데이터 분류\n",
    "anomalies = reconstruction_error > threshold"
   ]
  },
  {
   "cell_type": "markdown",
   "id": "a101a477",
   "metadata": {
    "id": "a101a477"
   },
   "source": [
    "## 결과 시각화 및 출력"
   ]
  },
  {
   "cell_type": "code",
   "execution_count": null,
   "id": "8cd22583",
   "metadata": {
    "id": "8cd22583"
   },
   "outputs": [],
   "source": [
    "# 재구성 오류 히스토그램을 그려서 임계값을 시각적으로 확인합니다.\n",
    "# 임계값을 초과하는 데이터 수를 이상치로 판별하여 출력합니다."
   ]
  },
  {
   "cell_type": "code",
   "execution_count": null,
   "id": "13425347",
   "metadata": {
    "id": "13425347"
   },
   "outputs": [],
   "source": [
    "# 결과 시각화\n",
    "plt.figure(figsize=(12, 6))\n",
    "plt.hist(reconstruction_error, bins=50, color='blue', alpha=0.7, label='Reconstruction Error')\n",
    "plt.axvline(threshold, color='red', linestyle='--', label='Threshold')\n",
    "plt.xlabel('Reconstruction Error')\n",
    "plt.ylabel('Frequency')\n",
    "plt.legend()\n",
    "plt.show()\n",
    "\n",
    "print(f\"Detected anomalies: {np.sum(anomalies)} out of {data.shape[0]} samples\")\n"
   ]
  },
  {
   "cell_type": "code",
   "execution_count": null,
   "id": "c29b680f",
   "metadata": {
    "id": "c29b680f"
   },
   "outputs": [],
   "source": []
  },
  {
   "cell_type": "markdown",
   "id": "0bef050b",
   "metadata": {
    "id": "0bef050b"
   },
   "source": [
    "코드 종합"
   ]
  },
  {
   "cell_type": "code",
   "execution_count": null,
   "id": "d6b16fcd",
   "metadata": {
    "id": "d6b16fcd",
    "outputId": "fb625262-26c4-431a-eba6-42d3d62b1c90"
   },
   "outputs": [
    {
     "name": "stdout",
     "output_type": "stream",
     "text": [
      "Epoch 1/50\n",
      "\u001b[1m29/29\u001b[0m \u001b[32m━━━━━━━━━━━━━━━━━━━━\u001b[0m\u001b[37m\u001b[0m \u001b[1m1s\u001b[0m 11ms/step - loss: 1.2571 - val_loss: 1.2723\n",
      "Epoch 2/50\n",
      "\u001b[1m29/29\u001b[0m \u001b[32m━━━━━━━━━━━━━━━━━━━━\u001b[0m\u001b[37m\u001b[0m \u001b[1m0s\u001b[0m 3ms/step - loss: 1.2332 - val_loss: 1.2318\n",
      "Epoch 3/50\n",
      "\u001b[1m29/29\u001b[0m \u001b[32m━━━━━━━━━━━━━━━━━━━━\u001b[0m\u001b[37m\u001b[0m \u001b[1m0s\u001b[0m 3ms/step - loss: 1.1753 - val_loss: 1.1947\n",
      "Epoch 4/50\n",
      "\u001b[1m29/29\u001b[0m \u001b[32m━━━━━━━━━━━━━━━━━━━━\u001b[0m\u001b[37m\u001b[0m \u001b[1m0s\u001b[0m 4ms/step - loss: 1.1412 - val_loss: 1.1600\n",
      "Epoch 5/50\n",
      "\u001b[1m29/29\u001b[0m \u001b[32m━━━━━━━━━━━━━━━━━━━━\u001b[0m\u001b[37m\u001b[0m \u001b[1m0s\u001b[0m 3ms/step - loss: 1.1373 - val_loss: 1.1276\n",
      "Epoch 6/50\n",
      "\u001b[1m29/29\u001b[0m \u001b[32m━━━━━━━━━━━━━━━━━━━━\u001b[0m\u001b[37m\u001b[0m \u001b[1m0s\u001b[0m 5ms/step - loss: 1.0808 - val_loss: 1.0987\n",
      "Epoch 7/50\n",
      "\u001b[1m29/29\u001b[0m \u001b[32m━━━━━━━━━━━━━━━━━━━━\u001b[0m\u001b[37m\u001b[0m \u001b[1m0s\u001b[0m 4ms/step - loss: 1.0626 - val_loss: 1.0729\n",
      "Epoch 8/50\n",
      "\u001b[1m29/29\u001b[0m \u001b[32m━━━━━━━━━━━━━━━━━━━━\u001b[0m\u001b[37m\u001b[0m \u001b[1m0s\u001b[0m 3ms/step - loss: 1.0388 - val_loss: 1.0495\n",
      "Epoch 9/50\n",
      "\u001b[1m29/29\u001b[0m \u001b[32m━━━━━━━━━━━━━━━━━━━━\u001b[0m\u001b[37m\u001b[0m \u001b[1m0s\u001b[0m 4ms/step - loss: 1.0126 - val_loss: 1.0294\n",
      "Epoch 10/50\n",
      "\u001b[1m29/29\u001b[0m \u001b[32m━━━━━━━━━━━━━━━━━━━━\u001b[0m\u001b[37m\u001b[0m \u001b[1m0s\u001b[0m 4ms/step - loss: 1.0133 - val_loss: 1.0120\n",
      "Epoch 11/50\n",
      "\u001b[1m29/29\u001b[0m \u001b[32m━━━━━━━━━━━━━━━━━━━━\u001b[0m\u001b[37m\u001b[0m \u001b[1m0s\u001b[0m 3ms/step - loss: 0.9652 - val_loss: 0.9970\n",
      "Epoch 12/50\n",
      "\u001b[1m29/29\u001b[0m \u001b[32m━━━━━━━━━━━━━━━━━━━━\u001b[0m\u001b[37m\u001b[0m \u001b[1m0s\u001b[0m 3ms/step - loss: 0.9835 - val_loss: 0.9842\n",
      "Epoch 13/50\n",
      "\u001b[1m29/29\u001b[0m \u001b[32m━━━━━━━━━━━━━━━━━━━━\u001b[0m\u001b[37m\u001b[0m \u001b[1m0s\u001b[0m 5ms/step - loss: 0.9576 - val_loss: 0.9731\n",
      "Epoch 14/50\n",
      "\u001b[1m29/29\u001b[0m \u001b[32m━━━━━━━━━━━━━━━━━━━━\u001b[0m\u001b[37m\u001b[0m \u001b[1m0s\u001b[0m 3ms/step - loss: 0.9456 - val_loss: 0.9631\n",
      "Epoch 15/50\n",
      "\u001b[1m29/29\u001b[0m \u001b[32m━━━━━━━━━━━━━━━━━━━━\u001b[0m\u001b[37m\u001b[0m \u001b[1m0s\u001b[0m 4ms/step - loss: 0.9259 - val_loss: 0.9543\n",
      "Epoch 16/50\n",
      "\u001b[1m29/29\u001b[0m \u001b[32m━━━━━━━━━━━━━━━━━━━━\u001b[0m\u001b[37m\u001b[0m \u001b[1m0s\u001b[0m 4ms/step - loss: 0.9365 - val_loss: 0.9465\n",
      "Epoch 17/50\n",
      "\u001b[1m29/29\u001b[0m \u001b[32m━━━━━━━━━━━━━━━━━━━━\u001b[0m\u001b[37m\u001b[0m \u001b[1m0s\u001b[0m 3ms/step - loss: 0.9258 - val_loss: 0.9394\n",
      "Epoch 18/50\n",
      "\u001b[1m29/29\u001b[0m \u001b[32m━━━━━━━━━━━━━━━━━━━━\u001b[0m\u001b[37m\u001b[0m \u001b[1m0s\u001b[0m 3ms/step - loss: 0.9125 - val_loss: 0.9328\n",
      "Epoch 19/50\n",
      "\u001b[1m29/29\u001b[0m \u001b[32m━━━━━━━━━━━━━━━━━━━━\u001b[0m\u001b[37m\u001b[0m \u001b[1m0s\u001b[0m 3ms/step - loss: 0.8987 - val_loss: 0.9268\n",
      "Epoch 20/50\n",
      "\u001b[1m29/29\u001b[0m \u001b[32m━━━━━━━━━━━━━━━━━━━━\u001b[0m\u001b[37m\u001b[0m \u001b[1m0s\u001b[0m 3ms/step - loss: 0.8826 - val_loss: 0.9213\n",
      "Epoch 21/50\n",
      "\u001b[1m29/29\u001b[0m \u001b[32m━━━━━━━━━━━━━━━━━━━━\u001b[0m\u001b[37m\u001b[0m \u001b[1m0s\u001b[0m 4ms/step - loss: 0.9035 - val_loss: 0.9162\n",
      "Epoch 22/50\n",
      "\u001b[1m29/29\u001b[0m \u001b[32m━━━━━━━━━━━━━━━━━━━━\u001b[0m\u001b[37m\u001b[0m \u001b[1m0s\u001b[0m 3ms/step - loss: 0.8902 - val_loss: 0.9113\n",
      "Epoch 23/50\n",
      "\u001b[1m29/29\u001b[0m \u001b[32m━━━━━━━━━━━━━━━━━━━━\u001b[0m\u001b[37m\u001b[0m \u001b[1m0s\u001b[0m 5ms/step - loss: 0.8738 - val_loss: 0.9067\n",
      "Epoch 24/50\n",
      "\u001b[1m29/29\u001b[0m \u001b[32m━━━━━━━━━━━━━━━━━━━━\u001b[0m\u001b[37m\u001b[0m \u001b[1m0s\u001b[0m 3ms/step - loss: 0.8707 - val_loss: 0.9024\n",
      "Epoch 25/50\n",
      "\u001b[1m29/29\u001b[0m \u001b[32m━━━━━━━━━━━━━━━━━━━━\u001b[0m\u001b[37m\u001b[0m \u001b[1m0s\u001b[0m 2ms/step - loss: 0.8653 - val_loss: 0.8985\n",
      "Epoch 26/50\n",
      "\u001b[1m29/29\u001b[0m \u001b[32m━━━━━━━━━━━━━━━━━━━━\u001b[0m\u001b[37m\u001b[0m \u001b[1m0s\u001b[0m 3ms/step - loss: 0.8632 - val_loss: 0.8947\n",
      "Epoch 27/50\n",
      "\u001b[1m29/29\u001b[0m \u001b[32m━━━━━━━━━━━━━━━━━━━━\u001b[0m\u001b[37m\u001b[0m \u001b[1m0s\u001b[0m 3ms/step - loss: 0.8683 - val_loss: 0.8914\n",
      "Epoch 28/50\n",
      "\u001b[1m29/29\u001b[0m \u001b[32m━━━━━━━━━━━━━━━━━━━━\u001b[0m\u001b[37m\u001b[0m \u001b[1m0s\u001b[0m 3ms/step - loss: 0.8445 - val_loss: 0.8880\n",
      "Epoch 29/50\n",
      "\u001b[1m29/29\u001b[0m \u001b[32m━━━━━━━━━━━━━━━━━━━━\u001b[0m\u001b[37m\u001b[0m \u001b[1m0s\u001b[0m 3ms/step - loss: 0.8410 - val_loss: 0.8851\n",
      "Epoch 30/50\n",
      "\u001b[1m29/29\u001b[0m \u001b[32m━━━━━━━━━━━━━━━━━━━━\u001b[0m\u001b[37m\u001b[0m \u001b[1m0s\u001b[0m 3ms/step - loss: 0.8499 - val_loss: 0.8823\n",
      "Epoch 31/50\n",
      "\u001b[1m29/29\u001b[0m \u001b[32m━━━━━━━━━━━━━━━━━━━━\u001b[0m\u001b[37m\u001b[0m \u001b[1m0s\u001b[0m 5ms/step - loss: 0.8412 - val_loss: 0.8798\n",
      "Epoch 32/50\n",
      "\u001b[1m29/29\u001b[0m \u001b[32m━━━━━━━━━━━━━━━━━━━━\u001b[0m\u001b[37m\u001b[0m \u001b[1m0s\u001b[0m 4ms/step - loss: 0.8338 - val_loss: 0.8775\n",
      "Epoch 33/50\n",
      "\u001b[1m29/29\u001b[0m \u001b[32m━━━━━━━━━━━━━━━━━━━━\u001b[0m\u001b[37m\u001b[0m \u001b[1m0s\u001b[0m 3ms/step - loss: 0.8408 - val_loss: 0.8754\n",
      "Epoch 34/50\n",
      "\u001b[1m29/29\u001b[0m \u001b[32m━━━━━━━━━━━━━━━━━━━━\u001b[0m\u001b[37m\u001b[0m \u001b[1m0s\u001b[0m 4ms/step - loss: 0.8281 - val_loss: 0.8731\n",
      "Epoch 35/50\n",
      "\u001b[1m29/29\u001b[0m \u001b[32m━━━━━━━━━━━━━━━━━━━━\u001b[0m\u001b[37m\u001b[0m \u001b[1m0s\u001b[0m 3ms/step - loss: 0.8460 - val_loss: 0.8711\n",
      "Epoch 36/50\n",
      "\u001b[1m29/29\u001b[0m \u001b[32m━━━━━━━━━━━━━━━━━━━━\u001b[0m\u001b[37m\u001b[0m \u001b[1m0s\u001b[0m 5ms/step - loss: 0.8245 - val_loss: 0.8694\n",
      "Epoch 37/50\n",
      "\u001b[1m29/29\u001b[0m \u001b[32m━━━━━━━━━━━━━━━━━━━━\u001b[0m\u001b[37m\u001b[0m \u001b[1m0s\u001b[0m 4ms/step - loss: 0.8286 - val_loss: 0.8675\n",
      "Epoch 38/50\n",
      "\u001b[1m29/29\u001b[0m \u001b[32m━━━━━━━━━━━━━━━━━━━━\u001b[0m\u001b[37m\u001b[0m \u001b[1m0s\u001b[0m 3ms/step - loss: 0.8355 - val_loss: 0.8659\n",
      "Epoch 39/50\n",
      "\u001b[1m29/29\u001b[0m \u001b[32m━━━━━━━━━━━━━━━━━━━━\u001b[0m\u001b[37m\u001b[0m \u001b[1m0s\u001b[0m 4ms/step - loss: 0.8314 - val_loss: 0.8645\n",
      "Epoch 40/50\n",
      "\u001b[1m29/29\u001b[0m \u001b[32m━━━━━━━━━━━━━━━━━━━━\u001b[0m\u001b[37m\u001b[0m \u001b[1m0s\u001b[0m 3ms/step - loss: 0.8166 - val_loss: 0.8628\n",
      "Epoch 41/50\n",
      "\u001b[1m29/29\u001b[0m \u001b[32m━━━━━━━━━━━━━━━━━━━━\u001b[0m\u001b[37m\u001b[0m \u001b[1m0s\u001b[0m 3ms/step - loss: 0.8342 - val_loss: 0.8617\n",
      "Epoch 42/50\n",
      "\u001b[1m29/29\u001b[0m \u001b[32m━━━━━━━━━━━━━━━━━━━━\u001b[0m\u001b[37m\u001b[0m \u001b[1m0s\u001b[0m 3ms/step - loss: 0.8030 - val_loss: 0.8605\n",
      "Epoch 43/50\n",
      "\u001b[1m29/29\u001b[0m \u001b[32m━━━━━━━━━━━━━━━━━━━━\u001b[0m\u001b[37m\u001b[0m \u001b[1m0s\u001b[0m 4ms/step - loss: 0.8147 - val_loss: 0.8594\n",
      "Epoch 44/50\n",
      "\u001b[1m29/29\u001b[0m \u001b[32m━━━━━━━━━━━━━━━━━━━━\u001b[0m\u001b[37m\u001b[0m \u001b[1m0s\u001b[0m 3ms/step - loss: 0.8066 - val_loss: 0.8582\n",
      "Epoch 45/50\n",
      "\u001b[1m29/29\u001b[0m \u001b[32m━━━━━━━━━━━━━━━━━━━━\u001b[0m\u001b[37m\u001b[0m \u001b[1m0s\u001b[0m 3ms/step - loss: 0.8220 - val_loss: 0.8572\n",
      "Epoch 46/50\n",
      "\u001b[1m29/29\u001b[0m \u001b[32m━━━━━━━━━━━━━━━━━━━━\u001b[0m\u001b[37m\u001b[0m \u001b[1m0s\u001b[0m 3ms/step - loss: 0.8070 - val_loss: 0.8566\n",
      "Epoch 47/50\n",
      "\u001b[1m29/29\u001b[0m \u001b[32m━━━━━━━━━━━━━━━━━━━━\u001b[0m\u001b[37m\u001b[0m \u001b[1m0s\u001b[0m 4ms/step - loss: 0.8137 - val_loss: 0.8556\n",
      "Epoch 48/50\n",
      "\u001b[1m29/29\u001b[0m \u001b[32m━━━━━━━━━━━━━━━━━━━━\u001b[0m\u001b[37m\u001b[0m \u001b[1m0s\u001b[0m 3ms/step - loss: 0.8092 - val_loss: 0.8547\n",
      "Epoch 49/50\n",
      "\u001b[1m29/29\u001b[0m \u001b[32m━━━━━━━━━━━━━━━━━━━━\u001b[0m\u001b[37m\u001b[0m \u001b[1m0s\u001b[0m 3ms/step - loss: 0.8069 - val_loss: 0.8541\n",
      "Epoch 50/50\n",
      "\u001b[1m29/29\u001b[0m \u001b[32m━━━━━━━━━━━━━━━━━━━━\u001b[0m\u001b[37m\u001b[0m \u001b[1m0s\u001b[0m 4ms/step - loss: 0.8020 - val_loss: 0.8531\n",
      "\u001b[1m35/35\u001b[0m \u001b[32m━━━━━━━━━━━━━━━━━━━━\u001b[0m\u001b[37m\u001b[0m \u001b[1m0s\u001b[0m 2ms/step\n"
     ]
    },
    {
     "data": {
      "image/png": "[encoded data removed]",
      "text/plain": [
       "<Figure size 1200x600 with 1 Axes>"
      ]
     },
     "metadata": {},
     "output_type": "display_data"
    },
    {
     "name": "stdout",
     "output_type": "stream",
     "text": [
      "Detected anomalies: 55 out of 1100 samples\n"
     ]
    }
   ],
   "source": [
    "import numpy as np\n",
    "import tensorflow as tf\n",
    "from tensorflow.keras.models import Model\n",
    "from tensorflow.keras.layers import Input, Dense\n",
    "import matplotlib.pyplot as plt\n",
    "\n",
    "# 임의의 데이터 생성 (정상 데이터와 이상치 데이터)\n",
    "normal_data = np.random.normal(loc=0.0, scale=1.0, size=(1000, 20))  # 평균 0, 표준편차 1\n",
    "anomalous_data = np.random.normal(loc=5.0, scale=1.0, size=(100, 20))  # 평균 5, 표준편차 1 (이상치)\n",
    "\n",
    "# 데이터 병합\n",
    "data = np.concatenate([normal_data, anomalous_data], axis=0)\n",
    "np.random.shuffle(data)\n",
    "\n",
    "# 오토인코더 모델 정의\n",
    "input_dim = data.shape[1]\n",
    "encoding_dim = 10  # 잠재 공간 차원\n",
    "\n",
    "# 인코더\n",
    "input_layer = Input(shape=(input_dim,))\n",
    "encoded = Dense(encoding_dim, activation='relu')(input_layer)\n",
    "\n",
    "# 디코더\n",
    "decoded = Dense(input_dim, activation='sigmoid')(encoded)\n",
    "\n",
    "# 오토인코더 모델\n",
    "autoencoder = Model(input_layer, decoded)\n",
    "\n",
    "# 모델 컴파일\n",
    "autoencoder.compile(optimizer='adam', loss='mse')\n",
    "\n",
    "# 정상 데이터만으로 모델 훈련\n",
    "autoencoder.fit(normal_data, normal_data,\n",
    "                epochs=50,\n",
    "                batch_size=32,\n",
    "                shuffle=True,\n",
    "                validation_split=0.1)\n",
    "\n",
    "# 모든 데이터에 대해 재구성 오류 계산\n",
    "reconstructed_data = autoencoder.predict(data)\n",
    "reconstruction_error = np.mean(np.power(data - reconstructed_data, 2), axis=1)\n",
    "\n",
    "# 이상치 탐지를 위한 임계값 설정 (재구성 오류가 큰 데이터는 이상치로 판단)\n",
    "threshold = np.percentile(reconstruction_error, 95)  # 상위 5%를 이상치로 설정\n",
    "\n",
    "# 이상치와 정상 데이터 분류\n",
    "anomalies = reconstruction_error > threshold\n",
    "\n",
    "# 결과 시각화\n",
    "plt.figure(figsize=(12, 6))\n",
    "plt.hist(reconstruction_error, bins=50, color='blue', alpha=0.7, label='Reconstruction Error')\n",
    "plt.axvline(threshold, color='red', linestyle='--', label='Threshold')\n",
    "plt.xlabel('Reconstruction Error')\n",
    "plt.ylabel('Frequency')\n",
    "plt.legend()\n",
    "plt.show()\n",
    "\n",
    "print(f\"Detected anomalies: {np.sum(anomalies)} out of {data.shape[0]} samples\")\n"
   ]
  },
  {
   "cell_type": "code",
   "execution_count": null,
   "id": "044d5f46",
   "metadata": {
    "id": "044d5f46"
   },
   "outputs": [],
   "source": [
    "# 결과 해석\n",
    "# 재구성 오류가 높으면, 모델이 입력 데이터를 정상적인 범위로 잘 복원하지 못했음을 의미하며, 이를 이상치로 판단할 수 있습니다.\n",
    "# 이 방법은 주로 이상 탐지 문제에서 사용되며, 정상 데이터로 훈련된 오토인코더가 이상 데이터를 잘 재구성하지 못하는 점을 활용합니다."
   ]
  },
  {
   "cell_type": "code",
   "execution_count": null,
   "id": "d5febb07",
   "metadata": {
    "id": "d5febb07"
   },
   "outputs": [],
   "source": [
    "# 1. 재구성 오류 히스토그램\n",
    "# 히스토그램은 재구성 오류의 분포를 시각화한 것입니다.\n",
    "\n",
    "# X축: 재구성 오류 (Reconstruction Error). 이는 입력 데이터와 오토인코더가 복원한 데이터 간의 차이를 나타냅니다.\n",
    "# Y축: 오류 범위에 해당하는 데이터 포인트의 빈도수.\n",
    "# 파란색 막대: 오류 값의 분포를 나타냅니다. 대부분의 데이터는 작은 오류를 가지고 있지만, 일부 데이터는 큰 오류를 나타냅니다.\n",
    "# 빨간색 점선 (임계값): 이 선은 threshold = np.percentile(reconstruction_error, 95)에 의해 설정된 임계값으로, 재구성 오류가 상위 5%인 데이터를 기준으로 설정되었습니다.\n",
    "\n",
    "# 해석:\n",
    "# 임계값을 초과하는 데이터 포인트는 이상치로 간주됩니다.\n",
    "# 히스토그램을 보면, 대부분의 정상 데이터는 임계값 이하의 재구성 오류를 가지고 있습니다.\n",
    "# 하지만 정상 데이터와 상당히 다른 이상치 데이터는 큰 재구성 오류를 가지며, 임계값을 초과한 부분에 위치하게 됩니다.\n",
    "\n",
    "# 2. 출력된 이상치의 개수\n",
    "# print(f\"Detected anomalies: {np.sum(anomalies)} out of {data.shape[0]} samples\")\n",
    "\n",
    "# Detected anomalies: 55 out of 1100 samples\n",
    "\n",
    "# 이 출력문은 이상치로 판별된 데이터의 개수를 보여줍니다.\n",
    "# np.sum(anomalies): 이상치로 판별된 데이터의 개수를 계산합니다.\n",
    "# data.shape[0]: 전체 데이터의 개수입니다.\n",
    "# 해석:\n",
    "# 출력된 숫자는 오토인코더가 재구성 오류를 기준으로 이상치로 분류한 데이터의 수입니다.\n",
    "# 예를 들어, Detected anomalies: 50 out of 1100 samples라는 결과가 나왔다면, 전체 데이터 1100개 중에서 50개가 이상치로 탐지되었다는 의미입니다. 이 중 이상치 데이터(100개 중 일부 또는 전체)가 포함되었을 가능성이 높습니다.\n",
    "# 전반적인 결과 해석\n",
    "# 오토인코더는 정상 데이터만으로 학습되었기 때문에 정상 데이터에 대한 재구성 오류는 낮게 나타나며, 오토인코더가 학습하지 않은 이상치 데이터는 높은 재구성 오류를 보입니다.\n",
    "# 이 높은 재구성 오류를 기준으로 오토인코더는 이상치 데이터를 잘 판별할 수 있게 되며, 임계값을 초과하는 데이터 포인트가 이상치로 분류됩니다."
   ]
  },
  {
   "cell_type": "code",
   "execution_count": null,
   "id": "158d8da8",
   "metadata": {
    "id": "158d8da8"
   },
   "outputs": [],
   "source": []
  },
  {
   "cell_type": "markdown",
   "id": "0948a444",
   "metadata": {
    "id": "0948a444"
   },
   "source": [
    "# 이상치 데이터를 제거 후, 남은 데이터로 다시 오토인코더를 학습"
   ]
  },
  {
   "cell_type": "code",
   "execution_count": null,
   "id": "25adcb88",
   "metadata": {
    "id": "25adcb88"
   },
   "outputs": [],
   "source": [
    "# 코드 설명\n",
    "# 이상치 제거:\n",
    "\n",
    "# anomalies 배열을 사용하여, 이상치가 아닌 데이터를 cleaned_data에 저장합니다.\n",
    "# cleaned_data = data[~anomalies]는 이상치를 제거한 후의 데이터로, 재학습에 사용됩니다.\n",
    "# 오토인코더 모델 재학습:\n",
    "\n",
    "# 이상치를 제거한 후의 데이터를 이용하여 오토인코더를 다시 학습합니다.\n",
    "# 재구성 오류 시각화:\n",
    "\n",
    "# 재학습된 모델의 재구성 오류를 시각화하여, 이상치가 제거된 후의 데이터에서 재구성 오류가 어떻게 분포되는지 확인할 수 있습니다."
   ]
  },
  {
   "cell_type": "code",
   "execution_count": null,
   "id": "a467667c",
   "metadata": {
    "id": "a467667c",
    "outputId": "0e32304c-4337-4ec5-9ea8-c50c35627dbb"
   },
   "outputs": [
    {
     "name": "stdout",
     "output_type": "stream",
     "text": [
      "Epoch 1/50\n",
      "\u001b[1m29/29\u001b[0m \u001b[32m━━━━━━━━━━━━━━━━━━━━\u001b[0m\u001b[37m\u001b[0m \u001b[1m1s\u001b[0m 13ms/step - loss: 1.2396 - val_loss: 1.1822\n",
      "Epoch 2/50\n",
      "\u001b[1m29/29\u001b[0m \u001b[32m━━━━━━━━━━━━━━━━━━━━\u001b[0m\u001b[37m\u001b[0m \u001b[1m0s\u001b[0m 4ms/step - loss: 1.2001 - val_loss: 1.1492\n",
      "Epoch 3/50\n",
      "\u001b[1m29/29\u001b[0m \u001b[32m━━━━━━━━━━━━━━━━━━━━\u001b[0m\u001b[37m\u001b[0m \u001b[1m0s\u001b[0m 4ms/step - loss: 1.1449 - val_loss: 1.1173\n",
      "Epoch 4/50\n",
      "\u001b[1m29/29\u001b[0m \u001b[32m━━━━━━━━━━━━━━━━━━━━\u001b[0m\u001b[37m\u001b[0m \u001b[1m0s\u001b[0m 3ms/step - loss: 1.1410 - val_loss: 1.0872\n",
      "Epoch 5/50\n",
      "\u001b[1m29/29\u001b[0m \u001b[32m━━━━━━━━━━━━━━━━━━━━\u001b[0m\u001b[37m\u001b[0m \u001b[1m0s\u001b[0m 3ms/step - loss: 1.0864 - val_loss: 1.0589\n",
      "Epoch 6/50\n",
      "\u001b[1m29/29\u001b[0m \u001b[32m━━━━━━━━━━━━━━━━━━━━\u001b[0m\u001b[37m\u001b[0m \u001b[1m0s\u001b[0m 3ms/step - loss: 1.0805 - val_loss: 1.0322\n",
      "Epoch 7/50\n",
      "\u001b[1m29/29\u001b[0m \u001b[32m━━━━━━━━━━━━━━━━━━━━\u001b[0m\u001b[37m\u001b[0m \u001b[1m0s\u001b[0m 3ms/step - loss: 1.0461 - val_loss: 1.0074\n",
      "Epoch 8/50\n",
      "\u001b[1m29/29\u001b[0m \u001b[32m━━━━━━━━━━━━━━━━━━━━\u001b[0m\u001b[37m\u001b[0m \u001b[1m0s\u001b[0m 5ms/step - loss: 1.0065 - val_loss: 0.9850\n",
      "Epoch 9/50\n",
      "\u001b[1m29/29\u001b[0m \u001b[32m━━━━━━━━━━━━━━━━━━━━\u001b[0m\u001b[37m\u001b[0m \u001b[1m0s\u001b[0m 3ms/step - loss: 0.9973 - val_loss: 0.9655\n",
      "Epoch 10/50\n",
      "\u001b[1m29/29\u001b[0m \u001b[32m━━━━━━━━━━━━━━━━━━━━\u001b[0m\u001b[37m\u001b[0m \u001b[1m0s\u001b[0m 3ms/step - loss: 0.9856 - val_loss: 0.9485\n",
      "Epoch 11/50\n",
      "\u001b[1m29/29\u001b[0m \u001b[32m━━━━━━━━━━━━━━━━━━━━\u001b[0m\u001b[37m\u001b[0m \u001b[1m0s\u001b[0m 3ms/step - loss: 0.9549 - val_loss: 0.9336\n",
      "Epoch 12/50\n",
      "\u001b[1m29/29\u001b[0m \u001b[32m━━━━━━━━━━━━━━━━━━━━\u001b[0m\u001b[37m\u001b[0m \u001b[1m0s\u001b[0m 4ms/step - loss: 0.9494 - val_loss: 0.9205\n",
      "Epoch 13/50\n",
      "\u001b[1m29/29\u001b[0m \u001b[32m━━━━━━━━━━━━━━━━━━━━\u001b[0m\u001b[37m\u001b[0m \u001b[1m0s\u001b[0m 5ms/step - loss: 0.9292 - val_loss: 0.9087\n",
      "Epoch 14/50\n",
      "\u001b[1m29/29\u001b[0m \u001b[32m━━━━━━━━━━━━━━━━━━━━\u001b[0m\u001b[37m\u001b[0m \u001b[1m0s\u001b[0m 3ms/step - loss: 0.9445 - val_loss: 0.8977\n",
      "Epoch 15/50\n",
      "\u001b[1m29/29\u001b[0m \u001b[32m━━━━━━━━━━━━━━━━━━━━\u001b[0m\u001b[37m\u001b[0m \u001b[1m0s\u001b[0m 5ms/step - loss: 0.9180 - val_loss: 0.8885\n",
      "Epoch 16/50\n",
      "\u001b[1m29/29\u001b[0m \u001b[32m━━━━━━━━━━━━━━━━━━━━\u001b[0m\u001b[37m\u001b[0m \u001b[1m0s\u001b[0m 4ms/step - loss: 0.9085 - val_loss: 0.8799\n",
      "Epoch 17/50\n",
      "\u001b[1m29/29\u001b[0m \u001b[32m━━━━━━━━━━━━━━━━━━━━\u001b[0m\u001b[37m\u001b[0m \u001b[1m0s\u001b[0m 5ms/step - loss: 0.8964 - val_loss: 0.8724\n",
      "Epoch 18/50\n",
      "\u001b[1m29/29\u001b[0m \u001b[32m━━━━━━━━━━━━━━━━━━━━\u001b[0m\u001b[37m\u001b[0m \u001b[1m0s\u001b[0m 4ms/step - loss: 0.8897 - val_loss: 0.8655\n",
      "Epoch 19/50\n",
      "\u001b[1m29/29\u001b[0m \u001b[32m━━━━━━━━━━━━━━━━━━━━\u001b[0m\u001b[37m\u001b[0m \u001b[1m0s\u001b[0m 5ms/step - loss: 0.8910 - val_loss: 0.8591\n",
      "Epoch 20/50\n",
      "\u001b[1m29/29\u001b[0m \u001b[32m━━━━━━━━━━━━━━━━━━━━\u001b[0m\u001b[37m\u001b[0m \u001b[1m0s\u001b[0m 5ms/step - loss: 0.8783 - val_loss: 0.8533\n",
      "Epoch 21/50\n",
      "\u001b[1m29/29\u001b[0m \u001b[32m━━━━━━━━━━━━━━━━━━━━\u001b[0m\u001b[37m\u001b[0m \u001b[1m0s\u001b[0m 4ms/step - loss: 0.8800 - val_loss: 0.8481\n",
      "Epoch 22/50\n",
      "\u001b[1m29/29\u001b[0m \u001b[32m━━━━━━━━━━━━━━━━━━━━\u001b[0m\u001b[37m\u001b[0m \u001b[1m0s\u001b[0m 4ms/step - loss: 0.8680 - val_loss: 0.8431\n",
      "Epoch 23/50\n",
      "\u001b[1m29/29\u001b[0m \u001b[32m━━━━━━━━━━━━━━━━━━━━\u001b[0m\u001b[37m\u001b[0m \u001b[1m0s\u001b[0m 3ms/step - loss: 0.8845 - val_loss: 0.8383\n",
      "Epoch 24/50\n",
      "\u001b[1m29/29\u001b[0m \u001b[32m━━━━━━━━━━━━━━━━━━━━\u001b[0m\u001b[37m\u001b[0m \u001b[1m0s\u001b[0m 4ms/step - loss: 0.8561 - val_loss: 0.8340\n",
      "Epoch 25/50\n",
      "\u001b[1m29/29\u001b[0m \u001b[32m━━━━━━━━━━━━━━━━━━━━\u001b[0m\u001b[37m\u001b[0m \u001b[1m0s\u001b[0m 6ms/step - loss: 0.8524 - val_loss: 0.8296\n",
      "Epoch 26/50\n",
      "\u001b[1m29/29\u001b[0m \u001b[32m━━━━━━━━━━━━━━━━━━━━\u001b[0m\u001b[37m\u001b[0m \u001b[1m0s\u001b[0m 5ms/step - loss: 0.8650 - val_loss: 0.8259\n",
      "Epoch 27/50\n",
      "\u001b[1m29/29\u001b[0m \u001b[32m━━━━━━━━━━━━━━━━━━━━\u001b[0m\u001b[37m\u001b[0m \u001b[1m0s\u001b[0m 5ms/step - loss: 0.8455 - val_loss: 0.8222\n",
      "Epoch 28/50\n",
      "\u001b[1m29/29\u001b[0m \u001b[32m━━━━━━━━━━━━━━━━━━━━\u001b[0m\u001b[37m\u001b[0m \u001b[1m0s\u001b[0m 4ms/step - loss: 0.8427 - val_loss: 0.8187\n",
      "Epoch 29/50\n",
      "\u001b[1m29/29\u001b[0m \u001b[32m━━━━━━━━━━━━━━━━━━━━\u001b[0m\u001b[37m\u001b[0m \u001b[1m0s\u001b[0m 4ms/step - loss: 0.8582 - val_loss: 0.8155\n",
      "Epoch 30/50\n",
      "\u001b[1m29/29\u001b[0m \u001b[32m━━━━━━━━━━━━━━━━━━━━\u001b[0m\u001b[37m\u001b[0m \u001b[1m0s\u001b[0m 4ms/step - loss: 0.8517 - val_loss: 0.8127\n",
      "Epoch 31/50\n",
      "\u001b[1m29/29\u001b[0m \u001b[32m━━━━━━━━━━━━━━━━━━━━\u001b[0m\u001b[37m\u001b[0m \u001b[1m0s\u001b[0m 4ms/step - loss: 0.8409 - val_loss: 0.8100\n",
      "Epoch 32/50\n",
      "\u001b[1m29/29\u001b[0m \u001b[32m━━━━━━━━━━━━━━━━━━━━\u001b[0m\u001b[37m\u001b[0m \u001b[1m0s\u001b[0m 3ms/step - loss: 0.8282 - val_loss: 0.8073\n",
      "Epoch 33/50\n",
      "\u001b[1m29/29\u001b[0m \u001b[32m━━━━━━━━━━━━━━━━━━━━\u001b[0m\u001b[37m\u001b[0m \u001b[1m0s\u001b[0m 3ms/step - loss: 0.8191 - val_loss: 0.8050\n",
      "Epoch 34/50\n",
      "\u001b[1m29/29\u001b[0m \u001b[32m━━━━━━━━━━━━━━━━━━━━\u001b[0m\u001b[37m\u001b[0m \u001b[1m0s\u001b[0m 3ms/step - loss: 0.8339 - val_loss: 0.8029\n",
      "Epoch 35/50\n",
      "\u001b[1m29/29\u001b[0m \u001b[32m━━━━━━━━━━━━━━━━━━━━\u001b[0m\u001b[37m\u001b[0m \u001b[1m0s\u001b[0m 3ms/step - loss: 0.8274 - val_loss: 0.8008\n",
      "Epoch 36/50\n",
      "\u001b[1m29/29\u001b[0m \u001b[32m━━━━━━━━━━━━━━━━━━━━\u001b[0m\u001b[37m\u001b[0m \u001b[1m0s\u001b[0m 3ms/step - loss: 0.8222 - val_loss: 0.7990\n",
      "Epoch 37/50\n",
      "\u001b[1m29/29\u001b[0m \u001b[32m━━━━━━━━━━━━━━━━━━━━\u001b[0m\u001b[37m\u001b[0m \u001b[1m0s\u001b[0m 3ms/step - loss: 0.8207 - val_loss: 0.7971\n",
      "Epoch 38/50\n",
      "\u001b[1m29/29\u001b[0m \u001b[32m━━━━━━━━━━━━━━━━━━━━\u001b[0m\u001b[37m\u001b[0m \u001b[1m0s\u001b[0m 3ms/step - loss: 0.8164 - val_loss: 0.7956\n",
      "Epoch 39/50\n",
      "\u001b[1m29/29\u001b[0m \u001b[32m━━━━━━━━━━━━━━━━━━━━\u001b[0m\u001b[37m\u001b[0m \u001b[1m0s\u001b[0m 4ms/step - loss: 0.8144 - val_loss: 0.7939\n",
      "Epoch 40/50\n",
      "\u001b[1m29/29\u001b[0m \u001b[32m━━━━━━━━━━━━━━━━━━━━\u001b[0m\u001b[37m\u001b[0m \u001b[1m0s\u001b[0m 5ms/step - loss: 0.8081 - val_loss: 0.7925\n",
      "Epoch 41/50\n",
      "\u001b[1m29/29\u001b[0m \u001b[32m━━━━━━━━━━━━━━━━━━━━\u001b[0m\u001b[37m\u001b[0m \u001b[1m0s\u001b[0m 4ms/step - loss: 0.8092 - val_loss: 0.7911\n",
      "Epoch 42/50\n",
      "\u001b[1m29/29\u001b[0m \u001b[32m━━━━━━━━━━━━━━━━━━━━\u001b[0m\u001b[37m\u001b[0m \u001b[1m0s\u001b[0m 3ms/step - loss: 0.8049 - val_loss: 0.7900\n",
      "Epoch 43/50\n",
      "\u001b[1m29/29\u001b[0m \u001b[32m━━━━━━━━━━━━━━━━━━━━\u001b[0m\u001b[37m\u001b[0m \u001b[1m0s\u001b[0m 4ms/step - loss: 0.8145 - val_loss: 0.7889\n",
      "Epoch 44/50\n",
      "\u001b[1m29/29\u001b[0m \u001b[32m━━━━━━━━━━━━━━━━━━━━\u001b[0m\u001b[37m\u001b[0m \u001b[1m0s\u001b[0m 4ms/step - loss: 0.8104 - val_loss: 0.7875\n",
      "Epoch 45/50\n",
      "\u001b[1m29/29\u001b[0m \u001b[32m━━━━━━━━━━━━━━━━━━━━\u001b[0m\u001b[37m\u001b[0m \u001b[1m0s\u001b[0m 5ms/step - loss: 0.7970 - val_loss: 0.7866\n",
      "Epoch 46/50\n",
      "\u001b[1m29/29\u001b[0m \u001b[32m━━━━━━━━━━━━━━━━━━━━\u001b[0m\u001b[37m\u001b[0m \u001b[1m0s\u001b[0m 4ms/step - loss: 0.7920 - val_loss: 0.7854\n",
      "Epoch 47/50\n",
      "\u001b[1m29/29\u001b[0m \u001b[32m━━━━━━━━━━━━━━━━━━━━\u001b[0m\u001b[37m\u001b[0m \u001b[1m0s\u001b[0m 5ms/step - loss: 0.7944 - val_loss: 0.7846\n",
      "Epoch 48/50\n",
      "\u001b[1m29/29\u001b[0m \u001b[32m━━━━━━━━━━━━━━━━━━━━\u001b[0m\u001b[37m\u001b[0m \u001b[1m0s\u001b[0m 3ms/step - loss: 0.7930 - val_loss: 0.7833\n",
      "Epoch 49/50\n",
      "\u001b[1m29/29\u001b[0m \u001b[32m━━━━━━━━━━━━━━━━━━━━\u001b[0m\u001b[37m\u001b[0m \u001b[1m0s\u001b[0m 4ms/step - loss: 0.7897 - val_loss: 0.7825\n",
      "Epoch 50/50\n",
      "\u001b[1m29/29\u001b[0m \u001b[32m━━━━━━━━━━━━━━━━━━━━\u001b[0m\u001b[37m\u001b[0m \u001b[1m0s\u001b[0m 5ms/step - loss: 0.7986 - val_loss: 0.7815\n",
      "\u001b[1m35/35\u001b[0m \u001b[32m━━━━━━━━━━━━━━━━━━━━\u001b[0m\u001b[37m\u001b[0m \u001b[1m0s\u001b[0m 3ms/step\n",
      "Number of samples after removing anomalies: 1045\n",
      "Epoch 1/50\n",
      "\u001b[1m30/30\u001b[0m \u001b[32m━━━━━━━━━━━━━━━━━━━━\u001b[0m\u001b[37m\u001b[0m \u001b[1m0s\u001b[0m 5ms/step - loss: 1.6908 - val_loss: 1.9090\n",
      "Epoch 2/50\n",
      "\u001b[1m30/30\u001b[0m \u001b[32m━━━━━━━━━━━━━━━━━━━━\u001b[0m\u001b[37m\u001b[0m \u001b[1m0s\u001b[0m 4ms/step - loss: 1.7336 - val_loss: 1.9034\n",
      "Epoch 3/50\n",
      "\u001b[1m30/30\u001b[0m \u001b[32m━━━━━━━━━━━━━━━━━━━━\u001b[0m\u001b[37m\u001b[0m \u001b[1m0s\u001b[0m 4ms/step - loss: 1.5663 - val_loss: 1.8997\n",
      "Epoch 4/50\n",
      "\u001b[1m30/30\u001b[0m \u001b[32m━━━━━━━━━━━━━━━━━━━━\u001b[0m\u001b[37m\u001b[0m \u001b[1m0s\u001b[0m 6ms/step - loss: 1.4395 - val_loss: 1.8958\n",
      "Epoch 5/50\n",
      "\u001b[1m30/30\u001b[0m \u001b[32m━━━━━━━━━━━━━━━━━━━━\u001b[0m\u001b[37m\u001b[0m \u001b[1m0s\u001b[0m 4ms/step - loss: 1.3634 - val_loss: 1.8913\n",
      "Epoch 6/50\n",
      "\u001b[1m30/30\u001b[0m \u001b[32m━━━━━━━━━━━━━━━━━━━━\u001b[0m\u001b[37m\u001b[0m \u001b[1m0s\u001b[0m 4ms/step - loss: 1.5074 - val_loss: 1.8800\n",
      "Epoch 7/50\n",
      "\u001b[1m30/30\u001b[0m \u001b[32m━━━━━━━━━━━━━━━━━━━━\u001b[0m\u001b[37m\u001b[0m \u001b[1m0s\u001b[0m 4ms/step - loss: 1.2847 - val_loss: 1.8509\n",
      "Epoch 8/50\n",
      "\u001b[1m30/30\u001b[0m \u001b[32m━━━━━━━━━━━━━━━━━━━━\u001b[0m\u001b[37m\u001b[0m \u001b[1m0s\u001b[0m 4ms/step - loss: 1.5059 - val_loss: 1.8254\n",
      "Epoch 9/50\n",
      "\u001b[1m30/30\u001b[0m \u001b[32m━━━━━━━━━━━━━━━━━━━━\u001b[0m\u001b[37m\u001b[0m \u001b[1m0s\u001b[0m 4ms/step - loss: 1.5954 - val_loss: 1.7972\n",
      "Epoch 10/50\n",
      "\u001b[1m30/30\u001b[0m \u001b[32m━━━━━━━━━━━━━━━━━━━━\u001b[0m\u001b[37m\u001b[0m \u001b[1m0s\u001b[0m 3ms/step - loss: 1.5097 - val_loss: 1.7729\n",
      "Epoch 11/50\n",
      "\u001b[1m30/30\u001b[0m \u001b[32m━━━━━━━━━━━━━━━━━━━━\u001b[0m\u001b[37m\u001b[0m \u001b[1m0s\u001b[0m 4ms/step - loss: 1.4933 - val_loss: 1.7660\n",
      "Epoch 12/50\n",
      "\u001b[1m30/30\u001b[0m \u001b[32m━━━━━━━━━━━━━━━━━━━━\u001b[0m\u001b[37m\u001b[0m \u001b[1m0s\u001b[0m 3ms/step - loss: 1.4374 - val_loss: 1.7622\n",
      "Epoch 13/50\n",
      "\u001b[1m30/30\u001b[0m \u001b[32m━━━━━━━━━━━━━━━━━━━━\u001b[0m\u001b[37m\u001b[0m \u001b[1m0s\u001b[0m 4ms/step - loss: 1.4003 - val_loss: 1.7604\n",
      "Epoch 14/50\n",
      "\u001b[1m30/30\u001b[0m \u001b[32m━━━━━━━━━━━━━━━━━━━━\u001b[0m\u001b[37m\u001b[0m \u001b[1m0s\u001b[0m 4ms/step - loss: 1.3858 - val_loss: 1.7583\n",
      "Epoch 15/50\n",
      "\u001b[1m30/30\u001b[0m \u001b[32m━━━━━━━━━━━━━━━━━━━━\u001b[0m\u001b[37m\u001b[0m \u001b[1m0s\u001b[0m 4ms/step - loss: 1.4746 - val_loss: 1.7566\n",
      "Epoch 16/50\n",
      "\u001b[1m30/30\u001b[0m \u001b[32m━━━━━━━━━━━━━━━━━━━━\u001b[0m\u001b[37m\u001b[0m \u001b[1m0s\u001b[0m 5ms/step - loss: 1.2687 - val_loss: 1.7542\n",
      "Epoch 17/50\n",
      "\u001b[1m30/30\u001b[0m \u001b[32m━━━━━━━━━━━━━━━━━━━━\u001b[0m\u001b[37m\u001b[0m \u001b[1m0s\u001b[0m 4ms/step - loss: 1.5863 - val_loss: 1.7482\n",
      "Epoch 18/50\n",
      "\u001b[1m30/30\u001b[0m \u001b[32m━━━━━━━━━━━━━━━━━━━━\u001b[0m\u001b[37m\u001b[0m \u001b[1m0s\u001b[0m 4ms/step - loss: 1.5226 - val_loss: 1.7419\n"
     ]
    },
    {
     "name": "stdout",
     "output_type": "stream",
     "text": [
      "Epoch 19/50\n",
      "\u001b[1m30/30\u001b[0m \u001b[32m━━━━━━━━━━━━━━━━━━━━\u001b[0m\u001b[37m\u001b[0m \u001b[1m0s\u001b[0m 3ms/step - loss: 1.5630 - val_loss: 1.7376\n",
      "Epoch 20/50\n",
      "\u001b[1m30/30\u001b[0m \u001b[32m━━━━━━━━━━━━━━━━━━━━\u001b[0m\u001b[37m\u001b[0m \u001b[1m0s\u001b[0m 4ms/step - loss: 1.5678 - val_loss: 1.7360\n",
      "Epoch 21/50\n",
      "\u001b[1m30/30\u001b[0m \u001b[32m━━━━━━━━━━━━━━━━━━━━\u001b[0m\u001b[37m\u001b[0m \u001b[1m0s\u001b[0m 3ms/step - loss: 1.4526 - val_loss: 1.7344\n",
      "Epoch 22/50\n",
      "\u001b[1m30/30\u001b[0m \u001b[32m━━━━━━━━━━━━━━━━━━━━\u001b[0m\u001b[37m\u001b[0m \u001b[1m0s\u001b[0m 4ms/step - loss: 1.3975 - val_loss: 1.7336\n",
      "Epoch 23/50\n",
      "\u001b[1m30/30\u001b[0m \u001b[32m━━━━━━━━━━━━━━━━━━━━\u001b[0m\u001b[37m\u001b[0m \u001b[1m0s\u001b[0m 4ms/step - loss: 1.5322 - val_loss: 1.7331\n",
      "Epoch 24/50\n",
      "\u001b[1m30/30\u001b[0m \u001b[32m━━━━━━━━━━━━━━━━━━━━\u001b[0m\u001b[37m\u001b[0m \u001b[1m0s\u001b[0m 3ms/step - loss: 1.4716 - val_loss: 1.7314\n",
      "Epoch 25/50\n",
      "\u001b[1m30/30\u001b[0m \u001b[32m━━━━━━━━━━━━━━━━━━━━\u001b[0m\u001b[37m\u001b[0m \u001b[1m0s\u001b[0m 3ms/step - loss: 1.2826 - val_loss: 1.7151\n",
      "Epoch 26/50\n",
      "\u001b[1m30/30\u001b[0m \u001b[32m━━━━━━━━━━━━━━━━━━━━\u001b[0m\u001b[37m\u001b[0m \u001b[1m0s\u001b[0m 4ms/step - loss: 1.3705 - val_loss: 1.7121\n",
      "Epoch 27/50\n",
      "\u001b[1m30/30\u001b[0m \u001b[32m━━━━━━━━━━━━━━━━━━━━\u001b[0m\u001b[37m\u001b[0m \u001b[1m0s\u001b[0m 3ms/step - loss: 1.3725 - val_loss: 1.7112\n",
      "Epoch 28/50\n",
      "\u001b[1m30/30\u001b[0m \u001b[32m━━━━━━━━━━━━━━━━━━━━\u001b[0m\u001b[37m\u001b[0m \u001b[1m0s\u001b[0m 4ms/step - loss: 1.3857 - val_loss: 1.7108\n",
      "Epoch 29/50\n",
      "\u001b[1m30/30\u001b[0m \u001b[32m━━━━━━━━━━━━━━━━━━━━\u001b[0m\u001b[37m\u001b[0m \u001b[1m0s\u001b[0m 4ms/step - loss: 1.5403 - val_loss: 1.7106\n",
      "Epoch 30/50\n",
      "\u001b[1m30/30\u001b[0m \u001b[32m━━━━━━━━━━━━━━━━━━━━\u001b[0m\u001b[37m\u001b[0m \u001b[1m0s\u001b[0m 3ms/step - loss: 1.2487 - val_loss: 1.7104\n",
      "Epoch 31/50\n",
      "\u001b[1m30/30\u001b[0m \u001b[32m━━━━━━━━━━━━━━━━━━━━\u001b[0m\u001b[37m\u001b[0m \u001b[1m0s\u001b[0m 4ms/step - loss: 1.3133 - val_loss: 1.7103\n",
      "Epoch 32/50\n",
      "\u001b[1m30/30\u001b[0m \u001b[32m━━━━━━━━━━━━━━━━━━━━\u001b[0m\u001b[37m\u001b[0m \u001b[1m0s\u001b[0m 3ms/step - loss: 1.4449 - val_loss: 1.7099\n",
      "Epoch 33/50\n",
      "\u001b[1m30/30\u001b[0m \u001b[32m━━━━━━━━━━━━━━━━━━━━\u001b[0m\u001b[37m\u001b[0m \u001b[1m0s\u001b[0m 3ms/step - loss: 1.3684 - val_loss: 1.7098\n",
      "Epoch 34/50\n",
      "\u001b[1m30/30\u001b[0m \u001b[32m━━━━━━━━━━━━━━━━━━━━\u001b[0m\u001b[37m\u001b[0m \u001b[1m0s\u001b[0m 3ms/step - loss: 1.4709 - val_loss: 1.7097\n",
      "Epoch 35/50\n",
      "\u001b[1m30/30\u001b[0m \u001b[32m━━━━━━━━━━━━━━━━━━━━\u001b[0m\u001b[37m\u001b[0m \u001b[1m0s\u001b[0m 5ms/step - loss: 1.5380 - val_loss: 1.7094\n",
      "Epoch 36/50\n",
      "\u001b[1m30/30\u001b[0m \u001b[32m━━━━━━━━━━━━━━━━━━━━\u001b[0m\u001b[37m\u001b[0m \u001b[1m0s\u001b[0m 4ms/step - loss: 1.4374 - val_loss: 1.7096\n",
      "Epoch 37/50\n",
      "\u001b[1m30/30\u001b[0m \u001b[32m━━━━━━━━━━━━━━━━━━━━\u001b[0m\u001b[37m\u001b[0m \u001b[1m0s\u001b[0m 3ms/step - loss: 1.4841 - val_loss: 1.7093\n",
      "Epoch 38/50\n",
      "\u001b[1m30/30\u001b[0m \u001b[32m━━━━━━━━━━━━━━━━━━━━\u001b[0m\u001b[37m\u001b[0m \u001b[1m0s\u001b[0m 4ms/step - loss: 1.1649 - val_loss: 1.7096\n",
      "Epoch 39/50\n",
      "\u001b[1m30/30\u001b[0m \u001b[32m━━━━━━━━━━━━━━━━━━━━\u001b[0m\u001b[37m\u001b[0m \u001b[1m0s\u001b[0m 3ms/step - loss: 1.4657 - val_loss: 1.7093\n",
      "Epoch 40/50\n",
      "\u001b[1m30/30\u001b[0m \u001b[32m━━━━━━━━━━━━━━━━━━━━\u001b[0m\u001b[37m\u001b[0m \u001b[1m0s\u001b[0m 4ms/step - loss: 1.4067 - val_loss: 1.7092\n",
      "Epoch 41/50\n",
      "\u001b[1m30/30\u001b[0m \u001b[32m━━━━━━━━━━━━━━━━━━━━\u001b[0m\u001b[37m\u001b[0m \u001b[1m0s\u001b[0m 3ms/step - loss: 1.4083 - val_loss: 1.7092\n",
      "Epoch 42/50\n",
      "\u001b[1m30/30\u001b[0m \u001b[32m━━━━━━━━━━━━━━━━━━━━\u001b[0m\u001b[37m\u001b[0m \u001b[1m0s\u001b[0m 4ms/step - loss: 1.5548 - val_loss: 1.7090\n",
      "Epoch 43/50\n",
      "\u001b[1m30/30\u001b[0m \u001b[32m━━━━━━━━━━━━━━━━━━━━\u001b[0m\u001b[37m\u001b[0m \u001b[1m0s\u001b[0m 4ms/step - loss: 1.3991 - val_loss: 1.7086\n",
      "Epoch 44/50\n",
      "\u001b[1m30/30\u001b[0m \u001b[32m━━━━━━━━━━━━━━━━━━━━\u001b[0m\u001b[37m\u001b[0m \u001b[1m0s\u001b[0m 5ms/step - loss: 1.4439 - val_loss: 1.7090\n",
      "Epoch 45/50\n",
      "\u001b[1m30/30\u001b[0m \u001b[32m━━━━━━━━━━━━━━━━━━━━\u001b[0m\u001b[37m\u001b[0m \u001b[1m0s\u001b[0m 3ms/step - loss: 1.4230 - val_loss: 1.7089\n",
      "Epoch 46/50\n",
      "\u001b[1m30/30\u001b[0m \u001b[32m━━━━━━━━━━━━━━━━━━━━\u001b[0m\u001b[37m\u001b[0m \u001b[1m0s\u001b[0m 4ms/step - loss: 1.2782 - val_loss: 1.7085\n",
      "Epoch 47/50\n",
      "\u001b[1m30/30\u001b[0m \u001b[32m━━━━━━━━━━━━━━━━━━━━\u001b[0m\u001b[37m\u001b[0m \u001b[1m0s\u001b[0m 4ms/step - loss: 1.2710 - val_loss: 1.7086\n",
      "Epoch 48/50\n",
      "\u001b[1m30/30\u001b[0m \u001b[32m━━━━━━━━━━━━━━━━━━━━\u001b[0m\u001b[37m\u001b[0m \u001b[1m0s\u001b[0m 4ms/step - loss: 1.3054 - val_loss: 1.7085\n",
      "Epoch 49/50\n",
      "\u001b[1m30/30\u001b[0m \u001b[32m━━━━━━━━━━━━━━━━━━━━\u001b[0m\u001b[37m\u001b[0m \u001b[1m0s\u001b[0m 7ms/step - loss: 1.4804 - val_loss: 1.7084\n",
      "Epoch 50/50\n",
      "\u001b[1m30/30\u001b[0m \u001b[32m━━━━━━━━━━━━━━━━━━━━\u001b[0m\u001b[37m\u001b[0m \u001b[1m0s\u001b[0m 4ms/step - loss: 1.4065 - val_loss: 1.7084\n",
      "\u001b[1m33/33\u001b[0m \u001b[32m━━━━━━━━━━━━━━━━━━━━\u001b[0m\u001b[37m\u001b[0m \u001b[1m0s\u001b[0m 3ms/step\n"
     ]
    },
    {
     "data": {
      "image/png": "[encoded data removed]",
      "text/plain": [
       "<Figure size 1200x600 with 1 Axes>"
      ]
     },
     "metadata": {},
     "output_type": "display_data"
    },
    {
     "name": "stdout",
     "output_type": "stream",
     "text": [
      "Model retrained with cleaned data. Remaining samples: 1045\n"
     ]
    }
   ],
   "source": [
    "import numpy as np\n",
    "import tensorflow as tf\n",
    "from tensorflow.keras.models import Model\n",
    "from tensorflow.keras.layers import Input, Dense\n",
    "import matplotlib.pyplot as plt\n",
    "\n",
    "# 1. 임의의 데이터 생성 (정상 데이터와 이상치 데이터)\n",
    "normal_data = np.random.normal(loc=0.0, scale=1.0, size=(1000, 20))  # 평균 0, 표준편차 1\n",
    "anomalous_data = np.random.normal(loc=5.0, scale=1.0, size=(100, 20))  # 평균 5, 표준편차 1 (이상치)\n",
    "\n",
    "# 데이터 병합 및 섞기\n",
    "data = np.concatenate([normal_data, anomalous_data], axis=0)\n",
    "np.random.shuffle(data)\n",
    "\n",
    "# 2. 오토인코더 모델 정의\n",
    "input_dim = data.shape[1]\n",
    "encoding_dim = 10  # 잠재 공간 차원\n",
    "\n",
    "input_layer = Input(shape=(input_dim,))\n",
    "encoded = Dense(encoding_dim, activation='relu')(input_layer)\n",
    "decoded = Dense(input_dim, activation='sigmoid')(encoded)\n",
    "autoencoder = Model(input_layer, decoded)\n",
    "\n",
    "# 3. 모델 컴파일 및 초기 학습 (정상 데이터로만)\n",
    "autoencoder.compile(optimizer='adam', loss='mse')\n",
    "autoencoder.fit(normal_data, normal_data,\n",
    "                epochs=50,\n",
    "                batch_size=32,\n",
    "                shuffle=True,\n",
    "                validation_split=0.1)\n",
    "\n",
    "# 4. 모든 데이터에 대해 재구성 오류 계산\n",
    "reconstructed_data = autoencoder.predict(data)\n",
    "reconstruction_error = np.mean(np.power(data - reconstructed_data, 2), axis=1)\n",
    "\n",
    "# 5. 임계값 설정 및 이상치 식별\n",
    "threshold = np.percentile(reconstruction_error, 95)  # 상위 5%를 이상치로 설정\n",
    "anomalies = reconstruction_error > threshold  # 이상치로 판별된 데이터\n",
    "\n",
    "# 6. 이상치 제거\n",
    "cleaned_data = data[~anomalies]  # 이상치를 제외한 정상 데이터만 추출\n",
    "print(f\"Number of samples after removing anomalies: {cleaned_data.shape[0]}\")\n",
    "\n",
    "# 7. 오토인코더 모델 재학습 (이상치 제거 후 데이터로)\n",
    "autoencoder.fit(cleaned_data, cleaned_data,\n",
    "                epochs=50,\n",
    "                batch_size=32,\n",
    "                shuffle=True,\n",
    "                validation_split=0.1)\n",
    "\n",
    "# 8. 재구성 오류 시각화 (이상치 제거 후)\n",
    "reconstructed_data_cleaned = autoencoder.predict(cleaned_data)\n",
    "reconstruction_error_cleaned = np.mean(np.power(cleaned_data - reconstructed_data_cleaned, 2), axis=1)\n",
    "\n",
    "plt.figure(figsize=(12, 6))\n",
    "plt.hist(reconstruction_error_cleaned, bins=50, color='blue', alpha=0.7, label='Reconstruction Error (Cleaned Data)')\n",
    "plt.xlabel('Reconstruction Error')\n",
    "plt.ylabel('Frequency')\n",
    "plt.legend()\n",
    "plt.show()\n",
    "\n",
    "print(f\"Model retrained with cleaned data. Remaining samples: {cleaned_data.shape[0]}\")\n"
   ]
  },
  {
   "cell_type": "code",
   "execution_count": null,
   "id": "7439a012",
   "metadata": {
    "id": "7439a012"
   },
   "outputs": [],
   "source": [
    "# Model retrained with cleaned data. Remaining samples: 1045"
   ]
  },
  {
   "cell_type": "code",
   "execution_count": null,
   "id": "b846688e",
   "metadata": {
    "id": "b846688e"
   },
   "outputs": [],
   "source": [
    "# 결과 해석\n",
    "# 이렇게 이상치를 제거하고 남은 데이터로 다시 오토인코더를 학습함으로써,\n",
    "# 데이터에서 이상치의 영향을 최소화하여 보다 깨끗한 데이터로 모델을 훈련할 수 있게 됩니다."
   ]
  },
  {
   "cell_type": "code",
   "execution_count": null,
   "id": "0a35f606",
   "metadata": {
    "id": "0a35f606"
   },
   "outputs": [],
   "source": []
  },
  {
   "cell_type": "markdown",
   "id": "510398a4",
   "metadata": {
    "id": "510398a4"
   },
   "source": [
    "# 삼성전자 일별data 이상치 탐지"
   ]
  },
  {
   "cell_type": "code",
   "execution_count": null,
   "id": "9ee4df9f",
   "metadata": {
    "id": "9ee4df9f"
   },
   "outputs": [],
   "source": [
    "# yfinance 라이브러리를 이용하여 삼성전자의 일별 주가 데이터를 불러온 후, 오토인코더를 사용하여 이상치 탐지를 수행하는 예시를 보여드립니다.\n",
    "# 이 예제는 종가(Close) 데이터에 기반하여 이상치를 탐지하는 방식"
   ]
  },
  {
   "cell_type": "code",
   "execution_count": null,
   "id": "d6c52fd3",
   "metadata": {
    "colab": {
     "base_uri": "https://localhost:8080/",
     "height": 1000
    },
    "executionInfo": {
     "elapsed": 23962,
     "status": "ok",
     "timestamp": 1730874666661,
     "user": {
      "displayName": "전윤범",
      "userId": "16579588953913211126"
     },
     "user_tz": -540
    },
    "id": "d6c52fd3",
    "outputId": "e6928bc5-9de7-45fe-df0c-9c8b421fad73"
   },
   "outputs": [
    {
     "name": "stderr",
     "output_type": "stream",
     "text": [
      "\r",
      "[*********************100%***********************]  1 of 1 completed\n"
     ]
    },
    {
     "name": "stdout",
     "output_type": "stream",
     "text": [
      "Epoch 1/50\n",
      "\u001b[1m14/14\u001b[0m \u001b[32m━━━━━━━━━━━━━━━━━━━━\u001b[0m\u001b[37m\u001b[0m \u001b[1m4s\u001b[0m 66ms/step - loss: 1.2045 - val_loss: 1.3065\n",
      "Epoch 2/50\n",
      "\u001b[1m14/14\u001b[0m \u001b[32m━━━━━━━━━━━━━━━━━━━━\u001b[0m\u001b[37m\u001b[0m \u001b[1m0s\u001b[0m 4ms/step - loss: 1.1292 - val_loss: 1.2893\n",
      "Epoch 3/50\n",
      "\u001b[1m14/14\u001b[0m \u001b[32m━━━━━━━━━━━━━━━━━━━━\u001b[0m\u001b[37m\u001b[0m \u001b[1m0s\u001b[0m 4ms/step - loss: 1.1263 - val_loss: 1.2723\n",
      "Epoch 4/50\n",
      "\u001b[1m14/14\u001b[0m \u001b[32m━━━━━━━━━━━━━━━━━━━━\u001b[0m\u001b[37m\u001b[0m \u001b[1m0s\u001b[0m 4ms/step - loss: 1.0876 - val_loss: 1.2546\n",
      "Epoch 5/50\n",
      "\u001b[1m14/14\u001b[0m \u001b[32m━━━━━━━━━━━━━━━━━━━━\u001b[0m\u001b[37m\u001b[0m \u001b[1m0s\u001b[0m 4ms/step - loss: 1.1249 - val_loss: 1.2372\n",
      "Epoch 6/50\n",
      "\u001b[1m14/14\u001b[0m \u001b[32m━━━━━━━━━━━━━━━━━━━━\u001b[0m\u001b[37m\u001b[0m \u001b[1m0s\u001b[0m 4ms/step - loss: 1.0679 - val_loss: 1.2203\n",
      "Epoch 7/50\n",
      "\u001b[1m14/14\u001b[0m \u001b[32m━━━━━━━━━━━━━━━━━━━━\u001b[0m\u001b[37m\u001b[0m \u001b[1m0s\u001b[0m 5ms/step - loss: 1.0219 - val_loss: 1.2029\n",
      "Epoch 8/50\n",
      "\u001b[1m14/14\u001b[0m \u001b[32m━━━━━━━━━━━━━━━━━━━━\u001b[0m\u001b[37m\u001b[0m \u001b[1m0s\u001b[0m 6ms/step - loss: 1.0161 - val_loss: 1.1852\n",
      "Epoch 9/50\n",
      "\u001b[1m14/14\u001b[0m \u001b[32m━━━━━━━━━━━━━━━━━━━━\u001b[0m\u001b[37m\u001b[0m \u001b[1m0s\u001b[0m 5ms/step - loss: 1.0494 - val_loss: 1.1670\n",
      "Epoch 10/50\n",
      "\u001b[1m14/14\u001b[0m \u001b[32m━━━━━━━━━━━━━━━━━━━━\u001b[0m\u001b[37m\u001b[0m \u001b[1m0s\u001b[0m 5ms/step - loss: 1.1078 - val_loss: 1.1494\n",
      "Epoch 11/50\n",
      "\u001b[1m14/14\u001b[0m \u001b[32m━━━━━━━━━━━━━━━━━━━━\u001b[0m\u001b[37m\u001b[0m \u001b[1m0s\u001b[0m 5ms/step - loss: 1.0730 - val_loss: 1.1326\n",
      "Epoch 12/50\n",
      "\u001b[1m14/14\u001b[0m \u001b[32m━━━━━━━━━━━━━━━━━━━━\u001b[0m\u001b[37m\u001b[0m \u001b[1m0s\u001b[0m 3ms/step - loss: 1.0713 - val_loss: 1.1158\n",
      "Epoch 13/50\n",
      "\u001b[1m14/14\u001b[0m \u001b[32m━━━━━━━━━━━━━━━━━━━━\u001b[0m\u001b[37m\u001b[0m \u001b[1m0s\u001b[0m 4ms/step - loss: 1.0503 - val_loss: 1.0996\n",
      "Epoch 14/50\n",
      "\u001b[1m14/14\u001b[0m \u001b[32m━━━━━━━━━━━━━━━━━━━━\u001b[0m\u001b[37m\u001b[0m \u001b[1m0s\u001b[0m 4ms/step - loss: 0.9131 - val_loss: 1.0832\n",
      "Epoch 15/50\n",
      "\u001b[1m14/14\u001b[0m \u001b[32m━━━━━━━━━━━━━━━━━━━━\u001b[0m\u001b[37m\u001b[0m \u001b[1m0s\u001b[0m 5ms/step - loss: 1.0258 - val_loss: 1.0664\n",
      "Epoch 16/50\n",
      "\u001b[1m14/14\u001b[0m \u001b[32m━━━━━━━━━━━━━━━━━━━━\u001b[0m\u001b[37m\u001b[0m \u001b[1m0s\u001b[0m 4ms/step - loss: 1.0420 - val_loss: 1.0503\n",
      "Epoch 17/50\n",
      "\u001b[1m14/14\u001b[0m \u001b[32m━━━━━━━━━━━━━━━━━━━━\u001b[0m\u001b[37m\u001b[0m \u001b[1m0s\u001b[0m 4ms/step - loss: 1.0381 - val_loss: 1.0338\n",
      "Epoch 18/50\n",
      "\u001b[1m14/14\u001b[0m \u001b[32m━━━━━━━━━━━━━━━━━━━━\u001b[0m\u001b[37m\u001b[0m \u001b[1m0s\u001b[0m 3ms/step - loss: 0.9611 - val_loss: 1.0189\n",
      "Epoch 19/50\n",
      "\u001b[1m14/14\u001b[0m \u001b[32m━━━━━━━━━━━━━━━━━━━━\u001b[0m\u001b[37m\u001b[0m \u001b[1m0s\u001b[0m 3ms/step - loss: 1.0804 - val_loss: 1.0030\n",
      "Epoch 20/50\n",
      "\u001b[1m14/14\u001b[0m \u001b[32m━━━━━━━━━━━━━━━━━━━━\u001b[0m\u001b[37m\u001b[0m \u001b[1m0s\u001b[0m 3ms/step - loss: 0.9611 - val_loss: 0.9880\n",
      "Epoch 21/50\n",
      "\u001b[1m14/14\u001b[0m \u001b[32m━━━━━━━━━━━━━━━━━━━━\u001b[0m\u001b[37m\u001b[0m \u001b[1m0s\u001b[0m 3ms/step - loss: 1.0099 - val_loss: 0.9741\n",
      "Epoch 22/50\n",
      "\u001b[1m14/14\u001b[0m \u001b[32m━━━━━━━━━━━━━━━━━━━━\u001b[0m\u001b[37m\u001b[0m \u001b[1m0s\u001b[0m 3ms/step - loss: 0.9401 - val_loss: 0.9605\n",
      "Epoch 23/50\n",
      "\u001b[1m14/14\u001b[0m \u001b[32m━━━━━━━━━━━━━━━━━━━━\u001b[0m\u001b[37m\u001b[0m \u001b[1m0s\u001b[0m 3ms/step - loss: 1.0262 - val_loss: 0.9458\n",
      "Epoch 24/50\n",
      "\u001b[1m14/14\u001b[0m \u001b[32m━━━━━━━━━━━━━━━━━━━━\u001b[0m\u001b[37m\u001b[0m \u001b[1m0s\u001b[0m 3ms/step - loss: 0.9376 - val_loss: 0.9325\n",
      "Epoch 25/50\n",
      "\u001b[1m14/14\u001b[0m \u001b[32m━━━━━━━━━━━━━━━━━━━━\u001b[0m\u001b[37m\u001b[0m \u001b[1m0s\u001b[0m 3ms/step - loss: 0.9636 - val_loss: 0.9194\n",
      "Epoch 26/50\n",
      "\u001b[1m14/14\u001b[0m \u001b[32m━━━━━━━━━━━━━━━━━━━━\u001b[0m\u001b[37m\u001b[0m \u001b[1m0s\u001b[0m 4ms/step - loss: 0.9196 - val_loss: 0.9072\n",
      "Epoch 27/50\n",
      "\u001b[1m14/14\u001b[0m \u001b[32m━━━━━━━━━━━━━━━━━━━━\u001b[0m\u001b[37m\u001b[0m \u001b[1m0s\u001b[0m 3ms/step - loss: 0.8965 - val_loss: 0.8955\n",
      "Epoch 28/50\n",
      "\u001b[1m14/14\u001b[0m \u001b[32m━━━━━━━━━━━━━━━━━━━━\u001b[0m\u001b[37m\u001b[0m \u001b[1m0s\u001b[0m 3ms/step - loss: 0.8657 - val_loss: 0.8831\n",
      "Epoch 29/50\n",
      "\u001b[1m14/14\u001b[0m \u001b[32m━━━━━━━━━━━━━━━━━━━━\u001b[0m\u001b[37m\u001b[0m \u001b[1m0s\u001b[0m 3ms/step - loss: 0.9578 - val_loss: 0.8717\n",
      "Epoch 30/50\n",
      "\u001b[1m14/14\u001b[0m \u001b[32m━━━━━━━━━━━━━━━━━━━━\u001b[0m\u001b[37m\u001b[0m \u001b[1m0s\u001b[0m 3ms/step - loss: 0.8907 - val_loss: 0.8607\n",
      "Epoch 31/50\n",
      "\u001b[1m14/14\u001b[0m \u001b[32m━━━━━━━━━━━━━━━━━━━━\u001b[0m\u001b[37m\u001b[0m \u001b[1m0s\u001b[0m 3ms/step - loss: 0.9166 - val_loss: 0.8494\n",
      "Epoch 32/50\n",
      "\u001b[1m14/14\u001b[0m \u001b[32m━━━━━━━━━━━━━━━━━━━━\u001b[0m\u001b[37m\u001b[0m \u001b[1m0s\u001b[0m 3ms/step - loss: 0.8465 - val_loss: 0.8392\n",
      "Epoch 33/50\n",
      "\u001b[1m14/14\u001b[0m \u001b[32m━━━━━━━━━━━━━━━━━━━━\u001b[0m\u001b[37m\u001b[0m \u001b[1m0s\u001b[0m 3ms/step - loss: 0.9089 - val_loss: 0.8296\n",
      "Epoch 34/50\n",
      "\u001b[1m14/14\u001b[0m \u001b[32m━━━━━━━━━━━━━━━━━━━━\u001b[0m\u001b[37m\u001b[0m \u001b[1m0s\u001b[0m 3ms/step - loss: 0.8599 - val_loss: 0.8200\n",
      "Epoch 35/50\n",
      "\u001b[1m14/14\u001b[0m \u001b[32m━━━━━━━━━━━━━━━━━━━━\u001b[0m\u001b[37m\u001b[0m \u001b[1m0s\u001b[0m 3ms/step - loss: 0.8964 - val_loss: 0.8106\n",
      "Epoch 36/50\n",
      "\u001b[1m14/14\u001b[0m \u001b[32m━━━━━━━━━━━━━━━━━━━━\u001b[0m\u001b[37m\u001b[0m \u001b[1m0s\u001b[0m 3ms/step - loss: 0.8424 - val_loss: 0.8022\n",
      "Epoch 37/50\n",
      "\u001b[1m14/14\u001b[0m \u001b[32m━━━━━━━━━━━━━━━━━━━━\u001b[0m\u001b[37m\u001b[0m \u001b[1m0s\u001b[0m 3ms/step - loss: 0.9509 - val_loss: 0.7934\n",
      "Epoch 38/50\n",
      "\u001b[1m14/14\u001b[0m \u001b[32m━━━━━━━━━━━━━━━━━━━━\u001b[0m\u001b[37m\u001b[0m \u001b[1m0s\u001b[0m 3ms/step - loss: 0.8121 - val_loss: 0.7858\n",
      "Epoch 39/50\n",
      "\u001b[1m14/14\u001b[0m \u001b[32m━━━━━━━━━━━━━━━━━━━━\u001b[0m\u001b[37m\u001b[0m \u001b[1m0s\u001b[0m 3ms/step - loss: 0.8618 - val_loss: 0.7773\n",
      "Epoch 40/50\n",
      "\u001b[1m14/14\u001b[0m \u001b[32m━━━━━━━━━━━━━━━━━━━━\u001b[0m\u001b[37m\u001b[0m \u001b[1m0s\u001b[0m 3ms/step - loss: 0.9268 - val_loss: 0.7697\n",
      "Epoch 41/50\n",
      "\u001b[1m14/14\u001b[0m \u001b[32m━━━━━━━━━━━━━━━━━━━━\u001b[0m\u001b[37m\u001b[0m \u001b[1m0s\u001b[0m 3ms/step - loss: 0.8537 - val_loss: 0.7621\n",
      "Epoch 42/50\n",
      "\u001b[1m14/14\u001b[0m \u001b[32m━━━━━━━━━━━━━━━━━━━━\u001b[0m\u001b[37m\u001b[0m \u001b[1m0s\u001b[0m 3ms/step - loss: 0.8598 - val_loss: 0.7549\n",
      "Epoch 43/50\n",
      "\u001b[1m14/14\u001b[0m \u001b[32m━━━━━━━━━━━━━━━━━━━━\u001b[0m\u001b[37m\u001b[0m \u001b[1m0s\u001b[0m 3ms/step - loss: 0.7674 - val_loss: 0.7486\n",
      "Epoch 44/50\n",
      "\u001b[1m14/14\u001b[0m \u001b[32m━━━━━━━━━━━━━━━━━━━━\u001b[0m\u001b[37m\u001b[0m \u001b[1m0s\u001b[0m 3ms/step - loss: 0.8839 - val_loss: 0.7424\n",
      "Epoch 45/50\n",
      "\u001b[1m14/14\u001b[0m \u001b[32m━━━━━━━━━━━━━━━━━━━━\u001b[0m\u001b[37m\u001b[0m \u001b[1m0s\u001b[0m 3ms/step - loss: 0.8325 - val_loss: 0.7362\n",
      "Epoch 46/50\n",
      "\u001b[1m14/14\u001b[0m \u001b[32m━━━━━━━━━━━━━━━━━━━━\u001b[0m\u001b[37m\u001b[0m \u001b[1m0s\u001b[0m 3ms/step - loss: 0.7905 - val_loss: 0.7304\n",
      "Epoch 47/50\n",
      "\u001b[1m14/14\u001b[0m \u001b[32m━━━━━━━━━━━━━━━━━━━━\u001b[0m\u001b[37m\u001b[0m \u001b[1m0s\u001b[0m 3ms/step - loss: 0.8586 - val_loss: 0.7245\n",
      "Epoch 48/50\n",
      "\u001b[1m14/14\u001b[0m \u001b[32m━━━━━━━━━━━━━━━━━━━━\u001b[0m\u001b[37m\u001b[0m \u001b[1m0s\u001b[0m 3ms/step - loss: 0.8394 - val_loss: 0.7191\n",
      "Epoch 49/50\n",
      "\u001b[1m14/14\u001b[0m \u001b[32m━━━━━━━━━━━━━━━━━━━━\u001b[0m\u001b[37m\u001b[0m \u001b[1m0s\u001b[0m 3ms/step - loss: 0.7442 - val_loss: 0.7138\n",
      "Epoch 50/50\n",
      "\u001b[1m14/14\u001b[0m \u001b[32m━━━━━━━━━━━━━━━━━━━━\u001b[0m\u001b[37m\u001b[0m \u001b[1m0s\u001b[0m 5ms/step - loss: 0.7996 - val_loss: 0.7085\n",
      "\u001b[1m8/8\u001b[0m \u001b[32m━━━━━━━━━━━━━━━━━━━━\u001b[0m\u001b[37m\u001b[0m \u001b[1m0s\u001b[0m 24ms/step\n"
     ]
    },
    {
     "data": {
      "image/png": "[encoded data removed]",
      "text/plain": [
       "<Figure size 1400x700 with 1 Axes>"
      ]
     },
     "metadata": {},
     "output_type": "display_data"
    },
    {
     "name": "stdout",
     "output_type": "stream",
     "text": [
      "Detected anomalies: 13 out of 244 data points\n"
     ]
    }
   ],
   "source": [
    "import numpy as np\n",
    "import pandas as pd\n",
    "import yfinance as yf\n",
    "import tensorflow as tf\n",
    "from tensorflow.keras.models import Model\n",
    "from tensorflow.keras.layers import Input, Dense\n",
    "import matplotlib.pyplot as plt\n",
    "\n",
    "# 1. 삼성전자 데이터 불러오기\n",
    "ticker = '005930.KS'  # 삼성전자 코스피 티커\n",
    "data = yf.download(ticker, start=\"2022-01-01\", end=\"2023-01-01\", interval=\"1d\")#yfinance의 tz_localize 에러를 방지하는 코드 변경\n",
    "close_prices = data[['Close']].values  # 종가 데이터만 선택\n",
    "\n",
    "# 데이터 정규화 (이상 탐지 모델에 입력으로 적합하게 하기 위해)\n",
    "mean = close_prices.mean()\n",
    "std = close_prices.std()\n",
    "normalized_data = (close_prices - mean) / std\n",
    "\n",
    "# 2. 오토인코더 모델 정의\n",
    "input_dim = normalized_data.shape[1]\n",
    "encoding_dim = 1  # 잠재 공간 차원 (단일 변수이므로 1차원으로 압축)\n",
    "\n",
    "input_layer = Input(shape=(input_dim,))\n",
    "encoded = Dense(encoding_dim, activation='relu')(input_layer)\n",
    "decoded = Dense(input_dim, activation='sigmoid')(encoded)\n",
    "autoencoder = Model(input_layer, decoded)\n",
    "\n",
    "# 3. 모델 컴파일 및 학습\n",
    "autoencoder.compile(optimizer='adam', loss='mse')\n",
    "autoencoder.fit(normalized_data, normalized_data,\n",
    "                epochs=50,\n",
    "                batch_size=16,\n",
    "                shuffle=True,\n",
    "                validation_split=0.1)\n",
    "\n",
    "# 4. 모든 데이터에 대해 재구성 오류 계산\n",
    "reconstructed_data = autoencoder.predict(normalized_data)\n",
    "reconstruction_error = np.mean(np.power(normalized_data - reconstructed_data, 2), axis=1)\n",
    "\n",
    "# 5. 이상치 탐지를 위한 임계값 설정 (재구성 오류가 큰 데이터는 이상치로 판단)\n",
    "threshold = np.percentile(reconstruction_error, 95)  # 상위 5%를 이상치로 설정\n",
    "anomalies = reconstruction_error > threshold  # 이상치로 분류된 데이터\n",
    "\n",
    "# 6. 이상치 탐지 결과 시각화\n",
    "plt.figure(figsize=(14, 7))\n",
    "plt.plot(close_prices, label='Close Price')\n",
    "plt.plot(np.where(anomalies)[0], close_prices[anomalies], 'ro', markersize=5, label='Anomalies')\n",
    "plt.xlabel('Days')\n",
    "plt.ylabel('Close Price')\n",
    "plt.title('Samsung Electronics Close Price with Anomalies')\n",
    "plt.legend()\n",
    "plt.show()\n",
    "\n",
    "print(f\"Detected anomalies: {np.sum(anomalies)} out of {len(close_prices)} data points\")\n"
   ]
  },
  {
   "cell_type": "code",
   "execution_count": null,
   "id": "ec65aa9c",
   "metadata": {
    "id": "ec65aa9c"
   },
   "outputs": [],
   "source": [
    "# 그래프 시각화 결과\n",
    "# 파란색 선: 삼성전자의 일별 **종가(Close)**를 나타냅니다.\n",
    "# 빨간색 점: 이상치로 탐지된 날의 주가입니다. 이는 오토인코더가 복원한 주가 데이터와 실제 주가 데이터의 차이가 크다는 뜻입니다.\n",
    "#     즉, 이 날짜의 주가는 일반적인 패턴에서 벗어난 것으로 판단됩니다."
   ]
  },
  {
   "cell_type": "code",
   "execution_count": null,
   "id": "3e17befa",
   "metadata": {
    "id": "3e17befa"
   },
   "outputs": [],
   "source": [
    "# 탐지된 이상치 개수 출력\n",
    "# Detected anomalies: X out of Y data points라는 메시지는 전체 데이터 포인트(Y) 중에서 X개가 이상치로 탐지되었음을 의미합니다.\n",
    "# 예를 들어, Detected anomalies: 15 out of 250 data points라는 결과는 전체 250개의 주가 데이터 중에서 15개가 이상치로 판별되었음을 나타냅니다."
   ]
  },
  {
   "cell_type": "markdown",
   "id": "dbab5cf4",
   "metadata": {
    "id": "dbab5cf4"
   },
   "source": [
    "# 정상 데이터로 오토인코더 모델을 다시 학습하는 과정"
   ]
  },
  {
   "cell_type": "code",
   "execution_count": null,
   "id": "52a50f69",
   "metadata": {
    "id": "52a50f69"
   },
   "outputs": [],
   "source": [
    "# 이상치 탐지 및 제거:\n",
    "\n",
    "# anomalies 배열을 통해 이상치를 분류하고, 이를 제외한 데이터를 cleaned_data에 저장합니다.\n",
    "# cleaned_data = normalized_data[~anomalies]는 이상치가 아닌 데이터만 추출한 결과입니다.\n",
    "# 오토인코더 모델 재학습:\n",
    "\n",
    "# 이상치를 제거한 후 남은 정상 데이터로 오토인코더 모델을 다시 학습합니다.\n",
    "# 재구성 오류 시각화:\n",
    "\n",
    "# 이상치 제거 후 모델의 재구성 오류를 시각화하여, 데이터가 깨끗해진 후 재구성 오류가 어떻게 변했는지 확인합니다."
   ]
  },
  {
   "cell_type": "code",
   "execution_count": 2,
   "id": "403f0a71",
   "metadata": {
    "colab": {
     "base_uri": "https://localhost:8080/",
     "height": 1000
    },
    "executionInfo": {
     "elapsed": 13573,
     "status": "ok",
     "timestamp": 1730874960721,
     "user": {
      "displayName": "전윤범",
      "userId": "16579588953913211126"
     },
     "user_tz": -540
    },
    "id": "403f0a71",
    "outputId": "1fde802d-6974-418c-c255-e354ba2769d2"
   },
   "outputs": [
    {
     "name": "stderr",
     "output_type": "stream",
     "text": [
      "\r",
      "[*********************100%***********************]  1 of 1 completed"
     ]
    },
    {
     "name": "stdout",
     "output_type": "stream",
     "text": [
      "Epoch 1/50\n"
     ]
    },
    {
     "name": "stderr",
     "output_type": "stream",
     "text": [
      "\n"
     ]
    },
    {
     "name": "stdout",
     "output_type": "stream",
     "text": [
      "\u001b[1m14/14\u001b[0m \u001b[32m━━━━━━━━━━━━━━━━━━━━\u001b[0m\u001b[37m\u001b[0m \u001b[1m3s\u001b[0m 59ms/step - loss: 1.4319 - val_loss: 1.4447\n",
      "Epoch 2/50\n",
      "\u001b[1m14/14\u001b[0m \u001b[32m━━━━━━━━━━━━━━━━━━━━\u001b[0m\u001b[37m\u001b[0m \u001b[1m1s\u001b[0m 5ms/step - loss: 1.3912 - val_loss: 1.4373\n",
      "Epoch 3/50\n",
      "\u001b[1m14/14\u001b[0m \u001b[32m━━━━━━━━━━━━━━━━━━━━\u001b[0m\u001b[37m\u001b[0m \u001b[1m0s\u001b[0m 4ms/step - loss: 1.3539 - val_loss: 1.4298\n",
      "Epoch 4/50\n",
      "\u001b[1m14/14\u001b[0m \u001b[32m━━━━━━━━━━━━━━━━━━━━\u001b[0m\u001b[37m\u001b[0m \u001b[1m0s\u001b[0m 4ms/step - loss: 1.2291 - val_loss: 1.4226\n",
      "Epoch 5/50\n",
      "\u001b[1m14/14\u001b[0m \u001b[32m━━━━━━━━━━━━━━━━━━━━\u001b[0m\u001b[37m\u001b[0m \u001b[1m0s\u001b[0m 6ms/step - loss: 1.4622 - val_loss: 1.4148\n",
      "Epoch 6/50\n",
      "\u001b[1m14/14\u001b[0m \u001b[32m━━━━━━━━━━━━━━━━━━━━\u001b[0m\u001b[37m\u001b[0m \u001b[1m0s\u001b[0m 4ms/step - loss: 1.4023 - val_loss: 1.4077\n",
      "Epoch 7/50\n",
      "\u001b[1m14/14\u001b[0m \u001b[32m━━━━━━━━━━━━━━━━━━━━\u001b[0m\u001b[37m\u001b[0m \u001b[1m0s\u001b[0m 4ms/step - loss: 1.2448 - val_loss: 1.4008\n",
      "Epoch 8/50\n",
      "\u001b[1m14/14\u001b[0m \u001b[32m━━━━━━━━━━━━━━━━━━━━\u001b[0m\u001b[37m\u001b[0m \u001b[1m0s\u001b[0m 4ms/step - loss: 1.4041 - val_loss: 1.3933\n",
      "Epoch 9/50\n",
      "\u001b[1m14/14\u001b[0m \u001b[32m━━━━━━━━━━━━━━━━━━━━\u001b[0m\u001b[37m\u001b[0m \u001b[1m0s\u001b[0m 4ms/step - loss: 1.4038 - val_loss: 1.3864\n",
      "Epoch 10/50\n",
      "\u001b[1m14/14\u001b[0m \u001b[32m━━━━━━━━━━━━━━━━━━━━\u001b[0m\u001b[37m\u001b[0m \u001b[1m0s\u001b[0m 4ms/step - loss: 1.3167 - val_loss: 1.3800\n",
      "Epoch 11/50\n",
      "\u001b[1m14/14\u001b[0m \u001b[32m━━━━━━━━━━━━━━━━━━━━\u001b[0m\u001b[37m\u001b[0m \u001b[1m0s\u001b[0m 4ms/step - loss: 1.2766 - val_loss: 1.3734\n",
      "Epoch 12/50\n",
      "\u001b[1m14/14\u001b[0m \u001b[32m━━━━━━━━━━━━━━━━━━━━\u001b[0m\u001b[37m\u001b[0m \u001b[1m0s\u001b[0m 4ms/step - loss: 1.2717 - val_loss: 1.3666\n",
      "Epoch 13/50\n",
      "\u001b[1m14/14\u001b[0m \u001b[32m━━━━━━━━━━━━━━━━━━━━\u001b[0m\u001b[37m\u001b[0m \u001b[1m0s\u001b[0m 4ms/step - loss: 1.3571 - val_loss: 1.3598\n",
      "Epoch 14/50\n",
      "\u001b[1m14/14\u001b[0m \u001b[32m━━━━━━━━━━━━━━━━━━━━\u001b[0m\u001b[37m\u001b[0m \u001b[1m0s\u001b[0m 3ms/step - loss: 1.3194 - val_loss: 1.3533\n",
      "Epoch 15/50\n",
      "\u001b[1m14/14\u001b[0m \u001b[32m━━━━━━━━━━━━━━━━━━━━\u001b[0m\u001b[37m\u001b[0m \u001b[1m0s\u001b[0m 3ms/step - loss: 1.4216 - val_loss: 1.3466\n",
      "Epoch 16/50\n",
      "\u001b[1m14/14\u001b[0m \u001b[32m━━━━━━━━━━━━━━━━━━━━\u001b[0m\u001b[37m\u001b[0m \u001b[1m0s\u001b[0m 3ms/step - loss: 1.3834 - val_loss: 1.3399\n",
      "Epoch 17/50\n",
      "\u001b[1m14/14\u001b[0m \u001b[32m━━━━━━━━━━━━━━━━━━━━\u001b[0m\u001b[37m\u001b[0m \u001b[1m0s\u001b[0m 3ms/step - loss: 1.2011 - val_loss: 1.3335\n",
      "Epoch 18/50\n",
      "\u001b[1m14/14\u001b[0m \u001b[32m━━━━━━━━━━━━━━━━━━━━\u001b[0m\u001b[37m\u001b[0m \u001b[1m0s\u001b[0m 3ms/step - loss: 1.2172 - val_loss: 1.3275\n",
      "Epoch 19/50\n",
      "\u001b[1m14/14\u001b[0m \u001b[32m━━━━━━━━━━━━━━━━━━━━\u001b[0m\u001b[37m\u001b[0m \u001b[1m0s\u001b[0m 3ms/step - loss: 1.2774 - val_loss: 1.3212\n",
      "Epoch 20/50\n",
      "\u001b[1m14/14\u001b[0m \u001b[32m━━━━━━━━━━━━━━━━━━━━\u001b[0m\u001b[37m\u001b[0m \u001b[1m0s\u001b[0m 4ms/step - loss: 1.1337 - val_loss: 1.3154\n",
      "Epoch 21/50\n",
      "\u001b[1m14/14\u001b[0m \u001b[32m━━━━━━━━━━━━━━━━━━━━\u001b[0m\u001b[37m\u001b[0m \u001b[1m0s\u001b[0m 3ms/step - loss: 1.2555 - val_loss: 1.3091\n",
      "Epoch 22/50\n",
      "\u001b[1m14/14\u001b[0m \u001b[32m━━━━━━━━━━━━━━━━━━━━\u001b[0m\u001b[37m\u001b[0m \u001b[1m0s\u001b[0m 3ms/step - loss: 1.3248 - val_loss: 1.3032\n",
      "Epoch 23/50\n",
      "\u001b[1m14/14\u001b[0m \u001b[32m━━━━━━━━━━━━━━━━━━━━\u001b[0m\u001b[37m\u001b[0m \u001b[1m0s\u001b[0m 3ms/step - loss: 1.2860 - val_loss: 1.2974\n",
      "Epoch 24/50\n",
      "\u001b[1m14/14\u001b[0m \u001b[32m━━━━━━━━━━━━━━━━━━━━\u001b[0m\u001b[37m\u001b[0m \u001b[1m0s\u001b[0m 3ms/step - loss: 1.2600 - val_loss: 1.2913\n",
      "Epoch 25/50\n",
      "\u001b[1m14/14\u001b[0m \u001b[32m━━━━━━━━━━━━━━━━━━━━\u001b[0m\u001b[37m\u001b[0m \u001b[1m0s\u001b[0m 3ms/step - loss: 1.2542 - val_loss: 1.2852\n",
      "Epoch 26/50\n",
      "\u001b[1m14/14\u001b[0m \u001b[32m━━━━━━━━━━━━━━━━━━━━\u001b[0m\u001b[37m\u001b[0m \u001b[1m0s\u001b[0m 3ms/step - loss: 1.2281 - val_loss: 1.2797\n",
      "Epoch 27/50\n",
      "\u001b[1m14/14\u001b[0m \u001b[32m━━━━━━━━━━━━━━━━━━━━\u001b[0m\u001b[37m\u001b[0m \u001b[1m0s\u001b[0m 3ms/step - loss: 1.2541 - val_loss: 1.2741\n",
      "Epoch 28/50\n",
      "\u001b[1m14/14\u001b[0m \u001b[32m━━━━━━━━━━━━━━━━━━━━\u001b[0m\u001b[37m\u001b[0m \u001b[1m0s\u001b[0m 3ms/step - loss: 1.1414 - val_loss: 1.2681\n",
      "Epoch 29/50\n",
      "\u001b[1m14/14\u001b[0m \u001b[32m━━━━━━━━━━━━━━━━━━━━\u001b[0m\u001b[37m\u001b[0m \u001b[1m0s\u001b[0m 3ms/step - loss: 1.2701 - val_loss: 1.2625\n",
      "Epoch 30/50\n",
      "\u001b[1m14/14\u001b[0m \u001b[32m━━━━━━━━━━━━━━━━━━━━\u001b[0m\u001b[37m\u001b[0m \u001b[1m0s\u001b[0m 3ms/step - loss: 1.1949 - val_loss: 1.2566\n",
      "Epoch 31/50\n",
      "\u001b[1m14/14\u001b[0m \u001b[32m━━━━━━━━━━━━━━━━━━━━\u001b[0m\u001b[37m\u001b[0m \u001b[1m0s\u001b[0m 3ms/step - loss: 1.1873 - val_loss: 1.2514\n",
      "Epoch 32/50\n",
      "\u001b[1m14/14\u001b[0m \u001b[32m━━━━━━━━━━━━━━━━━━━━\u001b[0m\u001b[37m\u001b[0m \u001b[1m0s\u001b[0m 3ms/step - loss: 1.3081 - val_loss: 1.2460\n",
      "Epoch 33/50\n",
      "\u001b[1m14/14\u001b[0m \u001b[32m━━━━━━━━━━━━━━━━━━━━\u001b[0m\u001b[37m\u001b[0m \u001b[1m0s\u001b[0m 3ms/step - loss: 1.1368 - val_loss: 1.2404\n",
      "Epoch 34/50\n",
      "\u001b[1m14/14\u001b[0m \u001b[32m━━━━━━━━━━━━━━━━━━━━\u001b[0m\u001b[37m\u001b[0m \u001b[1m0s\u001b[0m 3ms/step - loss: 1.1430 - val_loss: 1.2358\n",
      "Epoch 35/50\n",
      "\u001b[1m14/14\u001b[0m \u001b[32m━━━━━━━━━━━━━━━━━━━━\u001b[0m\u001b[37m\u001b[0m \u001b[1m0s\u001b[0m 3ms/step - loss: 1.3125 - val_loss: 1.2300\n",
      "Epoch 36/50\n",
      "\u001b[1m14/14\u001b[0m \u001b[32m━━━━━━━━━━━━━━━━━━━━\u001b[0m\u001b[37m\u001b[0m \u001b[1m0s\u001b[0m 3ms/step - loss: 1.1243 - val_loss: 1.2250\n",
      "Epoch 37/50\n",
      "\u001b[1m14/14\u001b[0m \u001b[32m━━━━━━━━━━━━━━━━━━━━\u001b[0m\u001b[37m\u001b[0m \u001b[1m0s\u001b[0m 3ms/step - loss: 1.1710 - val_loss: 1.2200\n",
      "Epoch 38/50\n",
      "\u001b[1m14/14\u001b[0m \u001b[32m━━━━━━━━━━━━━━━━━━━━\u001b[0m\u001b[37m\u001b[0m \u001b[1m0s\u001b[0m 3ms/step - loss: 1.2008 - val_loss: 1.2149\n",
      "Epoch 39/50\n",
      "\u001b[1m14/14\u001b[0m \u001b[32m━━━━━━━━━━━━━━━━━━━━\u001b[0m\u001b[37m\u001b[0m \u001b[1m0s\u001b[0m 3ms/step - loss: 1.1578 - val_loss: 1.2098\n",
      "Epoch 40/50\n",
      "\u001b[1m14/14\u001b[0m \u001b[32m━━━━━━━━━━━━━━━━━━━━\u001b[0m\u001b[37m\u001b[0m \u001b[1m0s\u001b[0m 3ms/step - loss: 1.1262 - val_loss: 1.2052\n",
      "Epoch 41/50\n",
      "\u001b[1m14/14\u001b[0m \u001b[32m━━━━━━━━━━━━━━━━━━━━\u001b[0m\u001b[37m\u001b[0m \u001b[1m0s\u001b[0m 3ms/step - loss: 1.1217 - val_loss: 1.2000\n",
      "Epoch 42/50\n",
      "\u001b[1m14/14\u001b[0m \u001b[32m━━━━━━━━━━━━━━━━━━━━\u001b[0m\u001b[37m\u001b[0m \u001b[1m0s\u001b[0m 3ms/step - loss: 1.1735 - val_loss: 1.1949\n",
      "Epoch 43/50\n",
      "\u001b[1m14/14\u001b[0m \u001b[32m━━━━━━━━━━━━━━━━━━━━\u001b[0m\u001b[37m\u001b[0m \u001b[1m0s\u001b[0m 3ms/step - loss: 1.2435 - val_loss: 1.1904\n",
      "Epoch 44/50\n",
      "\u001b[1m14/14\u001b[0m \u001b[32m━━━━━━━━━━━━━━━━━━━━\u001b[0m\u001b[37m\u001b[0m \u001b[1m0s\u001b[0m 3ms/step - loss: 1.1712 - val_loss: 1.1858\n",
      "Epoch 45/50\n",
      "\u001b[1m14/14\u001b[0m \u001b[32m━━━━━━━━━━━━━━━━━━━━\u001b[0m\u001b[37m\u001b[0m \u001b[1m0s\u001b[0m 3ms/step - loss: 1.1264 - val_loss: 1.1815\n",
      "Epoch 46/50\n",
      "\u001b[1m14/14\u001b[0m \u001b[32m━━━━━━━━━━━━━━━━━━━━\u001b[0m\u001b[37m\u001b[0m \u001b[1m0s\u001b[0m 3ms/step - loss: 1.1807 - val_loss: 1.1768\n",
      "Epoch 47/50\n",
      "\u001b[1m14/14\u001b[0m \u001b[32m━━━━━━━━━━━━━━━━━━━━\u001b[0m\u001b[37m\u001b[0m \u001b[1m0s\u001b[0m 3ms/step - loss: 1.1868 - val_loss: 1.1722\n",
      "Epoch 48/50\n",
      "\u001b[1m14/14\u001b[0m \u001b[32m━━━━━━━━━━━━━━━━━━━━\u001b[0m\u001b[37m\u001b[0m \u001b[1m0s\u001b[0m 3ms/step - loss: 1.0994 - val_loss: 1.1674\n",
      "Epoch 49/50\n",
      "\u001b[1m14/14\u001b[0m \u001b[32m━━━━━━━━━━━━━━━━━━━━\u001b[0m\u001b[37m\u001b[0m \u001b[1m0s\u001b[0m 3ms/step - loss: 1.1608 - val_loss: 1.1633\n",
      "Epoch 50/50\n",
      "\u001b[1m14/14\u001b[0m \u001b[32m━━━━━━━━━━━━━━━━━━━━\u001b[0m\u001b[37m\u001b[0m \u001b[1m0s\u001b[0m 3ms/step - loss: 1.1473 - val_loss: 1.1593\n",
      "\u001b[1m8/8\u001b[0m \u001b[32m━━━━━━━━━━━━━━━━━━━━\u001b[0m\u001b[37m\u001b[0m \u001b[1m0s\u001b[0m 12ms/step\n",
      "Number of samples after removing anomalies: 231\n",
      "Epoch 1/50\n",
      "\u001b[1m13/13\u001b[0m \u001b[32m━━━━━━━━━━━━━━━━━━━━\u001b[0m\u001b[37m\u001b[0m \u001b[1m0s\u001b[0m 37ms/step - loss: 0.9696 - val_loss: 1.1768\n",
      "Epoch 2/50\n",
      "\u001b[1m13/13\u001b[0m \u001b[32m━━━━━━━━━━━━━━━━━━━━\u001b[0m\u001b[37m\u001b[0m \u001b[1m0s\u001b[0m 3ms/step - loss: 0.9794 - val_loss: 1.1721\n",
      "Epoch 3/50\n",
      "\u001b[1m13/13\u001b[0m \u001b[32m━━━━━━━━━━━━━━━━━━━━\u001b[0m\u001b[37m\u001b[0m \u001b[1m0s\u001b[0m 3ms/step - loss: 0.9753 - val_loss: 1.1683\n",
      "Epoch 4/50\n",
      "\u001b[1m13/13\u001b[0m \u001b[32m━━━━━━━━━━━━━━━━━━━━\u001b[0m\u001b[37m\u001b[0m \u001b[1m0s\u001b[0m 3ms/step - loss: 1.0352 - val_loss: 1.1640\n",
      "Epoch 5/50\n",
      "\u001b[1m13/13\u001b[0m \u001b[32m━━━━━━━━━━━━━━━━━━━━\u001b[0m\u001b[37m\u001b[0m \u001b[1m0s\u001b[0m 3ms/step - loss: 0.9944 - val_loss: 1.1598\n",
      "Epoch 6/50\n",
      "\u001b[1m13/13\u001b[0m \u001b[32m━━━━━━━━━━━━━━━━━━━━\u001b[0m\u001b[37m\u001b[0m \u001b[1m0s\u001b[0m 3ms/step - loss: 0.9337 - val_loss: 1.1561\n",
      "Epoch 7/50\n",
      "\u001b[1m13/13\u001b[0m \u001b[32m━━━━━━━━━━━━━━━━━━━━\u001b[0m\u001b[37m\u001b[0m \u001b[1m0s\u001b[0m 3ms/step - loss: 0.9518 - val_loss: 1.1522\n",
      "Epoch 8/50\n",
      "\u001b[1m13/13\u001b[0m \u001b[32m━━━━━━━━━━━━━━━━━━━━\u001b[0m\u001b[37m\u001b[0m \u001b[1m0s\u001b[0m 3ms/step - loss: 1.0643 - val_loss: 1.1483\n",
      "Epoch 9/50\n",
      "\u001b[1m13/13\u001b[0m \u001b[32m━━━━━━━━━━━━━━━━━━━━\u001b[0m\u001b[37m\u001b[0m \u001b[1m0s\u001b[0m 3ms/step - loss: 1.0194 - val_loss: 1.1444\n",
      "Epoch 10/50\n",
      "\u001b[1m13/13\u001b[0m \u001b[32m━━━━━━━━━━━━━━━━━━━━\u001b[0m\u001b[37m\u001b[0m \u001b[1m0s\u001b[0m 3ms/step - loss: 0.9762 - val_loss: 1.1406\n",
      "Epoch 11/50\n",
      "\u001b[1m13/13\u001b[0m \u001b[32m━━━━━━━━━━━━━━━━━━━━\u001b[0m\u001b[37m\u001b[0m \u001b[1m0s\u001b[0m 3ms/step - loss: 0.9814 - val_loss: 1.1372\n",
      "Epoch 12/50\n",
      "\u001b[1m13/13\u001b[0m \u001b[32m━━━━━━━━━━━━━━━━━━━━\u001b[0m\u001b[37m\u001b[0m \u001b[1m0s\u001b[0m 3ms/step - loss: 0.9359 - val_loss: 1.1333\n",
      "Epoch 13/50\n",
      "\u001b[1m13/13\u001b[0m \u001b[32m━━━━━━━━━━━━━━━━━━━━\u001b[0m\u001b[37m\u001b[0m \u001b[1m0s\u001b[0m 3ms/step - loss: 0.9435 - val_loss: 1.1294\n",
      "Epoch 14/50\n",
      "\u001b[1m13/13\u001b[0m \u001b[32m━━━━━━━━━━━━━━━━━━━━\u001b[0m\u001b[37m\u001b[0m \u001b[1m0s\u001b[0m 3ms/step - loss: 0.9868 - val_loss: 1.1259\n",
      "Epoch 15/50\n",
      "\u001b[1m13/13\u001b[0m \u001b[32m━━━━━━━━━━━━━━━━━━━━\u001b[0m\u001b[37m\u001b[0m \u001b[1m0s\u001b[0m 3ms/step - loss: 1.0033 - val_loss: 1.1219\n",
      "Epoch 16/50\n",
      "\u001b[1m13/13\u001b[0m \u001b[32m━━━━━━━━━━━━━━━━━━━━\u001b[0m\u001b[37m\u001b[0m \u001b[1m0s\u001b[0m 3ms/step - loss: 0.9386 - val_loss: 1.1186\n",
      "Epoch 17/50\n",
      "\u001b[1m13/13\u001b[0m \u001b[32m━━━━━━━━━━━━━━━━━━━━\u001b[0m\u001b[37m\u001b[0m \u001b[1m0s\u001b[0m 4ms/step - loss: 0.9636 - val_loss: 1.1149\n",
      "Epoch 18/50\n",
      "\u001b[1m13/13\u001b[0m \u001b[32m━━━━━━━━━━━━━━━━━━━━\u001b[0m\u001b[37m\u001b[0m \u001b[1m0s\u001b[0m 4ms/step - loss: 0.9241 - val_loss: 1.1117\n",
      "Epoch 19/50\n",
      "\u001b[1m13/13\u001b[0m \u001b[32m━━━━━━━━━━━━━━━━━━━━\u001b[0m\u001b[37m\u001b[0m \u001b[1m0s\u001b[0m 4ms/step - loss: 0.9208 - val_loss: 1.1080\n",
      "Epoch 20/50\n",
      "\u001b[1m13/13\u001b[0m \u001b[32m━━━━━━━━━━━━━━━━━━━━\u001b[0m\u001b[37m\u001b[0m \u001b[1m0s\u001b[0m 4ms/step - loss: 0.9415 - val_loss: 1.1046\n",
      "Epoch 21/50\n",
      "\u001b[1m13/13\u001b[0m \u001b[32m━━━━━━━━━━━━━━━━━━━━\u001b[0m\u001b[37m\u001b[0m \u001b[1m0s\u001b[0m 3ms/step - loss: 0.9809 - val_loss: 1.1012\n",
      "Epoch 22/50\n",
      "\u001b[1m13/13\u001b[0m \u001b[32m━━━━━━━━━━━━━━━━━━━━\u001b[0m\u001b[37m\u001b[0m \u001b[1m0s\u001b[0m 3ms/step - loss: 0.9771 - val_loss: 1.0974\n",
      "Epoch 23/50\n",
      "\u001b[1m13/13\u001b[0m \u001b[32m━━━━━━━━━━━━━━━━━━━━\u001b[0m\u001b[37m\u001b[0m \u001b[1m0s\u001b[0m 5ms/step - loss: 1.0034 - val_loss: 1.0943\n",
      "Epoch 24/50\n",
      "\u001b[1m13/13\u001b[0m \u001b[32m━━━━━━━━━━━━━━━━━━━━\u001b[0m\u001b[37m\u001b[0m \u001b[1m0s\u001b[0m 5ms/step - loss: 1.0218 - val_loss: 1.0908\n",
      "Epoch 25/50\n",
      "\u001b[1m13/13\u001b[0m \u001b[32m━━━━━━━━━━━━━━━━━━━━\u001b[0m\u001b[37m\u001b[0m \u001b[1m0s\u001b[0m 6ms/step - loss: 0.9336 - val_loss: 1.0875\n",
      "Epoch 26/50\n",
      "\u001b[1m13/13\u001b[0m \u001b[32m━━━━━━━━━━━━━━━━━━━━\u001b[0m\u001b[37m\u001b[0m \u001b[1m0s\u001b[0m 5ms/step - loss: 1.0519 - val_loss: 1.0844\n",
      "Epoch 27/50\n",
      "\u001b[1m13/13\u001b[0m \u001b[32m━━━━━━━━━━━━━━━━━━━━\u001b[0m\u001b[37m\u001b[0m \u001b[1m0s\u001b[0m 3ms/step - loss: 0.9430 - val_loss: 1.0814\n",
      "Epoch 28/50\n",
      "\u001b[1m13/13\u001b[0m \u001b[32m━━━━━━━━━━━━━━━━━━━━\u001b[0m\u001b[37m\u001b[0m \u001b[1m0s\u001b[0m 3ms/step - loss: 1.0122 - val_loss: 1.0776\n",
      "Epoch 29/50\n",
      "\u001b[1m13/13\u001b[0m \u001b[32m━━━━━━━━━━━━━━━━━━━━\u001b[0m\u001b[37m\u001b[0m \u001b[1m0s\u001b[0m 3ms/step - loss: 0.9066 - val_loss: 1.0747\n",
      "Epoch 30/50\n",
      "\u001b[1m13/13\u001b[0m \u001b[32m━━━━━━━━━━━━━━━━━━━━\u001b[0m\u001b[37m\u001b[0m \u001b[1m0s\u001b[0m 3ms/step - loss: 0.9776 - val_loss: 1.0713\n",
      "Epoch 31/50\n",
      "\u001b[1m13/13\u001b[0m \u001b[32m━━━━━━━━━━━━━━━━━━━━\u001b[0m\u001b[37m\u001b[0m \u001b[1m0s\u001b[0m 3ms/step - loss: 0.9021 - val_loss: 1.0682\n",
      "Epoch 32/50\n",
      "\u001b[1m13/13\u001b[0m \u001b[32m━━━━━━━━━━━━━━━━━━━━\u001b[0m\u001b[37m\u001b[0m \u001b[1m0s\u001b[0m 3ms/step - loss: 0.9279 - val_loss: 1.0652\n",
      "Epoch 33/50\n",
      "\u001b[1m13/13\u001b[0m \u001b[32m━━━━━━━━━━━━━━━━━━━━\u001b[0m\u001b[37m\u001b[0m \u001b[1m0s\u001b[0m 3ms/step - loss: 1.0305 - val_loss: 1.0620\n",
      "Epoch 34/50\n",
      "\u001b[1m13/13\u001b[0m \u001b[32m━━━━━━━━━━━━━━━━━━━━\u001b[0m\u001b[37m\u001b[0m \u001b[1m0s\u001b[0m 3ms/step - loss: 1.0079 - val_loss: 1.0585\n",
      "Epoch 35/50\n",
      "\u001b[1m13/13\u001b[0m \u001b[32m━━━━━━━━━━━━━━━━━━━━\u001b[0m\u001b[37m\u001b[0m \u001b[1m0s\u001b[0m 3ms/step - loss: 0.9066 - val_loss: 1.0556\n",
      "Epoch 36/50\n",
      "\u001b[1m13/13\u001b[0m \u001b[32m━━━━━━━━━━━━━━━━━━━━\u001b[0m\u001b[37m\u001b[0m \u001b[1m0s\u001b[0m 3ms/step - loss: 1.0286 - val_loss: 1.0527\n",
      "Epoch 37/50\n",
      "\u001b[1m13/13\u001b[0m \u001b[32m━━━━━━━━━━━━━━━━━━━━\u001b[0m\u001b[37m\u001b[0m \u001b[1m0s\u001b[0m 3ms/step - loss: 0.9610 - val_loss: 1.0497\n",
      "Epoch 38/50\n",
      "\u001b[1m13/13\u001b[0m \u001b[32m━━━━━━━━━━━━━━━━━━━━\u001b[0m\u001b[37m\u001b[0m \u001b[1m0s\u001b[0m 3ms/step - loss: 0.9339 - val_loss: 1.0470\n",
      "Epoch 39/50\n",
      "\u001b[1m13/13\u001b[0m \u001b[32m━━━━━━━━━━━━━━━━━━━━\u001b[0m\u001b[37m\u001b[0m \u001b[1m0s\u001b[0m 3ms/step - loss: 0.8937 - val_loss: 1.0442\n",
      "Epoch 40/50\n",
      "\u001b[1m13/13\u001b[0m \u001b[32m━━━━━━━━━━━━━━━━━━━━\u001b[0m\u001b[37m\u001b[0m \u001b[1m0s\u001b[0m 3ms/step - loss: 0.9451 - val_loss: 1.0410\n",
      "Epoch 41/50\n",
      "\u001b[1m13/13\u001b[0m \u001b[32m━━━━━━━━━━━━━━━━━━━━\u001b[0m\u001b[37m\u001b[0m \u001b[1m0s\u001b[0m 3ms/step - loss: 0.9850 - val_loss: 1.0382\n",
      "Epoch 42/50\n",
      "\u001b[1m13/13\u001b[0m \u001b[32m━━━━━━━━━━━━━━━━━━━━\u001b[0m\u001b[37m\u001b[0m \u001b[1m0s\u001b[0m 3ms/step - loss: 0.9032 - val_loss: 1.0356\n",
      "Epoch 43/50\n",
      "\u001b[1m13/13\u001b[0m \u001b[32m━━━━━━━━━━━━━━━━━━━━\u001b[0m\u001b[37m\u001b[0m \u001b[1m0s\u001b[0m 4ms/step - loss: 0.9087 - val_loss: 1.0328\n",
      "Epoch 44/50\n",
      "\u001b[1m13/13\u001b[0m \u001b[32m━━━━━━━━━━━━━━━━━━━━\u001b[0m\u001b[37m\u001b[0m \u001b[1m0s\u001b[0m 3ms/step - loss: 0.9275 - val_loss: 1.0299\n",
      "Epoch 45/50\n",
      "\u001b[1m13/13\u001b[0m \u001b[32m━━━━━━━━━━━━━━━━━━━━\u001b[0m\u001b[37m\u001b[0m \u001b[1m0s\u001b[0m 6ms/step - loss: 0.9194 - val_loss: 1.0271\n",
      "Epoch 46/50\n",
      "\u001b[1m13/13\u001b[0m \u001b[32m━━━━━━━━━━━━━━━━━━━━\u001b[0m\u001b[37m\u001b[0m \u001b[1m0s\u001b[0m 4ms/step - loss: 0.9459 - val_loss: 1.0242\n",
      "Epoch 47/50\n",
      "\u001b[1m13/13\u001b[0m \u001b[32m━━━━━━━━━━━━━━━━━━━━\u001b[0m\u001b[37m\u001b[0m \u001b[1m0s\u001b[0m 3ms/step - loss: 0.9422 - val_loss: 1.0213\n",
      "Epoch 48/50\n",
      "\u001b[1m13/13\u001b[0m \u001b[32m━━━━━━━━━━━━━━━━━━━━\u001b[0m\u001b[37m\u001b[0m \u001b[1m0s\u001b[0m 3ms/step - loss: 0.9133 - val_loss: 1.0189\n",
      "Epoch 49/50\n",
      "\u001b[1m13/13\u001b[0m \u001b[32m━━━━━━━━━━━━━━━━━━━━\u001b[0m\u001b[37m\u001b[0m \u001b[1m0s\u001b[0m 3ms/step - loss: 0.9137 - val_loss: 1.0165\n",
      "Epoch 50/50\n",
      "\u001b[1m13/13\u001b[0m \u001b[32m━━━━━━━━━━━━━━━━━━━━\u001b[0m\u001b[37m\u001b[0m \u001b[1m0s\u001b[0m 3ms/step - loss: 0.9803 - val_loss: 1.0137\n",
      "\u001b[1m8/8\u001b[0m \u001b[32m━━━━━━━━━━━━━━━━━━━━\u001b[0m\u001b[37m\u001b[0m \u001b[1m0s\u001b[0m 12ms/step\n"
     ]
    },
    {
     "data": {
      "image/png": "[encoded data removed]",
      "text/plain": [
       "<Figure size 1200x600 with 1 Axes>"
      ]
     },
     "metadata": {},
     "output_type": "display_data"
    },
    {
     "name": "stdout",
     "output_type": "stream",
     "text": [
      "Model retrained with cleaned data. Remaining samples: 231\n"
     ]
    }
   ],
   "source": [
    "import numpy as np\n",
    "import pandas as pd\n",
    "import yfinance as yf\n",
    "import tensorflow as tf\n",
    "from tensorflow.keras.models import Model\n",
    "from tensorflow.keras.layers import Input, Dense\n",
    "import matplotlib.pyplot as plt\n",
    "\n",
    "# 1. 삼성전자 데이터 불러오기\n",
    "ticker = '005930.KS'  # 삼성전자 코스피 티커\n",
    "data = yf.download(ticker, start='2022-01-01', end='2023-01-01')\n",
    "close_prices = data[['Close']].values  # 종가 데이터만 선택\n",
    "\n",
    "# 데이터 정규화 (이상 탐지 모델에 입력으로 적합하게 하기 위해)\n",
    "mean = close_prices.mean()\n",
    "std = close_prices.std()\n",
    "normalized_data = (close_prices - mean) / std\n",
    "\n",
    "# 2. 오토인코더 모델 정의\n",
    "input_dim = normalized_data.shape[1]\n",
    "encoding_dim = 1  # 잠재 공간 차원 (단일 변수이므로 1차원으로 압축)\n",
    "\n",
    "input_layer = Input(shape=(input_dim,))\n",
    "encoded = Dense(encoding_dim, activation='relu')(input_layer)\n",
    "decoded = Dense(input_dim, activation='sigmoid')(encoded)\n",
    "autoencoder = Model(input_layer, decoded)\n",
    "\n",
    "# 3. 모델 컴파일 및 학습 (초기 학습)\n",
    "autoencoder.compile(optimizer='adam', loss='mse')\n",
    "autoencoder.fit(normalized_data, normalized_data,\n",
    "                epochs=50,\n",
    "                batch_size=16,\n",
    "                shuffle=True,\n",
    "                validation_split=0.1)\n",
    "\n",
    "# 4. 모든 데이터에 대해 재구성 오류 계산\n",
    "reconstructed_data = autoencoder.predict(normalized_data)\n",
    "reconstruction_error = np.mean(np.power(normalized_data - reconstructed_data, 2), axis=1)\n",
    "\n",
    "# 5. 이상치 탐지를 위한 임계값 설정 및 이상치 제거\n",
    "threshold = np.percentile(reconstruction_error, 95)  # 상위 5%를 이상치로 설정\n",
    "anomalies = reconstruction_error > threshold  # 이상치로 분류된 데이터\n",
    "cleaned_data = normalized_data[~anomalies]  # 이상치를 제외한 정상 데이터만 추출\n",
    "\n",
    "print(f\"Number of samples after removing anomalies: {cleaned_data.shape[0]}\")\n",
    "\n",
    "# 6. 이상치 제거 후 모델 재학습\n",
    "autoencoder.fit(cleaned_data, cleaned_data,\n",
    "                epochs=50,\n",
    "                batch_size=16,\n",
    "                shuffle=True,\n",
    "                validation_split=0.1)\n",
    "\n",
    "# 7. 재구성 오류 시각화 (이상치 제거 후)\n",
    "reconstructed_data_cleaned = autoencoder.predict(cleaned_data)\n",
    "reconstruction_error_cleaned = np.mean(np.power(cleaned_data - reconstructed_data_cleaned, 2), axis=1)\n",
    "\n",
    "plt.figure(figsize=(12, 6))\n",
    "plt.hist(reconstruction_error_cleaned, bins=50, color='blue', alpha=0.7, label='Reconstruction Error (Cleaned Data)')\n",
    "plt.xlabel('Reconstruction Error')\n",
    "plt.ylabel('Frequency')\n",
    "plt.legend()\n",
    "plt.show()\n",
    "\n",
    "print(f\"Model retrained with cleaned data. Remaining samples: {cleaned_data.shape[0]}\")\n"
   ]
  },
  {
   "cell_type": "code",
   "execution_count": null,
   "id": "8de6bf65",
   "metadata": {
    "id": "8de6bf65"
   },
   "outputs": [],
   "source": [
    "# Number of samples after removing anomalies: 231라고 출력되었다면, 원래 데이터 243개에서 13개의 이상치가 제거되어 231개의 정상 데이터만 남았다는 의미입니다.\n",
    "\n",
    "# 재구성 오류 히스토그램\n",
    "# plt.hist(reconstruction_error_cleaned, ...)를 통해 시각화된 히스토그램은 이상치 제거 후 재구성 오류의 분포를 보여줍니다.\n",
    "# X축은 재구성 오류 값이며, Y축은 해당 오류 값을 가진 데이터의 빈도입니다.\n",
    "# 이상치가 제거된 후 재구성 오류가 작아진 범위에서 분포하게 됩니다.\n",
    "\n",
    "# 해석:\n",
    "# 이상치 데이터가 제거되었기 때문에, 전체적인 재구성 오류의 범위가 좁아지고, 오류 값이 상대적으로 낮은 구간에 더 많은 데이터가 분포하게 됩니다.\n",
    "# 이전보다 오류 값이 작고 고르게 분포된 모습을 보인다면, 오토인코더 모델이 정상 데이터의 특성을 더 잘 학습하여 원본 데이터에 가까운 복원을 수행하고 있다는 의미입니다.\n",
    "# 오토인코더 재학습 후 성능 개선\n",
    "# 이상치가 포함된 데이터는 오토인코더가 데이터의 정상 패턴을 학습하는 것을 방해할 수 있습니다.\n",
    "# 이상치를 제거한 후 정상 데이터로 다시 학습함으로써, 오토인코더가 정상 패턴을 더 정확히 학습하게 됩니다.\n",
    "# 재학습 후 재구성 오류가 줄어들면, 오토인코더가 입력 데이터를 더 잘 복원할 수 있음을 나타내며, 모델의 성능이 향상되었음을 의미합니다."
   ]
  },
  {
   "cell_type": "code",
   "execution_count": null,
   "id": "236ad0d1",
   "metadata": {
    "id": "236ad0d1"
   },
   "outputs": [],
   "source": []
  }
 ],
 "metadata": {
  "accelerator": "GPU",
  "colab": {
   "gpuType": "T4",
   "provenance": []
  },
  "kernelspec": {
   "display_name": "Python 3 (ipykernel)",
   "language": "python",
   "name": "python3"
  },
  "language_info": {
   "codemirror_mode": {
    "name": "ipython",
    "version": 3
   },
   "file_extension": ".py",
   "mimetype": "text/x-python",
   "name": "python",
   "nbconvert_exporter": "python",
   "pygments_lexer": "ipython3",
   "version": "3.9.11"
  },
  "toc": {
   "base_numbering": 1,
   "nav_menu": {},
   "number_sections": true,
   "sideBar": true,
   "skip_h1_title": false,
   "title_cell": "Table of Contents",
   "title_sidebar": "Contents",
   "toc_cell": false,
   "toc_position": {},
   "toc_section_display": true,
   "toc_window_display": false
  }
 },
 "nbformat": 4,
 "nbformat_minor": 5
}
