{
 "cells": [
  {
   "cell_type": "markdown",
   "id": "b4fc4f6c",
   "metadata": {
    "id": "b4fc4f6c"
   },
   "source": [
    "PyTorch는 Python에서 인공 신경망 모델을 구축하고 학습하는 데 사용되는 강력한 딥러닝 라이브러리입니다."
   ]
  },
  {
   "cell_type": "markdown",
   "id": "d196c472",
   "metadata": {
    "id": "d196c472"
   },
   "source": [
    "# PyTorch 설치"
   ]
  },
  {
   "cell_type": "code",
   "execution_count": null,
   "id": "2a8fc957",
   "metadata": {
    "id": "2a8fc957",
    "outputId": "1599f17e-3108-4db0-e7ba-90642d701411"
   },
   "outputs": [
    {
     "name": "stdout",
     "output_type": "stream",
     "text": [
      "Requirement already satisfied: torch in c:\\users\\jyb\\appdata\\local\\programs\\python\\python39\\lib\\site-packages (2.5.0)\n",
      "Requirement already satisfied: filelock in c:\\users\\jyb\\appdata\\local\\programs\\python\\python39\\lib\\site-packages (from torch) (3.16.1)\n",
      "Requirement already satisfied: typing-extensions>=4.8.0 in c:\\users\\jyb\\appdata\\local\\programs\\python\\python39\\lib\\site-packages (from torch) (4.12.2)\n",
      "Requirement already satisfied: networkx in c:\\users\\jyb\\appdata\\local\\programs\\python\\python39\\lib\\site-packages (from torch) (3.2.1)\n",
      "Requirement already satisfied: jinja2 in c:\\users\\jyb\\appdata\\local\\programs\\python\\python39\\lib\\site-packages (from torch) (3.0.1)\n",
      "Requirement already satisfied: fsspec in c:\\users\\jyb\\appdata\\local\\programs\\python\\python39\\lib\\site-packages (from torch) (2024.9.0)\n",
      "Requirement already satisfied: sympy==1.13.1 in c:\\users\\jyb\\appdata\\local\\programs\\python\\python39\\lib\\site-packages (from torch) (1.13.1)\n",
      "Requirement already satisfied: mpmath<1.4,>=1.1.0 in c:\\users\\jyb\\appdata\\local\\programs\\python\\python39\\lib\\site-packages (from sympy==1.13.1->torch) (1.3.0)\n",
      "Requirement already satisfied: MarkupSafe>=2.0 in c:\\users\\jyb\\appdata\\local\\programs\\python\\python39\\lib\\site-packages (from jinja2->torch) (2.0.1)\n",
      "Note: you may need to restart the kernel to use updated packages.\n"
     ]
    },
    {
     "name": "stderr",
     "output_type": "stream",
     "text": [
      "WARNING: Ignoring invalid distribution -atplotlib (c:\\users\\jyb\\appdata\\local\\programs\\python\\python39\\lib\\site-packages)\n",
      "WARNING: Ignoring invalid distribution -illow (c:\\users\\jyb\\appdata\\local\\programs\\python\\python39\\lib\\site-packages)\n",
      "WARNING: Error parsing dependencies of ipykernel: Expected matching RIGHT_PARENTHESIS for LEFT_PARENTHESIS, after version specifier\n",
      "    matplotlib-inline (<0.2.0appnope,>=0.1.0) ; platform_system == \"Darwin\"\n",
      "                      ~~~~~~~~^\n",
      "WARNING: Ignoring invalid distribution -atplotlib (c:\\users\\jyb\\appdata\\local\\programs\\python\\python39\\lib\\site-packages)\n",
      "WARNING: Ignoring invalid distribution -illow (c:\\users\\jyb\\appdata\\local\\programs\\python\\python39\\lib\\site-packages)\n",
      "WARNING: Ignoring invalid distribution -atplotlib (c:\\users\\jyb\\appdata\\local\\programs\\python\\python39\\lib\\site-packages)\n",
      "WARNING: Ignoring invalid distribution -illow (c:\\users\\jyb\\appdata\\local\\programs\\python\\python39\\lib\\site-packages)\n",
      "\n",
      "[notice] A new release of pip is available: 24.2 -> 24.3.1\n",
      "[notice] To update, run: python.exe -m pip install --upgrade pip\n"
     ]
    }
   ],
   "source": [
    "pip install torch\n"
   ]
  },
  {
   "cell_type": "code",
   "execution_count": 15,
   "id": "9761af6b",
   "metadata": {},
   "outputs": [
    {
     "name": "stdout",
     "output_type": "stream",
     "text": [
      "Collecting notebookNote: you may need to restart the kernel to use updated packages.\n",
      "  Using cached notebook-7.2.2-py3-none-any.whl.metadata (10 kB)\n",
      "\n"
     ]
    },
    {
     "name": "stderr",
     "output_type": "stream",
     "text": [
      "WARNING: Ignoring invalid distribution -atplotlib (c:\\users\\jyb\\appdata\\local\\programs\\python\\python39\\lib\\site-packages)\n",
      "WARNING: Ignoring invalid distribution -illow (c:\\users\\jyb\\appdata\\local\\programs\\python\\python39\\lib\\site-packages)\n",
      "WARNING: Ignoring invalid distribution -otebook (c:\\users\\jyb\\appdata\\local\\programs\\python\\python39\\lib\\site-packages)\n",
      "WARNING: Ignoring invalid distribution -atplotlib (c:\\users\\jyb\\appdata\\local\\programs\\python\\python39\\lib\\site-packages)\n",
      "WARNING: Ignoring invalid distribution -illow (c:\\users\\jyb\\appdata\\local\\programs\\python\\python39\\lib\\site-packages)\n",
      "WARNING: Ignoring invalid distribution -otebook (c:\\users\\jyb\\appdata\\local\\programs\\python\\python39\\lib\\site-packages)\n",
      "  WARNING: Failed to write executable - trying to use .deleteme logic\n",
      "ERROR: Could not install packages due to an OSError: [WinError 32] 다른 프로세스가 파일을 사용 중이기 때문에 프로세스가 액세스 할 수 없습니다: 'c:\\\\users\\\\jyb\\\\appdata\\\\local\\\\programs\\\\python\\\\python39\\\\Scripts\\\\jupyter-notebook.exe' -> 'c:\\\\users\\\\jyb\\\\appdata\\\\local\\\\programs\\\\python\\\\python39\\\\Scripts\\\\jupyter-notebook.exe.deleteme'\n",
      "Consider using the `--user` option or check the permissions.\n",
      "\n"
     ]
    },
    {
     "name": "stdout",
     "output_type": "stream",
     "text": [
      "Requirement already satisfied: jupyter-server<3,>=2.4.0 in c:\\users\\jyb\\appdata\\local\\programs\\python\\python39\\lib\\site-packages (from notebook) (2.14.2)\n",
      "Requirement already satisfied: jupyterlab-server<3,>=2.27.1 in c:\\users\\jyb\\appdata\\local\\programs\\python\\python39\\lib\\site-packages (from notebook) (2.27.3)\n",
      "Requirement already satisfied: jupyterlab<4.3,>=4.2.0 in c:\\users\\jyb\\appdata\\local\\programs\\python\\python39\\lib\\site-packages (from notebook) (4.2.5)\n",
      "Requirement already satisfied: notebook-shim<0.3,>=0.2 in c:\\users\\jyb\\appdata\\local\\programs\\python\\python39\\lib\\site-packages (from notebook) (0.2.4)\n",
      "Requirement already satisfied: tornado>=6.2.0 in c:\\users\\jyb\\appdata\\local\\programs\\python\\python39\\lib\\site-packages (from notebook) (6.4.1)\n",
      "Requirement already satisfied: anyio>=3.1.0 in c:\\users\\jyb\\appdata\\local\\programs\\python\\python39\\lib\\site-packages (from jupyter-server<3,>=2.4.0->notebook) (4.6.2.post1)\n",
      "Requirement already satisfied: argon2-cffi>=21.1 in c:\\users\\jyb\\appdata\\local\\programs\\python\\python39\\lib\\site-packages (from jupyter-server<3,>=2.4.0->notebook) (23.1.0)\n",
      "Requirement already satisfied: jinja2>=3.0.3 in c:\\users\\jyb\\appdata\\local\\programs\\python\\python39\\lib\\site-packages (from jupyter-server<3,>=2.4.0->notebook) (3.1.4)\n",
      "Requirement already satisfied: jupyter-client>=7.4.4 in c:\\users\\jyb\\appdata\\local\\programs\\python\\python39\\lib\\site-packages (from jupyter-server<3,>=2.4.0->notebook) (8.6.3)\n",
      "Requirement already satisfied: jupyter-core!=5.0.*,>=4.12 in c:\\users\\jyb\\appdata\\local\\programs\\python\\python39\\lib\\site-packages (from jupyter-server<3,>=2.4.0->notebook) (5.7.2)\n",
      "Requirement already satisfied: jupyter-events>=0.9.0 in c:\\users\\jyb\\appdata\\local\\programs\\python\\python39\\lib\\site-packages (from jupyter-server<3,>=2.4.0->notebook) (0.10.0)\n",
      "Requirement already satisfied: jupyter-server-terminals>=0.4.4 in c:\\users\\jyb\\appdata\\local\\programs\\python\\python39\\lib\\site-packages (from jupyter-server<3,>=2.4.0->notebook) (0.5.3)\n",
      "Requirement already satisfied: nbconvert>=6.4.4 in c:\\users\\jyb\\appdata\\local\\programs\\python\\python39\\lib\\site-packages (from jupyter-server<3,>=2.4.0->notebook) (7.16.4)\n",
      "Requirement already satisfied: nbformat>=5.3.0 in c:\\users\\jyb\\appdata\\local\\programs\\python\\python39\\lib\\site-packages (from jupyter-server<3,>=2.4.0->notebook) (5.10.4)\n",
      "Requirement already satisfied: overrides>=5.0 in c:\\users\\jyb\\appdata\\local\\programs\\python\\python39\\lib\\site-packages (from jupyter-server<3,>=2.4.0->notebook) (7.7.0)\n",
      "Requirement already satisfied: packaging>=22.0 in c:\\users\\jyb\\appdata\\local\\programs\\python\\python39\\lib\\site-packages (from jupyter-server<3,>=2.4.0->notebook) (24.2)\n",
      "Requirement already satisfied: prometheus-client>=0.9 in c:\\users\\jyb\\appdata\\local\\programs\\python\\python39\\lib\\site-packages (from jupyter-server<3,>=2.4.0->notebook) (0.11.0)\n",
      "Requirement already satisfied: pywinpty>=2.0.1 in c:\\users\\jyb\\appdata\\local\\programs\\python\\python39\\lib\\site-packages (from jupyter-server<3,>=2.4.0->notebook) (2.0.14)\n",
      "Requirement already satisfied: pyzmq>=24 in c:\\users\\jyb\\appdata\\local\\programs\\python\\python39\\lib\\site-packages (from jupyter-server<3,>=2.4.0->notebook) (26.2.0)\n",
      "Requirement already satisfied: send2trash>=1.8.2 in c:\\users\\jyb\\appdata\\local\\programs\\python\\python39\\lib\\site-packages (from jupyter-server<3,>=2.4.0->notebook) (1.8.3)\n",
      "Requirement already satisfied: terminado>=0.8.3 in c:\\users\\jyb\\appdata\\local\\programs\\python\\python39\\lib\\site-packages (from jupyter-server<3,>=2.4.0->notebook) (0.10.1)\n",
      "Requirement already satisfied: traitlets>=5.6.0 in c:\\users\\jyb\\appdata\\local\\programs\\python\\python39\\lib\\site-packages (from jupyter-server<3,>=2.4.0->notebook) (5.14.3)\n",
      "Requirement already satisfied: websocket-client>=1.7 in c:\\users\\jyb\\appdata\\local\\programs\\python\\python39\\lib\\site-packages (from jupyter-server<3,>=2.4.0->notebook) (1.8.0)\n",
      "Requirement already satisfied: async-lru>=1.0.0 in c:\\users\\jyb\\appdata\\local\\programs\\python\\python39\\lib\\site-packages (from jupyterlab<4.3,>=4.2.0->notebook) (2.0.4)\n",
      "Requirement already satisfied: httpx>=0.25.0 in c:\\users\\jyb\\appdata\\local\\programs\\python\\python39\\lib\\site-packages (from jupyterlab<4.3,>=4.2.0->notebook) (0.27.2)\n",
      "Requirement already satisfied: importlib-metadata>=4.8.3 in c:\\users\\jyb\\appdata\\local\\programs\\python\\python39\\lib\\site-packages (from jupyterlab<4.3,>=4.2.0->notebook) (4.10.0)\n",
      "Requirement already satisfied: ipykernel>=6.5.0 in c:\\users\\jyb\\appdata\\local\\programs\\python\\python39\\lib\\site-packages (from jupyterlab<4.3,>=4.2.0->notebook) (6.29.5)\n",
      "Requirement already satisfied: jupyter-lsp>=2.0.0 in c:\\users\\jyb\\appdata\\local\\programs\\python\\python39\\lib\\site-packages (from jupyterlab<4.3,>=4.2.0->notebook) (2.2.5)\n",
      "Requirement already satisfied: setuptools>=40.1.0 in c:\\users\\jyb\\appdata\\local\\programs\\python\\python39\\lib\\site-packages (from jupyterlab<4.3,>=4.2.0->notebook) (73.0.1)\n",
      "Requirement already satisfied: tomli>=1.2.2 in c:\\users\\jyb\\appdata\\local\\programs\\python\\python39\\lib\\site-packages (from jupyterlab<4.3,>=4.2.0->notebook) (2.1.0)\n",
      "Requirement already satisfied: babel>=2.10 in c:\\users\\jyb\\appdata\\local\\programs\\python\\python39\\lib\\site-packages (from jupyterlab-server<3,>=2.27.1->notebook) (2.16.0)\n",
      "Requirement already satisfied: json5>=0.9.0 in c:\\users\\jyb\\appdata\\local\\programs\\python\\python39\\lib\\site-packages (from jupyterlab-server<3,>=2.27.1->notebook) (0.9.28)\n",
      "Requirement already satisfied: jsonschema>=4.18.0 in c:\\users\\jyb\\appdata\\local\\programs\\python\\python39\\lib\\site-packages (from jupyterlab-server<3,>=2.27.1->notebook) (4.23.0)\n",
      "Requirement already satisfied: requests>=2.31 in c:\\users\\jyb\\appdata\\local\\programs\\python\\python39\\lib\\site-packages (from jupyterlab-server<3,>=2.27.1->notebook) (2.32.3)\n",
      "Requirement already satisfied: idna>=2.8 in c:\\users\\jyb\\appdata\\local\\programs\\python\\python39\\lib\\site-packages (from anyio>=3.1.0->jupyter-server<3,>=2.4.0->notebook) (3.2)\n",
      "Requirement already satisfied: sniffio>=1.1 in c:\\users\\jyb\\appdata\\local\\programs\\python\\python39\\lib\\site-packages (from anyio>=3.1.0->jupyter-server<3,>=2.4.0->notebook) (1.3.1)\n",
      "Requirement already satisfied: exceptiongroup>=1.0.2 in c:\\users\\jyb\\appdata\\local\\programs\\python\\python39\\lib\\site-packages (from anyio>=3.1.0->jupyter-server<3,>=2.4.0->notebook) (1.2.2)\n",
      "Requirement already satisfied: typing-extensions>=4.1 in c:\\users\\jyb\\appdata\\local\\programs\\python\\python39\\lib\\site-packages (from anyio>=3.1.0->jupyter-server<3,>=2.4.0->notebook) (4.12.2)\n",
      "Requirement already satisfied: argon2-cffi-bindings in c:\\users\\jyb\\appdata\\local\\programs\\python\\python39\\lib\\site-packages (from argon2-cffi>=21.1->jupyter-server<3,>=2.4.0->notebook) (21.2.0)\n",
      "Requirement already satisfied: certifi in c:\\users\\jyb\\appdata\\local\\programs\\python\\python39\\lib\\site-packages (from httpx>=0.25.0->jupyterlab<4.3,>=4.2.0->notebook) (2021.5.30)\n",
      "Requirement already satisfied: httpcore==1.* in c:\\users\\jyb\\appdata\\local\\programs\\python\\python39\\lib\\site-packages (from httpx>=0.25.0->jupyterlab<4.3,>=4.2.0->notebook) (1.0.6)\n",
      "Requirement already satisfied: h11<0.15,>=0.13 in c:\\users\\jyb\\appdata\\local\\programs\\python\\python39\\lib\\site-packages (from httpcore==1.*->httpx>=0.25.0->jupyterlab<4.3,>=4.2.0->notebook) (0.14.0)\n",
      "Requirement already satisfied: zipp>=0.5 in c:\\users\\jyb\\appdata\\local\\programs\\python\\python39\\lib\\site-packages (from importlib-metadata>=4.8.3->jupyterlab<4.3,>=4.2.0->notebook) (3.21.0)\n",
      "Requirement already satisfied: comm>=0.1.1 in c:\\users\\jyb\\appdata\\local\\programs\\python\\python39\\lib\\site-packages (from ipykernel>=6.5.0->jupyterlab<4.3,>=4.2.0->notebook) (0.2.2)\n",
      "Requirement already satisfied: debugpy>=1.6.5 in c:\\users\\jyb\\appdata\\local\\programs\\python\\python39\\lib\\site-packages (from ipykernel>=6.5.0->jupyterlab<4.3,>=4.2.0->notebook) (1.8.8)\n",
      "Requirement already satisfied: ipython>=7.23.1 in c:\\users\\jyb\\appdata\\local\\programs\\python\\python39\\lib\\site-packages (from ipykernel>=6.5.0->jupyterlab<4.3,>=4.2.0->notebook) (7.25.0)\n",
      "Requirement already satisfied: matplotlib-inline>=0.1 in c:\\users\\jyb\\appdata\\local\\programs\\python\\python39\\lib\\site-packages (from ipykernel>=6.5.0->jupyterlab<4.3,>=4.2.0->notebook) (0.1.7)\n",
      "Requirement already satisfied: nest-asyncio in c:\\users\\jyb\\appdata\\local\\programs\\python\\python39\\lib\\site-packages (from ipykernel>=6.5.0->jupyterlab<4.3,>=4.2.0->notebook) (1.5.1)\n",
      "Requirement already satisfied: psutil in c:\\users\\jyb\\appdata\\local\\programs\\python\\python39\\lib\\site-packages (from ipykernel>=6.5.0->jupyterlab<4.3,>=4.2.0->notebook) (6.1.0)\n",
      "Requirement already satisfied: MarkupSafe>=2.0 in c:\\users\\jyb\\appdata\\local\\programs\\python\\python39\\lib\\site-packages (from jinja2>=3.0.3->jupyter-server<3,>=2.4.0->notebook) (2.0.1)\n",
      "Requirement already satisfied: attrs>=22.2.0 in c:\\users\\jyb\\appdata\\local\\programs\\python\\python39\\lib\\site-packages (from jsonschema>=4.18.0->jupyterlab-server<3,>=2.27.1->notebook) (24.2.0)\n",
      "Requirement already satisfied: jsonschema-specifications>=2023.03.6 in c:\\users\\jyb\\appdata\\local\\programs\\python\\python39\\lib\\site-packages (from jsonschema>=4.18.0->jupyterlab-server<3,>=2.27.1->notebook) (2024.10.1)\n",
      "Requirement already satisfied: referencing>=0.28.4 in c:\\users\\jyb\\appdata\\local\\programs\\python\\python39\\lib\\site-packages (from jsonschema>=4.18.0->jupyterlab-server<3,>=2.27.1->notebook) (0.35.1)\n",
      "Requirement already satisfied: rpds-py>=0.7.1 in c:\\users\\jyb\\appdata\\local\\programs\\python\\python39\\lib\\site-packages (from jsonschema>=4.18.0->jupyterlab-server<3,>=2.27.1->notebook) (0.21.0)\n",
      "Requirement already satisfied: python-dateutil>=2.8.2 in c:\\users\\jyb\\appdata\\local\\programs\\python\\python39\\lib\\site-packages (from jupyter-client>=7.4.4->jupyter-server<3,>=2.4.0->notebook) (2.9.0.post0)\n",
      "Requirement already satisfied: platformdirs>=2.5 in c:\\users\\jyb\\appdata\\local\\programs\\python\\python39\\lib\\site-packages (from jupyter-core!=5.0.*,>=4.12->jupyter-server<3,>=2.4.0->notebook) (4.3.6)\n",
      "Requirement already satisfied: pywin32>=300 in c:\\users\\jyb\\appdata\\local\\programs\\python\\python39\\lib\\site-packages (from jupyter-core!=5.0.*,>=4.12->jupyter-server<3,>=2.4.0->notebook) (301)\n",
      "Requirement already satisfied: python-json-logger>=2.0.4 in c:\\users\\jyb\\appdata\\local\\programs\\python\\python39\\lib\\site-packages (from jupyter-events>=0.9.0->jupyter-server<3,>=2.4.0->notebook) (2.0.7)\n",
      "Requirement already satisfied: pyyaml>=5.3 in c:\\users\\jyb\\appdata\\local\\programs\\python\\python39\\lib\\site-packages (from jupyter-events>=0.9.0->jupyter-server<3,>=2.4.0->notebook) (6.0)\n",
      "Requirement already satisfied: rfc3339-validator in c:\\users\\jyb\\appdata\\local\\programs\\python\\python39\\lib\\site-packages (from jupyter-events>=0.9.0->jupyter-server<3,>=2.4.0->notebook) (0.1.4)\n",
      "Requirement already satisfied: rfc3986-validator>=0.1.1 in c:\\users\\jyb\\appdata\\local\\programs\\python\\python39\\lib\\site-packages (from jupyter-events>=0.9.0->jupyter-server<3,>=2.4.0->notebook) (0.1.1)\n",
      "Requirement already satisfied: beautifulsoup4 in c:\\users\\jyb\\appdata\\local\\programs\\python\\python39\\lib\\site-packages (from nbconvert>=6.4.4->jupyter-server<3,>=2.4.0->notebook) (4.11.2)\n",
      "Requirement already satisfied: bleach!=5.0.0 in c:\\users\\jyb\\appdata\\local\\programs\\python\\python39\\lib\\site-packages (from nbconvert>=6.4.4->jupyter-server<3,>=2.4.0->notebook) (3.3.0)\n",
      "Requirement already satisfied: defusedxml in c:\\users\\jyb\\appdata\\local\\programs\\python\\python39\\lib\\site-packages (from nbconvert>=6.4.4->jupyter-server<3,>=2.4.0->notebook) (0.7.1)\n",
      "Requirement already satisfied: jupyterlab-pygments in c:\\users\\jyb\\appdata\\local\\programs\\python\\python39\\lib\\site-packages (from nbconvert>=6.4.4->jupyter-server<3,>=2.4.0->notebook) (0.1.2)\n",
      "Requirement already satisfied: mistune<4,>=2.0.3 in c:\\users\\jyb\\appdata\\local\\programs\\python\\python39\\lib\\site-packages (from nbconvert>=6.4.4->jupyter-server<3,>=2.4.0->notebook) (3.0.2)\n",
      "Requirement already satisfied: nbclient>=0.5.0 in c:\\users\\jyb\\appdata\\local\\programs\\python\\python39\\lib\\site-packages (from nbconvert>=6.4.4->jupyter-server<3,>=2.4.0->notebook) (0.5.3)\n",
      "Requirement already satisfied: pandocfilters>=1.4.1 in c:\\users\\jyb\\appdata\\local\\programs\\python\\python39\\lib\\site-packages (from nbconvert>=6.4.4->jupyter-server<3,>=2.4.0->notebook) (1.4.3)\n",
      "Requirement already satisfied: pygments>=2.4.1 in c:\\users\\jyb\\appdata\\local\\programs\\python\\python39\\lib\\site-packages (from nbconvert>=6.4.4->jupyter-server<3,>=2.4.0->notebook) (2.18.0)\n",
      "Requirement already satisfied: tinycss2 in c:\\users\\jyb\\appdata\\local\\programs\\python\\python39\\lib\\site-packages (from nbconvert>=6.4.4->jupyter-server<3,>=2.4.0->notebook) (1.4.0)\n",
      "Requirement already satisfied: fastjsonschema>=2.15 in c:\\users\\jyb\\appdata\\local\\programs\\python\\python39\\lib\\site-packages (from nbformat>=5.3.0->jupyter-server<3,>=2.4.0->notebook) (2.20.0)\n",
      "Requirement already satisfied: charset-normalizer<4,>=2 in c:\\users\\jyb\\appdata\\local\\programs\\python\\python39\\lib\\site-packages (from requests>=2.31->jupyterlab-server<3,>=2.27.1->notebook) (2.0.1)\n",
      "Requirement already satisfied: urllib3<3,>=1.21.1 in c:\\users\\jyb\\appdata\\local\\programs\\python\\python39\\lib\\site-packages (from requests>=2.31->jupyterlab-server<3,>=2.27.1->notebook) (1.26.6)\n",
      "Requirement already satisfied: six>=1.9.0 in c:\\users\\jyb\\appdata\\local\\programs\\python\\python39\\lib\\site-packages (from bleach!=5.0.0->nbconvert>=6.4.4->jupyter-server<3,>=2.4.0->notebook) (1.16.0)\n",
      "Requirement already satisfied: webencodings in c:\\users\\jyb\\appdata\\local\\programs\\python\\python39\\lib\\site-packages (from bleach!=5.0.0->nbconvert>=6.4.4->jupyter-server<3,>=2.4.0->notebook) (0.5.1)\n",
      "Requirement already satisfied: jedi>=0.16 in c:\\users\\jyb\\appdata\\local\\programs\\python\\python39\\lib\\site-packages (from ipython>=7.23.1->ipykernel>=6.5.0->jupyterlab<4.3,>=4.2.0->notebook) (0.18.0)\n",
      "Requirement already satisfied: decorator in c:\\users\\jyb\\appdata\\local\\programs\\python\\python39\\lib\\site-packages (from ipython>=7.23.1->ipykernel>=6.5.0->jupyterlab<4.3,>=4.2.0->notebook) (5.0.9)\n",
      "Requirement already satisfied: pickleshare in c:\\users\\jyb\\appdata\\local\\programs\\python\\python39\\lib\\site-packages (from ipython>=7.23.1->ipykernel>=6.5.0->jupyterlab<4.3,>=4.2.0->notebook) (0.7.5)\n",
      "Requirement already satisfied: prompt-toolkit!=3.0.0,!=3.0.1,<3.1.0,>=2.0.0 in c:\\users\\jyb\\appdata\\local\\programs\\python\\python39\\lib\\site-packages (from ipython>=7.23.1->ipykernel>=6.5.0->jupyterlab<4.3,>=4.2.0->notebook) (3.0.19)\n",
      "Requirement already satisfied: backcall in c:\\users\\jyb\\appdata\\local\\programs\\python\\python39\\lib\\site-packages (from ipython>=7.23.1->ipykernel>=6.5.0->jupyterlab<4.3,>=4.2.0->notebook) (0.2.0)\n",
      "Requirement already satisfied: colorama in c:\\users\\jyb\\appdata\\local\\programs\\python\\python39\\lib\\site-packages (from ipython>=7.23.1->ipykernel>=6.5.0->jupyterlab<4.3,>=4.2.0->notebook) (0.4.6)\n",
      "Requirement already satisfied: fqdn in c:\\users\\jyb\\appdata\\local\\programs\\python\\python39\\lib\\site-packages (from jsonschema[format-nongpl]>=4.18.0->jupyter-events>=0.9.0->jupyter-server<3,>=2.4.0->notebook) (1.5.1)\n",
      "Requirement already satisfied: isoduration in c:\\users\\jyb\\appdata\\local\\programs\\python\\python39\\lib\\site-packages (from jsonschema[format-nongpl]>=4.18.0->jupyter-events>=0.9.0->jupyter-server<3,>=2.4.0->notebook) (20.11.0)\n",
      "Requirement already satisfied: jsonpointer>1.13 in c:\\users\\jyb\\appdata\\local\\programs\\python\\python39\\lib\\site-packages (from jsonschema[format-nongpl]>=4.18.0->jupyter-events>=0.9.0->jupyter-server<3,>=2.4.0->notebook) (3.0.0)\n",
      "Requirement already satisfied: uri-template in c:\\users\\jyb\\appdata\\local\\programs\\python\\python39\\lib\\site-packages (from jsonschema[format-nongpl]>=4.18.0->jupyter-events>=0.9.0->jupyter-server<3,>=2.4.0->notebook) (1.3.0)\n",
      "Requirement already satisfied: webcolors>=24.6.0 in c:\\users\\jyb\\appdata\\local\\programs\\python\\python39\\lib\\site-packages (from jsonschema[format-nongpl]>=4.18.0->jupyter-events>=0.9.0->jupyter-server<3,>=2.4.0->notebook) (24.11.1)\n",
      "Requirement already satisfied: async-generator in c:\\users\\jyb\\appdata\\local\\programs\\python\\python39\\lib\\site-packages (from nbclient>=0.5.0->nbconvert>=6.4.4->jupyter-server<3,>=2.4.0->notebook) (1.10)\n",
      "Requirement already satisfied: cffi>=1.0.1 in c:\\users\\jyb\\appdata\\local\\programs\\python\\python39\\lib\\site-packages (from argon2-cffi-bindings->argon2-cffi>=21.1->jupyter-server<3,>=2.4.0->notebook) (1.14.6)\n",
      "Requirement already satisfied: soupsieve>1.2 in c:\\users\\jyb\\appdata\\local\\programs\\python\\python39\\lib\\site-packages (from beautifulsoup4->nbconvert>=6.4.4->jupyter-server<3,>=2.4.0->notebook) (2.2.1)\n",
      "Requirement already satisfied: pycparser in c:\\users\\jyb\\appdata\\local\\programs\\python\\python39\\lib\\site-packages (from cffi>=1.0.1->argon2-cffi-bindings->argon2-cffi>=21.1->jupyter-server<3,>=2.4.0->notebook) (2.20)\n",
      "Requirement already satisfied: parso<0.9.0,>=0.8.0 in c:\\users\\jyb\\appdata\\local\\programs\\python\\python39\\lib\\site-packages (from jedi>=0.16->ipython>=7.23.1->ipykernel>=6.5.0->jupyterlab<4.3,>=4.2.0->notebook) (0.8.2)\n",
      "Requirement already satisfied: wcwidth in c:\\users\\jyb\\appdata\\local\\programs\\python\\python39\\lib\\site-packages (from prompt-toolkit!=3.0.0,!=3.0.1,<3.1.0,>=2.0.0->ipython>=7.23.1->ipykernel>=6.5.0->jupyterlab<4.3,>=4.2.0->notebook) (0.2.5)\n",
      "Requirement already satisfied: arrow>=0.15.0 in c:\\users\\jyb\\appdata\\local\\programs\\python\\python39\\lib\\site-packages (from isoduration->jsonschema[format-nongpl]>=4.18.0->jupyter-events>=0.9.0->jupyter-server<3,>=2.4.0->notebook) (1.3.0)\n",
      "Requirement already satisfied: types-python-dateutil>=2.8.10 in c:\\users\\jyb\\appdata\\local\\programs\\python\\python39\\lib\\site-packages (from arrow>=0.15.0->isoduration->jsonschema[format-nongpl]>=4.18.0->jupyter-events>=0.9.0->jupyter-server<3,>=2.4.0->notebook) (2.9.0.20241003)\n",
      "Using cached notebook-7.2.2-py3-none-any.whl (5.0 MB)\n",
      "Installing collected packages: notebook\n"
     ]
    },
    {
     "name": "stderr",
     "output_type": "stream",
     "text": [
      "\n",
      "[notice] A new release of pip is available: 24.2 -> 24.3.1\n",
      "[notice] To update, run: python.exe -m pip install --upgrade pip\n"
     ]
    }
   ],
   "source": [
    "pip install --upgrade notebook"
   ]
  },
  {
   "cell_type": "markdown",
   "id": "c6ae015b",
   "metadata": {
    "id": "c6ae015b"
   },
   "source": [
    "# 라이브러리"
   ]
  },
  {
   "cell_type": "code",
   "execution_count": null,
   "id": "979f47d8",
   "metadata": {
    "id": "979f47d8"
   },
   "outputs": [],
   "source": [
    "import torch\n",
    "import torch.nn as nn\n",
    "import torch.optim as optim\n",
    "import torch.nn.functional as F"
   ]
  },
  {
   "cell_type": "markdown",
   "id": "65edd1bb",
   "metadata": {
    "id": "65edd1bb"
   },
   "source": [
    "# Tensor를 생성"
   ]
  },
  {
   "cell_type": "markdown",
   "id": "12f6193f",
   "metadata": {
    "id": "12f6193f"
   },
   "source": [
    "PyTorch에서 Tensor는 다양한 방법으로 생성할 수 있으며, 초기화 방식도 다양합니다.\n",
    "\n",
    "데이터 타입과 크기 변경 기능을 활용할 수 있습니다.\n",
    "\n",
    "PyTorch의 자동 미분 기능과 결합하면, 딥러닝 모델을 구축하는 데 매우 유용합니다.\n"
   ]
  },
  {
   "cell_type": "code",
   "execution_count": null,
   "id": "ee470241",
   "metadata": {
    "id": "ee470241"
   },
   "outputs": [],
   "source": [
    "# PyTorch의 기본 데이터 구조인 Tensor를 생성합니다."
   ]
  },
  {
   "cell_type": "markdown",
   "id": "df40a5bb",
   "metadata": {
    "id": "df40a5bb"
   },
   "source": [
    "## 리스트로부터 Tensor 생성"
   ]
  },
  {
   "cell_type": "code",
   "execution_count": null,
   "id": "1cc9fd38",
   "metadata": {
    "id": "1cc9fd38",
    "outputId": "e572fa23-66b4-4080-8f41-625b28725d15"
   },
   "outputs": [
    {
     "name": "stdout",
     "output_type": "stream",
     "text": [
      "Tensor from list:\n",
      " tensor([[1, 2],\n",
      "        [3, 4]])\n"
     ]
    }
   ],
   "source": [
    "tensor_from_list = torch.tensor([[1, 2], [3, 4]])\n",
    "print(\"Tensor from list:\\n\", tensor_from_list)"
   ]
  },
  {
   "cell_type": "code",
   "execution_count": null,
   "id": "f99d5d78",
   "metadata": {
    "id": "f99d5d78",
    "outputId": "e426ed6f-550e-4516-d897-c09e99c90eef"
   },
   "outputs": [
    {
     "data": {
      "text/plain": [
       "tensor([[1, 2],\n",
       "        [3, 4]])"
      ]
     },
     "execution_count": 7,
     "metadata": {},
     "output_type": "execute_result"
    }
   ],
   "source": [
    "tensor_from_list"
   ]
  },
  {
   "cell_type": "code",
   "execution_count": null,
   "id": "1e971056",
   "metadata": {
    "id": "1e971056",
    "outputId": "4e850444-41b9-4c43-82b2-c4b7497ea78d"
   },
   "outputs": [
    {
     "name": "stdout",
     "output_type": "stream",
     "text": [
      "Tensor x:\n",
      " tensor([[1., 2.],\n",
      "        [3., 4.]], requires_grad=True)\n"
     ]
    }
   ],
   "source": [
    "x = torch.tensor([[1.0, 2.0], [3.0, 4.0]], requires_grad=True)\n",
    "print(\"Tensor x:\\n\", x)"
   ]
  },
  {
   "cell_type": "code",
   "execution_count": null,
   "id": "866b831b",
   "metadata": {
    "id": "866b831b",
    "outputId": "60c1a41e-d7e8-4771-b6c8-adb2fa87ea7f"
   },
   "outputs": [
    {
     "data": {
      "text/plain": [
       "tensor([[1., 2.],\n",
       "        [3., 4.]], requires_grad=True)"
      ]
     },
     "execution_count": 5,
     "metadata": {},
     "output_type": "execute_result"
    }
   ],
   "source": [
    "x"
   ]
  },
  {
   "cell_type": "markdown",
   "id": "8d01989a",
   "metadata": {
    "id": "8d01989a"
   },
   "source": [
    "## 랜덤 Tensor 생성"
   ]
  },
  {
   "cell_type": "code",
   "execution_count": null,
   "id": "e396ca70",
   "metadata": {
    "id": "e396ca70",
    "outputId": "300fa213-906d-46d3-f933-6acd9b967748"
   },
   "outputs": [
    {
     "name": "stdout",
     "output_type": "stream",
     "text": [
      "\n",
      "Random Tensor:\n",
      " tensor([[0.5155, 0.3760, 0.2359],\n",
      "        [0.2958, 0.3185, 0.5707],\n",
      "        [0.7898, 0.6813, 0.7006]])\n"
     ]
    }
   ],
   "source": [
    "random_tensor = torch.rand(3, 3)  # 3x3 랜덤 값\n",
    "print(\"\\nRandom Tensor:\\n\", random_tensor)"
   ]
  },
  {
   "cell_type": "markdown",
   "id": "6ffad9ef",
   "metadata": {
    "id": "6ffad9ef"
   },
   "source": [
    "## 모든 값이 0인 Tensor 생성"
   ]
  },
  {
   "cell_type": "code",
   "execution_count": null,
   "id": "20ad0373",
   "metadata": {
    "id": "20ad0373",
    "outputId": "3ce02b85-1b81-4d68-ee34-8ca35daf4d99"
   },
   "outputs": [
    {
     "name": "stdout",
     "output_type": "stream",
     "text": [
      "\n",
      "Zeros Tensor:\n",
      " tensor([[0., 0., 0., 0.],\n",
      "        [0., 0., 0., 0.]])\n"
     ]
    }
   ],
   "source": [
    "zeros_tensor = torch.zeros(2, 4)  # 2x4 크기의 0으로 초기화된 Tensor\n",
    "print(\"\\nZeros Tensor:\\n\", zeros_tensor)"
   ]
  },
  {
   "cell_type": "markdown",
   "id": "b120ec1d",
   "metadata": {
    "id": "b120ec1d"
   },
   "source": [
    "## 모든 값이 1인 Tensor 생성"
   ]
  },
  {
   "cell_type": "code",
   "execution_count": null,
   "id": "65e1ea06",
   "metadata": {
    "id": "65e1ea06",
    "outputId": "c62bd71e-a219-47ad-d949-434c02e7fd21"
   },
   "outputs": [
    {
     "name": "stdout",
     "output_type": "stream",
     "text": [
      "\n",
      "Ones Tensor:\n",
      " tensor([[1., 1.],\n",
      "        [1., 1.]])\n"
     ]
    }
   ],
   "source": [
    "ones_tensor = torch.ones(2, 2)  # 2x2 크기의 1로 초기화된 Tensor\n",
    "print(\"\\nOnes Tensor:\\n\", ones_tensor)"
   ]
  },
  {
   "cell_type": "markdown",
   "id": "7641b798",
   "metadata": {
    "id": "7641b798"
   },
   "source": [
    "## 단위 행렬 (Identity matrix) 생성"
   ]
  },
  {
   "cell_type": "code",
   "execution_count": null,
   "id": "eeb23818",
   "metadata": {
    "id": "eeb23818",
    "outputId": "515adac0-21ea-4e04-c13b-2f27eeac591b"
   },
   "outputs": [
    {
     "name": "stdout",
     "output_type": "stream",
     "text": [
      "\n",
      "Identity Tensor:\n",
      " tensor([[1., 0., 0.],\n",
      "        [0., 1., 0.],\n",
      "        [0., 0., 1.]])\n"
     ]
    }
   ],
   "source": [
    "identity_tensor = torch.eye(3)  # 3x3 단위 행렬\n",
    "print(\"\\nIdentity Tensor:\\n\", identity_tensor)"
   ]
  },
  {
   "cell_type": "markdown",
   "id": "8b56c529",
   "metadata": {
    "id": "8b56c529"
   },
   "source": [
    "## 데이터 타입 지정 (float32)"
   ]
  },
  {
   "cell_type": "code",
   "execution_count": null,
   "id": "36fd27f3",
   "metadata": {
    "id": "36fd27f3",
    "outputId": "c26adb24-e5ae-4ad5-bf9e-aded2f8ef09a"
   },
   "outputs": [
    {
     "name": "stdout",
     "output_type": "stream",
     "text": [
      "\n",
      "Float Tensor:\n",
      " tensor([1.5000, 2.5000, 3.5000])\n"
     ]
    }
   ],
   "source": [
    "float_tensor = torch.tensor([1.5, 2.5, 3.5], dtype=torch.float32)\n",
    "print(\"\\nFloat Tensor:\\n\", float_tensor)"
   ]
  },
  {
   "cell_type": "markdown",
   "id": "faaec6b1",
   "metadata": {
    "id": "faaec6b1"
   },
   "source": [
    "## 텐서의 크기와 데이터 타입 변경 (reshape 및 type casting)"
   ]
  },
  {
   "cell_type": "code",
   "execution_count": null,
   "id": "74f6e16e",
   "metadata": {
    "id": "74f6e16e",
    "outputId": "b1a266ef-6500-458a-c1ae-65181189552d"
   },
   "outputs": [
    {
     "name": "stdout",
     "output_type": "stream",
     "text": [
      "\n",
      "Reshaped Tensor:\n",
      " tensor([[1.5000],\n",
      "        [2.5000],\n",
      "        [3.5000]])\n",
      "\n",
      "Casted Integer Tensor:\n",
      " tensor([1, 2, 3], dtype=torch.int32)\n"
     ]
    }
   ],
   "source": [
    "reshaped_tensor = float_tensor.view(3, 1)  # (3,) -> (3, 1) 크기로 변경\n",
    "int_tensor_cast = float_tensor.to(torch.int32)  # float -> int로 변환\n",
    "print(\"\\nReshaped Tensor:\\n\", reshaped_tensor)\n",
    "print(\"\\nCasted Integer Tensor:\\n\", int_tensor_cast)"
   ]
  },
  {
   "cell_type": "markdown",
   "id": "6886a2d4",
   "metadata": {
    "id": "6886a2d4"
   },
   "source": [
    "## 표준 정규분포로 초기화된 Tensor 생성"
   ]
  },
  {
   "cell_type": "code",
   "execution_count": null,
   "id": "70d50982",
   "metadata": {
    "id": "70d50982",
    "outputId": "0a644815-50df-466d-e15b-006ca67c5e4b"
   },
   "outputs": [
    {
     "name": "stdout",
     "output_type": "stream",
     "text": [
      "\n",
      "Normally Initialized Tensor:\n",
      " tensor([[ 1.2739,  0.3791,  1.4452,  0.5821],\n",
      "        [-1.0065,  1.7229, -1.0153,  0.7499],\n",
      "        [-0.4400,  0.4665,  1.5367, -1.1874],\n",
      "        [ 0.7468,  0.2378,  0.3413,  1.5347]])\n"
     ]
    }
   ],
   "source": [
    "normal_tensor = torch.randn(4, 4)  # 평균 0, 표준편차 1\n",
    "print(\"\\nNormally Initialized Tensor:\\n\", normal_tensor)"
   ]
  },
  {
   "cell_type": "markdown",
   "id": "1a2f81b8",
   "metadata": {
    "id": "1a2f81b8"
   },
   "source": [
    "## 특정 값으로 초기화된 Tensor 생성"
   ]
  },
  {
   "cell_type": "code",
   "execution_count": null,
   "id": "3189574f",
   "metadata": {
    "id": "3189574f",
    "outputId": "ec79b6bd-7eaf-4864-f682-fda67a0a5dd1"
   },
   "outputs": [
    {
     "name": "stdout",
     "output_type": "stream",
     "text": [
      "\n",
      "Filled Tensor:\n",
      " tensor([[7, 7, 7],\n",
      "        [7, 7, 7]])\n"
     ]
    }
   ],
   "source": [
    "filled_tensor = torch.full((2, 3), 7)  # 2x3 크기, 모든 값이 7\n",
    "print(\"\\nFilled Tensor:\\n\", filled_tensor)"
   ]
  },
  {
   "cell_type": "markdown",
   "id": "3777a841",
   "metadata": {
    "id": "3777a841"
   },
   "source": [
    "## Tensor의 크기, 데이터 타입, 장치 정보"
   ]
  },
  {
   "cell_type": "code",
   "execution_count": null,
   "id": "7cdd6615",
   "metadata": {
    "id": "7cdd6615",
    "outputId": "75b54c37-ab57-452e-a8df-58355d74c6d3"
   },
   "outputs": [
    {
     "name": "stdout",
     "output_type": "stream",
     "text": [
      "\n",
      "Tensor Size: torch.Size([3, 3])\n",
      "Tensor Data Type: torch.float32\n",
      "Tensor Device: cpu\n"
     ]
    }
   ],
   "source": [
    "tensor = torch.rand(3, 3)\n",
    "print(\"\\nTensor Size:\", tensor.size())\n",
    "print(\"Tensor Data Type:\", tensor.dtype)\n",
    "print(\"Tensor Device:\", tensor.device)"
   ]
  },
  {
   "cell_type": "markdown",
   "id": "cc63f5e7",
   "metadata": {
    "id": "cc63f5e7"
   },
   "source": [
    "# 기본 연산"
   ]
  },
  {
   "cell_type": "markdown",
   "id": "079e553f",
   "metadata": {
    "id": "079e553f"
   },
   "source": [
    "코드 설명\n",
    "Tensor 생성:\n",
    "torch.tensor() 메서드를 사용해 Tensor를 생성합니다.\n",
    "\n",
    "덧셈, 뺄셈, 곱셈, 나눗셈:\n",
    "기본 연산(+, -, *, /)은 요소별(element-wise)로 수행됩니다.\n",
    "\n",
    "행렬 곱셈:\n",
    "torch.matmul() 또는 @ 연산자를 사용해 행렬 곱셈을 수행합니다.\n",
    "\n",
    "지수 연산과 제곱:\n",
    "torch.exp()는 지수 함수(e^x),는 제곱 연산입니다.\n",
    "\n",
    "합계, 평균, 최대값:\n",
    ".sum(), .mean(), .max() 메서드를 사용해 연산합니다.\n",
    ".argmax()는 최대값의 인덱스를 반환합니다.\n",
    "\n",
    "Tensor 크기 변경 (Reshape):\n",
    ".view() 메서드를 사용해 Tensor의 크기를 변경할 수 있습니다.\n",
    "\n",
    "Tensor 복사:\n",
    ".clone() 메서드는 Tensor를 깊은 복사합니다."
   ]
  },
  {
   "cell_type": "code",
   "execution_count": null,
   "id": "28f0575f",
   "metadata": {
    "id": "28f0575f",
    "outputId": "91480ecb-1e1f-4386-c90e-c028c32f74d3"
   },
   "outputs": [
    {
     "name": "stdout",
     "output_type": "stream",
     "text": [
      "Tensor a:\n",
      " tensor([[1., 2.],\n",
      "        [3., 4.]])\n",
      "Tensor b:\n",
      " tensor([[5., 6.],\n",
      "        [7., 8.]])\n",
      "\n",
      "Tensor 덧셈 결과 (a + b):\n",
      " tensor([[ 6.,  8.],\n",
      "        [10., 12.]])\n",
      "\n",
      "Tensor 뺄셈 결과 (a - b):\n",
      " tensor([[-4., -4.],\n",
      "        [-4., -4.]])\n",
      "\n",
      "Tensor 곱셈 결과 (a * b):\n",
      " tensor([[ 5., 12.],\n",
      "        [21., 32.]])\n",
      "\n",
      "행렬 곱셈 결과 (a @ b):\n",
      " tensor([[19., 22.],\n",
      "        [43., 50.]])\n",
      "\n",
      "Tensor 나눗셈 결과 (a / b):\n",
      " tensor([[0.2000, 0.3333],\n",
      "        [0.4286, 0.5000]])\n",
      "\n",
      "Tensor 지수 연산 결과 (exp(a)):\n",
      " tensor([[ 2.7183,  7.3891],\n",
      "        [20.0855, 54.5981]])\n",
      "\n",
      "Tensor 제곱 결과 (a ** 2):\n",
      " tensor([[ 1.,  4.],\n",
      "        [ 9., 16.]])\n",
      "\n",
      "Tensor 합계 (sum(a)): 10.0\n",
      "Tensor 평균 (mean(a)): 2.5\n",
      "\n",
      "Tensor 최대값 (max(a)): 4.0\n",
      "Tensor 최대값의 인덱스 (argmax(a)): 3\n",
      "\n",
      "Reshaped Tensor (view(4)):\n",
      " tensor([1., 2., 3., 4.])\n",
      "\n",
      "Original Tensor a:\n",
      " tensor([[1., 2.],\n",
      "        [3., 4.]])\n",
      "Cloned Tensor a_copy (변경됨):\n",
      " tensor([[10.,  2.],\n",
      "        [ 3.,  4.]])\n"
     ]
    }
   ],
   "source": [
    "import torch\n",
    "\n",
    "# 1. Tensor 생성\n",
    "a = torch.tensor([[1, 2], [3, 4]], dtype=torch.float32)\n",
    "b = torch.tensor([[5, 6], [7, 8]], dtype=torch.float32)\n",
    "\n",
    "print(\"Tensor a:\\n\", a)\n",
    "print(\"Tensor b:\\n\", b)\n",
    "\n",
    "# 2. Tensor 덧셈\n",
    "add_result = a + b\n",
    "print(\"\\nTensor 덧셈 결과 (a + b):\\n\", add_result)\n",
    "\n",
    "# 3. Tensor 뺄셈\n",
    "sub_result = a - b\n",
    "print(\"\\nTensor 뺄셈 결과 (a - b):\\n\", sub_result)\n",
    "\n",
    "# 4. Tensor 곱셈 (요소별 곱)\n",
    "mul_result = a * b\n",
    "print(\"\\nTensor 곱셈 결과 (a * b):\\n\", mul_result)\n",
    "\n",
    "# 5. 행렬 곱셈 (Matrix Multiplication)\n",
    "matmul_result = torch.matmul(a, b)\n",
    "print(\"\\n행렬 곱셈 결과 (a @ b):\\n\", matmul_result)\n",
    "\n",
    "# 6. Tensor 나눗셈\n",
    "div_result = a / b\n",
    "print(\"\\nTensor 나눗셈 결과 (a / b):\\n\", div_result)\n",
    "\n",
    "# 7. Tensor 지수 연산\n",
    "exp_result = torch.exp(a)\n",
    "print(\"\\nTensor 지수 연산 결과 (exp(a)):\\n\", exp_result)\n",
    "\n",
    "# 8. Tensor 제곱\n",
    "square_result = a ** 2\n",
    "print(\"\\nTensor 제곱 결과 (a ** 2):\\n\", square_result)\n",
    "\n",
    "# 9. 합계와 평균\n",
    "sum_result = a.sum()\n",
    "mean_result = a.mean()\n",
    "print(\"\\nTensor 합계 (sum(a)):\", sum_result.item())\n",
    "print(\"Tensor 평균 (mean(a)):\", mean_result.item())\n",
    "\n",
    "# 10. 최대값과 인덱스 찾기\n",
    "max_value, max_index = a.max(), a.argmax()\n",
    "print(\"\\nTensor 최대값 (max(a)):\", max_value.item())\n",
    "print(\"Tensor 최대값의 인덱스 (argmax(a)):\", max_index.item())\n",
    "\n",
    "# 11. Tensor 크기 변경 (Reshape)\n",
    "reshaped = a.view(4)\n",
    "print(\"\\nReshaped Tensor (view(4)):\\n\", reshaped)\n",
    "\n",
    "# 12. Tensor 복사 (Clone)\n",
    "a_copy = a.clone()\n",
    "a_copy[0, 0] = 10\n",
    "print(\"\\nOriginal Tensor a:\\n\", a)\n",
    "print(\"Cloned Tensor a_copy (변경됨):\\n\", a_copy)\n"
   ]
  },
  {
   "cell_type": "markdown",
   "id": "bdbb2a15",
   "metadata": {
    "id": "bdbb2a15"
   },
   "source": [
    "# 자동 미분(Automatic Differentiation) 기능"
   ]
  },
  {
   "cell_type": "markdown",
   "id": "1fbe30da",
   "metadata": {
    "id": "1fbe30da"
   },
   "source": [
    "PyTorch에서는 자동 미분(Automatic Differentiation) 기능을 제공하며, 이를 통해 **역전파(Backpropagation)**를 자동으로 수행할 수 있습니다.\n",
    "\n",
    "PyTorch의 autograd 모듈은 모든 Tensor 연산을 추적하고, .backward() 메서드를 호출하면 미분 계산을 자동으로 수행합니다."
   ]
  },
  {
   "cell_type": "markdown",
   "id": "b2fbf3ee",
   "metadata": {
    "id": "b2fbf3ee"
   },
   "source": [
    "## 기본 사례"
   ]
  },
  {
   "cell_type": "code",
   "execution_count": null,
   "id": "70e51724",
   "metadata": {
    "id": "70e51724"
   },
   "outputs": [],
   "source": [
    "# requires_grad=True: Tensor x는 미분이 필요하다는 뜻입니다.\n",
    "# y.backward(): y를 x에 대해 미분하고, 결과를 x.grad에 저장합니다.\n",
    "# dy/dx = 2 * x + 3이므로, x = 2.0일 때, dy/dx = 7.0이 됩니다."
   ]
  },
  {
   "cell_type": "code",
   "execution_count": null,
   "id": "35fb125a",
   "metadata": {
    "id": "35fb125a",
    "outputId": "204eecd6-19b8-43f3-c887-4c924d5917e3"
   },
   "outputs": [
    {
     "name": "stdout",
     "output_type": "stream",
     "text": [
      "x의 값: 2.0\n",
      "y의 값: 14.0\n",
      "x에 대한 미분(dy/dx): 7.0\n"
     ]
    }
   ],
   "source": [
    "import torch\n",
    "\n",
    "# 1. Tensor 생성 (자동 미분 활성화)\n",
    "x = torch.tensor(2.0, requires_grad=True)\n",
    "y = x**2 + 3 * x + 4\n",
    "\n",
    "# 2. y를 x에 대해 미분 (Backward)\n",
    "y.backward()\n",
    "\n",
    "# 3. x에 대한 미분 결과 출력\n",
    "print(\"x의 값:\", x.item())\n",
    "print(\"y의 값:\", y.item())\n",
    "print(\"x에 대한 미분(dy/dx):\", x.grad.item())\n"
   ]
  },
  {
   "cell_type": "markdown",
   "id": "97d0d29b",
   "metadata": {
    "id": "97d0d29b"
   },
   "source": [
    "## 다변수 함수의 자동 미분 예제"
   ]
  },
  {
   "cell_type": "code",
   "execution_count": null,
   "id": "fce66e65",
   "metadata": {
    "id": "fce66e65",
    "outputId": "88acb83f-b159-43f8-c2d9-55fcfe7428eb"
   },
   "outputs": [
    {
     "name": "stdout",
     "output_type": "stream",
     "text": [
      "x의 값: tensor([1., 2.], requires_grad=True)\n",
      "y의 값: 9.0\n",
      "x[0]에 대한 미분: 2.0\n",
      "x[1]에 대한 미분: 12.0\n"
     ]
    }
   ],
   "source": [
    "# 1. Tensor 생성\n",
    "x = torch.tensor([1.0, 2.0], requires_grad=True)\n",
    "y = x[0]**2 + x[1]**3\n",
    "\n",
    "# 2. y를 x에 대해 미분 (Backward)\n",
    "y.backward()\n",
    "\n",
    "# 3. x에 대한 미분 결과 출력\n",
    "print(\"x의 값:\", x)\n",
    "print(\"y의 값:\", y.item())\n",
    "print(\"x[0]에 대한 미분:\", x.grad[0].item())\n",
    "print(\"x[1]에 대한 미분:\", x.grad[1].item())\n"
   ]
  },
  {
   "cell_type": "markdown",
   "id": "9f829297",
   "metadata": {
    "id": "9f829297"
   },
   "source": [
    "## autograd 자동 미분 기능"
   ]
  },
  {
   "cell_type": "markdown",
   "id": "983efa9f",
   "metadata": {
    "id": "983efa9f"
   },
   "source": [
    "PyTorch의 **autograd**는 자동 미분 기능을 제공합니다.\n",
    "\n",
    ".backward() 메서드를 호출하면, 역전파가 수행되어 기울기가 자동으로 계산됩니다.\n",
    "\n",
    "자동 미분은 모델 학습에 중요한 역할을 하며, 손실 함수의 기울기를 계산해 가중치를 업데이트하는 데 사용됩니다.\n"
   ]
  },
  {
   "cell_type": "code",
   "execution_count": null,
   "id": "c9a86b9c",
   "metadata": {
    "id": "c9a86b9c",
    "outputId": "0485eb59-7775-487d-a5b0-afbb6911207e"
   },
   "outputs": [
    {
     "name": "stdout",
     "output_type": "stream",
     "text": [
      "Epoch 10: Loss = 0.0000\n",
      "Epoch 20: Loss = 0.0000\n",
      "Epoch 30: Loss = 0.0000\n",
      "Epoch 40: Loss = 0.0000\n",
      "Epoch 50: Loss = 0.0000\n",
      "Epoch 60: Loss = 0.0000\n",
      "Epoch 70: Loss = 0.0000\n",
      "Epoch 80: Loss = 0.0000\n",
      "Epoch 90: Loss = 0.0000\n",
      "Epoch 100: Loss = 0.0000\n",
      "학습된 가중치 (w): 2.0\n"
     ]
    }
   ],
   "source": [
    "# 1. 데이터 정의\n",
    "x = torch.tensor([[1.0], [2.0], [3.0]], requires_grad=True)\n",
    "y = torch.tensor([[2.0], [4.0], [6.0]])\n",
    "\n",
    "# 2. 가중치 초기화\n",
    "w = torch.tensor([[0.0]], requires_grad=True)\n",
    "\n",
    "# 3. 학습률 설정\n",
    "learning_rate = 0.1\n",
    "\n",
    "# 4. 학습 반복문\n",
    "for epoch in range(100):\n",
    "    # 예측 계산\n",
    "    y_pred = x.mm(w)\n",
    "\n",
    "    # 손실 계산 (MSE)\n",
    "    loss = ((y_pred - y) ** 2).mean()\n",
    "\n",
    "    # 역전파 수행\n",
    "    loss.backward()\n",
    "\n",
    "    # 가중치 업데이트\n",
    "    with torch.no_grad():\n",
    "        w -= learning_rate * w.grad\n",
    "\n",
    "    # 기울기 초기화\n",
    "    w.grad.zero_()\n",
    "\n",
    "    # 10번째 에포크마다 손실 출력\n",
    "    if (epoch + 1) % 10 == 0:\n",
    "        print(f\"Epoch {epoch + 1}: Loss = {loss.item():.4f}\")\n",
    "\n",
    "# 5. 학습 완료 후 가중치 출력\n",
    "print(\"학습된 가중치 (w):\", w.item())\n"
   ]
  },
  {
   "cell_type": "code",
   "execution_count": null,
   "id": "9f388ac8",
   "metadata": {
    "id": "9f388ac8"
   },
   "outputs": [],
   "source": [
    "# 자동 미분을 사용해 손실의 기울기(w.grad)를 계산하고, 이를 사용해 가중치를 업데이트합니다.\n",
    "# 학습이 완료되면, w의 값은 2.0에 근접하게 됩니다."
   ]
  },
  {
   "cell_type": "code",
   "execution_count": null,
   "id": "3a54d66d",
   "metadata": {
    "id": "3a54d66d"
   },
   "outputs": [],
   "source": []
  },
  {
   "cell_type": "markdown",
   "id": "c33c7d86",
   "metadata": {
    "id": "c33c7d86"
   },
   "source": [
    "# 실습 사례"
   ]
  },
  {
   "cell_type": "markdown",
   "id": "a7f2da15",
   "metadata": {
    "id": "a7f2da15"
   },
   "source": [
    "## 선형 회귀 모델"
   ]
  },
  {
   "cell_type": "markdown",
   "id": "fee9074b",
   "metadata": {
    "id": "fee9074b"
   },
   "source": [
    "코드 설명\n",
    "\n",
    "Tensor 생성 및 기본 연산:\n",
    "PyTorch의 기본 데이터 구조인 Tensor를 생성합니다.\n",
    "requires_grad=True는 **자동 미분(Gradient Calculation)**을 활성화합니다.\n",
    "Tensor 연산 후, .backward() 메서드로 자동 미분을 수행할 수 있습니다.\n",
    "\n",
    "간단한 선형 회귀 모델 정의:\n",
    "nn.Module을 상속받아 신경망 모델을 정의합니다.\n",
    "nn.Linear는 선형 회귀 레이어를 생성합니다.\n",
    "\n",
    "손실 함수 및 옵티마이저 정의:\n",
    "nn.MSELoss()는 **평균 제곱 오차 손실(MSE Loss)**를 사용합니다.\n",
    "optim.SGD()는 **확률적 경사 하강법(SGD)**을 사용해 가중치를 업데이트합니다.\n",
    "\n",
    "학습 루프:\n",
    "학습 데이터로 모델을 학습시킵니다.\n",
    "optimizer.zero_grad()로 기울기를 초기화하고, loss.backward()로 역전파를 수행한 뒤, optimizer.step()으로 가중치를 업데이트합니다.\n",
    "\n",
    "모델 평가:\n",
    "학습된 모델을 사용해 새로운 입력값에 대한 예측을 수행합니다."
   ]
  },
  {
   "cell_type": "code",
   "execution_count": null,
   "id": "37f60294",
   "metadata": {
    "id": "37f60294",
    "outputId": "e5b308dc-7e58-4c8a-9ef2-9308f714de0e"
   },
   "outputs": [
    {
     "name": "stdout",
     "output_type": "stream",
     "text": [
      "Tensor x:\n",
      " tensor([[1., 2.],\n",
      "        [3., 4.]], requires_grad=True)\n",
      "Tensor y:\n",
      " tensor([[3., 4.],\n",
      "        [5., 6.]], grad_fn=<AddBackward0>)\n",
      "Tensor z:\n",
      " tensor([[ 27.,  48.],\n",
      "        [ 75., 108.]], grad_fn=<MulBackward0>)\n",
      "Output (mean of z): tensor(64.5000, grad_fn=<MeanBackward0>)\n",
      "Gradient of x:\n",
      " tensor([[4.5000, 6.0000],\n",
      "        [7.5000, 9.0000]])\n",
      "Epoch [10/100], Loss: 0.5211\n",
      "Epoch [20/100], Loss: 0.0708\n",
      "Epoch [30/100], Loss: 0.0559\n",
      "Epoch [40/100], Loss: 0.0523\n",
      "Epoch [50/100], Loss: 0.0493\n",
      "Epoch [60/100], Loss: 0.0464\n",
      "Epoch [70/100], Loss: 0.0437\n",
      "Epoch [80/100], Loss: 0.0412\n",
      "Epoch [90/100], Loss: 0.0388\n",
      "Epoch [100/100], Loss: 0.0365\n",
      "Prediction for input 5.0: 9.673429489135742\n"
     ]
    }
   ],
   "source": [
    "import torch\n",
    "import torch.nn as nn\n",
    "import torch.optim as optim\n",
    "import torch.nn.functional as F\n",
    "\n",
    "# 1. Tensor 생성\n",
    "x = torch.tensor([[1.0, 2.0], [3.0, 4.0]], requires_grad=True)\n",
    "print(\"Tensor x:\\n\", x)\n",
    "\n",
    "# 2. 기본 연산\n",
    "y = x + 2\n",
    "z = y * y * 3\n",
    "out = z.mean()\n",
    "print(\"Tensor y:\\n\", y)\n",
    "print(\"Tensor z:\\n\", z)\n",
    "print(\"Output (mean of z):\", out)\n",
    "\n",
    "# 3. 자동 미분\n",
    "out.backward()\n",
    "print(\"Gradient of x:\\n\", x.grad)\n",
    "\n",
    "# 4. 간단한 선형 회귀 모델 정의\n",
    "class LinearRegressionModel(nn.Module):\n",
    "    def __init__(self):\n",
    "        super(LinearRegressionModel, self).__init__()\n",
    "        self.linear = nn.Linear(1, 1)\n",
    "\n",
    "    def forward(self, x):\n",
    "        return self.linear(x)\n",
    "\n",
    "# 5. 모델, 손실 함수, 옵티마이저 정의\n",
    "model = LinearRegressionModel()\n",
    "criterion = nn.MSELoss()\n",
    "optimizer = optim.SGD(model.parameters(), lr=0.01)\n",
    "\n",
    "# 6. 학습 데이터 준비\n",
    "x_train = torch.tensor([[1.0], [2.0], [3.0], [4.0]])\n",
    "y_train = torch.tensor([[2.0], [4.0], [6.0], [8.0]])\n",
    "\n",
    "# 7. 학습 루프\n",
    "epochs = 100\n",
    "for epoch in range(epochs):\n",
    "    model.train()\n",
    "    optimizer.zero_grad()\n",
    "\n",
    "    # 예측값 계산\n",
    "    y_pred = model(x_train)\n",
    "\n",
    "    # 손실 계산\n",
    "    loss = criterion(y_pred, y_train)\n",
    "\n",
    "    # 역전파 및 가중치 업데이트\n",
    "    loss.backward()\n",
    "    optimizer.step()\n",
    "\n",
    "    # 로그 출력\n",
    "    if (epoch + 1) % 10 == 0:\n",
    "        print(f\"Epoch [{epoch + 1}/{epochs}], Loss: {loss.item():.4f}\")\n",
    "\n",
    "# 8. 모델 평가\n",
    "model.eval()\n",
    "with torch.no_grad():\n",
    "    test_input = torch.tensor([[5.0]])\n",
    "    prediction = model(test_input)\n",
    "    print(\"Prediction for input 5.0:\", prediction.item())\n"
   ]
  },
  {
   "cell_type": "markdown",
   "id": "0108a20b",
   "metadata": {},
   "source": [
    "## PyTorch 분류 모델 실습 예제"
   ]
  },
  {
   "cell_type": "markdown",
   "id": "420769ce",
   "metadata": {},
   "source": [
    "PyTorch를 사용해 간단한 분류 모델(Classification Model)을 구현하는 예제입니다. \n",
    "\n",
    "이 코드는 Iris 데이터셋을 사용해 다중 클래스 분류 문제를 해결합니다.\n",
    "\n",
    "주요 단계\n",
    "\n",
    "데이터 준비: 데이터를 로드하고 전처리합니다.\n",
    "\n",
    "모델 정의: 신경망 모델을 정의합니다.\n",
    "\n",
    "손실 함수 및 옵티마이저 정의: 분류 문제에 적합한 손실 함수와 옵티마이저를 설정합니다.\n",
    "\n",
    "모델 학습: 학습 데이터를 사용해 모델을 훈련시킵니다.\n",
    "\n",
    "모델 평가: 테스트 데이터를 사용해 모델을 평가하고 정확도를 출력합니다."
   ]
  },
  {
   "cell_type": "markdown",
   "id": "8e5120f4",
   "metadata": {},
   "source": [
    "코드 설명"
   ]
  },
  {
   "cell_type": "code",
   "execution_count": null,
   "id": "158cb478",
   "metadata": {},
   "outputs": [],
   "source": [
    "# 데이터 준비:\n",
    "# load_iris()로 Iris 데이터를 불러옵니다.\n",
    "# StandardScaler를 사용해 데이터를 표준화합니다.\n",
    "# 데이터를 PyTorch Tensor로 변환합니다.\n",
    "\n",
    "# 모델 정의:\n",
    "# SimpleNN 클래스는 신경망 모델입니다.\n",
    "# 입력층, 은닉층, 출력층을 포함한 간단한 네트워크입니다.\n",
    "# 활성화 함수로 ReLU를 사용합니다.\n",
    "\n",
    "# 손실 함수 및 옵티마이저 정의:\n",
    "# 분류 문제에서는 **CrossEntropyLoss**를 사용합니다.\n",
    "# 옵티마이저로 Adam을 사용해 가중치를 업데이트합니다.\n",
    "\n",
    "# 모델 학습:\n",
    "# 각 에포크마다 예측값을 계산하고, 손실을 최소화하기 위해 역전파를 수행합니다.\n",
    "# 10번째 에포크마다 손실 값을 출력합니다.\n",
    "\n",
    "# 모델 평가:\n",
    "# 테스트 데이터를 사용해 모델의 성능을 평가합니다.\n",
    "# 예측값(y_pred)과 실제값(y_test)을 비교해 정확도를 계산합니다."
   ]
  },
  {
   "cell_type": "code",
   "execution_count": 6,
   "id": "81ec5fec",
   "metadata": {},
   "outputs": [
    {
     "name": "stdout",
     "output_type": "stream",
     "text": [
      "Epoch [10/100], Loss: 0.6511\n",
      "Epoch [20/100], Loss: 0.4452\n",
      "Epoch [30/100], Loss: 0.3384\n",
      "Epoch [40/100], Loss: 0.2614\n",
      "Epoch [50/100], Loss: 0.2026\n",
      "Epoch [60/100], Loss: 0.1568\n",
      "Epoch [70/100], Loss: 0.1238\n",
      "Epoch [80/100], Loss: 0.1011\n",
      "Epoch [90/100], Loss: 0.0858\n",
      "Epoch [100/100], Loss: 0.0758\n",
      "Test Accuracy: 100.00%\n"
     ]
    }
   ],
   "source": [
    "import torch\n",
    "import torch.nn as nn\n",
    "import torch.optim as optim\n",
    "from sklearn.datasets import load_iris\n",
    "from sklearn.model_selection import train_test_split\n",
    "from sklearn.preprocessing import StandardScaler\n",
    "from sklearn.metrics import accuracy_score\n",
    "\n",
    "# 1. 데이터 준비\n",
    "iris = load_iris()\n",
    "X = iris.data\n",
    "y = iris.target\n",
    "\n",
    "# 데이터 표준화\n",
    "scaler = StandardScaler()\n",
    "X = scaler.fit_transform(X)\n",
    "\n",
    "# 데이터를 Tensor로 변환\n",
    "X = torch.tensor(X, dtype=torch.float32)\n",
    "y = torch.tensor(y, dtype=torch.long)\n",
    "\n",
    "# 학습 데이터와 테스트 데이터 분할\n",
    "X_train, X_test, y_train, y_test = train_test_split(X, y, test_size=0.2, random_state=42)\n",
    "\n",
    "# 2. 모델 정의\n",
    "class SimpleNN(nn.Module):\n",
    "    def __init__(self):\n",
    "        super(SimpleNN, self).__init__()\n",
    "        self.fc1 = nn.Linear(4, 16)  # 입력층: 4, 은닉층: 16\n",
    "        self.fc2 = nn.Linear(16, 3)  # 은닉층: 16, 출력층: 3 (클래스 수)\n",
    "        self.relu = nn.ReLU()\n",
    "\n",
    "    def forward(self, x):\n",
    "        x = self.relu(self.fc1(x))\n",
    "        x = self.fc2(x)\n",
    "        return x\n",
    "\n",
    "# 모델 인스턴스 생성\n",
    "model = SimpleNN()\n",
    "\n",
    "# 3. 손실 함수 및 옵티마이저 정의\n",
    "criterion = nn.CrossEntropyLoss()\n",
    "optimizer = optim.Adam(model.parameters(), lr=0.01)\n",
    "\n",
    "# 4. 모델 학습\n",
    "epochs = 100\n",
    "for epoch in range(epochs):\n",
    "    model.train()\n",
    "    optimizer.zero_grad()\n",
    "\n",
    "    # 예측값 계산\n",
    "    outputs = model(X_train)\n",
    "    loss = criterion(outputs, y_train)\n",
    "\n",
    "    # 역전파 및 가중치 업데이트\n",
    "    loss.backward()\n",
    "    optimizer.step()\n",
    "\n",
    "    # 학습 로그 출력\n",
    "    if (epoch + 1) % 10 == 0:\n",
    "        print(f\"Epoch [{epoch + 1}/{epochs}], Loss: {loss.item():.4f}\")\n",
    "\n",
    "# 5. 모델 평가\n",
    "model.eval()\n",
    "with torch.no_grad():\n",
    "    y_pred = model(X_test)\n",
    "    y_pred = torch.argmax(y_pred, dim=1)\n",
    "    accuracy = accuracy_score(y_test, y_pred)\n",
    "\n",
    "print(f\"Test Accuracy: {accuracy * 100:.2f}%\")\n"
   ]
  },
  {
   "cell_type": "code",
   "execution_count": 7,
   "id": "905dc52d",
   "metadata": {},
   "outputs": [],
   "source": [
    "import warnings\n",
    "warnings.filterwarnings(\"ignore\")\n"
   ]
  },
  {
   "cell_type": "code",
   "execution_count": 9,
   "id": "83787e78",
   "metadata": {},
   "outputs": [
    {
     "data": {
      "text/plain": [
       "Transformer(\n",
       "  (encoder): TransformerEncoder(\n",
       "    (layers): ModuleList(\n",
       "      (0-5): 6 x TransformerEncoderLayer(\n",
       "        (self_attn): MultiheadAttention(\n",
       "          (out_proj): NonDynamicallyQuantizableLinear(in_features=64, out_features=64, bias=True)\n",
       "        )\n",
       "        (linear1): Linear(in_features=64, out_features=2048, bias=True)\n",
       "        (dropout): Dropout(p=0.1, inplace=False)\n",
       "        (linear2): Linear(in_features=2048, out_features=64, bias=True)\n",
       "        (norm1): LayerNorm((64,), eps=1e-05, elementwise_affine=True)\n",
       "        (norm2): LayerNorm((64,), eps=1e-05, elementwise_affine=True)\n",
       "        (dropout1): Dropout(p=0.1, inplace=False)\n",
       "        (dropout2): Dropout(p=0.1, inplace=False)\n",
       "      )\n",
       "    )\n",
       "    (norm): LayerNorm((64,), eps=1e-05, elementwise_affine=True)\n",
       "  )\n",
       "  (decoder): TransformerDecoder(\n",
       "    (layers): ModuleList(\n",
       "      (0-5): 6 x TransformerDecoderLayer(\n",
       "        (self_attn): MultiheadAttention(\n",
       "          (out_proj): NonDynamicallyQuantizableLinear(in_features=64, out_features=64, bias=True)\n",
       "        )\n",
       "        (multihead_attn): MultiheadAttention(\n",
       "          (out_proj): NonDynamicallyQuantizableLinear(in_features=64, out_features=64, bias=True)\n",
       "        )\n",
       "        (linear1): Linear(in_features=64, out_features=2048, bias=True)\n",
       "        (dropout): Dropout(p=0.1, inplace=False)\n",
       "        (linear2): Linear(in_features=2048, out_features=64, bias=True)\n",
       "        (norm1): LayerNorm((64,), eps=1e-05, elementwise_affine=True)\n",
       "        (norm2): LayerNorm((64,), eps=1e-05, elementwise_affine=True)\n",
       "        (norm3): LayerNorm((64,), eps=1e-05, elementwise_affine=True)\n",
       "        (dropout1): Dropout(p=0.1, inplace=False)\n",
       "        (dropout2): Dropout(p=0.1, inplace=False)\n",
       "        (dropout3): Dropout(p=0.1, inplace=False)\n",
       "      )\n",
       "    )\n",
       "    (norm): LayerNorm((64,), eps=1e-05, elementwise_affine=True)\n",
       "  )\n",
       ")"
      ]
     },
     "execution_count": 9,
     "metadata": {},
     "output_type": "execute_result"
    }
   ],
   "source": [
    "nn.Transformer(d_model=64, nhead=4, batch_first=True)\n"
   ]
  },
  {
   "cell_type": "code",
   "execution_count": 10,
   "id": "af7ae71b",
   "metadata": {},
   "outputs": [],
   "source": [
    "import torch\n",
    "import torch.nn as nn\n",
    "import torch.optim as optim\n",
    "import matplotlib.pyplot as plt\n",
    "from sklearn.datasets import load_iris\n",
    "from sklearn.model_selection import train_test_split\n",
    "from sklearn.preprocessing import StandardScaler\n",
    "from sklearn.metrics import accuracy_score\n",
    "import numpy as np"
   ]
  },
  {
   "cell_type": "code",
   "execution_count": null,
   "id": "b5e5e115",
   "metadata": {},
   "outputs": [],
   "source": []
  },
  {
   "cell_type": "code",
   "execution_count": 11,
   "id": "5ef7758b",
   "metadata": {},
   "outputs": [
    {
     "ename": "AttributeError",
     "evalue": "module 'matplotlib' has no attribute 'backends'",
     "output_type": "error",
     "traceback": [
      "\u001b[1;31m---------------------------------------------------------------------------\u001b[0m",
      "\u001b[1;31mAttributeError\u001b[0m                            Traceback (most recent call last)",
      "\u001b[1;32m~\\AppData\\Local\\Temp/ipykernel_5920/2780764154.py\u001b[0m in \u001b[0;36m<module>\u001b[1;34m\u001b[0m\n\u001b[0;32m      1\u001b[0m \u001b[1;31m# 6. 손실 함수 시각화\u001b[0m\u001b[1;33m\u001b[0m\u001b[1;33m\u001b[0m\u001b[0m\n\u001b[1;32m----> 2\u001b[1;33m \u001b[0mplt\u001b[0m\u001b[1;33m.\u001b[0m\u001b[0mfigure\u001b[0m\u001b[1;33m(\u001b[0m\u001b[0mfigsize\u001b[0m\u001b[1;33m=\u001b[0m\u001b[1;33m(\u001b[0m\u001b[1;36m10\u001b[0m\u001b[1;33m,\u001b[0m \u001b[1;36m5\u001b[0m\u001b[1;33m)\u001b[0m\u001b[1;33m)\u001b[0m\u001b[1;33m\u001b[0m\u001b[1;33m\u001b[0m\u001b[0m\n\u001b[0m\u001b[0;32m      3\u001b[0m \u001b[0mplt\u001b[0m\u001b[1;33m.\u001b[0m\u001b[0mplot\u001b[0m\u001b[1;33m(\u001b[0m\u001b[0mrange\u001b[0m\u001b[1;33m(\u001b[0m\u001b[0mepochs\u001b[0m\u001b[1;33m)\u001b[0m\u001b[1;33m,\u001b[0m \u001b[0mlosses\u001b[0m\u001b[1;33m,\u001b[0m \u001b[0mlabel\u001b[0m\u001b[1;33m=\u001b[0m\u001b[1;34m\"Loss\"\u001b[0m\u001b[1;33m)\u001b[0m\u001b[1;33m\u001b[0m\u001b[1;33m\u001b[0m\u001b[0m\n\u001b[0;32m      4\u001b[0m \u001b[0mplt\u001b[0m\u001b[1;33m.\u001b[0m\u001b[0mxlabel\u001b[0m\u001b[1;33m(\u001b[0m\u001b[1;34m\"Epochs\"\u001b[0m\u001b[1;33m)\u001b[0m\u001b[1;33m\u001b[0m\u001b[1;33m\u001b[0m\u001b[0m\n\u001b[0;32m      5\u001b[0m \u001b[0mplt\u001b[0m\u001b[1;33m.\u001b[0m\u001b[0mylabel\u001b[0m\u001b[1;33m(\u001b[0m\u001b[1;34m\"Loss\"\u001b[0m\u001b[1;33m)\u001b[0m\u001b[1;33m\u001b[0m\u001b[1;33m\u001b[0m\u001b[0m\n",
      "\u001b[1;32mc:\\users\\jyb\\appdata\\local\\programs\\python\\python39\\lib\\site-packages\\matplotlib\\pyplot.py\u001b[0m in \u001b[0;36mfigure\u001b[1;34m(num, figsize, dpi, facecolor, edgecolor, frameon, FigureClass, clear, **kwargs)\u001b[0m\n\u001b[0;32m   1025\u001b[0m                 RuntimeWarning)\n\u001b[0;32m   1026\u001b[0m \u001b[1;33m\u001b[0m\u001b[0m\n\u001b[1;32m-> 1027\u001b[1;33m         manager = new_figure_manager(\n\u001b[0m\u001b[0;32m   1028\u001b[0m             \u001b[0mnum\u001b[0m\u001b[1;33m,\u001b[0m \u001b[0mfigsize\u001b[0m\u001b[1;33m=\u001b[0m\u001b[0mfigsize\u001b[0m\u001b[1;33m,\u001b[0m \u001b[0mdpi\u001b[0m\u001b[1;33m=\u001b[0m\u001b[0mdpi\u001b[0m\u001b[1;33m,\u001b[0m\u001b[1;33m\u001b[0m\u001b[1;33m\u001b[0m\u001b[0m\n\u001b[0;32m   1029\u001b[0m             \u001b[0mfacecolor\u001b[0m\u001b[1;33m=\u001b[0m\u001b[0mfacecolor\u001b[0m\u001b[1;33m,\u001b[0m \u001b[0medgecolor\u001b[0m\u001b[1;33m=\u001b[0m\u001b[0medgecolor\u001b[0m\u001b[1;33m,\u001b[0m \u001b[0mframeon\u001b[0m\u001b[1;33m=\u001b[0m\u001b[0mframeon\u001b[0m\u001b[1;33m,\u001b[0m\u001b[1;33m\u001b[0m\u001b[1;33m\u001b[0m\u001b[0m\n",
      "\u001b[1;32mc:\\users\\jyb\\appdata\\local\\programs\\python\\python39\\lib\\site-packages\\matplotlib\\pyplot.py\u001b[0m in \u001b[0;36mnew_figure_manager\u001b[1;34m(*args, **kwargs)\u001b[0m\n\u001b[0;32m    547\u001b[0m \u001b[1;32mdef\u001b[0m \u001b[0mnew_figure_manager\u001b[0m\u001b[1;33m(\u001b[0m\u001b[1;33m*\u001b[0m\u001b[0margs\u001b[0m\u001b[1;33m,\u001b[0m \u001b[1;33m**\u001b[0m\u001b[0mkwargs\u001b[0m\u001b[1;33m)\u001b[0m\u001b[1;33m:\u001b[0m\u001b[1;33m\u001b[0m\u001b[1;33m\u001b[0m\u001b[0m\n\u001b[0;32m    548\u001b[0m     \u001b[1;34m\"\"\"Create a new figure manager instance.\"\"\"\u001b[0m\u001b[1;33m\u001b[0m\u001b[1;33m\u001b[0m\u001b[0m\n\u001b[1;32m--> 549\u001b[1;33m     \u001b[0m_warn_if_gui_out_of_main_thread\u001b[0m\u001b[1;33m(\u001b[0m\u001b[1;33m)\u001b[0m\u001b[1;33m\u001b[0m\u001b[1;33m\u001b[0m\u001b[0m\n\u001b[0m\u001b[0;32m    550\u001b[0m     \u001b[1;32mreturn\u001b[0m \u001b[0m_get_backend_mod\u001b[0m\u001b[1;33m(\u001b[0m\u001b[1;33m)\u001b[0m\u001b[1;33m.\u001b[0m\u001b[0mnew_figure_manager\u001b[0m\u001b[1;33m(\u001b[0m\u001b[1;33m*\u001b[0m\u001b[0margs\u001b[0m\u001b[1;33m,\u001b[0m \u001b[1;33m**\u001b[0m\u001b[0mkwargs\u001b[0m\u001b[1;33m)\u001b[0m\u001b[1;33m\u001b[0m\u001b[1;33m\u001b[0m\u001b[0m\n\u001b[0;32m    551\u001b[0m \u001b[1;33m\u001b[0m\u001b[0m\n",
      "\u001b[1;32mc:\\users\\jyb\\appdata\\local\\programs\\python\\python39\\lib\\site-packages\\matplotlib\\pyplot.py\u001b[0m in \u001b[0;36m_warn_if_gui_out_of_main_thread\u001b[1;34m()\u001b[0m\n\u001b[0;32m    524\u001b[0m \u001b[1;32mdef\u001b[0m \u001b[0m_warn_if_gui_out_of_main_thread\u001b[0m\u001b[1;33m(\u001b[0m\u001b[1;33m)\u001b[0m \u001b[1;33m->\u001b[0m \u001b[1;32mNone\u001b[0m\u001b[1;33m:\u001b[0m\u001b[1;33m\u001b[0m\u001b[1;33m\u001b[0m\u001b[0m\n\u001b[0;32m    525\u001b[0m     \u001b[0mwarn\u001b[0m \u001b[1;33m=\u001b[0m \u001b[1;32mFalse\u001b[0m\u001b[1;33m\u001b[0m\u001b[1;33m\u001b[0m\u001b[0m\n\u001b[1;32m--> 526\u001b[1;33m     \u001b[0mcanvas_class\u001b[0m \u001b[1;33m=\u001b[0m \u001b[0mcast\u001b[0m\u001b[1;33m(\u001b[0m\u001b[0mtype\u001b[0m\u001b[1;33m[\u001b[0m\u001b[0mFigureCanvasBase\u001b[0m\u001b[1;33m]\u001b[0m\u001b[1;33m,\u001b[0m \u001b[0m_get_backend_mod\u001b[0m\u001b[1;33m(\u001b[0m\u001b[1;33m)\u001b[0m\u001b[1;33m.\u001b[0m\u001b[0mFigureCanvas\u001b[0m\u001b[1;33m)\u001b[0m\u001b[1;33m\u001b[0m\u001b[1;33m\u001b[0m\u001b[0m\n\u001b[0m\u001b[0;32m    527\u001b[0m     \u001b[1;32mif\u001b[0m \u001b[0mcanvas_class\u001b[0m\u001b[1;33m.\u001b[0m\u001b[0mrequired_interactive_framework\u001b[0m\u001b[1;33m:\u001b[0m\u001b[1;33m\u001b[0m\u001b[1;33m\u001b[0m\u001b[0m\n\u001b[0;32m    528\u001b[0m         \u001b[1;32mif\u001b[0m \u001b[0mhasattr\u001b[0m\u001b[1;33m(\u001b[0m\u001b[0mthreading\u001b[0m\u001b[1;33m,\u001b[0m \u001b[1;34m'get_native_id'\u001b[0m\u001b[1;33m)\u001b[0m\u001b[1;33m:\u001b[0m\u001b[1;33m\u001b[0m\u001b[1;33m\u001b[0m\u001b[0m\n",
      "\u001b[1;32mc:\\users\\jyb\\appdata\\local\\programs\\python\\python39\\lib\\site-packages\\matplotlib\\pyplot.py\u001b[0m in \u001b[0;36m_get_backend_mod\u001b[1;34m()\u001b[0m\n\u001b[0;32m    356\u001b[0m         \u001b[1;31m# logic (which will (re)import pyplot and then call switch_backend if\u001b[0m\u001b[1;33m\u001b[0m\u001b[1;33m\u001b[0m\u001b[0m\n\u001b[0;32m    357\u001b[0m         \u001b[1;31m# we need to resolve the auto sentinel)\u001b[0m\u001b[1;33m\u001b[0m\u001b[1;33m\u001b[0m\u001b[0m\n\u001b[1;32m--> 358\u001b[1;33m         \u001b[0mswitch_backend\u001b[0m\u001b[1;33m(\u001b[0m\u001b[0mrcParams\u001b[0m\u001b[1;33m.\u001b[0m\u001b[0m_get\u001b[0m\u001b[1;33m(\u001b[0m\u001b[1;34m\"backend\"\u001b[0m\u001b[1;33m)\u001b[0m\u001b[1;33m)\u001b[0m\u001b[1;33m\u001b[0m\u001b[1;33m\u001b[0m\u001b[0m\n\u001b[0m\u001b[0;32m    359\u001b[0m     \u001b[1;32mreturn\u001b[0m \u001b[0mcast\u001b[0m\u001b[1;33m(\u001b[0m\u001b[0mtype\u001b[0m\u001b[1;33m[\u001b[0m\u001b[0mmatplotlib\u001b[0m\u001b[1;33m.\u001b[0m\u001b[0mbackend_bases\u001b[0m\u001b[1;33m.\u001b[0m\u001b[0m_Backend\u001b[0m\u001b[1;33m]\u001b[0m\u001b[1;33m,\u001b[0m \u001b[0m_backend_mod\u001b[0m\u001b[1;33m)\u001b[0m\u001b[1;33m\u001b[0m\u001b[1;33m\u001b[0m\u001b[0m\n\u001b[0;32m    360\u001b[0m \u001b[1;33m\u001b[0m\u001b[0m\n",
      "\u001b[1;32mc:\\users\\jyb\\appdata\\local\\programs\\python\\python39\\lib\\site-packages\\matplotlib\\pyplot.py\u001b[0m in \u001b[0;36mswitch_backend\u001b[1;34m(newbackend)\u001b[0m\n\u001b[0;32m    398\u001b[0m         \u001b[1;32mfor\u001b[0m \u001b[0mcandidate\u001b[0m \u001b[1;32min\u001b[0m \u001b[0mcandidates\u001b[0m\u001b[1;33m:\u001b[0m\u001b[1;33m\u001b[0m\u001b[1;33m\u001b[0m\u001b[0m\n\u001b[0;32m    399\u001b[0m             \u001b[1;32mtry\u001b[0m\u001b[1;33m:\u001b[0m\u001b[1;33m\u001b[0m\u001b[1;33m\u001b[0m\u001b[0m\n\u001b[1;32m--> 400\u001b[1;33m                 \u001b[0mswitch_backend\u001b[0m\u001b[1;33m(\u001b[0m\u001b[0mcandidate\u001b[0m\u001b[1;33m)\u001b[0m\u001b[1;33m\u001b[0m\u001b[1;33m\u001b[0m\u001b[0m\n\u001b[0m\u001b[0;32m    401\u001b[0m             \u001b[1;32mexcept\u001b[0m \u001b[0mImportError\u001b[0m\u001b[1;33m:\u001b[0m\u001b[1;33m\u001b[0m\u001b[1;33m\u001b[0m\u001b[0m\n\u001b[0;32m    402\u001b[0m                 \u001b[1;32mcontinue\u001b[0m\u001b[1;33m\u001b[0m\u001b[1;33m\u001b[0m\u001b[0m\n",
      "\u001b[1;32mc:\\users\\jyb\\appdata\\local\\programs\\python\\python39\\lib\\site-packages\\matplotlib\\pyplot.py\u001b[0m in \u001b[0;36mswitch_backend\u001b[1;34m(newbackend)\u001b[0m\n\u001b[0;32m    508\u001b[0m     \u001b[1;31m# Need to keep a global reference to the backend for compatibility reasons.\u001b[0m\u001b[1;33m\u001b[0m\u001b[1;33m\u001b[0m\u001b[0m\n\u001b[0;32m    509\u001b[0m     \u001b[1;31m# See https://github.com/matplotlib/matplotlib/issues/6092\u001b[0m\u001b[1;33m\u001b[0m\u001b[1;33m\u001b[0m\u001b[0m\n\u001b[1;32m--> 510\u001b[1;33m     \u001b[0mmatplotlib\u001b[0m\u001b[1;33m.\u001b[0m\u001b[0mbackends\u001b[0m\u001b[1;33m.\u001b[0m\u001b[0mbackend\u001b[0m \u001b[1;33m=\u001b[0m \u001b[0mnewbackend\u001b[0m  \u001b[1;31m# type: ignore[attr-defined]\u001b[0m\u001b[1;33m\u001b[0m\u001b[1;33m\u001b[0m\u001b[0m\n\u001b[0m\u001b[0;32m    511\u001b[0m \u001b[1;33m\u001b[0m\u001b[0m\n\u001b[0;32m    512\u001b[0m     \u001b[1;32mif\u001b[0m \u001b[1;32mnot\u001b[0m \u001b[0mcbook\u001b[0m\u001b[1;33m.\u001b[0m\u001b[0m_str_equal\u001b[0m\u001b[1;33m(\u001b[0m\u001b[0mold_backend\u001b[0m\u001b[1;33m,\u001b[0m \u001b[0mnewbackend\u001b[0m\u001b[1;33m)\u001b[0m\u001b[1;33m:\u001b[0m\u001b[1;33m\u001b[0m\u001b[1;33m\u001b[0m\u001b[0m\n",
      "\u001b[1;32mc:\\users\\jyb\\appdata\\local\\programs\\python\\python39\\lib\\site-packages\\matplotlib\\_api\\__init__.py\u001b[0m in \u001b[0;36m__getattr__\u001b[1;34m(name)\u001b[0m\n\u001b[0;32m    215\u001b[0m         \u001b[1;32mif\u001b[0m \u001b[0mname\u001b[0m \u001b[1;32min\u001b[0m \u001b[0mprops\u001b[0m\u001b[1;33m:\u001b[0m\u001b[1;33m\u001b[0m\u001b[1;33m\u001b[0m\u001b[0m\n\u001b[0;32m    216\u001b[0m             \u001b[1;32mreturn\u001b[0m \u001b[0mprops\u001b[0m\u001b[1;33m[\u001b[0m\u001b[0mname\u001b[0m\u001b[1;33m]\u001b[0m\u001b[1;33m.\u001b[0m\u001b[0m__get__\u001b[0m\u001b[1;33m(\u001b[0m\u001b[0minstance\u001b[0m\u001b[1;33m)\u001b[0m\u001b[1;33m\u001b[0m\u001b[1;33m\u001b[0m\u001b[0m\n\u001b[1;32m--> 217\u001b[1;33m         raise AttributeError(\n\u001b[0m\u001b[0;32m    218\u001b[0m             f\"module {cls.__module__!r} has no attribute {name!r}\")\n\u001b[0;32m    219\u001b[0m \u001b[1;33m\u001b[0m\u001b[0m\n",
      "\u001b[1;31mAttributeError\u001b[0m: module 'matplotlib' has no attribute 'backends'"
     ]
    }
   ],
   "source": [
    "# 6. 손실 함수 시각화\n",
    "plt.figure(figsize=(10, 5))\n",
    "plt.plot(range(epochs), losses, label=\"Loss\")\n",
    "plt.xlabel(\"Epochs\")\n",
    "plt.ylabel(\"Loss\")\n",
    "plt.title(\"Training Loss Over Epochs\")\n",
    "plt.legend()\n",
    "plt.show()\n",
    "\n",
    "# 7. 테스트 데이터 예측 시각화\n",
    "plt.figure(figsize=(10, 5))\n",
    "colors = ['red', 'blue', 'green']\n",
    "for i in range(3):\n",
    "    plt.scatter(X_test[y_test == i][:, 0], X_test[y_test == i][:, 1], color=colors[i], label=f\"Class {i} - True\", alpha=0.6)\n",
    "    plt.scatter(X_test[y_pred == i][:, 0], X_test[y_pred == i][:, 1], color=colors[i], edgecolor='k', marker='x', label=f\"Class {i} - Predicted\", alpha=0.6)\n",
    "\n",
    "plt.xlabel(\"Feature 1 (Standardized)\")\n",
    "plt.ylabel(\"Feature 2 (Standardized)\")\n",
    "plt.title(\"True vs Predicted Classes on Test Data\")\n",
    "plt.legend()\n",
    "plt.show()\n"
   ]
  },
  {
   "cell_type": "code",
   "execution_count": null,
   "id": "9bd1df61",
   "metadata": {},
   "outputs": [],
   "source": []
  },
  {
   "cell_type": "markdown",
   "id": "376ef6c1",
   "metadata": {
    "id": "376ef6c1"
   },
   "source": [
    "## 실습 사례: 다층 퍼셉트론 (MLP)으로 손글씨 숫자 분류 (MNIST 데이터셋)"
   ]
  },
  {
   "cell_type": "markdown",
   "id": "8677e677",
   "metadata": {
    "id": "8677e677"
   },
   "source": [
    "코드 설명\n",
    "\n",
    "데이터 로드 및 전처리:\n",
    "ToTensor()는 이미지를 Tensor로 변환하고, Normalize()는 픽셀 값을 정규화합니다.\n",
    "DataLoader를 사용해 학습 및 테스트 데이터를 배치 단위로 로드합니다.\n",
    "\n",
    "MLP 모델 정의:\n",
    "nn.Linear()를 사용해 선형 계층을 정의합니다.\n",
    "ReLU 활성화 함수를 사용합니다.\n",
    "입력 이미지는 28x28 픽셀이며, 이를 **1차원 벡터(784 차원)**로 변환합니다.\n",
    "\n",
    "손실 함수 및 옵티마이저 정의:\n",
    "CrossEntropyLoss는 다중 클래스 분류 문제에서 사용되는 손실 함수입니다.\n",
    "Adam 옵티마이저는 학습 속도를 조정합니다.\n",
    "\n",
    "학습 루프:\n",
    "optimizer.zero_grad()로 기울기를 초기화하고, loss.backward()로 역전파를 수행합니다.\n",
    "optimizer.step()으로 가중치를 업데이트합니다.\n",
    "\n",
    "모델 평가:\n",
    "테스트 데이터에서 정확도를 계산합니다.\n",
    "torch.max()를 사용해 예측된 클래스를 선택합니다."
   ]
  },
  {
   "cell_type": "code",
   "execution_count": null,
   "id": "f822e7e7",
   "metadata": {
    "id": "f822e7e7",
    "outputId": "401b8a0d-3bf1-405b-add7-96a1f753e2cc"
   },
   "outputs": [
    {
     "name": "stdout",
     "output_type": "stream",
     "text": [
      "Downloading http://yann.lecun.com/exdb/mnist/train-images-idx3-ubyte.gz\n",
      "Failed to download (trying next):\n",
      "HTTP Error 403: Forbidden\n",
      "\n",
      "Downloading https://ossci-datasets.s3.amazonaws.com/mnist/train-images-idx3-ubyte.gz\n",
      "Downloading https://ossci-datasets.s3.amazonaws.com/mnist/train-images-idx3-ubyte.gz to ./data\\MNIST\\raw\\train-images-idx3-ubyte.gz\n"
     ]
    },
    {
     "name": "stderr",
     "output_type": "stream",
     "text": [
      "100%|█████████████████████████████████████████████████████████████████████████████| 9.91M/9.91M [00:03<00:00, 3.18MB/s]\n"
     ]
    },
    {
     "name": "stdout",
     "output_type": "stream",
     "text": [
      "Extracting ./data\\MNIST\\raw\\train-images-idx3-ubyte.gz to ./data\\MNIST\\raw\n",
      "\n",
      "Downloading http://yann.lecun.com/exdb/mnist/train-labels-idx1-ubyte.gz\n",
      "Failed to download (trying next):\n",
      "HTTP Error 403: Forbidden\n",
      "\n",
      "Downloading https://ossci-datasets.s3.amazonaws.com/mnist/train-labels-idx1-ubyte.gz\n",
      "Downloading https://ossci-datasets.s3.amazonaws.com/mnist/train-labels-idx1-ubyte.gz to ./data\\MNIST\\raw\\train-labels-idx1-ubyte.gz\n"
     ]
    },
    {
     "name": "stderr",
     "output_type": "stream",
     "text": [
      "100%|██████████████████████████████████████████████████████████████████████████████| 28.9k/28.9k [00:00<00:00, 143kB/s]\n"
     ]
    },
    {
     "name": "stdout",
     "output_type": "stream",
     "text": [
      "Extracting ./data\\MNIST\\raw\\train-labels-idx1-ubyte.gz to ./data\\MNIST\\raw\n",
      "\n",
      "Downloading http://yann.lecun.com/exdb/mnist/t10k-images-idx3-ubyte.gz\n",
      "Failed to download (trying next):\n",
      "HTTP Error 403: Forbidden\n",
      "\n",
      "Downloading https://ossci-datasets.s3.amazonaws.com/mnist/t10k-images-idx3-ubyte.gz\n",
      "Downloading https://ossci-datasets.s3.amazonaws.com/mnist/t10k-images-idx3-ubyte.gz to ./data\\MNIST\\raw\\t10k-images-idx3-ubyte.gz\n"
     ]
    },
    {
     "name": "stderr",
     "output_type": "stream",
     "text": [
      "100%|█████████████████████████████████████████████████████████████████████████████| 1.65M/1.65M [00:01<00:00, 1.25MB/s]\n"
     ]
    },
    {
     "name": "stdout",
     "output_type": "stream",
     "text": [
      "Extracting ./data\\MNIST\\raw\\t10k-images-idx3-ubyte.gz to ./data\\MNIST\\raw\n",
      "\n",
      "Downloading http://yann.lecun.com/exdb/mnist/t10k-labels-idx1-ubyte.gz\n",
      "Failed to download (trying next):\n",
      "HTTP Error 403: Forbidden\n",
      "\n",
      "Downloading https://ossci-datasets.s3.amazonaws.com/mnist/t10k-labels-idx1-ubyte.gz\n",
      "Downloading https://ossci-datasets.s3.amazonaws.com/mnist/t10k-labels-idx1-ubyte.gz to ./data\\MNIST\\raw\\t10k-labels-idx1-ubyte.gz\n"
     ]
    },
    {
     "name": "stderr",
     "output_type": "stream",
     "text": [
      "100%|██████████████████████████████████████████████████████████████████████████████| 4.54k/4.54k [00:00<00:00, 929kB/s]\n"
     ]
    },
    {
     "name": "stdout",
     "output_type": "stream",
     "text": [
      "Extracting ./data\\MNIST\\raw\\t10k-labels-idx1-ubyte.gz to ./data\\MNIST\\raw\n",
      "\n",
      "Epoch [1/5], Loss: 0.3406\n",
      "Epoch [2/5], Loss: 0.1480\n",
      "Epoch [3/5], Loss: 0.1107\n",
      "Epoch [4/5], Loss: 0.0880\n",
      "Epoch [5/5], Loss: 0.0750\n",
      "Test Accuracy: 96.75%\n"
     ]
    }
   ],
   "source": [
    "import torch\n",
    "import torch.nn as nn\n",
    "import torch.optim as optim\n",
    "import torchvision\n",
    "import torchvision.transforms as transforms\n",
    "\n",
    "# 1. 데이터셋 로드 및 전처리\n",
    "transform = transforms.Compose([\n",
    "    transforms.ToTensor(),\n",
    "    transforms.Normalize((0.5,), (0.5,))  # 픽셀 값을 -1에서 1로 정규화\n",
    "])\n",
    "\n",
    "train_dataset = torchvision.datasets.MNIST(root='./data', train=True, transform=transform, download=True)\n",
    "test_dataset = torchvision.datasets.MNIST(root='./data', train=False, transform=transform, download=True)\n",
    "\n",
    "train_loader = torch.utils.data.DataLoader(dataset=train_dataset, batch_size=64, shuffle=True)\n",
    "test_loader = torch.utils.data.DataLoader(dataset=test_dataset, batch_size=64, shuffle=False)\n",
    "\n",
    "# 2. MLP 모델 정의\n",
    "class MLP(nn.Module):\n",
    "    def __init__(self):\n",
    "        super(MLP, self).__init__()\n",
    "        self.fc1 = nn.Linear(28 * 28, 256)  # 입력층 (28x28 픽셀 -> 256 뉴런)\n",
    "        self.fc2 = nn.Linear(256, 128)      # 은닉층 (256 -> 128 뉴런)\n",
    "        self.fc3 = nn.Linear(128, 10)       # 출력층 (128 -> 10 클래스)\n",
    "\n",
    "    def forward(self, x):\n",
    "        x = x.view(-1, 28 * 28)  # Flatten the input\n",
    "        x = torch.relu(self.fc1(x))\n",
    "        x = torch.relu(self.fc2(x))\n",
    "        x = self.fc3(x)\n",
    "        return x\n",
    "\n",
    "# 3. 모델, 손실 함수, 옵티마이저 정의\n",
    "model = MLP()\n",
    "criterion = nn.CrossEntropyLoss()\n",
    "optimizer = optim.Adam(model.parameters(), lr=0.001)\n",
    "\n",
    "# 4. 학습 함수 정의\n",
    "def train(model, loader, criterion, optimizer, epochs=5):\n",
    "    model.train()\n",
    "    for epoch in range(epochs):\n",
    "        total_loss = 0\n",
    "        for images, labels in loader:\n",
    "            # 옵티마이저 초기화\n",
    "            optimizer.zero_grad()\n",
    "\n",
    "            # 예측 및 손실 계산\n",
    "            outputs = model(images)\n",
    "            loss = criterion(outputs, labels)\n",
    "\n",
    "            # 역전파 및 가중치 업데이트\n",
    "            loss.backward()\n",
    "            optimizer.step()\n",
    "\n",
    "            total_loss += loss.item()\n",
    "\n",
    "        print(f\"Epoch [{epoch + 1}/{epochs}], Loss: {total_loss / len(loader):.4f}\")\n",
    "\n",
    "# 5. 모델 평가 함수 정의\n",
    "def evaluate(model, loader):\n",
    "    model.eval()\n",
    "    correct = 0\n",
    "    total = 0\n",
    "    with torch.no_grad():\n",
    "        for images, labels in loader:\n",
    "            outputs = model(images)\n",
    "            _, predicted = torch.max(outputs.data, 1)\n",
    "            total += labels.size(0)\n",
    "            correct += (predicted == labels).sum().item()\n",
    "\n",
    "    accuracy = 100 * correct / total\n",
    "    print(f\"Test Accuracy: {accuracy:.2f}%\")\n",
    "\n",
    "# 6. 모델 학습 및 평가\n",
    "train(model, train_loader, criterion, optimizer, epochs=5)\n",
    "evaluate(model, test_loader)\n"
   ]
  },
  {
   "cell_type": "markdown",
   "id": "47241844",
   "metadata": {
    "id": "47241844"
   },
   "source": [
    "설명\n",
    "Epoch: 모델이 전체 학습 데이터를 한 번 반복 학습한 횟수를 나타냅니다. 위 예시에서는 5번의 Epoch 동안 학습이 진행되었습니다.\n",
    "Loss: 손실 함수 값으로, 모델의 예측값과 실제값 간의 차이를 나타냅니다.\n",
    "학습 초기에 손실 값이 높다가, 학습이 진행될수록 손실 값이 감소하는 것이 일반적입니다.\n",
    "손실 값이 감소하면, 모델이 점점 더 정확하게 예측하고 있다는 뜻입니다.\n",
    "\n",
    "예시 설명\n",
    "1번째 Epoch에서 손실 값이 0.3024로 시작했습니다.\n",
    "5번째 Epoch에서는 손실 값이 0.0487로 줄어들었습니다.\n",
    "손실 값이 줄어든다는 것은 모델이 학습 데이터에 대해 점점 더 잘 맞춰지고 있음을 의미합니다.\n",
    "\n",
    "2. 테스트 정확도 (Test Accuracy)\n",
    "mathematica\n",
    "\n",
    "Test Accuracy: 98.10%\n",
    "Test Accuracy는 테스트 데이터에서 모델의 예측 정확도를 나타냅니다.\n",
    "정확도는 모델이 올바르게 예측한 샘플의 비율입니다.\n",
    "예를 들어, 10,000개의 테스트 샘플 중 9,810개를 정확하게 예측했다면, 정확도는 (9810 / 10000) * 100 = 98.10%가 됩니다.\n",
    "\n",
    "**98.10%**의 정확도는 모델이 테스트 데이터에서 매우 좋은 성능을 보였음을 나타냅니다.\n",
    "\n",
    "출력 결과 분석\n",
    "모델이 학습 데이터에서 잘 학습되었으며, 테스트 데이터에서도 높은 정확도를 보여줍니다.\n",
    "손실 값이 낮아지고, 정확도가 높다는 것은 모델이 과적합(overfitting) 없이 학습 데이터를 잘 학습했다는 긍정적인 신호입니다."
   ]
  },
  {
   "cell_type": "code",
   "execution_count": null,
   "id": "ec63fb21",
   "metadata": {
    "id": "ec63fb21"
   },
   "outputs": [],
   "source": []
  },
  {
   "cell_type": "markdown",
   "id": "e0d7d299",
   "metadata": {
    "id": "e0d7d299"
   },
   "source": [
    "## CNN 모델을 사용해 MNIST 데이터를 분류"
   ]
  },
  {
   "cell_type": "markdown",
   "id": "c6c7f6f1",
   "metadata": {
    "id": "c6c7f6f1"
   },
   "source": [
    "코드 설명\n",
    "\n",
    "데이터 로드 및 전처리:\n",
    "torchvision을 사용해 MNIST 데이터를 다운로드하고, 정규화(Normalize)와 Tensor 변환(ToTensor())을 수행합니다.\n",
    "\n",
    "DataLoader를 사용해 데이터를 배치(batch) 단위로 로드합니다.\n",
    "\n",
    "CNN 모델 정의:\n",
    "nn.Conv2d: 합성곱 레이어를 사용해 이미지 특징을 추출합니다.\n",
    "\n",
    "nn.MaxPool2d: 최대 풀링 레이어로 특징 맵을 다운샘플링합니다.\n",
    "\n",
    "nn.Linear: **완전 연결층(Fully Connected Layer)**을 사용해 출력을 10개의 클래스로 분류합니다.\n",
    "\n",
    "손실 함수 및 옵티마이저 정의:\n",
    "\n",
    "nn.CrossEntropyLoss(): 다중 클래스 분류 문제에 적합한 손실 함수입니다.\n",
    "\n",
    "optim.Adam(): Adam 옵티마이저를 사용해 가중치를 업데이트합니다.\n",
    "\n",
    "학습 함수:\n",
    "\n",
    "model.train(): 모델을 학습 모드로 설정합니다.\n",
    "\n",
    "optimizer.zero_grad(): 기울기를 초기화합니다.\n",
    "\n",
    "loss.backward(): 역전파를 통해 기울기를 계산합니다.\n",
    "\n",
    "optimizer.step(): 가중치를 업데이트합니다.\n",
    "\n",
    "평가 함수:\n",
    "\n",
    "model.eval(): 모델을 평가 모드로 설정합니다.\n",
    "\n",
    "torch.no_grad(): 평가 시 기울기 계산을 비활성화하여 메모리 사용을 줄입니다.\n",
    "\n",
    "모델 학습 및 평가:\n",
    "\n",
    "train_model(): 모델을 학습시킵니다.\n",
    "\n",
    "evaluate_model(): 테스트 데이터로 모델의 정확도를 평가합니다."
   ]
  },
  {
   "cell_type": "code",
   "execution_count": null,
   "id": "2d186933",
   "metadata": {
    "id": "2d186933",
    "outputId": "40241c96-0b87-4d8a-a069-031c69ab44dc"
   },
   "outputs": [
    {
     "name": "stdout",
     "output_type": "stream",
     "text": [
      "Epoch [1/5], Loss: 0.1631\n",
      "Epoch [2/5], Loss: 0.0458\n",
      "Epoch [3/5], Loss: 0.0305\n",
      "Epoch [4/5], Loss: 0.0234\n",
      "Epoch [5/5], Loss: 0.0174\n",
      "Test Accuracy: 99.01%\n"
     ]
    }
   ],
   "source": [
    "import torch\n",
    "import torch.nn as nn\n",
    "import torch.optim as optim\n",
    "import torchvision\n",
    "import torchvision.transforms as transforms\n",
    "\n",
    "# 1. 데이터 로드 및 전처리\n",
    "transform = transforms.Compose([\n",
    "    transforms.ToTensor(),\n",
    "    transforms.Normalize((0.5,), (0.5,))\n",
    "])\n",
    "\n",
    "train_dataset = torchvision.datasets.MNIST(root='./data', train=True, download=True, transform=transform)\n",
    "test_dataset = torchvision.datasets.MNIST(root='./data', train=False, download=True, transform=transform)\n",
    "\n",
    "train_loader = torch.utils.data.DataLoader(train_dataset, batch_size=64, shuffle=True)\n",
    "test_loader = torch.utils.data.DataLoader(test_dataset, batch_size=64, shuffle=False)\n",
    "\n",
    "# 2. CNN 모델 정의\n",
    "class CNN(nn.Module):\n",
    "    def __init__(self):\n",
    "        super(CNN, self).__init__()\n",
    "        self.conv1 = nn.Conv2d(1, 32, kernel_size=3, padding=1)\n",
    "        self.conv2 = nn.Conv2d(32, 64, kernel_size=3, padding=1)\n",
    "        self.pool = nn.MaxPool2d(2, 2)\n",
    "        self.fc1 = nn.Linear(64 * 7 * 7, 128)\n",
    "        self.fc2 = nn.Linear(128, 10)\n",
    "\n",
    "    def forward(self, x):\n",
    "        x = self.pool(F.relu(self.conv1(x)))\n",
    "        x = self.pool(F.relu(self.conv2(x)))\n",
    "        x = x.view(-1, 64 * 7 * 7)\n",
    "        x = F.relu(self.fc1(x))\n",
    "        x = self.fc2(x)\n",
    "        return x\n",
    "\n",
    "# 3. 모델, 손실 함수, 옵티마이저 정의\n",
    "device = torch.device(\"cuda\" if torch.cuda.is_available() else \"cpu\")\n",
    "model = CNN().to(device)\n",
    "criterion = nn.CrossEntropyLoss()\n",
    "optimizer = optim.Adam(model.parameters(), lr=0.001)\n",
    "\n",
    "# 4. 학습 함수 정의\n",
    "def train_model(model, train_loader, criterion, optimizer, epochs=5):\n",
    "    model.train()\n",
    "    for epoch in range(epochs):\n",
    "        running_loss = 0.0\n",
    "        for images, labels in train_loader:\n",
    "            images, labels = images.to(device), labels.to(device)\n",
    "\n",
    "            # 기울기 초기화\n",
    "            optimizer.zero_grad()\n",
    "\n",
    "            # 순전파 및 손실 계산\n",
    "            outputs = model(images)\n",
    "            loss = criterion(outputs, labels)\n",
    "\n",
    "            # 역전파 및 가중치 업데이트\n",
    "            loss.backward()\n",
    "            optimizer.step()\n",
    "\n",
    "            running_loss += loss.item()\n",
    "\n",
    "        print(f\"Epoch [{epoch + 1}/{epochs}], Loss: {running_loss / len(train_loader):.4f}\")\n",
    "\n",
    "# 5. 모델 평가 함수 정의\n",
    "def evaluate_model(model, test_loader):\n",
    "    model.eval()\n",
    "    correct = 0\n",
    "    total = 0\n",
    "    with torch.no_grad():\n",
    "        for images, labels in test_loader:\n",
    "            images, labels = images.to(device), labels.to(device)\n",
    "            outputs = model(images)\n",
    "            _, predicted = torch.max(outputs.data, 1)\n",
    "            total += labels.size(0)\n",
    "            correct += (predicted == labels).sum().item()\n",
    "\n",
    "    accuracy = 100 * correct / total\n",
    "    print(f\"Test Accuracy: {accuracy:.2f}%\")\n",
    "\n",
    "# 6. 모델 학습 및 평가\n",
    "train_model(model, train_loader, criterion, optimizer, epochs=5)\n",
    "evaluate_model(model, test_loader)\n"
   ]
  },
  {
   "cell_type": "markdown",
   "id": "77c8a4fd",
   "metadata": {
    "id": "77c8a4fd"
   },
   "source": [
    "코드 설명\n",
    "데이터셋 로드 및 전처리:\n",
    "torchvision.datasets.MNIST를 사용해 MNIST 데이터셋을 불러옵니다.\n",
    "\n",
    "transforms.Normalize()를 사용해 데이터를 표준화합니다.\n",
    "\n",
    "CNN 모델 정의:\n",
    "2개의 합성곱 레이어와 2개의 풀링 레이어, 2개의 Fully Connected 레이어로 구성된 CNN입니다.\n",
    "\n",
    "손실 함수 및 옵티마이저 정의:\n",
    "손실 함수로 **CrossEntropyLoss**를 사용하고, 옵티마이저로 Adam을 사용합니다.\n",
    "\n",
    "학습 및 평가 함수:\n",
    "train() 함수는 학습 데이터를 사용해 모델을 학습합니다.\n",
    "evaluate() 함수는 테스트 데이터를 사용해 모델의 정확도를 계산합니다.\n",
    "\n",
    "학습 루프:\n",
    "5번의 에포크 동안 모델을 학습하고, 각 에포크마다 손실과 정확도를 출력합니다."
   ]
  },
  {
   "cell_type": "code",
   "execution_count": null,
   "id": "a838d012",
   "metadata": {
    "id": "a838d012",
    "outputId": "3951d44b-8d8d-4a9a-f308-238819b32f05"
   },
   "outputs": [
    {
     "name": "stdout",
     "output_type": "stream",
     "text": [
      "Epoch [1/5], Loss: 0.1530, Accuracy: 98.45%\n",
      "Epoch [2/5], Loss: 0.0470, Accuracy: 98.92%\n",
      "Epoch [3/5], Loss: 0.0321, Accuracy: 98.82%\n",
      "Epoch [4/5], Loss: 0.0240, Accuracy: 98.82%\n",
      "Epoch [5/5], Loss: 0.0192, Accuracy: 99.11%\n",
      "최종 테스트 정확도: 99.11%\n"
     ]
    }
   ],
   "source": [
    "import torch\n",
    "import torch.nn as nn\n",
    "import torch.optim as optim\n",
    "import torchvision\n",
    "import torchvision.transforms as transforms\n",
    "from torch.utils.data import DataLoader\n",
    "\n",
    "# 1. 데이터셋 로드 및 전처리\n",
    "transform = transforms.Compose([\n",
    "    transforms.ToTensor(),\n",
    "    transforms.Normalize((0.5,), (0.5,))\n",
    "])\n",
    "\n",
    "train_dataset = torchvision.datasets.MNIST(\n",
    "    root='./data', train=True, transform=transform, download=True\n",
    ")\n",
    "test_dataset = torchvision.datasets.MNIST(\n",
    "    root='./data', train=False, transform=transform, download=True\n",
    ")\n",
    "\n",
    "train_loader = DataLoader(train_dataset, batch_size=64, shuffle=True)\n",
    "test_loader = DataLoader(test_dataset, batch_size=64, shuffle=False)\n",
    "\n",
    "# 2. CNN 모델 정의\n",
    "class CNN(nn.Module):\n",
    "    def __init__(self):\n",
    "        super(CNN, self).__init__()\n",
    "        self.conv1 = nn.Conv2d(1, 32, kernel_size=3, padding=1)\n",
    "        self.conv2 = nn.Conv2d(32, 64, kernel_size=3, padding=1)\n",
    "        self.pool = nn.MaxPool2d(kernel_size=2, stride=2)\n",
    "        self.fc1 = nn.Linear(64 * 7 * 7, 128)\n",
    "        self.fc2 = nn.Linear(128, 10)\n",
    "\n",
    "    def forward(self, x):\n",
    "        x = self.pool(F.relu(self.conv1(x)))\n",
    "        x = self.pool(F.relu(self.conv2(x)))\n",
    "        x = x.view(x.size(0), -1)  # Flatten the tensor\n",
    "        x = F.relu(self.fc1(x))\n",
    "        x = self.fc2(x)\n",
    "        return x\n",
    "\n",
    "# 3. 모델, 손실 함수, 옵티마이저 정의\n",
    "device = torch.device('cuda' if torch.cuda.is_available() else 'cpu')\n",
    "model = CNN().to(device)\n",
    "criterion = nn.CrossEntropyLoss()\n",
    "optimizer = optim.Adam(model.parameters(), lr=0.001)\n",
    "\n",
    "# 4. 모델 학습 함수\n",
    "def train(model, loader, criterion, optimizer, device):\n",
    "    model.train()\n",
    "    running_loss = 0.0\n",
    "    for images, labels in loader:\n",
    "        images, labels = images.to(device), labels.to(device)\n",
    "\n",
    "        # 옵티마이저 초기화\n",
    "        optimizer.zero_grad()\n",
    "\n",
    "        # 예측 및 손실 계산\n",
    "        outputs = model(images)\n",
    "        loss = criterion(outputs, labels)\n",
    "\n",
    "        # 역전파 및 가중치 업데이트\n",
    "        loss.backward()\n",
    "        optimizer.step()\n",
    "\n",
    "        running_loss += loss.item()\n",
    "    return running_loss / len(loader)\n",
    "\n",
    "# 5. 모델 평가 함수\n",
    "def evaluate(model, loader, criterion, device):\n",
    "    model.eval()\n",
    "    correct = 0\n",
    "    total = 0\n",
    "    with torch.no_grad():\n",
    "        for images, labels in loader:\n",
    "            images, labels = images.to(device), labels.to(device)\n",
    "            outputs = model(images)\n",
    "            _, predicted = torch.max(outputs.data, 1)\n",
    "            total += labels.size(0)\n",
    "            correct += (predicted == labels).sum().item()\n",
    "    accuracy = 100 * correct / total\n",
    "    return accuracy\n",
    "\n",
    "# 6. 학습 루프\n",
    "num_epochs = 5\n",
    "for epoch in range(num_epochs):\n",
    "    train_loss = train(model, train_loader, criterion, optimizer, device)\n",
    "    test_accuracy = evaluate(model, test_loader, criterion, device)\n",
    "    print(f\"Epoch [{epoch+1}/{num_epochs}], Loss: {train_loss:.4f}, Accuracy: {test_accuracy:.2f}%\")\n",
    "\n",
    "# 7. 모델 평가\n",
    "final_accuracy = evaluate(model, test_loader, criterion, device)\n",
    "print(f\"최종 테스트 정확도: {final_accuracy:.2f}%\")\n"
   ]
  },
  {
   "cell_type": "code",
   "execution_count": null,
   "id": "58ff3bed",
   "metadata": {
    "id": "58ff3bed"
   },
   "outputs": [],
   "source": []
  },
  {
   "cell_type": "markdown",
   "id": "329056db",
   "metadata": {
    "id": "329056db"
   },
   "source": [
    "## PyTorch에서 Transformer 모델 실습 사례"
   ]
  },
  {
   "cell_type": "markdown",
   "id": "7a0be14e",
   "metadata": {
    "id": "7a0be14e"
   },
   "source": [
    "PyTorch에서는 Transformer 모델을 구현할 수 있는 torch.nn.Transformer 모듈을 제공합니다.\n",
    "\n",
    "Transformer는 **자연어 처리(NLP)**와 시계열 분석 등의 다양한 분야에서 많이 사용되는 모델입니다.\n",
    "\n",
    "이 모델은 Self-Attention 메커니즘을 사용해 입력 간의 관계를 학습합니다."
   ]
  },
  {
   "cell_type": "code",
   "execution_count": null,
   "id": "7d011433",
   "metadata": {
    "id": "7d011433"
   },
   "outputs": [],
   "source": [
    "# 코드 설명\n",
    "\n",
    "# 시계열 데이터 생성:\n",
    "# generate_data() 함수는 sin 함수를 사용해 시계열 데이터를 생성합니다.\n",
    "# 입력(X)과 타겟(Y) 데이터를 준비합니다.\n",
    "\n",
    "# Transformer 모델 정의:\n",
    "# nn.Transformer를 사용해 Transformer 모델을 정의합니다.\n",
    "# Encoder와 Decoder는 Linear 레이어로 정의됩니다.\n",
    "# Self-Attention 메커니즘은 nn.Transformer 내부에서 처리됩니다.\n",
    "\n",
    "# 학습 루프:\n",
    "# 입력 데이터(src)와 타겟 데이터(tgt)를 준비하고, Transformer 모델에 전달합니다.\n",
    "# **손실(MSE Loss)**을 계산하고, 역전파를 통해 가중치를 업데이트합니다.\n",
    "\n",
    "# 모델 평가 및 시각화:\n",
    "# 학습이 완료된 모델을 사용해 예측을 수행합니다.\n",
    "# 예측 결과를 실제 데이터와 비교하여 시각화합니다."
   ]
  },
  {
   "cell_type": "code",
   "execution_count": null,
   "id": "591124bf",
   "metadata": {
    "id": "591124bf"
   },
   "outputs": [],
   "source": []
  },
  {
   "cell_type": "code",
   "execution_count": null,
   "id": "1400a6c1",
   "metadata": {
    "id": "1400a6c1",
    "outputId": "c3c3c488-e353-48fb-ad79-9377825b5461"
   },
   "outputs": [
    {
     "name": "stdout",
     "output_type": "stream",
     "text": [
      "Collecting matplotlibNote: you may need to restart the kernel to use updated packages.\n",
      "  Using cached matplotlib-3.9.2-cp39-cp39-win_amd64.whl.metadata (11 kB)\n",
      "\n"
     ]
    },
    {
     "name": "stderr",
     "output_type": "stream",
     "text": [
      "WARNING: Ignoring invalid distribution -atplotlib (c:\\users\\jyb\\appdata\\local\\programs\\python\\python39\\lib\\site-packages)\n",
      "WARNING: Ignoring invalid distribution -illow (c:\\users\\jyb\\appdata\\local\\programs\\python\\python39\\lib\\site-packages)\n",
      "WARNING: Error parsing dependencies of ipykernel: Expected matching RIGHT_PARENTHESIS for LEFT_PARENTHESIS, after version specifier\n",
      "    matplotlib-inline (<0.2.0appnope,>=0.1.0) ; platform_system == \"Darwin\"\n",
      "                      ~~~~~~~~^\n",
      "WARNING: Ignoring invalid distribution -atplotlib (c:\\users\\jyb\\appdata\\local\\programs\\python\\python39\\lib\\site-packages)\n",
      "WARNING: Ignoring invalid distribution -illow (c:\\users\\jyb\\appdata\\local\\programs\\python\\python39\\lib\\site-packages)\n",
      "WARNING: Ignoring invalid distribution -atplotlib (c:\\users\\jyb\\appdata\\local\\programs\\python\\python39\\lib\\site-packages)\n",
      "WARNING: Ignoring invalid distribution -illow (c:\\users\\jyb\\appdata\\local\\programs\\python\\python39\\lib\\site-packages)\n",
      "ERROR: pip's dependency resolver does not currently take into account all the packages that are installed. This behaviour is the source of the following dependency conflicts.\n",
      "pingouin 0.5.3 requires pandas-flavor>=0.2.0, which is not installed.\n",
      "\n",
      "[notice] A new release of pip is available: 24.2 -> 24.3.1\n",
      "[notice] To update, run: python.exe -m pip install --upgrade pip\n"
     ]
    },
    {
     "name": "stdout",
     "output_type": "stream",
     "text": [
      "Requirement already satisfied: contourpy>=1.0.1 in c:\\users\\jyb\\appdata\\local\\programs\\python\\python39\\lib\\site-packages (from matplotlib) (1.3.0)\n",
      "Requirement already satisfied: cycler>=0.10 in c:\\users\\jyb\\appdata\\local\\programs\\python\\python39\\lib\\site-packages (from matplotlib) (0.12.1)\n",
      "Requirement already satisfied: fonttools>=4.22.0 in c:\\users\\jyb\\appdata\\local\\programs\\python\\python39\\lib\\site-packages (from matplotlib) (4.54.1)\n",
      "Requirement already satisfied: kiwisolver>=1.3.1 in c:\\users\\jyb\\appdata\\local\\programs\\python\\python39\\lib\\site-packages (from matplotlib) (1.4.7)\n",
      "Requirement already satisfied: numpy>=1.23 in c:\\users\\jyb\\appdata\\local\\programs\\python\\python39\\lib\\site-packages (from matplotlib) (2.0.2)\n",
      "Requirement already satisfied: packaging>=20.0 in c:\\users\\jyb\\appdata\\local\\programs\\python\\python39\\lib\\site-packages (from matplotlib) (24.2)\n",
      "Requirement already satisfied: pillow>=8 in c:\\users\\jyb\\appdata\\local\\programs\\python\\python39\\lib\\site-packages (from matplotlib) (11.0.0)\n",
      "Requirement already satisfied: pyparsing>=2.3.1 in c:\\users\\jyb\\appdata\\local\\programs\\python\\python39\\lib\\site-packages (from matplotlib) (3.2.0)\n",
      "Requirement already satisfied: python-dateutil>=2.7 in c:\\users\\jyb\\appdata\\local\\programs\\python\\python39\\lib\\site-packages (from matplotlib) (2.9.0.post0)\n",
      "Requirement already satisfied: importlib-resources>=3.2.0 in c:\\users\\jyb\\appdata\\local\\programs\\python\\python39\\lib\\site-packages (from matplotlib) (6.4.5)\n",
      "Requirement already satisfied: zipp>=3.1.0 in c:\\users\\jyb\\appdata\\local\\programs\\python\\python39\\lib\\site-packages (from importlib-resources>=3.2.0->matplotlib) (3.21.0)\n",
      "Requirement already satisfied: six>=1.5 in c:\\users\\jyb\\appdata\\local\\programs\\python\\python39\\lib\\site-packages (from python-dateutil>=2.7->matplotlib) (1.16.0)\n",
      "Using cached matplotlib-3.9.2-cp39-cp39-win_amd64.whl (7.8 MB)\n",
      "Installing collected packages: matplotlib\n",
      "Successfully installed matplotlib-3.9.2\n"
     ]
    }
   ],
   "source": [
    "pip install matplotlib\n"
   ]
  },
  {
   "cell_type": "code",
   "execution_count": null,
   "id": "57113a8d",
   "metadata": {
    "id": "57113a8d",
    "outputId": "470a9fb9-b520-4e89-8603-ef45485be723",
    "scrolled": true
   },
   "outputs": [
    {
     "name": "stdout",
     "output_type": "stream",
     "text": [
      "Note: you may need to restart the kernel to use updated packages.\n"
     ]
    },
    {
     "name": "stderr",
     "output_type": "stream",
     "text": [
      "WARNING: Ignoring invalid distribution -atplotlib (c:\\users\\jyb\\appdata\\local\\programs\\python\\python39\\lib\\site-packages)\n",
      "WARNING: Ignoring invalid distribution -illow (c:\\users\\jyb\\appdata\\local\\programs\\python\\python39\\lib\\site-packages)\n",
      "ERROR: Could not find a version that satisfies the requirement python-tk (from versions: none)\n",
      "\n",
      "[notice] A new release of pip is available: 24.2 -> 24.3.1\n",
      "[notice] To update, run: python.exe -m pip install --upgrade pip\n",
      "ERROR: No matching distribution found for python-tk\n"
     ]
    }
   ],
   "source": [
    "pip install python-tk\n"
   ]
  },
  {
   "cell_type": "code",
   "execution_count": 1,
   "id": "8c677121",
   "metadata": {
    "colab": {
     "base_uri": "https://localhost:8080/",
     "height": 801
    },
    "executionInfo": {
     "elapsed": 654675,
     "status": "ok",
     "timestamp": 1731418793091,
     "user": {
      "displayName": "전윤범",
      "userId": "16579588953913211126"
     },
     "user_tz": -540
    },
    "id": "8c677121",
    "outputId": "3dd56517-c04e-4ac3-fa91-ecbfc67f6339"
   },
   "outputs": [
    {
     "metadata": {
      "tags": null
     },
     "name": "stderr",
     "output_type": "stream",
     "text": [
      "/usr/local/lib/python3.10/dist-packages/torch/nn/modules/transformer.py:379: UserWarning: enable_nested_tensor is True, but self.use_nested_tensor is False because encoder_layer.self_attn.batch_first was not True(use batch_first for better inference performance)\n",
      "  warnings.warn(\n"
     ]
    },
    {
     "name": "stdout",
     "output_type": "stream",
     "text": [
      "Epoch [10/100], Loss: 0.3605\n",
      "Epoch [20/100], Loss: 0.0977\n",
      "Epoch [30/100], Loss: 0.0800\n",
      "Epoch [40/100], Loss: 0.0416\n",
      "Epoch [50/100], Loss: 0.0215\n",
      "Epoch [60/100], Loss: 0.0148\n",
      "Epoch [70/100], Loss: 0.0122\n",
      "Epoch [80/100], Loss: 0.0104\n",
      "Epoch [90/100], Loss: 0.0091\n",
      "Epoch [100/100], Loss: 0.0080\n"
     ]
    },
    {
     "data": {
      "image/png": "[encoded data removed]",
      "text/plain": [
       "<Figure size 1200x600 with 1 Axes>"
      ]
     },
     "metadata": {},
     "output_type": "display_data"
    }
   ],
   "source": [
    "import torch\n",
    "import torch.nn as nn\n",
    "import torch.optim as optim\n",
    "import numpy as np\n",
    "import matplotlib.pyplot as plt\n",
    "\n",
    "# 1. 시계열 데이터 생성\n",
    "def generate_data(seq_length=50, n_samples=1000):\n",
    "    x = np.linspace(0, 100, n_samples)\n",
    "    y = np.sin(x)\n",
    "    data = [y[i:i + seq_length] for i in range(len(y) - seq_length)]\n",
    "    data = np.array(data)\n",
    "    return data[:, :-1], data[:, 1:]\n",
    "\n",
    "# 데이터 생성\n",
    "seq_length = 50\n",
    "X, Y = generate_data(seq_length)\n",
    "X = torch.tensor(X, dtype=torch.float32)\n",
    "Y = torch.tensor(Y, dtype=torch.float32)\n",
    "\n",
    "# 2. Transformer 모델 정의\n",
    "class TransformerModel(nn.Module):\n",
    "    def __init__(self, input_dim, model_dim, n_heads, n_layers):\n",
    "        super(TransformerModel, self).__init__()\n",
    "        self.encoder = nn.Linear(input_dim, model_dim)\n",
    "        self.transformer = nn.Transformer(\n",
    "            d_model=model_dim, nhead=n_heads, num_encoder_layers=n_layers, num_decoder_layers=n_layers\n",
    "        )\n",
    "        self.decoder = nn.Linear(model_dim, input_dim)\n",
    "\n",
    "    def forward(self, src, tgt):\n",
    "        src = self.encoder(src)\n",
    "        tgt = self.encoder(tgt)\n",
    "        output = self.transformer(src, tgt)\n",
    "        output = self.decoder(output)\n",
    "        return output\n",
    "\n",
    "# 3. 하이퍼파라미터 설정\n",
    "input_dim = 1\n",
    "model_dim = 64\n",
    "n_heads = 4\n",
    "n_layers = 3\n",
    "learning_rate = 0.001\n",
    "epochs = 100\n",
    "\n",
    "# 4. 모델, 손실 함수, 옵티마이저 정의\n",
    "model = TransformerModel(input_dim, model_dim, n_heads, n_layers)\n",
    "criterion = nn.MSELoss()\n",
    "optimizer = optim.Adam(model.parameters(), lr=learning_rate)\n",
    "\n",
    "# 5. 학습 루프\n",
    "for epoch in range(epochs):\n",
    "    model.train()\n",
    "    optimizer.zero_grad()\n",
    "\n",
    "    # 입력과 타겟 데이터 준비\n",
    "    src = X.unsqueeze(-1).permute(1, 0, 2)  # (seq_length, batch_size, input_dim)\n",
    "    tgt = Y.unsqueeze(-1).permute(1, 0, 2)\n",
    "\n",
    "    # 모델 예측\n",
    "    output = model(src, tgt)\n",
    "\n",
    "    # 손실 계산 및 역전파\n",
    "    loss = criterion(output, tgt)\n",
    "    loss.backward()\n",
    "    optimizer.step()\n",
    "\n",
    "    # 학습 로그 출력\n",
    "    if (epoch + 1) % 10 == 0:\n",
    "        print(f\"Epoch [{epoch + 1}/{epochs}], Loss: {loss.item():.4f}\")\n",
    "\n",
    "# 6. 모델 평가 및 시각화\n",
    "model.eval()\n",
    "with torch.no_grad():\n",
    "    src = X.unsqueeze(-1).permute(1, 0, 2)\n",
    "    tgt = Y.unsqueeze(-1).permute(1, 0, 2)\n",
    "    predictions = model(src, tgt).permute(1, 0, 2).squeeze(-1)\n",
    "\n",
    "# 예측 결과 시각화\n",
    "plt.figure(figsize=(12, 6))\n",
    "plt.plot(Y[0].numpy(), label=\"True\")\n",
    "plt.plot(predictions[0].numpy(), label=\"Predicted\")\n",
    "plt.title(\"Transformer Model Prediction\")\n",
    "plt.xlabel(\"Time Step\")\n",
    "plt.ylabel(\"Value\")\n",
    "plt.legend()\n",
    "plt.show()\n"
   ]
  },
  {
   "cell_type": "code",
   "execution_count": null,
   "id": "7a781a2d",
   "metadata": {
    "id": "7a781a2d"
   },
   "outputs": [],
   "source": [
    "%matplotlib inline\n"
   ]
  },
  {
   "cell_type": "code",
   "execution_count": null,
   "id": "29aaec5a",
   "metadata": {
    "id": "29aaec5a"
   },
   "outputs": [],
   "source": [
    "%matplotlib agg\n"
   ]
  },
  {
   "cell_type": "code",
   "execution_count": null,
   "id": "4fcb1458",
   "metadata": {
    "id": "4fcb1458"
   },
   "outputs": [],
   "source": []
  }
 ],
 "metadata": {
  "colab": {
   "provenance": []
  },
  "kernelspec": {
   "display_name": "Python 3 (ipykernel)",
   "language": "python",
   "name": "python3"
  },
  "language_info": {
   "codemirror_mode": {
    "name": "ipython",
    "version": 3
   },
   "file_extension": ".py",
   "mimetype": "text/x-python",
   "name": "python",
   "nbconvert_exporter": "python",
   "pygments_lexer": "ipython3",
   "version": "3.9.11"
  },
  "toc": {
   "base_numbering": 1,
   "nav_menu": {},
   "number_sections": true,
   "sideBar": true,
   "skip_h1_title": false,
   "title_cell": "Table of Contents",
   "title_sidebar": "Contents",
   "toc_cell": false,
   "toc_position": {},
   "toc_section_display": true,
   "toc_window_display": false
  }
 },
 "nbformat": 4,
 "nbformat_minor": 5
}
