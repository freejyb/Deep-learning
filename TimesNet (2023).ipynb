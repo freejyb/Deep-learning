{
 "cells": [
  {
   "cell_type": "code",
   "execution_count": 4,
   "id": "67bfd0c9",
   "metadata": {},
   "outputs": [
    {
     "name": "stdout",
     "output_type": "stream",
     "text": [
      "          날짜     시가     고가     저가     종가       거래량\n",
      "0 2022-01-03  79400  79800  78200  78600  13502112\n",
      "1 2022-01-04  78800  79200  78300  78700  12427416\n",
      "2 2022-01-05  78800  79000  76400  77400  25470640\n",
      "3 2022-01-06  76700  77600  76600  76900  12931954\n",
      "4 2022-01-07  78100  78400  77400  78300  15163757\n"
     ]
    }
   ],
   "source": [
    "from pykrx import stock\n",
    "import pandas as pd\n",
    "\n",
    "# 날짜 형식을 \"%Y%m%d\"로 변경\n",
    "start_date = \"20220101\"\n",
    "end_date = \"20231231\"\n",
    "\n",
    "# 삼성전자 종목코드 (005930)로 주가 데이터 가져오기\n",
    "samsung_df = stock.get_market_ohlcv_by_date(start_date, end_date, \"005930\")\n",
    "\n",
    "# 데이터프레임을 초기화하고 첫 5개 행 미리보기\n",
    "samsung_df.reset_index(inplace=True)\n",
    "print(samsung_df.head())\n"
   ]
  },
  {
   "cell_type": "code",
   "execution_count": 5,
   "id": "a06e7102",
   "metadata": {},
   "outputs": [
    {
     "name": "stderr",
     "output_type": "stream",
     "text": [
      "WARNING: Ignoring invalid distribution -atplotlib (c:\\users\\jyb\\appdata\\local\\programs\\python\\python39\\lib\\site-packages)\n",
      "WARNING: Ignoring invalid distribution -illow (c:\\users\\jyb\\appdata\\local\\programs\\python\\python39\\lib\\site-packages)\n",
      "ERROR: Could not find a version that satisfies the requirement timesnet (from versions: none)\n",
      "ERROR: No matching distribution found for timesnet\n"
     ]
    }
   ],
   "source": [
    "!pip install timesnet"
   ]
  },
  {
   "cell_type": "code",
   "execution_count": null,
   "id": "6314d38e",
   "metadata": {},
   "outputs": [],
   "source": []
  },
  {
   "cell_type": "code",
   "execution_count": null,
   "id": "efb5e2c7",
   "metadata": {},
   "outputs": [],
   "source": [
    "!pip uninstall numpy\n",
    "!pip install numpy\n"
   ]
  },
  {
   "cell_type": "code",
   "execution_count": 6,
   "id": "8bedb28c",
   "metadata": {},
   "outputs": [
    {
     "ename": "ModuleNotFoundError",
     "evalue": "No module named 'timesnet'",
     "output_type": "error",
     "traceback": [
      "\u001b[1;31m---------------------------------------------------------------------------\u001b[0m",
      "\u001b[1;31mModuleNotFoundError\u001b[0m                       Traceback (most recent call last)",
      "\u001b[1;32m~\\AppData\\Local\\Temp/ipykernel_22416/3560576439.py\u001b[0m in \u001b[0;36m<module>\u001b[1;34m\u001b[0m\n\u001b[0;32m      1\u001b[0m \u001b[1;32mimport\u001b[0m \u001b[0mtorch\u001b[0m\u001b[1;33m\u001b[0m\u001b[1;33m\u001b[0m\u001b[0m\n\u001b[1;32m----> 2\u001b[1;33m \u001b[1;32mfrom\u001b[0m \u001b[0mtimesnet\u001b[0m \u001b[1;32mimport\u001b[0m \u001b[0mTimesNetModel\u001b[0m  \u001b[1;31m# 예시 코드로 실제 TimesNet 저장소의 모델 구현을 사용하세요.\u001b[0m\u001b[1;33m\u001b[0m\u001b[1;33m\u001b[0m\u001b[0m\n\u001b[0m\u001b[0;32m      3\u001b[0m \u001b[1;33m\u001b[0m\u001b[0m\n\u001b[0;32m      4\u001b[0m \u001b[1;31m# 데이터 전처리 및 모델 입력 형식에 맞게 변환\u001b[0m\u001b[1;33m\u001b[0m\u001b[1;33m\u001b[0m\u001b[0m\n\u001b[0;32m      5\u001b[0m \u001b[1;31m# (주가 데이터에서 필요한 열만 추출하고, 훈련 및 테스트 데이터 분할)\u001b[0m\u001b[1;33m\u001b[0m\u001b[1;33m\u001b[0m\u001b[0m\n",
      "\u001b[1;31mModuleNotFoundError\u001b[0m: No module named 'timesnet'"
     ]
    }
   ],
   "source": [
    "import torch\n",
    "from timesnet import TimesNetModel  # 예시 코드로 실제 TimesNet 저장소의 모델 구현을 사용하세요.\n",
    "\n",
    "# 데이터 전처리 및 모델 입력 형식에 맞게 변환\n",
    "# (주가 데이터에서 필요한 열만 추출하고, 훈련 및 테스트 데이터 분할)\n",
    "\n",
    "# 모델 인스턴스화 및 훈련\n",
    "model = TimesNetModel(input_dim=1, hidden_dim=64, output_dim=1, num_layers=2)\n",
    "# 훈련 코드 (모델에 데이터 입력 후 학습 수행)\n",
    "\n",
    "# 예측\n",
    "predictions = model(samsung_df)\n",
    "print(predictions)\n"
   ]
  },
  {
   "cell_type": "code",
   "execution_count": null,
   "id": "ef430d15",
   "metadata": {},
   "outputs": [],
   "source": []
  },
  {
   "cell_type": "code",
   "execution_count": null,
   "id": "eae0b7d1",
   "metadata": {},
   "outputs": [],
   "source": []
  }
 ],
 "metadata": {
  "kernelspec": {
   "display_name": "Python 3 (ipykernel)",
   "language": "python",
   "name": "python3"
  },
  "language_info": {
   "codemirror_mode": {
    "name": "ipython",
    "version": 3
   },
   "file_extension": ".py",
   "mimetype": "text/x-python",
   "name": "python",
   "nbconvert_exporter": "python",
   "pygments_lexer": "ipython3",
   "version": "3.9.11"
  },
  "toc": {
   "base_numbering": 1,
   "nav_menu": {},
   "number_sections": true,
   "sideBar": true,
   "skip_h1_title": false,
   "title_cell": "Table of Contents",
   "title_sidebar": "Contents",
   "toc_cell": false,
   "toc_position": {},
   "toc_section_display": true,
   "toc_window_display": false
  }
 },
 "nbformat": 4,
 "nbformat_minor": 5
}
