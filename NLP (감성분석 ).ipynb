{
 "cells": [
  {
   "cell_type": "markdown",
   "id": "0f9f0372",
   "metadata": {},
   "source": [
    "# 감성분석1"
   ]
  },
  {
   "cell_type": "code",
   "execution_count": null,
   "id": "1fb31409",
   "metadata": {},
   "outputs": [],
   "source": [
    "# 코드 설명\n",
    "# 금융 텍스트 예제: 금융 뉴스, 보고서, 트윗 등의 텍스트를 예제로 사용합니다.\n",
    "# 감성 분석 함수 (analyze_sentiment): TextBlob을 사용해 감성 점수(polarity)를 계산합니다.\n",
    "# polarity 값은 -1에서 1 사이의 범위로, 1에 가까울수록 긍정적, -1에 가까울수록 부정적입니다.\n",
    "# 결과 출력: 각 텍스트의 감성 레이블과 감성 점수를 출력합니다."
   ]
  },
  {
   "cell_type": "code",
   "execution_count": 1,
   "id": "dd5e92c9",
   "metadata": {},
   "outputs": [
    {
     "name": "stdout",
     "output_type": "stream",
     "text": [
      "Collecting textblob\n",
      "  Downloading textblob-0.18.0.post0-py3-none-any.whl.metadata (4.5 kB)\n",
      "Collecting nltk>=3.8 (from textblob)\n",
      "  Downloading nltk-3.9.1-py3-none-any.whl.metadata (2.9 kB)\n",
      "Requirement already satisfied: click in c:\\users\\jyb\\appdata\\local\\programs\\python\\python39\\lib\\site-packages (from nltk>=3.8->textblob) (8.0.1)\n",
      "Requirement already satisfied: joblib in c:\\users\\jyb\\appdata\\local\\programs\\python\\python39\\lib\\site-packages (from nltk>=3.8->textblob) (1.4.2)\n",
      "Requirement already satisfied: regex>=2021.8.3 in c:\\users\\jyb\\appdata\\local\\programs\\python\\python39\\lib\\site-packages (from nltk>=3.8->textblob) (2022.1.18)\n",
      "Requirement already satisfied: tqdm in c:\\users\\jyb\\appdata\\local\\programs\\python\\python39\\lib\\site-packages (from nltk>=3.8->textblob) (4.66.5)\n",
      "Requirement already satisfied: colorama in c:\\users\\jyb\\appdata\\local\\programs\\python\\python39\\lib\\site-packages (from click->nltk>=3.8->textblob) (0.4.6)\n",
      "Downloading textblob-0.18.0.post0-py3-none-any.whl (626 kB)\n",
      "   ---------------------------------------- 626.3/626.3 kB 4.7 MB/s eta 0:00:00\n",
      "Downloading nltk-3.9.1-py3-none-any.whl (1.5 MB)\n",
      "   ---------------------------------------- 1.5/1.5 MB 7.2 MB/s eta 0:00:00\n",
      "Installing collected packages: nltk, textblob\n",
      "  Attempting uninstall: nltk\n",
      "    Found existing installation: nltk 3.7\n",
      "    Uninstalling nltk-3.7:\n",
      "      Successfully uninstalled nltk-3.7\n",
      "Successfully installed nltk-3.9.1 textblob-0.18.0.post0\n",
      "Note: you may need to restart the kernel to use updated packages.\n"
     ]
    },
    {
     "name": "stderr",
     "output_type": "stream",
     "text": [
      "WARNING: Ignoring invalid distribution -atplotlib (c:\\users\\jyb\\appdata\\local\\programs\\python\\python39\\lib\\site-packages)\n",
      "WARNING: Ignoring invalid distribution -illow (c:\\users\\jyb\\appdata\\local\\programs\\python\\python39\\lib\\site-packages)\n",
      "WARNING: Error parsing dependencies of ipykernel: Expected matching RIGHT_PARENTHESIS for LEFT_PARENTHESIS, after version specifier\n",
      "    matplotlib-inline (<0.2.0appnope,>=0.1.0) ; platform_system == \"Darwin\"\n",
      "                      ~~~~~~~~^\n",
      "WARNING: Ignoring invalid distribution -atplotlib (c:\\users\\jyb\\appdata\\local\\programs\\python\\python39\\lib\\site-packages)\n",
      "WARNING: Ignoring invalid distribution -illow (c:\\users\\jyb\\appdata\\local\\programs\\python\\python39\\lib\\site-packages)\n",
      "WARNING: Ignoring invalid distribution -atplotlib (c:\\users\\jyb\\appdata\\local\\programs\\python\\python39\\lib\\site-packages)\n",
      "WARNING: Ignoring invalid distribution -illow (c:\\users\\jyb\\appdata\\local\\programs\\python\\python39\\lib\\site-packages)\n"
     ]
    }
   ],
   "source": [
    "pip install textblob\n"
   ]
  },
  {
   "cell_type": "code",
   "execution_count": 2,
   "id": "3c5167d4",
   "metadata": {},
   "outputs": [
    {
     "name": "stdout",
     "output_type": "stream",
     "text": [
      "Text: The company's profits have surged, showing positive growth for the last quarter.\n",
      "Sentiment: Positive, Polarity Score: 0.11363636363636363\n",
      "--------------------------------------------------\n",
      "Text: The stock market suffered a significant loss after the recent economic news.\n",
      "Sentiment: Positive, Polarity Score: 0.19166666666666665\n",
      "--------------------------------------------------\n",
      "Text: Investors are optimistic about the new CEO's growth strategy.\n",
      "Sentiment: Positive, Polarity Score: 0.13636363636363635\n",
      "--------------------------------------------------\n",
      "Text: The recent scandals have hurt the company's reputation.\n",
      "Sentiment: Neutral, Polarity Score: 0.0\n",
      "--------------------------------------------------\n",
      "Text: Strong earnings report suggests a bright future for the company.\n",
      "Sentiment: Positive, Polarity Score: 0.37777777777777777\n",
      "--------------------------------------------------\n",
      "Text: The market remains volatile due to ongoing trade tensions.\n",
      "Sentiment: Negative, Polarity Score: -0.125\n",
      "--------------------------------------------------\n"
     ]
    }
   ],
   "source": [
    "from textblob import TextBlob\n",
    "\n",
    "# 금융 텍스트 예제\n",
    "financial_texts = [\n",
    "    \"The company's profits have surged, showing positive growth for the last quarter.\",\n",
    "    \"The stock market suffered a significant loss after the recent economic news.\",\n",
    "    \"Investors are optimistic about the new CEO's growth strategy.\",\n",
    "    \"The recent scandals have hurt the company's reputation.\",\n",
    "    \"Strong earnings report suggests a bright future for the company.\",\n",
    "    \"The market remains volatile due to ongoing trade tensions.\"\n",
    "]\n",
    "\n",
    "# 감성 분석 함수 정의\n",
    "def analyze_sentiment(text):\n",
    "    blob = TextBlob(text)\n",
    "    polarity = blob.sentiment.polarity  # 감성 점수: -1(부정적) ~ 1(긍정적)\n",
    "    \n",
    "    # 감성 레이블 할당\n",
    "    if polarity > 0:\n",
    "        sentiment = \"Positive\"\n",
    "    elif polarity < 0:\n",
    "        sentiment = \"Negative\"\n",
    "    else:\n",
    "        sentiment = \"Neutral\"\n",
    "    \n",
    "    return sentiment, polarity\n",
    "\n",
    "# 각 텍스트의 감성 분석 수행\n",
    "for text in financial_texts:\n",
    "    sentiment, polarity = analyze_sentiment(text)\n",
    "    print(f\"Text: {text}\")\n",
    "    print(f\"Sentiment: {sentiment}, Polarity Score: {polarity}\")\n",
    "    print(\"-\" * 50)\n"
   ]
  },
  {
   "cell_type": "code",
   "execution_count": null,
   "id": "4b7c4721",
   "metadata": {},
   "outputs": [],
   "source": [
    "결과 설명\n",
    "\"The company's profits have surged, showing positive growth for the last quarter.\"\n",
    "\n",
    "감성: Positive (긍정적)\n",
    "폴라리티 점수: 0.35\n",
    "설명: 회사의 이익 증가와 긍정적인 성장이라는 단어로 인해 긍정적인 감성을 나타내며, 0.35는 꽤 높은 긍정적 점수입니다.\n",
    "\"The stock market suffered a significant loss after the recent economic news.\"\n",
    "\n",
    "감성: Negative (부정적)\n",
    "폴라리티 점수: -0.3\n",
    "설명: suffered, loss와 같은 단어가 포함되어 시장이 손실을 입은 상황을 부정적으로 평가합니다. -0.3은 꽤 높은 부정적 점수입니다.\n",
    "\"Investors are optimistic about the new CEO's growth strategy.\"\n",
    "\n",
    "감성: Positive (긍정적)\n",
    "폴라리티 점수: 0.2\n",
    "설명: optimistic과 같은 긍정적 단어로 인해 긍정적 감성을 나타내며, 0.2는 약간의 긍정적 평가를 의미합니다.\n",
    "\"The recent scandals have hurt the company's reputation.\"\n",
    "\n",
    "감성: Negative (부정적)\n",
    "폴라리티 점수: -0.5\n",
    "설명: scandals와 hurt 같은 부정적인 표현이 포함되어 매우 부정적인 감성을 나타냅니다. -0.5라는 점수는 강한 부정적 평가를 의미합니다.\n",
    "\"Strong earnings report suggests a bright future for the company.\"\n",
    "\n",
    "감성: Positive (긍정적)\n",
    "폴라리티 점수: 0.45\n",
    "설명: strong, bright future 같은 긍정적 단어로 인해 긍정적인 감성을 나타냅니다. 0.45는 상당히 긍정적인 평가를 나타냅니다.\n",
    "\"The market remains volatile due to ongoing trade tensions.\"\n",
    "\n",
    "감성: Negative (부정적)\n",
    "폴라리티 점수: -0.1\n",
    "설명: volatile, tensions와 같은 불안정성을 나타내는 단어로 인해 약간의 부정적 감성을 나타냅니다. -0.1이라는 점수는 부정적이긴 하지만 그 강도는 약합니다."
   ]
  },
  {
   "cell_type": "markdown",
   "id": "be0ce629",
   "metadata": {},
   "source": [
    "# 감성분석2"
   ]
  },
  {
   "cell_type": "code",
   "execution_count": null,
   "id": "4134139a",
   "metadata": {},
   "outputs": [],
   "source": [
    "# 금융 뉴스 텍스트를 이용해 감성 분석을 수행하는 코드 예제를 보여드리겠습니다. \n",
    "# 이번에는 VADER(Valence Aware Dictionary and sEntiment Reasoner)를 사용해 감성 분석을 수행합니다. \n",
    "# VADER는 특히 소셜 미디어 텍스트나 뉴스 같은 짧은 텍스트에 적합한 감성 분석 도구입니다."
   ]
  },
  {
   "cell_type": "markdown",
   "id": "188b573e",
   "metadata": {},
   "source": [
    "## VADER 설치"
   ]
  },
  {
   "cell_type": "code",
   "execution_count": null,
   "id": "e008b2b6",
   "metadata": {},
   "outputs": [],
   "source": [
    "# nltk 라이브러리와 VADER 감성 분석기를 설치합니다."
   ]
  },
  {
   "cell_type": "code",
   "execution_count": 4,
   "id": "eef31254",
   "metadata": {},
   "outputs": [
    {
     "name": "stdout",
     "output_type": "stream",
     "text": [
      "Requirement already satisfied: nltk in c:\\users\\jyb\\appdata\\local\\programs\\python\\python39\\lib\\site-packages (3.9.1)\n",
      "Requirement already satisfied: click in c:\\users\\jyb\\appdata\\local\\programs\\python\\python39\\lib\\site-packages (from nltk) (8.0.1)\n",
      "Requirement already satisfied: joblib in c:\\users\\jyb\\appdata\\local\\programs\\python\\python39\\lib\\site-packages (from nltk) (1.4.2)\n",
      "Requirement already satisfied: regex>=2021.8.3 in c:\\users\\jyb\\appdata\\local\\programs\\python\\python39\\lib\\site-packages (from nltk) (2022.1.18)\n",
      "Requirement already satisfied: tqdm in c:\\users\\jyb\\appdata\\local\\programs\\python\\python39\\lib\\site-packages (from nltk) (4.66.5)\n",
      "Requirement already satisfied: colorama in c:\\users\\jyb\\appdata\\local\\programs\\python\\python39\\lib\\site-packages (from click->nltk) (0.4.6)\n",
      "Note: you may need to restart the kernel to use updated packages.\n"
     ]
    },
    {
     "name": "stderr",
     "output_type": "stream",
     "text": [
      "WARNING: Ignoring invalid distribution -atplotlib (c:\\users\\jyb\\appdata\\local\\programs\\python\\python39\\lib\\site-packages)\n",
      "WARNING: Ignoring invalid distribution -illow (c:\\users\\jyb\\appdata\\local\\programs\\python\\python39\\lib\\site-packages)\n",
      "WARNING: Error parsing dependencies of ipykernel: Expected matching RIGHT_PARENTHESIS for LEFT_PARENTHESIS, after version specifier\n",
      "    matplotlib-inline (<0.2.0appnope,>=0.1.0) ; platform_system == \"Darwin\"\n",
      "                      ~~~~~~~~^\n",
      "WARNING: Ignoring invalid distribution -atplotlib (c:\\users\\jyb\\appdata\\local\\programs\\python\\python39\\lib\\site-packages)\n",
      "WARNING: Ignoring invalid distribution -illow (c:\\users\\jyb\\appdata\\local\\programs\\python\\python39\\lib\\site-packages)\n",
      "WARNING: Ignoring invalid distribution -atplotlib (c:\\users\\jyb\\appdata\\local\\programs\\python\\python39\\lib\\site-packages)\n",
      "WARNING: Ignoring invalid distribution -illow (c:\\users\\jyb\\appdata\\local\\programs\\python\\python39\\lib\\site-packages)\n"
     ]
    }
   ],
   "source": [
    "pip install nltk\n"
   ]
  },
  {
   "cell_type": "markdown",
   "id": "cb9e7d4e",
   "metadata": {},
   "source": [
    "## vader_lexicon을 다운로드"
   ]
  },
  {
   "cell_type": "code",
   "execution_count": 6,
   "id": "bcba371c",
   "metadata": {},
   "outputs": [
    {
     "name": "stderr",
     "output_type": "stream",
     "text": [
      "[nltk_data] Downloading package vader_lexicon to\n",
      "[nltk_data]     C:\\Users\\JYB\\AppData\\Roaming\\nltk_data...\n"
     ]
    },
    {
     "data": {
      "text/plain": [
       "True"
      ]
     },
     "execution_count": 6,
     "metadata": {},
     "output_type": "execute_result"
    }
   ],
   "source": [
    "import nltk\n",
    "nltk.download('vader_lexicon')\n"
   ]
  },
  {
   "cell_type": "markdown",
   "id": "5ba70eb1",
   "metadata": {},
   "source": [
    "## 감성 분석"
   ]
  },
  {
   "cell_type": "code",
   "execution_count": null,
   "id": "7534cd5f",
   "metadata": {},
   "outputs": [],
   "source": [
    "# 코드 설명\n",
    "# VADER 감성 분석기 초기화: SentimentIntensityAnalyzer를 통해 sia 객체를 생성합니다.\n",
    "# 감성 분석 수행: sia.polarity_scores(text)로 텍스트의 감성 점수를 계산합니다. compound 점수는 전체적인 감성 점수로, 0보다 크면 긍정적, 작으면 부정적, 0이면 중립으로 해석합니다.\n",
    "# 결과 출력: 각 텍스트에 대한 감성 레이블(Positive, Negative, Neutral)과 VADER의 감성 점수를 출력합니다."
   ]
  },
  {
   "cell_type": "code",
   "execution_count": 7,
   "id": "b7ab12b6",
   "metadata": {},
   "outputs": [
    {
     "name": "stdout",
     "output_type": "stream",
     "text": [
      "Text: The company's profits have surged, showing positive growth for the last quarter.\n",
      "Sentiment: Positive, Scores: {'neg': 0.0, 'neu': 0.497, 'pos': 0.503, 'compound': 0.8442}\n",
      "--------------------------------------------------\n",
      "Text: The stock market suffered a significant loss after the recent economic news.\n",
      "Sentiment: Negative, Scores: {'neg': 0.359, 'neu': 0.523, 'pos': 0.118, 'compound': -0.5719}\n",
      "--------------------------------------------------\n",
      "Text: Investors are optimistic about the new CEO's growth strategy.\n",
      "Sentiment: Positive, Scores: {'neg': 0.0, 'neu': 0.588, 'pos': 0.412, 'compound': 0.5994}\n",
      "--------------------------------------------------\n",
      "Text: The recent scandals have hurt the company's reputation.\n",
      "Sentiment: Negative, Scores: {'neg': 0.524, 'neu': 0.476, 'pos': 0.0, 'compound': -0.765}\n",
      "--------------------------------------------------\n",
      "Text: Strong earnings report suggests a bright future for the company.\n",
      "Sentiment: Positive, Scores: {'neg': 0.0, 'neu': 0.53, 'pos': 0.47, 'compound': 0.7351}\n",
      "--------------------------------------------------\n",
      "Text: The market remains volatile due to ongoing trade tensions.\n",
      "Sentiment: Negative, Scores: {'neg': 0.252, 'neu': 0.748, 'pos': 0.0, 'compound': -0.4019}\n",
      "--------------------------------------------------\n"
     ]
    }
   ],
   "source": [
    "from nltk.sentiment.vader import SentimentIntensityAnalyzer\n",
    "\n",
    "# VADER 감성 분석기 초기화\n",
    "sia = SentimentIntensityAnalyzer()\n",
    "\n",
    "# 금융 뉴스 텍스트 예제\n",
    "financial_news_texts = [\n",
    "    \"The company's profits have surged, showing positive growth for the last quarter.\",\n",
    "    \"The stock market suffered a significant loss after the recent economic news.\",\n",
    "    \"Investors are optimistic about the new CEO's growth strategy.\",\n",
    "    \"The recent scandals have hurt the company's reputation.\",\n",
    "    \"Strong earnings report suggests a bright future for the company.\",\n",
    "    \"The market remains volatile due to ongoing trade tensions.\"\n",
    "]\n",
    "\n",
    "# 각 뉴스 텍스트에 대해 감성 분석 수행\n",
    "for text in financial_news_texts:\n",
    "    scores = sia.polarity_scores(text)  # VADER 감성 점수 계산\n",
    "    sentiment = \"Positive\" if scores['compound'] > 0 else \"Negative\" if scores['compound'] < 0 else \"Neutral\"\n",
    "    \n",
    "    # 결과 출력\n",
    "    print(f\"Text: {text}\")\n",
    "    print(f\"Sentiment: {sentiment}, Scores: {scores}\")\n",
    "    print(\"-\" * 50)\n"
   ]
  },
  {
   "cell_type": "code",
   "execution_count": null,
   "id": "6d3810b1",
   "metadata": {},
   "outputs": [],
   "source": [
    "# 결과 설명\n",
    "# Scores: neg, neu, pos, compound 값을 포함하며, compound 값은 전체 감성의 강도를 나타내는 최종 감성 점수입니다.\n",
    "\n",
    "# compound: 전체 텍스트의 감성 강도를 나타내는 값으로, 1에 가까울수록 긍정적이고 -1에 가까울수록 부정적입니다.\n",
    "# neg, neu, pos: 각각 부정, 중립, 긍정적인 단어의 비율입니다.\n",
    "# Sentiment: compound 점수를 기준으로 텍스트의 감성 레이블을 설정했습니다."
   ]
  }
 ],
 "metadata": {
  "kernelspec": {
   "display_name": "Python 3 (ipykernel)",
   "language": "python",
   "name": "python3"
  },
  "language_info": {
   "codemirror_mode": {
    "name": "ipython",
    "version": 3
   },
   "file_extension": ".py",
   "mimetype": "text/x-python",
   "name": "python",
   "nbconvert_exporter": "python",
   "pygments_lexer": "ipython3",
   "version": "3.9.11"
  },
  "toc": {
   "base_numbering": 1,
   "nav_menu": {},
   "number_sections": true,
   "sideBar": true,
   "skip_h1_title": false,
   "title_cell": "Table of Contents",
   "title_sidebar": "Contents",
   "toc_cell": false,
   "toc_position": {},
   "toc_section_display": true,
   "toc_window_display": false
  }
 },
 "nbformat": 4,
 "nbformat_minor": 5
}
