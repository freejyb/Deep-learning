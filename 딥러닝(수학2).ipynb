{
 "cells": [
  {
   "cell_type": "markdown",
   "id": "18b64210-b6b7-464a-b4b1-cd34137c3010",
   "metadata": {},
   "source": [
    "# 고유값(Eigenvalue)과 고유벡터(Eigenvector) "
   ]
  },
  {
   "cell_type": "markdown",
   "id": "5e150c94-73f8-4ed4-ab74-d66a5bff780a",
   "metadata": {},
   "source": [
    "고유값(Eigenvalue): \n",
    "\n",
    "행렬 𝐴의 변환에 의해 벡터의 방향이 변하지 않는 경우, 그 벡터는 고유벡터(eigenvector)이며, 이 때의 스칼라 값 𝜆는 고유값입니다,"
   ]
  },
  {
   "cell_type": "markdown",
   "id": "3a62396b-10a1-4c75-9754-da1d25b0f68b",
   "metadata": {},
   "source": [
    "### Av=λv 식을 검증 ( 𝜆는 고유값 , v : 고유벡터)"
   ]
  },
  {
   "cell_type": "code",
   "execution_count": null,
   "id": "6f5fb990-83ff-4214-a21d-702c3e405e14",
   "metadata": {},
   "outputs": [],
   "source": [
    "# 코드 설명\n",
    "\n",
    "# np.array를 사용해 행렬 𝐴를 정의합니다.\n",
    "\n",
    "# np.linalg.eig() 함수를 사용해 행렬 𝐴의 고유값과 고유벡터를 계산합니다.\n",
    "    \n",
    "# eigenvalues는 고유값이 들어 있는 배열입니다.\n",
    "\n",
    "# eigenvectors는 각 고유값에 대응하는 고유벡터가 열(column) 형태로 들어 있는 행렬입니다.\n",
    "\n",
    "# 고유값과 고유벡터를 출력합니다."
   ]
  },
  {
   "cell_type": "code",
   "execution_count": 2,
   "id": "677368e9-1efa-4dcd-8600-519ae5069dc9",
   "metadata": {},
   "outputs": [
    {
     "name": "stdout",
     "output_type": "stream",
     "text": [
      "고유값 (Eigenvalues):\n",
      "[5. 2.]\n",
      "\n",
      "고유벡터 (Eigenvectors):\n",
      "[[ 0.70710678 -0.4472136 ]\n",
      " [ 0.70710678  0.89442719]]\n"
     ]
    }
   ],
   "source": [
    "import numpy as np\n",
    "\n",
    "# 행렬 A 정의\n",
    "A = np.array([[4, 1],\n",
    "              [2, 3]])\n",
    "\n",
    "# 고유값과 고유벡터 계산\n",
    "eigenvalues, eigenvectors = np.linalg.eig(A)\n",
    "\n",
    "# 결과 출력\n",
    "print(\"고유값 (Eigenvalues):\")\n",
    "print(eigenvalues)\n",
    "\n",
    "print(\"\\n고유벡터 (Eigenvectors):\")\n",
    "print(eigenvectors)\n"
   ]
  },
  {
   "cell_type": "markdown",
   "id": "21375e08-a246-448d-95d3-a2b9a7f9f8d3",
   "metadata": {},
   "source": [
    "해석\n",
    "고유값 𝜆1=5, 𝜆2=2입니다.\n",
    "    \n",
    "첫 번째 고유값 𝜆1=5에 대응하는 고유벡터는 [0.707,0.707]입니다.\n",
    "    \n",
    "두 번째 고유값 𝜆2=2에 대응하는 고유벡터는 [−0.447,0.894]입니다.\n",
    "    \n",
    "이 예제는 행렬이 벡터를 변환할 때, 고유벡터의 방향은 변하지 않고, 스칼라 배만 된다는 것을 보여줍니다."
   ]
  },
  {
   "cell_type": "code",
   "execution_count": null,
   "id": "92268d03-988c-4e5d-b6f6-c3a18d17e052",
   "metadata": {},
   "outputs": [],
   "source": []
  },
  {
   "cell_type": "code",
   "execution_count": null,
   "id": "e3e94d7a-d842-4b63-8edd-1f935f5a6b9f",
   "metadata": {},
   "outputs": [],
   "source": [
    "# . 코드 설명\n",
    "\n",
    "# 행렬 정의: A는 2 × 2 크기의 행렬입니다.\n",
    "# 고유값과 고유벡터 계산: np.linalg.eig() 함수를 사용하여 고유값과 고유벡터를 계산합니다.\n",
    "\n",
    "# eigenvalues는 고유값을 포함하는 배열입니다.\n",
    "# eigenvectors는 각 고유값에 대응하는 고유벡터를 열(column)로 가지는 행렬입니다.\n",
    "# . 코드 설명\n",
    "# Av=λv 식을 검증하기 위해, np.dot()을 사용하여 행렬-벡터 곱셈을 수행합니다."
   ]
  },
  {
   "cell_type": "markdown",
   "id": "6ccaa44b-9680-4e11-8ed1-793099d06305",
   "metadata": {},
   "source": [
    "### Av=λv 식을 검증 ( 𝜆는 고유값 , v : 고유벡터)"
   ]
  },
  {
   "cell_type": "code",
   "execution_count": 1,
   "id": "5e02918a-bb62-488b-a896-44988e78a7b0",
   "metadata": {},
   "outputs": [
    {
     "name": "stdout",
     "output_type": "stream",
     "text": [
      "행렬 A:\n",
      "[[4 1]\n",
      " [2 3]]\n",
      "\n",
      "고유값 (Eigenvalues):\n",
      "[5. 2.]\n",
      "\n",
      "고유벡터 (Eigenvectors):\n",
      "[[ 0.70710678 -0.4472136 ]\n",
      " [ 0.70710678  0.89442719]]\n",
      "\n",
      "검증 (고유값 λ_1 = 5.0):\n",
      "좌변 (A * v): [3.53553391 3.53553391]\n",
      "우변 (λ * v): [3.53553391 3.53553391]\n",
      "\n",
      "검증 (고유값 λ_2 = 2.0):\n",
      "좌변 (A * v): [-0.89442719  1.78885438]\n",
      "우변 (λ * v): [-0.89442719  1.78885438]\n"
     ]
    }
   ],
   "source": [
    "import numpy as np\n",
    "\n",
    "# 행렬 A 정의\n",
    "A = np.array([[4, 1],\n",
    "              [2, 3]])\n",
    "\n",
    "# 고유값과 고유벡터 계산\n",
    "eigenvalues, eigenvectors = np.linalg.eig(A)\n",
    "\n",
    "# 고유값 및 고유벡터 출력\n",
    "print(\"행렬 A:\")\n",
    "print(A)\n",
    "\n",
    "print(\"\\n고유값 (Eigenvalues):\")\n",
    "print(eigenvalues)\n",
    "\n",
    "print(\"\\n고유벡터 (Eigenvectors):\")\n",
    "print(eigenvectors)\n",
    "\n",
    "# 행렬 방정식 A * v = lambda * v 검증\n",
    "for i in range(len(eigenvalues)):\n",
    "    lambda_i = eigenvalues[i]\n",
    "    v_i = eigenvectors[:, i]\n",
    "    \n",
    "    # 좌변: A * v\n",
    "    left_side = np.dot(A, v_i)\n",
    "    # 우변: lambda * v\n",
    "    right_side = lambda_i * v_i\n",
    "    \n",
    "    print(f\"\\n검증 (고유값 λ_{i+1} = {lambda_i}):\")\n",
    "    print(\"좌변 (A * v):\", left_side)\n",
    "    print(\"우변 (λ * v):\", right_side)\n"
   ]
  },
  {
   "cell_type": "code",
   "execution_count": null,
   "id": "279b81b7-8140-447a-adb0-3e270e88e5b0",
   "metadata": {},
   "outputs": [],
   "source": []
  },
  {
   "cell_type": "code",
   "execution_count": null,
   "id": "d77b67c7-e443-4b5b-a176-45931c952826",
   "metadata": {},
   "outputs": [],
   "source": []
  }
 ],
 "metadata": {
  "kernelspec": {
   "display_name": "Python 3 (ipykernel)",
   "language": "python",
   "name": "python3"
  },
  "language_info": {
   "codemirror_mode": {
    "name": "ipython",
    "version": 3
   },
   "file_extension": ".py",
   "mimetype": "text/x-python",
   "name": "python",
   "nbconvert_exporter": "python",
   "pygments_lexer": "ipython3",
   "version": "3.9.11"
  }
 },
 "nbformat": 4,
 "nbformat_minor": 5
}
