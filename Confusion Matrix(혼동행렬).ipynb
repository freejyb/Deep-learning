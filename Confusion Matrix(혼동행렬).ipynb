{
 "cells": [
  {
   "cell_type": "markdown",
   "id": "a8a6b284",
   "metadata": {},
   "source": [
    "혼동행렬(Confusion Matrix)"
   ]
  },
  {
   "cell_type": "code",
   "execution_count": null,
   "id": "bc06340f",
   "metadata": {},
   "outputs": [],
   "source": [
    "# 혼동행렬은 이진 분류 모델의 성능을 평가하는 데 중요한 도구입니다. \n",
    "# 이 코드에서는 실제 레이블과 예측 레이블을 비교하여 혼동행렬을 계산하고 시각화합니다.\n",
    "# 혼동행렬을 통해 True Positive, True Negative, False Positive, False Negative 값을 쉽게 확인할 수 있습니다."
   ]
  },
  {
   "cell_type": "markdown",
   "id": "c12a264f",
   "metadata": {},
   "source": [
    "# 혼동행렬"
   ]
  },
  {
   "cell_type": "markdown",
   "id": "a801da73",
   "metadata": {},
   "source": [
    "## 라이브러리"
   ]
  },
  {
   "cell_type": "code",
   "execution_count": 1,
   "id": "04e8628f",
   "metadata": {},
   "outputs": [],
   "source": [
    "import numpy as np\n",
    "from sklearn.metrics import confusion_matrix\n",
    "import seaborn as sns\n",
    "import matplotlib.pyplot as plt"
   ]
  },
  {
   "cell_type": "markdown",
   "id": "fd22eb4c",
   "metadata": {},
   "source": [
    "## 데이터(레이블)"
   ]
  },
  {
   "cell_type": "code",
   "execution_count": null,
   "id": "ee33793a",
   "metadata": {},
   "outputs": [],
   "source": [
    "# 실제 레이블 (y_true):\n",
    "# y_true는 모델이 예측해야 하는 실제 클래스 레이블입니다. 예를 들어, 1은 긍정 클래스, 0은 부정 클래스로 가정합니다.\n",
    "\n",
    "# 예측 레이블 (y_pred):\n",
    "# y_pred는 모델이 예측한 결과 값입니다. 이 값들은 모델의 출력입니다."
   ]
  },
  {
   "cell_type": "code",
   "execution_count": 30,
   "id": "7a59fe29",
   "metadata": {},
   "outputs": [],
   "source": [
    "# 실제 레이블 (True Labels)\n",
    "y_true = np.array([1, 0, 1, 1, 0, 1, 1, 0, 1, 0])\n",
    "\n",
    "# 예측 레이블 (Predicted Labels)\n",
    "y_pred = np.array([1, 0, 1, 0, 0, 1, 1, 0, 1, 0])"
   ]
  },
  {
   "cell_type": "markdown",
   "id": "3e708c89",
   "metadata": {},
   "source": [
    "## 계산 사례"
   ]
  },
  {
   "cell_type": "code",
   "execution_count": 31,
   "id": "460a70e0",
   "metadata": {},
   "outputs": [],
   "source": [
    "# scikit-learn의 confusion_matrix 함수를 사용하여 실제 값과 예측 값의 비교를 통해 혼동행렬을 생성합니다.\n",
    "# 혼동행렬은 2x2 행렬로, 다음 네 가지 요소를 포함합니다:\n",
    "# True Positive (TP): 모델이 1로 예측하고 실제 값도 1인 경우.\n",
    "# True Negative (TN): 모델이 0으로 예측하고 실제 값도 0인 경우.\n",
    "# False Positive (FP): 모델이 1로 예측했지만 실제 값이 0인 경우 (Type I Error).\n",
    "# False Negative (FN): 모델이 0으로 예측했지만 실제 값이 1인 경우 (Type II Error)."
   ]
  },
  {
   "cell_type": "code",
   "execution_count": 32,
   "id": "fab66e47",
   "metadata": {},
   "outputs": [],
   "source": [
    "# 혼동행렬 계산\n",
    "cm = confusion_matrix(y_true, y_pred)"
   ]
  },
  {
   "cell_type": "markdown",
   "id": "331beeb2",
   "metadata": {},
   "source": [
    "## 출력(시각화)"
   ]
  },
  {
   "cell_type": "code",
   "execution_count": 33,
   "id": "9863dbc3",
   "metadata": {},
   "outputs": [],
   "source": [
    "# Seaborn의 heatmap 함수를 사용하여 혼동행렬을 시각화합니다.\n",
    "# annot=True는 셀 안에 숫자를 표시하도록 하며, fmt=\"d\"는 정수로 포맷팅합니다.\n",
    "# X축은 예측값, Y축은 실제값을 나타냅니다."
   ]
  },
  {
   "cell_type": "code",
   "execution_count": 34,
   "id": "6807db21",
   "metadata": {},
   "outputs": [
    {
     "name": "stdout",
     "output_type": "stream",
     "text": [
      "혼동행렬:\n",
      " [[4 0]\n",
      " [1 5]]\n"
     ]
    },
    {
     "data": {
      "image/png": "[encoded data removed]",
      "text/plain": [
       "<Figure size 640x480 with 2 Axes>"
      ]
     },
     "metadata": {},
     "output_type": "display_data"
    }
   ],
   "source": [
    "# 혼동행렬 출력\n",
    "print(\"혼동행렬:\\n\", cm)\n",
    "\n",
    "# 혼동행렬 시각화\n",
    "sns.heatmap(cm, annot=True, fmt=\"d\", cmap=\"Blues\")\n",
    "plt.ylabel('Actual')\n",
    "plt.xlabel('Predicted')\n",
    "plt.title('Confusion Matrix')\n",
    "plt.show()\n",
    "\n"
   ]
  },
  {
   "cell_type": "markdown",
   "id": "17e94fd2",
   "metadata": {},
   "source": [
    "# 성과 평가 지표"
   ]
  },
  {
   "cell_type": "code",
   "execution_count": 35,
   "id": "4c7195fa",
   "metadata": {},
   "outputs": [],
   "source": [
    "# 정확도(Accuracy), 정밀도(Precision), 재현율(Recall), F1 Score는 머신러닝 모델의 성능을 평가하는 중요한 지표들입니다. \n",
    "# 이 지표들을 계산하기 위해 scikit-learn 라이브러리의 classification_report와 accuracy_score, precision_score, recall_score, f1_score를 사용할 수 있습니다.\n",
    "# 다음은 위에서 사용한 혼동행렬 데이터를 기반으로 정확도, 정밀도, 재현율, F1 Score를 계산하는 코드입니다."
   ]
  },
  {
   "cell_type": "code",
   "execution_count": 37,
   "id": "7f452283",
   "metadata": {},
   "outputs": [],
   "source": [
    "from sklearn.metrics import accuracy_score, precision_score, recall_score, f1_score, classification_report\n",
    "\n",
    "# 실제 레이블 (True Labels)\n",
    "y_true = np.array([1, 0, 1, 1, 0, 1, 1, 0, 1, 0])\n",
    "\n",
    "# 예측 레이블 (Predicted Labels)\n",
    "y_pred = np.array([1, 0, 1, 0, 0, 1, 1, 0, 1, 0])"
   ]
  },
  {
   "cell_type": "markdown",
   "id": "297bb7bf",
   "metadata": {},
   "source": [
    "## 정확도 (Accuracy)"
   ]
  },
  {
   "cell_type": "code",
   "execution_count": 38,
   "id": "c4ceb8fd",
   "metadata": {},
   "outputs": [],
   "source": [
    "# accuracy_score(y_true, y_pred) 함수는 정확도를 계산합니다. \n",
    "# 정확도는 전체 샘플 중에서 올바르게 분류된 샘플의 비율입니다."
   ]
  },
  {
   "cell_type": "code",
   "execution_count": 39,
   "id": "fc7a9326",
   "metadata": {},
   "outputs": [
    {
     "name": "stdout",
     "output_type": "stream",
     "text": [
      "정확도(Accuracy): 0.90\n"
     ]
    }
   ],
   "source": [
    "accuracy = accuracy_score(y_true, y_pred)\n",
    "print(f'정확도(Accuracy): {accuracy:.2f}')"
   ]
  },
  {
   "cell_type": "markdown",
   "id": "0c247e83",
   "metadata": {},
   "source": [
    "## 정밀도 (Precision)"
   ]
  },
  {
   "cell_type": "code",
   "execution_count": 40,
   "id": "9f7fe48a",
   "metadata": {},
   "outputs": [],
   "source": [
    "# precision_score(y_true, y_pred) 함수는 정밀도를 계산합니다. \n",
    "# 정밀도는 양성으로 예측한 것 중 실제 양성의 비율을 의미합니다."
   ]
  },
  {
   "cell_type": "code",
   "execution_count": 41,
   "id": "9405267a",
   "metadata": {},
   "outputs": [
    {
     "name": "stdout",
     "output_type": "stream",
     "text": [
      "정밀도(Precision): 1.00\n"
     ]
    }
   ],
   "source": [
    "precision = precision_score(y_true, y_pred)\n",
    "print(f'정밀도(Precision): {precision:.2f}')"
   ]
  },
  {
   "cell_type": "markdown",
   "id": "80415a0e",
   "metadata": {},
   "source": [
    "## 재현율 (Recall)"
   ]
  },
  {
   "cell_type": "code",
   "execution_count": 42,
   "id": "f6b7dfd3",
   "metadata": {},
   "outputs": [],
   "source": [
    "# recall_score(y_true, y_pred) 함수는 재현율을 계산합니다.\n",
    "# 재현율은 실제 양성 중에서 올바르게 예측된 양성의 비율을 의미합니다."
   ]
  },
  {
   "cell_type": "code",
   "execution_count": 43,
   "id": "26962aa9",
   "metadata": {},
   "outputs": [
    {
     "name": "stdout",
     "output_type": "stream",
     "text": [
      "재현율(Recall): 0.83\n"
     ]
    }
   ],
   "source": [
    "recall = recall_score(y_true, y_pred)\n",
    "print(f'재현율(Recall): {recall:.2f}')"
   ]
  },
  {
   "cell_type": "markdown",
   "id": "f50e1d30",
   "metadata": {},
   "source": [
    "## F1 Score"
   ]
  },
  {
   "cell_type": "code",
   "execution_count": 44,
   "id": "414d1d25",
   "metadata": {},
   "outputs": [],
   "source": [
    "# f1_score(y_true, y_pred) 함수는 F1 스코어를 계산합니다. \n",
    "# F1 스코어는 정밀도와 재현율의 조화 평균으로, 두 지표 간의 균형을 측정합니다."
   ]
  },
  {
   "cell_type": "code",
   "execution_count": 45,
   "id": "65c99fcd",
   "metadata": {},
   "outputs": [
    {
     "name": "stdout",
     "output_type": "stream",
     "text": [
      "F1 스코어: 0.91\n"
     ]
    }
   ],
   "source": [
    "# F1 스코어 (F1 Score)\n",
    "f1 = f1_score(y_true, y_pred)\n",
    "print(f'F1 스코어: {f1:.2f}')"
   ]
  },
  {
   "cell_type": "code",
   "execution_count": null,
   "id": "3828bd8a",
   "metadata": {},
   "outputs": [],
   "source": []
  },
  {
   "cell_type": "code",
   "execution_count": 47,
   "id": "61c5dc10",
   "metadata": {},
   "outputs": [
    {
     "name": "stdout",
     "output_type": "stream",
     "text": [
      "정확도(Accuracy): 0.90\n",
      "정밀도(Precision): 1.00\n",
      "재현율(Recall): 0.83\n",
      "F1 스코어: 0.91\n",
      "\n",
      "분류 보고서(Classification Report):\n",
      "\n",
      "              precision    recall  f1-score   support\n",
      "\n",
      "           0       0.80      1.00      0.89         4\n",
      "           1       1.00      0.83      0.91         6\n",
      "\n",
      "    accuracy                           0.90        10\n",
      "   macro avg       0.90      0.92      0.90        10\n",
      "weighted avg       0.92      0.90      0.90        10\n",
      "\n"
     ]
    }
   ],
   "source": [
    "from sklearn.metrics import accuracy_score, precision_score, recall_score, f1_score, classification_report\n",
    "\n",
    "# 실제 레이블 (True Labels)\n",
    "y_true = np.array([1, 0, 1, 1, 0, 1, 1, 0, 1, 0])\n",
    "\n",
    "# 예측 레이블 (Predicted Labels)\n",
    "y_pred = np.array([1, 0, 1, 0, 0, 1, 1, 0, 1, 0])\n",
    "\n",
    "# 정확도 (Accuracy)\n",
    "accuracy = accuracy_score(y_true, y_pred)\n",
    "print(f'정확도(Accuracy): {accuracy:.2f}')\n",
    "\n",
    "# 정밀도 (Precision)\n",
    "precision = precision_score(y_true, y_pred)\n",
    "print(f'정밀도(Precision): {precision:.2f}')\n",
    "\n",
    "# 재현율 (Recall)\n",
    "recall = recall_score(y_true, y_pred)\n",
    "print(f'재현율(Recall): {recall:.2f}')\n",
    "\n",
    "# F1 스코어 (F1 Score)\n",
    "f1 = f1_score(y_true, y_pred)\n",
    "print(f'F1 스코어: {f1:.2f}')\n",
    "\n",
    "# Classification Report 출력\n",
    "print(\"\\n분류 보고서(Classification Report):\\n\")\n",
    "print(classification_report(y_true, y_pred))\n"
   ]
  },
  {
   "cell_type": "code",
   "execution_count": null,
   "id": "1b6e3085",
   "metadata": {},
   "outputs": [],
   "source": [
    "# support\n",
    "\n",
    "# 분류 보고서(Classification Report)**에서 각 클래스에 대한 실제 샘플의 개수를 의미합니다. \n",
    "# 즉, 해당 클래스에 속하는 실제 데이터의 수를 나타냅니다. \n",
    "# 이는 분류 문제에서 각 클래스의 빈도를 나타내며, 모델의 성능을 평가할 때 참고할 수 있는 중요한 정보입니다.\n",
    "\n",
    "# support가 중요한가?\n",
    "# 클래스 불균형을 확인:\n",
    "# support는 각 클래스의 샘플 수를 나타내므로, 데이터셋에 클래스 불균형이 있는지 쉽게 확인할 수 있습니다. \n",
    "# 클래스 불균형이 심한 경우, 특정 클래스에 대한 성능 평가(정밀도, 재현율 등)가 왜곡될 수 있습니다.\n",
    "\n",
    "# 평균 지표의 의미 파악:\n",
    "# weighted avg와 같은 가중 평균에서 각 클래스의 샘플 수는 가중치를 결정하는 데 사용되므로, support 값이 크면 그 클래스가 성능 지표에 더 큰 영향을 미칩니다.\n",
    "\n",
    "# 모델 성능 해석:\n",
    "# 모델이 특정 클래스에서 성능이 낮다면, 그 클래스의 support가 적기 때문에 샘플 수가 적어 평가가 어려울 수 있습니다. \n",
    "# 이 경우, 더 많은 데이터를 확보하거나, 클래스 불균형을 해결하기 위한 전략을 사용할 수 있습니다."
   ]
  },
  {
   "cell_type": "markdown",
   "id": "b160389a",
   "metadata": {},
   "source": [
    "# macro avg (매크로 평균)"
   ]
  },
  {
   "cell_type": "code",
   "execution_count": null,
   "id": "39c07b5b",
   "metadata": {},
   "outputs": [],
   "source": [
    "# macro avg는 각 클래스의 성능 지표(정밀도, 재현율, F1 스코어 등)를 동일한 가중치로 평균화한 값입니다. \n",
    "# 즉, 각 클래스에 대해 성능 지표를 계산한 후, 클래스 간의 평균을 단순하게 계산합니다.\n",
    "\n",
    "# 특징:\n",
    "# 모든 클래스가 동일한 중요성을 가지며, 각 클래스의 샘플 수가 고려되지 않습니다.\n",
    "# 클래스 불균형이 있는 경우, 작은 클래스의 성능이 크게 반영될 수 있습니다.\n",
    "\n",
    "# **macro avg**는 각 클래스가 균등하게 반영된 평균으로, 클래스 불균형을 고려하지 않은 성능 평가 방식입니다. \n",
    "# 모든 클래스가 동일한 중요성을 가지므로, 샘플 수가 적은 클래스도 동일하게 평가에 반영됩니다."
   ]
  },
  {
   "cell_type": "code",
   "execution_count": null,
   "id": "41c163c6",
   "metadata": {},
   "outputs": [],
   "source": [
    "# 0과 1 클래스에서 각각 값을 더하고 2로 나눈면 됩니다.\n",
    "\n",
    "# macro avg  f1-score 경우 = (0.89+0.91) /2 = 0.9"
   ]
  },
  {
   "cell_type": "markdown",
   "id": "4922d399",
   "metadata": {},
   "source": [
    "# weighted avg (가중 평균)"
   ]
  },
  {
   "cell_type": "code",
   "execution_count": null,
   "id": "0d72d94a",
   "metadata": {},
   "outputs": [],
   "source": [
    "# weighted avg는 각 클래스의 성능 지표(정밀도, 재현율, F1 스코어 등)를 계산한 후, 각 클래스의 샘플 수에 비례하여 평균을 계산하는 방식입니다. \n",
    "# 즉, 클래스의 비중(샘플 수)을 고려하여 평균을 구합니다.\n",
    "\n",
    "# 특징:\n",
    "# 클래스의 샘플 수에 따라 가중치를 적용하여 평균을 계산하므로, 클래스 불균형을 고려한 성능 평가가 가능합니다.\n",
    "# 샘플 수가 많은 클래스의 성능이 더 큰 영향을 미칩니다.\n",
    "\n",
    "# weighted avg**는 각 클래스의 샘플 수에 비례한 평균을 제공하므로, 클래스 불균형을 고려한 성능 평가가 가능합니다. \n",
    "# 샘플 수가 많은 클래스가 평가에 더 큰 영향을 미칩니다."
   ]
  },
  {
   "cell_type": "code",
   "execution_count": null,
   "id": "3432e09d",
   "metadata": {},
   "outputs": [],
   "source": [
    "# F1 스코어(F1 Score)**의 weighted avg 경우\n",
    "\n",
    "# (4×0.89)+(6×0.91)/10=0.902\n"
   ]
  },
  {
   "cell_type": "code",
   "execution_count": null,
   "id": "06394dbf",
   "metadata": {},
   "outputs": [],
   "source": []
  }
 ],
 "metadata": {
  "kernelspec": {
   "display_name": "Python 3 (ipykernel)",
   "language": "python",
   "name": "python3"
  },
  "language_info": {
   "codemirror_mode": {
    "name": "ipython",
    "version": 3
   },
   "file_extension": ".py",
   "mimetype": "text/x-python",
   "name": "python",
   "nbconvert_exporter": "python",
   "pygments_lexer": "ipython3",
   "version": "3.9.11"
  },
  "toc": {
   "base_numbering": 1,
   "nav_menu": {},
   "number_sections": true,
   "sideBar": true,
   "skip_h1_title": false,
   "title_cell": "Table of Contents",
   "title_sidebar": "Contents",
   "toc_cell": false,
   "toc_position": {},
   "toc_section_display": true,
   "toc_window_display": false
  }
 },
 "nbformat": 4,
 "nbformat_minor": 5
}
