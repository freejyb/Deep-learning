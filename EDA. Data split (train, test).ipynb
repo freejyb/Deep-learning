{
 "cells": [
  {
   "cell_type": "markdown",
   "id": "31e1e128",
   "metadata": {},
   "source": [
    "# 데이터 탐색(EDA)"
   ]
  },
  {
   "cell_type": "markdown",
   "id": "862c480e",
   "metadata": {},
   "source": [
    "## EDA (Exploratory Data Analysis) 란?"
   ]
  },
  {
   "cell_type": "code",
   "execution_count": null,
   "id": "abe17fe2",
   "metadata": {},
   "outputs": [],
   "source": [
    "# 탐색적 데이터 분석)는 데이터 분석 과정에서 중요한 첫 번째 단계로, 데이터의 특성을 이해하고 잠재적인 패턴, 관계, 이상치(outliers) 등을 시각적으로 탐구하는 과정을 말합니다. EDA는 데이터를 분석하기 전에 데이터의 구조와 패턴을 파악하는 데 큰 도움이 됩니다.\n",
    "\n",
    "# EDA의 주요 목적\n",
    "# 데이터의 분포 파악: 데이터를 요약하여 각 특성(feature)이 어떻게 분포되어 있는지 확인합니다. \n",
    "# 이를 통해 데이터를 이해하고 분석의 방향성을 결정할 수 있습니다.\n",
    "\n",
    "# 데이터의 특성 이해\n",
    "#: 각 변수의 유형(범주형, 연속형)을 파악하고, 중요한 통계적 특성(평균, 중앙값, 표준편차, 최대값, 최소값 등)을 요약합니다.\n",
    "\n",
    "# 변수 간의 관계 탐색\n",
    "#: 특성 간의 상관관계, 패턴, 의존성 등을 찾아냅니다. 변수 간의 관계는 모델링 단계에서 중요한 역할을 할 수 있습니다.\n",
    "\n",
    "# 이상치(outliers) 탐지\n",
    "#: 데이터 내에서 다른 값들과 비교했을 때 비정상적으로 큰 값이나 작은 값을 찾아냅니다. \n",
    "# 이상치는 모델 성능을 떨어뜨릴 수 있으므로 사전에 파악하여 처리하는 것이 중요합니다.\n",
    "\n",
    "# 데이터의 누락 값 탐색: 데이터셋에 결측값(missing values)이 있는지 확인하고, 결측값을 어떻게 처리할지 결정합니다.\n",
    "\n",
    "# 가설 형성: 데이터의 분포와 관계를 바탕으로 잠재적인 가설을 세워, 향후 분석의 방향을 잡을 수 있습니다.\n",
    "\n",
    "# EDA의 주요 기법\n",
    "# EDA는 주로 통계적 요약과 시각화를 통해 수행되며, 대표적인 기법은 다음과 같습니다.\n",
    "\n",
    "# 1. 기술 통계 요약\n",
    "# 평균: 데이터의 중앙 경향을 설명하는 값.\n",
    "# 중앙값: 데이터를 크기순으로 나열했을 때 중간에 위치한 값.\n",
    "# 표준편차: 데이터가 평균에서 얼마나 분포되어 있는지 설명하는 값.\n",
    "# 최댓값/최솟값: 데이터의 범위를 확인.\n",
    "# 사분위수: 데이터의 퍼짐 정도를 설명하기 위한 지표.\n",
    "\n",
    "# 2. 시각화 기법\n",
    "# 히스토그램 (Histogram): 데이터의 분포를 시각적으로 확인하는 데 사용. 각 값이 얼마나 자주 등장하는지 나타냄.\n",
    "# 박스 플롯 (Box Plot): 데이터의 분포, 중앙값, 이상치를 확인하는 데 유용.\n",
    "# 산점도 (Scatter Plot): 두 변수 간의 관계를 시각적으로 보여줌.\n",
    "# 상관관계 행렬 (Correlation Matrix): 변수 간의 상관관계를 확인하여, 어떤 변수가 서로 강하게 연관되어 있는지 파악.\n",
    "# 파이차트 (Pie Chart): 범주형 데이터의 비율을 시각화.\n",
    "# 페어플롯 (Pair Plot): 여러 변수 간의 관계를 한 번에 시각화할 수 있는 방법."
   ]
  },
  {
   "cell_type": "markdown",
   "id": "513f0f60",
   "metadata": {},
   "source": [
    "## Iris 데이터셋 소개"
   ]
  },
  {
   "cell_type": "code",
   "execution_count": null,
   "id": "fef34511",
   "metadata": {},
   "outputs": [],
   "source": [
    "# Iris 데이터셋은 머신러닝 및 통계 분석에서 가장 유명한 데이터셋 중 하나로, \n",
    "# 다양한 분류 알고리즘을 테스트하는 데 사용됩니다. \n",
    "#이 데이터셋은 1936년에 영국의 생물학자이자 통계학자인 R.A. 피셔(Ronald A. Fisher)가 소개한 것으로, **붓꽃(Iris)**의 세 가지 품종에 대한 특성 데이터를 포함하고 있습니다.\n",
    "\n",
    "# Iris 데이터셋의 주요 특징\n",
    "# 샘플 수: 150개\n",
    "\n",
    "# 총 150개의 데이터 샘플이 포함되어 있으며, 각 샘플은 하나의 붓꽃에 해당합니다.\n",
    "# 클래스 (종): 3가지 종류\n",
    "\n",
    "# Setosa (0): 50개 샘플\n",
    "# Versicolor (1): 50개 샘플\n",
    "# Virginica (2): 50개 샘플\n",
    "# 각 클래스에 속하는 샘플 수는 균등하게 분포되어 있습니다.\n",
    "# 특성 (Features): 4가지\n",
    "\n",
    "# 꽃받침 길이 (sepal length): cm 단위\n",
    "# 꽃받침 너비 (sepal width): cm 단위\n",
    "# 꽃잎 길이 (petal length): cm 단위\n",
    "# 꽃잎 너비 (petal width): cm 단위\n",
    "\n",
    "# 이 네 가지 특성은 각각 연속형 변수로, 붓꽃의 생물학적 특징을 나타냅니다.\n",
    "# 목표 (Target): 분류\n",
    "\n",
    "# 붓꽃의 세 가지 품종(Setosa, Versicolor, Virginica) 중 하나로 분류하는 것이 목표입니다.\n",
    "# 종(Species)은 정답(레이블)으로 제공되며, 0, 1, 2로 인코딩됩니다.\n",
    "# Iris 데이터셋의 구조\n",
    "# 입력 데이터: 각 샘플은 4개의 특성(꽃받침 길이, 꽃받침 너비, 꽃잎 길이, 꽃잎 너비)으로 구성된 벡터입니다.\n",
    "# 출력 데이터: 각 샘플의 목표 변수는 붓꽃의 품종으로, 0(Setosa), 1(Versicolor), 2(Virginica) 중 하나입니다."
   ]
  },
  {
   "cell_type": "code",
   "execution_count": null,
   "id": "f40569cb",
   "metadata": {},
   "outputs": [],
   "source": [
    "데이터셋 로드: load_iris()를 사용하여 Iris 데이터셋을 로드합니다.\n",
    "데이터프레임 생성: Iris 데이터셋을 pandas.DataFrame으로 변환하여 더 쉽게 탐색할 수 있습니다.\n",
    "탐색:\n",
    "head(): 상위 5개의 데이터를 출력합니다.\n",
    "describe(): 각 특성에 대한 통계 요약(평균, 표준편차, 최소/최대값 등)을 확인합니다.\n",
    "value_counts(): 각 종(species)의 분포를 확인합니다.\n",
    "corr(): 특성 간의 상관관계를 계산하여 출력합니다."
   ]
  },
  {
   "cell_type": "markdown",
   "id": "e9b78fd4",
   "metadata": {},
   "source": [
    "# EDA "
   ]
  },
  {
   "cell_type": "markdown",
   "id": "536891c7",
   "metadata": {},
   "source": [
    "## 라이브러리"
   ]
  },
  {
   "cell_type": "code",
   "execution_count": 5,
   "id": "8c184406",
   "metadata": {},
   "outputs": [],
   "source": [
    "from sklearn.datasets import load_iris\n",
    "import pandas as pd"
   ]
  },
  {
   "cell_type": "markdown",
   "id": "4332342d",
   "metadata": {},
   "source": [
    "## 데이터 셋"
   ]
  },
  {
   "cell_type": "code",
   "execution_count": 6,
   "id": "f3ed9744",
   "metadata": {},
   "outputs": [],
   "source": [
    "# Iris 데이터셋 로드\n",
    "iris = load_iris()"
   ]
  },
  {
   "cell_type": "code",
   "execution_count": 7,
   "id": "7625db6c",
   "metadata": {},
   "outputs": [
    {
     "data": {
      "text/plain": [
       "{'data': array([[5.1, 3.5, 1.4, 0.2],\n",
       "        [4.9, 3. , 1.4, 0.2],\n",
       "        [4.7, 3.2, 1.3, 0.2],\n",
       "        [4.6, 3.1, 1.5, 0.2],\n",
       "        [5. , 3.6, 1.4, 0.2],\n",
       "        [5.4, 3.9, 1.7, 0.4],\n",
       "        [4.6, 3.4, 1.4, 0.3],\n",
       "        [5. , 3.4, 1.5, 0.2],\n",
       "        [4.4, 2.9, 1.4, 0.2],\n",
       "        [4.9, 3.1, 1.5, 0.1],\n",
       "        [5.4, 3.7, 1.5, 0.2],\n",
       "        [4.8, 3.4, 1.6, 0.2],\n",
       "        [4.8, 3. , 1.4, 0.1],\n",
       "        [4.3, 3. , 1.1, 0.1],\n",
       "        [5.8, 4. , 1.2, 0.2],\n",
       "        [5.7, 4.4, 1.5, 0.4],\n",
       "        [5.4, 3.9, 1.3, 0.4],\n",
       "        [5.1, 3.5, 1.4, 0.3],\n",
       "        [5.7, 3.8, 1.7, 0.3],\n",
       "        [5.1, 3.8, 1.5, 0.3],\n",
       "        [5.4, 3.4, 1.7, 0.2],\n",
       "        [5.1, 3.7, 1.5, 0.4],\n",
       "        [4.6, 3.6, 1. , 0.2],\n",
       "        [5.1, 3.3, 1.7, 0.5],\n",
       "        [4.8, 3.4, 1.9, 0.2],\n",
       "        [5. , 3. , 1.6, 0.2],\n",
       "        [5. , 3.4, 1.6, 0.4],\n",
       "        [5.2, 3.5, 1.5, 0.2],\n",
       "        [5.2, 3.4, 1.4, 0.2],\n",
       "        [4.7, 3.2, 1.6, 0.2],\n",
       "        [4.8, 3.1, 1.6, 0.2],\n",
       "        [5.4, 3.4, 1.5, 0.4],\n",
       "        [5.2, 4.1, 1.5, 0.1],\n",
       "        [5.5, 4.2, 1.4, 0.2],\n",
       "        [4.9, 3.1, 1.5, 0.2],\n",
       "        [5. , 3.2, 1.2, 0.2],\n",
       "        [5.5, 3.5, 1.3, 0.2],\n",
       "        [4.9, 3.6, 1.4, 0.1],\n",
       "        [4.4, 3. , 1.3, 0.2],\n",
       "        [5.1, 3.4, 1.5, 0.2],\n",
       "        [5. , 3.5, 1.3, 0.3],\n",
       "        [4.5, 2.3, 1.3, 0.3],\n",
       "        [4.4, 3.2, 1.3, 0.2],\n",
       "        [5. , 3.5, 1.6, 0.6],\n",
       "        [5.1, 3.8, 1.9, 0.4],\n",
       "        [4.8, 3. , 1.4, 0.3],\n",
       "        [5.1, 3.8, 1.6, 0.2],\n",
       "        [4.6, 3.2, 1.4, 0.2],\n",
       "        [5.3, 3.7, 1.5, 0.2],\n",
       "        [5. , 3.3, 1.4, 0.2],\n",
       "        [7. , 3.2, 4.7, 1.4],\n",
       "        [6.4, 3.2, 4.5, 1.5],\n",
       "        [6.9, 3.1, 4.9, 1.5],\n",
       "        [5.5, 2.3, 4. , 1.3],\n",
       "        [6.5, 2.8, 4.6, 1.5],\n",
       "        [5.7, 2.8, 4.5, 1.3],\n",
       "        [6.3, 3.3, 4.7, 1.6],\n",
       "        [4.9, 2.4, 3.3, 1. ],\n",
       "        [6.6, 2.9, 4.6, 1.3],\n",
       "        [5.2, 2.7, 3.9, 1.4],\n",
       "        [5. , 2. , 3.5, 1. ],\n",
       "        [5.9, 3. , 4.2, 1.5],\n",
       "        [6. , 2.2, 4. , 1. ],\n",
       "        [6.1, 2.9, 4.7, 1.4],\n",
       "        [5.6, 2.9, 3.6, 1.3],\n",
       "        [6.7, 3.1, 4.4, 1.4],\n",
       "        [5.6, 3. , 4.5, 1.5],\n",
       "        [5.8, 2.7, 4.1, 1. ],\n",
       "        [6.2, 2.2, 4.5, 1.5],\n",
       "        [5.6, 2.5, 3.9, 1.1],\n",
       "        [5.9, 3.2, 4.8, 1.8],\n",
       "        [6.1, 2.8, 4. , 1.3],\n",
       "        [6.3, 2.5, 4.9, 1.5],\n",
       "        [6.1, 2.8, 4.7, 1.2],\n",
       "        [6.4, 2.9, 4.3, 1.3],\n",
       "        [6.6, 3. , 4.4, 1.4],\n",
       "        [6.8, 2.8, 4.8, 1.4],\n",
       "        [6.7, 3. , 5. , 1.7],\n",
       "        [6. , 2.9, 4.5, 1.5],\n",
       "        [5.7, 2.6, 3.5, 1. ],\n",
       "        [5.5, 2.4, 3.8, 1.1],\n",
       "        [5.5, 2.4, 3.7, 1. ],\n",
       "        [5.8, 2.7, 3.9, 1.2],\n",
       "        [6. , 2.7, 5.1, 1.6],\n",
       "        [5.4, 3. , 4.5, 1.5],\n",
       "        [6. , 3.4, 4.5, 1.6],\n",
       "        [6.7, 3.1, 4.7, 1.5],\n",
       "        [6.3, 2.3, 4.4, 1.3],\n",
       "        [5.6, 3. , 4.1, 1.3],\n",
       "        [5.5, 2.5, 4. , 1.3],\n",
       "        [5.5, 2.6, 4.4, 1.2],\n",
       "        [6.1, 3. , 4.6, 1.4],\n",
       "        [5.8, 2.6, 4. , 1.2],\n",
       "        [5. , 2.3, 3.3, 1. ],\n",
       "        [5.6, 2.7, 4.2, 1.3],\n",
       "        [5.7, 3. , 4.2, 1.2],\n",
       "        [5.7, 2.9, 4.2, 1.3],\n",
       "        [6.2, 2.9, 4.3, 1.3],\n",
       "        [5.1, 2.5, 3. , 1.1],\n",
       "        [5.7, 2.8, 4.1, 1.3],\n",
       "        [6.3, 3.3, 6. , 2.5],\n",
       "        [5.8, 2.7, 5.1, 1.9],\n",
       "        [7.1, 3. , 5.9, 2.1],\n",
       "        [6.3, 2.9, 5.6, 1.8],\n",
       "        [6.5, 3. , 5.8, 2.2],\n",
       "        [7.6, 3. , 6.6, 2.1],\n",
       "        [4.9, 2.5, 4.5, 1.7],\n",
       "        [7.3, 2.9, 6.3, 1.8],\n",
       "        [6.7, 2.5, 5.8, 1.8],\n",
       "        [7.2, 3.6, 6.1, 2.5],\n",
       "        [6.5, 3.2, 5.1, 2. ],\n",
       "        [6.4, 2.7, 5.3, 1.9],\n",
       "        [6.8, 3. , 5.5, 2.1],\n",
       "        [5.7, 2.5, 5. , 2. ],\n",
       "        [5.8, 2.8, 5.1, 2.4],\n",
       "        [6.4, 3.2, 5.3, 2.3],\n",
       "        [6.5, 3. , 5.5, 1.8],\n",
       "        [7.7, 3.8, 6.7, 2.2],\n",
       "        [7.7, 2.6, 6.9, 2.3],\n",
       "        [6. , 2.2, 5. , 1.5],\n",
       "        [6.9, 3.2, 5.7, 2.3],\n",
       "        [5.6, 2.8, 4.9, 2. ],\n",
       "        [7.7, 2.8, 6.7, 2. ],\n",
       "        [6.3, 2.7, 4.9, 1.8],\n",
       "        [6.7, 3.3, 5.7, 2.1],\n",
       "        [7.2, 3.2, 6. , 1.8],\n",
       "        [6.2, 2.8, 4.8, 1.8],\n",
       "        [6.1, 3. , 4.9, 1.8],\n",
       "        [6.4, 2.8, 5.6, 2.1],\n",
       "        [7.2, 3. , 5.8, 1.6],\n",
       "        [7.4, 2.8, 6.1, 1.9],\n",
       "        [7.9, 3.8, 6.4, 2. ],\n",
       "        [6.4, 2.8, 5.6, 2.2],\n",
       "        [6.3, 2.8, 5.1, 1.5],\n",
       "        [6.1, 2.6, 5.6, 1.4],\n",
       "        [7.7, 3. , 6.1, 2.3],\n",
       "        [6.3, 3.4, 5.6, 2.4],\n",
       "        [6.4, 3.1, 5.5, 1.8],\n",
       "        [6. , 3. , 4.8, 1.8],\n",
       "        [6.9, 3.1, 5.4, 2.1],\n",
       "        [6.7, 3.1, 5.6, 2.4],\n",
       "        [6.9, 3.1, 5.1, 2.3],\n",
       "        [5.8, 2.7, 5.1, 1.9],\n",
       "        [6.8, 3.2, 5.9, 2.3],\n",
       "        [6.7, 3.3, 5.7, 2.5],\n",
       "        [6.7, 3. , 5.2, 2.3],\n",
       "        [6.3, 2.5, 5. , 1.9],\n",
       "        [6.5, 3. , 5.2, 2. ],\n",
       "        [6.2, 3.4, 5.4, 2.3],\n",
       "        [5.9, 3. , 5.1, 1.8]]),\n",
       " 'target': array([0, 0, 0, 0, 0, 0, 0, 0, 0, 0, 0, 0, 0, 0, 0, 0, 0, 0, 0, 0, 0, 0,\n",
       "        0, 0, 0, 0, 0, 0, 0, 0, 0, 0, 0, 0, 0, 0, 0, 0, 0, 0, 0, 0, 0, 0,\n",
       "        0, 0, 0, 0, 0, 0, 1, 1, 1, 1, 1, 1, 1, 1, 1, 1, 1, 1, 1, 1, 1, 1,\n",
       "        1, 1, 1, 1, 1, 1, 1, 1, 1, 1, 1, 1, 1, 1, 1, 1, 1, 1, 1, 1, 1, 1,\n",
       "        1, 1, 1, 1, 1, 1, 1, 1, 1, 1, 1, 1, 2, 2, 2, 2, 2, 2, 2, 2, 2, 2,\n",
       "        2, 2, 2, 2, 2, 2, 2, 2, 2, 2, 2, 2, 2, 2, 2, 2, 2, 2, 2, 2, 2, 2,\n",
       "        2, 2, 2, 2, 2, 2, 2, 2, 2, 2, 2, 2, 2, 2, 2, 2, 2, 2]),\n",
       " 'frame': None,\n",
       " 'target_names': array(['setosa', 'versicolor', 'virginica'], dtype='<U10'),\n",
       " 'DESCR': '.. _iris_dataset:\\n\\nIris plants dataset\\n--------------------\\n\\n**Data Set Characteristics:**\\n\\n:Number of Instances: 150 (50 in each of three classes)\\n:Number of Attributes: 4 numeric, predictive attributes and the class\\n:Attribute Information:\\n    - sepal length in cm\\n    - sepal width in cm\\n    - petal length in cm\\n    - petal width in cm\\n    - class:\\n            - Iris-Setosa\\n            - Iris-Versicolour\\n            - Iris-Virginica\\n\\n:Summary Statistics:\\n\\n============== ==== ==== ======= ===== ====================\\n                Min  Max   Mean    SD   Class Correlation\\n============== ==== ==== ======= ===== ====================\\nsepal length:   4.3  7.9   5.84   0.83    0.7826\\nsepal width:    2.0  4.4   3.05   0.43   -0.4194\\npetal length:   1.0  6.9   3.76   1.76    0.9490  (high!)\\npetal width:    0.1  2.5   1.20   0.76    0.9565  (high!)\\n============== ==== ==== ======= ===== ====================\\n\\n:Missing Attribute Values: None\\n:Class Distribution: 33.3% for each of 3 classes.\\n:Creator: R.A. Fisher\\n:Donor: Michael Marshall (MARSHALL%PLU@io.arc.nasa.gov)\\n:Date: July, 1988\\n\\nThe famous Iris database, first used by Sir R.A. Fisher. The dataset is taken\\nfrom Fisher\\'s paper. Note that it\\'s the same as in R, but not as in the UCI\\nMachine Learning Repository, which has two wrong data points.\\n\\nThis is perhaps the best known database to be found in the\\npattern recognition literature.  Fisher\\'s paper is a classic in the field and\\nis referenced frequently to this day.  (See Duda & Hart, for example.)  The\\ndata set contains 3 classes of 50 instances each, where each class refers to a\\ntype of iris plant.  One class is linearly separable from the other 2; the\\nlatter are NOT linearly separable from each other.\\n\\n.. dropdown:: References\\n\\n  - Fisher, R.A. \"The use of multiple measurements in taxonomic problems\"\\n    Annual Eugenics, 7, Part II, 179-188 (1936); also in \"Contributions to\\n    Mathematical Statistics\" (John Wiley, NY, 1950).\\n  - Duda, R.O., & Hart, P.E. (1973) Pattern Classification and Scene Analysis.\\n    (Q327.D83) John Wiley & Sons.  ISBN 0-471-22361-1.  See page 218.\\n  - Dasarathy, B.V. (1980) \"Nosing Around the Neighborhood: A New System\\n    Structure and Classification Rule for Recognition in Partially Exposed\\n    Environments\".  IEEE Transactions on Pattern Analysis and Machine\\n    Intelligence, Vol. PAMI-2, No. 1, 67-71.\\n  - Gates, G.W. (1972) \"The Reduced Nearest Neighbor Rule\".  IEEE Transactions\\n    on Information Theory, May 1972, 431-433.\\n  - See also: 1988 MLC Proceedings, 54-64.  Cheeseman et al\"s AUTOCLASS II\\n    conceptual clustering system finds 3 classes in the data.\\n  - Many, many more ...\\n',\n",
       " 'feature_names': ['sepal length (cm)',\n",
       "  'sepal width (cm)',\n",
       "  'petal length (cm)',\n",
       "  'petal width (cm)'],\n",
       " 'filename': 'iris.csv',\n",
       " 'data_module': 'sklearn.datasets.data'}"
      ]
     },
     "execution_count": 7,
     "metadata": {},
     "output_type": "execute_result"
    }
   ],
   "source": [
    "iris "
   ]
  },
  {
   "cell_type": "code",
   "execution_count": null,
   "id": "7f4c2acd",
   "metadata": {},
   "outputs": [],
   "source": [
    "# Iris 데이터셋은 원래 numpy 배열 형태로 제공되는데, 이 배열은 행렬 연산에는 적합하지만, 데이터 탐색이나 분석을 할 때는 pandas 데이터프레임이 훨씬 더 유연하고 직관적입니다.\n",
    "# pandas.DataFrame을 사용하면 각 특성(열)에 이름을 지정하고, 행렬 연산 외에도 다양한 탐색적 분석과 조작(정렬, 필터링 등)을 손쉽게 수행할 수 있습니다."
   ]
  },
  {
   "cell_type": "code",
   "execution_count": 8,
   "id": "f8599595",
   "metadata": {},
   "outputs": [],
   "source": [
    "# 데이터를 pandas 데이터프레임으로 변환\n",
    "iris_df = pd.DataFrame(data=iris.data, columns=iris.feature_names)"
   ]
  },
  {
   "cell_type": "code",
   "execution_count": 11,
   "id": "1c6ff522",
   "metadata": {},
   "outputs": [
    {
     "data": {
      "text/html": [
       "<div>\n",
       "<style scoped>\n",
       "    .dataframe tbody tr th:only-of-type {\n",
       "        vertical-align: middle;\n",
       "    }\n",
       "\n",
       "    .dataframe tbody tr th {\n",
       "        vertical-align: top;\n",
       "    }\n",
       "\n",
       "    .dataframe thead th {\n",
       "        text-align: right;\n",
       "    }\n",
       "</style>\n",
       "<table border=\"1\" class=\"dataframe\">\n",
       "  <thead>\n",
       "    <tr style=\"text-align: right;\">\n",
       "      <th></th>\n",
       "      <th>sepal length (cm)</th>\n",
       "      <th>sepal width (cm)</th>\n",
       "      <th>petal length (cm)</th>\n",
       "      <th>petal width (cm)</th>\n",
       "    </tr>\n",
       "  </thead>\n",
       "  <tbody>\n",
       "    <tr>\n",
       "      <th>0</th>\n",
       "      <td>5.1</td>\n",
       "      <td>3.5</td>\n",
       "      <td>1.4</td>\n",
       "      <td>0.2</td>\n",
       "    </tr>\n",
       "    <tr>\n",
       "      <th>1</th>\n",
       "      <td>4.9</td>\n",
       "      <td>3.0</td>\n",
       "      <td>1.4</td>\n",
       "      <td>0.2</td>\n",
       "    </tr>\n",
       "    <tr>\n",
       "      <th>2</th>\n",
       "      <td>4.7</td>\n",
       "      <td>3.2</td>\n",
       "      <td>1.3</td>\n",
       "      <td>0.2</td>\n",
       "    </tr>\n",
       "    <tr>\n",
       "      <th>3</th>\n",
       "      <td>4.6</td>\n",
       "      <td>3.1</td>\n",
       "      <td>1.5</td>\n",
       "      <td>0.2</td>\n",
       "    </tr>\n",
       "    <tr>\n",
       "      <th>4</th>\n",
       "      <td>5.0</td>\n",
       "      <td>3.6</td>\n",
       "      <td>1.4</td>\n",
       "      <td>0.2</td>\n",
       "    </tr>\n",
       "    <tr>\n",
       "      <th>...</th>\n",
       "      <td>...</td>\n",
       "      <td>...</td>\n",
       "      <td>...</td>\n",
       "      <td>...</td>\n",
       "    </tr>\n",
       "    <tr>\n",
       "      <th>145</th>\n",
       "      <td>6.7</td>\n",
       "      <td>3.0</td>\n",
       "      <td>5.2</td>\n",
       "      <td>2.3</td>\n",
       "    </tr>\n",
       "    <tr>\n",
       "      <th>146</th>\n",
       "      <td>6.3</td>\n",
       "      <td>2.5</td>\n",
       "      <td>5.0</td>\n",
       "      <td>1.9</td>\n",
       "    </tr>\n",
       "    <tr>\n",
       "      <th>147</th>\n",
       "      <td>6.5</td>\n",
       "      <td>3.0</td>\n",
       "      <td>5.2</td>\n",
       "      <td>2.0</td>\n",
       "    </tr>\n",
       "    <tr>\n",
       "      <th>148</th>\n",
       "      <td>6.2</td>\n",
       "      <td>3.4</td>\n",
       "      <td>5.4</td>\n",
       "      <td>2.3</td>\n",
       "    </tr>\n",
       "    <tr>\n",
       "      <th>149</th>\n",
       "      <td>5.9</td>\n",
       "      <td>3.0</td>\n",
       "      <td>5.1</td>\n",
       "      <td>1.8</td>\n",
       "    </tr>\n",
       "  </tbody>\n",
       "</table>\n",
       "<p>150 rows × 4 columns</p>\n",
       "</div>"
      ],
      "text/plain": [
       "     sepal length (cm)  sepal width (cm)  petal length (cm)  petal width (cm)\n",
       "0                  5.1               3.5                1.4               0.2\n",
       "1                  4.9               3.0                1.4               0.2\n",
       "2                  4.7               3.2                1.3               0.2\n",
       "3                  4.6               3.1                1.5               0.2\n",
       "4                  5.0               3.6                1.4               0.2\n",
       "..                 ...               ...                ...               ...\n",
       "145                6.7               3.0                5.2               2.3\n",
       "146                6.3               2.5                5.0               1.9\n",
       "147                6.5               3.0                5.2               2.0\n",
       "148                6.2               3.4                5.4               2.3\n",
       "149                5.9               3.0                5.1               1.8\n",
       "\n",
       "[150 rows x 4 columns]"
      ]
     },
     "execution_count": 11,
     "metadata": {},
     "output_type": "execute_result"
    }
   ],
   "source": [
    "iris_df"
   ]
  },
  {
   "cell_type": "code",
   "execution_count": 12,
   "id": "0b014dcd",
   "metadata": {},
   "outputs": [],
   "source": [
    "# 타겟 값을 species로 추가\n",
    "iris_df['species'] = iris.target"
   ]
  },
  {
   "cell_type": "code",
   "execution_count": null,
   "id": "cfb75f4f",
   "metadata": {},
   "outputs": [],
   "source": []
  },
  {
   "cell_type": "markdown",
   "id": "632ebb5a",
   "metadata": {},
   "source": [
    "## 데이터 탐색"
   ]
  },
  {
   "cell_type": "code",
   "execution_count": null,
   "id": "24727c1b",
   "metadata": {},
   "outputs": [],
   "source": [
    "# info(): 데이터프레임의 전체 구조를 보여줍니다. 각 열의 데이터 타입, 결측치 여부, 데이터의 개수 등을 확인할 수 있습니다.\n",
    "# head(): 상위 5개의 데이터를 출력합니다.\n",
    "# dtypes: 각 열의 데이터 타입을 출력합니다.\n",
    "# describe(): 각 특성에 대한 통계 요약(평균, 표준편차, 최소/최대값 등)을 확인합니다.\n",
    "# value_counts(): 각 종(species)의 분포를 확인합니다.\n",
    "# corr(): 특성 간의 상관관계를 계산하여 출력합니다."
   ]
  },
  {
   "cell_type": "code",
   "execution_count": 17,
   "id": "8408b9ef",
   "metadata": {},
   "outputs": [
    {
     "name": "stdout",
     "output_type": "stream",
     "text": [
      "데이터 정보:\n",
      "<class 'pandas.core.frame.DataFrame'>\n",
      "RangeIndex: 150 entries, 0 to 149\n",
      "Data columns (total 5 columns):\n",
      " #   Column             Non-Null Count  Dtype  \n",
      "---  ------             --------------  -----  \n",
      " 0   sepal length (cm)  150 non-null    float64\n",
      " 1   sepal width (cm)   150 non-null    float64\n",
      " 2   petal length (cm)  150 non-null    float64\n",
      " 3   petal width (cm)   150 non-null    float64\n",
      " 4   species            150 non-null    int32  \n",
      "dtypes: float64(4), int32(1)\n",
      "memory usage: 5.4 KB\n",
      "None\n",
      "상위 5개 데이터:\n",
      "   sepal length (cm)  sepal width (cm)  petal length (cm)  petal width (cm)  \\\n",
      "0                5.1               3.5                1.4               0.2   \n",
      "1                4.9               3.0                1.4               0.2   \n",
      "2                4.7               3.2                1.3               0.2   \n",
      "3                4.6               3.1                1.5               0.2   \n",
      "4                5.0               3.6                1.4               0.2   \n",
      "\n",
      "   species  \n",
      "0        0  \n",
      "1        0  \n",
      "2        0  \n",
      "3        0  \n",
      "4        0  \n",
      "\n",
      "각 컬럼의 데이터 타입:\n",
      "sepal length (cm)    float64\n",
      "sepal width (cm)     float64\n",
      "petal length (cm)    float64\n",
      "petal width (cm)     float64\n",
      "species                int32\n",
      "dtype: object\n",
      "\n",
      "각 특성의 통계 요약:\n",
      "       sepal length (cm)  sepal width (cm)  petal length (cm)  \\\n",
      "count         150.000000        150.000000         150.000000   \n",
      "mean            5.843333          3.057333           3.758000   \n",
      "std             0.828066          0.435866           1.765298   \n",
      "min             4.300000          2.000000           1.000000   \n",
      "25%             5.100000          2.800000           1.600000   \n",
      "50%             5.800000          3.000000           4.350000   \n",
      "75%             6.400000          3.300000           5.100000   \n",
      "max             7.900000          4.400000           6.900000   \n",
      "\n",
      "       petal width (cm)     species  \n",
      "count        150.000000  150.000000  \n",
      "mean           1.199333    1.000000  \n",
      "std            0.762238    0.819232  \n",
      "min            0.100000    0.000000  \n",
      "25%            0.300000    0.000000  \n",
      "50%            1.300000    1.000000  \n",
      "75%            1.800000    2.000000  \n",
      "max            2.500000    2.000000  \n",
      "\n",
      "각 종의 분포:\n",
      "species\n",
      "0    50\n",
      "1    50\n",
      "2    50\n",
      "Name: count, dtype: int64\n",
      "\n",
      "특성 간의 상관관계:\n",
      "                   sepal length (cm)  sepal width (cm)  petal length (cm)  \\\n",
      "sepal length (cm)           1.000000         -0.117570           0.871754   \n",
      "sepal width (cm)           -0.117570          1.000000          -0.428440   \n",
      "petal length (cm)           0.871754         -0.428440           1.000000   \n",
      "petal width (cm)            0.817941         -0.366126           0.962865   \n",
      "species                     0.782561         -0.426658           0.949035   \n",
      "\n",
      "                   petal width (cm)   species  \n",
      "sepal length (cm)          0.817941  0.782561  \n",
      "sepal width (cm)          -0.366126 -0.426658  \n",
      "petal length (cm)          0.962865  0.949035  \n",
      "petal width (cm)           1.000000  0.956547  \n",
      "species                    0.956547  1.000000  \n"
     ]
    }
   ],
   "source": [
    "# 1. 데이터의 기본 정보 확인\n",
    "print(\"데이터 정보:\")\n",
    "print(iris_df.info())\n",
    "\n",
    "# 1. 데이터의 상위 5개 행 확인\n",
    "print(\"상위 5개 데이터:\")\n",
    "print(iris_df.head())\n",
    "\n",
    "\n",
    "# 2. 각 특성의 데이터 타입 확인\n",
    "print(\"\\n각 컬럼의 데이터 타입:\")\n",
    "print(iris_df.dtypes)\n",
    "\n",
    "# 2. 각 특성에 대한 통계 요약 확인\n",
    "print(\"\\n각 특성의 통계 요약:\")\n",
    "print(iris_df.describe())\n",
    "\n",
    "# 3. 각 종(species)의 분포 확인\n",
    "print(\"\\n각 종의 분포:\")\n",
    "print(iris_df['species'].value_counts())\n",
    "\n",
    "# 4. 특성 간의 상관관계 매트릭스 계산\n",
    "print(\"\\n특성 간의 상관관계:\")\n",
    "print(iris_df.corr())"
   ]
  },
  {
   "cell_type": "code",
   "execution_count": null,
   "id": "60958283",
   "metadata": {},
   "outputs": [],
   "source": []
  },
  {
   "cell_type": "markdown",
   "id": "a3c2ed77",
   "metadata": {},
   "source": [
    "# 데이터 분할"
   ]
  },
  {
   "cell_type": "code",
   "execution_count": null,
   "id": "86954930",
   "metadata": {},
   "outputs": [],
   "source": [
    "# 데이터 분할의 중요성\n",
    "# 데이터를 적절히 분할하지 않으면 모델이 훈련 데이터에만 최적화되어 과적합 문제가 발생할 수 있습니다. \n",
    "# 과적합된 모델은 훈련 데이터에서는 높은 성능을 보이지만, 실제 테스트 데이터나 새로운 데이터에서는 성능이 크게 떨어집니다.\n",
    "# 따라서, 훈련 데이터와 테스트 데이터를 적절히 분리하고, 검증 데이터를 사용하거나 교차 검증을 통해 모델의 일반화 성능을 평가하는 것이 매우 중요합니다."
   ]
  },
  {
   "cell_type": "markdown",
   "id": "feb7d396",
   "metadata": {},
   "source": [
    "## 훈련용과 테스트용으로 80:20 비율"
   ]
  },
  {
   "cell_type": "code",
   "execution_count": null,
   "id": "1b184775",
   "metadata": {},
   "outputs": [],
   "source": [
    "# 코드 설명:\n",
    "# load_iris()를 사용해 Iris 데이터셋을 로드합니다.\n",
    "# train_test_split() 함수를 이용해 데이터를 훈련용과 테스트용으로 80:20 비율로 분할합니다.\n",
    "# random_state=42는 결과의 재현성을 위해 설정한 고정된 난수 시드 값입니다.\n",
    "# 마지막으로 각 데이터셋의 크기를 출력합니다."
   ]
  },
  {
   "cell_type": "code",
   "execution_count": 14,
   "id": "6c739d27",
   "metadata": {},
   "outputs": [
    {
     "name": "stdout",
     "output_type": "stream",
     "text": [
      "훈련 데이터 크기 (X_train): (120, 4)\n",
      "테스트 데이터 크기 (X_test): (30, 4)\n",
      "훈련 레이블 크기 (y_train): (120,)\n",
      "테스트 레이블 크기 (y_test): (30,)\n"
     ]
    }
   ],
   "source": [
    "from sklearn.datasets import load_iris\n",
    "from sklearn.model_selection import train_test_split\n",
    "\n",
    "# Iris 데이터셋 로드\n",
    "iris = load_iris()\n",
    "X = iris.data  # 특성 데이터\n",
    "y = iris.target  # 레이블 데이터\n",
    "\n",
    "# 데이터 분할 (80% 훈련 데이터, 20% 테스트 데이터)\n",
    "X_train, X_test, y_train, y_test = train_test_split(X, y, test_size=0.2, random_state=42)\n",
    "\n",
    "# 분할된 데이터 크기 출력\n",
    "print(f\"훈련 데이터 크기 (X_train): {X_train.shape}\")\n",
    "print(f\"테스트 데이터 크기 (X_test): {X_test.shape}\")\n",
    "print(f\"훈련 레이블 크기 (y_train): {y_train.shape}\")\n",
    "print(f\"테스트 레이블 크기 (y_test): {y_test.shape}\")\n"
   ]
  },
  {
   "cell_type": "markdown",
   "id": "ae466e5a",
   "metadata": {},
   "source": [
    "## 1차/2차 분할"
   ]
  },
  {
   "cell_type": "code",
   "execution_count": null,
   "id": "4f974b65",
   "metadata": {},
   "outputs": [],
   "source": [
    "# 코드 설명:\n",
    "# 1차 분할: 전체 데이터의 80%를 훈련용, 20%를 테스트용으로 분할합니다.\n",
    "# 2차 분할: 훈련 데이터의 20%를 검증 데이터로 나누어 훈련과 검증에 각각 80%와 20%를 사용합니다.\n",
    "# 이렇게 하면 전체 데이터의 약 64%가 훈련에, 약 16%가 검증에, 20%가 테스트에 사용됩니다.\n",
    "# 이 코드를 실행하면 훈련 데이터, 검증 데이터, 테스트 데이터의 크기를 확인할 수 있습니다."
   ]
  },
  {
   "cell_type": "code",
   "execution_count": 15,
   "id": "8f56050c",
   "metadata": {},
   "outputs": [
    {
     "name": "stdout",
     "output_type": "stream",
     "text": [
      "훈련 데이터 크기 (X_train): (96, 4)\n",
      "검증 데이터 크기 (X_val): (24, 4)\n",
      "테스트 데이터 크기 (X_test): (30, 4)\n",
      "훈련 레이블 크기 (y_train): (96,)\n",
      "검증 레이블 크기 (y_val): (24,)\n",
      "테스트 레이블 크기 (y_test): (30,)\n"
     ]
    }
   ],
   "source": [
    "from sklearn.datasets import load_iris\n",
    "from sklearn.model_selection import train_test_split\n",
    "\n",
    "# Iris 데이터셋 로드\n",
    "iris = load_iris()\n",
    "X = iris.data  # 특성 데이터\n",
    "y = iris.target  # 레이블 데이터\n",
    "\n",
    "# 1차 분할: 80% 훈련 데이터, 20% 테스트 데이터\n",
    "X_train, X_test, y_train, y_test = train_test_split(X, y, test_size=0.2, random_state=42)\n",
    "\n",
    "# 2차 분할: 훈련 데이터의 20%를 검증 데이터로 분할 (훈련 데이터: 80%, 검증 데이터: 20%)\n",
    "X_train, X_val, y_train, y_val = train_test_split(X_train, y_train, test_size=0.2, random_state=42)\n",
    "\n",
    "# 데이터 크기 출력\n",
    "print(f\"훈련 데이터 크기 (X_train): {X_train.shape}\")\n",
    "print(f\"검증 데이터 크기 (X_val): {X_val.shape}\")\n",
    "print(f\"테스트 데이터 크기 (X_test): {X_test.shape}\")\n",
    "print(f\"훈련 레이블 크기 (y_train): {y_train.shape}\")\n",
    "print(f\"검증 레이블 크기 (y_val): {y_val.shape}\")\n",
    "print(f\"테스트 레이블 크기 (y_test): {y_test.shape}\")\n"
   ]
  },
  {
   "cell_type": "code",
   "execution_count": null,
   "id": "84654c20",
   "metadata": {},
   "outputs": [],
   "source": []
  },
  {
   "cell_type": "markdown",
   "id": "f1023e76",
   "metadata": {},
   "source": [
    "# Pipeline을 사용"
   ]
  },
  {
   "cell_type": "markdown",
   "id": "767cbfbf",
   "metadata": {},
   "source": [
    "## Pipeline"
   ]
  },
  {
   "cell_type": "code",
   "execution_count": null,
   "id": "f0caed0d",
   "metadata": {},
   "outputs": [],
   "source": [
    "# 파이썬 파이프라인을 사용하여 데이터를 처리하고 분할하는 과정은 머신러닝 모델링 과정에서 매우 유용합니다. \n",
    "# Pipeline을 사용하면 데이터 전처리 및 모델 훈련 단계를 연결하여 코드를 간결하고 효율적으로 관리할 수 있습니다. \n",
    "# 특히, 파이프라인을 사용하면 각 단계의 일관성을 유지하면서 데이터를 분할하고 처리할 수 있습니다."
   ]
  },
  {
   "cell_type": "code",
   "execution_count": null,
   "id": "658720df",
   "metadata": {},
   "outputs": [],
   "source": [
    "# 파이프라인의 장점:\n",
    "# 단계적 처리: 데이터 전처리 및 모델 훈련을 하나의 흐름으로 연결하여 처리할 수 있습니다.\n",
    "# 일관성: 데이터 전처리 과정이 모델 학습과 테스트에 일관되게 적용됩니다.\n",
    "# 코드 가독성: 각 단계를 파이프라인으로 정의함으로써 코드를 간결하게 관리할 수 있습니다."
   ]
  },
  {
   "cell_type": "markdown",
   "id": "bc274280",
   "metadata": {},
   "source": [
    "## 라이브러리"
   ]
  },
  {
   "cell_type": "code",
   "execution_count": 18,
   "id": "5fa95f25",
   "metadata": {},
   "outputs": [],
   "source": [
    "from sklearn.datasets import load_iris\n",
    "from sklearn.model_selection import train_test_split\n",
    "from sklearn.preprocessing import StandardScaler\n",
    "from sklearn.pipeline import Pipeline\n",
    "from sklearn.svm import SVC"
   ]
  },
  {
   "cell_type": "markdown",
   "id": "12e85f46",
   "metadata": {},
   "source": [
    "## 데이터 로드 및 분할"
   ]
  },
  {
   "cell_type": "code",
   "execution_count": null,
   "id": "9b19ad7b",
   "metadata": {},
   "outputs": [],
   "source": [
    "# load_iris()를 사용하여 Iris 데이터셋을 로드하고, train_test_split()을 통해 훈련 데이터와 테스트 데이터로 나눕니다.\n",
    "# test_size=0.2는 80%의 데이터를 훈련에, 20%를 테스트에 사용하겠다는 의미입니다.\n",
    "\n",
    "#파이프라인 구성:\n",
    "# Pipeline 객체는 여러 단계를 연결하여 데이터 처리와 모델링을 수행합니다. 여기서 파이프라인은 두 단계로 구성됩니다.\n",
    "# StandardScaler: 데이터를 표준화(평균 0, 표준편차 1)합니다.\n",
    "# SVC: 서포트 벡터 머신(SVM) 분류 모델을 적용합니다.\n",
    "\n",
    "# 파이프라인 학습:\n",
    "# pipeline.fit(X_train, y_train)을 통해 훈련 데이터를 기반으로 파이프라인을 학습시킵니다. \n",
    "# 이 과정에서 데이터는 자동으로 스케일링된 후 SVM 모델에 의해 학습됩니다.\n",
    "\n",
    "# 모델 평가:\n",
    "# pipeline.score(X_test, y_test)을 사용하여 테스트 데이터를 평가하고, 모델의 정확도를 출력합니다."
   ]
  },
  {
   "cell_type": "code",
   "execution_count": 21,
   "id": "9f4f2c52",
   "metadata": {},
   "outputs": [],
   "source": [
    "# 1. Iris 데이터셋 로드\n",
    "iris = load_iris()\n",
    "X = iris.data\n",
    "y = iris.target\n",
    "\n",
    "# 2. 훈련 데이터와 테스트 데이터로 분할 (80% 훈련, 20% 테스트)\n",
    "X_train, X_test, y_train, y_test = train_test_split(X, y, test_size=0.2, random_state=42)\n",
    "\n",
    "# 3. 파이프라인 구성 (StandardScaler로 데이터 스케일링 -> SVM 모델 적용)\n",
    "pipeline = Pipeline([\n",
    "    ('scaler', StandardScaler()),  # 데이터 스케일링\n",
    "    ('svm', SVC())  # SVM 모델\n",
    "])\n",
    "\n"
   ]
  },
  {
   "cell_type": "markdown",
   "id": "9509c199",
   "metadata": {},
   "source": [
    "## 훈련 및 평가"
   ]
  },
  {
   "cell_type": "code",
   "execution_count": 22,
   "id": "e817fbc4",
   "metadata": {},
   "outputs": [
    {
     "name": "stdout",
     "output_type": "stream",
     "text": [
      "테스트 데이터에서의 정확도: 1.00\n"
     ]
    }
   ],
   "source": [
    "# 4. 파이프라인을 사용하여 훈련\n",
    "pipeline.fit(X_train, y_train)\n",
    "\n",
    "# 5. 테스트 데이터로 모델 평가\n",
    "score = pipeline.score(X_test, y_test)\n",
    "print(f\"테스트 데이터에서의 정확도: {score:.2f}\")"
   ]
  },
  {
   "cell_type": "markdown",
   "id": "d48d9117",
   "metadata": {},
   "source": [
    "## 혼동 행렬 계산 및 시각화(추가)\n"
   ]
  },
  {
   "cell_type": "code",
   "execution_count": null,
   "id": "eb856bff",
   "metadata": {},
   "outputs": [],
   "source": [
    "# 데이터 로드 및 분할: train_test_split()을 통해 Iris 데이터셋을 훈련용과 테스트용으로 나눕니다.\n",
    "# 파이프라인 구성: Pipeline을 사용하여 데이터 스케일링(정규화)과 SVM 모델을 연결하여 처리합니다.\n",
    "# 모델 훈련 및 예측: pipeline.fit()으로 훈련한 후, 테스트 데이터에서 예측을 수행합니다.\n",
    "# 혼동 행렬 계산 및 시각화: confusion_matrix()를 사용해 혼동 행렬을 계산하고, seaborn 라이브러리로 이를 시각화합니다."
   ]
  },
  {
   "cell_type": "code",
   "execution_count": 20,
   "id": "f0621d4b",
   "metadata": {},
   "outputs": [
    {
     "data": {
      "image/png": "[encoded data removed]",
      "text/plain": [
       "<Figure size 800x600 with 2 Axes>"
      ]
     },
     "metadata": {},
     "output_type": "display_data"
    }
   ],
   "source": [
    "# 필요한 라이브러리와 데이터셋 로드\n",
    "from sklearn.datasets import load_iris\n",
    "from sklearn.model_selection import train_test_split\n",
    "from sklearn.preprocessing import StandardScaler\n",
    "from sklearn.pipeline import Pipeline\n",
    "from sklearn.svm import SVC\n",
    "from sklearn.metrics import confusion_matrix\n",
    "import seaborn as sns\n",
    "import matplotlib.pyplot as plt\n",
    "\n",
    "# 1. Iris 데이터셋 로드\n",
    "iris = load_iris()\n",
    "X = iris.data\n",
    "y = iris.target\n",
    "\n",
    "# 2. 훈련 데이터와 테스트 데이터로 분할 (80% 훈련, 20% 테스트)\n",
    "X_train, X_test, y_train, y_test = train_test_split(X, y, test_size=0.2, random_state=42)\n",
    "\n",
    "# 3. 파이프라인 구성 (StandardScaler로 데이터 스케일링 -> SVM 모델 적용)\n",
    "pipeline = Pipeline([\n",
    "    ('scaler', StandardScaler()),  # 데이터 스케일링\n",
    "    ('svm', SVC())  # SVM 모델\n",
    "])\n",
    "\n",
    "# 4. 파이프라인을 사용하여 훈련\n",
    "pipeline.fit(X_train, y_train)\n",
    "\n",
    "# 5. 테스트 데이터로 예측 수행\n",
    "y_pred = pipeline.predict(X_test)\n",
    "\n",
    "# 6. 혼동 행렬 계산\n",
    "cm = confusion_matrix(y_test, y_pred)\n",
    "\n",
    "# 7. 혼동 행렬 시각화\n",
    "plt.figure(figsize=(8, 6))\n",
    "sns.heatmap(cm, annot=True, fmt='d', cmap='Blues', xticklabels=iris.target_names, yticklabels=iris.target_names)\n",
    "plt.xlabel('Predicted')\n",
    "plt.ylabel('Actual')\n",
    "plt.title('Confusion Matrix')\n",
    "plt.show()\n"
   ]
  },
  {
   "cell_type": "code",
   "execution_count": null,
   "id": "ef9d5de2",
   "metadata": {},
   "outputs": [],
   "source": []
  },
  {
   "cell_type": "code",
   "execution_count": null,
   "id": "462288f8",
   "metadata": {},
   "outputs": [],
   "source": []
  },
  {
   "cell_type": "code",
   "execution_count": null,
   "id": "491d85b2",
   "metadata": {},
   "outputs": [],
   "source": []
  }
 ],
 "metadata": {
  "kernelspec": {
   "display_name": "Python 3 (ipykernel)",
   "language": "python",
   "name": "python3"
  },
  "language_info": {
   "codemirror_mode": {
    "name": "ipython",
    "version": 3
   },
   "file_extension": ".py",
   "mimetype": "text/x-python",
   "name": "python",
   "nbconvert_exporter": "python",
   "pygments_lexer": "ipython3",
   "version": "3.9.11"
  },
  "toc": {
   "base_numbering": 1,
   "nav_menu": {},
   "number_sections": true,
   "sideBar": true,
   "skip_h1_title": false,
   "title_cell": "Table of Contents",
   "title_sidebar": "Contents",
   "toc_cell": false,
   "toc_position": {},
   "toc_section_display": true,
   "toc_window_display": false
  }
 },
 "nbformat": 4,
 "nbformat_minor": 5
}
