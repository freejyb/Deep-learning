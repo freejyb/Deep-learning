{
 "cells": [
  {
   "cell_type": "code",
   "execution_count": null,
   "id": "e43fee0a",
   "metadata": {},
   "outputs": [],
   "source": [
    "#  논리 게이트인 AND 및 OR 연산을 구현하는 간단한 코드입니다.\n",
    "#  이 코드는 주어진 입력에 따라 AND와 OR 연산을 수행하고 결과를 출력하는 예제입니다."
   ]
  },
  {
   "cell_type": "markdown",
   "id": "65737b06",
   "metadata": {},
   "source": [
    "# 함수 정의"
   ]
  },
  {
   "cell_type": "markdown",
   "id": "3c190e69",
   "metadata": {},
   "source": [
    "## AND 게이트 함수 (AND_gate)"
   ]
  },
  {
   "cell_type": "code",
   "execution_count": null,
   "id": "24f5d8b2",
   "metadata": {},
   "outputs": [],
   "source": [
    "# 두 입력 값을 받아서 a and b를 반환합니다. \n",
    "# 둘 다 1일 때만 True(1)를 반환하며, 그렇지 않으면 False(0)를 반환합니다."
   ]
  },
  {
   "cell_type": "code",
   "execution_count": 22,
   "id": "1bbf2c02",
   "metadata": {},
   "outputs": [],
   "source": [
    "# AND 게이트 구현 함수\n",
    "def AND_gate(a, b):\n",
    "    return a and b"
   ]
  },
  {
   "cell_type": "markdown",
   "id": "8eb21ccc",
   "metadata": {},
   "source": [
    "## OR 게이트 함수 (OR_gate)"
   ]
  },
  {
   "cell_type": "code",
   "execution_count": 23,
   "id": "677b056a",
   "metadata": {},
   "outputs": [],
   "source": [
    "\n",
    "# 두 입력 값을 받아서 a or b를 반환합니다. 하나라도 1이면 True(1)를 반환하며, 둘 다 0일 때만 False(0)를 반환합니다."
   ]
  },
  {
   "cell_type": "code",
   "execution_count": 24,
   "id": "6b9742bb",
   "metadata": {},
   "outputs": [],
   "source": [
    "# OR 게이트 구현 함수\n",
    "def OR_gate(a, b):\n",
    "    return a or b\n"
   ]
  },
  {
   "cell_type": "markdown",
   "id": "399f5e83",
   "metadata": {},
   "source": [
    "# 입력 값 정의 (inputs)"
   ]
  },
  {
   "cell_type": "code",
   "execution_count": 25,
   "id": "726b08d9",
   "metadata": {},
   "outputs": [],
   "source": [
    "# AND 및 OR 게이트의 입력으로 사용할 (0, 0), (0, 1), (1, 0), (1, 1)을 리스트로 정의합니다."
   ]
  },
  {
   "cell_type": "code",
   "execution_count": 26,
   "id": "3060cb18",
   "metadata": {},
   "outputs": [],
   "source": [
    "# 테스트할 입력 값 정의 (0 또는 1)\n",
    "inputs = [(0, 0), (0, 1), (1, 0), (1, 1)]"
   ]
  },
  {
   "cell_type": "markdown",
   "id": "ea4256bd",
   "metadata": {},
   "source": [
    "# 결과 출력"
   ]
  },
  {
   "cell_type": "markdown",
   "id": "8f408e30",
   "metadata": {},
   "source": [
    "## AND 게이트 결과 출력"
   ]
  },
  {
   "cell_type": "code",
   "execution_count": 27,
   "id": "2cf09328",
   "metadata": {},
   "outputs": [
    {
     "name": "stdout",
     "output_type": "stream",
     "text": [
      "AND 게이트 결과:\n",
      "AND(0, 0) = 0\n",
      "AND(0, 1) = 0\n",
      "AND(1, 0) = 0\n",
      "AND(1, 1) = 1\n"
     ]
    }
   ],
   "source": [
    "\n",
    "print(\"AND 게이트 결과:\")\n",
    "for a, b in inputs:\n",
    "    print(f\"AND({a}, {b}) = {AND_gate(a, b)}\")\n"
   ]
  },
  {
   "cell_type": "markdown",
   "id": "dcc06778",
   "metadata": {},
   "source": [
    "## OR 게이트 결과 출력"
   ]
  },
  {
   "cell_type": "code",
   "execution_count": 28,
   "id": "16254ecd",
   "metadata": {},
   "outputs": [
    {
     "name": "stdout",
     "output_type": "stream",
     "text": [
      "\n",
      "OR 게이트 결과:\n",
      "OR(0, 0) = 0\n",
      "OR(0, 1) = 1\n",
      "OR(1, 0) = 1\n",
      "OR(1, 1) = 1\n"
     ]
    }
   ],
   "source": [
    "print(\"\\nOR 게이트 결과:\")\n",
    "for a, b in inputs:\n",
    "    print(f\"OR({a}, {b}) = {OR_gate(a, b)}\")"
   ]
  },
  {
   "cell_type": "markdown",
   "id": "96718657",
   "metadata": {},
   "source": [
    "# XOR (Exclusive OR) 논리 게이트"
   ]
  },
  {
   "cell_type": "code",
   "execution_count": null,
   "id": "98741b73",
   "metadata": {},
   "outputs": [],
   "source": [
    "# XOR 게이트 함수 (XOR_gate):\n",
    "\n",
    "# XOR 게이트는 두 입력 값이 다를 때만 True(1)를 반환합니다. 이를 c or d와 not (c and d)를 사용하여 표현할 수 있습니다.\n",
    "# XOR 논리는 다음과 같이 작동합니다:\n",
    "# 두 입력 중 하나만 True(1)이고, 다른 하나는 False(0)일 때만 True(1)가 반환됩니다.\n",
    "# 입력이 모두 같으면 False(0)가 반환됩니다"
   ]
  },
  {
   "cell_type": "code",
   "execution_count": null,
   "id": "e6e82a1e",
   "metadata": {},
   "outputs": [],
   "source": [
    "# 입력 값 정의 (inputs):\n",
    "\n",
    "# XOR 게이트의 입력으로 사용할 (0, 0), (0, 1), (1, 0), (1, 1)을 리스트로 정의합니다.\n",
    "# 결과 출력:\n",
    "\n",
    "# 각 입력에 대해 XOR 게이트의 결과를 출력합니다."
   ]
  },
  {
   "cell_type": "code",
   "execution_count": 32,
   "id": "7117e551",
   "metadata": {},
   "outputs": [
    {
     "name": "stdout",
     "output_type": "stream",
     "text": [
      "XOR 게이트 결과:\n",
      "XOR(0, 0) = 0\n",
      "XOR(0, 1) = True\n",
      "XOR(1, 0) = True\n",
      "XOR(1, 1) = False\n"
     ]
    }
   ],
   "source": [
    "# XOR 게이트 구현 함수\n",
    "def XOR_gate(c, d):\n",
    "    return (c or d) and not (c and d)\n",
    "\n",
    "# 테스트할 입력 값 정의 (0 또는 1)\n",
    "inputs = [(0, 0), (0, 1), (1, 0), (1, 1)]\n",
    "\n",
    "# XOR 게이트 결과 출력\n",
    "print(\"XOR 게이트 결과:\")\n",
    "for c, d in inputs:\n",
    "    print(f\"XOR({c}, {d}) = {XOR_gate(c, d)}\")\n"
   ]
  },
  {
   "cell_type": "code",
   "execution_count": null,
   "id": "d3fee461",
   "metadata": {},
   "outputs": [],
   "source": []
  }
 ],
 "metadata": {
  "kernelspec": {
   "display_name": "Python 3 (ipykernel)",
   "language": "python",
   "name": "python3"
  },
  "language_info": {
   "codemirror_mode": {
    "name": "ipython",
    "version": 3
   },
   "file_extension": ".py",
   "mimetype": "text/x-python",
   "name": "python",
   "nbconvert_exporter": "python",
   "pygments_lexer": "ipython3",
   "version": "3.9.11"
  },
  "toc": {
   "base_numbering": 1,
   "nav_menu": {},
   "number_sections": true,
   "sideBar": true,
   "skip_h1_title": false,
   "title_cell": "Table of Contents",
   "title_sidebar": "Contents",
   "toc_cell": false,
   "toc_position": {},
   "toc_section_display": true,
   "toc_window_display": false
  }
 },
 "nbformat": 4,
 "nbformat_minor": 5
}
