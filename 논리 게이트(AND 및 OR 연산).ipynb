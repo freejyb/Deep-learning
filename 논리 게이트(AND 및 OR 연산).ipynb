{
 "cells": [
  {
   "cell_type": "code",
   "execution_count": null,
   "id": "e43fee0a",
   "metadata": {},
   "outputs": [],
   "source": [
    "#  논리 게이트인 AND 및 OR 연산을 구현하는 간단한 코드입니다.\n",
    "#  이 코드는 주어진 입력에 따라 AND와 OR 연산을 수행하고 결과를 출력하는 예제입니다."
   ]
  },
  {
   "cell_type": "markdown",
   "id": "65737b06",
   "metadata": {},
   "source": [
    "# 함수 정의"
   ]
  },
  {
   "cell_type": "markdown",
   "id": "3c190e69",
   "metadata": {},
   "source": [
    "## AND 게이트 함수 (AND_gate)"
   ]
  },
  {
   "cell_type": "code",
   "execution_count": null,
   "id": "24f5d8b2",
   "metadata": {},
   "outputs": [],
   "source": [
    "# 두 입력 값을 받아서 a and b를 반환합니다. \n",
    "# 둘 다 1일 때만 True(1)를 반환하며, 그렇지 않으면 False(0)를 반환합니다."
   ]
  },
  {
   "cell_type": "code",
   "execution_count": 22,
   "id": "1bbf2c02",
   "metadata": {},
   "outputs": [],
   "source": [
    "# AND 게이트 구현 함수\n",
    "def AND_gate(a, b):\n",
    "    return a and b"
   ]
  },
  {
   "cell_type": "markdown",
   "id": "8eb21ccc",
   "metadata": {},
   "source": [
    "## OR 게이트 함수 (OR_gate)"
   ]
  },
  {
   "cell_type": "code",
   "execution_count": 23,
   "id": "677b056a",
   "metadata": {},
   "outputs": [],
   "source": [
    "\n",
    "# 두 입력 값을 받아서 a or b를 반환합니다. 하나라도 1이면 True(1)를 반환하며, 둘 다 0일 때만 False(0)를 반환합니다."
   ]
  },
  {
   "cell_type": "code",
   "execution_count": 24,
   "id": "6b9742bb",
   "metadata": {},
   "outputs": [],
   "source": [
    "# OR 게이트 구현 함수\n",
    "def OR_gate(a, b):\n",
    "    return a or b\n"
   ]
  },
  {
   "cell_type": "markdown",
   "id": "399f5e83",
   "metadata": {},
   "source": [
    "# 입력 값 정의 (inputs)"
   ]
  },
  {
   "cell_type": "code",
   "execution_count": 25,
   "id": "726b08d9",
   "metadata": {},
   "outputs": [],
   "source": [
    "# AND 및 OR 게이트의 입력으로 사용할 (0, 0), (0, 1), (1, 0), (1, 1)을 리스트로 정의합니다."
   ]
  },
  {
   "cell_type": "code",
   "execution_count": 26,
   "id": "3060cb18",
   "metadata": {},
   "outputs": [],
   "source": [
    "# 테스트할 입력 값 정의 (0 또는 1)\n",
    "inputs = [(0, 0), (0, 1), (1, 0), (1, 1)]"
   ]
  },
  {
   "cell_type": "markdown",
   "id": "ea4256bd",
   "metadata": {},
   "source": [
    "# 결과 출력"
   ]
  },
  {
   "cell_type": "markdown",
   "id": "8f408e30",
   "metadata": {},
   "source": [
    "## AND 게이트 결과 출력"
   ]
  },
  {
   "cell_type": "code",
   "execution_count": 27,
   "id": "2cf09328",
   "metadata": {},
   "outputs": [
    {
     "name": "stdout",
     "output_type": "stream",
     "text": [
      "AND 게이트 결과:\n",
      "AND(0, 0) = 0\n",
      "AND(0, 1) = 0\n",
      "AND(1, 0) = 0\n",
      "AND(1, 1) = 1\n"
     ]
    }
   ],
   "source": [
    "\n",
    "print(\"AND 게이트 결과:\")\n",
    "for a, b in inputs:\n",
    "    print(f\"AND({a}, {b}) = {AND_gate(a, b)}\")\n"
   ]
  },
  {
   "cell_type": "markdown",
   "id": "dcc06778",
   "metadata": {},
   "source": [
    "## OR 게이트 결과 출력"
   ]
  },
  {
   "cell_type": "code",
   "execution_count": 28,
   "id": "16254ecd",
   "metadata": {},
   "outputs": [
    {
     "name": "stdout",
     "output_type": "stream",
     "text": [
      "\n",
      "OR 게이트 결과:\n",
      "OR(0, 0) = 0\n",
      "OR(0, 1) = 1\n",
      "OR(1, 0) = 1\n",
      "OR(1, 1) = 1\n"
     ]
    }
   ],
   "source": [
    "print(\"\\nOR 게이트 결과:\")\n",
    "for a, b in inputs:\n",
    "    print(f\"OR({a}, {b}) = {OR_gate(a, b)}\")"
   ]
  },
  {
   "cell_type": "markdown",
   "id": "96718657",
   "metadata": {},
   "source": [
    "# XOR (Exclusive OR) 논리 게이트"
   ]
  },
  {
   "cell_type": "code",
   "execution_count": null,
   "id": "98741b73",
   "metadata": {},
   "outputs": [],
   "source": [
    "# XOR 게이트 함수 (XOR_gate):\n",
    "\n",
    "# XOR 게이트는 두 입력 값이 다를 때만 True(1)를 반환합니다. 이를 c or d와 not (c and d)를 사용하여 표현할 수 있습니다.\n",
    "# XOR 논리는 다음과 같이 작동합니다:\n",
    "# 두 입력 중 하나만 True(1)이고, 다른 하나는 False(0)일 때만 True(1)가 반환됩니다.\n",
    "# 입력이 모두 같으면 False(0)가 반환됩니다"
   ]
  },
  {
   "cell_type": "code",
   "execution_count": null,
   "id": "e6e82a1e",
   "metadata": {},
   "outputs": [],
   "source": [
    "# 입력 값 정의 (inputs):\n",
    "\n",
    "# XOR 게이트의 입력으로 사용할 (0, 0), (0, 1), (1, 0), (1, 1)을 리스트로 정의합니다.\n",
    "# 결과 출력:\n",
    "\n",
    "# 각 입력에 대해 XOR 게이트의 결과를 출력합니다."
   ]
  },
  {
   "cell_type": "code",
   "execution_count": 32,
   "id": "7117e551",
   "metadata": {},
   "outputs": [
    {
     "name": "stdout",
     "output_type": "stream",
     "text": [
      "XOR 게이트 결과:\n",
      "XOR(0, 0) = 0\n",
      "XOR(0, 1) = True\n",
      "XOR(1, 0) = True\n",
      "XOR(1, 1) = False\n"
     ]
    }
   ],
   "source": [
    "# XOR 게이트 구현 함수\n",
    "def XOR_gate(c, d):\n",
    "    return (c or d) and not (c and d)\n",
    "\n",
    "# 테스트할 입력 값 정의 (0 또는 1)\n",
    "inputs = [(0, 0), (0, 1), (1, 0), (1, 1)]\n",
    "\n",
    "# XOR 게이트 결과 출력\n",
    "print(\"XOR 게이트 결과:\")\n",
    "for c, d in inputs:\n",
    "    print(f\"XOR({c}, {d}) = {XOR_gate(c, d)}\")\n"
   ]
  },
  {
   "cell_type": "code",
   "execution_count": null,
   "id": "d3fee461",
   "metadata": {},
   "outputs": [],
   "source": []
  },
  {
   "cell_type": "markdown",
   "id": "def6a09a",
   "metadata": {},
   "source": [
    "# 퍼셉트론(Perceptron)"
   ]
  },
  {
   "cell_type": "markdown",
   "id": "4278287a",
   "metadata": {},
   "source": [
    "## 라이브러리"
   ]
  },
  {
   "cell_type": "code",
   "execution_count": 35,
   "id": "7205a923",
   "metadata": {},
   "outputs": [],
   "source": [
    "import numpy as np"
   ]
  },
  {
   "cell_type": "markdown",
   "id": "23e2a8b9",
   "metadata": {},
   "source": [
    "## Perceptron 클래스"
   ]
  },
  {
   "cell_type": "code",
   "execution_count": 36,
   "id": "d22f07da",
   "metadata": {},
   "outputs": [],
   "source": [
    "# 퍼셉트론 클래스는 기본적으로 가중치, 학습률, 에포크 수를 초기화합니다.\n",
    "# activation_function: 활성화 함수는 간단한 **계단 함수(step function)**를 사용합니다. 입력 값이 0보다 크거나 같으면 1을 반환하고, 그렇지 않으면 0을 반환합니다.\n",
    "# predict: 입력 값에 대한 예측을 수행하며, 가중치와 입력 값의 내적(dot product)을 계산하여 활성화 함수에 적용합니다.\n",
    "# train: 학습 데이터셋에 대해 경사 하강법을 사용해 가중치를 업데이트합니다. 각 에포크마다 입력 값을 기반으로 가중치를 조정하며 학습합니다."
   ]
  },
  {
   "cell_type": "code",
   "execution_count": 41,
   "id": "15fca738",
   "metadata": {},
   "outputs": [],
   "source": [
    "# 퍼셉트론 클래스 정의\n",
    "class Perceptron:\n",
    "    def __init__(self, input_size, learning_rate=0.1, epochs=100):\n",
    "        self.weights = np.zeros(input_size + 1)  # 가중치 초기화 (입력 크기 + 1: 편향 추가)\n",
    "        self.learning_rate = learning_rate\n",
    "        self.epochs = epochs\n",
    "\n",
    "    def activation_function(self, x):\n",
    "        return 1 if x >= 0 else 0  # 계단 함수 (threshold)\n",
    "\n",
    "    def predict(self, x):\n",
    "        # 가중치와 입력의 내적에 편향을 더함\n",
    "        z = np.dot(x, self.weights[1:]) + self.weights[0]\n",
    "        return self.activation_function(z)\n",
    "\n",
    "    def train(self, training_inputs, labels):\n",
    "        for _ in range(self.epochs):\n",
    "            for inputs, label in zip(training_inputs, labels):\n",
    "                prediction = self.predict(inputs)\n",
    "                # 가중치 업데이트: w = w + learning_rate * (실제값 - 예측값) * 입력\n",
    "                self.weights[1:] += self.learning_rate * (label - prediction) * inputs\n",
    "                self.weights[0] += self.learning_rate * (label - prediction)  # 편향 업데이트"
   ]
  },
  {
   "cell_type": "markdown",
   "id": "440b195a",
   "metadata": {},
   "source": [
    "## XOR 문제 데이터셋 정의"
   ]
  },
  {
   "cell_type": "code",
   "execution_count": 42,
   "id": "a6a92072",
   "metadata": {},
   "outputs": [],
   "source": [
    "# inputs: XOR 문제에 대한 입력 값으로, 0과 1의 조합으로 이루어집니다.\n",
    "# labels: XOR 문제의 실제 결과 (레이블)입니다."
   ]
  },
  {
   "cell_type": "code",
   "execution_count": 43,
   "id": "da519b0f",
   "metadata": {},
   "outputs": [],
   "source": [
    "inputs = np.array([[0, 0], [0, 1], [1, 0], [1, 1]])\n",
    "labels = np.array([0, 1, 1, 0])  # XOR 문제의 실제 레이블"
   ]
  },
  {
   "cell_type": "markdown",
   "id": "3d28fbe7",
   "metadata": {},
   "source": [
    "## 퍼셉트론 객체 생성 및 학습"
   ]
  },
  {
   "cell_type": "code",
   "execution_count": 44,
   "id": "44e6b678",
   "metadata": {},
   "outputs": [],
   "source": [
    "# 퍼셉트론 객체를 생성하고, 입력 값과 레이블을 사용하여 학습을 진행합니다."
   ]
  },
  {
   "cell_type": "code",
   "execution_count": 45,
   "id": "9f623294",
   "metadata": {},
   "outputs": [],
   "source": [
    "# 퍼셉트론 객체 생성 및 학습\n",
    "perceptron = Perceptron(input_size=2)\n",
    "\n",
    "# 퍼셉트론 학습\n",
    "perceptron.train(inputs, labels)\n"
   ]
  },
  {
   "cell_type": "markdown",
   "id": "3ae7cdb8",
   "metadata": {},
   "source": [
    "## 결과 출력"
   ]
  },
  {
   "cell_type": "code",
   "execution_count": 46,
   "id": "9e76d0eb",
   "metadata": {},
   "outputs": [],
   "source": [
    "# 학습이 완료된 후 각 입력 값에 대한 예측 결과를 출력합니다."
   ]
  },
  {
   "cell_type": "code",
   "execution_count": 47,
   "id": "d3816c0b",
   "metadata": {},
   "outputs": [
    {
     "name": "stdout",
     "output_type": "stream",
     "text": [
      "학습 후 결과:\n",
      "입력: [0 0], 실제 값: 0, 예측 값: 1\n",
      "입력: [0 1], 실제 값: 1, 예측 값: 1\n",
      "입력: [1 0], 실제 값: 1, 예측 값: 0\n",
      "입력: [1 1], 실제 값: 0, 예측 값: 0\n"
     ]
    }
   ],
   "source": [
    "print(\"학습 후 결과:\")\n",
    "for input_val, label in zip(inputs, labels):\n",
    "    prediction = perceptron.predict(input_val)\n",
    "    print(f\"입력: {input_val}, 실제 값: {label}, 예측 값: {prediction}\")\n"
   ]
  },
  {
   "cell_type": "code",
   "execution_count": null,
   "id": "6532fe5a",
   "metadata": {},
   "outputs": [],
   "source": [
    "# 출력 결과 (단일 퍼셉트론으로는 XOR 문제를 해결할 수 없음)\n",
    "\n",
    "# 다층 퍼셉트론(Multi-Layer Perceptron, MLP)을 사용해야 하는 이유\n",
    "# 단일 퍼셉트론은 XOR 문제와 같은 비선형 문제를 해결할 수 없습니다. \n",
    "# XOR 문제는 선형적으로 분리되지 않기 때문에, 다층 퍼셉트론(MLP)을 사용해야 해결할 수 있습니다.\n",
    "# MLP는 은닉층(hidden layers)을 추가하여 비선형 문제를 해결할 수 있습니다."
   ]
  },
  {
   "cell_type": "code",
   "execution_count": null,
   "id": "32105784",
   "metadata": {},
   "outputs": [],
   "source": []
  },
  {
   "cell_type": "code",
   "execution_count": 48,
   "id": "c4ea9277",
   "metadata": {},
   "outputs": [],
   "source": [
    "## 코드 종합"
   ]
  },
  {
   "cell_type": "code",
   "execution_count": 49,
   "id": "a09bf2eb",
   "metadata": {},
   "outputs": [
    {
     "name": "stdout",
     "output_type": "stream",
     "text": [
      "학습 후 결과:\n",
      "입력: [0 0], 실제 값: 0, 예측 값: 1\n",
      "입력: [0 1], 실제 값: 1, 예측 값: 1\n",
      "입력: [1 0], 실제 값: 1, 예측 값: 0\n",
      "입력: [1 1], 실제 값: 0, 예측 값: 0\n"
     ]
    }
   ],
   "source": [
    "import numpy as np\n",
    "\n",
    "# 퍼셉트론 클래스 정의\n",
    "class Perceptron:\n",
    "    def __init__(self, input_size, learning_rate=0.1, epochs=100):\n",
    "        self.weights = np.zeros(input_size + 1)  # 가중치 초기화 (입력 크기 + 1: 편향 추가)\n",
    "        self.learning_rate = learning_rate\n",
    "        self.epochs = epochs\n",
    "\n",
    "    def activation_function(self, x):\n",
    "        return 1 if x >= 0 else 0  # 계단 함수 (threshold)\n",
    "\n",
    "    def predict(self, x):\n",
    "        # 가중치와 입력의 내적에 편향을 더함\n",
    "        z = np.dot(x, self.weights[1:]) + self.weights[0]\n",
    "        return self.activation_function(z)\n",
    "\n",
    "    def train(self, training_inputs, labels):\n",
    "        for _ in range(self.epochs):\n",
    "            for inputs, label in zip(training_inputs, labels):\n",
    "                prediction = self.predict(inputs)\n",
    "                # 가중치 업데이트: w = w + learning_rate * (실제값 - 예측값) * 입력\n",
    "                self.weights[1:] += self.learning_rate * (label - prediction) * inputs\n",
    "                self.weights[0] += self.learning_rate * (label - prediction)  # 편향 업데이트\n",
    "\n",
    "# XOR 문제 데이터셋 정의\n",
    "inputs = np.array([[0, 0], [0, 1], [1, 0], [1, 1]])\n",
    "labels = np.array([0, 1, 1, 0])  # XOR 문제의 실제 레이블\n",
    "\n",
    "# 퍼셉트론 객체 생성\n",
    "perceptron = Perceptron(input_size=2)\n",
    "\n",
    "# 퍼셉트론 학습\n",
    "perceptron.train(inputs, labels)\n",
    "\n",
    "# 학습 후 결과 출력\n",
    "print(\"학습 후 결과:\")\n",
    "for input_val, label in zip(inputs, labels):\n",
    "    prediction = perceptron.predict(input_val)\n",
    "    print(f\"입력: {input_val}, 실제 값: {label}, 예측 값: {prediction}\")\n"
   ]
  },
  {
   "cell_type": "code",
   "execution_count": null,
   "id": "120c9b47",
   "metadata": {},
   "outputs": [],
   "source": []
  }
 ],
 "metadata": {
  "kernelspec": {
   "display_name": "Python 3 (ipykernel)",
   "language": "python",
   "name": "python3"
  },
  "language_info": {
   "codemirror_mode": {
    "name": "ipython",
    "version": 3
   },
   "file_extension": ".py",
   "mimetype": "text/x-python",
   "name": "python",
   "nbconvert_exporter": "python",
   "pygments_lexer": "ipython3",
   "version": "3.9.11"
  },
  "toc": {
   "base_numbering": 1,
   "nav_menu": {},
   "number_sections": true,
   "sideBar": true,
   "skip_h1_title": false,
   "title_cell": "Table of Contents",
   "title_sidebar": "Contents",
   "toc_cell": false,
   "toc_position": {},
   "toc_section_display": true,
   "toc_window_display": false
  }
 },
 "nbformat": 4,
 "nbformat_minor": 5
}
