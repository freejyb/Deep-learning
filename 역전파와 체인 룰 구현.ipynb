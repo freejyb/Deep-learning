{
 "cells": [
  {
   "cell_type": "markdown",
   "id": "98855cb3",
   "metadata": {},
   "source": [
    "# 역전파와 체인 룰 구현"
   ]
  },
  {
   "cell_type": "markdown",
   "id": "19b58a1a",
   "metadata": {},
   "source": [
    "## 라이브러리"
   ]
  },
  {
   "cell_type": "code",
   "execution_count": 2,
   "id": "040ef4e5",
   "metadata": {},
   "outputs": [],
   "source": [
    "import numpy as np"
   ]
  },
  {
   "cell_type": "markdown",
   "id": "b0821765",
   "metadata": {},
   "source": [
    "## 함수 정의"
   ]
  },
  {
   "cell_type": "code",
   "execution_count": 3,
   "id": "805abc96",
   "metadata": {},
   "outputs": [],
   "source": [
    "# 시그모이드 함수 정의\n",
    "def sigmoid(x):\n",
    "    return 1 / (1 + np.exp(-x))\n",
    "\n",
    "# 시그모이드 함수의 도함수\n",
    "def sigmoid_derivative(x):\n",
    "    return sigmoid(x) * (1 - sigmoid(x))\n"
   ]
  },
  {
   "cell_type": "markdown",
   "id": "54431e83",
   "metadata": {},
   "source": [
    "## 입력 값과 정답 값 정의"
   ]
  },
  {
   "cell_type": "code",
   "execution_count": 4,
   "id": "3f0755a7",
   "metadata": {},
   "outputs": [],
   "source": [
    "x = np.array([0.5])  # 입력 값\n",
    "y_true = np.array([1])  # 실제 출력\n",
    "\n",
    "# 가중치와 편향 초기화\n",
    "W1 = np.array([0.4])  # 첫 번째 층의 가중치\n",
    "b1 = np.array([0.1])  # 첫 번째 층의 편향\n",
    "W2 = np.array([0.8])  # 두 번째 층의 가중치\n",
    "b2 = np.array([0.2])  # 두 번째 층의 편향"
   ]
  },
  {
   "cell_type": "markdown",
   "id": "00ddb51d",
   "metadata": {},
   "source": [
    "## 순전파와 손실함수"
   ]
  },
  {
   "cell_type": "code",
   "execution_count": 5,
   "id": "a1f40189",
   "metadata": {},
   "outputs": [],
   "source": [
    "# 손실 함수:실제 값 𝑦true 와 예측 값 𝑦pred  간의 차이를 **MSE(Mean Squared Error)**로 계산"
   ]
  },
  {
   "cell_type": "code",
   "execution_count": 6,
   "id": "d237aeb4",
   "metadata": {},
   "outputs": [],
   "source": [
    "# 순전파 (forward propagation)\n",
    "z1 = W1 * x + b1\n",
    "a1 = sigmoid(z1)\n",
    "\n",
    "z2 = W2 * a1 + b2\n",
    "y_pred = sigmoid(z2)\n",
    "\n",
    "# 손실 함수 (교차 엔트로피의 간단한 형태)\n",
    "loss = 0.5 * (y_true - y_pred) ** 2  # Mean Squared Error (MSE)\n"
   ]
  },
  {
   "cell_type": "markdown",
   "id": "06a170d8",
   "metadata": {},
   "source": [
    "## 역전파(backpropagation)"
   ]
  },
  {
   "cell_type": "code",
   "execution_count": 7,
   "id": "4873a730",
   "metadata": {},
   "outputs": [],
   "source": [
    "# 역전파(backpropagation):\n",
    "\n",
    "# 출력층에서 손실에 대한 예측값의 기울기를 계산하고, \n",
    "# 체인 룰을 적용하여 각 가중치 𝑊1 과 𝑊2 에 대한 기울기를 계산합니다.\n",
    "# 이때 체인 룰을 통해 각 층을 거쳐서 역으로 기울기를 계산해 나갑니다."
   ]
  },
  {
   "cell_type": "code",
   "execution_count": 8,
   "id": "b7612672",
   "metadata": {},
   "outputs": [],
   "source": [
    "##  역전파 (backpropagation) - 체인 룰 적용\n",
    "\n",
    "# 복합함수 미분\n",
    "# 복합 함수에서는 내부 함수가 바깥 함수의 입력으로 사용됩니다. 𝑓(𝑔(𝑥))\n",
    "# 즉, 한 함수의 출력이 다른 함수의 입력이 되는 연쇄적 관계가 있기 때문에, 각각의 변화율이 다음 함수의 변화율에 영향을 미칩니다.\n",
    "\n",
    "# 최종적으로 𝑓(𝑔(𝑥))를 𝑥에 대해 미분하려면, 체인 룰을 사용해야 합니다. \n",
    "# 이는 𝑓의 변화율이 𝑔(𝑥)에 의존하고, 𝑔(𝑥)의 변화율이 𝑥에 의존하므로, 두 변화율을 곱해줘야 한다는 것을 의미합니다."
   ]
  },
  {
   "cell_type": "code",
   "execution_count": 9,
   "id": "cceb1d98",
   "metadata": {},
   "outputs": [],
   "source": [
    "# 1. 출력층에서의 오차 기울기\n",
    "d_loss_y_pred = -(y_true - y_pred)\n",
    "\n",
    "# 2. 출력층에서의 z2에 대한 기울기 (체인 룰)\n",
    "d_z2 = d_loss_y_pred * sigmoid_derivative(z2)\n",
    "\n",
    "# 3. 가중치 W2에 대한 기울기\n",
    "d_W2 = d_z2 * a1\n",
    "\n",
    "# 4. 은닉층에서의 z1에 대한 기울기 (체인 룰 적용)\n",
    "d_a1 = d_z2 * W2\n",
    "d_z1 = d_a1 * sigmoid_derivative(z1)\n",
    "\n",
    "# 5. 가중치 W1에 대한 기울기\n",
    "d_W1 = d_z1 * x"
   ]
  },
  {
   "cell_type": "markdown",
   "id": "e5176ba4",
   "metadata": {},
   "source": [
    "## 결과 출력"
   ]
  },
  {
   "cell_type": "code",
   "execution_count": 10,
   "id": "ce069bbb",
   "metadata": {},
   "outputs": [
    {
     "name": "stdout",
     "output_type": "stream",
     "text": [
      "손실: [0.05808589]\n",
      "출력층에서의 W2에 대한 기울기: [-0.0439884]\n",
      "은닉층에서의 W1에 대한 기울기: [-0.00748784]\n"
     ]
    }
   ],
   "source": [
    "\n",
    "# 결과 출력\n",
    "print(f\"손실: {loss}\")\n",
    "print(f\"출력층에서의 W2에 대한 기울기: {d_W2}\")\n",
    "print(f\"은닉층에서의 W1에 대한 기울기: {d_W1}\")\n"
   ]
  },
  {
   "cell_type": "code",
   "execution_count": null,
   "id": "3212c901",
   "metadata": {},
   "outputs": [],
   "source": [
    "# 코드가 실행되면 각 가중치𝑊1 과 𝑊2 에 대한 기울기를 출력하여, 어떻게 가중치가 업데이트되어야 하는지 알 수 있습니다."
   ]
  },
  {
   "cell_type": "code",
   "execution_count": null,
   "id": "45d1967e",
   "metadata": {},
   "outputs": [],
   "source": []
  },
  {
   "cell_type": "markdown",
   "id": "4591cd65",
   "metadata": {},
   "source": [
    "# 코드 종합"
   ]
  },
  {
   "cell_type": "code",
   "execution_count": 1,
   "id": "0b1617b2",
   "metadata": {},
   "outputs": [
    {
     "name": "stdout",
     "output_type": "stream",
     "text": [
      "손실: [0.05808589]\n",
      "출력층에서의 W2에 대한 기울기: [-0.0439884]\n",
      "은닉층에서의 W1에 대한 기울기: [-0.00748784]\n"
     ]
    }
   ],
   "source": [
    "import numpy as np\n",
    "\n",
    "# 시그모이드 함수 정의\n",
    "def sigmoid(x):\n",
    "    return 1 / (1 + np.exp(-x))\n",
    "\n",
    "# 시그모이드 함수의 도함수\n",
    "def sigmoid_derivative(x):\n",
    "    return sigmoid(x) * (1 - sigmoid(x))\n",
    "\n",
    "# 입력 값과 정답 값 정의\n",
    "x = np.array([0.5])  # 입력 값\n",
    "y_true = np.array([1])  # 실제 출력\n",
    "\n",
    "# 가중치와 편향 초기화\n",
    "W1 = np.array([0.4])  # 첫 번째 층의 가중치\n",
    "b1 = np.array([0.1])  # 첫 번째 층의 편향\n",
    "W2 = np.array([0.8])  # 두 번째 층의 가중치\n",
    "b2 = np.array([0.2])  # 두 번째 층의 편향\n",
    "\n",
    "# 순전파 (forward propagation)\n",
    "z1 = W1 * x + b1\n",
    "a1 = sigmoid(z1)\n",
    "\n",
    "z2 = W2 * a1 + b2\n",
    "y_pred = sigmoid(z2)\n",
    "\n",
    "# 손실 함수 (교차 엔트로피의 간단한 형태)\n",
    "loss = 0.5 * (y_true - y_pred) ** 2  # Mean Squared Error (MSE)\n",
    "\n",
    "# 역전파 (backpropagation) - 체인 룰 적용\n",
    "\n",
    "# 1. 출력층에서의 오차 기울기\n",
    "d_loss_y_pred = -(y_true - y_pred)\n",
    "\n",
    "# 2. 출력층에서의 z2에 대한 기울기 (체인 룰)\n",
    "d_z2 = d_loss_y_pred * sigmoid_derivative(z2)\n",
    "\n",
    "# 3. 가중치 W2에 대한 기울기\n",
    "d_W2 = d_z2 * a1\n",
    "\n",
    "# 4. 은닉층에서의 z1에 대한 기울기 (체인 룰 적용)\n",
    "d_a1 = d_z2 * W2\n",
    "d_z1 = d_a1 * sigmoid_derivative(z1)\n",
    "\n",
    "# 5. 가중치 W1에 대한 기울기\n",
    "d_W1 = d_z1 * x\n",
    "\n",
    "# 결과 출력\n",
    "print(f\"손실: {loss}\")\n",
    "print(f\"출력층에서의 W2에 대한 기울기: {d_W2}\")\n",
    "print(f\"은닉층에서의 W1에 대한 기울기: {d_W1}\")\n"
   ]
  },
  {
   "cell_type": "code",
   "execution_count": null,
   "id": "60db8a16",
   "metadata": {},
   "outputs": [],
   "source": []
  },
  {
   "cell_type": "code",
   "execution_count": null,
   "id": "05600b27",
   "metadata": {},
   "outputs": [],
   "source": []
  },
  {
   "cell_type": "code",
   "execution_count": null,
   "id": "16f37ac0",
   "metadata": {},
   "outputs": [],
   "source": []
  }
 ],
 "metadata": {
  "kernelspec": {
   "display_name": "Python 3 (ipykernel)",
   "language": "python",
   "name": "python3"
  },
  "language_info": {
   "codemirror_mode": {
    "name": "ipython",
    "version": 3
   },
   "file_extension": ".py",
   "mimetype": "text/x-python",
   "name": "python",
   "nbconvert_exporter": "python",
   "pygments_lexer": "ipython3",
   "version": "3.9.11"
  },
  "toc": {
   "base_numbering": 1,
   "nav_menu": {},
   "number_sections": true,
   "sideBar": true,
   "skip_h1_title": false,
   "title_cell": "Table of Contents",
   "title_sidebar": "Contents",
   "toc_cell": false,
   "toc_position": {},
   "toc_section_display": true,
   "toc_window_display": false
  }
 },
 "nbformat": 4,
 "nbformat_minor": 5
}
